{
 "cells": [
  {
   "cell_type": "markdown",
   "metadata": {},
   "source": [
    " ## Plan Analysis for Megaline telecom operator"
   ]
  },
  {
   "cell_type": "markdown",
   "metadata": {},
   "source": [
    "## Introduction"
   ]
  },
  {
   "cell_type": "markdown",
   "metadata": {},
   "source": [
    " ### This is Staistical data analysis for different plans for Megaline telecom operator. In today's competitive telecom market, understanding which prepaid plans generate the most profit is crucial for effective marketing and resource allocation. This project aims to analyze the profitability of two prepaid plans offered by Megaline: Surf and Ultimate. By determining which plan yields higher profits, Megaline can make informed decisions on advertising channels and budget distribution. The data will be meticulously prepared to ensure that the final analysis is comprehensive and supports strategic decision-making for Megaline's corporate team."
   ]
  },
  {
   "cell_type": "code",
   "execution_count": 1,
   "metadata": {},
   "outputs": [],
   "source": [
    "# Loading all the libraries\n",
    "import pandas as pd\n",
    "import numpy as np\n",
    "\n",
    "import matplotlib.pyplot as plt\n",
    "import seaborn as sns\n",
    "\n",
    "from scipy import stats as st\n"
   ]
  },
  {
   "cell_type": "markdown",
   "metadata": {},
   "source": [
    "## Load data"
   ]
  },
  {
   "cell_type": "markdown",
   "metadata": {},
   "source": []
  },
  {
   "cell_type": "code",
   "execution_count": 2,
   "metadata": {},
   "outputs": [],
   "source": [
    "# Loading the data files into different DataFrames\n",
    "users= pd.read_csv('/datasets/megaline_users.csv', sep= ',')"
   ]
  },
  {
   "cell_type": "code",
   "execution_count": 3,
   "metadata": {},
   "outputs": [],
   "source": [
    "plans= pd.read_csv('/datasets/megaline_plans.csv')"
   ]
  },
  {
   "cell_type": "code",
   "execution_count": 4,
   "metadata": {},
   "outputs": [],
   "source": [
    "messages= pd.read_csv('/datasets/megaline_messages.csv')"
   ]
  },
  {
   "cell_type": "code",
   "execution_count": 5,
   "metadata": {},
   "outputs": [],
   "source": [
    "internet= pd.read_csv('/datasets/megaline_internet.csv')"
   ]
  },
  {
   "cell_type": "code",
   "execution_count": 6,
   "metadata": {},
   "outputs": [],
   "source": [
    "calls= pd.read_csv('/datasets/megaline_calls.csv')"
   ]
  },
  {
   "cell_type": "markdown",
   "metadata": {},
   "source": [
    "##  Prepare the data"
   ]
  },
  {
   "cell_type": "markdown",
   "metadata": {},
   "source": [
    "##  Plans"
   ]
  },
  {
   "cell_type": "code",
   "execution_count": 7,
   "metadata": {},
   "outputs": [
    {
     "data": {
      "text/html": [
       "<div>\n",
       "<style scoped>\n",
       "    .dataframe tbody tr th:only-of-type {\n",
       "        vertical-align: middle;\n",
       "    }\n",
       "\n",
       "    .dataframe tbody tr th {\n",
       "        vertical-align: top;\n",
       "    }\n",
       "\n",
       "    .dataframe thead th {\n",
       "        text-align: right;\n",
       "    }\n",
       "</style>\n",
       "<table border=\"1\" class=\"dataframe\">\n",
       "  <thead>\n",
       "    <tr style=\"text-align: right;\">\n",
       "      <th></th>\n",
       "      <th>messages_included</th>\n",
       "      <th>mb_per_month_included</th>\n",
       "      <th>minutes_included</th>\n",
       "      <th>usd_monthly_pay</th>\n",
       "      <th>usd_per_gb</th>\n",
       "      <th>usd_per_message</th>\n",
       "      <th>usd_per_minute</th>\n",
       "      <th>plan_name</th>\n",
       "    </tr>\n",
       "  </thead>\n",
       "  <tbody>\n",
       "    <tr>\n",
       "      <th>0</th>\n",
       "      <td>50</td>\n",
       "      <td>15360</td>\n",
       "      <td>500</td>\n",
       "      <td>20</td>\n",
       "      <td>10</td>\n",
       "      <td>0.03</td>\n",
       "      <td>0.03</td>\n",
       "      <td>surf</td>\n",
       "    </tr>\n",
       "    <tr>\n",
       "      <th>1</th>\n",
       "      <td>1000</td>\n",
       "      <td>30720</td>\n",
       "      <td>3000</td>\n",
       "      <td>70</td>\n",
       "      <td>7</td>\n",
       "      <td>0.01</td>\n",
       "      <td>0.01</td>\n",
       "      <td>ultimate</td>\n",
       "    </tr>\n",
       "  </tbody>\n",
       "</table>\n",
       "</div>"
      ],
      "text/plain": [
       "   messages_included  mb_per_month_included  minutes_included  \\\n",
       "0                 50                  15360               500   \n",
       "1               1000                  30720              3000   \n",
       "\n",
       "   usd_monthly_pay  usd_per_gb  usd_per_message  usd_per_minute plan_name  \n",
       "0               20          10             0.03            0.03      surf  \n",
       "1               70           7             0.01            0.01  ultimate  "
      ]
     },
     "metadata": {},
     "output_type": "display_data"
    },
    {
     "name": "stdout",
     "output_type": "stream",
     "text": [
      "<class 'pandas.core.frame.DataFrame'>\n",
      "RangeIndex: 2 entries, 0 to 1\n",
      "Data columns (total 8 columns):\n",
      " #   Column                 Non-Null Count  Dtype  \n",
      "---  ------                 --------------  -----  \n",
      " 0   messages_included      2 non-null      int64  \n",
      " 1   mb_per_month_included  2 non-null      int64  \n",
      " 2   minutes_included       2 non-null      int64  \n",
      " 3   usd_monthly_pay        2 non-null      int64  \n",
      " 4   usd_per_gb             2 non-null      int64  \n",
      " 5   usd_per_message        2 non-null      float64\n",
      " 6   usd_per_minute         2 non-null      float64\n",
      " 7   plan_name              2 non-null      object \n",
      "dtypes: float64(2), int64(5), object(1)\n",
      "memory usage: 256.0+ bytes\n"
     ]
    }
   ],
   "source": [
    "# general information about the plans' DataFrame\n",
    "display(plans.head())\n",
    "plans.info()  "
   ]
  },
  {
   "cell_type": "code",
   "execution_count": 8,
   "metadata": {},
   "outputs": [
    {
     "data": {
      "text/html": [
       "<div>\n",
       "<style scoped>\n",
       "    .dataframe tbody tr th:only-of-type {\n",
       "        vertical-align: middle;\n",
       "    }\n",
       "\n",
       "    .dataframe tbody tr th {\n",
       "        vertical-align: top;\n",
       "    }\n",
       "\n",
       "    .dataframe thead th {\n",
       "        text-align: right;\n",
       "    }\n",
       "</style>\n",
       "<table border=\"1\" class=\"dataframe\">\n",
       "  <thead>\n",
       "    <tr style=\"text-align: right;\">\n",
       "      <th></th>\n",
       "      <th>messages_included</th>\n",
       "      <th>mb_per_month_included</th>\n",
       "      <th>minutes_included</th>\n",
       "      <th>usd_monthly_pay</th>\n",
       "      <th>usd_per_gb</th>\n",
       "      <th>usd_per_message</th>\n",
       "      <th>usd_per_minute</th>\n",
       "      <th>plan_name</th>\n",
       "    </tr>\n",
       "  </thead>\n",
       "  <tbody>\n",
       "    <tr>\n",
       "      <th>1</th>\n",
       "      <td>1000</td>\n",
       "      <td>30720</td>\n",
       "      <td>3000</td>\n",
       "      <td>70</td>\n",
       "      <td>7</td>\n",
       "      <td>0.01</td>\n",
       "      <td>0.01</td>\n",
       "      <td>ultimate</td>\n",
       "    </tr>\n",
       "  </tbody>\n",
       "</table>\n",
       "</div>"
      ],
      "text/plain": [
       "   messages_included  mb_per_month_included  minutes_included  \\\n",
       "1               1000                  30720              3000   \n",
       "\n",
       "   usd_monthly_pay  usd_per_gb  usd_per_message  usd_per_minute plan_name  \n",
       "1               70           7             0.01            0.01  ultimate  "
      ]
     },
     "execution_count": 8,
     "metadata": {},
     "output_type": "execute_result"
    }
   ],
   "source": [
    "# looking at a data sample in plans dataframe\n",
    "plans.sample()"
   ]
  },
  {
   "cell_type": "code",
   "execution_count": 9,
   "metadata": {},
   "outputs": [
    {
     "data": {
      "text/plain": [
       "messages_included        0\n",
       "mb_per_month_included    0\n",
       "minutes_included         0\n",
       "usd_monthly_pay          0\n",
       "usd_per_gb               0\n",
       "usd_per_message          0\n",
       "usd_per_minute           0\n",
       "plan_name                0\n",
       "dtype: int64"
      ]
     },
     "execution_count": 9,
     "metadata": {},
     "output_type": "execute_result"
    }
   ],
   "source": [
    "# checking if there is any missing data in plans data frame\n",
    "plans.isna().sum()"
   ]
  },
  {
   "cell_type": "code",
   "execution_count": 10,
   "metadata": {},
   "outputs": [
    {
     "data": {
      "text/plain": [
       "0    False\n",
       "1    False\n",
       "dtype: bool"
      ]
     },
     "execution_count": 10,
     "metadata": {},
     "output_type": "execute_result"
    }
   ],
   "source": [
    "# checking for duplicated rows\n",
    "plans.duplicated().sum()"
   ]
  },
  {
   "cell_type": "markdown",
   "metadata": {},
   "source": [
    "##### When I look at general summary and data sample I do not see any issues as all the column names are lower case and there is no space between the column names it is separated by underscore. All the datatypes are correct based on entries as float is for US dollars and int for all the integers in plans dataframe. I also looked for missing values."
   ]
  },
  {
   "cell_type": "markdown",
   "metadata": {},
   "source": [
    "## Users"
   ]
  },
  {
   "cell_type": "code",
   "execution_count": 11,
   "metadata": {},
   "outputs": [
    {
     "data": {
      "text/html": [
       "<div>\n",
       "<style scoped>\n",
       "    .dataframe tbody tr th:only-of-type {\n",
       "        vertical-align: middle;\n",
       "    }\n",
       "\n",
       "    .dataframe tbody tr th {\n",
       "        vertical-align: top;\n",
       "    }\n",
       "\n",
       "    .dataframe thead th {\n",
       "        text-align: right;\n",
       "    }\n",
       "</style>\n",
       "<table border=\"1\" class=\"dataframe\">\n",
       "  <thead>\n",
       "    <tr style=\"text-align: right;\">\n",
       "      <th></th>\n",
       "      <th>user_id</th>\n",
       "      <th>first_name</th>\n",
       "      <th>last_name</th>\n",
       "      <th>age</th>\n",
       "      <th>city</th>\n",
       "      <th>reg_date</th>\n",
       "      <th>plan</th>\n",
       "      <th>churn_date</th>\n",
       "    </tr>\n",
       "  </thead>\n",
       "  <tbody>\n",
       "    <tr>\n",
       "      <th>0</th>\n",
       "      <td>1000</td>\n",
       "      <td>Anamaria</td>\n",
       "      <td>Bauer</td>\n",
       "      <td>45</td>\n",
       "      <td>Atlanta-Sandy Springs-Roswell, GA MSA</td>\n",
       "      <td>2018-12-24</td>\n",
       "      <td>ultimate</td>\n",
       "      <td>NaN</td>\n",
       "    </tr>\n",
       "    <tr>\n",
       "      <th>1</th>\n",
       "      <td>1001</td>\n",
       "      <td>Mickey</td>\n",
       "      <td>Wilkerson</td>\n",
       "      <td>28</td>\n",
       "      <td>Seattle-Tacoma-Bellevue, WA MSA</td>\n",
       "      <td>2018-08-13</td>\n",
       "      <td>surf</td>\n",
       "      <td>NaN</td>\n",
       "    </tr>\n",
       "    <tr>\n",
       "      <th>2</th>\n",
       "      <td>1002</td>\n",
       "      <td>Carlee</td>\n",
       "      <td>Hoffman</td>\n",
       "      <td>36</td>\n",
       "      <td>Las Vegas-Henderson-Paradise, NV MSA</td>\n",
       "      <td>2018-10-21</td>\n",
       "      <td>surf</td>\n",
       "      <td>NaN</td>\n",
       "    </tr>\n",
       "    <tr>\n",
       "      <th>3</th>\n",
       "      <td>1003</td>\n",
       "      <td>Reynaldo</td>\n",
       "      <td>Jenkins</td>\n",
       "      <td>52</td>\n",
       "      <td>Tulsa, OK MSA</td>\n",
       "      <td>2018-01-28</td>\n",
       "      <td>surf</td>\n",
       "      <td>NaN</td>\n",
       "    </tr>\n",
       "    <tr>\n",
       "      <th>4</th>\n",
       "      <td>1004</td>\n",
       "      <td>Leonila</td>\n",
       "      <td>Thompson</td>\n",
       "      <td>40</td>\n",
       "      <td>Seattle-Tacoma-Bellevue, WA MSA</td>\n",
       "      <td>2018-05-23</td>\n",
       "      <td>surf</td>\n",
       "      <td>NaN</td>\n",
       "    </tr>\n",
       "  </tbody>\n",
       "</table>\n",
       "</div>"
      ],
      "text/plain": [
       "   user_id first_name  last_name  age                                   city  \\\n",
       "0     1000   Anamaria      Bauer   45  Atlanta-Sandy Springs-Roswell, GA MSA   \n",
       "1     1001     Mickey  Wilkerson   28        Seattle-Tacoma-Bellevue, WA MSA   \n",
       "2     1002     Carlee    Hoffman   36   Las Vegas-Henderson-Paradise, NV MSA   \n",
       "3     1003   Reynaldo    Jenkins   52                          Tulsa, OK MSA   \n",
       "4     1004    Leonila   Thompson   40        Seattle-Tacoma-Bellevue, WA MSA   \n",
       "\n",
       "     reg_date      plan churn_date  \n",
       "0  2018-12-24  ultimate        NaN  \n",
       "1  2018-08-13      surf        NaN  \n",
       "2  2018-10-21      surf        NaN  \n",
       "3  2018-01-28      surf        NaN  \n",
       "4  2018-05-23      surf        NaN  "
      ]
     },
     "metadata": {},
     "output_type": "display_data"
    },
    {
     "name": "stdout",
     "output_type": "stream",
     "text": [
      "<class 'pandas.core.frame.DataFrame'>\n",
      "RangeIndex: 500 entries, 0 to 499\n",
      "Data columns (total 8 columns):\n",
      " #   Column      Non-Null Count  Dtype \n",
      "---  ------      --------------  ----- \n",
      " 0   user_id     500 non-null    int64 \n",
      " 1   first_name  500 non-null    object\n",
      " 2   last_name   500 non-null    object\n",
      " 3   age         500 non-null    int64 \n",
      " 4   city        500 non-null    object\n",
      " 5   reg_date    500 non-null    object\n",
      " 6   plan        500 non-null    object\n",
      " 7   churn_date  34 non-null     object\n",
      "dtypes: int64(2), object(6)\n",
      "memory usage: 31.4+ KB\n"
     ]
    }
   ],
   "source": [
    "#  general information about the users' DataFrame\n",
    "display(users.head())\n",
    "users.info()"
   ]
  },
  {
   "cell_type": "code",
   "execution_count": 12,
   "metadata": {},
   "outputs": [
    {
     "data": {
      "text/html": [
       "<div>\n",
       "<style scoped>\n",
       "    .dataframe tbody tr th:only-of-type {\n",
       "        vertical-align: middle;\n",
       "    }\n",
       "\n",
       "    .dataframe tbody tr th {\n",
       "        vertical-align: top;\n",
       "    }\n",
       "\n",
       "    .dataframe thead th {\n",
       "        text-align: right;\n",
       "    }\n",
       "</style>\n",
       "<table border=\"1\" class=\"dataframe\">\n",
       "  <thead>\n",
       "    <tr style=\"text-align: right;\">\n",
       "      <th></th>\n",
       "      <th>user_id</th>\n",
       "      <th>first_name</th>\n",
       "      <th>last_name</th>\n",
       "      <th>age</th>\n",
       "      <th>city</th>\n",
       "      <th>reg_date</th>\n",
       "      <th>plan</th>\n",
       "      <th>churn_date</th>\n",
       "    </tr>\n",
       "  </thead>\n",
       "  <tbody>\n",
       "    <tr>\n",
       "      <th>190</th>\n",
       "      <td>1190</td>\n",
       "      <td>Troy</td>\n",
       "      <td>Hutchinson</td>\n",
       "      <td>56</td>\n",
       "      <td>Virginia Beach-Norfolk-Newport News, VA-NC MSA</td>\n",
       "      <td>2018-08-01</td>\n",
       "      <td>ultimate</td>\n",
       "      <td>NaN</td>\n",
       "    </tr>\n",
       "  </tbody>\n",
       "</table>\n",
       "</div>"
      ],
      "text/plain": [
       "     user_id first_name   last_name  age  \\\n",
       "190     1190       Troy  Hutchinson   56   \n",
       "\n",
       "                                               city    reg_date      plan  \\\n",
       "190  Virginia Beach-Norfolk-Newport News, VA-NC MSA  2018-08-01  ultimate   \n",
       "\n",
       "    churn_date  \n",
       "190        NaN  "
      ]
     },
     "execution_count": 12,
     "metadata": {},
     "output_type": "execute_result"
    }
   ],
   "source": [
    "# looking at a data sample in users dataframe\n",
    "users.sample()"
   ]
  },
  {
   "cell_type": "code",
   "execution_count": 13,
   "metadata": {},
   "outputs": [
    {
     "data": {
      "text/plain": [
       "0      False\n",
       "1      False\n",
       "2      False\n",
       "3      False\n",
       "4      False\n",
       "       ...  \n",
       "495    False\n",
       "496    False\n",
       "497    False\n",
       "498    False\n",
       "499    False\n",
       "Length: 500, dtype: bool"
      ]
     },
     "execution_count": 13,
     "metadata": {},
     "output_type": "execute_result"
    }
   ],
   "source": [
    "# checking for duplicated rows\n",
    "users.duplicated().sum()"
   ]
  },
  {
   "cell_type": "markdown",
   "metadata": {},
   "source": [
    " "
   ]
  },
  {
   "cell_type": "markdown",
   "metadata": {},
   "source": [
    "### Fix Data"
   ]
  },
  {
   "cell_type": "code",
   "execution_count": 14,
   "metadata": {},
   "outputs": [
    {
     "name": "stdout",
     "output_type": "stream",
     "text": [
      "466\n"
     ]
    }
   ],
   "source": [
    "# checking if there is any missing data in users data frame\n",
    "print(users['churn_date'].isna().sum())"
   ]
  },
  {
   "cell_type": "markdown",
   "metadata": {},
   "source": [
    "### Enrich Data"
   ]
  },
  {
   "cell_type": "markdown",
   "metadata": {},
   "source": [
    "[Add additional factors to the data if you believe they might be useful.]"
   ]
  },
  {
   "cell_type": "code",
   "execution_count": 15,
   "metadata": {
    "scrolled": false
   },
   "outputs": [
    {
     "name": "stdout",
     "output_type": "stream",
     "text": [
      "<class 'pandas.core.frame.DataFrame'>\n",
      "RangeIndex: 500 entries, 0 to 499\n",
      "Data columns (total 7 columns):\n",
      " #   Column      Non-Null Count  Dtype \n",
      "---  ------      --------------  ----- \n",
      " 0   user_id     500 non-null    int64 \n",
      " 1   first_name  500 non-null    object\n",
      " 2   last_name   500 non-null    object\n",
      " 3   age         500 non-null    int64 \n",
      " 4   city        500 non-null    object\n",
      " 5   reg_date    500 non-null    object\n",
      " 6   plan        500 non-null    object\n",
      "dtypes: int64(2), object(5)\n",
      "memory usage: 27.5+ KB\n"
     ]
    },
    {
     "data": {
      "text/plain": [
       "None"
      ]
     },
     "metadata": {},
     "output_type": "display_data"
    }
   ],
   "source": [
    "# dropping missing data column in users data frame\n",
    "users.drop('churn_date', axis= 1, inplace= True) # dropping the churn_date column as it has missing values because the plan is already discontinued\n",
    "display(users.info())"
   ]
  },
  {
   "cell_type": "markdown",
   "metadata": {},
   "source": [
    "## Initial observation of users data frame \n",
    "\n",
    "#### I found that in users data framethere is  churn_date columns which has 466 missing values so I dropped that column as it will not be beneficial for our analysis in this project.  These customers have stopped using our prepaid plan. \n"
   ]
  },
  {
   "cell_type": "markdown",
   "metadata": {},
   "source": [
    "## Calls"
   ]
  },
  {
   "cell_type": "code",
   "execution_count": 16,
   "metadata": {},
   "outputs": [
    {
     "name": "stdout",
     "output_type": "stream",
     "text": [
      "<class 'pandas.core.frame.DataFrame'>\n",
      "RangeIndex: 137735 entries, 0 to 137734\n",
      "Data columns (total 4 columns):\n",
      " #   Column     Non-Null Count   Dtype  \n",
      "---  ------     --------------   -----  \n",
      " 0   id         137735 non-null  object \n",
      " 1   user_id    137735 non-null  int64  \n",
      " 2   call_date  137735 non-null  object \n",
      " 3   duration   137735 non-null  float64\n",
      "dtypes: float64(1), int64(1), object(2)\n",
      "memory usage: 4.2+ MB\n"
     ]
    }
   ],
   "source": [
    "# general information about the calls' DataFrame\n",
    "calls.info()"
   ]
  },
  {
   "cell_type": "code",
   "execution_count": 17,
   "metadata": {},
   "outputs": [
    {
     "data": {
      "text/html": [
       "<div>\n",
       "<style scoped>\n",
       "    .dataframe tbody tr th:only-of-type {\n",
       "        vertical-align: middle;\n",
       "    }\n",
       "\n",
       "    .dataframe tbody tr th {\n",
       "        vertical-align: top;\n",
       "    }\n",
       "\n",
       "    .dataframe thead th {\n",
       "        text-align: right;\n",
       "    }\n",
       "</style>\n",
       "<table border=\"1\" class=\"dataframe\">\n",
       "  <thead>\n",
       "    <tr style=\"text-align: right;\">\n",
       "      <th></th>\n",
       "      <th>id</th>\n",
       "      <th>user_id</th>\n",
       "      <th>call_date</th>\n",
       "      <th>duration</th>\n",
       "    </tr>\n",
       "  </thead>\n",
       "  <tbody>\n",
       "    <tr>\n",
       "      <th>100946</th>\n",
       "      <td>1361_48</td>\n",
       "      <td>1361</td>\n",
       "      <td>2018-10-06</td>\n",
       "      <td>7.32</td>\n",
       "    </tr>\n",
       "  </tbody>\n",
       "</table>\n",
       "</div>"
      ],
      "text/plain": [
       "             id  user_id   call_date  duration\n",
       "100946  1361_48     1361  2018-10-06      7.32"
      ]
     },
     "execution_count": 17,
     "metadata": {},
     "output_type": "execute_result"
    }
   ],
   "source": [
    "# looking at a data sample in plans dataframe\n",
    "calls.sample()"
   ]
  },
  {
   "cell_type": "code",
   "execution_count": 18,
   "metadata": {},
   "outputs": [
    {
     "data": {
      "text/plain": [
       "0         False\n",
       "1         False\n",
       "2         False\n",
       "3         False\n",
       "4         False\n",
       "          ...  \n",
       "137730    False\n",
       "137731    False\n",
       "137732    False\n",
       "137733    False\n",
       "137734    False\n",
       "Length: 137735, dtype: bool"
      ]
     },
     "execution_count": 18,
     "metadata": {},
     "output_type": "execute_result"
    }
   ],
   "source": [
    "# looking for duplicate data\n",
    "calls.duplicated().sum()"
   ]
  },
  {
   "cell_type": "markdown",
   "metadata": {},
   "source": [
    "### Fix data"
   ]
  },
  {
   "cell_type": "code",
   "execution_count": 19,
   "metadata": {},
   "outputs": [
    {
     "data": {
      "text/html": [
       "<div>\n",
       "<style scoped>\n",
       "    .dataframe tbody tr th:only-of-type {\n",
       "        vertical-align: middle;\n",
       "    }\n",
       "\n",
       "    .dataframe tbody tr th {\n",
       "        vertical-align: top;\n",
       "    }\n",
       "\n",
       "    .dataframe thead th {\n",
       "        text-align: right;\n",
       "    }\n",
       "</style>\n",
       "<table border=\"1\" class=\"dataframe\">\n",
       "  <thead>\n",
       "    <tr style=\"text-align: right;\">\n",
       "      <th></th>\n",
       "      <th>id</th>\n",
       "      <th>user_id</th>\n",
       "      <th>call_date</th>\n",
       "      <th>duration</th>\n",
       "    </tr>\n",
       "  </thead>\n",
       "  <tbody>\n",
       "    <tr>\n",
       "      <th>0</th>\n",
       "      <td>1000_93</td>\n",
       "      <td>1000</td>\n",
       "      <td>2018-12-27</td>\n",
       "      <td>9</td>\n",
       "    </tr>\n",
       "    <tr>\n",
       "      <th>1</th>\n",
       "      <td>1000_145</td>\n",
       "      <td>1000</td>\n",
       "      <td>2018-12-27</td>\n",
       "      <td>14</td>\n",
       "    </tr>\n",
       "    <tr>\n",
       "      <th>2</th>\n",
       "      <td>1000_247</td>\n",
       "      <td>1000</td>\n",
       "      <td>2018-12-27</td>\n",
       "      <td>15</td>\n",
       "    </tr>\n",
       "    <tr>\n",
       "      <th>3</th>\n",
       "      <td>1000_309</td>\n",
       "      <td>1000</td>\n",
       "      <td>2018-12-28</td>\n",
       "      <td>6</td>\n",
       "    </tr>\n",
       "    <tr>\n",
       "      <th>4</th>\n",
       "      <td>1000_380</td>\n",
       "      <td>1000</td>\n",
       "      <td>2018-12-30</td>\n",
       "      <td>5</td>\n",
       "    </tr>\n",
       "  </tbody>\n",
       "</table>\n",
       "</div>"
      ],
      "text/plain": [
       "         id  user_id   call_date  duration\n",
       "0   1000_93     1000  2018-12-27         9\n",
       "1  1000_145     1000  2018-12-27        14\n",
       "2  1000_247     1000  2018-12-27        15\n",
       "3  1000_309     1000  2018-12-28         6\n",
       "4  1000_380     1000  2018-12-30         5"
      ]
     },
     "execution_count": 19,
     "metadata": {},
     "output_type": "execute_result"
    }
   ],
   "source": [
    "# rounding the duration\n",
    "calls['duration'] = calls['duration'].apply(np.ceil).astype('int')\n",
    "calls.head()"
   ]
  },
  {
   "cell_type": "markdown",
   "metadata": {},
   "source": [
    "### Enrich data"
   ]
  },
  {
   "cell_type": "code",
   "execution_count": 20,
   "metadata": {},
   "outputs": [
    {
     "data": {
      "text/plain": [
       "<bound method NDFrame.head of               id  user_id  call_date  duration  month\n",
       "0        1000_93     1000 2018-12-27         9     12\n",
       "1       1000_145     1000 2018-12-27        14     12\n",
       "2       1000_247     1000 2018-12-27        15     12\n",
       "3       1000_309     1000 2018-12-28         6     12\n",
       "4       1000_380     1000 2018-12-30         5     12\n",
       "...          ...      ...        ...       ...    ...\n",
       "137730  1499_199     1499 2018-11-21         9     11\n",
       "137731  1499_200     1499 2018-10-20        11     10\n",
       "137732  1499_201     1499 2018-09-21         9      9\n",
       "137733  1499_202     1499 2018-10-10         1     10\n",
       "137734  1499_203     1499 2018-12-29        14     12\n",
       "\n",
       "[137735 rows x 5 columns]>"
      ]
     },
     "execution_count": 20,
     "metadata": {},
     "output_type": "execute_result"
    }
   ],
   "source": [
    "# extracting just the month from date format\n",
    "calls['call_date'] = pd.to_datetime(calls['call_date'], format='%Y-%m-%d')\n",
    "calls['month']= calls['call_date'].dt.month\n",
    "calls.head\n"
   ]
  },
  {
   "cell_type": "markdown",
   "metadata": {},
   "source": [
    "## Initial observation of Calls data frame\n",
    "\n",
    "#### Based on instructions in the project the caller will be charged based on the plan even if he used couple seconds but he will be charged based on 1 minute. So I rounded up the duration of phone call time. I also retrieve the month from the data frame as it will help us in merging the dataframe later on."
   ]
  },
  {
   "cell_type": "markdown",
   "metadata": {},
   "source": [
    "# 3.2  Messages"
   ]
  },
  {
   "cell_type": "code",
   "execution_count": 21,
   "metadata": {},
   "outputs": [
    {
     "data": {
      "text/html": [
       "<div>\n",
       "<style scoped>\n",
       "    .dataframe tbody tr th:only-of-type {\n",
       "        vertical-align: middle;\n",
       "    }\n",
       "\n",
       "    .dataframe tbody tr th {\n",
       "        vertical-align: top;\n",
       "    }\n",
       "\n",
       "    .dataframe thead th {\n",
       "        text-align: right;\n",
       "    }\n",
       "</style>\n",
       "<table border=\"1\" class=\"dataframe\">\n",
       "  <thead>\n",
       "    <tr style=\"text-align: right;\">\n",
       "      <th></th>\n",
       "      <th>id</th>\n",
       "      <th>user_id</th>\n",
       "      <th>message_date</th>\n",
       "    </tr>\n",
       "  </thead>\n",
       "  <tbody>\n",
       "    <tr>\n",
       "      <th>0</th>\n",
       "      <td>1000_125</td>\n",
       "      <td>1000</td>\n",
       "      <td>2018-12-27</td>\n",
       "    </tr>\n",
       "    <tr>\n",
       "      <th>1</th>\n",
       "      <td>1000_160</td>\n",
       "      <td>1000</td>\n",
       "      <td>2018-12-31</td>\n",
       "    </tr>\n",
       "    <tr>\n",
       "      <th>2</th>\n",
       "      <td>1000_223</td>\n",
       "      <td>1000</td>\n",
       "      <td>2018-12-31</td>\n",
       "    </tr>\n",
       "    <tr>\n",
       "      <th>3</th>\n",
       "      <td>1000_251</td>\n",
       "      <td>1000</td>\n",
       "      <td>2018-12-27</td>\n",
       "    </tr>\n",
       "    <tr>\n",
       "      <th>4</th>\n",
       "      <td>1000_255</td>\n",
       "      <td>1000</td>\n",
       "      <td>2018-12-26</td>\n",
       "    </tr>\n",
       "  </tbody>\n",
       "</table>\n",
       "</div>"
      ],
      "text/plain": [
       "         id  user_id message_date\n",
       "0  1000_125     1000   2018-12-27\n",
       "1  1000_160     1000   2018-12-31\n",
       "2  1000_223     1000   2018-12-31\n",
       "3  1000_251     1000   2018-12-27\n",
       "4  1000_255     1000   2018-12-26"
      ]
     },
     "metadata": {},
     "output_type": "display_data"
    },
    {
     "name": "stdout",
     "output_type": "stream",
     "text": [
      "<class 'pandas.core.frame.DataFrame'>\n",
      "RangeIndex: 76051 entries, 0 to 76050\n",
      "Data columns (total 3 columns):\n",
      " #   Column        Non-Null Count  Dtype \n",
      "---  ------        --------------  ----- \n",
      " 0   id            76051 non-null  object\n",
      " 1   user_id       76051 non-null  int64 \n",
      " 2   message_date  76051 non-null  object\n",
      "dtypes: int64(1), object(2)\n",
      "memory usage: 1.7+ MB\n"
     ]
    },
    {
     "data": {
      "text/plain": [
       "None"
      ]
     },
     "metadata": {},
     "output_type": "display_data"
    }
   ],
   "source": [
    "# general information about the messages' DataFrame\n",
    "display(messages.head())\n",
    "display(messages.info())"
   ]
  },
  {
   "cell_type": "code",
   "execution_count": 22,
   "metadata": {},
   "outputs": [
    {
     "data": {
      "text/html": [
       "<div>\n",
       "<style scoped>\n",
       "    .dataframe tbody tr th:only-of-type {\n",
       "        vertical-align: middle;\n",
       "    }\n",
       "\n",
       "    .dataframe tbody tr th {\n",
       "        vertical-align: top;\n",
       "    }\n",
       "\n",
       "    .dataframe thead th {\n",
       "        text-align: right;\n",
       "    }\n",
       "</style>\n",
       "<table border=\"1\" class=\"dataframe\">\n",
       "  <thead>\n",
       "    <tr style=\"text-align: right;\">\n",
       "      <th></th>\n",
       "      <th>id</th>\n",
       "      <th>user_id</th>\n",
       "      <th>message_date</th>\n",
       "    </tr>\n",
       "  </thead>\n",
       "  <tbody>\n",
       "    <tr>\n",
       "      <th>5252</th>\n",
       "      <td>1052_9</td>\n",
       "      <td>1052</td>\n",
       "      <td>2018-12-17</td>\n",
       "    </tr>\n",
       "  </tbody>\n",
       "</table>\n",
       "</div>"
      ],
      "text/plain": [
       "          id  user_id message_date\n",
       "5252  1052_9     1052   2018-12-17"
      ]
     },
     "execution_count": 22,
     "metadata": {},
     "output_type": "execute_result"
    }
   ],
   "source": [
    "# sample of data for messages\n",
    "messages.sample()"
   ]
  },
  {
   "cell_type": "code",
   "execution_count": 23,
   "metadata": {},
   "outputs": [
    {
     "data": {
      "text/plain": [
       "0        False\n",
       "1        False\n",
       "2        False\n",
       "3        False\n",
       "4        False\n",
       "         ...  \n",
       "76046    False\n",
       "76047    False\n",
       "76048    False\n",
       "76049    False\n",
       "76050    False\n",
       "Length: 76051, dtype: bool"
      ]
     },
     "execution_count": 23,
     "metadata": {},
     "output_type": "execute_result"
    }
   ],
   "source": [
    "# checking for duplicate rows\n",
    "messages.duplicated()"
   ]
  },
  {
   "cell_type": "markdown",
   "metadata": {},
   "source": [
    "### Fix data"
   ]
  },
  {
   "cell_type": "code",
   "execution_count": 24,
   "metadata": {},
   "outputs": [
    {
     "data": {
      "text/plain": [
       "id              0\n",
       "user_id         0\n",
       "message_date    0\n",
       "dtype: int64"
      ]
     },
     "execution_count": 24,
     "metadata": {},
     "output_type": "execute_result"
    }
   ],
   "source": [
    "# checking for missing data in messages data frame\n",
    "messages.isna().sum()"
   ]
  },
  {
   "cell_type": "markdown",
   "metadata": {},
   "source": [
    "### Enrich data"
   ]
  },
  {
   "cell_type": "code",
   "execution_count": 25,
   "metadata": {},
   "outputs": [],
   "source": [
    "messages['message_date'] = pd.to_datetime(messages['message_date'], format='%Y-%m-%d')\n",
    "messages['month'] = messages['message_date'].dt.month\n"
   ]
  },
  {
   "cell_type": "markdown",
   "metadata": {},
   "source": [
    "## Initial observations of messages data frame\n",
    "\n",
    "#### Based on instructions in the project the caller will be charged based on the plan even if he used couple seconds but he will be charged based on 1 minute. So I rounded up the duration of phone call time. I also retrieve the month from the data frame as it will help us in merging the dataframe later on.\n"
   ]
  },
  {
   "cell_type": "markdown",
   "metadata": {},
   "source": [
    "## Internet"
   ]
  },
  {
   "cell_type": "code",
   "execution_count": 26,
   "metadata": {},
   "outputs": [
    {
     "data": {
      "text/html": [
       "<div>\n",
       "<style scoped>\n",
       "    .dataframe tbody tr th:only-of-type {\n",
       "        vertical-align: middle;\n",
       "    }\n",
       "\n",
       "    .dataframe tbody tr th {\n",
       "        vertical-align: top;\n",
       "    }\n",
       "\n",
       "    .dataframe thead th {\n",
       "        text-align: right;\n",
       "    }\n",
       "</style>\n",
       "<table border=\"1\" class=\"dataframe\">\n",
       "  <thead>\n",
       "    <tr style=\"text-align: right;\">\n",
       "      <th></th>\n",
       "      <th>id</th>\n",
       "      <th>user_id</th>\n",
       "      <th>session_date</th>\n",
       "      <th>mb_used</th>\n",
       "    </tr>\n",
       "  </thead>\n",
       "  <tbody>\n",
       "    <tr>\n",
       "      <th>76344</th>\n",
       "      <td>1359_21</td>\n",
       "      <td>1359</td>\n",
       "      <td>2018-10-29</td>\n",
       "      <td>190.62</td>\n",
       "    </tr>\n",
       "  </tbody>\n",
       "</table>\n",
       "</div>"
      ],
      "text/plain": [
       "            id  user_id session_date  mb_used\n",
       "76344  1359_21     1359   2018-10-29   190.62"
      ]
     },
     "execution_count": 26,
     "metadata": {},
     "output_type": "execute_result"
    }
   ],
   "source": [
    "# sample of data for the internet traffic\n",
    "internet.sample()\n"
   ]
  },
  {
   "cell_type": "markdown",
   "metadata": {},
   "source": [
    "### Fix data"
   ]
  },
  {
   "cell_type": "code",
   "execution_count": 27,
   "metadata": {},
   "outputs": [
    {
     "data": {
      "text/plain": [
       "id              0\n",
       "user_id         0\n",
       "session_date    0\n",
       "mb_used         0\n",
       "dtype: int64"
      ]
     },
     "execution_count": 27,
     "metadata": {},
     "output_type": "execute_result"
    }
   ],
   "source": [
    "# checking for missing data in internet data frame\n",
    "internet.isna().sum()\n"
   ]
  },
  {
   "cell_type": "code",
   "execution_count": 28,
   "metadata": {},
   "outputs": [
    {
     "data": {
      "text/plain": [
       "0         False\n",
       "1         False\n",
       "2         False\n",
       "3         False\n",
       "4         False\n",
       "          ...  \n",
       "104820    False\n",
       "104821    False\n",
       "104822    False\n",
       "104823    False\n",
       "104824    False\n",
       "Length: 104825, dtype: bool"
      ]
     },
     "execution_count": 28,
     "metadata": {},
     "output_type": "execute_result"
    }
   ],
   "source": [
    "# checking duplicate rows\n",
    "internet.duplicated()"
   ]
  },
  {
   "cell_type": "markdown",
   "metadata": {},
   "source": [
    "### Enrich data"
   ]
  },
  {
   "cell_type": "code",
   "execution_count": 29,
   "metadata": {},
   "outputs": [],
   "source": [
    "# Trying to pull months for data processing datas\n",
    "internet['session_date'] = pd.to_datetime(internet['session_date'], format='%Y-%m-%dT')\n",
    "internet['month']= internet['session_date'].dt.month"
   ]
  },
  {
   "cell_type": "markdown",
   "metadata": {},
   "source": [
    "## Initial observation of Internet\n",
    "\n",
    "#### I looked at the internet data frame to find out if there are missing datas but did not find anything. I also extract  the month from the data frame as it will help us in merging the dataframe later on."
   ]
  },
  {
   "cell_type": "markdown",
   "metadata": {},
   "source": [
    "## Study plan conditions"
   ]
  },
  {
   "cell_type": "code",
   "execution_count": 30,
   "metadata": {},
   "outputs": [
    {
     "data": {
      "text/html": [
       "<div>\n",
       "<style scoped>\n",
       "    .dataframe tbody tr th:only-of-type {\n",
       "        vertical-align: middle;\n",
       "    }\n",
       "\n",
       "    .dataframe tbody tr th {\n",
       "        vertical-align: top;\n",
       "    }\n",
       "\n",
       "    .dataframe thead th {\n",
       "        text-align: right;\n",
       "    }\n",
       "</style>\n",
       "<table border=\"1\" class=\"dataframe\">\n",
       "  <thead>\n",
       "    <tr style=\"text-align: right;\">\n",
       "      <th></th>\n",
       "      <th></th>\n",
       "      <th>mb_used</th>\n",
       "    </tr>\n",
       "    <tr>\n",
       "      <th>user_id</th>\n",
       "      <th>month</th>\n",
       "      <th></th>\n",
       "    </tr>\n",
       "  </thead>\n",
       "  <tbody>\n",
       "    <tr>\n",
       "      <th>1000</th>\n",
       "      <th>12</th>\n",
       "      <td>1901.47</td>\n",
       "    </tr>\n",
       "    <tr>\n",
       "      <th rowspan=\"4\" valign=\"top\">1001</th>\n",
       "      <th>8</th>\n",
       "      <td>6919.15</td>\n",
       "    </tr>\n",
       "    <tr>\n",
       "      <th>9</th>\n",
       "      <td>13314.82</td>\n",
       "    </tr>\n",
       "    <tr>\n",
       "      <th>10</th>\n",
       "      <td>22330.49</td>\n",
       "    </tr>\n",
       "    <tr>\n",
       "      <th>11</th>\n",
       "      <td>18504.30</td>\n",
       "    </tr>\n",
       "    <tr>\n",
       "      <th>...</th>\n",
       "      <th>...</th>\n",
       "      <td>...</td>\n",
       "    </tr>\n",
       "    <tr>\n",
       "      <th>1498</th>\n",
       "      <th>12</th>\n",
       "      <td>23137.69</td>\n",
       "    </tr>\n",
       "    <tr>\n",
       "      <th rowspan=\"4\" valign=\"top\">1499</th>\n",
       "      <th>9</th>\n",
       "      <td>12984.76</td>\n",
       "    </tr>\n",
       "    <tr>\n",
       "      <th>10</th>\n",
       "      <td>19492.43</td>\n",
       "    </tr>\n",
       "    <tr>\n",
       "      <th>11</th>\n",
       "      <td>16813.83</td>\n",
       "    </tr>\n",
       "    <tr>\n",
       "      <th>12</th>\n",
       "      <td>22059.21</td>\n",
       "    </tr>\n",
       "  </tbody>\n",
       "</table>\n",
       "<p>2277 rows × 1 columns</p>\n",
       "</div>"
      ],
      "text/plain": [
       "                mb_used\n",
       "user_id month          \n",
       "1000    12      1901.47\n",
       "1001    8       6919.15\n",
       "        9      13314.82\n",
       "        10     22330.49\n",
       "        11     18504.30\n",
       "...                 ...\n",
       "1498    12     23137.69\n",
       "1499    9      12984.76\n",
       "        10     19492.43\n",
       "        11     16813.83\n",
       "        12     22059.21\n",
       "\n",
       "[2277 rows x 1 columns]"
      ]
     },
     "execution_count": 30,
     "metadata": {},
     "output_type": "execute_result"
    }
   ],
   "source": [
    "# total amount of internet usage by each user _id in different months.\n",
    "monthly_internet = internet.groupby(['user_id','month']).agg({'mb_used':'sum'})\n",
    "monthly_internet"
   ]
  },
  {
   "cell_type": "code",
   "execution_count": 31,
   "metadata": {},
   "outputs": [
    {
     "name": "stdout",
     "output_type": "stream",
     "text": [
      "<class 'pandas.core.frame.DataFrame'>\n",
      "RangeIndex: 2 entries, 0 to 1\n",
      "Data columns (total 8 columns):\n",
      " #   Column                 Non-Null Count  Dtype  \n",
      "---  ------                 --------------  -----  \n",
      " 0   messages_included      2 non-null      int64  \n",
      " 1   mb_per_month_included  2 non-null      int64  \n",
      " 2   minutes_included       2 non-null      int64  \n",
      " 3   usd_monthly_pay        2 non-null      int64  \n",
      " 4   usd_per_gb             2 non-null      int64  \n",
      " 5   usd_per_message        2 non-null      float64\n",
      " 6   usd_per_minute         2 non-null      float64\n",
      " 7   plan_name              2 non-null      object \n",
      "dtypes: float64(2), int64(5), object(1)\n",
      "memory usage: 256.0+ bytes\n"
     ]
    },
    {
     "data": {
      "text/html": [
       "<div>\n",
       "<style scoped>\n",
       "    .dataframe tbody tr th:only-of-type {\n",
       "        vertical-align: middle;\n",
       "    }\n",
       "\n",
       "    .dataframe tbody tr th {\n",
       "        vertical-align: top;\n",
       "    }\n",
       "\n",
       "    .dataframe thead th {\n",
       "        text-align: right;\n",
       "    }\n",
       "</style>\n",
       "<table border=\"1\" class=\"dataframe\">\n",
       "  <thead>\n",
       "    <tr style=\"text-align: right;\">\n",
       "      <th></th>\n",
       "      <th>messages_included</th>\n",
       "      <th>mb_per_month_included</th>\n",
       "      <th>minutes_included</th>\n",
       "      <th>usd_monthly_pay</th>\n",
       "      <th>usd_per_gb</th>\n",
       "      <th>usd_per_message</th>\n",
       "      <th>usd_per_minute</th>\n",
       "      <th>plan_name</th>\n",
       "    </tr>\n",
       "  </thead>\n",
       "  <tbody>\n",
       "    <tr>\n",
       "      <th>0</th>\n",
       "      <td>50</td>\n",
       "      <td>15360</td>\n",
       "      <td>500</td>\n",
       "      <td>20</td>\n",
       "      <td>10</td>\n",
       "      <td>0.03</td>\n",
       "      <td>0.03</td>\n",
       "      <td>surf</td>\n",
       "    </tr>\n",
       "    <tr>\n",
       "      <th>1</th>\n",
       "      <td>1000</td>\n",
       "      <td>30720</td>\n",
       "      <td>3000</td>\n",
       "      <td>70</td>\n",
       "      <td>7</td>\n",
       "      <td>0.01</td>\n",
       "      <td>0.01</td>\n",
       "      <td>ultimate</td>\n",
       "    </tr>\n",
       "  </tbody>\n",
       "</table>\n",
       "</div>"
      ],
      "text/plain": [
       "   messages_included  mb_per_month_included  minutes_included  \\\n",
       "0                 50                  15360               500   \n",
       "1               1000                  30720              3000   \n",
       "\n",
       "   usd_monthly_pay  usd_per_gb  usd_per_message  usd_per_minute plan_name  \n",
       "0               20          10             0.03            0.03      surf  \n",
       "1               70           7             0.01            0.01  ultimate  "
      ]
     },
     "execution_count": 31,
     "metadata": {},
     "output_type": "execute_result"
    }
   ],
   "source": [
    "# Print out the plan conditions and make sure they are clear for you\n",
    "plans.info()\n",
    "plans.head()"
   ]
  },
  {
   "cell_type": "markdown",
   "metadata": {},
   "source": [
    "## Aggregate data per user\n"
   ]
  },
  {
   "cell_type": "code",
   "execution_count": 32,
   "metadata": {},
   "outputs": [
    {
     "data": {
      "text/html": [
       "<div>\n",
       "<style scoped>\n",
       "    .dataframe tbody tr th:only-of-type {\n",
       "        vertical-align: middle;\n",
       "    }\n",
       "\n",
       "    .dataframe tbody tr th {\n",
       "        vertical-align: top;\n",
       "    }\n",
       "\n",
       "    .dataframe thead th {\n",
       "        text-align: right;\n",
       "    }\n",
       "</style>\n",
       "<table border=\"1\" class=\"dataframe\">\n",
       "  <thead>\n",
       "    <tr style=\"text-align: right;\">\n",
       "      <th></th>\n",
       "      <th></th>\n",
       "      <th>call_date</th>\n",
       "      <th>duration</th>\n",
       "    </tr>\n",
       "    <tr>\n",
       "      <th>user_id</th>\n",
       "      <th>month</th>\n",
       "      <th></th>\n",
       "      <th></th>\n",
       "    </tr>\n",
       "  </thead>\n",
       "  <tbody>\n",
       "    <tr>\n",
       "      <th>1000</th>\n",
       "      <th>12</th>\n",
       "      <td>16</td>\n",
       "      <td>124</td>\n",
       "    </tr>\n",
       "    <tr>\n",
       "      <th rowspan=\"4\" valign=\"top\">1001</th>\n",
       "      <th>8</th>\n",
       "      <td>27</td>\n",
       "      <td>182</td>\n",
       "    </tr>\n",
       "    <tr>\n",
       "      <th>9</th>\n",
       "      <td>49</td>\n",
       "      <td>315</td>\n",
       "    </tr>\n",
       "    <tr>\n",
       "      <th>10</th>\n",
       "      <td>65</td>\n",
       "      <td>393</td>\n",
       "    </tr>\n",
       "    <tr>\n",
       "      <th>11</th>\n",
       "      <td>64</td>\n",
       "      <td>426</td>\n",
       "    </tr>\n",
       "    <tr>\n",
       "      <th>...</th>\n",
       "      <th>...</th>\n",
       "      <td>...</td>\n",
       "      <td>...</td>\n",
       "    </tr>\n",
       "    <tr>\n",
       "      <th>1498</th>\n",
       "      <th>12</th>\n",
       "      <td>39</td>\n",
       "      <td>339</td>\n",
       "    </tr>\n",
       "    <tr>\n",
       "      <th rowspan=\"4\" valign=\"top\">1499</th>\n",
       "      <th>9</th>\n",
       "      <td>41</td>\n",
       "      <td>346</td>\n",
       "    </tr>\n",
       "    <tr>\n",
       "      <th>10</th>\n",
       "      <td>53</td>\n",
       "      <td>385</td>\n",
       "    </tr>\n",
       "    <tr>\n",
       "      <th>11</th>\n",
       "      <td>45</td>\n",
       "      <td>308</td>\n",
       "    </tr>\n",
       "    <tr>\n",
       "      <th>12</th>\n",
       "      <td>65</td>\n",
       "      <td>496</td>\n",
       "    </tr>\n",
       "  </tbody>\n",
       "</table>\n",
       "<p>2258 rows × 2 columns</p>\n",
       "</div>"
      ],
      "text/plain": [
       "               call_date  duration\n",
       "user_id month                     \n",
       "1000    12            16       124\n",
       "1001    8             27       182\n",
       "        9             49       315\n",
       "        10            65       393\n",
       "        11            64       426\n",
       "...                  ...       ...\n",
       "1498    12            39       339\n",
       "1499    9             41       346\n",
       "        10            53       385\n",
       "        11            45       308\n",
       "        12            65       496\n",
       "\n",
       "[2258 rows x 2 columns]"
      ]
     },
     "execution_count": 32,
     "metadata": {},
     "output_type": "execute_result"
    }
   ],
   "source": [
    "# Calculate the number of calls made by each user per month. Save the result.\n",
    "# Calculate the amount of minutes spent by each user per month. Save the result.\n",
    "monthly_calls =calls.groupby(['user_id','month']).agg({ 'call_date': 'count', 'duration': 'sum'})\n",
    "monthly_calls\n"
   ]
  },
  {
   "cell_type": "code",
   "execution_count": 33,
   "metadata": {},
   "outputs": [
    {
     "data": {
      "text/html": [
       "<div>\n",
       "<style scoped>\n",
       "    .dataframe tbody tr th:only-of-type {\n",
       "        vertical-align: middle;\n",
       "    }\n",
       "\n",
       "    .dataframe tbody tr th {\n",
       "        vertical-align: top;\n",
       "    }\n",
       "\n",
       "    .dataframe thead th {\n",
       "        text-align: right;\n",
       "    }\n",
       "</style>\n",
       "<table border=\"1\" class=\"dataframe\">\n",
       "  <thead>\n",
       "    <tr style=\"text-align: right;\">\n",
       "      <th></th>\n",
       "      <th></th>\n",
       "      <th>id</th>\n",
       "    </tr>\n",
       "    <tr>\n",
       "      <th>user_id</th>\n",
       "      <th>month</th>\n",
       "      <th></th>\n",
       "    </tr>\n",
       "  </thead>\n",
       "  <tbody>\n",
       "    <tr>\n",
       "      <th>1000</th>\n",
       "      <th>12</th>\n",
       "      <td>11</td>\n",
       "    </tr>\n",
       "    <tr>\n",
       "      <th rowspan=\"4\" valign=\"top\">1001</th>\n",
       "      <th>8</th>\n",
       "      <td>30</td>\n",
       "    </tr>\n",
       "    <tr>\n",
       "      <th>9</th>\n",
       "      <td>44</td>\n",
       "    </tr>\n",
       "    <tr>\n",
       "      <th>10</th>\n",
       "      <td>53</td>\n",
       "    </tr>\n",
       "    <tr>\n",
       "      <th>11</th>\n",
       "      <td>36</td>\n",
       "    </tr>\n",
       "    <tr>\n",
       "      <th>...</th>\n",
       "      <th>...</th>\n",
       "      <td>...</td>\n",
       "    </tr>\n",
       "    <tr>\n",
       "      <th rowspan=\"4\" valign=\"top\">1496</th>\n",
       "      <th>9</th>\n",
       "      <td>21</td>\n",
       "    </tr>\n",
       "    <tr>\n",
       "      <th>10</th>\n",
       "      <td>18</td>\n",
       "    </tr>\n",
       "    <tr>\n",
       "      <th>11</th>\n",
       "      <td>13</td>\n",
       "    </tr>\n",
       "    <tr>\n",
       "      <th>12</th>\n",
       "      <td>11</td>\n",
       "    </tr>\n",
       "    <tr>\n",
       "      <th>1497</th>\n",
       "      <th>12</th>\n",
       "      <td>50</td>\n",
       "    </tr>\n",
       "  </tbody>\n",
       "</table>\n",
       "<p>1806 rows × 1 columns</p>\n",
       "</div>"
      ],
      "text/plain": [
       "               id\n",
       "user_id month    \n",
       "1000    12     11\n",
       "1001    8      30\n",
       "        9      44\n",
       "        10     53\n",
       "        11     36\n",
       "...            ..\n",
       "1496    9      21\n",
       "        10     18\n",
       "        11     13\n",
       "        12     11\n",
       "1497    12     50\n",
       "\n",
       "[1806 rows x 1 columns]"
      ]
     },
     "execution_count": 33,
     "metadata": {},
     "output_type": "execute_result"
    }
   ],
   "source": [
    "# Calculate the number of messages sent by each user per month. Save the result.\n",
    "\n",
    "monthly_messages= messages.groupby(['user_id','month']).agg({'id': 'count'})\n",
    "monthly_messages"
   ]
  },
  {
   "cell_type": "code",
   "execution_count": 34,
   "metadata": {},
   "outputs": [
    {
     "data": {
      "text/html": [
       "<div>\n",
       "<style scoped>\n",
       "    .dataframe tbody tr th:only-of-type {\n",
       "        vertical-align: middle;\n",
       "    }\n",
       "\n",
       "    .dataframe tbody tr th {\n",
       "        vertical-align: top;\n",
       "    }\n",
       "\n",
       "    .dataframe thead th {\n",
       "        text-align: right;\n",
       "    }\n",
       "</style>\n",
       "<table border=\"1\" class=\"dataframe\">\n",
       "  <thead>\n",
       "    <tr style=\"text-align: right;\">\n",
       "      <th></th>\n",
       "      <th></th>\n",
       "      <th>mb_used</th>\n",
       "    </tr>\n",
       "    <tr>\n",
       "      <th>user_id</th>\n",
       "      <th>month</th>\n",
       "      <th></th>\n",
       "    </tr>\n",
       "  </thead>\n",
       "  <tbody>\n",
       "    <tr>\n",
       "      <th>1000</th>\n",
       "      <th>12</th>\n",
       "      <td>1901.47</td>\n",
       "    </tr>\n",
       "    <tr>\n",
       "      <th rowspan=\"4\" valign=\"top\">1001</th>\n",
       "      <th>8</th>\n",
       "      <td>6919.15</td>\n",
       "    </tr>\n",
       "    <tr>\n",
       "      <th>9</th>\n",
       "      <td>13314.82</td>\n",
       "    </tr>\n",
       "    <tr>\n",
       "      <th>10</th>\n",
       "      <td>22330.49</td>\n",
       "    </tr>\n",
       "    <tr>\n",
       "      <th>11</th>\n",
       "      <td>18504.30</td>\n",
       "    </tr>\n",
       "    <tr>\n",
       "      <th>...</th>\n",
       "      <th>...</th>\n",
       "      <td>...</td>\n",
       "    </tr>\n",
       "    <tr>\n",
       "      <th>1498</th>\n",
       "      <th>12</th>\n",
       "      <td>23137.69</td>\n",
       "    </tr>\n",
       "    <tr>\n",
       "      <th rowspan=\"4\" valign=\"top\">1499</th>\n",
       "      <th>9</th>\n",
       "      <td>12984.76</td>\n",
       "    </tr>\n",
       "    <tr>\n",
       "      <th>10</th>\n",
       "      <td>19492.43</td>\n",
       "    </tr>\n",
       "    <tr>\n",
       "      <th>11</th>\n",
       "      <td>16813.83</td>\n",
       "    </tr>\n",
       "    <tr>\n",
       "      <th>12</th>\n",
       "      <td>22059.21</td>\n",
       "    </tr>\n",
       "  </tbody>\n",
       "</table>\n",
       "<p>2277 rows × 1 columns</p>\n",
       "</div>"
      ],
      "text/plain": [
       "                mb_used\n",
       "user_id month          \n",
       "1000    12      1901.47\n",
       "1001    8       6919.15\n",
       "        9      13314.82\n",
       "        10     22330.49\n",
       "        11     18504.30\n",
       "...                 ...\n",
       "1498    12     23137.69\n",
       "1499    9      12984.76\n",
       "        10     19492.43\n",
       "        11     16813.83\n",
       "        12     22059.21\n",
       "\n",
       "[2277 rows x 1 columns]"
      ]
     },
     "execution_count": 34,
     "metadata": {},
     "output_type": "execute_result"
    }
   ],
   "source": [
    "# Calculate the volume of internet traffic used by each user per month. Save the result.\n",
    "monthly_internet = internet.groupby(['user_id','month']).agg({'mb_used':'sum'})\n",
    "monthly_internet\n"
   ]
  },
  {
   "cell_type": "markdown",
   "metadata": {},
   "source": []
  },
  {
   "cell_type": "code",
   "execution_count": 35,
   "metadata": {},
   "outputs": [
    {
     "name": "stdout",
     "output_type": "stream",
     "text": [
      "<class 'pandas.core.frame.DataFrame'>\n",
      "RangeIndex: 137735 entries, 0 to 137734\n",
      "Data columns (total 5 columns):\n",
      " #   Column     Non-Null Count   Dtype         \n",
      "---  ------     --------------   -----         \n",
      " 0   id         137735 non-null  object        \n",
      " 1   user_id    137735 non-null  int64         \n",
      " 2   call_date  137735 non-null  datetime64[ns]\n",
      " 3   duration   137735 non-null  int64         \n",
      " 4   month      137735 non-null  int64         \n",
      "dtypes: datetime64[ns](1), int64(3), object(1)\n",
      "memory usage: 5.3+ MB\n"
     ]
    },
    {
     "data": {
      "text/plain": [
       "None"
      ]
     },
     "metadata": {},
     "output_type": "display_data"
    },
    {
     "name": "stdout",
     "output_type": "stream",
     "text": [
      "<class 'pandas.core.frame.DataFrame'>\n",
      "RangeIndex: 76051 entries, 0 to 76050\n",
      "Data columns (total 4 columns):\n",
      " #   Column        Non-Null Count  Dtype         \n",
      "---  ------        --------------  -----         \n",
      " 0   id            76051 non-null  object        \n",
      " 1   user_id       76051 non-null  int64         \n",
      " 2   message_date  76051 non-null  datetime64[ns]\n",
      " 3   month         76051 non-null  int64         \n",
      "dtypes: datetime64[ns](1), int64(2), object(1)\n",
      "memory usage: 2.3+ MB\n"
     ]
    },
    {
     "data": {
      "text/plain": [
       "None"
      ]
     },
     "metadata": {},
     "output_type": "display_data"
    },
    {
     "name": "stdout",
     "output_type": "stream",
     "text": [
      "<class 'pandas.core.frame.DataFrame'>\n",
      "RangeIndex: 104825 entries, 0 to 104824\n",
      "Data columns (total 5 columns):\n",
      " #   Column        Non-Null Count   Dtype         \n",
      "---  ------        --------------   -----         \n",
      " 0   id            104825 non-null  object        \n",
      " 1   user_id       104825 non-null  int64         \n",
      " 2   session_date  104825 non-null  datetime64[ns]\n",
      " 3   mb_used       104825 non-null  float64       \n",
      " 4   month         104825 non-null  int64         \n",
      "dtypes: datetime64[ns](1), float64(1), int64(2), object(1)\n",
      "memory usage: 4.0+ MB\n"
     ]
    },
    {
     "data": {
      "text/plain": [
       "None"
      ]
     },
     "metadata": {},
     "output_type": "display_data"
    },
    {
     "name": "stdout",
     "output_type": "stream",
     "text": [
      "<class 'pandas.core.frame.DataFrame'>\n",
      "RangeIndex: 500 entries, 0 to 499\n",
      "Data columns (total 7 columns):\n",
      " #   Column      Non-Null Count  Dtype \n",
      "---  ------      --------------  ----- \n",
      " 0   user_id     500 non-null    int64 \n",
      " 1   first_name  500 non-null    object\n",
      " 2   last_name   500 non-null    object\n",
      " 3   age         500 non-null    int64 \n",
      " 4   city        500 non-null    object\n",
      " 5   reg_date    500 non-null    object\n",
      " 6   plan        500 non-null    object\n",
      "dtypes: int64(2), object(5)\n",
      "memory usage: 27.5+ KB\n"
     ]
    },
    {
     "data": {
      "text/plain": [
       "None"
      ]
     },
     "metadata": {},
     "output_type": "display_data"
    }
   ],
   "source": [
    "# Looking into all data frames to general idea before merging\n",
    "display(calls.info())\n",
    "display(messages.info())\n",
    "display(internet.info())\n",
    "display(users.info())"
   ]
  },
  {
   "cell_type": "code",
   "execution_count": 36,
   "metadata": {},
   "outputs": [
    {
     "data": {
      "text/html": [
       "<div>\n",
       "<style scoped>\n",
       "    .dataframe tbody tr th:only-of-type {\n",
       "        vertical-align: middle;\n",
       "    }\n",
       "\n",
       "    .dataframe tbody tr th {\n",
       "        vertical-align: top;\n",
       "    }\n",
       "\n",
       "    .dataframe thead th {\n",
       "        text-align: right;\n",
       "    }\n",
       "</style>\n",
       "<table border=\"1\" class=\"dataframe\">\n",
       "  <thead>\n",
       "    <tr style=\"text-align: right;\">\n",
       "      <th></th>\n",
       "      <th>user_id</th>\n",
       "      <th>id</th>\n",
       "      <th>call_date</th>\n",
       "      <th>duration</th>\n",
       "      <th>mb_used</th>\n",
       "      <th>first_name</th>\n",
       "      <th>last_name</th>\n",
       "      <th>age</th>\n",
       "      <th>city</th>\n",
       "      <th>reg_date</th>\n",
       "      <th>plan</th>\n",
       "      <th>month</th>\n",
       "      <th>messages_included</th>\n",
       "      <th>mb_per_month_included</th>\n",
       "      <th>minutes_included</th>\n",
       "      <th>usd_monthly_pay</th>\n",
       "      <th>usd_per_gb</th>\n",
       "      <th>usd_per_message</th>\n",
       "      <th>usd_per_minute</th>\n",
       "      <th>plan_name</th>\n",
       "    </tr>\n",
       "  </thead>\n",
       "  <tbody>\n",
       "    <tr>\n",
       "      <th>0</th>\n",
       "      <td>1000</td>\n",
       "      <td>11.0</td>\n",
       "      <td>16.0</td>\n",
       "      <td>124.0</td>\n",
       "      <td>1901.47</td>\n",
       "      <td>Anamaria</td>\n",
       "      <td>Bauer</td>\n",
       "      <td>45</td>\n",
       "      <td>Atlanta-Sandy Springs-Roswell, GA MSA</td>\n",
       "      <td>2018-12-24</td>\n",
       "      <td>ultimate</td>\n",
       "      <td>12</td>\n",
       "      <td>1000</td>\n",
       "      <td>30720</td>\n",
       "      <td>3000</td>\n",
       "      <td>70</td>\n",
       "      <td>7</td>\n",
       "      <td>0.01</td>\n",
       "      <td>0.01</td>\n",
       "      <td>ultimate</td>\n",
       "    </tr>\n",
       "    <tr>\n",
       "      <th>1</th>\n",
       "      <td>1006</td>\n",
       "      <td>15.0</td>\n",
       "      <td>2.0</td>\n",
       "      <td>10.0</td>\n",
       "      <td>2068.37</td>\n",
       "      <td>Jesusa</td>\n",
       "      <td>Bradford</td>\n",
       "      <td>73</td>\n",
       "      <td>San Francisco-Oakland-Berkeley, CA MSA</td>\n",
       "      <td>2018-11-27</td>\n",
       "      <td>ultimate</td>\n",
       "      <td>11</td>\n",
       "      <td>1000</td>\n",
       "      <td>30720</td>\n",
       "      <td>3000</td>\n",
       "      <td>70</td>\n",
       "      <td>7</td>\n",
       "      <td>0.01</td>\n",
       "      <td>0.01</td>\n",
       "      <td>ultimate</td>\n",
       "    </tr>\n",
       "    <tr>\n",
       "      <th>2</th>\n",
       "      <td>1006</td>\n",
       "      <td>139.0</td>\n",
       "      <td>9.0</td>\n",
       "      <td>59.0</td>\n",
       "      <td>32118.82</td>\n",
       "      <td>Jesusa</td>\n",
       "      <td>Bradford</td>\n",
       "      <td>73</td>\n",
       "      <td>San Francisco-Oakland-Berkeley, CA MSA</td>\n",
       "      <td>2018-11-27</td>\n",
       "      <td>ultimate</td>\n",
       "      <td>11</td>\n",
       "      <td>1000</td>\n",
       "      <td>30720</td>\n",
       "      <td>3000</td>\n",
       "      <td>70</td>\n",
       "      <td>7</td>\n",
       "      <td>0.01</td>\n",
       "      <td>0.01</td>\n",
       "      <td>ultimate</td>\n",
       "    </tr>\n",
       "    <tr>\n",
       "      <th>3</th>\n",
       "      <td>1008</td>\n",
       "      <td>21.0</td>\n",
       "      <td>71.0</td>\n",
       "      <td>476.0</td>\n",
       "      <td>17106.99</td>\n",
       "      <td>Emely</td>\n",
       "      <td>Hoffman</td>\n",
       "      <td>53</td>\n",
       "      <td>Orlando-Kissimmee-Sanford, FL MSA</td>\n",
       "      <td>2018-08-03</td>\n",
       "      <td>ultimate</td>\n",
       "      <td>8</td>\n",
       "      <td>1000</td>\n",
       "      <td>30720</td>\n",
       "      <td>3000</td>\n",
       "      <td>70</td>\n",
       "      <td>7</td>\n",
       "      <td>0.01</td>\n",
       "      <td>0.01</td>\n",
       "      <td>ultimate</td>\n",
       "    </tr>\n",
       "    <tr>\n",
       "      <th>4</th>\n",
       "      <td>1008</td>\n",
       "      <td>37.0</td>\n",
       "      <td>63.0</td>\n",
       "      <td>446.0</td>\n",
       "      <td>23676.72</td>\n",
       "      <td>Emely</td>\n",
       "      <td>Hoffman</td>\n",
       "      <td>53</td>\n",
       "      <td>Orlando-Kissimmee-Sanford, FL MSA</td>\n",
       "      <td>2018-08-03</td>\n",
       "      <td>ultimate</td>\n",
       "      <td>8</td>\n",
       "      <td>1000</td>\n",
       "      <td>30720</td>\n",
       "      <td>3000</td>\n",
       "      <td>70</td>\n",
       "      <td>7</td>\n",
       "      <td>0.01</td>\n",
       "      <td>0.01</td>\n",
       "      <td>ultimate</td>\n",
       "    </tr>\n",
       "    <tr>\n",
       "      <th>...</th>\n",
       "      <td>...</td>\n",
       "      <td>...</td>\n",
       "      <td>...</td>\n",
       "      <td>...</td>\n",
       "      <td>...</td>\n",
       "      <td>...</td>\n",
       "      <td>...</td>\n",
       "      <td>...</td>\n",
       "      <td>...</td>\n",
       "      <td>...</td>\n",
       "      <td>...</td>\n",
       "      <td>...</td>\n",
       "      <td>...</td>\n",
       "      <td>...</td>\n",
       "      <td>...</td>\n",
       "      <td>...</td>\n",
       "      <td>...</td>\n",
       "      <td>...</td>\n",
       "      <td>...</td>\n",
       "      <td>...</td>\n",
       "    </tr>\n",
       "    <tr>\n",
       "      <th>2288</th>\n",
       "      <td>1498</td>\n",
       "      <td>0.0</td>\n",
       "      <td>39.0</td>\n",
       "      <td>339.0</td>\n",
       "      <td>23137.69</td>\n",
       "      <td>Scot</td>\n",
       "      <td>Williamson</td>\n",
       "      <td>51</td>\n",
       "      <td>New York-Newark-Jersey City, NY-NJ-PA MSA</td>\n",
       "      <td>2018-02-04</td>\n",
       "      <td>surf</td>\n",
       "      <td>2</td>\n",
       "      <td>50</td>\n",
       "      <td>15360</td>\n",
       "      <td>500</td>\n",
       "      <td>20</td>\n",
       "      <td>10</td>\n",
       "      <td>0.03</td>\n",
       "      <td>0.03</td>\n",
       "      <td>surf</td>\n",
       "    </tr>\n",
       "    <tr>\n",
       "      <th>2289</th>\n",
       "      <td>1499</td>\n",
       "      <td>0.0</td>\n",
       "      <td>41.0</td>\n",
       "      <td>346.0</td>\n",
       "      <td>12984.76</td>\n",
       "      <td>Shena</td>\n",
       "      <td>Dickson</td>\n",
       "      <td>37</td>\n",
       "      <td>Orlando-Kissimmee-Sanford, FL MSA</td>\n",
       "      <td>2018-05-06</td>\n",
       "      <td>surf</td>\n",
       "      <td>5</td>\n",
       "      <td>50</td>\n",
       "      <td>15360</td>\n",
       "      <td>500</td>\n",
       "      <td>20</td>\n",
       "      <td>10</td>\n",
       "      <td>0.03</td>\n",
       "      <td>0.03</td>\n",
       "      <td>surf</td>\n",
       "    </tr>\n",
       "    <tr>\n",
       "      <th>2290</th>\n",
       "      <td>1499</td>\n",
       "      <td>0.0</td>\n",
       "      <td>53.0</td>\n",
       "      <td>385.0</td>\n",
       "      <td>19492.43</td>\n",
       "      <td>Shena</td>\n",
       "      <td>Dickson</td>\n",
       "      <td>37</td>\n",
       "      <td>Orlando-Kissimmee-Sanford, FL MSA</td>\n",
       "      <td>2018-05-06</td>\n",
       "      <td>surf</td>\n",
       "      <td>5</td>\n",
       "      <td>50</td>\n",
       "      <td>15360</td>\n",
       "      <td>500</td>\n",
       "      <td>20</td>\n",
       "      <td>10</td>\n",
       "      <td>0.03</td>\n",
       "      <td>0.03</td>\n",
       "      <td>surf</td>\n",
       "    </tr>\n",
       "    <tr>\n",
       "      <th>2291</th>\n",
       "      <td>1499</td>\n",
       "      <td>0.0</td>\n",
       "      <td>45.0</td>\n",
       "      <td>308.0</td>\n",
       "      <td>16813.83</td>\n",
       "      <td>Shena</td>\n",
       "      <td>Dickson</td>\n",
       "      <td>37</td>\n",
       "      <td>Orlando-Kissimmee-Sanford, FL MSA</td>\n",
       "      <td>2018-05-06</td>\n",
       "      <td>surf</td>\n",
       "      <td>5</td>\n",
       "      <td>50</td>\n",
       "      <td>15360</td>\n",
       "      <td>500</td>\n",
       "      <td>20</td>\n",
       "      <td>10</td>\n",
       "      <td>0.03</td>\n",
       "      <td>0.03</td>\n",
       "      <td>surf</td>\n",
       "    </tr>\n",
       "    <tr>\n",
       "      <th>2292</th>\n",
       "      <td>1499</td>\n",
       "      <td>0.0</td>\n",
       "      <td>65.0</td>\n",
       "      <td>496.0</td>\n",
       "      <td>22059.21</td>\n",
       "      <td>Shena</td>\n",
       "      <td>Dickson</td>\n",
       "      <td>37</td>\n",
       "      <td>Orlando-Kissimmee-Sanford, FL MSA</td>\n",
       "      <td>2018-05-06</td>\n",
       "      <td>surf</td>\n",
       "      <td>5</td>\n",
       "      <td>50</td>\n",
       "      <td>15360</td>\n",
       "      <td>500</td>\n",
       "      <td>20</td>\n",
       "      <td>10</td>\n",
       "      <td>0.03</td>\n",
       "      <td>0.03</td>\n",
       "      <td>surf</td>\n",
       "    </tr>\n",
       "  </tbody>\n",
       "</table>\n",
       "<p>2293 rows × 20 columns</p>\n",
       "</div>"
      ],
      "text/plain": [
       "      user_id     id  call_date  duration   mb_used first_name   last_name  \\\n",
       "0        1000   11.0       16.0     124.0   1901.47   Anamaria       Bauer   \n",
       "1        1006   15.0        2.0      10.0   2068.37     Jesusa    Bradford   \n",
       "2        1006  139.0        9.0      59.0  32118.82     Jesusa    Bradford   \n",
       "3        1008   21.0       71.0     476.0  17106.99      Emely     Hoffman   \n",
       "4        1008   37.0       63.0     446.0  23676.72      Emely     Hoffman   \n",
       "...       ...    ...        ...       ...       ...        ...         ...   \n",
       "2288     1498    0.0       39.0     339.0  23137.69       Scot  Williamson   \n",
       "2289     1499    0.0       41.0     346.0  12984.76      Shena     Dickson   \n",
       "2290     1499    0.0       53.0     385.0  19492.43      Shena     Dickson   \n",
       "2291     1499    0.0       45.0     308.0  16813.83      Shena     Dickson   \n",
       "2292     1499    0.0       65.0     496.0  22059.21      Shena     Dickson   \n",
       "\n",
       "      age                                       city   reg_date      plan  \\\n",
       "0      45      Atlanta-Sandy Springs-Roswell, GA MSA 2018-12-24  ultimate   \n",
       "1      73     San Francisco-Oakland-Berkeley, CA MSA 2018-11-27  ultimate   \n",
       "2      73     San Francisco-Oakland-Berkeley, CA MSA 2018-11-27  ultimate   \n",
       "3      53          Orlando-Kissimmee-Sanford, FL MSA 2018-08-03  ultimate   \n",
       "4      53          Orlando-Kissimmee-Sanford, FL MSA 2018-08-03  ultimate   \n",
       "...   ...                                        ...        ...       ...   \n",
       "2288   51  New York-Newark-Jersey City, NY-NJ-PA MSA 2018-02-04      surf   \n",
       "2289   37          Orlando-Kissimmee-Sanford, FL MSA 2018-05-06      surf   \n",
       "2290   37          Orlando-Kissimmee-Sanford, FL MSA 2018-05-06      surf   \n",
       "2291   37          Orlando-Kissimmee-Sanford, FL MSA 2018-05-06      surf   \n",
       "2292   37          Orlando-Kissimmee-Sanford, FL MSA 2018-05-06      surf   \n",
       "\n",
       "      month  messages_included  mb_per_month_included  minutes_included  \\\n",
       "0        12               1000                  30720              3000   \n",
       "1        11               1000                  30720              3000   \n",
       "2        11               1000                  30720              3000   \n",
       "3         8               1000                  30720              3000   \n",
       "4         8               1000                  30720              3000   \n",
       "...     ...                ...                    ...               ...   \n",
       "2288      2                 50                  15360               500   \n",
       "2289      5                 50                  15360               500   \n",
       "2290      5                 50                  15360               500   \n",
       "2291      5                 50                  15360               500   \n",
       "2292      5                 50                  15360               500   \n",
       "\n",
       "      usd_monthly_pay  usd_per_gb  usd_per_message  usd_per_minute plan_name  \n",
       "0                  70           7             0.01            0.01  ultimate  \n",
       "1                  70           7             0.01            0.01  ultimate  \n",
       "2                  70           7             0.01            0.01  ultimate  \n",
       "3                  70           7             0.01            0.01  ultimate  \n",
       "4                  70           7             0.01            0.01  ultimate  \n",
       "...               ...         ...              ...             ...       ...  \n",
       "2288               20          10             0.03            0.03      surf  \n",
       "2289               20          10             0.03            0.03      surf  \n",
       "2290               20          10             0.03            0.03      surf  \n",
       "2291               20          10             0.03            0.03      surf  \n",
       "2292               20          10             0.03            0.03      surf  \n",
       "\n",
       "[2293 rows x 20 columns]"
      ]
     },
     "execution_count": 36,
     "metadata": {},
     "output_type": "execute_result"
    }
   ],
   "source": [
    "# # Merge the data for calls, minutes, messages, internet based on user_id and month\n",
    "\n",
    "users['reg_date'] = pd.to_datetime(users['reg_date'], format='%Y-%m-%d')\n",
    "users['month'] = users['reg_date'].dt.month\n",
    "\n",
    "merged_data = pd.concat([monthly_messages, monthly_calls, monthly_internet], axis=1)\n",
    "merged_data =merged_data.fillna(0)\n",
    "\n",
    "merged_data = pd.merge(merged_data, users, on= 'user_id', how = 'inner')\n",
    "merged_data = pd.merge(merged_data, plans, left_on = 'plan', right_on ='plan_name', how = 'inner')\n",
    "merged_data\n"
   ]
  },
  {
   "cell_type": "markdown",
   "metadata": {},
   "source": [
    "#### In the above cell I am merging the data together so that it can help us in retrieving data from the merged_data frame as in the next cellwe have to use this data to do calculations and analysis. It will help us to figure out which user used how many minutes on calls. It will also help us to compare the data for example which month the customr used more internet than other months. It is also helping us to see the name of certain customer and their plan details which will come very handy when we eventually help us to glide through this project."
   ]
  },
  {
   "cell_type": "code",
   "execution_count": 37,
   "metadata": {},
   "outputs": [
    {
     "data": {
      "text/html": [
       "<div>\n",
       "<style scoped>\n",
       "    .dataframe tbody tr th:only-of-type {\n",
       "        vertical-align: middle;\n",
       "    }\n",
       "\n",
       "    .dataframe tbody tr th {\n",
       "        vertical-align: top;\n",
       "    }\n",
       "\n",
       "    .dataframe thead th {\n",
       "        text-align: right;\n",
       "    }\n",
       "</style>\n",
       "<table border=\"1\" class=\"dataframe\">\n",
       "  <thead>\n",
       "    <tr style=\"text-align: right;\">\n",
       "      <th></th>\n",
       "      <th>user_id</th>\n",
       "      <th>id</th>\n",
       "      <th>call_date</th>\n",
       "      <th>duration</th>\n",
       "      <th>mb_used</th>\n",
       "      <th>first_name</th>\n",
       "      <th>last_name</th>\n",
       "      <th>age</th>\n",
       "      <th>city</th>\n",
       "      <th>reg_date</th>\n",
       "      <th>...</th>\n",
       "      <th>usd_per_message</th>\n",
       "      <th>usd_per_minute</th>\n",
       "      <th>plan_name</th>\n",
       "      <th>extra_minute</th>\n",
       "      <th>extra_mb_used</th>\n",
       "      <th>extra_message</th>\n",
       "      <th>extra_minute_charge</th>\n",
       "      <th>extra_mb_charge</th>\n",
       "      <th>extra_message_charge</th>\n",
       "      <th>monthly_revenue</th>\n",
       "    </tr>\n",
       "  </thead>\n",
       "  <tbody>\n",
       "    <tr>\n",
       "      <th>0</th>\n",
       "      <td>1000</td>\n",
       "      <td>11.0</td>\n",
       "      <td>16.0</td>\n",
       "      <td>124.0</td>\n",
       "      <td>1901.47</td>\n",
       "      <td>Anamaria</td>\n",
       "      <td>Bauer</td>\n",
       "      <td>45</td>\n",
       "      <td>Atlanta-Sandy Springs-Roswell, GA MSA</td>\n",
       "      <td>2018-12-24</td>\n",
       "      <td>...</td>\n",
       "      <td>0.01</td>\n",
       "      <td>0.01</td>\n",
       "      <td>ultimate</td>\n",
       "      <td>0.0</td>\n",
       "      <td>0.00</td>\n",
       "      <td>0.0</td>\n",
       "      <td>0.0</td>\n",
       "      <td>0.0</td>\n",
       "      <td>0.0</td>\n",
       "      <td>70.0</td>\n",
       "    </tr>\n",
       "    <tr>\n",
       "      <th>1</th>\n",
       "      <td>1006</td>\n",
       "      <td>15.0</td>\n",
       "      <td>2.0</td>\n",
       "      <td>10.0</td>\n",
       "      <td>2068.37</td>\n",
       "      <td>Jesusa</td>\n",
       "      <td>Bradford</td>\n",
       "      <td>73</td>\n",
       "      <td>San Francisco-Oakland-Berkeley, CA MSA</td>\n",
       "      <td>2018-11-27</td>\n",
       "      <td>...</td>\n",
       "      <td>0.01</td>\n",
       "      <td>0.01</td>\n",
       "      <td>ultimate</td>\n",
       "      <td>0.0</td>\n",
       "      <td>0.00</td>\n",
       "      <td>0.0</td>\n",
       "      <td>0.0</td>\n",
       "      <td>0.0</td>\n",
       "      <td>0.0</td>\n",
       "      <td>70.0</td>\n",
       "    </tr>\n",
       "    <tr>\n",
       "      <th>2</th>\n",
       "      <td>1006</td>\n",
       "      <td>139.0</td>\n",
       "      <td>9.0</td>\n",
       "      <td>59.0</td>\n",
       "      <td>32118.82</td>\n",
       "      <td>Jesusa</td>\n",
       "      <td>Bradford</td>\n",
       "      <td>73</td>\n",
       "      <td>San Francisco-Oakland-Berkeley, CA MSA</td>\n",
       "      <td>2018-11-27</td>\n",
       "      <td>...</td>\n",
       "      <td>0.01</td>\n",
       "      <td>0.01</td>\n",
       "      <td>ultimate</td>\n",
       "      <td>0.0</td>\n",
       "      <td>1398.82</td>\n",
       "      <td>0.0</td>\n",
       "      <td>0.0</td>\n",
       "      <td>14.0</td>\n",
       "      <td>0.0</td>\n",
       "      <td>84.0</td>\n",
       "    </tr>\n",
       "    <tr>\n",
       "      <th>3</th>\n",
       "      <td>1008</td>\n",
       "      <td>21.0</td>\n",
       "      <td>71.0</td>\n",
       "      <td>476.0</td>\n",
       "      <td>17106.99</td>\n",
       "      <td>Emely</td>\n",
       "      <td>Hoffman</td>\n",
       "      <td>53</td>\n",
       "      <td>Orlando-Kissimmee-Sanford, FL MSA</td>\n",
       "      <td>2018-08-03</td>\n",
       "      <td>...</td>\n",
       "      <td>0.01</td>\n",
       "      <td>0.01</td>\n",
       "      <td>ultimate</td>\n",
       "      <td>0.0</td>\n",
       "      <td>0.00</td>\n",
       "      <td>0.0</td>\n",
       "      <td>0.0</td>\n",
       "      <td>0.0</td>\n",
       "      <td>0.0</td>\n",
       "      <td>70.0</td>\n",
       "    </tr>\n",
       "    <tr>\n",
       "      <th>4</th>\n",
       "      <td>1008</td>\n",
       "      <td>37.0</td>\n",
       "      <td>63.0</td>\n",
       "      <td>446.0</td>\n",
       "      <td>23676.72</td>\n",
       "      <td>Emely</td>\n",
       "      <td>Hoffman</td>\n",
       "      <td>53</td>\n",
       "      <td>Orlando-Kissimmee-Sanford, FL MSA</td>\n",
       "      <td>2018-08-03</td>\n",
       "      <td>...</td>\n",
       "      <td>0.01</td>\n",
       "      <td>0.01</td>\n",
       "      <td>ultimate</td>\n",
       "      <td>0.0</td>\n",
       "      <td>0.00</td>\n",
       "      <td>0.0</td>\n",
       "      <td>0.0</td>\n",
       "      <td>0.0</td>\n",
       "      <td>0.0</td>\n",
       "      <td>70.0</td>\n",
       "    </tr>\n",
       "    <tr>\n",
       "      <th>...</th>\n",
       "      <td>...</td>\n",
       "      <td>...</td>\n",
       "      <td>...</td>\n",
       "      <td>...</td>\n",
       "      <td>...</td>\n",
       "      <td>...</td>\n",
       "      <td>...</td>\n",
       "      <td>...</td>\n",
       "      <td>...</td>\n",
       "      <td>...</td>\n",
       "      <td>...</td>\n",
       "      <td>...</td>\n",
       "      <td>...</td>\n",
       "      <td>...</td>\n",
       "      <td>...</td>\n",
       "      <td>...</td>\n",
       "      <td>...</td>\n",
       "      <td>...</td>\n",
       "      <td>...</td>\n",
       "      <td>...</td>\n",
       "      <td>...</td>\n",
       "    </tr>\n",
       "    <tr>\n",
       "      <th>2288</th>\n",
       "      <td>1498</td>\n",
       "      <td>0.0</td>\n",
       "      <td>39.0</td>\n",
       "      <td>339.0</td>\n",
       "      <td>23137.69</td>\n",
       "      <td>Scot</td>\n",
       "      <td>Williamson</td>\n",
       "      <td>51</td>\n",
       "      <td>New York-Newark-Jersey City, NY-NJ-PA MSA</td>\n",
       "      <td>2018-02-04</td>\n",
       "      <td>...</td>\n",
       "      <td>0.03</td>\n",
       "      <td>0.03</td>\n",
       "      <td>surf</td>\n",
       "      <td>0.0</td>\n",
       "      <td>7777.69</td>\n",
       "      <td>0.0</td>\n",
       "      <td>0.0</td>\n",
       "      <td>80.0</td>\n",
       "      <td>0.0</td>\n",
       "      <td>100.0</td>\n",
       "    </tr>\n",
       "    <tr>\n",
       "      <th>2289</th>\n",
       "      <td>1499</td>\n",
       "      <td>0.0</td>\n",
       "      <td>41.0</td>\n",
       "      <td>346.0</td>\n",
       "      <td>12984.76</td>\n",
       "      <td>Shena</td>\n",
       "      <td>Dickson</td>\n",
       "      <td>37</td>\n",
       "      <td>Orlando-Kissimmee-Sanford, FL MSA</td>\n",
       "      <td>2018-05-06</td>\n",
       "      <td>...</td>\n",
       "      <td>0.03</td>\n",
       "      <td>0.03</td>\n",
       "      <td>surf</td>\n",
       "      <td>0.0</td>\n",
       "      <td>0.00</td>\n",
       "      <td>0.0</td>\n",
       "      <td>0.0</td>\n",
       "      <td>0.0</td>\n",
       "      <td>0.0</td>\n",
       "      <td>20.0</td>\n",
       "    </tr>\n",
       "    <tr>\n",
       "      <th>2290</th>\n",
       "      <td>1499</td>\n",
       "      <td>0.0</td>\n",
       "      <td>53.0</td>\n",
       "      <td>385.0</td>\n",
       "      <td>19492.43</td>\n",
       "      <td>Shena</td>\n",
       "      <td>Dickson</td>\n",
       "      <td>37</td>\n",
       "      <td>Orlando-Kissimmee-Sanford, FL MSA</td>\n",
       "      <td>2018-05-06</td>\n",
       "      <td>...</td>\n",
       "      <td>0.03</td>\n",
       "      <td>0.03</td>\n",
       "      <td>surf</td>\n",
       "      <td>0.0</td>\n",
       "      <td>4132.43</td>\n",
       "      <td>0.0</td>\n",
       "      <td>0.0</td>\n",
       "      <td>50.0</td>\n",
       "      <td>0.0</td>\n",
       "      <td>70.0</td>\n",
       "    </tr>\n",
       "    <tr>\n",
       "      <th>2291</th>\n",
       "      <td>1499</td>\n",
       "      <td>0.0</td>\n",
       "      <td>45.0</td>\n",
       "      <td>308.0</td>\n",
       "      <td>16813.83</td>\n",
       "      <td>Shena</td>\n",
       "      <td>Dickson</td>\n",
       "      <td>37</td>\n",
       "      <td>Orlando-Kissimmee-Sanford, FL MSA</td>\n",
       "      <td>2018-05-06</td>\n",
       "      <td>...</td>\n",
       "      <td>0.03</td>\n",
       "      <td>0.03</td>\n",
       "      <td>surf</td>\n",
       "      <td>0.0</td>\n",
       "      <td>1453.83</td>\n",
       "      <td>0.0</td>\n",
       "      <td>0.0</td>\n",
       "      <td>20.0</td>\n",
       "      <td>0.0</td>\n",
       "      <td>40.0</td>\n",
       "    </tr>\n",
       "    <tr>\n",
       "      <th>2292</th>\n",
       "      <td>1499</td>\n",
       "      <td>0.0</td>\n",
       "      <td>65.0</td>\n",
       "      <td>496.0</td>\n",
       "      <td>22059.21</td>\n",
       "      <td>Shena</td>\n",
       "      <td>Dickson</td>\n",
       "      <td>37</td>\n",
       "      <td>Orlando-Kissimmee-Sanford, FL MSA</td>\n",
       "      <td>2018-05-06</td>\n",
       "      <td>...</td>\n",
       "      <td>0.03</td>\n",
       "      <td>0.03</td>\n",
       "      <td>surf</td>\n",
       "      <td>0.0</td>\n",
       "      <td>6699.21</td>\n",
       "      <td>0.0</td>\n",
       "      <td>0.0</td>\n",
       "      <td>70.0</td>\n",
       "      <td>0.0</td>\n",
       "      <td>90.0</td>\n",
       "    </tr>\n",
       "  </tbody>\n",
       "</table>\n",
       "<p>2293 rows × 27 columns</p>\n",
       "</div>"
      ],
      "text/plain": [
       "      user_id     id  call_date  duration   mb_used first_name   last_name  \\\n",
       "0        1000   11.0       16.0     124.0   1901.47   Anamaria       Bauer   \n",
       "1        1006   15.0        2.0      10.0   2068.37     Jesusa    Bradford   \n",
       "2        1006  139.0        9.0      59.0  32118.82     Jesusa    Bradford   \n",
       "3        1008   21.0       71.0     476.0  17106.99      Emely     Hoffman   \n",
       "4        1008   37.0       63.0     446.0  23676.72      Emely     Hoffman   \n",
       "...       ...    ...        ...       ...       ...        ...         ...   \n",
       "2288     1498    0.0       39.0     339.0  23137.69       Scot  Williamson   \n",
       "2289     1499    0.0       41.0     346.0  12984.76      Shena     Dickson   \n",
       "2290     1499    0.0       53.0     385.0  19492.43      Shena     Dickson   \n",
       "2291     1499    0.0       45.0     308.0  16813.83      Shena     Dickson   \n",
       "2292     1499    0.0       65.0     496.0  22059.21      Shena     Dickson   \n",
       "\n",
       "      age                                       city   reg_date  ...  \\\n",
       "0      45      Atlanta-Sandy Springs-Roswell, GA MSA 2018-12-24  ...   \n",
       "1      73     San Francisco-Oakland-Berkeley, CA MSA 2018-11-27  ...   \n",
       "2      73     San Francisco-Oakland-Berkeley, CA MSA 2018-11-27  ...   \n",
       "3      53          Orlando-Kissimmee-Sanford, FL MSA 2018-08-03  ...   \n",
       "4      53          Orlando-Kissimmee-Sanford, FL MSA 2018-08-03  ...   \n",
       "...   ...                                        ...        ...  ...   \n",
       "2288   51  New York-Newark-Jersey City, NY-NJ-PA MSA 2018-02-04  ...   \n",
       "2289   37          Orlando-Kissimmee-Sanford, FL MSA 2018-05-06  ...   \n",
       "2290   37          Orlando-Kissimmee-Sanford, FL MSA 2018-05-06  ...   \n",
       "2291   37          Orlando-Kissimmee-Sanford, FL MSA 2018-05-06  ...   \n",
       "2292   37          Orlando-Kissimmee-Sanford, FL MSA 2018-05-06  ...   \n",
       "\n",
       "     usd_per_message  usd_per_minute  plan_name  extra_minute  extra_mb_used  \\\n",
       "0               0.01            0.01   ultimate           0.0           0.00   \n",
       "1               0.01            0.01   ultimate           0.0           0.00   \n",
       "2               0.01            0.01   ultimate           0.0        1398.82   \n",
       "3               0.01            0.01   ultimate           0.0           0.00   \n",
       "4               0.01            0.01   ultimate           0.0           0.00   \n",
       "...              ...             ...        ...           ...            ...   \n",
       "2288            0.03            0.03       surf           0.0        7777.69   \n",
       "2289            0.03            0.03       surf           0.0           0.00   \n",
       "2290            0.03            0.03       surf           0.0        4132.43   \n",
       "2291            0.03            0.03       surf           0.0        1453.83   \n",
       "2292            0.03            0.03       surf           0.0        6699.21   \n",
       "\n",
       "      extra_message  extra_minute_charge  extra_mb_charge  \\\n",
       "0               0.0                  0.0              0.0   \n",
       "1               0.0                  0.0              0.0   \n",
       "2               0.0                  0.0             14.0   \n",
       "3               0.0                  0.0              0.0   \n",
       "4               0.0                  0.0              0.0   \n",
       "...             ...                  ...              ...   \n",
       "2288            0.0                  0.0             80.0   \n",
       "2289            0.0                  0.0              0.0   \n",
       "2290            0.0                  0.0             50.0   \n",
       "2291            0.0                  0.0             20.0   \n",
       "2292            0.0                  0.0             70.0   \n",
       "\n",
       "      extra_message_charge monthly_revenue  \n",
       "0                      0.0            70.0  \n",
       "1                      0.0            70.0  \n",
       "2                      0.0            84.0  \n",
       "3                      0.0            70.0  \n",
       "4                      0.0            70.0  \n",
       "...                    ...             ...  \n",
       "2288                   0.0           100.0  \n",
       "2289                   0.0            20.0  \n",
       "2290                   0.0            70.0  \n",
       "2291                   0.0            40.0  \n",
       "2292                   0.0            90.0  \n",
       "\n",
       "[2293 rows x 27 columns]"
      ]
     },
     "execution_count": 37,
     "metadata": {},
     "output_type": "execute_result"
    }
   ],
   "source": [
    "\n",
    "\n",
    "merged_data['extra_minute'] = merged_data['duration'] - merged_data['minutes_included']\n",
    "merged_data['extra_mb_used'] = merged_data['mb_used'] - merged_data['mb_per_month_included']\n",
    "merged_data['extra_message'] = merged_data['id'] - merged_data['messages_included']\n",
    "\n",
    "\n",
    "\n",
    "merged_data['extra_minute']= merged_data['extra_minute'].apply(lambda x:max(x,0))\n",
    "merged_data['extra_mb_used'] = merged_data['extra_mb_used'].apply(lambda x:max(x,0))\n",
    "merged_data['extra_message'] = merged_data['extra_message'].apply(lambda x:max(x,0))\n",
    "\n",
    "\n",
    "\n",
    "merged_data['extra_minute_charge'] =(merged_data['extra_minute']) * merged_data['usd_per_minute'] \n",
    "merged_data['extra_mb_charge'] =np.ceil(merged_data['extra_mb_used']/1024) * merged_data['usd_per_gb'] \n",
    "merged_data['extra_message_charge'] = merged_data['extra_message'] * merged_data['usd_per_message'] \n",
    "\n",
    "\n",
    "merged_data['monthly_revenue'] = merged_data['usd_monthly_pay'] + merged_data['extra_minute_charge'] + merged_data['extra_mb_charge']+ merged_data['extra_message_charge'] \n",
    "\n",
    "\n",
    "merged_data\n",
    "\n",
    "\n"
   ]
  },
  {
   "cell_type": "markdown",
   "metadata": {},
   "source": [
    "#### In the above cell we got all the data merged together now is the time to do some calculations. So I did find out if customers were within the limit of their plan allowance for messages, calls and internet. If they were not I have done calculations to figure out how much extra they have to pay for the additional resources they have consumed."
   ]
  },
  {
   "cell_type": "code",
   "execution_count": 38,
   "metadata": {
    "scrolled": true
   },
   "outputs": [
    {
     "data": {
      "text/plain": [
       "user_id\n",
       "1000     70.00\n",
       "1001    250.09\n",
       "1002    100.00\n",
       "1003    158.12\n",
       "1004    610.00\n",
       "         ...  \n",
       "1495    473.30\n",
       "1496    140.00\n",
       "1497     70.00\n",
       "1498    850.00\n",
       "1499    220.00\n",
       "Name: monthly_revenue, Length: 490, dtype: float64"
      ]
     },
     "execution_count": 38,
     "metadata": {},
     "output_type": "execute_result"
    }
   ],
   "source": [
    "# Calculate the monthly revenue for each user\n",
    "user_monthly_revenue = merged_data.groupby('user_id')['monthly_revenue'].sum()\n",
    "user_monthly_revenue"
   ]
  },
  {
   "cell_type": "markdown",
   "metadata": {},
   "source": [
    "## Study user behaviour"
   ]
  },
  {
   "cell_type": "markdown",
   "metadata": {},
   "source": [
    "### Calls"
   ]
  },
  {
   "cell_type": "code",
   "execution_count": 39,
   "metadata": {},
   "outputs": [
    {
     "data": {
      "text/html": [
       "<div>\n",
       "<style scoped>\n",
       "    .dataframe tbody tr th:only-of-type {\n",
       "        vertical-align: middle;\n",
       "    }\n",
       "\n",
       "    .dataframe tbody tr th {\n",
       "        vertical-align: top;\n",
       "    }\n",
       "\n",
       "    .dataframe thead th {\n",
       "        text-align: right;\n",
       "    }\n",
       "</style>\n",
       "<table border=\"1\" class=\"dataframe\">\n",
       "  <thead>\n",
       "    <tr style=\"text-align: right;\">\n",
       "      <th></th>\n",
       "      <th>user_id</th>\n",
       "      <th>month</th>\n",
       "      <th>call_date</th>\n",
       "      <th>duration</th>\n",
       "      <th>first_name</th>\n",
       "      <th>last_name</th>\n",
       "      <th>age</th>\n",
       "      <th>city</th>\n",
       "      <th>reg_date</th>\n",
       "      <th>plan</th>\n",
       "    </tr>\n",
       "  </thead>\n",
       "  <tbody>\n",
       "    <tr>\n",
       "      <th>0</th>\n",
       "      <td>1000</td>\n",
       "      <td>12</td>\n",
       "      <td>16</td>\n",
       "      <td>124</td>\n",
       "      <td>Anamaria</td>\n",
       "      <td>Bauer</td>\n",
       "      <td>45</td>\n",
       "      <td>Atlanta-Sandy Springs-Roswell, GA MSA</td>\n",
       "      <td>2018-12-24</td>\n",
       "      <td>ultimate</td>\n",
       "    </tr>\n",
       "    <tr>\n",
       "      <th>1</th>\n",
       "      <td>1001</td>\n",
       "      <td>8</td>\n",
       "      <td>27</td>\n",
       "      <td>182</td>\n",
       "      <td>Mickey</td>\n",
       "      <td>Wilkerson</td>\n",
       "      <td>28</td>\n",
       "      <td>Seattle-Tacoma-Bellevue, WA MSA</td>\n",
       "      <td>2018-08-13</td>\n",
       "      <td>surf</td>\n",
       "    </tr>\n",
       "    <tr>\n",
       "      <th>2</th>\n",
       "      <td>1002</td>\n",
       "      <td>10</td>\n",
       "      <td>11</td>\n",
       "      <td>59</td>\n",
       "      <td>Carlee</td>\n",
       "      <td>Hoffman</td>\n",
       "      <td>36</td>\n",
       "      <td>Las Vegas-Henderson-Paradise, NV MSA</td>\n",
       "      <td>2018-10-21</td>\n",
       "      <td>surf</td>\n",
       "    </tr>\n",
       "    <tr>\n",
       "      <th>3</th>\n",
       "      <td>1004</td>\n",
       "      <td>5</td>\n",
       "      <td>21</td>\n",
       "      <td>193</td>\n",
       "      <td>Leonila</td>\n",
       "      <td>Thompson</td>\n",
       "      <td>40</td>\n",
       "      <td>Seattle-Tacoma-Bellevue, WA MSA</td>\n",
       "      <td>2018-05-23</td>\n",
       "      <td>surf</td>\n",
       "    </tr>\n",
       "    <tr>\n",
       "      <th>4</th>\n",
       "      <td>1006</td>\n",
       "      <td>11</td>\n",
       "      <td>2</td>\n",
       "      <td>10</td>\n",
       "      <td>Jesusa</td>\n",
       "      <td>Bradford</td>\n",
       "      <td>73</td>\n",
       "      <td>San Francisco-Oakland-Berkeley, CA MSA</td>\n",
       "      <td>2018-11-27</td>\n",
       "      <td>ultimate</td>\n",
       "    </tr>\n",
       "    <tr>\n",
       "      <th>...</th>\n",
       "      <td>...</td>\n",
       "      <td>...</td>\n",
       "      <td>...</td>\n",
       "      <td>...</td>\n",
       "      <td>...</td>\n",
       "      <td>...</td>\n",
       "      <td>...</td>\n",
       "      <td>...</td>\n",
       "      <td>...</td>\n",
       "      <td>...</td>\n",
       "    </tr>\n",
       "    <tr>\n",
       "      <th>235</th>\n",
       "      <td>1488</td>\n",
       "      <td>5</td>\n",
       "      <td>42</td>\n",
       "      <td>299</td>\n",
       "      <td>Shirley</td>\n",
       "      <td>Jones</td>\n",
       "      <td>29</td>\n",
       "      <td>Baton Rouge, LA MSA</td>\n",
       "      <td>2018-05-15</td>\n",
       "      <td>surf</td>\n",
       "    </tr>\n",
       "    <tr>\n",
       "      <th>236</th>\n",
       "      <td>1491</td>\n",
       "      <td>4</td>\n",
       "      <td>8</td>\n",
       "      <td>44</td>\n",
       "      <td>Terina</td>\n",
       "      <td>Jensen</td>\n",
       "      <td>22</td>\n",
       "      <td>Grand Rapids-Kentwood, MI MSA</td>\n",
       "      <td>2018-04-27</td>\n",
       "      <td>surf</td>\n",
       "    </tr>\n",
       "    <tr>\n",
       "      <th>237</th>\n",
       "      <td>1495</td>\n",
       "      <td>9</td>\n",
       "      <td>52</td>\n",
       "      <td>302</td>\n",
       "      <td>Fidel</td>\n",
       "      <td>Sharpe</td>\n",
       "      <td>67</td>\n",
       "      <td>New York-Newark-Jersey City, NY-NJ-PA MSA</td>\n",
       "      <td>2018-09-04</td>\n",
       "      <td>surf</td>\n",
       "    </tr>\n",
       "    <tr>\n",
       "      <th>238</th>\n",
       "      <td>1497</td>\n",
       "      <td>12</td>\n",
       "      <td>54</td>\n",
       "      <td>300</td>\n",
       "      <td>Donte</td>\n",
       "      <td>Barrera</td>\n",
       "      <td>49</td>\n",
       "      <td>Los Angeles-Long Beach-Anaheim, CA MSA</td>\n",
       "      <td>2018-12-10</td>\n",
       "      <td>ultimate</td>\n",
       "    </tr>\n",
       "    <tr>\n",
       "      <th>239</th>\n",
       "      <td>1498</td>\n",
       "      <td>2</td>\n",
       "      <td>37</td>\n",
       "      <td>244</td>\n",
       "      <td>Scot</td>\n",
       "      <td>Williamson</td>\n",
       "      <td>51</td>\n",
       "      <td>New York-Newark-Jersey City, NY-NJ-PA MSA</td>\n",
       "      <td>2018-02-04</td>\n",
       "      <td>surf</td>\n",
       "    </tr>\n",
       "  </tbody>\n",
       "</table>\n",
       "<p>240 rows × 10 columns</p>\n",
       "</div>"
      ],
      "text/plain": [
       "     user_id  month  call_date  duration first_name   last_name  age  \\\n",
       "0       1000     12         16       124   Anamaria       Bauer   45   \n",
       "1       1001      8         27       182     Mickey   Wilkerson   28   \n",
       "2       1002     10         11        59     Carlee     Hoffman   36   \n",
       "3       1004      5         21       193    Leonila    Thompson   40   \n",
       "4       1006     11          2        10     Jesusa    Bradford   73   \n",
       "..       ...    ...        ...       ...        ...         ...  ...   \n",
       "235     1488      5         42       299    Shirley       Jones   29   \n",
       "236     1491      4          8        44     Terina      Jensen   22   \n",
       "237     1495      9         52       302      Fidel      Sharpe   67   \n",
       "238     1497     12         54       300      Donte     Barrera   49   \n",
       "239     1498      2         37       244       Scot  Williamson   51   \n",
       "\n",
       "                                          city   reg_date      plan  \n",
       "0        Atlanta-Sandy Springs-Roswell, GA MSA 2018-12-24  ultimate  \n",
       "1              Seattle-Tacoma-Bellevue, WA MSA 2018-08-13      surf  \n",
       "2         Las Vegas-Henderson-Paradise, NV MSA 2018-10-21      surf  \n",
       "3              Seattle-Tacoma-Bellevue, WA MSA 2018-05-23      surf  \n",
       "4       San Francisco-Oakland-Berkeley, CA MSA 2018-11-27  ultimate  \n",
       "..                                         ...        ...       ...  \n",
       "235                        Baton Rouge, LA MSA 2018-05-15      surf  \n",
       "236              Grand Rapids-Kentwood, MI MSA 2018-04-27      surf  \n",
       "237  New York-Newark-Jersey City, NY-NJ-PA MSA 2018-09-04      surf  \n",
       "238     Los Angeles-Long Beach-Anaheim, CA MSA 2018-12-10  ultimate  \n",
       "239  New York-Newark-Jersey City, NY-NJ-PA MSA 2018-02-04      surf  \n",
       "\n",
       "[240 rows x 10 columns]"
      ]
     },
     "execution_count": 39,
     "metadata": {},
     "output_type": "execute_result"
    }
   ],
   "source": [
    "# Number of Calls made by each user per month\n",
    "\n",
    "monthly_call_user = monthly_calls.merge(users, on = ['user_id', 'month'])\n",
    "monthly_call_user"
   ]
  },
  {
   "cell_type": "code",
   "execution_count": 40,
   "metadata": {},
   "outputs": [
    {
     "data": {
      "text/html": [
       "<div>\n",
       "<style scoped>\n",
       "    .dataframe tbody tr th:only-of-type {\n",
       "        vertical-align: middle;\n",
       "    }\n",
       "\n",
       "    .dataframe tbody tr th {\n",
       "        vertical-align: top;\n",
       "    }\n",
       "\n",
       "    .dataframe thead th {\n",
       "        text-align: right;\n",
       "    }\n",
       "</style>\n",
       "<table border=\"1\" class=\"dataframe\">\n",
       "  <thead>\n",
       "    <tr style=\"text-align: right;\">\n",
       "      <th></th>\n",
       "      <th>user_id</th>\n",
       "      <th>id</th>\n",
       "      <th>call_date</th>\n",
       "      <th>duration</th>\n",
       "      <th>mb_used</th>\n",
       "      <th>first_name</th>\n",
       "      <th>last_name</th>\n",
       "      <th>age</th>\n",
       "      <th>city</th>\n",
       "      <th>reg_date</th>\n",
       "      <th>...</th>\n",
       "      <th>usd_per_message</th>\n",
       "      <th>usd_per_minute</th>\n",
       "      <th>plan_name</th>\n",
       "      <th>extra_minute</th>\n",
       "      <th>extra_mb_used</th>\n",
       "      <th>extra_message</th>\n",
       "      <th>extra_minute_charge</th>\n",
       "      <th>extra_mb_charge</th>\n",
       "      <th>extra_message_charge</th>\n",
       "      <th>monthly_revenue</th>\n",
       "    </tr>\n",
       "  </thead>\n",
       "  <tbody>\n",
       "    <tr>\n",
       "      <th>0</th>\n",
       "      <td>1000</td>\n",
       "      <td>11.0</td>\n",
       "      <td>16.0</td>\n",
       "      <td>124.0</td>\n",
       "      <td>1901.47</td>\n",
       "      <td>Anamaria</td>\n",
       "      <td>Bauer</td>\n",
       "      <td>45</td>\n",
       "      <td>Atlanta-Sandy Springs-Roswell, GA MSA</td>\n",
       "      <td>2018-12-24</td>\n",
       "      <td>...</td>\n",
       "      <td>0.01</td>\n",
       "      <td>0.01</td>\n",
       "      <td>ultimate</td>\n",
       "      <td>0.0</td>\n",
       "      <td>0.00</td>\n",
       "      <td>0.0</td>\n",
       "      <td>0.0</td>\n",
       "      <td>0.0</td>\n",
       "      <td>0.0</td>\n",
       "      <td>70.0</td>\n",
       "    </tr>\n",
       "    <tr>\n",
       "      <th>1</th>\n",
       "      <td>1006</td>\n",
       "      <td>15.0</td>\n",
       "      <td>2.0</td>\n",
       "      <td>10.0</td>\n",
       "      <td>2068.37</td>\n",
       "      <td>Jesusa</td>\n",
       "      <td>Bradford</td>\n",
       "      <td>73</td>\n",
       "      <td>San Francisco-Oakland-Berkeley, CA MSA</td>\n",
       "      <td>2018-11-27</td>\n",
       "      <td>...</td>\n",
       "      <td>0.01</td>\n",
       "      <td>0.01</td>\n",
       "      <td>ultimate</td>\n",
       "      <td>0.0</td>\n",
       "      <td>0.00</td>\n",
       "      <td>0.0</td>\n",
       "      <td>0.0</td>\n",
       "      <td>0.0</td>\n",
       "      <td>0.0</td>\n",
       "      <td>70.0</td>\n",
       "    </tr>\n",
       "    <tr>\n",
       "      <th>2</th>\n",
       "      <td>1006</td>\n",
       "      <td>139.0</td>\n",
       "      <td>9.0</td>\n",
       "      <td>59.0</td>\n",
       "      <td>32118.82</td>\n",
       "      <td>Jesusa</td>\n",
       "      <td>Bradford</td>\n",
       "      <td>73</td>\n",
       "      <td>San Francisco-Oakland-Berkeley, CA MSA</td>\n",
       "      <td>2018-11-27</td>\n",
       "      <td>...</td>\n",
       "      <td>0.01</td>\n",
       "      <td>0.01</td>\n",
       "      <td>ultimate</td>\n",
       "      <td>0.0</td>\n",
       "      <td>1398.82</td>\n",
       "      <td>0.0</td>\n",
       "      <td>0.0</td>\n",
       "      <td>14.0</td>\n",
       "      <td>0.0</td>\n",
       "      <td>84.0</td>\n",
       "    </tr>\n",
       "    <tr>\n",
       "      <th>3</th>\n",
       "      <td>1008</td>\n",
       "      <td>21.0</td>\n",
       "      <td>71.0</td>\n",
       "      <td>476.0</td>\n",
       "      <td>17106.99</td>\n",
       "      <td>Emely</td>\n",
       "      <td>Hoffman</td>\n",
       "      <td>53</td>\n",
       "      <td>Orlando-Kissimmee-Sanford, FL MSA</td>\n",
       "      <td>2018-08-03</td>\n",
       "      <td>...</td>\n",
       "      <td>0.01</td>\n",
       "      <td>0.01</td>\n",
       "      <td>ultimate</td>\n",
       "      <td>0.0</td>\n",
       "      <td>0.00</td>\n",
       "      <td>0.0</td>\n",
       "      <td>0.0</td>\n",
       "      <td>0.0</td>\n",
       "      <td>0.0</td>\n",
       "      <td>70.0</td>\n",
       "    </tr>\n",
       "    <tr>\n",
       "      <th>4</th>\n",
       "      <td>1008</td>\n",
       "      <td>37.0</td>\n",
       "      <td>63.0</td>\n",
       "      <td>446.0</td>\n",
       "      <td>23676.72</td>\n",
       "      <td>Emely</td>\n",
       "      <td>Hoffman</td>\n",
       "      <td>53</td>\n",
       "      <td>Orlando-Kissimmee-Sanford, FL MSA</td>\n",
       "      <td>2018-08-03</td>\n",
       "      <td>...</td>\n",
       "      <td>0.01</td>\n",
       "      <td>0.01</td>\n",
       "      <td>ultimate</td>\n",
       "      <td>0.0</td>\n",
       "      <td>0.00</td>\n",
       "      <td>0.0</td>\n",
       "      <td>0.0</td>\n",
       "      <td>0.0</td>\n",
       "      <td>0.0</td>\n",
       "      <td>70.0</td>\n",
       "    </tr>\n",
       "    <tr>\n",
       "      <th>...</th>\n",
       "      <td>...</td>\n",
       "      <td>...</td>\n",
       "      <td>...</td>\n",
       "      <td>...</td>\n",
       "      <td>...</td>\n",
       "      <td>...</td>\n",
       "      <td>...</td>\n",
       "      <td>...</td>\n",
       "      <td>...</td>\n",
       "      <td>...</td>\n",
       "      <td>...</td>\n",
       "      <td>...</td>\n",
       "      <td>...</td>\n",
       "      <td>...</td>\n",
       "      <td>...</td>\n",
       "      <td>...</td>\n",
       "      <td>...</td>\n",
       "      <td>...</td>\n",
       "      <td>...</td>\n",
       "      <td>...</td>\n",
       "      <td>...</td>\n",
       "    </tr>\n",
       "    <tr>\n",
       "      <th>2288</th>\n",
       "      <td>1498</td>\n",
       "      <td>0.0</td>\n",
       "      <td>39.0</td>\n",
       "      <td>339.0</td>\n",
       "      <td>23137.69</td>\n",
       "      <td>Scot</td>\n",
       "      <td>Williamson</td>\n",
       "      <td>51</td>\n",
       "      <td>New York-Newark-Jersey City, NY-NJ-PA MSA</td>\n",
       "      <td>2018-02-04</td>\n",
       "      <td>...</td>\n",
       "      <td>0.03</td>\n",
       "      <td>0.03</td>\n",
       "      <td>surf</td>\n",
       "      <td>0.0</td>\n",
       "      <td>7777.69</td>\n",
       "      <td>0.0</td>\n",
       "      <td>0.0</td>\n",
       "      <td>80.0</td>\n",
       "      <td>0.0</td>\n",
       "      <td>100.0</td>\n",
       "    </tr>\n",
       "    <tr>\n",
       "      <th>2289</th>\n",
       "      <td>1499</td>\n",
       "      <td>0.0</td>\n",
       "      <td>41.0</td>\n",
       "      <td>346.0</td>\n",
       "      <td>12984.76</td>\n",
       "      <td>Shena</td>\n",
       "      <td>Dickson</td>\n",
       "      <td>37</td>\n",
       "      <td>Orlando-Kissimmee-Sanford, FL MSA</td>\n",
       "      <td>2018-05-06</td>\n",
       "      <td>...</td>\n",
       "      <td>0.03</td>\n",
       "      <td>0.03</td>\n",
       "      <td>surf</td>\n",
       "      <td>0.0</td>\n",
       "      <td>0.00</td>\n",
       "      <td>0.0</td>\n",
       "      <td>0.0</td>\n",
       "      <td>0.0</td>\n",
       "      <td>0.0</td>\n",
       "      <td>20.0</td>\n",
       "    </tr>\n",
       "    <tr>\n",
       "      <th>2290</th>\n",
       "      <td>1499</td>\n",
       "      <td>0.0</td>\n",
       "      <td>53.0</td>\n",
       "      <td>385.0</td>\n",
       "      <td>19492.43</td>\n",
       "      <td>Shena</td>\n",
       "      <td>Dickson</td>\n",
       "      <td>37</td>\n",
       "      <td>Orlando-Kissimmee-Sanford, FL MSA</td>\n",
       "      <td>2018-05-06</td>\n",
       "      <td>...</td>\n",
       "      <td>0.03</td>\n",
       "      <td>0.03</td>\n",
       "      <td>surf</td>\n",
       "      <td>0.0</td>\n",
       "      <td>4132.43</td>\n",
       "      <td>0.0</td>\n",
       "      <td>0.0</td>\n",
       "      <td>50.0</td>\n",
       "      <td>0.0</td>\n",
       "      <td>70.0</td>\n",
       "    </tr>\n",
       "    <tr>\n",
       "      <th>2291</th>\n",
       "      <td>1499</td>\n",
       "      <td>0.0</td>\n",
       "      <td>45.0</td>\n",
       "      <td>308.0</td>\n",
       "      <td>16813.83</td>\n",
       "      <td>Shena</td>\n",
       "      <td>Dickson</td>\n",
       "      <td>37</td>\n",
       "      <td>Orlando-Kissimmee-Sanford, FL MSA</td>\n",
       "      <td>2018-05-06</td>\n",
       "      <td>...</td>\n",
       "      <td>0.03</td>\n",
       "      <td>0.03</td>\n",
       "      <td>surf</td>\n",
       "      <td>0.0</td>\n",
       "      <td>1453.83</td>\n",
       "      <td>0.0</td>\n",
       "      <td>0.0</td>\n",
       "      <td>20.0</td>\n",
       "      <td>0.0</td>\n",
       "      <td>40.0</td>\n",
       "    </tr>\n",
       "    <tr>\n",
       "      <th>2292</th>\n",
       "      <td>1499</td>\n",
       "      <td>0.0</td>\n",
       "      <td>65.0</td>\n",
       "      <td>496.0</td>\n",
       "      <td>22059.21</td>\n",
       "      <td>Shena</td>\n",
       "      <td>Dickson</td>\n",
       "      <td>37</td>\n",
       "      <td>Orlando-Kissimmee-Sanford, FL MSA</td>\n",
       "      <td>2018-05-06</td>\n",
       "      <td>...</td>\n",
       "      <td>0.03</td>\n",
       "      <td>0.03</td>\n",
       "      <td>surf</td>\n",
       "      <td>0.0</td>\n",
       "      <td>6699.21</td>\n",
       "      <td>0.0</td>\n",
       "      <td>0.0</td>\n",
       "      <td>70.0</td>\n",
       "      <td>0.0</td>\n",
       "      <td>90.0</td>\n",
       "    </tr>\n",
       "  </tbody>\n",
       "</table>\n",
       "<p>2293 rows × 27 columns</p>\n",
       "</div>"
      ],
      "text/plain": [
       "      user_id     id  call_date  duration   mb_used first_name   last_name  \\\n",
       "0        1000   11.0       16.0     124.0   1901.47   Anamaria       Bauer   \n",
       "1        1006   15.0        2.0      10.0   2068.37     Jesusa    Bradford   \n",
       "2        1006  139.0        9.0      59.0  32118.82     Jesusa    Bradford   \n",
       "3        1008   21.0       71.0     476.0  17106.99      Emely     Hoffman   \n",
       "4        1008   37.0       63.0     446.0  23676.72      Emely     Hoffman   \n",
       "...       ...    ...        ...       ...       ...        ...         ...   \n",
       "2288     1498    0.0       39.0     339.0  23137.69       Scot  Williamson   \n",
       "2289     1499    0.0       41.0     346.0  12984.76      Shena     Dickson   \n",
       "2290     1499    0.0       53.0     385.0  19492.43      Shena     Dickson   \n",
       "2291     1499    0.0       45.0     308.0  16813.83      Shena     Dickson   \n",
       "2292     1499    0.0       65.0     496.0  22059.21      Shena     Dickson   \n",
       "\n",
       "      age                                       city   reg_date  ...  \\\n",
       "0      45      Atlanta-Sandy Springs-Roswell, GA MSA 2018-12-24  ...   \n",
       "1      73     San Francisco-Oakland-Berkeley, CA MSA 2018-11-27  ...   \n",
       "2      73     San Francisco-Oakland-Berkeley, CA MSA 2018-11-27  ...   \n",
       "3      53          Orlando-Kissimmee-Sanford, FL MSA 2018-08-03  ...   \n",
       "4      53          Orlando-Kissimmee-Sanford, FL MSA 2018-08-03  ...   \n",
       "...   ...                                        ...        ...  ...   \n",
       "2288   51  New York-Newark-Jersey City, NY-NJ-PA MSA 2018-02-04  ...   \n",
       "2289   37          Orlando-Kissimmee-Sanford, FL MSA 2018-05-06  ...   \n",
       "2290   37          Orlando-Kissimmee-Sanford, FL MSA 2018-05-06  ...   \n",
       "2291   37          Orlando-Kissimmee-Sanford, FL MSA 2018-05-06  ...   \n",
       "2292   37          Orlando-Kissimmee-Sanford, FL MSA 2018-05-06  ...   \n",
       "\n",
       "     usd_per_message  usd_per_minute  plan_name  extra_minute  extra_mb_used  \\\n",
       "0               0.01            0.01   ultimate           0.0           0.00   \n",
       "1               0.01            0.01   ultimate           0.0           0.00   \n",
       "2               0.01            0.01   ultimate           0.0        1398.82   \n",
       "3               0.01            0.01   ultimate           0.0           0.00   \n",
       "4               0.01            0.01   ultimate           0.0           0.00   \n",
       "...              ...             ...        ...           ...            ...   \n",
       "2288            0.03            0.03       surf           0.0        7777.69   \n",
       "2289            0.03            0.03       surf           0.0           0.00   \n",
       "2290            0.03            0.03       surf           0.0        4132.43   \n",
       "2291            0.03            0.03       surf           0.0        1453.83   \n",
       "2292            0.03            0.03       surf           0.0        6699.21   \n",
       "\n",
       "      extra_message  extra_minute_charge  extra_mb_charge  \\\n",
       "0               0.0                  0.0              0.0   \n",
       "1               0.0                  0.0              0.0   \n",
       "2               0.0                  0.0             14.0   \n",
       "3               0.0                  0.0              0.0   \n",
       "4               0.0                  0.0              0.0   \n",
       "...             ...                  ...              ...   \n",
       "2288            0.0                  0.0             80.0   \n",
       "2289            0.0                  0.0              0.0   \n",
       "2290            0.0                  0.0             50.0   \n",
       "2291            0.0                  0.0             20.0   \n",
       "2292            0.0                  0.0             70.0   \n",
       "\n",
       "      extra_message_charge monthly_revenue  \n",
       "0                      0.0            70.0  \n",
       "1                      0.0            70.0  \n",
       "2                      0.0            84.0  \n",
       "3                      0.0            70.0  \n",
       "4                      0.0            70.0  \n",
       "...                    ...             ...  \n",
       "2288                   0.0           100.0  \n",
       "2289                   0.0            20.0  \n",
       "2290                   0.0            70.0  \n",
       "2291                   0.0            40.0  \n",
       "2292                   0.0            90.0  \n",
       "\n",
       "[2293 rows x 27 columns]"
      ]
     },
     "execution_count": 40,
     "metadata": {},
     "output_type": "execute_result"
    }
   ],
   "source": [
    "merged_data"
   ]
  },
  {
   "cell_type": "code",
   "execution_count": 41,
   "metadata": {},
   "outputs": [
    {
     "data": {
      "image/png": "[encoded data removed]",
      "text/plain": [
       "<Figure size 640x480 with 1 Axes>"
      ]
     },
     "metadata": {},
     "output_type": "display_data"
    }
   ],
   "source": [
    "## Compare average duration of calls per each plan per each distinct month. Plotting a bar plat to visualize it.\n",
    "\n",
    "avg_calls = merged_data.groupby(['plan','month'])['duration'].mean().unstack(level=0)\n",
    "avg_calls\n",
    "\n",
    "avg_calls.plot(\n",
    "              kind='bar',\n",
    "              stacked = False,\n",
    "              title='Average number of calls per month',\n",
    "              xlabel='Months',\n",
    "              ylabel='duration')\n",
    "                 \n",
    "plt.legend(['Sur','Ult'])    \n",
    "plt.show()"
   ]
  },
  {
   "cell_type": "code",
   "execution_count": 42,
   "metadata": {},
   "outputs": [],
   "source": [
    "#### Average duration of calls is more for ultimate plan users is higher for about 8 months where as surf was more for 4 months.\n"
   ]
  },
  {
   "cell_type": "code",
   "execution_count": 43,
   "metadata": {},
   "outputs": [
    {
     "data": {
      "image/png": "[encoded data removed]",
      "text/plain": [
       "<Figure size 1000x500 with 1 Axes>"
      ]
     },
     "metadata": {},
     "output_type": "display_data"
    }
   ],
   "source": [
    "# Compare the number of minutes users of each plan require each month. Plot a histogram.\n",
    "\n",
    "\n",
    "users_surf= merged_data[merged_data['plan'] == 'surf']\n",
    "users_ultimate = merged_data[merged_data['plan'] == 'ultimate']\n",
    "\n",
    "\n",
    "users_surf['duration'].plot(kind='hist', x='month', bins=20, figsize=(10,5), color= ('blue'), alpha =0.3)\n",
    "users_ultimate['duration'].plot(kind='hist',x='month', bins=20, figsize=(10,5),alpha=0.3)\n",
    "plt.legend(['Surf','Ultimate'])\n",
    "plt.show()\n"
   ]
  },
  {
   "cell_type": "markdown",
   "metadata": {},
   "source": [
    "#### The number of minutes used by Surf plan user is way more than the ultimate users "
   ]
  },
  {
   "cell_type": "markdown",
   "metadata": {},
   "source": [
    "## [Calculate the mean and the variable of the call duration to reason on whether users on the different plans have different behaviours for their calls.]"
   ]
  },
  {
   "cell_type": "code",
   "execution_count": 44,
   "metadata": {},
   "outputs": [
    {
     "name": "stdout",
     "output_type": "stream",
     "text": [
      "The mean for monthly call duration: 428.7495232040687\n",
      "The variance for monthly call duration: 54968.27946065038\n",
      "The mean for monthly call duration: 430.45\n",
      "The variance for monthly call duration: 57844.46481223922\n"
     ]
    }
   ],
   "source": [
    "# Calculate the mean and the variance of the monthly call duration\n",
    "\n",
    "users_surf= merged_data[merged_data['plan'] == 'surf']['duration'].mean()\n",
    "users_surf_var= merged_data[merged_data['plan'] == 'surf']['duration'].var()\n",
    "\n",
    "users_ultimate = merged_data[merged_data['plan'] == 'ultimate']['duration'].mean()\n",
    "users_ultimate_var= merged_data[merged_data['plan'] == 'ultimate']['duration'].var()\n",
    "\n",
    "print(\"The mean for monthly call duration:\", users_surf)\n",
    "print(\"The variance for monthly call duration:\", users_surf_var)\n",
    "print(\"The mean for monthly call duration:\", users_ultimate)\n",
    "print(\"The variance for monthly call duration:\", users_ultimate_var)"
   ]
  },
  {
   "cell_type": "code",
   "execution_count": 45,
   "metadata": {},
   "outputs": [
    {
     "data": {
      "text/html": [
       "<div>\n",
       "<style scoped>\n",
       "    .dataframe tbody tr th:only-of-type {\n",
       "        vertical-align: middle;\n",
       "    }\n",
       "\n",
       "    .dataframe tbody tr th {\n",
       "        vertical-align: top;\n",
       "    }\n",
       "\n",
       "    .dataframe thead th {\n",
       "        text-align: right;\n",
       "    }\n",
       "</style>\n",
       "<table border=\"1\" class=\"dataframe\">\n",
       "  <thead>\n",
       "    <tr style=\"text-align: right;\">\n",
       "      <th></th>\n",
       "      <th>user_id</th>\n",
       "      <th>month</th>\n",
       "      <th>call_date</th>\n",
       "      <th>duration</th>\n",
       "      <th>first_name</th>\n",
       "      <th>last_name</th>\n",
       "      <th>age</th>\n",
       "      <th>city</th>\n",
       "      <th>reg_date</th>\n",
       "      <th>plan</th>\n",
       "    </tr>\n",
       "  </thead>\n",
       "  <tbody>\n",
       "    <tr>\n",
       "      <th>0</th>\n",
       "      <td>1000</td>\n",
       "      <td>12</td>\n",
       "      <td>16</td>\n",
       "      <td>124</td>\n",
       "      <td>Anamaria</td>\n",
       "      <td>Bauer</td>\n",
       "      <td>45</td>\n",
       "      <td>Atlanta-Sandy Springs-Roswell, GA MSA</td>\n",
       "      <td>2018-12-24</td>\n",
       "      <td>ultimate</td>\n",
       "    </tr>\n",
       "    <tr>\n",
       "      <th>1</th>\n",
       "      <td>1001</td>\n",
       "      <td>8</td>\n",
       "      <td>27</td>\n",
       "      <td>182</td>\n",
       "      <td>Mickey</td>\n",
       "      <td>Wilkerson</td>\n",
       "      <td>28</td>\n",
       "      <td>Seattle-Tacoma-Bellevue, WA MSA</td>\n",
       "      <td>2018-08-13</td>\n",
       "      <td>surf</td>\n",
       "    </tr>\n",
       "    <tr>\n",
       "      <th>2</th>\n",
       "      <td>1002</td>\n",
       "      <td>10</td>\n",
       "      <td>11</td>\n",
       "      <td>59</td>\n",
       "      <td>Carlee</td>\n",
       "      <td>Hoffman</td>\n",
       "      <td>36</td>\n",
       "      <td>Las Vegas-Henderson-Paradise, NV MSA</td>\n",
       "      <td>2018-10-21</td>\n",
       "      <td>surf</td>\n",
       "    </tr>\n",
       "    <tr>\n",
       "      <th>3</th>\n",
       "      <td>1004</td>\n",
       "      <td>5</td>\n",
       "      <td>21</td>\n",
       "      <td>193</td>\n",
       "      <td>Leonila</td>\n",
       "      <td>Thompson</td>\n",
       "      <td>40</td>\n",
       "      <td>Seattle-Tacoma-Bellevue, WA MSA</td>\n",
       "      <td>2018-05-23</td>\n",
       "      <td>surf</td>\n",
       "    </tr>\n",
       "    <tr>\n",
       "      <th>4</th>\n",
       "      <td>1006</td>\n",
       "      <td>11</td>\n",
       "      <td>2</td>\n",
       "      <td>10</td>\n",
       "      <td>Jesusa</td>\n",
       "      <td>Bradford</td>\n",
       "      <td>73</td>\n",
       "      <td>San Francisco-Oakland-Berkeley, CA MSA</td>\n",
       "      <td>2018-11-27</td>\n",
       "      <td>ultimate</td>\n",
       "    </tr>\n",
       "    <tr>\n",
       "      <th>...</th>\n",
       "      <td>...</td>\n",
       "      <td>...</td>\n",
       "      <td>...</td>\n",
       "      <td>...</td>\n",
       "      <td>...</td>\n",
       "      <td>...</td>\n",
       "      <td>...</td>\n",
       "      <td>...</td>\n",
       "      <td>...</td>\n",
       "      <td>...</td>\n",
       "    </tr>\n",
       "    <tr>\n",
       "      <th>235</th>\n",
       "      <td>1488</td>\n",
       "      <td>5</td>\n",
       "      <td>42</td>\n",
       "      <td>299</td>\n",
       "      <td>Shirley</td>\n",
       "      <td>Jones</td>\n",
       "      <td>29</td>\n",
       "      <td>Baton Rouge, LA MSA</td>\n",
       "      <td>2018-05-15</td>\n",
       "      <td>surf</td>\n",
       "    </tr>\n",
       "    <tr>\n",
       "      <th>236</th>\n",
       "      <td>1491</td>\n",
       "      <td>4</td>\n",
       "      <td>8</td>\n",
       "      <td>44</td>\n",
       "      <td>Terina</td>\n",
       "      <td>Jensen</td>\n",
       "      <td>22</td>\n",
       "      <td>Grand Rapids-Kentwood, MI MSA</td>\n",
       "      <td>2018-04-27</td>\n",
       "      <td>surf</td>\n",
       "    </tr>\n",
       "    <tr>\n",
       "      <th>237</th>\n",
       "      <td>1495</td>\n",
       "      <td>9</td>\n",
       "      <td>52</td>\n",
       "      <td>302</td>\n",
       "      <td>Fidel</td>\n",
       "      <td>Sharpe</td>\n",
       "      <td>67</td>\n",
       "      <td>New York-Newark-Jersey City, NY-NJ-PA MSA</td>\n",
       "      <td>2018-09-04</td>\n",
       "      <td>surf</td>\n",
       "    </tr>\n",
       "    <tr>\n",
       "      <th>238</th>\n",
       "      <td>1497</td>\n",
       "      <td>12</td>\n",
       "      <td>54</td>\n",
       "      <td>300</td>\n",
       "      <td>Donte</td>\n",
       "      <td>Barrera</td>\n",
       "      <td>49</td>\n",
       "      <td>Los Angeles-Long Beach-Anaheim, CA MSA</td>\n",
       "      <td>2018-12-10</td>\n",
       "      <td>ultimate</td>\n",
       "    </tr>\n",
       "    <tr>\n",
       "      <th>239</th>\n",
       "      <td>1498</td>\n",
       "      <td>2</td>\n",
       "      <td>37</td>\n",
       "      <td>244</td>\n",
       "      <td>Scot</td>\n",
       "      <td>Williamson</td>\n",
       "      <td>51</td>\n",
       "      <td>New York-Newark-Jersey City, NY-NJ-PA MSA</td>\n",
       "      <td>2018-02-04</td>\n",
       "      <td>surf</td>\n",
       "    </tr>\n",
       "  </tbody>\n",
       "</table>\n",
       "<p>240 rows × 10 columns</p>\n",
       "</div>"
      ],
      "text/plain": [
       "     user_id  month  call_date  duration first_name   last_name  age  \\\n",
       "0       1000     12         16       124   Anamaria       Bauer   45   \n",
       "1       1001      8         27       182     Mickey   Wilkerson   28   \n",
       "2       1002     10         11        59     Carlee     Hoffman   36   \n",
       "3       1004      5         21       193    Leonila    Thompson   40   \n",
       "4       1006     11          2        10     Jesusa    Bradford   73   \n",
       "..       ...    ...        ...       ...        ...         ...  ...   \n",
       "235     1488      5         42       299    Shirley       Jones   29   \n",
       "236     1491      4          8        44     Terina      Jensen   22   \n",
       "237     1495      9         52       302      Fidel      Sharpe   67   \n",
       "238     1497     12         54       300      Donte     Barrera   49   \n",
       "239     1498      2         37       244       Scot  Williamson   51   \n",
       "\n",
       "                                          city   reg_date      plan  \n",
       "0        Atlanta-Sandy Springs-Roswell, GA MSA 2018-12-24  ultimate  \n",
       "1              Seattle-Tacoma-Bellevue, WA MSA 2018-08-13      surf  \n",
       "2         Las Vegas-Henderson-Paradise, NV MSA 2018-10-21      surf  \n",
       "3              Seattle-Tacoma-Bellevue, WA MSA 2018-05-23      surf  \n",
       "4       San Francisco-Oakland-Berkeley, CA MSA 2018-11-27  ultimate  \n",
       "..                                         ...        ...       ...  \n",
       "235                        Baton Rouge, LA MSA 2018-05-15      surf  \n",
       "236              Grand Rapids-Kentwood, MI MSA 2018-04-27      surf  \n",
       "237  New York-Newark-Jersey City, NY-NJ-PA MSA 2018-09-04      surf  \n",
       "238     Los Angeles-Long Beach-Anaheim, CA MSA 2018-12-10  ultimate  \n",
       "239  New York-Newark-Jersey City, NY-NJ-PA MSA 2018-02-04      surf  \n",
       "\n",
       "[240 rows x 10 columns]"
      ]
     },
     "execution_count": 45,
     "metadata": {},
     "output_type": "execute_result"
    }
   ],
   "source": [
    "## Number of Calls made by each user per month\n",
    "\n",
    "monthly_call_user = monthly_calls.merge(users, on = ['user_id', 'month'])\n",
    "monthly_call_user"
   ]
  },
  {
   "cell_type": "code",
   "execution_count": 46,
   "metadata": {},
   "outputs": [
    {
     "data": {
      "text/plain": [
       "user_id  plan    \n",
       "1000     ultimate     10.333333\n",
       "1001     surf         22.750000\n",
       "1002     surf          5.900000\n",
       "1004     surf         38.600000\n",
       "1006     ultimate      0.909091\n",
       "                        ...    \n",
       "1488     surf         59.800000\n",
       "1491     surf         11.000000\n",
       "1495     surf         33.555556\n",
       "1497     ultimate     25.000000\n",
       "1498     surf        122.000000\n",
       "Length: 240, dtype: float64"
      ]
     },
     "execution_count": 46,
     "metadata": {},
     "output_type": "execute_result"
    }
   ],
   "source": [
    "## Average duration of calls made by each user \n",
    "\n",
    "total_month_user = monthly_call_user.groupby(['user_id', 'plan']).agg({'month':'sum','duration':'sum'})\n",
    "avg_user_duration = total_month_user['duration'] / total_month_user['month']\n",
    "avg_user_duration"
   ]
  },
  {
   "cell_type": "code",
   "execution_count": 47,
   "metadata": {},
   "outputs": [
    {
     "data": {
      "text/plain": [
       "<Figure size 1000x600 with 0 Axes>"
      ]
     },
     "metadata": {},
     "output_type": "display_data"
    },
    {
     "data": {
      "image/png": "[encoded data removed]",
      "text/plain": [
       "<Figure size 640x480 with 1 Axes>"
      ]
     },
     "metadata": {},
     "output_type": "display_data"
    }
   ],
   "source": [
    "# Plot a boxplot to visualize the distribution of the monthly call duration\n",
    "\n",
    "plt.figure(figsize=(10, 6))\n",
    "merged_data.boxplot(column ='duration', by = 'plan')\n",
    "plt.title('Monthly calls')\n",
    "plt.xlabel('plan')\n",
    "plt.ylabel('duration')\n",
    "plt.suptitle('')\n",
    "plt.show()\n"
   ]
  },
  {
   "cell_type": "markdown",
   "metadata": {},
   "source": [
    "\n",
    "## Analysis of box plot \n",
    "#### In surf pre paid plan there is one value which is far from all the plot. It means surf prepaid plan has one user who does way more calls than other users. Most of the data for surface and ultimate plans lies 250 - 580 duration. There is one data in surf plan which is at extreme outliner as I see one data of the user is far away from other datas.\n",
    "\n"
   ]
  },
  {
   "cell_type": "markdown",
   "metadata": {},
   "source": [
    " "
   ]
  },
  {
   "cell_type": "markdown",
   "metadata": {},
   "source": [
    "### Messages"
   ]
  },
  {
   "cell_type": "code",
   "execution_count": 48,
   "metadata": {
    "scrolled": true
   },
   "outputs": [
    {
     "data": {
      "image/png": "[encoded data removed]",
      "text/plain": [
       "<Figure size 640x480 with 1 Axes>"
      ]
     },
     "metadata": {},
     "output_type": "display_data"
    }
   ],
   "source": [
    "### Comparing the number of messages users of each plan tend to send each month\n",
    "\n",
    "avg_messages = merged_data.groupby(['plan','month'])['id'].mean().unstack(level=0)\n",
    "avg_messages\n",
    "\n",
    "avg_messages.plot(\n",
    "              kind='bar',\n",
    "              stacked = False,\n",
    "              title='Average number of messages per month',\n",
    "              xlabel='Months',\n",
    "              ylabel='duration')\n",
    "                 \n",
    "plt.legend(['Sur','Ult'])    \n",
    "plt.show()\n",
    "\n",
    "\n"
   ]
  },
  {
   "cell_type": "code",
   "execution_count": 49,
   "metadata": {},
   "outputs": [
    {
     "name": "stdout",
     "output_type": "stream",
     "text": [
      "The mean for monthly messaging: 31.15956770502225\n",
      "The variance for monthly messaging: 1126.7245219504068\n",
      "The mean for monthly  messaging: 37.55138888888889\n",
      "The variance for monthly messaging: 1208.7567435481378\n"
     ]
    }
   ],
   "source": [
    "### Comparing the number of messages users of each plan tend to send each month\n",
    "\n",
    "users_surf= merged_data[merged_data['plan'] == 'surf']['id'].mean()\n",
    "users_surf_var= merged_data[merged_data['plan'] == 'surf']['id'].var()\n",
    "\n",
    "users_ultimate = merged_data[merged_data['plan'] == 'ultimate']['id'].mean()\n",
    "users_ultimate_var= merged_data[merged_data['plan'] == 'ultimate']['id'].var()\n",
    "\n",
    "print(\"The mean for monthly messaging:\", users_surf)\n",
    "print(\"The variance for monthly messaging:\", users_surf_var)\n",
    "print(\"The mean for monthly  messaging:\", users_ultimate)\n",
    "print(\"The variance for monthly messaging:\", users_ultimate_var)"
   ]
  },
  {
   "cell_type": "markdown",
   "metadata": {},
   "source": [
    "## Analysis of messages\n",
    "\n",
    "#### Ultimate customers have higher amount of messaging from the month of April to September. Surf customers have higher amount of messaging from January to March & October & December.\n"
   ]
  },
  {
   "cell_type": "code",
   "execution_count": 50,
   "metadata": {},
   "outputs": [
    {
     "data": {
      "text/html": [
       "<div>\n",
       "<style scoped>\n",
       "    .dataframe tbody tr th:only-of-type {\n",
       "        vertical-align: middle;\n",
       "    }\n",
       "\n",
       "    .dataframe tbody tr th {\n",
       "        vertical-align: top;\n",
       "    }\n",
       "\n",
       "    .dataframe thead th {\n",
       "        text-align: right;\n",
       "    }\n",
       "</style>\n",
       "<table border=\"1\" class=\"dataframe\">\n",
       "  <thead>\n",
       "    <tr style=\"text-align: right;\">\n",
       "      <th></th>\n",
       "      <th></th>\n",
       "      <th>mb_used</th>\n",
       "    </tr>\n",
       "    <tr>\n",
       "      <th>plan</th>\n",
       "      <th>user_id</th>\n",
       "      <th></th>\n",
       "    </tr>\n",
       "  </thead>\n",
       "  <tbody>\n",
       "    <tr>\n",
       "      <th rowspan=\"5\" valign=\"top\">surf</th>\n",
       "      <th>1001</th>\n",
       "      <td>80437.94</td>\n",
       "    </tr>\n",
       "    <tr>\n",
       "      <th>1002</th>\n",
       "      <td>40293.33</td>\n",
       "    </tr>\n",
       "    <tr>\n",
       "      <th>1003</th>\n",
       "      <td>27044.14</td>\n",
       "    </tr>\n",
       "    <tr>\n",
       "      <th>1004</th>\n",
       "      <td>156352.81</td>\n",
       "    </tr>\n",
       "    <tr>\n",
       "      <th>1005</th>\n",
       "      <td>17140.17</td>\n",
       "    </tr>\n",
       "    <tr>\n",
       "      <th>...</th>\n",
       "      <th>...</th>\n",
       "      <td>...</td>\n",
       "    </tr>\n",
       "    <tr>\n",
       "      <th rowspan=\"5\" valign=\"top\">ultimate</th>\n",
       "      <th>1482</th>\n",
       "      <td>20806.13</td>\n",
       "    </tr>\n",
       "    <tr>\n",
       "      <th>1487</th>\n",
       "      <td>13992.39</td>\n",
       "    </tr>\n",
       "    <tr>\n",
       "      <th>1490</th>\n",
       "      <td>190904.51</td>\n",
       "    </tr>\n",
       "    <tr>\n",
       "      <th>1493</th>\n",
       "      <td>76378.43</td>\n",
       "    </tr>\n",
       "    <tr>\n",
       "      <th>1497</th>\n",
       "      <td>11106.55</td>\n",
       "    </tr>\n",
       "  </tbody>\n",
       "</table>\n",
       "<p>490 rows × 1 columns</p>\n",
       "</div>"
      ],
      "text/plain": [
       "                    mb_used\n",
       "plan     user_id           \n",
       "surf     1001      80437.94\n",
       "         1002      40293.33\n",
       "         1003      27044.14\n",
       "         1004     156352.81\n",
       "         1005      17140.17\n",
       "...                     ...\n",
       "ultimate 1482      20806.13\n",
       "         1487      13992.39\n",
       "         1490     190904.51\n",
       "         1493      76378.43\n",
       "         1497      11106.55\n",
       "\n",
       "[490 rows x 1 columns]"
      ]
     },
     "execution_count": 50,
     "metadata": {},
     "output_type": "execute_result"
    }
   ],
   "source": [
    "# Comparing  the amount of internet traffic consumed by users per plan\n",
    "internet_traffic = merged_data.groupby(['plan','user_id']).agg({'mb_used':'sum'})\n",
    "internet_traffic\n"
   ]
  },
  {
   "cell_type": "markdown",
   "metadata": {},
   "source": [
    "#### By this above data from both the plans it looks like more internet traffic for surf plan. It is little over double the ultimate plan. Which means either surf plan has more customers or same amount of customers are just using too much data."
   ]
  },
  {
   "cell_type": "markdown",
   "metadata": {},
   "source": [
    "### Internet"
   ]
  },
  {
   "cell_type": "code",
   "execution_count": 51,
   "metadata": {},
   "outputs": [
    {
     "data": {
      "image/png": "[encoded data removed]",
      "text/plain": [
       "<Figure size 640x480 with 1 Axes>"
      ]
     },
     "metadata": {},
     "output_type": "display_data"
    }
   ],
   "source": [
    "## Compare average mb_used per each plan per each distinct month. Plot a bar plat to visualize it.\n",
    "\n",
    "avg_mb_used = merged_data.groupby(['plan','month'])['mb_used'].mean().unstack(level=0)\n",
    "avg_mb_used\n",
    "\n",
    "avg_mb_used.plot(\n",
    "              kind='bar',\n",
    "              stacked = False,\n",
    "              title='Average mb_used per month',\n",
    "              xlabel='Months',\n",
    "              ylabel='mb_used')\n",
    "                 \n",
    "plt.legend(['Sur','Ult'])    \n",
    "plt.show()"
   ]
  },
  {
   "cell_type": "markdown",
   "metadata": {},
   "source": [
    "## Analysis Internet_traffic data \n",
    "##### While looking at the data between internet traffic between two datas. I noticed both plans are never same. It is always one more or less. The mean is higher for internet traffic for ultimate which can be that some of ultimate plan'scustomers are using internet for elongated period of time throughout whole year but  Surf plan customers on the other hand are more active during May, July, September and December."
   ]
  },
  {
   "cell_type": "code",
   "execution_count": 52,
   "metadata": {},
   "outputs": [
    {
     "name": "stdout",
     "output_type": "stream",
     "text": [
      "The mean for monthly internet used: 16558.283490146216\n",
      "The variance for monthly internet used: 64216395.838027954\n",
      "The mean for monthly internet used: 17214.699694444444\n",
      "The variance for monthly internet used: 61652293.32385832\n"
     ]
    }
   ],
   "source": [
    " ## Calculated the mean and the variance of the monthly mb_used \n",
    "\n",
    "users_surf= merged_data[merged_data['plan'] == 'surf']['mb_used'].mean()\n",
    "users_surf_var= merged_data[merged_data['plan'] == 'surf']['mb_used'].var()\n",
    "\n",
    "users_ultimate = merged_data[merged_data['plan'] == 'ultimate']['mb_used'].mean()\n",
    "users_ultimate_var= merged_data[merged_data['plan'] == 'ultimate']['mb_used'].var()\n",
    "\n",
    "print(\"The mean for monthly internet used:\", users_surf)\n",
    "print(\"The variance for monthly internet used:\", users_surf_var)\n",
    "print(\"The mean for monthly internet used:\", users_ultimate)\n",
    "print(\"The variance for monthly internet used:\", users_ultimate_var)\n",
    "\n"
   ]
  },
  {
   "cell_type": "markdown",
   "metadata": {},
   "source": [
    "## Revenue"
   ]
  },
  {
   "cell_type": "code",
   "execution_count": 53,
   "metadata": {},
   "outputs": [
    {
     "name": "stdout",
     "output_type": "stream",
     "text": [
      "The mean for monthly revenue used: 60.706408137317226\n",
      "The variance for monthly revenue used: 3067.835152293878\n",
      "The mean for monthly revenue used: 72.31388888888888\n",
      "The variance for monthly revenue used: 129.8484855509195\n"
     ]
    }
   ],
   "source": [
    "# Calculated the mean and the variance of the monthly revenue\n",
    "users_surf= merged_data[merged_data['plan'] == 'surf']['monthly_revenue'].mean()\n",
    "users_surf_var= merged_data[merged_data['plan'] == 'surf']['monthly_revenue'].var()\n",
    "\n",
    "users_ultimate = merged_data[merged_data['plan'] == 'ultimate']['monthly_revenue'].mean()\n",
    "users_ultimate_var= merged_data[merged_data['plan'] == 'ultimate']['monthly_revenue'].var()\n",
    "\n",
    "print(\"The mean for monthly revenue used:\", users_surf)\n",
    "print(\"The variance for monthly revenue used:\", users_surf_var)\n",
    "print(\"The mean for monthly revenue used:\", users_ultimate)\n",
    "print(\"The variance for monthly revenue used:\", users_ultimate_var)\n"
   ]
  },
  {
   "cell_type": "code",
   "execution_count": 54,
   "metadata": {},
   "outputs": [
    {
     "data": {
      "image/png": "[encoded data removed]",
      "text/plain": [
       "<Figure size 1000x500 with 1 Axes>"
      ]
     },
     "metadata": {},
     "output_type": "display_data"
    }
   ],
   "source": [
    "revenue_surf= merged_data[merged_data['plan'] == 'surf']\n",
    "revenue_ultimate = merged_data[merged_data['plan'] == 'ultimate']\n",
    "\n",
    "revenue_surf['monthly_revenue'].plot(kind='hist', x='month', bins=20, figsize=(10,5), color= ('blue'), alpha =0.3)\n",
    "revenue_ultimate['monthly_revenue'].plot(kind='hist',x='month', bins=20, figsize=(10,5),alpha=0.3)\n",
    "plt.legend(['Surf','Ultimate'])\n",
    "plt.show()\n"
   ]
  },
  {
   "cell_type": "markdown",
   "metadata": {},
   "source": [
    "\n",
    "#### It looks like the Surf plan created more for revenue Mega line telecom in 2018. "
   ]
  },
  {
   "cell_type": "markdown",
   "metadata": {},
   "source": [
    " "
   ]
  },
  {
   "cell_type": "markdown",
   "metadata": {},
   "source": [
    "## Test statistical hypotheses"
   ]
  },
  {
   "cell_type": "code",
   "execution_count": 55,
   "metadata": {},
   "outputs": [
    {
     "name": "stdout",
     "output_type": "stream",
     "text": [
      "p-value: 2.862674510698644e-08\n",
      "We reject the null hypothesis\n"
     ]
    }
   ],
   "source": [
    "# Test the hypotheses\n",
    "\n",
    "sample_surf = merged_data[merged_data['plan'] == 'surf']['monthly_revenue']\n",
    "sample_ultimate = merged_data[merged_data['plan'] == 'ultimate']['monthly_revenue']\n",
    "\n",
    "alpha = 0.05 # setting a critical statistical significance level\n",
    "\n",
    "tstat, pvalue = st.ttest_ind(sample_surf, sample_ultimate)\n",
    "\n",
    "\n",
    "print('p-value:', pvalue)\n",
    "\n",
    "if pvalue < alpha:\n",
    "    print(\"We reject the null hypothesis\")\n",
    "else:\n",
    "    print(\"We can't reject the null hypothesis\")\n"
   ]
  },
  {
   "cell_type": "markdown",
   "metadata": {},
   "source": [
    "#### I did hypothesis test to find if average revenue from created by Surf and Ultimate plan users. Our null hypotheses is that the average revenue created by both plans  are same. Our alternative hypothesis is that it is not same. We did realize that as our pvalue is less than alpha so we reject the null hypothesis. By this hypothesis we dont know if it is more or less."
   ]
  },
  {
   "cell_type": "code",
   "execution_count": 56,
   "metadata": {},
   "outputs": [
    {
     "name": "stdout",
     "output_type": "stream",
     "text": [
      "p-value: 0.04355743162134274\n",
      "We reject the null hypothesis\n"
     ]
    }
   ],
   "source": [
    "# Testing the hypothesis that the average revenue from users in the NY-NJ area is different from that of the users from the other regions.\n",
    "\n",
    "contains_NY_NJ = merged_data[merged_data['city'].str.contains('NY-NJ')]['monthly_revenue']\n",
    "\n",
    "contains_others = merged_data[~merged_data['city'].str.contains('NY-NJ')]['monthly_revenue']\n",
    "\n",
    "alpha = 0.05 # setting a critical statistical significance level\n",
    "\n",
    "tstat, pvalue = st.ttest_ind(contains_NY_NJ, contains_others)\n",
    "\n",
    "\n",
    "print('p-value:', pvalue)\n",
    "\n",
    "if pvalue < alpha:\n",
    "    print(\"We reject the null hypothesis\")\n",
    "else:\n",
    "    print(\"We can't reject the null hypothesis\")"
   ]
  },
  {
   "cell_type": "markdown",
   "metadata": {},
   "source": []
  },
  {
   "cell_type": "markdown",
   "metadata": {},
   "source": [
    "### I did hypothesis test to find if average revenue from user in NY-NJ is different from the other regions. Our null hypotheses is that the avaerage revenue of NY_ NJ users and other regions are same. Our alternative hypothesis is that it is not same. We did realize that as our pvalue is less than alpha so we reject the null hypothesis. We dont know if the average revenue for NY-NJ is more or less.\n",
    "\n"
   ]
  },
  {
   "cell_type": "markdown",
   "metadata": {},
   "source": [
    "## General conclusion"
   ]
  },
  {
   "cell_type": "markdown",
   "metadata": {},
   "source": [
    "#### I think Surf is the better prepaid plan for Megaline telecom company as it creates more revenue so if they can keep those customers happier and investigate on which areas to advertise for ultimate plan users. It is almost double. For Surf customers the company should inform them about loyalty programs, referral discounts, birthday messages as we do not want to loose them.  For Ultimate customers we need to conduct feddback session so we can understand why we have lower customer base. We need to investigate our target audience maybe we are pitching this product to wrong market. When I looked at the churn_data I did found out that surf is better suited for students and ultimate plan is more beneficial for 30 yrs + adults.\n"
   ]
  },
  {
   "cell_type": "markdown",
   "metadata": {},
   "source": [
    "#### Users data\n",
    "###### We should look into our churn_date in our user columns in future to see why these customers have stopped using our prepaid plan. Maybe they just switched plan with our company but in case this is not the reason then we need to investigate more later on to figure out why did they left our company and if we have to use different advertising channels in those area\n"
   ]
  },
  {
   "cell_type": "markdown",
   "metadata": {},
   "source": [
    "#### Internet_traffic data\n",
    "###### While looking at the data between internet traffic between two datas.  The mean is higher for internet traffic for ultimate which can be that some of ultimate plan'scustomers are using internet for elongated period of time throughout whole year but Surf plan customers on the other hand are more active during May, July, September and December.It could be because of the holidays maybe they are on social media a lot more than usual or they are meeting with families and streaming shows or movies together.\n"
   ]
  },
  {
   "cell_type": "markdown",
   "metadata": {},
   "source": [
    "#### Call data\n",
    "###### By the mean of call data I realized that the mean is higher in the ultimate plan for 8 months that means customer spend more time on calls than in Surf plan maybe the customers who like to chat over phone for longer time uses ultimate plan."
   ]
  },
  {
   "cell_type": "markdown",
   "metadata": {},
   "source": []
  }
 ],
 "metadata": {
  "ExecuteTimeLog": [
   {
    "duration": 828,
    "start_time": "2021-11-16T09:21:11.304Z"
   },
   {
    "duration": 893,
    "start_time": "2021-11-16T09:21:17.728Z"
   },
   {
    "duration": 1150,
    "start_time": "2021-11-16T09:21:29.568Z"
   },
   {
    "duration": 3,
    "start_time": "2021-11-16T09:24:14.495Z"
   },
   {
    "duration": 120,
    "start_time": "2021-11-16T09:24:46.630Z"
   },
   {
    "duration": 3,
    "start_time": "2021-11-16T09:28:27.882Z"
   },
   {
    "duration": 4,
    "start_time": "2021-11-16T09:29:54.281Z"
   },
   {
    "duration": 3,
    "start_time": "2021-11-16T09:30:45.936Z"
   },
   {
    "duration": 4,
    "start_time": "2021-11-16T09:31:06.300Z"
   },
   {
    "duration": 113,
    "start_time": "2021-11-16T09:31:37.208Z"
   },
   {
    "duration": 143,
    "start_time": "2021-11-16T09:31:48.656Z"
   },
   {
    "duration": 98,
    "start_time": "2021-11-16T09:31:55.678Z"
   },
   {
    "duration": 3,
    "start_time": "2021-11-16T09:32:08.535Z"
   },
   {
    "duration": 111,
    "start_time": "2021-11-16T09:32:10.120Z"
   },
   {
    "duration": 3,
    "start_time": "2021-11-16T09:32:15.732Z"
   },
   {
    "duration": 4,
    "start_time": "2021-11-16T09:32:29.423Z"
   },
   {
    "duration": 3,
    "start_time": "2021-11-16T10:03:03.074Z"
   },
   {
    "duration": 3,
    "start_time": "2021-11-16T10:10:01.288Z"
   },
   {
    "duration": 3,
    "start_time": "2021-11-16T10:10:46.923Z"
   },
   {
    "duration": 121,
    "start_time": "2021-11-16T10:37:46.494Z"
   },
   {
    "duration": 125,
    "start_time": "2021-11-16T10:38:20.632Z"
   },
   {
    "duration": 112,
    "start_time": "2021-11-16T10:46:53.001Z"
   },
   {
    "duration": 110,
    "start_time": "2021-11-16T10:48:25.775Z"
   },
   {
    "duration": 3,
    "start_time": "2021-11-16T10:50:18.720Z"
   },
   {
    "duration": 4,
    "start_time": "2021-11-16T10:50:37.649Z"
   },
   {
    "duration": 2,
    "start_time": "2021-11-16T10:50:51.884Z"
   },
   {
    "duration": 3,
    "start_time": "2021-11-16T10:51:56.237Z"
   },
   {
    "duration": 101,
    "start_time": "2021-11-16T10:53:13.791Z"
   },
   {
    "duration": 3,
    "start_time": "2021-11-16T10:55:59.186Z"
   },
   {
    "duration": 3,
    "start_time": "2021-11-16T10:56:10.751Z"
   },
   {
    "duration": 3,
    "start_time": "2021-11-16T10:56:49.038Z"
   },
   {
    "duration": 3,
    "start_time": "2021-11-16T10:56:49.174Z"
   },
   {
    "duration": 4,
    "start_time": "2021-11-16T10:56:49.414Z"
   },
   {
    "duration": 3,
    "start_time": "2021-11-16T10:56:49.680Z"
   },
   {
    "duration": 3,
    "start_time": "2021-11-16T10:56:50.370Z"
   },
   {
    "duration": 114,
    "start_time": "2021-11-16T10:59:34.518Z"
   },
   {
    "duration": 3,
    "start_time": "2021-11-16T11:01:41.201Z"
   },
   {
    "duration": 116,
    "start_time": "2021-11-16T11:01:48.754Z"
   },
   {
    "duration": 3,
    "start_time": "2021-11-16T11:02:16.685Z"
   },
   {
    "duration": 3,
    "start_time": "2021-11-16T11:02:19.479Z"
   },
   {
    "duration": 3,
    "start_time": "2021-11-16T11:02:47.067Z"
   },
   {
    "duration": 3,
    "start_time": "2021-11-16T11:02:49.353Z"
   },
   {
    "duration": 3,
    "start_time": "2021-11-16T11:03:07.835Z"
   },
   {
    "duration": 3,
    "start_time": "2021-11-16T11:03:07.953Z"
   },
   {
    "duration": 112,
    "start_time": "2021-11-16T11:07:52.072Z"
   },
   {
    "duration": 187,
    "start_time": "2021-11-16T11:09:23.468Z"
   },
   {
    "duration": 4,
    "start_time": "2021-11-16T11:10:01.455Z"
   },
   {
    "duration": 3,
    "start_time": "2021-11-16T11:10:05.069Z"
   },
   {
    "duration": 4,
    "start_time": "2021-11-16T11:10:13.376Z"
   },
   {
    "duration": 3,
    "start_time": "2021-11-16T11:10:14.434Z"
   },
   {
    "duration": 3,
    "start_time": "2021-11-16T11:10:22.853Z"
   },
   {
    "duration": 4,
    "start_time": "2021-11-16T11:27:29.279Z"
   },
   {
    "duration": 4,
    "start_time": "2021-11-16T11:29:08.919Z"
   },
   {
    "duration": 118,
    "start_time": "2021-11-16T11:29:46.703Z"
   },
   {
    "duration": 437,
    "start_time": "2021-11-16T11:36:02.181Z"
   },
   {
    "duration": 157,
    "start_time": "2021-11-16T11:36:14.388Z"
   },
   {
    "duration": 207,
    "start_time": "2021-11-16T11:47:15.898Z"
   },
   {
    "duration": 3,
    "start_time": "2021-11-16T11:53:52.092Z"
   },
   {
    "duration": 3,
    "start_time": "2021-11-16T11:53:52.236Z"
   },
   {
    "duration": 3,
    "start_time": "2021-11-16T11:59:12.005Z"
   },
   {
    "duration": 112,
    "start_time": "2021-11-16T12:00:33.446Z"
   },
   {
    "duration": 3,
    "start_time": "2021-11-16T12:02:14.453Z"
   },
   {
    "duration": 3,
    "start_time": "2021-11-16T12:02:39.512Z"
   },
   {
    "duration": 106,
    "start_time": "2021-11-16T12:03:03.460Z"
   },
   {
    "duration": 3,
    "start_time": "2021-11-17T20:37:21.139Z"
   },
   {
    "duration": 3,
    "start_time": "2021-11-17T20:37:22.229Z"
   },
   {
    "duration": 3,
    "start_time": "2021-11-17T20:38:38.806Z"
   },
   {
    "duration": 3,
    "start_time": "2021-11-17T20:38:41.958Z"
   },
   {
    "duration": 3,
    "start_time": "2021-11-17T20:43:46.551Z"
   },
   {
    "duration": 4,
    "start_time": "2021-11-17T20:58:21.835Z"
   },
   {
    "duration": 3,
    "start_time": "2021-11-17T20:59:21.872Z"
   },
   {
    "duration": 4,
    "start_time": "2021-11-17T20:59:45.352Z"
   },
   {
    "duration": 4,
    "start_time": "2021-11-17T20:59:49.646Z"
   },
   {
    "duration": 159,
    "start_time": "2021-11-17T21:02:26.949Z"
   },
   {
    "duration": 3,
    "start_time": "2021-11-17T21:03:53.461Z"
   },
   {
    "duration": 3,
    "start_time": "2021-11-17T21:03:53.694Z"
   },
   {
    "duration": 3,
    "start_time": "2021-11-17T21:05:28.145Z"
   },
   {
    "duration": 116,
    "start_time": "2021-11-17T21:05:57.787Z"
   },
   {
    "duration": 3,
    "start_time": "2021-11-17T21:06:37.993Z"
   },
   {
    "duration": 3,
    "start_time": "2021-11-17T21:06:38.261Z"
   },
   {
    "duration": 3,
    "start_time": "2021-11-17T21:11:54.358Z"
   },
   {
    "duration": 3,
    "start_time": "2021-11-17T21:12:43.846Z"
   },
   {
    "duration": 4,
    "start_time": "2021-11-17T21:13:08.773Z"
   },
   {
    "duration": 3,
    "start_time": "2021-11-17T21:14:44.441Z"
   },
   {
    "duration": 3,
    "start_time": "2021-11-17T21:15:42.059Z"
   },
   {
    "duration": 4,
    "start_time": "2021-11-17T21:15:51.995Z"
   },
   {
    "duration": 3,
    "start_time": "2021-11-17T21:15:53.923Z"
   },
   {
    "duration": 3,
    "start_time": "2021-11-17T21:15:55.282Z"
   },
   {
    "duration": 3,
    "start_time": "2021-11-17T21:16:28.492Z"
   },
   {
    "duration": 3,
    "start_time": "2021-11-17T21:16:32.603Z"
   },
   {
    "duration": 3,
    "start_time": "2021-11-17T21:17:06.941Z"
   },
   {
    "duration": 98,
    "start_time": "2021-11-17T21:18:05.733Z"
   },
   {
    "duration": 4,
    "start_time": "2021-11-17T21:21:35.255Z"
   },
   {
    "duration": 3,
    "start_time": "2021-11-17T21:21:37.804Z"
   },
   {
    "duration": 4,
    "start_time": "2021-11-17T21:23:06.071Z"
   },
   {
    "duration": 3,
    "start_time": "2021-11-17T21:23:24.799Z"
   },
   {
    "duration": 3,
    "start_time": "2021-11-17T21:23:32.591Z"
   },
   {
    "duration": 98,
    "start_time": "2021-11-17T21:28:31.559Z"
   },
   {
    "duration": 3,
    "start_time": "2021-11-17T21:28:45.448Z"
   },
   {
    "duration": 3,
    "start_time": "2021-11-17T21:29:17.303Z"
   },
   {
    "duration": 3,
    "start_time": "2021-11-17T21:29:29.617Z"
   },
   {
    "duration": 3,
    "start_time": "2021-11-17T21:29:32.681Z"
   },
   {
    "duration": 3,
    "start_time": "2021-11-17T21:36:11.474Z"
   },
   {
    "duration": 3,
    "start_time": "2021-11-17T21:36:14.791Z"
   },
   {
    "duration": 3,
    "start_time": "2021-11-17T21:36:53.943Z"
   },
   {
    "duration": 3,
    "start_time": "2021-11-17T21:36:56.165Z"
   },
   {
    "duration": 4,
    "start_time": "2021-11-17T21:37:16.590Z"
   },
   {
    "duration": 3,
    "start_time": "2021-11-17T21:37:22.702Z"
   },
   {
    "duration": 4,
    "start_time": "2021-11-17T21:38:03.479Z"
   },
   {
    "duration": 3,
    "start_time": "2021-11-17T21:38:08.601Z"
   },
   {
    "duration": 3,
    "start_time": "2021-11-17T21:38:12.928Z"
   },
   {
    "duration": 3,
    "start_time": "2021-11-17T21:38:48.896Z"
   },
   {
    "duration": 2,
    "start_time": "2021-11-17T21:38:49.171Z"
   },
   {
    "duration": 4,
    "start_time": "2021-11-17T21:39:57.889Z"
   },
   {
    "duration": 3,
    "start_time": "2021-11-17T21:39:58.057Z"
   },
   {
    "duration": 3,
    "start_time": "2021-11-17T21:41:20.108Z"
   },
   {
    "duration": 3,
    "start_time": "2021-11-17T21:41:20.629Z"
   },
   {
    "duration": 3,
    "start_time": "2021-11-17T21:42:49.136Z"
   },
   {
    "duration": 3,
    "start_time": "2021-11-17T21:43:15.137Z"
   },
   {
    "duration": 4,
    "start_time": "2021-11-17T21:43:16.766Z"
   },
   {
    "duration": 4,
    "start_time": "2021-11-17T21:43:31.711Z"
   },
   {
    "duration": 3,
    "start_time": "2021-11-17T21:43:36.312Z"
   },
   {
    "duration": 4,
    "start_time": "2021-11-17T21:45:08.825Z"
   },
   {
    "duration": 4,
    "start_time": "2021-11-17T21:45:10.119Z"
   },
   {
    "duration": 4,
    "start_time": "2021-11-17T21:45:13.748Z"
   },
   {
    "duration": 3,
    "start_time": "2021-11-17T21:45:22.219Z"
   },
   {
    "duration": 3,
    "start_time": "2021-11-17T21:45:33.412Z"
   },
   {
    "duration": 2,
    "start_time": "2021-11-17T21:46:01.885Z"
   },
   {
    "duration": 3,
    "start_time": "2021-11-17T21:46:03.628Z"
   },
   {
    "duration": 107,
    "start_time": "2021-11-17T21:47:32.512Z"
   },
   {
    "duration": 103,
    "start_time": "2021-11-17T21:50:36.243Z"
   },
   {
    "duration": 3,
    "start_time": "2021-11-18T06:28:31.440Z"
   },
   {
    "duration": 3,
    "start_time": "2021-11-18T06:29:00.168Z"
   },
   {
    "duration": 3,
    "start_time": "2021-11-18T06:31:27.008Z"
   },
   {
    "duration": 2,
    "start_time": "2021-11-18T06:35:34.288Z"
   },
   {
    "duration": 2,
    "start_time": "2021-11-18T06:38:04.527Z"
   },
   {
    "duration": 161,
    "start_time": "2024-09-06T15:35:20.646Z"
   },
   {
    "duration": 2443,
    "start_time": "2024-09-06T15:35:32.897Z"
   },
   {
    "duration": 431,
    "start_time": "2024-09-06T15:35:36.646Z"
   },
   {
    "duration": 58,
    "start_time": "2024-09-06T15:36:08.803Z"
   },
   {
    "duration": 3,
    "start_time": "2024-09-06T15:36:13.000Z"
   },
   {
    "duration": 58,
    "start_time": "2024-09-06T15:36:26.232Z"
   },
   {
    "duration": 79,
    "start_time": "2024-09-06T15:37:48.027Z"
   },
   {
    "duration": 58,
    "start_time": "2024-09-06T15:40:36.405Z"
   },
   {
    "duration": 60,
    "start_time": "2024-09-06T15:41:22.220Z"
   },
   {
    "duration": 60,
    "start_time": "2024-09-06T15:43:00.568Z"
   },
   {
    "duration": 3,
    "start_time": "2024-09-06T15:47:43.264Z"
   },
   {
    "duration": 58,
    "start_time": "2024-09-06T15:47:52.446Z"
   },
   {
    "duration": 837,
    "start_time": "2024-09-06T15:48:03.478Z"
   },
   {
    "duration": 561,
    "start_time": "2024-09-06T15:48:04.317Z"
   },
   {
    "duration": 0,
    "start_time": "2024-09-06T15:48:04.881Z"
   },
   {
    "duration": 0,
    "start_time": "2024-09-06T15:48:04.882Z"
   },
   {
    "duration": 0,
    "start_time": "2024-09-06T15:48:04.883Z"
   },
   {
    "duration": 0,
    "start_time": "2024-09-06T15:48:04.884Z"
   },
   {
    "duration": 0,
    "start_time": "2024-09-06T15:48:04.885Z"
   },
   {
    "duration": 0,
    "start_time": "2024-09-06T15:48:04.886Z"
   },
   {
    "duration": 0,
    "start_time": "2024-09-06T15:48:04.887Z"
   },
   {
    "duration": 0,
    "start_time": "2024-09-06T15:48:04.888Z"
   },
   {
    "duration": 0,
    "start_time": "2024-09-06T15:48:04.889Z"
   },
   {
    "duration": 0,
    "start_time": "2024-09-06T15:48:04.890Z"
   },
   {
    "duration": 0,
    "start_time": "2024-09-06T15:48:04.891Z"
   },
   {
    "duration": 1,
    "start_time": "2024-09-06T15:48:04.892Z"
   },
   {
    "duration": 0,
    "start_time": "2024-09-06T15:48:04.893Z"
   },
   {
    "duration": 0,
    "start_time": "2024-09-06T15:48:04.895Z"
   },
   {
    "duration": 0,
    "start_time": "2024-09-06T15:48:04.895Z"
   },
   {
    "duration": 0,
    "start_time": "2024-09-06T15:48:04.896Z"
   },
   {
    "duration": 0,
    "start_time": "2024-09-06T15:48:04.898Z"
   },
   {
    "duration": 0,
    "start_time": "2024-09-06T15:48:04.931Z"
   },
   {
    "duration": 0,
    "start_time": "2024-09-06T15:48:04.932Z"
   },
   {
    "duration": 0,
    "start_time": "2024-09-06T15:48:04.933Z"
   },
   {
    "duration": 0,
    "start_time": "2024-09-06T15:48:04.934Z"
   },
   {
    "duration": 0,
    "start_time": "2024-09-06T15:48:04.937Z"
   },
   {
    "duration": 0,
    "start_time": "2024-09-06T15:48:04.938Z"
   },
   {
    "duration": 0,
    "start_time": "2024-09-06T15:48:04.939Z"
   },
   {
    "duration": 0,
    "start_time": "2024-09-06T15:48:04.940Z"
   },
   {
    "duration": 0,
    "start_time": "2024-09-06T15:48:04.941Z"
   },
   {
    "duration": 19,
    "start_time": "2024-09-06T15:48:55.228Z"
   },
   {
    "duration": 280,
    "start_time": "2024-09-06T15:58:00.069Z"
   },
   {
    "duration": 163,
    "start_time": "2024-09-06T15:58:11.842Z"
   },
   {
    "duration": 160,
    "start_time": "2024-09-06T15:58:18.840Z"
   },
   {
    "duration": 161,
    "start_time": "2024-09-06T15:58:26.445Z"
   },
   {
    "duration": 158,
    "start_time": "2024-09-06T15:58:33.712Z"
   },
   {
    "duration": 156,
    "start_time": "2024-09-06T15:58:40.601Z"
   },
   {
    "duration": 161,
    "start_time": "2024-09-06T15:59:16.892Z"
   },
   {
    "duration": 163,
    "start_time": "2024-09-06T15:59:20.726Z"
   },
   {
    "duration": 161,
    "start_time": "2024-09-06T15:59:24.296Z"
   },
   {
    "duration": 10,
    "start_time": "2024-09-06T15:59:57.948Z"
   },
   {
    "duration": 39,
    "start_time": "2024-09-06T16:00:12.879Z"
   },
   {
    "duration": 57,
    "start_time": "2024-09-06T16:00:49.651Z"
   },
   {
    "duration": 69,
    "start_time": "2024-09-06T16:00:53.213Z"
   },
   {
    "duration": 9,
    "start_time": "2024-09-06T16:07:31.584Z"
   },
   {
    "duration": 6,
    "start_time": "2024-09-06T16:08:29.207Z"
   },
   {
    "duration": 5,
    "start_time": "2024-09-06T16:09:30.724Z"
   },
   {
    "duration": 3,
    "start_time": "2024-09-06T16:21:30.100Z"
   },
   {
    "duration": 8,
    "start_time": "2024-09-06T16:21:36.569Z"
   },
   {
    "duration": 6,
    "start_time": "2024-09-06T16:21:44.019Z"
   },
   {
    "duration": 34,
    "start_time": "2024-09-06T16:21:49.499Z"
   },
   {
    "duration": 52,
    "start_time": "2024-09-06T16:21:54.246Z"
   },
   {
    "duration": 67,
    "start_time": "2024-09-06T16:22:00.239Z"
   },
   {
    "duration": 14,
    "start_time": "2024-09-06T16:22:30.095Z"
   },
   {
    "duration": 13,
    "start_time": "2024-09-06T16:22:35.758Z"
   },
   {
    "duration": 2595,
    "start_time": "2024-09-06T17:21:29.880Z"
   },
   {
    "duration": 11,
    "start_time": "2024-09-06T17:21:41.150Z"
   },
   {
    "duration": 8,
    "start_time": "2024-09-06T17:21:44.533Z"
   },
   {
    "duration": 64,
    "start_time": "2024-09-06T17:21:48.126Z"
   },
   {
    "duration": 84,
    "start_time": "2024-09-06T17:21:48.375Z"
   },
   {
    "duration": 95,
    "start_time": "2024-09-06T17:21:52.741Z"
   },
   {
    "duration": 18,
    "start_time": "2024-09-06T17:21:59.740Z"
   },
   {
    "duration": 5,
    "start_time": "2024-09-06T17:22:04.002Z"
   },
   {
    "duration": 11,
    "start_time": "2024-09-06T17:23:47.918Z"
   },
   {
    "duration": 5,
    "start_time": "2024-09-06T17:24:16.562Z"
   },
   {
    "duration": 7,
    "start_time": "2024-09-06T17:27:12.386Z"
   },
   {
    "duration": 4,
    "start_time": "2024-09-06T17:27:28.921Z"
   },
   {
    "duration": 14,
    "start_time": "2024-09-06T17:27:47.154Z"
   },
   {
    "duration": 3,
    "start_time": "2024-09-06T17:31:46.619Z"
   },
   {
    "duration": 3,
    "start_time": "2024-09-06T17:32:08.733Z"
   },
   {
    "duration": 223,
    "start_time": "2024-09-06T17:32:49.832Z"
   },
   {
    "duration": 14,
    "start_time": "2024-09-06T17:33:35.466Z"
   },
   {
    "duration": 6,
    "start_time": "2024-09-06T17:38:12.486Z"
   },
   {
    "duration": 25,
    "start_time": "2024-09-06T17:38:19.907Z"
   },
   {
    "duration": 8,
    "start_time": "2024-09-06T17:39:20.352Z"
   },
   {
    "duration": 17,
    "start_time": "2024-09-06T17:39:29.093Z"
   },
   {
    "duration": 4,
    "start_time": "2024-09-06T17:39:36.779Z"
   },
   {
    "duration": 11,
    "start_time": "2024-09-06T17:39:40.784Z"
   },
   {
    "duration": 430,
    "start_time": "2024-09-06T17:41:38.463Z"
   },
   {
    "duration": 7,
    "start_time": "2024-09-06T17:41:50.742Z"
   },
   {
    "duration": 14,
    "start_time": "2024-09-06T17:42:03.180Z"
   },
   {
    "duration": 4,
    "start_time": "2024-09-06T17:42:09.628Z"
   },
   {
    "duration": 6,
    "start_time": "2024-09-06T17:42:22.310Z"
   },
   {
    "duration": 3,
    "start_time": "2024-09-06T17:42:28.465Z"
   },
   {
    "duration": 10,
    "start_time": "2024-09-06T17:42:32.248Z"
   },
   {
    "duration": 21,
    "start_time": "2024-09-06T17:45:29.918Z"
   },
   {
    "duration": 10,
    "start_time": "2024-09-06T17:45:52.979Z"
   },
   {
    "duration": 8,
    "start_time": "2024-09-06T17:59:26.003Z"
   },
   {
    "duration": 17,
    "start_time": "2024-09-06T18:02:31.809Z"
   },
   {
    "duration": 6,
    "start_time": "2024-09-06T18:02:38.083Z"
   },
   {
    "duration": 9,
    "start_time": "2024-09-06T18:05:36.833Z"
   },
   {
    "duration": 19,
    "start_time": "2024-09-06T18:09:36.677Z"
   },
   {
    "duration": 7,
    "start_time": "2024-09-06T18:10:04.842Z"
   },
   {
    "duration": 170,
    "start_time": "2024-09-06T19:36:05.430Z"
   },
   {
    "duration": 2834,
    "start_time": "2024-09-06T19:36:25.685Z"
   },
   {
    "duration": 19,
    "start_time": "2024-09-06T19:36:38.921Z"
   },
   {
    "duration": 34,
    "start_time": "2024-09-06T19:36:40.404Z"
   },
   {
    "duration": 54,
    "start_time": "2024-09-06T19:36:47.442Z"
   },
   {
    "duration": 109,
    "start_time": "2024-09-06T19:36:48.387Z"
   },
   {
    "duration": 112,
    "start_time": "2024-09-06T19:36:49.429Z"
   },
   {
    "duration": 16,
    "start_time": "2024-09-06T19:36:56.481Z"
   },
   {
    "duration": 8,
    "start_time": "2024-09-06T19:37:03.802Z"
   },
   {
    "duration": 15,
    "start_time": "2024-09-06T19:37:12.049Z"
   },
   {
    "duration": 7,
    "start_time": "2024-09-06T19:37:21.935Z"
   },
   {
    "duration": 3,
    "start_time": "2024-09-06T19:37:29.069Z"
   },
   {
    "duration": 11,
    "start_time": "2024-09-06T19:37:37.480Z"
   },
   {
    "duration": 23,
    "start_time": "2024-09-06T19:37:42.344Z"
   },
   {
    "duration": 7,
    "start_time": "2024-09-06T19:37:49.367Z"
   },
   {
    "duration": 6,
    "start_time": "2024-09-06T19:37:53.331Z"
   },
   {
    "duration": 19,
    "start_time": "2024-09-06T19:38:00.944Z"
   },
   {
    "duration": 6,
    "start_time": "2024-09-06T19:38:08.748Z"
   },
   {
    "duration": 10,
    "start_time": "2024-09-06T19:38:14.144Z"
   },
   {
    "duration": 20,
    "start_time": "2024-09-06T19:38:20.687Z"
   },
   {
    "duration": 7,
    "start_time": "2024-09-06T19:38:30.584Z"
   },
   {
    "duration": 86,
    "start_time": "2024-09-06T19:38:33.842Z"
   },
   {
    "duration": 6,
    "start_time": "2024-09-06T19:38:43.979Z"
   },
   {
    "duration": 6,
    "start_time": "2024-09-06T19:39:38.586Z"
   },
   {
    "duration": 4,
    "start_time": "2024-09-06T19:40:12.373Z"
   },
   {
    "duration": 4,
    "start_time": "2024-09-06T19:40:18.609Z"
   },
   {
    "duration": 6,
    "start_time": "2024-09-06T19:40:23.074Z"
   },
   {
    "duration": 4,
    "start_time": "2024-09-06T19:41:22.088Z"
   },
   {
    "duration": 8,
    "start_time": "2024-09-06T19:41:43.207Z"
   },
   {
    "duration": 7,
    "start_time": "2024-09-06T19:41:52.342Z"
   },
   {
    "duration": 12,
    "start_time": "2024-09-06T19:46:11.027Z"
   },
   {
    "duration": 5,
    "start_time": "2024-09-06T19:46:38.653Z"
   },
   {
    "duration": 5,
    "start_time": "2024-09-06T19:47:07.492Z"
   },
   {
    "duration": 5,
    "start_time": "2024-09-06T19:54:42.205Z"
   },
   {
    "duration": 4,
    "start_time": "2024-09-06T19:54:50.516Z"
   },
   {
    "duration": 3,
    "start_time": "2024-09-06T19:55:02.499Z"
   },
   {
    "duration": 3,
    "start_time": "2024-09-06T19:55:35.073Z"
   },
   {
    "duration": 4,
    "start_time": "2024-09-06T19:55:56.013Z"
   },
   {
    "duration": 4,
    "start_time": "2024-09-06T19:56:47.673Z"
   },
   {
    "duration": 4,
    "start_time": "2024-09-06T19:57:05.624Z"
   },
   {
    "duration": 4,
    "start_time": "2024-09-06T19:57:14.235Z"
   },
   {
    "duration": 20,
    "start_time": "2024-09-06T19:57:24.717Z"
   },
   {
    "duration": 5,
    "start_time": "2024-09-06T19:58:03.545Z"
   },
   {
    "duration": 3,
    "start_time": "2024-09-06T19:58:19.491Z"
   },
   {
    "duration": 4,
    "start_time": "2024-09-06T19:58:32.774Z"
   },
   {
    "duration": 4,
    "start_time": "2024-09-06T19:58:48.379Z"
   },
   {
    "duration": 5,
    "start_time": "2024-09-06T20:00:17.567Z"
   },
   {
    "duration": 5,
    "start_time": "2024-09-06T20:00:27.149Z"
   },
   {
    "duration": 8,
    "start_time": "2024-09-06T20:00:46.905Z"
   },
   {
    "duration": 4,
    "start_time": "2024-09-06T20:00:58.149Z"
   },
   {
    "duration": 4,
    "start_time": "2024-09-06T20:01:07.977Z"
   },
   {
    "duration": 7,
    "start_time": "2024-09-06T20:01:23.908Z"
   },
   {
    "duration": 4,
    "start_time": "2024-09-06T20:01:38.249Z"
   },
   {
    "duration": 5,
    "start_time": "2024-09-06T20:01:48.155Z"
   },
   {
    "duration": 4,
    "start_time": "2024-09-06T20:01:55.168Z"
   },
   {
    "duration": 4,
    "start_time": "2024-09-06T20:02:17.370Z"
   },
   {
    "duration": 4,
    "start_time": "2024-09-06T20:02:25.036Z"
   },
   {
    "duration": 4,
    "start_time": "2024-09-06T20:02:32.581Z"
   },
   {
    "duration": 4,
    "start_time": "2024-09-06T20:02:40.962Z"
   },
   {
    "duration": 6,
    "start_time": "2024-09-06T20:02:57.884Z"
   },
   {
    "duration": 4,
    "start_time": "2024-09-06T20:03:06.535Z"
   },
   {
    "duration": 5,
    "start_time": "2024-09-06T20:03:24.600Z"
   },
   {
    "duration": 4,
    "start_time": "2024-09-06T20:03:30.996Z"
   },
   {
    "duration": 5,
    "start_time": "2024-09-06T20:03:38.684Z"
   },
   {
    "duration": 5,
    "start_time": "2024-09-06T20:04:09.830Z"
   },
   {
    "duration": 4,
    "start_time": "2024-09-06T20:04:34.445Z"
   },
   {
    "duration": 4,
    "start_time": "2024-09-06T20:05:18.195Z"
   },
   {
    "duration": 6,
    "start_time": "2024-09-06T20:16:01.460Z"
   },
   {
    "duration": 4,
    "start_time": "2024-09-06T20:16:09.775Z"
   },
   {
    "duration": 4,
    "start_time": "2024-09-06T20:16:28.540Z"
   },
   {
    "duration": 5,
    "start_time": "2024-09-06T20:16:58.199Z"
   },
   {
    "duration": 4,
    "start_time": "2024-09-06T20:17:05.286Z"
   },
   {
    "duration": 6,
    "start_time": "2024-09-06T20:17:28.389Z"
   },
   {
    "duration": 161,
    "start_time": "2024-09-06T22:37:00.286Z"
   },
   {
    "duration": 12,
    "start_time": "2024-09-06T22:37:04.393Z"
   },
   {
    "duration": 11,
    "start_time": "2024-09-06T22:37:13.439Z"
   },
   {
    "duration": 2504,
    "start_time": "2024-09-06T22:37:20.082Z"
   },
   {
    "duration": 95,
    "start_time": "2024-09-06T22:37:23.667Z"
   },
   {
    "duration": 33,
    "start_time": "2024-09-06T22:37:44.786Z"
   },
   {
    "duration": 11,
    "start_time": "2024-09-06T22:37:53.764Z"
   },
   {
    "duration": 4,
    "start_time": "2024-09-06T22:38:03.640Z"
   },
   {
    "duration": 3,
    "start_time": "2024-09-06T22:38:07.672Z"
   },
   {
    "duration": 6,
    "start_time": "2024-09-06T22:38:22.206Z"
   },
   {
    "duration": 96,
    "start_time": "2024-09-06T22:40:57.173Z"
   },
   {
    "duration": 12,
    "start_time": "2024-09-06T22:41:13.643Z"
   },
   {
    "duration": 15,
    "start_time": "2024-09-06T22:41:24.786Z"
   },
   {
    "duration": 64,
    "start_time": "2024-09-06T22:41:34.152Z"
   },
   {
    "duration": 14,
    "start_time": "2024-09-06T22:42:02.658Z"
   },
   {
    "duration": 13,
    "start_time": "2024-09-06T22:42:31.119Z"
   },
   {
    "duration": 14,
    "start_time": "2024-09-06T22:42:49.046Z"
   },
   {
    "duration": 6,
    "start_time": "2024-09-06T22:43:01.777Z"
   },
   {
    "duration": 15,
    "start_time": "2024-09-06T22:43:05.719Z"
   },
   {
    "duration": 69,
    "start_time": "2024-09-06T22:43:17.866Z"
   },
   {
    "duration": 19,
    "start_time": "2024-09-06T22:43:31.642Z"
   },
   {
    "duration": 4,
    "start_time": "2024-09-06T22:44:28.598Z"
   },
   {
    "duration": 270,
    "start_time": "2024-09-06T22:44:41.403Z"
   },
   {
    "duration": 7,
    "start_time": "2024-09-06T22:45:13.900Z"
   },
   {
    "duration": 457,
    "start_time": "2024-09-06T22:46:23.409Z"
   },
   {
    "duration": 14,
    "start_time": "2024-09-06T22:48:02.040Z"
   },
   {
    "duration": 62,
    "start_time": "2024-09-06T22:48:10.708Z"
   },
   {
    "duration": 3,
    "start_time": "2024-09-06T22:48:34.140Z"
   },
   {
    "duration": 3,
    "start_time": "2024-09-06T22:49:21.741Z"
   },
   {
    "duration": 15,
    "start_time": "2024-09-06T22:54:30.894Z"
   },
   {
    "duration": 4,
    "start_time": "2024-09-06T22:55:04.615Z"
   },
   {
    "duration": 4,
    "start_time": "2024-09-06T22:56:03.355Z"
   },
   {
    "duration": 3,
    "start_time": "2024-09-06T23:03:53.178Z"
   },
   {
    "duration": 3,
    "start_time": "2024-09-06T23:10:28.046Z"
   },
   {
    "duration": 3,
    "start_time": "2024-09-06T23:10:57.170Z"
   },
   {
    "duration": 7,
    "start_time": "2024-09-06T23:11:04.150Z"
   },
   {
    "duration": 5,
    "start_time": "2024-09-06T23:11:10.883Z"
   },
   {
    "duration": 12,
    "start_time": "2024-09-06T23:13:12.411Z"
   },
   {
    "duration": 15,
    "start_time": "2024-09-06T23:13:24.799Z"
   },
   {
    "duration": 4,
    "start_time": "2024-09-06T23:13:38.338Z"
   },
   {
    "duration": 14,
    "start_time": "2024-09-06T23:13:46.288Z"
   },
   {
    "duration": 4,
    "start_time": "2024-09-06T23:13:58.319Z"
   },
   {
    "duration": 58,
    "start_time": "2024-09-06T23:14:18.995Z"
   },
   {
    "duration": 61,
    "start_time": "2024-09-06T23:17:12.257Z"
   },
   {
    "duration": 3,
    "start_time": "2024-09-06T23:17:32.749Z"
   },
   {
    "duration": 15,
    "start_time": "2024-09-06T23:20:18.559Z"
   },
   {
    "duration": 3,
    "start_time": "2024-09-06T23:22:31.209Z"
   },
   {
    "duration": 5,
    "start_time": "2024-09-06T23:33:45.018Z"
   },
   {
    "duration": 3,
    "start_time": "2024-09-06T23:34:07.680Z"
   },
   {
    "duration": 18,
    "start_time": "2024-09-06T23:34:16.540Z"
   },
   {
    "duration": 19,
    "start_time": "2024-09-06T23:45:51.885Z"
   },
   {
    "duration": 18,
    "start_time": "2024-09-06T23:46:10.303Z"
   },
   {
    "duration": 18,
    "start_time": "2024-09-06T23:53:01.432Z"
   },
   {
    "duration": 18,
    "start_time": "2024-09-06T23:53:36.041Z"
   },
   {
    "duration": 3,
    "start_time": "2024-09-06T23:54:01.129Z"
   },
   {
    "duration": 84,
    "start_time": "2024-09-06T23:54:05.261Z"
   },
   {
    "duration": 22,
    "start_time": "2024-09-06T23:54:21.994Z"
   },
   {
    "duration": 7,
    "start_time": "2024-09-06T23:54:31.647Z"
   },
   {
    "duration": 6,
    "start_time": "2024-09-06T23:54:38.931Z"
   },
   {
    "duration": 17,
    "start_time": "2024-09-06T23:54:49.247Z"
   },
   {
    "duration": 7,
    "start_time": "2024-09-06T23:57:53.397Z"
   },
   {
    "duration": 18,
    "start_time": "2024-09-06T23:58:36.406Z"
   },
   {
    "duration": 6,
    "start_time": "2024-09-06T23:58:52.122Z"
   },
   {
    "duration": 6,
    "start_time": "2024-09-07T00:00:49.551Z"
   },
   {
    "duration": 64,
    "start_time": "2024-09-07T00:04:08.179Z"
   },
   {
    "duration": 11,
    "start_time": "2024-09-07T00:04:37.698Z"
   },
   {
    "duration": 4,
    "start_time": "2024-09-07T00:05:28.105Z"
   },
   {
    "duration": 10,
    "start_time": "2024-09-07T00:05:35.222Z"
   },
   {
    "duration": 42,
    "start_time": "2024-09-07T00:06:11.515Z"
   },
   {
    "duration": 70,
    "start_time": "2024-09-07T00:07:34.056Z"
   },
   {
    "duration": 66,
    "start_time": "2024-09-07T00:08:15.554Z"
   },
   {
    "duration": 97,
    "start_time": "2024-09-07T00:09:52.760Z"
   },
   {
    "duration": 72,
    "start_time": "2024-09-07T00:10:52.844Z"
   },
   {
    "duration": 71,
    "start_time": "2024-09-07T00:11:02.621Z"
   },
   {
    "duration": 71,
    "start_time": "2024-09-07T00:11:58.155Z"
   },
   {
    "duration": 18,
    "start_time": "2024-09-07T00:13:48.919Z"
   },
   {
    "duration": 18,
    "start_time": "2024-09-07T00:14:06.658Z"
   },
   {
    "duration": 63,
    "start_time": "2024-09-07T00:14:17.332Z"
   },
   {
    "duration": 22,
    "start_time": "2024-09-07T00:20:15.704Z"
   },
   {
    "duration": 13,
    "start_time": "2024-09-07T00:21:14.761Z"
   },
   {
    "duration": 20,
    "start_time": "2024-09-07T00:21:23.283Z"
   },
   {
    "duration": 24,
    "start_time": "2024-09-07T00:22:48.001Z"
   },
   {
    "duration": 25,
    "start_time": "2024-09-07T00:24:38.812Z"
   },
   {
    "duration": 16,
    "start_time": "2024-09-07T00:30:23.555Z"
   },
   {
    "duration": 17,
    "start_time": "2024-09-07T00:30:45.358Z"
   },
   {
    "duration": 15,
    "start_time": "2024-09-07T00:30:55.471Z"
   },
   {
    "duration": 355,
    "start_time": "2024-09-07T00:39:05.183Z"
   },
   {
    "duration": 33,
    "start_time": "2024-09-07T00:41:30.323Z"
   },
   {
    "duration": 37,
    "start_time": "2024-09-07T00:41:47.848Z"
   },
   {
    "duration": 29,
    "start_time": "2024-09-07T00:51:10.024Z"
   },
   {
    "duration": 23,
    "start_time": "2024-09-07T00:51:29.006Z"
   },
   {
    "duration": 27,
    "start_time": "2024-09-07T00:51:42.916Z"
   },
   {
    "duration": 36,
    "start_time": "2024-09-07T00:54:12.890Z"
   },
   {
    "duration": 36,
    "start_time": "2024-09-07T00:54:29.482Z"
   },
   {
    "duration": 27,
    "start_time": "2024-09-07T00:56:26.766Z"
   },
   {
    "duration": 16,
    "start_time": "2024-09-07T00:57:13.770Z"
   },
   {
    "duration": 18,
    "start_time": "2024-09-07T00:58:29.773Z"
   },
   {
    "duration": 18,
    "start_time": "2024-09-07T00:59:11.547Z"
   },
   {
    "duration": 18,
    "start_time": "2024-09-07T00:59:46.110Z"
   },
   {
    "duration": 6,
    "start_time": "2024-09-07T01:02:53.735Z"
   },
   {
    "duration": 18,
    "start_time": "2024-09-07T01:03:07.832Z"
   },
   {
    "duration": 19,
    "start_time": "2024-09-07T01:04:08.382Z"
   },
   {
    "duration": 6,
    "start_time": "2024-09-07T01:07:30.410Z"
   },
   {
    "duration": 45,
    "start_time": "2024-09-07T01:07:59.259Z"
   },
   {
    "duration": 30,
    "start_time": "2024-09-07T01:08:30.539Z"
   },
   {
    "duration": 21,
    "start_time": "2024-09-07T01:09:16.204Z"
   },
   {
    "duration": 11,
    "start_time": "2024-09-07T01:10:17.829Z"
   },
   {
    "duration": 11,
    "start_time": "2024-09-07T01:11:12.328Z"
   },
   {
    "duration": 19,
    "start_time": "2024-09-07T01:13:36.424Z"
   },
   {
    "duration": 9,
    "start_time": "2024-09-07T01:13:47.534Z"
   },
   {
    "duration": 10,
    "start_time": "2024-09-07T01:14:08.184Z"
   },
   {
    "duration": 9,
    "start_time": "2024-09-07T01:14:41.616Z"
   },
   {
    "duration": 9,
    "start_time": "2024-09-07T01:14:55.071Z"
   },
   {
    "duration": 17,
    "start_time": "2024-09-07T01:16:22.363Z"
   },
   {
    "duration": 16,
    "start_time": "2024-09-07T01:25:06.626Z"
   },
   {
    "duration": 114,
    "start_time": "2024-09-07T01:32:16.827Z"
   },
   {
    "duration": 23,
    "start_time": "2024-09-07T01:37:57.743Z"
   },
   {
    "duration": 25,
    "start_time": "2024-09-07T01:41:29.564Z"
   },
   {
    "duration": 65,
    "start_time": "2024-09-07T01:55:32.529Z"
   },
   {
    "duration": 41,
    "start_time": "2024-09-07T01:56:58.997Z"
   },
   {
    "duration": 846,
    "start_time": "2024-09-07T01:57:42.451Z"
   },
   {
    "duration": 9,
    "start_time": "2024-09-07T01:57:43.300Z"
   },
   {
    "duration": 6,
    "start_time": "2024-09-07T01:57:43.311Z"
   },
   {
    "duration": 51,
    "start_time": "2024-09-07T01:57:43.320Z"
   },
   {
    "duration": 103,
    "start_time": "2024-09-07T01:57:43.373Z"
   },
   {
    "duration": 67,
    "start_time": "2024-09-07T01:57:43.478Z"
   },
   {
    "duration": 18,
    "start_time": "2024-09-07T01:57:43.547Z"
   },
   {
    "duration": 6,
    "start_time": "2024-09-07T01:57:43.568Z"
   },
   {
    "duration": 38,
    "start_time": "2024-09-07T01:57:43.575Z"
   },
   {
    "duration": 5,
    "start_time": "2024-09-07T01:57:43.617Z"
   },
   {
    "duration": 4,
    "start_time": "2024-09-07T01:57:43.623Z"
   },
   {
    "duration": 9,
    "start_time": "2024-09-07T01:57:43.629Z"
   },
   {
    "duration": 20,
    "start_time": "2024-09-07T01:57:43.640Z"
   },
   {
    "duration": 6,
    "start_time": "2024-09-07T01:57:43.662Z"
   },
   {
    "duration": 40,
    "start_time": "2024-09-07T01:57:43.669Z"
   },
   {
    "duration": 31,
    "start_time": "2024-09-07T01:57:43.711Z"
   },
   {
    "duration": 16,
    "start_time": "2024-09-07T01:57:43.745Z"
   },
   {
    "duration": 5,
    "start_time": "2024-09-07T01:57:43.763Z"
   },
   {
    "duration": 40,
    "start_time": "2024-09-07T01:57:43.770Z"
   },
   {
    "duration": 18,
    "start_time": "2024-09-07T01:57:43.811Z"
   },
   {
    "duration": 6,
    "start_time": "2024-09-07T01:57:43.831Z"
   },
   {
    "duration": 5,
    "start_time": "2024-09-07T01:57:43.838Z"
   },
   {
    "duration": 3,
    "start_time": "2024-09-07T01:57:43.844Z"
   },
   {
    "duration": 0,
    "start_time": "2024-09-07T01:57:43.849Z"
   },
   {
    "duration": 0,
    "start_time": "2024-09-07T01:57:43.850Z"
   },
   {
    "duration": 0,
    "start_time": "2024-09-07T01:57:43.851Z"
   },
   {
    "duration": 0,
    "start_time": "2024-09-07T01:57:43.853Z"
   },
   {
    "duration": 0,
    "start_time": "2024-09-07T01:57:43.855Z"
   },
   {
    "duration": 0,
    "start_time": "2024-09-07T01:57:43.856Z"
   },
   {
    "duration": 0,
    "start_time": "2024-09-07T01:57:43.857Z"
   },
   {
    "duration": 0,
    "start_time": "2024-09-07T01:57:43.857Z"
   },
   {
    "duration": 0,
    "start_time": "2024-09-07T01:57:43.858Z"
   },
   {
    "duration": 0,
    "start_time": "2024-09-07T01:57:43.860Z"
   },
   {
    "duration": 0,
    "start_time": "2024-09-07T01:57:43.861Z"
   },
   {
    "duration": 0,
    "start_time": "2024-09-07T01:57:43.862Z"
   },
   {
    "duration": 0,
    "start_time": "2024-09-07T01:57:43.908Z"
   },
   {
    "duration": 0,
    "start_time": "2024-09-07T01:57:43.910Z"
   },
   {
    "duration": 0,
    "start_time": "2024-09-07T01:57:43.911Z"
   },
   {
    "duration": 0,
    "start_time": "2024-09-07T01:57:43.912Z"
   },
   {
    "duration": 0,
    "start_time": "2024-09-07T01:57:43.913Z"
   },
   {
    "duration": 806,
    "start_time": "2024-09-07T01:58:00.185Z"
   },
   {
    "duration": 7,
    "start_time": "2024-09-07T01:58:00.993Z"
   },
   {
    "duration": 5,
    "start_time": "2024-09-07T01:58:01.008Z"
   },
   {
    "duration": 36,
    "start_time": "2024-09-07T01:58:01.016Z"
   },
   {
    "duration": 63,
    "start_time": "2024-09-07T01:58:01.055Z"
   },
   {
    "duration": 67,
    "start_time": "2024-09-07T01:58:01.119Z"
   },
   {
    "duration": 26,
    "start_time": "2024-09-07T01:58:01.188Z"
   },
   {
    "duration": 5,
    "start_time": "2024-09-07T01:58:01.215Z"
   },
   {
    "duration": 13,
    "start_time": "2024-09-07T01:58:01.222Z"
   },
   {
    "duration": 4,
    "start_time": "2024-09-07T01:58:01.237Z"
   },
   {
    "duration": 3,
    "start_time": "2024-09-07T01:58:01.243Z"
   },
   {
    "duration": 10,
    "start_time": "2024-09-07T01:58:01.248Z"
   },
   {
    "duration": 58,
    "start_time": "2024-09-07T01:58:01.259Z"
   },
   {
    "duration": 6,
    "start_time": "2024-09-07T01:58:01.321Z"
   },
   {
    "duration": 5,
    "start_time": "2024-09-07T01:58:01.328Z"
   },
   {
    "duration": 29,
    "start_time": "2024-09-07T01:58:01.335Z"
   },
   {
    "duration": 44,
    "start_time": "2024-09-07T01:58:01.367Z"
   },
   {
    "duration": 6,
    "start_time": "2024-09-07T01:58:01.413Z"
   },
   {
    "duration": 10,
    "start_time": "2024-09-07T01:58:01.421Z"
   },
   {
    "duration": 19,
    "start_time": "2024-09-07T01:58:01.432Z"
   },
   {
    "duration": 7,
    "start_time": "2024-09-07T01:58:01.453Z"
   },
   {
    "duration": 5,
    "start_time": "2024-09-07T01:58:01.462Z"
   },
   {
    "duration": 41,
    "start_time": "2024-09-07T01:58:01.468Z"
   },
   {
    "duration": 0,
    "start_time": "2024-09-07T01:58:01.511Z"
   },
   {
    "duration": 0,
    "start_time": "2024-09-07T01:58:01.512Z"
   },
   {
    "duration": 0,
    "start_time": "2024-09-07T01:58:01.513Z"
   },
   {
    "duration": 0,
    "start_time": "2024-09-07T01:58:01.515Z"
   },
   {
    "duration": 0,
    "start_time": "2024-09-07T01:58:01.516Z"
   },
   {
    "duration": 0,
    "start_time": "2024-09-07T01:58:01.517Z"
   },
   {
    "duration": 0,
    "start_time": "2024-09-07T01:58:01.519Z"
   },
   {
    "duration": 0,
    "start_time": "2024-09-07T01:58:01.520Z"
   },
   {
    "duration": 0,
    "start_time": "2024-09-07T01:58:01.521Z"
   },
   {
    "duration": 0,
    "start_time": "2024-09-07T01:58:01.523Z"
   },
   {
    "duration": 0,
    "start_time": "2024-09-07T01:58:01.524Z"
   },
   {
    "duration": 0,
    "start_time": "2024-09-07T01:58:01.525Z"
   },
   {
    "duration": 0,
    "start_time": "2024-09-07T01:58:01.526Z"
   },
   {
    "duration": 0,
    "start_time": "2024-09-07T01:58:01.527Z"
   },
   {
    "duration": 0,
    "start_time": "2024-09-07T01:58:01.529Z"
   },
   {
    "duration": 1,
    "start_time": "2024-09-07T01:58:01.530Z"
   },
   {
    "duration": 0,
    "start_time": "2024-09-07T01:58:01.532Z"
   },
   {
    "duration": 3,
    "start_time": "2024-09-07T01:58:08.331Z"
   },
   {
    "duration": 6,
    "start_time": "2024-09-07T01:58:12.867Z"
   },
   {
    "duration": 6,
    "start_time": "2024-09-07T01:58:17.476Z"
   },
   {
    "duration": 34,
    "start_time": "2024-09-07T01:58:22.768Z"
   },
   {
    "duration": 59,
    "start_time": "2024-09-07T01:58:27.203Z"
   },
   {
    "duration": 13,
    "start_time": "2024-09-07T01:58:37.066Z"
   },
   {
    "duration": 5,
    "start_time": "2024-09-07T01:58:46.153Z"
   },
   {
    "duration": 15,
    "start_time": "2024-09-07T01:58:56.948Z"
   },
   {
    "duration": 6,
    "start_time": "2024-09-07T01:59:06.384Z"
   },
   {
    "duration": 4,
    "start_time": "2024-09-07T01:59:17.470Z"
   },
   {
    "duration": 12,
    "start_time": "2024-09-07T01:59:23.054Z"
   },
   {
    "duration": 19,
    "start_time": "2024-09-07T01:59:30.828Z"
   },
   {
    "duration": 7,
    "start_time": "2024-09-07T01:59:38.522Z"
   },
   {
    "duration": 6,
    "start_time": "2024-09-07T01:59:51.158Z"
   },
   {
    "duration": 15,
    "start_time": "2024-09-07T02:00:02.002Z"
   },
   {
    "duration": 20,
    "start_time": "2024-09-07T02:00:11.210Z"
   },
   {
    "duration": 7,
    "start_time": "2024-09-07T02:00:22.001Z"
   },
   {
    "duration": 9,
    "start_time": "2024-09-07T02:00:29.503Z"
   },
   {
    "duration": 19,
    "start_time": "2024-09-07T02:00:42.511Z"
   },
   {
    "duration": 7,
    "start_time": "2024-09-07T02:00:50.781Z"
   },
   {
    "duration": 5,
    "start_time": "2024-09-07T02:00:58.883Z"
   },
   {
    "duration": 6,
    "start_time": "2024-09-07T02:01:08.699Z"
   },
   {
    "duration": 566,
    "start_time": "2024-09-07T02:01:14.532Z"
   },
   {
    "duration": 28,
    "start_time": "2024-09-07T02:04:35.484Z"
   },
   {
    "duration": 19,
    "start_time": "2024-09-07T02:04:46.900Z"
   },
   {
    "duration": 159,
    "start_time": "2024-09-07T20:36:55.670Z"
   },
   {
    "duration": 2522,
    "start_time": "2024-09-07T20:37:11.482Z"
   },
   {
    "duration": 9,
    "start_time": "2024-09-07T20:37:14.006Z"
   },
   {
    "duration": 5,
    "start_time": "2024-09-07T20:37:14.017Z"
   },
   {
    "duration": 52,
    "start_time": "2024-09-07T20:37:14.024Z"
   },
   {
    "duration": 94,
    "start_time": "2024-09-07T20:37:14.078Z"
   },
   {
    "duration": 104,
    "start_time": "2024-09-07T20:37:14.174Z"
   },
   {
    "duration": 16,
    "start_time": "2024-09-07T20:37:14.280Z"
   },
   {
    "duration": 5,
    "start_time": "2024-09-07T20:37:14.297Z"
   },
   {
    "duration": 13,
    "start_time": "2024-09-07T20:37:14.304Z"
   },
   {
    "duration": 5,
    "start_time": "2024-09-07T20:37:14.318Z"
   },
   {
    "duration": 3,
    "start_time": "2024-09-07T20:37:14.325Z"
   },
   {
    "duration": 44,
    "start_time": "2024-09-07T20:37:14.330Z"
   },
   {
    "duration": 21,
    "start_time": "2024-09-07T20:37:14.376Z"
   },
   {
    "duration": 5,
    "start_time": "2024-09-07T20:37:14.401Z"
   },
   {
    "duration": 5,
    "start_time": "2024-09-07T20:37:14.408Z"
   },
   {
    "duration": 59,
    "start_time": "2024-09-07T20:37:14.414Z"
   },
   {
    "duration": 17,
    "start_time": "2024-09-07T20:37:14.474Z"
   },
   {
    "duration": 5,
    "start_time": "2024-09-07T20:37:14.492Z"
   },
   {
    "duration": 9,
    "start_time": "2024-09-07T20:37:14.499Z"
   },
   {
    "duration": 18,
    "start_time": "2024-09-07T20:37:14.509Z"
   },
   {
    "duration": 5,
    "start_time": "2024-09-07T20:37:14.528Z"
   },
   {
    "duration": 39,
    "start_time": "2024-09-07T20:37:14.534Z"
   },
   {
    "duration": 4,
    "start_time": "2024-09-07T20:37:14.577Z"
   },
   {
    "duration": 0,
    "start_time": "2024-09-07T20:37:14.583Z"
   },
   {
    "duration": 0,
    "start_time": "2024-09-07T20:37:14.584Z"
   },
   {
    "duration": 0,
    "start_time": "2024-09-07T20:37:14.585Z"
   },
   {
    "duration": 0,
    "start_time": "2024-09-07T20:37:14.586Z"
   },
   {
    "duration": 0,
    "start_time": "2024-09-07T20:37:14.587Z"
   },
   {
    "duration": 0,
    "start_time": "2024-09-07T20:37:14.588Z"
   },
   {
    "duration": 0,
    "start_time": "2024-09-07T20:37:14.589Z"
   },
   {
    "duration": 0,
    "start_time": "2024-09-07T20:37:14.590Z"
   },
   {
    "duration": 0,
    "start_time": "2024-09-07T20:37:14.591Z"
   },
   {
    "duration": 0,
    "start_time": "2024-09-07T20:37:14.592Z"
   },
   {
    "duration": 0,
    "start_time": "2024-09-07T20:37:14.593Z"
   },
   {
    "duration": 0,
    "start_time": "2024-09-07T20:37:14.595Z"
   },
   {
    "duration": 0,
    "start_time": "2024-09-07T20:37:14.596Z"
   },
   {
    "duration": 0,
    "start_time": "2024-09-07T20:37:14.597Z"
   },
   {
    "duration": 0,
    "start_time": "2024-09-07T20:37:14.598Z"
   },
   {
    "duration": 0,
    "start_time": "2024-09-07T20:37:14.599Z"
   },
   {
    "duration": 0,
    "start_time": "2024-09-07T20:37:14.600Z"
   },
   {
    "duration": 3,
    "start_time": "2024-09-07T20:37:18.461Z"
   },
   {
    "duration": 6,
    "start_time": "2024-09-07T20:37:25.704Z"
   },
   {
    "duration": 6,
    "start_time": "2024-09-07T20:37:29.012Z"
   },
   {
    "duration": 776,
    "start_time": "2024-09-07T20:37:39.043Z"
   },
   {
    "duration": 8,
    "start_time": "2024-09-07T20:37:39.821Z"
   },
   {
    "duration": 5,
    "start_time": "2024-09-07T20:37:39.830Z"
   },
   {
    "duration": 47,
    "start_time": "2024-09-07T20:37:39.837Z"
   },
   {
    "duration": 54,
    "start_time": "2024-09-07T20:37:39.886Z"
   },
   {
    "duration": 85,
    "start_time": "2024-09-07T20:37:39.941Z"
   },
   {
    "duration": 16,
    "start_time": "2024-09-07T20:37:40.028Z"
   },
   {
    "duration": 5,
    "start_time": "2024-09-07T20:37:40.046Z"
   },
   {
    "duration": 25,
    "start_time": "2024-09-07T20:37:40.053Z"
   },
   {
    "duration": 5,
    "start_time": "2024-09-07T20:37:40.082Z"
   },
   {
    "duration": 3,
    "start_time": "2024-09-07T20:37:40.088Z"
   },
   {
    "duration": 10,
    "start_time": "2024-09-07T20:37:40.093Z"
   },
   {
    "duration": 20,
    "start_time": "2024-09-07T20:37:40.105Z"
   },
   {
    "duration": 44,
    "start_time": "2024-09-07T20:37:40.126Z"
   },
   {
    "duration": 5,
    "start_time": "2024-09-07T20:37:40.171Z"
   },
   {
    "duration": 30,
    "start_time": "2024-09-07T20:37:40.178Z"
   },
   {
    "duration": 16,
    "start_time": "2024-09-07T20:37:40.210Z"
   },
   {
    "duration": 6,
    "start_time": "2024-09-07T20:37:40.228Z"
   },
   {
    "duration": 38,
    "start_time": "2024-09-07T20:37:40.235Z"
   },
   {
    "duration": 18,
    "start_time": "2024-09-07T20:37:40.274Z"
   },
   {
    "duration": 7,
    "start_time": "2024-09-07T20:37:40.293Z"
   },
   {
    "duration": 4,
    "start_time": "2024-09-07T20:37:40.301Z"
   },
   {
    "duration": 4,
    "start_time": "2024-09-07T20:37:40.307Z"
   },
   {
    "duration": 0,
    "start_time": "2024-09-07T20:37:40.313Z"
   },
   {
    "duration": 0,
    "start_time": "2024-09-07T20:37:40.314Z"
   },
   {
    "duration": 0,
    "start_time": "2024-09-07T20:37:40.315Z"
   },
   {
    "duration": 0,
    "start_time": "2024-09-07T20:37:40.316Z"
   },
   {
    "duration": 0,
    "start_time": "2024-09-07T20:37:40.317Z"
   },
   {
    "duration": 0,
    "start_time": "2024-09-07T20:37:40.318Z"
   },
   {
    "duration": 0,
    "start_time": "2024-09-07T20:37:40.319Z"
   },
   {
    "duration": 0,
    "start_time": "2024-09-07T20:37:40.320Z"
   },
   {
    "duration": 0,
    "start_time": "2024-09-07T20:37:40.321Z"
   },
   {
    "duration": 0,
    "start_time": "2024-09-07T20:37:40.322Z"
   },
   {
    "duration": 0,
    "start_time": "2024-09-07T20:37:40.323Z"
   },
   {
    "duration": 0,
    "start_time": "2024-09-07T20:37:40.371Z"
   },
   {
    "duration": 0,
    "start_time": "2024-09-07T20:37:40.372Z"
   },
   {
    "duration": 0,
    "start_time": "2024-09-07T20:37:40.373Z"
   },
   {
    "duration": 0,
    "start_time": "2024-09-07T20:37:40.375Z"
   },
   {
    "duration": 0,
    "start_time": "2024-09-07T20:37:40.376Z"
   },
   {
    "duration": 0,
    "start_time": "2024-09-07T20:37:40.378Z"
   },
   {
    "duration": 9,
    "start_time": "2024-09-07T20:37:53.237Z"
   },
   {
    "duration": 9,
    "start_time": "2024-09-07T20:38:25.250Z"
   },
   {
    "duration": 5,
    "start_time": "2024-09-07T20:43:57.828Z"
   },
   {
    "duration": 4,
    "start_time": "2024-09-07T20:47:59.627Z"
   },
   {
    "duration": 5,
    "start_time": "2024-09-07T20:52:14.686Z"
   },
   {
    "duration": 23,
    "start_time": "2024-09-07T20:53:42.487Z"
   },
   {
    "duration": 5,
    "start_time": "2024-09-07T20:55:19.122Z"
   },
   {
    "duration": 504,
    "start_time": "2024-09-07T20:55:25.843Z"
   },
   {
    "duration": 25,
    "start_time": "2024-09-07T20:57:20.678Z"
   },
   {
    "duration": 15,
    "start_time": "2024-09-07T20:57:54.982Z"
   },
   {
    "duration": 16,
    "start_time": "2024-09-07T20:58:27.615Z"
   },
   {
    "duration": 17,
    "start_time": "2024-09-07T20:59:29.500Z"
   },
   {
    "duration": 19,
    "start_time": "2024-09-07T21:00:24.128Z"
   },
   {
    "duration": 18,
    "start_time": "2024-09-07T21:00:53.111Z"
   },
   {
    "duration": 18,
    "start_time": "2024-09-07T21:01:13.998Z"
   },
   {
    "duration": 10,
    "start_time": "2024-09-07T21:02:55.071Z"
   },
   {
    "duration": 11,
    "start_time": "2024-09-07T21:03:23.534Z"
   },
   {
    "duration": 11,
    "start_time": "2024-09-07T21:03:36.931Z"
   },
   {
    "duration": 10,
    "start_time": "2024-09-07T21:04:00.749Z"
   },
   {
    "duration": 9,
    "start_time": "2024-09-07T21:04:08.692Z"
   },
   {
    "duration": 4,
    "start_time": "2024-09-07T21:04:31.998Z"
   },
   {
    "duration": 18,
    "start_time": "2024-09-07T21:04:41.805Z"
   },
   {
    "duration": 9,
    "start_time": "2024-09-07T21:05:06.242Z"
   },
   {
    "duration": 16,
    "start_time": "2024-09-07T21:05:25.356Z"
   },
   {
    "duration": 9,
    "start_time": "2024-09-07T21:05:34.175Z"
   },
   {
    "duration": 13,
    "start_time": "2024-09-07T21:05:45.161Z"
   },
   {
    "duration": 16,
    "start_time": "2024-09-07T21:09:10.194Z"
   },
   {
    "duration": 9,
    "start_time": "2024-09-07T21:16:58.508Z"
   },
   {
    "duration": 15,
    "start_time": "2024-09-07T21:41:44.398Z"
   },
   {
    "duration": 11,
    "start_time": "2024-09-07T21:42:04.101Z"
   },
   {
    "duration": 9,
    "start_time": "2024-09-07T21:48:44.061Z"
   },
   {
    "duration": 18,
    "start_time": "2024-09-07T22:02:00.345Z"
   },
   {
    "duration": 17,
    "start_time": "2024-09-07T22:02:17.542Z"
   },
   {
    "duration": 196,
    "start_time": "2024-09-07T22:04:26.302Z"
   },
   {
    "duration": 87,
    "start_time": "2024-09-07T22:04:33.670Z"
   },
   {
    "duration": 53,
    "start_time": "2024-09-07T22:06:19.924Z"
   },
   {
    "duration": 25,
    "start_time": "2024-09-07T22:06:58.009Z"
   },
   {
    "duration": 23,
    "start_time": "2024-09-07T22:07:58.160Z"
   },
   {
    "duration": 22,
    "start_time": "2024-09-07T22:08:05.639Z"
   },
   {
    "duration": 25,
    "start_time": "2024-09-07T22:08:12.369Z"
   },
   {
    "duration": 25,
    "start_time": "2024-09-07T22:08:29.208Z"
   },
   {
    "duration": 17,
    "start_time": "2024-09-07T22:08:38.859Z"
   },
   {
    "duration": 789,
    "start_time": "2024-09-07T22:08:49.367Z"
   },
   {
    "duration": 8,
    "start_time": "2024-09-07T22:08:50.157Z"
   },
   {
    "duration": 6,
    "start_time": "2024-09-07T22:08:50.169Z"
   },
   {
    "duration": 34,
    "start_time": "2024-09-07T22:08:50.177Z"
   },
   {
    "duration": 68,
    "start_time": "2024-09-07T22:08:50.212Z"
   },
   {
    "duration": 67,
    "start_time": "2024-09-07T22:08:50.282Z"
   },
   {
    "duration": 24,
    "start_time": "2024-09-07T22:08:50.351Z"
   },
   {
    "duration": 5,
    "start_time": "2024-09-07T22:08:50.377Z"
   },
   {
    "duration": 13,
    "start_time": "2024-09-07T22:08:50.384Z"
   },
   {
    "duration": 5,
    "start_time": "2024-09-07T22:08:50.400Z"
   },
   {
    "duration": 4,
    "start_time": "2024-09-07T22:08:50.406Z"
   },
   {
    "duration": 9,
    "start_time": "2024-09-07T22:08:50.412Z"
   },
   {
    "duration": 61,
    "start_time": "2024-09-07T22:08:50.423Z"
   },
   {
    "duration": 6,
    "start_time": "2024-09-07T22:08:50.486Z"
   },
   {
    "duration": 6,
    "start_time": "2024-09-07T22:08:50.494Z"
   },
   {
    "duration": 30,
    "start_time": "2024-09-07T22:08:50.502Z"
   },
   {
    "duration": 45,
    "start_time": "2024-09-07T22:08:50.534Z"
   },
   {
    "duration": 5,
    "start_time": "2024-09-07T22:08:50.581Z"
   },
   {
    "duration": 8,
    "start_time": "2024-09-07T22:08:50.588Z"
   },
   {
    "duration": 17,
    "start_time": "2024-09-07T22:08:50.598Z"
   },
   {
    "duration": 6,
    "start_time": "2024-09-07T22:08:50.616Z"
   },
   {
    "duration": 4,
    "start_time": "2024-09-07T22:08:50.624Z"
   },
   {
    "duration": 42,
    "start_time": "2024-09-07T22:08:50.630Z"
   },
   {
    "duration": 0,
    "start_time": "2024-09-07T22:08:50.675Z"
   },
   {
    "duration": 0,
    "start_time": "2024-09-07T22:08:50.676Z"
   },
   {
    "duration": 0,
    "start_time": "2024-09-07T22:08:50.677Z"
   },
   {
    "duration": 0,
    "start_time": "2024-09-07T22:08:50.678Z"
   },
   {
    "duration": 0,
    "start_time": "2024-09-07T22:08:50.679Z"
   },
   {
    "duration": 0,
    "start_time": "2024-09-07T22:08:50.680Z"
   },
   {
    "duration": 0,
    "start_time": "2024-09-07T22:08:50.681Z"
   },
   {
    "duration": 0,
    "start_time": "2024-09-07T22:08:50.683Z"
   },
   {
    "duration": 0,
    "start_time": "2024-09-07T22:08:50.684Z"
   },
   {
    "duration": 0,
    "start_time": "2024-09-07T22:08:50.685Z"
   },
   {
    "duration": 0,
    "start_time": "2024-09-07T22:08:50.686Z"
   },
   {
    "duration": 0,
    "start_time": "2024-09-07T22:08:50.687Z"
   },
   {
    "duration": 0,
    "start_time": "2024-09-07T22:08:50.688Z"
   },
   {
    "duration": 0,
    "start_time": "2024-09-07T22:08:50.691Z"
   },
   {
    "duration": 0,
    "start_time": "2024-09-07T22:08:50.692Z"
   },
   {
    "duration": 0,
    "start_time": "2024-09-07T22:08:50.693Z"
   },
   {
    "duration": 0,
    "start_time": "2024-09-07T22:08:50.694Z"
   },
   {
    "duration": 17,
    "start_time": "2024-09-07T22:09:25.213Z"
   },
   {
    "duration": 10,
    "start_time": "2024-09-07T22:10:17.185Z"
   },
   {
    "duration": 480,
    "start_time": "2024-09-07T22:10:24.902Z"
   },
   {
    "duration": 21,
    "start_time": "2024-09-07T22:11:28.840Z"
   },
   {
    "duration": 23,
    "start_time": "2024-09-07T22:12:44.313Z"
   },
   {
    "duration": 840,
    "start_time": "2024-09-07T22:12:59.110Z"
   },
   {
    "duration": 8,
    "start_time": "2024-09-07T22:12:59.953Z"
   },
   {
    "duration": 11,
    "start_time": "2024-09-07T22:12:59.962Z"
   },
   {
    "duration": 33,
    "start_time": "2024-09-07T22:12:59.975Z"
   },
   {
    "duration": 67,
    "start_time": "2024-09-07T22:13:00.010Z"
   },
   {
    "duration": 69,
    "start_time": "2024-09-07T22:13:00.079Z"
   },
   {
    "duration": 25,
    "start_time": "2024-09-07T22:13:00.150Z"
   },
   {
    "duration": 5,
    "start_time": "2024-09-07T22:13:00.178Z"
   },
   {
    "duration": 13,
    "start_time": "2024-09-07T22:13:00.184Z"
   },
   {
    "duration": 5,
    "start_time": "2024-09-07T22:13:00.200Z"
   },
   {
    "duration": 4,
    "start_time": "2024-09-07T22:13:00.206Z"
   },
   {
    "duration": 9,
    "start_time": "2024-09-07T22:13:00.211Z"
   },
   {
    "duration": 56,
    "start_time": "2024-09-07T22:13:00.222Z"
   },
   {
    "duration": 6,
    "start_time": "2024-09-07T22:13:00.279Z"
   },
   {
    "duration": 5,
    "start_time": "2024-09-07T22:13:00.287Z"
   },
   {
    "duration": 31,
    "start_time": "2024-09-07T22:13:00.293Z"
   },
   {
    "duration": 16,
    "start_time": "2024-09-07T22:13:00.326Z"
   },
   {
    "duration": 29,
    "start_time": "2024-09-07T22:13:00.344Z"
   },
   {
    "duration": 9,
    "start_time": "2024-09-07T22:13:00.374Z"
   },
   {
    "duration": 18,
    "start_time": "2024-09-07T22:13:00.385Z"
   },
   {
    "duration": 6,
    "start_time": "2024-09-07T22:13:00.405Z"
   },
   {
    "duration": 5,
    "start_time": "2024-09-07T22:13:00.412Z"
   },
   {
    "duration": 53,
    "start_time": "2024-09-07T22:13:00.419Z"
   },
   {
    "duration": 10,
    "start_time": "2024-09-07T22:13:00.474Z"
   },
   {
    "duration": 3,
    "start_time": "2024-09-07T22:13:00.485Z"
   },
   {
    "duration": 29,
    "start_time": "2024-09-07T22:13:00.489Z"
   },
   {
    "duration": 2,
    "start_time": "2024-09-07T22:13:00.519Z"
   },
   {
    "duration": 54,
    "start_time": "2024-09-07T22:13:00.525Z"
   },
   {
    "duration": 2,
    "start_time": "2024-09-07T22:13:00.581Z"
   },
   {
    "duration": 3,
    "start_time": "2024-09-07T22:13:00.585Z"
   },
   {
    "duration": 3,
    "start_time": "2024-09-07T22:13:00.589Z"
   },
   {
    "duration": 3,
    "start_time": "2024-09-07T22:13:00.594Z"
   },
   {
    "duration": 3,
    "start_time": "2024-09-07T22:13:00.598Z"
   },
   {
    "duration": 3,
    "start_time": "2024-09-07T22:13:00.602Z"
   },
   {
    "duration": 2,
    "start_time": "2024-09-07T22:13:00.607Z"
   },
   {
    "duration": 3,
    "start_time": "2024-09-07T22:13:00.611Z"
   },
   {
    "duration": 2,
    "start_time": "2024-09-07T22:13:00.616Z"
   },
   {
    "duration": 2,
    "start_time": "2024-09-07T22:13:00.620Z"
   },
   {
    "duration": 47,
    "start_time": "2024-09-07T22:13:00.624Z"
   },
   {
    "duration": 15,
    "start_time": "2024-09-07T22:19:16.711Z"
   },
   {
    "duration": 776,
    "start_time": "2024-09-07T22:19:29.580Z"
   },
   {
    "duration": 12,
    "start_time": "2024-09-07T22:19:30.358Z"
   },
   {
    "duration": 5,
    "start_time": "2024-09-07T22:19:30.371Z"
   },
   {
    "duration": 32,
    "start_time": "2024-09-07T22:19:30.378Z"
   },
   {
    "duration": 67,
    "start_time": "2024-09-07T22:19:30.412Z"
   },
   {
    "duration": 68,
    "start_time": "2024-09-07T22:19:30.481Z"
   },
   {
    "duration": 25,
    "start_time": "2024-09-07T22:19:30.550Z"
   },
   {
    "duration": 5,
    "start_time": "2024-09-07T22:19:30.577Z"
   },
   {
    "duration": 13,
    "start_time": "2024-09-07T22:19:30.583Z"
   },
   {
    "duration": 5,
    "start_time": "2024-09-07T22:19:30.599Z"
   },
   {
    "duration": 2,
    "start_time": "2024-09-07T22:19:30.606Z"
   },
   {
    "duration": 9,
    "start_time": "2024-09-07T22:19:30.610Z"
   },
   {
    "duration": 57,
    "start_time": "2024-09-07T22:19:30.620Z"
   },
   {
    "duration": 8,
    "start_time": "2024-09-07T22:19:30.679Z"
   },
   {
    "duration": 4,
    "start_time": "2024-09-07T22:19:30.689Z"
   },
   {
    "duration": 32,
    "start_time": "2024-09-07T22:19:30.695Z"
   },
   {
    "duration": 42,
    "start_time": "2024-09-07T22:19:30.729Z"
   },
   {
    "duration": 5,
    "start_time": "2024-09-07T22:19:30.772Z"
   },
   {
    "duration": 9,
    "start_time": "2024-09-07T22:19:30.779Z"
   },
   {
    "duration": 19,
    "start_time": "2024-09-07T22:19:30.789Z"
   },
   {
    "duration": 7,
    "start_time": "2024-09-07T22:19:30.809Z"
   },
   {
    "duration": 5,
    "start_time": "2024-09-07T22:19:30.817Z"
   },
   {
    "duration": 53,
    "start_time": "2024-09-07T22:19:30.823Z"
   },
   {
    "duration": 10,
    "start_time": "2024-09-07T22:19:30.878Z"
   },
   {
    "duration": 3,
    "start_time": "2024-09-07T22:19:30.889Z"
   },
   {
    "duration": 28,
    "start_time": "2024-09-07T22:19:30.893Z"
   },
   {
    "duration": 3,
    "start_time": "2024-09-07T22:19:30.922Z"
   },
   {
    "duration": 57,
    "start_time": "2024-09-07T22:19:30.930Z"
   },
   {
    "duration": 3,
    "start_time": "2024-09-07T22:19:30.988Z"
   },
   {
    "duration": 3,
    "start_time": "2024-09-07T22:19:30.992Z"
   },
   {
    "duration": 2,
    "start_time": "2024-09-07T22:19:30.997Z"
   },
   {
    "duration": 3,
    "start_time": "2024-09-07T22:19:31.000Z"
   },
   {
    "duration": 3,
    "start_time": "2024-09-07T22:19:31.005Z"
   },
   {
    "duration": 3,
    "start_time": "2024-09-07T22:19:31.009Z"
   },
   {
    "duration": 2,
    "start_time": "2024-09-07T22:19:31.014Z"
   },
   {
    "duration": 4,
    "start_time": "2024-09-07T22:19:31.018Z"
   },
   {
    "duration": 2,
    "start_time": "2024-09-07T22:19:31.024Z"
   },
   {
    "duration": 2,
    "start_time": "2024-09-07T22:19:31.028Z"
   },
   {
    "duration": 2,
    "start_time": "2024-09-07T22:19:31.070Z"
   },
   {
    "duration": 132,
    "start_time": "2024-09-07T22:24:11.287Z"
   },
   {
    "duration": 158,
    "start_time": "2024-09-07T22:27:17.279Z"
   },
   {
    "duration": 27,
    "start_time": "2024-09-07T22:27:31.838Z"
   },
   {
    "duration": 29,
    "start_time": "2024-09-07T22:28:47.669Z"
   },
   {
    "duration": 25,
    "start_time": "2024-09-07T22:29:08.648Z"
   },
   {
    "duration": 26,
    "start_time": "2024-09-07T22:30:01.869Z"
   },
   {
    "duration": 27,
    "start_time": "2024-09-07T22:32:08.925Z"
   },
   {
    "duration": 29,
    "start_time": "2024-09-07T22:32:20.565Z"
   },
   {
    "duration": 794,
    "start_time": "2024-09-07T22:32:28.752Z"
   },
   {
    "duration": 7,
    "start_time": "2024-09-07T22:32:29.549Z"
   },
   {
    "duration": 4,
    "start_time": "2024-09-07T22:32:29.558Z"
   },
   {
    "duration": 35,
    "start_time": "2024-09-07T22:32:29.570Z"
   },
   {
    "duration": 54,
    "start_time": "2024-09-07T22:32:29.607Z"
   },
   {
    "duration": 74,
    "start_time": "2024-09-07T22:32:29.662Z"
   },
   {
    "duration": 16,
    "start_time": "2024-09-07T22:32:29.738Z"
   },
   {
    "duration": 5,
    "start_time": "2024-09-07T22:32:29.769Z"
   },
   {
    "duration": 13,
    "start_time": "2024-09-07T22:32:29.775Z"
   },
   {
    "duration": 5,
    "start_time": "2024-09-07T22:32:29.790Z"
   },
   {
    "duration": 3,
    "start_time": "2024-09-07T22:32:29.797Z"
   },
   {
    "duration": 9,
    "start_time": "2024-09-07T22:32:29.801Z"
   },
   {
    "duration": 58,
    "start_time": "2024-09-07T22:32:29.812Z"
   },
   {
    "duration": 6,
    "start_time": "2024-09-07T22:32:29.874Z"
   },
   {
    "duration": 5,
    "start_time": "2024-09-07T22:32:29.882Z"
   },
   {
    "duration": 30,
    "start_time": "2024-09-07T22:32:29.888Z"
   },
   {
    "duration": 17,
    "start_time": "2024-09-07T22:32:29.920Z"
   },
   {
    "duration": 5,
    "start_time": "2024-09-07T22:32:29.969Z"
   },
   {
    "duration": 9,
    "start_time": "2024-09-07T22:32:29.976Z"
   },
   {
    "duration": 18,
    "start_time": "2024-09-07T22:32:29.986Z"
   },
   {
    "duration": 8,
    "start_time": "2024-09-07T22:32:30.005Z"
   },
   {
    "duration": 5,
    "start_time": "2024-09-07T22:32:30.014Z"
   },
   {
    "duration": 17,
    "start_time": "2024-09-07T22:32:30.021Z"
   },
   {
    "duration": 11,
    "start_time": "2024-09-07T22:32:30.071Z"
   },
   {
    "duration": 2,
    "start_time": "2024-09-07T22:32:30.084Z"
   },
   {
    "duration": 28,
    "start_time": "2024-09-07T22:32:30.088Z"
   },
   {
    "duration": 165,
    "start_time": "2024-09-07T22:32:30.117Z"
   },
   {
    "duration": 0,
    "start_time": "2024-09-07T22:32:30.284Z"
   },
   {
    "duration": 0,
    "start_time": "2024-09-07T22:32:30.285Z"
   },
   {
    "duration": 0,
    "start_time": "2024-09-07T22:32:30.286Z"
   },
   {
    "duration": 0,
    "start_time": "2024-09-07T22:32:30.287Z"
   },
   {
    "duration": 0,
    "start_time": "2024-09-07T22:32:30.288Z"
   },
   {
    "duration": 0,
    "start_time": "2024-09-07T22:32:30.289Z"
   },
   {
    "duration": 0,
    "start_time": "2024-09-07T22:32:30.290Z"
   },
   {
    "duration": 0,
    "start_time": "2024-09-07T22:32:30.291Z"
   },
   {
    "duration": 0,
    "start_time": "2024-09-07T22:32:30.292Z"
   },
   {
    "duration": 0,
    "start_time": "2024-09-07T22:32:30.293Z"
   },
   {
    "duration": 0,
    "start_time": "2024-09-07T22:32:30.294Z"
   },
   {
    "duration": 0,
    "start_time": "2024-09-07T22:32:30.296Z"
   },
   {
    "duration": 26,
    "start_time": "2024-09-07T22:33:12.729Z"
   },
   {
    "duration": 160,
    "start_time": "2024-09-08T00:10:31.911Z"
   },
   {
    "duration": 12,
    "start_time": "2024-09-08T00:11:09.213Z"
   },
   {
    "duration": 12,
    "start_time": "2024-09-08T00:11:21.324Z"
   },
   {
    "duration": 2424,
    "start_time": "2024-09-08T00:11:32.658Z"
   },
   {
    "duration": 9,
    "start_time": "2024-09-08T00:11:40.392Z"
   },
   {
    "duration": 6,
    "start_time": "2024-09-08T00:11:43.639Z"
   },
   {
    "duration": 49,
    "start_time": "2024-09-08T00:11:47.210Z"
   },
   {
    "duration": 91,
    "start_time": "2024-09-08T00:11:52.172Z"
   },
   {
    "duration": 102,
    "start_time": "2024-09-08T00:11:55.572Z"
   },
   {
    "duration": 105,
    "start_time": "2024-09-08T00:12:15.992Z"
   },
   {
    "duration": 27,
    "start_time": "2024-09-08T00:13:40.630Z"
   },
   {
    "duration": 150,
    "start_time": "2024-09-08T00:14:52.952Z"
   },
   {
    "duration": 75,
    "start_time": "2024-09-08T00:15:53.153Z"
   },
   {
    "duration": 21,
    "start_time": "2024-09-08T00:16:13.878Z"
   },
   {
    "duration": 22,
    "start_time": "2024-09-08T00:17:59.690Z"
   },
   {
    "duration": 17,
    "start_time": "2024-09-08T00:18:04.313Z"
   },
   {
    "duration": 13,
    "start_time": "2024-09-08T00:19:28.578Z"
   },
   {
    "duration": 17,
    "start_time": "2024-09-08T00:20:14.784Z"
   },
   {
    "duration": 15,
    "start_time": "2024-09-08T00:20:36.982Z"
   },
   {
    "duration": 14,
    "start_time": "2024-09-08T00:21:39.728Z"
   },
   {
    "duration": 14,
    "start_time": "2024-09-08T00:22:42.192Z"
   },
   {
    "duration": 158,
    "start_time": "2024-09-08T04:19:16.147Z"
   },
   {
    "duration": 2598,
    "start_time": "2024-09-08T04:20:42.752Z"
   },
   {
    "duration": 811,
    "start_time": "2024-09-08T04:20:53.904Z"
   },
   {
    "duration": 9,
    "start_time": "2024-09-08T04:20:54.718Z"
   },
   {
    "duration": 7,
    "start_time": "2024-09-08T04:20:54.729Z"
   },
   {
    "duration": 51,
    "start_time": "2024-09-08T04:20:54.738Z"
   },
   {
    "duration": 92,
    "start_time": "2024-09-08T04:20:54.791Z"
   },
   {
    "duration": 99,
    "start_time": "2024-09-08T04:20:54.885Z"
   },
   {
    "duration": 16,
    "start_time": "2024-09-08T04:20:54.986Z"
   },
   {
    "duration": 4,
    "start_time": "2024-09-08T04:20:55.004Z"
   },
   {
    "duration": 16,
    "start_time": "2024-09-08T04:20:55.010Z"
   },
   {
    "duration": 5,
    "start_time": "2024-09-08T04:20:55.030Z"
   },
   {
    "duration": 3,
    "start_time": "2024-09-08T04:20:55.037Z"
   },
   {
    "duration": 9,
    "start_time": "2024-09-08T04:20:55.042Z"
   },
   {
    "duration": 21,
    "start_time": "2024-09-08T04:20:55.053Z"
   },
   {
    "duration": 42,
    "start_time": "2024-09-08T04:20:55.076Z"
   },
   {
    "duration": 6,
    "start_time": "2024-09-08T04:20:55.119Z"
   },
   {
    "duration": 30,
    "start_time": "2024-09-08T04:20:55.127Z"
   },
   {
    "duration": 16,
    "start_time": "2024-09-08T04:20:55.159Z"
   },
   {
    "duration": 35,
    "start_time": "2024-09-08T04:20:55.177Z"
   },
   {
    "duration": 10,
    "start_time": "2024-09-08T04:20:55.214Z"
   },
   {
    "duration": 13,
    "start_time": "2024-09-08T04:20:55.226Z"
   },
   {
    "duration": 17,
    "start_time": "2024-09-08T04:20:55.241Z"
   },
   {
    "duration": 6,
    "start_time": "2024-09-08T04:20:55.260Z"
   },
   {
    "duration": 5,
    "start_time": "2024-09-08T04:20:55.268Z"
   },
   {
    "duration": 52,
    "start_time": "2024-09-08T04:20:55.274Z"
   },
   {
    "duration": 13,
    "start_time": "2024-09-08T04:20:55.328Z"
   },
   {
    "duration": 10,
    "start_time": "2024-09-08T04:20:55.343Z"
   },
   {
    "duration": 13,
    "start_time": "2024-09-08T04:20:55.355Z"
   },
   {
    "duration": 45,
    "start_time": "2024-09-08T04:20:55.373Z"
   },
   {
    "duration": 12,
    "start_time": "2024-09-08T04:20:55.421Z"
   },
   {
    "duration": 794,
    "start_time": "2024-09-08T04:20:55.435Z"
   },
   {
    "duration": 0,
    "start_time": "2024-09-08T04:20:56.231Z"
   },
   {
    "duration": 0,
    "start_time": "2024-09-08T04:20:56.232Z"
   },
   {
    "duration": 0,
    "start_time": "2024-09-08T04:20:56.234Z"
   },
   {
    "duration": 0,
    "start_time": "2024-09-08T04:20:56.235Z"
   },
   {
    "duration": 0,
    "start_time": "2024-09-08T04:20:56.236Z"
   },
   {
    "duration": 0,
    "start_time": "2024-09-08T04:20:56.237Z"
   },
   {
    "duration": 0,
    "start_time": "2024-09-08T04:20:56.239Z"
   },
   {
    "duration": 0,
    "start_time": "2024-09-08T04:20:56.240Z"
   },
   {
    "duration": 0,
    "start_time": "2024-09-08T04:20:56.241Z"
   },
   {
    "duration": 0,
    "start_time": "2024-09-08T04:20:56.243Z"
   },
   {
    "duration": 0,
    "start_time": "2024-09-08T04:20:56.244Z"
   },
   {
    "duration": 32,
    "start_time": "2024-09-08T04:21:57.081Z"
   },
   {
    "duration": 29,
    "start_time": "2024-09-08T04:22:09.830Z"
   },
   {
    "duration": 31,
    "start_time": "2024-09-08T04:22:21.645Z"
   },
   {
    "duration": 5,
    "start_time": "2024-09-08T04:22:43.891Z"
   },
   {
    "duration": 30,
    "start_time": "2024-09-08T04:23:06.212Z"
   },
   {
    "duration": 799,
    "start_time": "2024-09-08T04:23:25.709Z"
   },
   {
    "duration": 8,
    "start_time": "2024-09-08T04:23:26.510Z"
   },
   {
    "duration": 4,
    "start_time": "2024-09-08T04:23:26.520Z"
   },
   {
    "duration": 33,
    "start_time": "2024-09-08T04:23:26.526Z"
   },
   {
    "duration": 76,
    "start_time": "2024-09-08T04:23:26.560Z"
   },
   {
    "duration": 66,
    "start_time": "2024-09-08T04:23:26.639Z"
   },
   {
    "duration": 17,
    "start_time": "2024-09-08T04:23:26.707Z"
   },
   {
    "duration": 5,
    "start_time": "2024-09-08T04:23:26.726Z"
   },
   {
    "duration": 13,
    "start_time": "2024-09-08T04:23:26.733Z"
   },
   {
    "duration": 4,
    "start_time": "2024-09-08T04:23:26.750Z"
   },
   {
    "duration": 3,
    "start_time": "2024-09-08T04:23:26.756Z"
   },
   {
    "duration": 10,
    "start_time": "2024-09-08T04:23:26.760Z"
   },
   {
    "duration": 62,
    "start_time": "2024-09-08T04:23:26.771Z"
   },
   {
    "duration": 6,
    "start_time": "2024-09-08T04:23:26.835Z"
   },
   {
    "duration": 5,
    "start_time": "2024-09-08T04:23:26.843Z"
   },
   {
    "duration": 30,
    "start_time": "2024-09-08T04:23:26.850Z"
   },
   {
    "duration": 17,
    "start_time": "2024-09-08T04:23:26.911Z"
   },
   {
    "duration": 6,
    "start_time": "2024-09-08T04:23:26.930Z"
   },
   {
    "duration": 10,
    "start_time": "2024-09-08T04:23:26.938Z"
   },
   {
    "duration": 14,
    "start_time": "2024-09-08T04:23:26.950Z"
   },
   {
    "duration": 49,
    "start_time": "2024-09-08T04:23:26.966Z"
   },
   {
    "duration": 8,
    "start_time": "2024-09-08T04:23:27.016Z"
   },
   {
    "duration": 5,
    "start_time": "2024-09-08T04:23:27.026Z"
   },
   {
    "duration": 18,
    "start_time": "2024-09-08T04:23:27.033Z"
   },
   {
    "duration": 800,
    "start_time": "2024-09-08T04:23:27.052Z"
   },
   {
    "duration": 0,
    "start_time": "2024-09-08T04:23:27.855Z"
   },
   {
    "duration": 0,
    "start_time": "2024-09-08T04:23:27.856Z"
   },
   {
    "duration": 0,
    "start_time": "2024-09-08T04:23:27.857Z"
   },
   {
    "duration": 0,
    "start_time": "2024-09-08T04:23:27.858Z"
   },
   {
    "duration": 0,
    "start_time": "2024-09-08T04:23:27.859Z"
   },
   {
    "duration": 0,
    "start_time": "2024-09-08T04:23:27.860Z"
   },
   {
    "duration": 0,
    "start_time": "2024-09-08T04:23:27.861Z"
   },
   {
    "duration": 0,
    "start_time": "2024-09-08T04:23:27.862Z"
   },
   {
    "duration": 0,
    "start_time": "2024-09-08T04:23:27.864Z"
   },
   {
    "duration": 0,
    "start_time": "2024-09-08T04:23:27.866Z"
   },
   {
    "duration": 0,
    "start_time": "2024-09-08T04:23:27.867Z"
   },
   {
    "duration": 0,
    "start_time": "2024-09-08T04:23:27.868Z"
   },
   {
    "duration": 0,
    "start_time": "2024-09-08T04:23:27.869Z"
   },
   {
    "duration": 0,
    "start_time": "2024-09-08T04:23:27.870Z"
   },
   {
    "duration": 0,
    "start_time": "2024-09-08T04:23:27.871Z"
   },
   {
    "duration": 0,
    "start_time": "2024-09-08T04:23:27.873Z"
   },
   {
    "duration": 14,
    "start_time": "2024-09-08T04:25:03.701Z"
   },
   {
    "duration": 156,
    "start_time": "2024-09-08T12:52:09.121Z"
   },
   {
    "duration": 2508,
    "start_time": "2024-09-08T12:52:20.302Z"
   },
   {
    "duration": 8,
    "start_time": "2024-09-08T12:52:22.812Z"
   },
   {
    "duration": 7,
    "start_time": "2024-09-08T12:52:22.822Z"
   },
   {
    "duration": 51,
    "start_time": "2024-09-08T12:52:22.831Z"
   },
   {
    "duration": 89,
    "start_time": "2024-09-08T12:52:22.884Z"
   },
   {
    "duration": 105,
    "start_time": "2024-09-08T12:52:22.974Z"
   },
   {
    "duration": 15,
    "start_time": "2024-09-08T12:52:23.081Z"
   },
   {
    "duration": 5,
    "start_time": "2024-09-08T12:52:23.098Z"
   },
   {
    "duration": 27,
    "start_time": "2024-09-08T12:52:23.105Z"
   },
   {
    "duration": 5,
    "start_time": "2024-09-08T12:52:23.136Z"
   },
   {
    "duration": 5,
    "start_time": "2024-09-08T12:52:23.143Z"
   },
   {
    "duration": 13,
    "start_time": "2024-09-08T12:52:23.150Z"
   },
   {
    "duration": 38,
    "start_time": "2024-09-08T12:52:23.167Z"
   },
   {
    "duration": 6,
    "start_time": "2024-09-08T12:52:23.207Z"
   },
   {
    "duration": 6,
    "start_time": "2024-09-08T12:52:23.214Z"
   },
   {
    "duration": 22,
    "start_time": "2024-09-08T12:52:23.222Z"
   },
   {
    "duration": 44,
    "start_time": "2024-09-08T12:52:23.246Z"
   },
   {
    "duration": 7,
    "start_time": "2024-09-08T12:52:23.292Z"
   },
   {
    "duration": 8,
    "start_time": "2024-09-08T12:52:23.302Z"
   },
   {
    "duration": 14,
    "start_time": "2024-09-08T12:52:23.312Z"
   },
   {
    "duration": 18,
    "start_time": "2024-09-08T12:52:23.327Z"
   },
   {
    "duration": 6,
    "start_time": "2024-09-08T12:52:23.346Z"
   },
   {
    "duration": 5,
    "start_time": "2024-09-08T12:52:23.387Z"
   },
   {
    "duration": 19,
    "start_time": "2024-09-08T12:52:23.394Z"
   },
   {
    "duration": 11,
    "start_time": "2024-09-08T12:52:23.415Z"
   },
   {
    "duration": 9,
    "start_time": "2024-09-08T12:52:23.428Z"
   },
   {
    "duration": 13,
    "start_time": "2024-09-08T12:52:23.438Z"
   },
   {
    "duration": 44,
    "start_time": "2024-09-08T12:52:23.455Z"
   },
   {
    "duration": 12,
    "start_time": "2024-09-08T12:52:23.501Z"
   },
   {
    "duration": 781,
    "start_time": "2024-09-08T12:52:23.515Z"
   },
   {
    "duration": 0,
    "start_time": "2024-09-08T12:52:24.299Z"
   },
   {
    "duration": 0,
    "start_time": "2024-09-08T12:52:24.300Z"
   },
   {
    "duration": 0,
    "start_time": "2024-09-08T12:52:24.301Z"
   },
   {
    "duration": 0,
    "start_time": "2024-09-08T12:52:24.303Z"
   },
   {
    "duration": 0,
    "start_time": "2024-09-08T12:52:24.304Z"
   },
   {
    "duration": 0,
    "start_time": "2024-09-08T12:52:24.305Z"
   },
   {
    "duration": 0,
    "start_time": "2024-09-08T12:52:24.306Z"
   },
   {
    "duration": 0,
    "start_time": "2024-09-08T12:52:24.307Z"
   },
   {
    "duration": 0,
    "start_time": "2024-09-08T12:52:24.308Z"
   },
   {
    "duration": 0,
    "start_time": "2024-09-08T12:52:24.309Z"
   },
   {
    "duration": 0,
    "start_time": "2024-09-08T12:52:24.310Z"
   },
   {
    "duration": 0,
    "start_time": "2024-09-08T12:52:24.311Z"
   },
   {
    "duration": 31,
    "start_time": "2024-09-08T12:52:59.764Z"
   },
   {
    "duration": 44,
    "start_time": "2024-09-08T12:54:00.680Z"
   },
   {
    "duration": 55,
    "start_time": "2024-09-08T12:54:33.475Z"
   },
   {
    "duration": 6,
    "start_time": "2024-09-08T12:54:44.351Z"
   },
   {
    "duration": 45,
    "start_time": "2024-09-08T12:54:54.292Z"
   },
   {
    "duration": 26,
    "start_time": "2024-09-08T12:56:53.875Z"
   },
   {
    "duration": 12,
    "start_time": "2024-09-08T12:57:31.803Z"
   },
   {
    "duration": 12,
    "start_time": "2024-09-08T12:57:46.321Z"
   },
   {
    "duration": 675,
    "start_time": "2024-09-08T13:02:31.313Z"
   },
   {
    "duration": 101,
    "start_time": "2024-09-08T13:02:50.246Z"
   },
   {
    "duration": 821,
    "start_time": "2024-09-08T13:02:57.832Z"
   },
   {
    "duration": 8,
    "start_time": "2024-09-08T13:02:58.655Z"
   },
   {
    "duration": 6,
    "start_time": "2024-09-08T13:02:58.664Z"
   },
   {
    "duration": 47,
    "start_time": "2024-09-08T13:02:58.671Z"
   },
   {
    "duration": 52,
    "start_time": "2024-09-08T13:02:58.721Z"
   },
   {
    "duration": 71,
    "start_time": "2024-09-08T13:02:58.775Z"
   },
   {
    "duration": 15,
    "start_time": "2024-09-08T13:02:58.848Z"
   },
   {
    "duration": 5,
    "start_time": "2024-09-08T13:02:58.865Z"
   },
   {
    "duration": 26,
    "start_time": "2024-09-08T13:02:58.871Z"
   },
   {
    "duration": 5,
    "start_time": "2024-09-08T13:02:58.899Z"
   },
   {
    "duration": 3,
    "start_time": "2024-09-08T13:02:58.906Z"
   },
   {
    "duration": 10,
    "start_time": "2024-09-08T13:02:58.910Z"
   },
   {
    "duration": 20,
    "start_time": "2024-09-08T13:02:58.922Z"
   },
   {
    "duration": 45,
    "start_time": "2024-09-08T13:02:58.947Z"
   },
   {
    "duration": 5,
    "start_time": "2024-09-08T13:02:58.993Z"
   },
   {
    "duration": 20,
    "start_time": "2024-09-08T13:02:59.000Z"
   },
   {
    "duration": 18,
    "start_time": "2024-09-08T13:02:59.022Z"
   },
   {
    "duration": 5,
    "start_time": "2024-09-08T13:02:59.041Z"
   },
   {
    "duration": 39,
    "start_time": "2024-09-08T13:02:59.048Z"
   },
   {
    "duration": 14,
    "start_time": "2024-09-08T13:02:59.089Z"
   },
   {
    "duration": 19,
    "start_time": "2024-09-08T13:02:59.104Z"
   },
   {
    "duration": 5,
    "start_time": "2024-09-08T13:02:59.125Z"
   },
   {
    "duration": 6,
    "start_time": "2024-09-08T13:02:59.132Z"
   },
   {
    "duration": 53,
    "start_time": "2024-09-08T13:02:59.139Z"
   },
   {
    "duration": 12,
    "start_time": "2024-09-08T13:02:59.193Z"
   },
   {
    "duration": 10,
    "start_time": "2024-09-08T13:02:59.206Z"
   },
   {
    "duration": 13,
    "start_time": "2024-09-08T13:02:59.218Z"
   },
   {
    "duration": 1065,
    "start_time": "2024-09-08T13:02:59.232Z"
   },
   {
    "duration": 0,
    "start_time": "2024-09-08T13:03:00.299Z"
   },
   {
    "duration": 0,
    "start_time": "2024-09-08T13:03:00.302Z"
   },
   {
    "duration": 0,
    "start_time": "2024-09-08T13:03:00.304Z"
   },
   {
    "duration": 0,
    "start_time": "2024-09-08T13:03:00.305Z"
   },
   {
    "duration": 0,
    "start_time": "2024-09-08T13:03:00.307Z"
   },
   {
    "duration": 0,
    "start_time": "2024-09-08T13:03:00.308Z"
   },
   {
    "duration": 0,
    "start_time": "2024-09-08T13:03:00.310Z"
   },
   {
    "duration": 0,
    "start_time": "2024-09-08T13:03:00.311Z"
   },
   {
    "duration": 0,
    "start_time": "2024-09-08T13:03:00.312Z"
   },
   {
    "duration": 0,
    "start_time": "2024-09-08T13:03:00.314Z"
   },
   {
    "duration": 0,
    "start_time": "2024-09-08T13:03:00.315Z"
   },
   {
    "duration": 0,
    "start_time": "2024-09-08T13:03:00.317Z"
   },
   {
    "duration": 1,
    "start_time": "2024-09-08T13:03:00.317Z"
   },
   {
    "duration": 0,
    "start_time": "2024-09-08T13:03:00.319Z"
   },
   {
    "duration": 2,
    "start_time": "2024-09-08T13:03:45.402Z"
   },
   {
    "duration": 6,
    "start_time": "2024-09-08T13:03:50.139Z"
   },
   {
    "duration": 4,
    "start_time": "2024-09-08T13:03:50.672Z"
   },
   {
    "duration": 33,
    "start_time": "2024-09-08T13:03:51.232Z"
   },
   {
    "duration": 57,
    "start_time": "2024-09-08T13:03:52.605Z"
   },
   {
    "duration": 69,
    "start_time": "2024-09-08T13:03:53.581Z"
   },
   {
    "duration": 14,
    "start_time": "2024-09-08T13:03:58.308Z"
   },
   {
    "duration": 4,
    "start_time": "2024-09-08T13:03:59.133Z"
   },
   {
    "duration": 14,
    "start_time": "2024-09-08T13:04:06.576Z"
   },
   {
    "duration": 5,
    "start_time": "2024-09-08T13:04:07.470Z"
   },
   {
    "duration": 4,
    "start_time": "2024-09-08T13:04:12.387Z"
   },
   {
    "duration": 11,
    "start_time": "2024-09-08T13:04:14.411Z"
   },
   {
    "duration": 21,
    "start_time": "2024-09-08T13:04:15.652Z"
   },
   {
    "duration": 6,
    "start_time": "2024-09-08T13:04:16.289Z"
   },
   {
    "duration": 6,
    "start_time": "2024-09-08T13:04:19.660Z"
   },
   {
    "duration": 21,
    "start_time": "2024-09-08T13:04:21.803Z"
   },
   {
    "duration": 16,
    "start_time": "2024-09-08T13:04:24.181Z"
   },
   {
    "duration": 5,
    "start_time": "2024-09-08T13:04:24.784Z"
   },
   {
    "duration": 9,
    "start_time": "2024-09-08T13:04:28.423Z"
   },
   {
    "duration": 14,
    "start_time": "2024-09-08T13:04:30.403Z"
   },
   {
    "duration": 20,
    "start_time": "2024-09-08T13:04:32.891Z"
   },
   {
    "duration": 7,
    "start_time": "2024-09-08T13:04:34.319Z"
   },
   {
    "duration": 6,
    "start_time": "2024-09-08T13:04:38.346Z"
   },
   {
    "duration": 18,
    "start_time": "2024-09-08T13:04:40.330Z"
   },
   {
    "duration": 12,
    "start_time": "2024-09-08T13:04:43.250Z"
   },
   {
    "duration": 11,
    "start_time": "2024-09-08T13:04:45.588Z"
   },
   {
    "duration": 14,
    "start_time": "2024-09-08T13:04:47.708Z"
   },
   {
    "duration": 101,
    "start_time": "2024-09-08T13:04:51.638Z"
   },
   {
    "duration": 5,
    "start_time": "2024-09-08T13:05:14.726Z"
   },
   {
    "duration": 14,
    "start_time": "2024-09-08T13:05:49.683Z"
   },
   {
    "duration": 11,
    "start_time": "2024-09-08T13:10:08.047Z"
   },
   {
    "duration": 4,
    "start_time": "2024-09-08T13:12:11.058Z"
   },
   {
    "duration": 2027,
    "start_time": "2024-09-08T13:12:25.934Z"
   },
   {
    "duration": 440,
    "start_time": "2024-09-08T13:14:28.307Z"
   },
   {
    "duration": 4,
    "start_time": "2024-09-08T13:18:48.587Z"
   },
   {
    "duration": 15,
    "start_time": "2024-09-08T13:19:01.920Z"
   },
   {
    "duration": 374,
    "start_time": "2024-09-08T13:19:26.979Z"
   },
   {
    "duration": 16,
    "start_time": "2024-09-08T13:22:50.754Z"
   },
   {
    "duration": 834,
    "start_time": "2024-09-08T13:24:50.604Z"
   },
   {
    "duration": 9,
    "start_time": "2024-09-08T13:24:51.441Z"
   },
   {
    "duration": 5,
    "start_time": "2024-09-08T13:24:51.451Z"
   },
   {
    "duration": 48,
    "start_time": "2024-09-08T13:24:51.458Z"
   },
   {
    "duration": 89,
    "start_time": "2024-09-08T13:24:51.508Z"
   },
   {
    "duration": 107,
    "start_time": "2024-09-08T13:24:51.598Z"
   },
   {
    "duration": 16,
    "start_time": "2024-09-08T13:24:51.707Z"
   },
   {
    "duration": 5,
    "start_time": "2024-09-08T13:24:51.724Z"
   },
   {
    "duration": 14,
    "start_time": "2024-09-08T13:24:51.731Z"
   },
   {
    "duration": 5,
    "start_time": "2024-09-08T13:24:51.748Z"
   },
   {
    "duration": 33,
    "start_time": "2024-09-08T13:24:51.755Z"
   },
   {
    "duration": 10,
    "start_time": "2024-09-08T13:24:51.789Z"
   },
   {
    "duration": 19,
    "start_time": "2024-09-08T13:24:51.801Z"
   },
   {
    "duration": 6,
    "start_time": "2024-09-08T13:24:51.822Z"
   },
   {
    "duration": 6,
    "start_time": "2024-09-08T13:24:51.829Z"
   },
   {
    "duration": 53,
    "start_time": "2024-09-08T13:24:51.836Z"
   },
   {
    "duration": 16,
    "start_time": "2024-09-08T13:24:51.890Z"
   },
   {
    "duration": 5,
    "start_time": "2024-09-08T13:24:51.907Z"
   },
   {
    "duration": 8,
    "start_time": "2024-09-08T13:24:51.914Z"
   },
   {
    "duration": 12,
    "start_time": "2024-09-08T13:24:51.924Z"
   },
   {
    "duration": 52,
    "start_time": "2024-09-08T13:24:51.938Z"
   },
   {
    "duration": 6,
    "start_time": "2024-09-08T13:24:51.993Z"
   },
   {
    "duration": 5,
    "start_time": "2024-09-08T13:24:52.000Z"
   },
   {
    "duration": 17,
    "start_time": "2024-09-08T13:24:52.007Z"
   },
   {
    "duration": 11,
    "start_time": "2024-09-08T13:24:52.025Z"
   },
   {
    "duration": 10,
    "start_time": "2024-09-08T13:24:52.037Z"
   },
   {
    "duration": 46,
    "start_time": "2024-09-08T13:24:52.049Z"
   },
   {
    "duration": 14,
    "start_time": "2024-09-08T13:24:52.099Z"
   },
   {
    "duration": 12,
    "start_time": "2024-09-08T13:24:52.114Z"
   },
   {
    "duration": 11,
    "start_time": "2024-09-08T13:24:52.128Z"
   },
   {
    "duration": 15,
    "start_time": "2024-09-08T13:24:52.140Z"
   },
   {
    "duration": 363,
    "start_time": "2024-09-08T13:24:52.187Z"
   },
   {
    "duration": 157,
    "start_time": "2024-09-08T13:25:26.898Z"
   },
   {
    "duration": 12,
    "start_time": "2024-09-08T13:26:21.330Z"
   },
   {
    "duration": 793,
    "start_time": "2024-09-08T13:26:34.877Z"
   },
   {
    "duration": 8,
    "start_time": "2024-09-08T13:26:35.672Z"
   },
   {
    "duration": 7,
    "start_time": "2024-09-08T13:26:35.681Z"
   },
   {
    "duration": 47,
    "start_time": "2024-09-08T13:26:35.690Z"
   },
   {
    "duration": 85,
    "start_time": "2024-09-08T13:26:35.739Z"
   },
   {
    "duration": 102,
    "start_time": "2024-09-08T13:26:35.825Z"
   },
   {
    "duration": 16,
    "start_time": "2024-09-08T13:26:35.928Z"
   },
   {
    "duration": 4,
    "start_time": "2024-09-08T13:26:35.946Z"
   },
   {
    "duration": 14,
    "start_time": "2024-09-08T13:26:35.952Z"
   },
   {
    "duration": 4,
    "start_time": "2024-09-08T13:26:35.987Z"
   },
   {
    "duration": 4,
    "start_time": "2024-09-08T13:26:35.992Z"
   },
   {
    "duration": 9,
    "start_time": "2024-09-08T13:26:35.997Z"
   },
   {
    "duration": 21,
    "start_time": "2024-09-08T13:26:36.008Z"
   },
   {
    "duration": 7,
    "start_time": "2024-09-08T13:26:36.030Z"
   },
   {
    "duration": 4,
    "start_time": "2024-09-08T13:26:36.039Z"
   },
   {
    "duration": 58,
    "start_time": "2024-09-08T13:26:36.044Z"
   },
   {
    "duration": 16,
    "start_time": "2024-09-08T13:26:36.104Z"
   },
   {
    "duration": 5,
    "start_time": "2024-09-08T13:26:36.122Z"
   },
   {
    "duration": 9,
    "start_time": "2024-09-08T13:26:36.128Z"
   },
   {
    "duration": 13,
    "start_time": "2024-09-08T13:26:36.138Z"
   },
   {
    "duration": 49,
    "start_time": "2024-09-08T13:26:36.152Z"
   },
   {
    "duration": 6,
    "start_time": "2024-09-08T13:26:36.203Z"
   },
   {
    "duration": 6,
    "start_time": "2024-09-08T13:26:36.211Z"
   },
   {
    "duration": 18,
    "start_time": "2024-09-08T13:26:36.218Z"
   },
   {
    "duration": 11,
    "start_time": "2024-09-08T13:26:36.238Z"
   },
   {
    "duration": 39,
    "start_time": "2024-09-08T13:26:36.250Z"
   },
   {
    "duration": 15,
    "start_time": "2024-09-08T13:26:36.290Z"
   },
   {
    "duration": 14,
    "start_time": "2024-09-08T13:26:36.308Z"
   },
   {
    "duration": 13,
    "start_time": "2024-09-08T13:26:36.324Z"
   },
   {
    "duration": 10,
    "start_time": "2024-09-08T13:26:36.338Z"
   },
   {
    "duration": 48,
    "start_time": "2024-09-08T13:26:36.350Z"
   },
   {
    "duration": 375,
    "start_time": "2024-09-08T13:26:36.399Z"
   },
   {
    "duration": 156,
    "start_time": "2024-09-08T13:27:07.294Z"
   },
   {
    "duration": 11,
    "start_time": "2024-09-08T13:28:00.207Z"
   },
   {
    "duration": 12,
    "start_time": "2024-09-08T13:29:55.684Z"
   },
   {
    "duration": 11,
    "start_time": "2024-09-08T13:30:38.067Z"
   },
   {
    "duration": 12,
    "start_time": "2024-09-08T13:30:59.921Z"
   },
   {
    "duration": 12,
    "start_time": "2024-09-08T13:31:19.697Z"
   },
   {
    "duration": 2,
    "start_time": "2024-09-08T13:33:14.641Z"
   },
   {
    "duration": 2,
    "start_time": "2024-09-08T13:34:37.127Z"
   },
   {
    "duration": 823,
    "start_time": "2024-09-08T13:35:02.635Z"
   },
   {
    "duration": 8,
    "start_time": "2024-09-08T13:35:03.460Z"
   },
   {
    "duration": 6,
    "start_time": "2024-09-08T13:35:03.469Z"
   },
   {
    "duration": 57,
    "start_time": "2024-09-08T13:35:03.477Z"
   },
   {
    "duration": 86,
    "start_time": "2024-09-08T13:35:03.536Z"
   },
   {
    "duration": 105,
    "start_time": "2024-09-08T13:35:03.623Z"
   },
   {
    "duration": 16,
    "start_time": "2024-09-08T13:35:03.729Z"
   },
   {
    "duration": 4,
    "start_time": "2024-09-08T13:35:03.747Z"
   },
   {
    "duration": 13,
    "start_time": "2024-09-08T13:35:03.753Z"
   },
   {
    "duration": 21,
    "start_time": "2024-09-08T13:35:03.769Z"
   },
   {
    "duration": 3,
    "start_time": "2024-09-08T13:35:03.791Z"
   },
   {
    "duration": 10,
    "start_time": "2024-09-08T13:35:03.796Z"
   },
   {
    "duration": 20,
    "start_time": "2024-09-08T13:35:03.808Z"
   },
   {
    "duration": 6,
    "start_time": "2024-09-08T13:35:03.831Z"
   },
   {
    "duration": 5,
    "start_time": "2024-09-08T13:35:03.838Z"
   },
   {
    "duration": 58,
    "start_time": "2024-09-08T13:35:03.844Z"
   },
   {
    "duration": 16,
    "start_time": "2024-09-08T13:35:03.903Z"
   },
   {
    "duration": 6,
    "start_time": "2024-09-08T13:35:03.921Z"
   },
   {
    "duration": 8,
    "start_time": "2024-09-08T13:35:03.930Z"
   },
   {
    "duration": 12,
    "start_time": "2024-09-08T13:35:03.940Z"
   },
   {
    "duration": 48,
    "start_time": "2024-09-08T13:35:03.954Z"
   },
   {
    "duration": 6,
    "start_time": "2024-09-08T13:35:04.004Z"
   },
   {
    "duration": 5,
    "start_time": "2024-09-08T13:35:04.011Z"
   },
   {
    "duration": 17,
    "start_time": "2024-09-08T13:35:04.018Z"
   },
   {
    "duration": 11,
    "start_time": "2024-09-08T13:35:04.036Z"
   },
   {
    "duration": 42,
    "start_time": "2024-09-08T13:35:04.049Z"
   },
   {
    "duration": 13,
    "start_time": "2024-09-08T13:35:04.093Z"
   },
   {
    "duration": 13,
    "start_time": "2024-09-08T13:35:04.111Z"
   },
   {
    "duration": 11,
    "start_time": "2024-09-08T13:35:04.126Z"
   },
   {
    "duration": 10,
    "start_time": "2024-09-08T13:35:04.138Z"
   },
   {
    "duration": 44,
    "start_time": "2024-09-08T13:35:04.150Z"
   },
   {
    "duration": 370,
    "start_time": "2024-09-08T13:35:04.195Z"
   },
   {
    "duration": 2,
    "start_time": "2024-09-08T13:35:04.567Z"
   },
   {
    "duration": 2,
    "start_time": "2024-09-08T13:35:04.571Z"
   },
   {
    "duration": 14,
    "start_time": "2024-09-08T13:35:04.574Z"
   },
   {
    "duration": 3,
    "start_time": "2024-09-08T13:35:04.589Z"
   },
   {
    "duration": 2,
    "start_time": "2024-09-08T13:35:04.593Z"
   },
   {
    "duration": 3,
    "start_time": "2024-09-08T13:35:04.597Z"
   },
   {
    "duration": 2,
    "start_time": "2024-09-08T13:35:04.602Z"
   },
   {
    "duration": 3,
    "start_time": "2024-09-08T13:35:04.605Z"
   },
   {
    "duration": 2,
    "start_time": "2024-09-08T13:35:04.609Z"
   },
   {
    "duration": 3,
    "start_time": "2024-09-08T13:35:04.613Z"
   },
   {
    "duration": 3,
    "start_time": "2024-09-08T13:35:04.617Z"
   },
   {
    "duration": 810,
    "start_time": "2024-09-08T13:39:46.058Z"
   },
   {
    "duration": 8,
    "start_time": "2024-09-08T13:39:46.870Z"
   },
   {
    "duration": 10,
    "start_time": "2024-09-08T13:39:46.880Z"
   },
   {
    "duration": 50,
    "start_time": "2024-09-08T13:39:46.892Z"
   },
   {
    "duration": 89,
    "start_time": "2024-09-08T13:39:46.944Z"
   },
   {
    "duration": 108,
    "start_time": "2024-09-08T13:39:47.034Z"
   },
   {
    "duration": 19,
    "start_time": "2024-09-08T13:39:47.144Z"
   },
   {
    "duration": 5,
    "start_time": "2024-09-08T13:39:47.164Z"
   },
   {
    "duration": 23,
    "start_time": "2024-09-08T13:39:47.171Z"
   },
   {
    "duration": 4,
    "start_time": "2024-09-08T13:39:47.197Z"
   },
   {
    "duration": 3,
    "start_time": "2024-09-08T13:39:47.203Z"
   },
   {
    "duration": 10,
    "start_time": "2024-09-08T13:39:47.208Z"
   },
   {
    "duration": 20,
    "start_time": "2024-09-08T13:39:47.220Z"
   },
   {
    "duration": 6,
    "start_time": "2024-09-08T13:39:47.242Z"
   },
   {
    "duration": 4,
    "start_time": "2024-09-08T13:39:47.287Z"
   },
   {
    "duration": 22,
    "start_time": "2024-09-08T13:39:47.293Z"
   },
   {
    "duration": 15,
    "start_time": "2024-09-08T13:39:47.317Z"
   },
   {
    "duration": 5,
    "start_time": "2024-09-08T13:39:47.334Z"
   },
   {
    "duration": 9,
    "start_time": "2024-09-08T13:39:47.340Z"
   },
   {
    "duration": 46,
    "start_time": "2024-09-08T13:39:47.351Z"
   },
   {
    "duration": 18,
    "start_time": "2024-09-08T13:39:47.399Z"
   },
   {
    "duration": 6,
    "start_time": "2024-09-08T13:39:47.419Z"
   },
   {
    "duration": 5,
    "start_time": "2024-09-08T13:39:47.426Z"
   },
   {
    "duration": 17,
    "start_time": "2024-09-08T13:39:47.432Z"
   },
   {
    "duration": 42,
    "start_time": "2024-09-08T13:39:47.451Z"
   },
   {
    "duration": 10,
    "start_time": "2024-09-08T13:39:47.494Z"
   },
   {
    "duration": 14,
    "start_time": "2024-09-08T13:39:47.506Z"
   },
   {
    "duration": 14,
    "start_time": "2024-09-08T13:39:47.523Z"
   },
   {
    "duration": 13,
    "start_time": "2024-09-08T13:39:47.538Z"
   },
   {
    "duration": 42,
    "start_time": "2024-09-08T13:39:47.552Z"
   },
   {
    "duration": 15,
    "start_time": "2024-09-08T13:39:47.596Z"
   },
   {
    "duration": 384,
    "start_time": "2024-09-08T13:39:47.613Z"
   },
   {
    "duration": 2,
    "start_time": "2024-09-08T13:39:48.000Z"
   },
   {
    "duration": 2,
    "start_time": "2024-09-08T13:39:48.004Z"
   },
   {
    "duration": 3,
    "start_time": "2024-09-08T13:39:48.007Z"
   },
   {
    "duration": 2,
    "start_time": "2024-09-08T13:39:48.012Z"
   },
   {
    "duration": 2,
    "start_time": "2024-09-08T13:39:48.016Z"
   },
   {
    "duration": 3,
    "start_time": "2024-09-08T13:39:48.020Z"
   },
   {
    "duration": 3,
    "start_time": "2024-09-08T13:39:48.024Z"
   },
   {
    "duration": 3,
    "start_time": "2024-09-08T13:39:48.028Z"
   },
   {
    "duration": 3,
    "start_time": "2024-09-08T13:39:48.032Z"
   },
   {
    "duration": 3,
    "start_time": "2024-09-08T13:39:48.036Z"
   },
   {
    "duration": 47,
    "start_time": "2024-09-08T13:39:48.040Z"
   },
   {
    "duration": 8,
    "start_time": "2024-09-08T15:54:13.667Z"
   },
   {
    "duration": 4,
    "start_time": "2024-09-08T15:54:22.418Z"
   },
   {
    "duration": 4,
    "start_time": "2024-09-08T15:54:32.067Z"
   },
   {
    "duration": 4,
    "start_time": "2024-09-08T15:54:38.307Z"
   },
   {
    "duration": 169,
    "start_time": "2024-09-08T16:05:47.998Z"
   },
   {
    "duration": 2515,
    "start_time": "2024-09-08T16:06:05.731Z"
   },
   {
    "duration": 12,
    "start_time": "2024-09-08T16:06:08.248Z"
   },
   {
    "duration": 8,
    "start_time": "2024-09-08T16:06:08.262Z"
   },
   {
    "duration": 63,
    "start_time": "2024-09-08T16:06:08.272Z"
   },
   {
    "duration": 91,
    "start_time": "2024-09-08T16:06:08.337Z"
   },
   {
    "duration": 107,
    "start_time": "2024-09-08T16:06:08.430Z"
   },
   {
    "duration": 16,
    "start_time": "2024-09-08T16:06:08.539Z"
   },
   {
    "duration": 5,
    "start_time": "2024-09-08T16:06:08.557Z"
   },
   {
    "duration": 13,
    "start_time": "2024-09-08T16:06:08.564Z"
   },
   {
    "duration": 5,
    "start_time": "2024-09-08T16:06:08.580Z"
   },
   {
    "duration": 3,
    "start_time": "2024-09-08T16:06:08.586Z"
   },
   {
    "duration": 9,
    "start_time": "2024-09-08T16:06:08.591Z"
   },
   {
    "duration": 21,
    "start_time": "2024-09-08T16:06:08.642Z"
   },
   {
    "duration": 6,
    "start_time": "2024-09-08T16:06:08.665Z"
   },
   {
    "duration": 5,
    "start_time": "2024-09-08T16:06:08.672Z"
   },
   {
    "duration": 21,
    "start_time": "2024-09-08T16:06:08.679Z"
   },
   {
    "duration": 45,
    "start_time": "2024-09-08T16:06:08.702Z"
   },
   {
    "duration": 5,
    "start_time": "2024-09-08T16:06:08.749Z"
   },
   {
    "duration": 9,
    "start_time": "2024-09-08T16:06:08.756Z"
   },
   {
    "duration": 13,
    "start_time": "2024-09-08T16:06:08.767Z"
   },
   {
    "duration": 20,
    "start_time": "2024-09-08T16:06:08.781Z"
   },
   {
    "duration": 6,
    "start_time": "2024-09-08T16:06:08.802Z"
   },
   {
    "duration": 6,
    "start_time": "2024-09-08T16:06:08.843Z"
   },
   {
    "duration": 22,
    "start_time": "2024-09-08T16:06:08.851Z"
   },
   {
    "duration": 12,
    "start_time": "2024-09-08T16:06:08.875Z"
   },
   {
    "duration": 9,
    "start_time": "2024-09-08T16:06:08.889Z"
   },
   {
    "duration": 47,
    "start_time": "2024-09-08T16:06:08.899Z"
   },
   {
    "duration": 14,
    "start_time": "2024-09-08T16:06:08.950Z"
   },
   {
    "duration": 11,
    "start_time": "2024-09-08T16:06:08.966Z"
   },
   {
    "duration": 10,
    "start_time": "2024-09-08T16:06:08.979Z"
   },
   {
    "duration": 16,
    "start_time": "2024-09-08T16:06:08.991Z"
   },
   {
    "duration": 402,
    "start_time": "2024-09-08T16:06:09.009Z"
   },
   {
    "duration": 150,
    "start_time": "2024-09-08T16:06:09.413Z"
   },
   {
    "duration": 0,
    "start_time": "2024-09-08T16:06:09.565Z"
   },
   {
    "duration": 0,
    "start_time": "2024-09-08T16:06:09.565Z"
   },
   {
    "duration": 0,
    "start_time": "2024-09-08T16:06:09.566Z"
   },
   {
    "duration": 0,
    "start_time": "2024-09-08T16:06:09.567Z"
   },
   {
    "duration": 0,
    "start_time": "2024-09-08T16:06:09.569Z"
   },
   {
    "duration": 0,
    "start_time": "2024-09-08T16:06:09.570Z"
   },
   {
    "duration": 0,
    "start_time": "2024-09-08T16:06:09.571Z"
   },
   {
    "duration": 0,
    "start_time": "2024-09-08T16:06:09.572Z"
   },
   {
    "duration": 0,
    "start_time": "2024-09-08T16:06:09.573Z"
   },
   {
    "duration": 0,
    "start_time": "2024-09-08T16:06:09.574Z"
   },
   {
    "duration": 22,
    "start_time": "2024-09-08T16:07:04.406Z"
   },
   {
    "duration": 482,
    "start_time": "2024-09-08T16:09:03.055Z"
   },
   {
    "duration": 824,
    "start_time": "2024-09-08T16:09:24.897Z"
   },
   {
    "duration": 7,
    "start_time": "2024-09-08T16:09:25.723Z"
   },
   {
    "duration": 11,
    "start_time": "2024-09-08T16:09:25.732Z"
   },
   {
    "duration": 34,
    "start_time": "2024-09-08T16:09:25.745Z"
   },
   {
    "duration": 66,
    "start_time": "2024-09-08T16:09:25.781Z"
   },
   {
    "duration": 67,
    "start_time": "2024-09-08T16:09:25.849Z"
   },
   {
    "duration": 25,
    "start_time": "2024-09-08T16:09:25.918Z"
   },
   {
    "duration": 5,
    "start_time": "2024-09-08T16:09:25.944Z"
   },
   {
    "duration": 14,
    "start_time": "2024-09-08T16:09:25.951Z"
   },
   {
    "duration": 4,
    "start_time": "2024-09-08T16:09:25.968Z"
   },
   {
    "duration": 3,
    "start_time": "2024-09-08T16:09:25.974Z"
   },
   {
    "duration": 9,
    "start_time": "2024-09-08T16:09:25.979Z"
   },
   {
    "duration": 58,
    "start_time": "2024-09-08T16:09:25.990Z"
   },
   {
    "duration": 6,
    "start_time": "2024-09-08T16:09:26.050Z"
   },
   {
    "duration": 5,
    "start_time": "2024-09-08T16:09:26.058Z"
   },
   {
    "duration": 22,
    "start_time": "2024-09-08T16:09:26.066Z"
   },
   {
    "duration": 17,
    "start_time": "2024-09-08T16:09:26.090Z"
   },
   {
    "duration": 37,
    "start_time": "2024-09-08T16:09:26.108Z"
   },
   {
    "duration": 9,
    "start_time": "2024-09-08T16:09:26.147Z"
   },
   {
    "duration": 14,
    "start_time": "2024-09-08T16:09:26.158Z"
   },
   {
    "duration": 19,
    "start_time": "2024-09-08T16:09:26.173Z"
   },
   {
    "duration": 7,
    "start_time": "2024-09-08T16:09:26.194Z"
   },
   {
    "duration": 42,
    "start_time": "2024-09-08T16:09:26.202Z"
   },
   {
    "duration": 17,
    "start_time": "2024-09-08T16:09:26.246Z"
   },
   {
    "duration": 12,
    "start_time": "2024-09-08T16:09:26.264Z"
   },
   {
    "duration": 9,
    "start_time": "2024-09-08T16:09:26.278Z"
   },
   {
    "duration": 15,
    "start_time": "2024-09-08T16:09:26.288Z"
   },
   {
    "duration": 43,
    "start_time": "2024-09-08T16:09:26.307Z"
   },
   {
    "duration": 13,
    "start_time": "2024-09-08T16:09:26.352Z"
   },
   {
    "duration": 10,
    "start_time": "2024-09-08T16:09:26.367Z"
   },
   {
    "duration": 15,
    "start_time": "2024-09-08T16:09:26.379Z"
   },
   {
    "duration": 397,
    "start_time": "2024-09-08T16:09:26.396Z"
   },
   {
    "duration": 670,
    "start_time": "2024-09-08T16:09:26.796Z"
   },
   {
    "duration": 0,
    "start_time": "2024-09-08T16:09:27.468Z"
   },
   {
    "duration": 0,
    "start_time": "2024-09-08T16:09:27.469Z"
   },
   {
    "duration": 0,
    "start_time": "2024-09-08T16:09:27.470Z"
   },
   {
    "duration": 0,
    "start_time": "2024-09-08T16:09:27.472Z"
   },
   {
    "duration": 0,
    "start_time": "2024-09-08T16:09:27.474Z"
   },
   {
    "duration": 0,
    "start_time": "2024-09-08T16:09:27.475Z"
   },
   {
    "duration": 0,
    "start_time": "2024-09-08T16:09:27.476Z"
   },
   {
    "duration": 0,
    "start_time": "2024-09-08T16:09:27.477Z"
   },
   {
    "duration": 0,
    "start_time": "2024-09-08T16:09:27.479Z"
   },
   {
    "duration": 0,
    "start_time": "2024-09-08T16:09:27.479Z"
   },
   {
    "duration": 24,
    "start_time": "2024-09-08T16:10:01.851Z"
   },
   {
    "duration": 3,
    "start_time": "2024-09-08T16:10:20.677Z"
   },
   {
    "duration": 4,
    "start_time": "2024-09-08T16:14:19.115Z"
   },
   {
    "duration": 4,
    "start_time": "2024-09-08T16:14:45.683Z"
   },
   {
    "duration": 5,
    "start_time": "2024-09-08T16:15:50.502Z"
   },
   {
    "duration": 2,
    "start_time": "2024-09-08T16:16:01.091Z"
   },
   {
    "duration": 3,
    "start_time": "2024-09-08T16:16:06.464Z"
   },
   {
    "duration": 3,
    "start_time": "2024-09-08T16:18:03.720Z"
   },
   {
    "duration": 2,
    "start_time": "2024-09-08T16:18:07.986Z"
   },
   {
    "duration": 3,
    "start_time": "2024-09-08T16:18:21.310Z"
   },
   {
    "duration": 3,
    "start_time": "2024-09-08T16:18:49.809Z"
   },
   {
    "duration": 17,
    "start_time": "2024-09-08T16:20:43.054Z"
   },
   {
    "duration": 13,
    "start_time": "2024-09-08T16:21:22.418Z"
   },
   {
    "duration": 14,
    "start_time": "2024-09-08T16:21:53.555Z"
   },
   {
    "duration": 15,
    "start_time": "2024-09-08T16:22:03.216Z"
   },
   {
    "duration": 802,
    "start_time": "2024-09-08T16:22:18.741Z"
   },
   {
    "duration": 8,
    "start_time": "2024-09-08T16:22:19.545Z"
   },
   {
    "duration": 5,
    "start_time": "2024-09-08T16:22:19.555Z"
   },
   {
    "duration": 34,
    "start_time": "2024-09-08T16:22:19.562Z"
   },
   {
    "duration": 66,
    "start_time": "2024-09-08T16:22:19.597Z"
   },
   {
    "duration": 67,
    "start_time": "2024-09-08T16:22:19.664Z"
   },
   {
    "duration": 21,
    "start_time": "2024-09-08T16:22:19.733Z"
   },
   {
    "duration": 5,
    "start_time": "2024-09-08T16:22:19.755Z"
   },
   {
    "duration": 13,
    "start_time": "2024-09-08T16:22:19.762Z"
   },
   {
    "duration": 4,
    "start_time": "2024-09-08T16:22:19.778Z"
   },
   {
    "duration": 3,
    "start_time": "2024-09-08T16:22:19.784Z"
   },
   {
    "duration": 10,
    "start_time": "2024-09-08T16:22:19.789Z"
   },
   {
    "duration": 62,
    "start_time": "2024-09-08T16:22:19.801Z"
   },
   {
    "duration": 6,
    "start_time": "2024-09-08T16:22:19.864Z"
   },
   {
    "duration": 5,
    "start_time": "2024-09-08T16:22:19.872Z"
   },
   {
    "duration": 22,
    "start_time": "2024-09-08T16:22:19.878Z"
   },
   {
    "duration": 45,
    "start_time": "2024-09-08T16:22:19.901Z"
   },
   {
    "duration": 6,
    "start_time": "2024-09-08T16:22:19.947Z"
   },
   {
    "duration": 9,
    "start_time": "2024-09-08T16:22:19.955Z"
   },
   {
    "duration": 13,
    "start_time": "2024-09-08T16:22:19.965Z"
   },
   {
    "duration": 19,
    "start_time": "2024-09-08T16:22:19.980Z"
   },
   {
    "duration": 6,
    "start_time": "2024-09-08T16:22:20.000Z"
   },
   {
    "duration": 6,
    "start_time": "2024-09-08T16:22:20.042Z"
   },
   {
    "duration": 18,
    "start_time": "2024-09-08T16:22:20.049Z"
   },
   {
    "duration": 11,
    "start_time": "2024-09-08T16:22:20.069Z"
   },
   {
    "duration": 10,
    "start_time": "2024-09-08T16:22:20.082Z"
   },
   {
    "duration": 14,
    "start_time": "2024-09-08T16:22:20.093Z"
   },
   {
    "duration": 14,
    "start_time": "2024-09-08T16:22:20.143Z"
   },
   {
    "duration": 12,
    "start_time": "2024-09-08T16:22:20.159Z"
   },
   {
    "duration": 11,
    "start_time": "2024-09-08T16:22:20.173Z"
   },
   {
    "duration": 16,
    "start_time": "2024-09-08T16:22:20.185Z"
   },
   {
    "duration": 410,
    "start_time": "2024-09-08T16:22:20.202Z"
   },
   {
    "duration": 20,
    "start_time": "2024-09-08T16:22:20.614Z"
   },
   {
    "duration": 285,
    "start_time": "2024-09-08T16:22:20.644Z"
   },
   {
    "duration": 0,
    "start_time": "2024-09-08T16:22:20.931Z"
   },
   {
    "duration": 0,
    "start_time": "2024-09-08T16:22:20.933Z"
   },
   {
    "duration": 0,
    "start_time": "2024-09-08T16:22:20.934Z"
   },
   {
    "duration": 0,
    "start_time": "2024-09-08T16:22:20.943Z"
   },
   {
    "duration": 0,
    "start_time": "2024-09-08T16:22:20.944Z"
   },
   {
    "duration": 0,
    "start_time": "2024-09-08T16:22:20.945Z"
   },
   {
    "duration": 0,
    "start_time": "2024-09-08T16:22:20.946Z"
   },
   {
    "duration": 0,
    "start_time": "2024-09-08T16:22:20.947Z"
   },
   {
    "duration": 0,
    "start_time": "2024-09-08T16:22:20.948Z"
   },
   {
    "duration": 14,
    "start_time": "2024-09-08T16:23:03.659Z"
   },
   {
    "duration": 16,
    "start_time": "2024-09-08T16:23:56.845Z"
   },
   {
    "duration": 384,
    "start_time": "2024-09-08T16:25:04.734Z"
   },
   {
    "duration": 25,
    "start_time": "2024-09-08T16:25:05.648Z"
   },
   {
    "duration": 14,
    "start_time": "2024-09-08T16:30:32.578Z"
   },
   {
    "duration": 14,
    "start_time": "2024-09-08T16:30:53.166Z"
   },
   {
    "duration": 7,
    "start_time": "2024-09-08T16:31:01.156Z"
   },
   {
    "duration": 5,
    "start_time": "2024-09-08T16:31:51.987Z"
   },
   {
    "duration": 6,
    "start_time": "2024-09-08T16:39:45.756Z"
   },
   {
    "duration": 3,
    "start_time": "2024-09-08T16:42:11.249Z"
   },
   {
    "duration": 6,
    "start_time": "2024-09-08T16:42:41.469Z"
   },
   {
    "duration": 43,
    "start_time": "2024-09-08T16:52:16.255Z"
   },
   {
    "duration": 25,
    "start_time": "2024-09-08T16:52:32.672Z"
   },
   {
    "duration": 156,
    "start_time": "2024-09-08T21:02:38.940Z"
   },
   {
    "duration": 11,
    "start_time": "2024-09-08T21:02:47.314Z"
   },
   {
    "duration": 12,
    "start_time": "2024-09-08T21:02:58.072Z"
   },
   {
    "duration": 2612,
    "start_time": "2024-09-08T21:03:04.700Z"
   },
   {
    "duration": 9,
    "start_time": "2024-09-08T21:03:08.391Z"
   },
   {
    "duration": 6,
    "start_time": "2024-09-08T21:03:12.649Z"
   },
   {
    "duration": 48,
    "start_time": "2024-09-08T21:03:16.204Z"
   },
   {
    "duration": 42,
    "start_time": "2024-09-08T21:03:19.939Z"
   },
   {
    "duration": 97,
    "start_time": "2024-09-08T21:03:23.312Z"
   },
   {
    "duration": 112,
    "start_time": "2024-09-08T21:03:34.509Z"
   },
   {
    "duration": 90,
    "start_time": "2024-09-08T21:09:00.132Z"
   },
   {
    "duration": 787,
    "start_time": "2024-09-08T21:09:15.371Z"
   },
   {
    "duration": 11,
    "start_time": "2024-09-08T21:09:16.160Z"
   },
   {
    "duration": 6,
    "start_time": "2024-09-08T21:09:16.172Z"
   },
   {
    "duration": 31,
    "start_time": "2024-09-08T21:09:16.180Z"
   },
   {
    "duration": 65,
    "start_time": "2024-09-08T21:09:16.213Z"
   },
   {
    "duration": 76,
    "start_time": "2024-09-08T21:09:16.280Z"
   },
   {
    "duration": 25,
    "start_time": "2024-09-08T21:09:16.358Z"
   },
   {
    "duration": 5,
    "start_time": "2024-09-08T21:09:16.385Z"
   },
   {
    "duration": 16,
    "start_time": "2024-09-08T21:09:16.391Z"
   },
   {
    "duration": 4,
    "start_time": "2024-09-08T21:09:16.410Z"
   },
   {
    "duration": 3,
    "start_time": "2024-09-08T21:09:16.416Z"
   },
   {
    "duration": 9,
    "start_time": "2024-09-08T21:09:16.421Z"
   },
   {
    "duration": 20,
    "start_time": "2024-09-08T21:09:16.471Z"
   },
   {
    "duration": 6,
    "start_time": "2024-09-08T21:09:16.493Z"
   },
   {
    "duration": 6,
    "start_time": "2024-09-08T21:09:16.501Z"
   },
   {
    "duration": 21,
    "start_time": "2024-09-08T21:09:16.508Z"
   },
   {
    "duration": 49,
    "start_time": "2024-09-08T21:09:16.533Z"
   },
   {
    "duration": 5,
    "start_time": "2024-09-08T21:09:16.584Z"
   },
   {
    "duration": 9,
    "start_time": "2024-09-08T21:09:16.591Z"
   },
   {
    "duration": 13,
    "start_time": "2024-09-08T21:09:16.601Z"
   },
   {
    "duration": 18,
    "start_time": "2024-09-08T21:09:16.616Z"
   },
   {
    "duration": 38,
    "start_time": "2024-09-08T21:09:16.636Z"
   },
   {
    "duration": 5,
    "start_time": "2024-09-08T21:09:16.676Z"
   },
   {
    "duration": 19,
    "start_time": "2024-09-08T21:09:16.683Z"
   },
   {
    "duration": 11,
    "start_time": "2024-09-08T21:09:16.703Z"
   },
   {
    "duration": 9,
    "start_time": "2024-09-08T21:09:16.716Z"
   },
   {
    "duration": 43,
    "start_time": "2024-09-08T21:09:16.727Z"
   },
   {
    "duration": 16,
    "start_time": "2024-09-08T21:09:16.775Z"
   },
   {
    "duration": 12,
    "start_time": "2024-09-08T21:09:16.793Z"
   },
   {
    "duration": 12,
    "start_time": "2024-09-08T21:09:16.806Z"
   },
   {
    "duration": 15,
    "start_time": "2024-09-08T21:09:16.820Z"
   },
   {
    "duration": 62,
    "start_time": "2024-09-08T21:09:16.836Z"
   },
   {
    "duration": 23,
    "start_time": "2024-09-08T21:09:16.900Z"
   },
   {
    "duration": 313,
    "start_time": "2024-09-08T21:09:16.925Z"
   },
   {
    "duration": 0,
    "start_time": "2024-09-08T21:09:17.239Z"
   },
   {
    "duration": 0,
    "start_time": "2024-09-08T21:09:17.240Z"
   },
   {
    "duration": 0,
    "start_time": "2024-09-08T21:09:17.242Z"
   },
   {
    "duration": 0,
    "start_time": "2024-09-08T21:09:17.243Z"
   },
   {
    "duration": 0,
    "start_time": "2024-09-08T21:09:17.245Z"
   },
   {
    "duration": 0,
    "start_time": "2024-09-08T21:09:17.246Z"
   },
   {
    "duration": 0,
    "start_time": "2024-09-08T21:09:17.248Z"
   },
   {
    "duration": 0,
    "start_time": "2024-09-08T21:09:17.249Z"
   },
   {
    "duration": 0,
    "start_time": "2024-09-08T21:09:17.271Z"
   },
   {
    "duration": 0,
    "start_time": "2024-09-08T21:09:17.273Z"
   },
   {
    "duration": 0,
    "start_time": "2024-09-08T21:09:17.274Z"
   },
   {
    "duration": 13,
    "start_time": "2024-09-08T21:19:12.211Z"
   },
   {
    "duration": 6,
    "start_time": "2024-09-08T21:19:37.183Z"
   },
   {
    "duration": 16,
    "start_time": "2024-09-08T21:25:34.433Z"
   },
   {
    "duration": 4,
    "start_time": "2024-09-08T21:32:00.020Z"
   },
   {
    "duration": 14,
    "start_time": "2024-09-08T21:32:44.960Z"
   },
   {
    "duration": 19,
    "start_time": "2024-09-08T21:33:42.909Z"
   },
   {
    "duration": 310,
    "start_time": "2024-09-08T21:41:40.175Z"
   },
   {
    "duration": 191,
    "start_time": "2024-09-08T21:42:24.828Z"
   },
   {
    "duration": 14,
    "start_time": "2024-09-08T21:43:22.977Z"
   },
   {
    "duration": 40,
    "start_time": "2024-09-08T21:43:27.333Z"
   },
   {
    "duration": 40,
    "start_time": "2024-09-08T21:44:29.057Z"
   },
   {
    "duration": 6,
    "start_time": "2024-09-08T21:45:23.746Z"
   },
   {
    "duration": 3,
    "start_time": "2024-09-08T21:45:34.169Z"
   },
   {
    "duration": 6,
    "start_time": "2024-09-08T21:45:46.606Z"
   },
   {
    "duration": 157,
    "start_time": "2024-09-09T14:19:34.583Z"
   },
   {
    "duration": 2520,
    "start_time": "2024-09-09T14:19:49.233Z"
   },
   {
    "duration": 12,
    "start_time": "2024-09-09T14:19:51.755Z"
   },
   {
    "duration": 7,
    "start_time": "2024-09-09T14:19:51.768Z"
   },
   {
    "duration": 73,
    "start_time": "2024-09-09T14:19:51.776Z"
   },
   {
    "duration": 102,
    "start_time": "2024-09-09T14:19:51.850Z"
   },
   {
    "duration": 108,
    "start_time": "2024-09-09T14:19:51.954Z"
   },
   {
    "duration": 17,
    "start_time": "2024-09-09T14:19:52.063Z"
   },
   {
    "duration": 5,
    "start_time": "2024-09-09T14:19:52.081Z"
   },
   {
    "duration": 13,
    "start_time": "2024-09-09T14:19:52.087Z"
   },
   {
    "duration": 4,
    "start_time": "2024-09-09T14:19:52.104Z"
   },
   {
    "duration": 17,
    "start_time": "2024-09-09T14:19:52.109Z"
   },
   {
    "duration": 10,
    "start_time": "2024-09-09T14:19:52.127Z"
   },
   {
    "duration": 20,
    "start_time": "2024-09-09T14:19:52.138Z"
   },
   {
    "duration": 5,
    "start_time": "2024-09-09T14:19:52.160Z"
   },
   {
    "duration": 6,
    "start_time": "2024-09-09T14:19:52.167Z"
   },
   {
    "duration": 64,
    "start_time": "2024-09-09T14:19:52.174Z"
   },
   {
    "duration": 22,
    "start_time": "2024-09-09T14:19:52.240Z"
   },
   {
    "duration": 6,
    "start_time": "2024-09-09T14:19:52.264Z"
   },
   {
    "duration": 8,
    "start_time": "2024-09-09T14:19:52.272Z"
   },
   {
    "duration": 14,
    "start_time": "2024-09-09T14:19:52.282Z"
   },
   {
    "duration": 40,
    "start_time": "2024-09-09T14:19:52.297Z"
   },
   {
    "duration": 6,
    "start_time": "2024-09-09T14:19:52.338Z"
   },
   {
    "duration": 6,
    "start_time": "2024-09-09T14:19:52.345Z"
   },
   {
    "duration": 17,
    "start_time": "2024-09-09T14:19:52.352Z"
   },
   {
    "duration": 11,
    "start_time": "2024-09-09T14:19:52.371Z"
   },
   {
    "duration": 41,
    "start_time": "2024-09-09T14:19:52.383Z"
   },
   {
    "duration": 14,
    "start_time": "2024-09-09T14:19:52.426Z"
   },
   {
    "duration": 13,
    "start_time": "2024-09-09T14:19:52.445Z"
   },
   {
    "duration": 13,
    "start_time": "2024-09-09T14:19:52.460Z"
   },
   {
    "duration": 10,
    "start_time": "2024-09-09T14:19:52.474Z"
   },
   {
    "duration": 49,
    "start_time": "2024-09-09T14:19:52.485Z"
   },
   {
    "duration": 26,
    "start_time": "2024-09-09T14:19:52.535Z"
   },
   {
    "duration": 20,
    "start_time": "2024-09-09T14:19:52.563Z"
   },
   {
    "duration": 243,
    "start_time": "2024-09-09T14:19:52.585Z"
   },
   {
    "duration": 0,
    "start_time": "2024-09-09T14:19:52.829Z"
   },
   {
    "duration": 0,
    "start_time": "2024-09-09T14:19:52.830Z"
   },
   {
    "duration": 0,
    "start_time": "2024-09-09T14:19:52.832Z"
   },
   {
    "duration": 1,
    "start_time": "2024-09-09T14:19:52.833Z"
   },
   {
    "duration": 0,
    "start_time": "2024-09-09T14:19:52.834Z"
   },
   {
    "duration": 0,
    "start_time": "2024-09-09T14:19:52.836Z"
   },
   {
    "duration": 1,
    "start_time": "2024-09-09T14:19:52.836Z"
   },
   {
    "duration": 0,
    "start_time": "2024-09-09T14:19:52.838Z"
   },
   {
    "duration": 0,
    "start_time": "2024-09-09T14:19:52.839Z"
   },
   {
    "duration": 0,
    "start_time": "2024-09-09T14:19:52.840Z"
   },
   {
    "duration": 0,
    "start_time": "2024-09-09T14:19:52.840Z"
   },
   {
    "duration": 0,
    "start_time": "2024-09-09T14:19:52.841Z"
   },
   {
    "duration": 17,
    "start_time": "2024-09-09T14:20:17.216Z"
   },
   {
    "duration": 3,
    "start_time": "2024-09-09T14:20:26.440Z"
   },
   {
    "duration": 21,
    "start_time": "2024-09-09T14:20:33.564Z"
   },
   {
    "duration": 186,
    "start_time": "2024-09-09T14:20:40.608Z"
   },
   {
    "duration": 76715,
    "start_time": "2024-09-09T14:22:11.441Z"
   },
   {
    "duration": 3,
    "start_time": "2024-09-09T14:23:28.158Z"
   },
   {
    "duration": 14,
    "start_time": "2024-09-09T14:23:28.162Z"
   },
   {
    "duration": 7,
    "start_time": "2024-09-09T14:24:56.924Z"
   },
   {
    "duration": 4,
    "start_time": "2024-09-09T14:25:15.282Z"
   },
   {
    "duration": 5,
    "start_time": "2024-09-09T14:25:25.600Z"
   },
   {
    "duration": 4,
    "start_time": "2024-09-09T14:25:34.006Z"
   },
   {
    "duration": 4,
    "start_time": "2024-09-09T14:25:52.115Z"
   },
   {
    "duration": 4,
    "start_time": "2024-09-09T14:26:13.767Z"
   },
   {
    "duration": 4,
    "start_time": "2024-09-09T14:26:28.571Z"
   },
   {
    "duration": 4,
    "start_time": "2024-09-09T14:26:37.825Z"
   },
   {
    "duration": 4,
    "start_time": "2024-09-09T14:26:47.777Z"
   },
   {
    "duration": 5,
    "start_time": "2024-09-09T14:27:23.691Z"
   },
   {
    "duration": 4,
    "start_time": "2024-09-09T14:27:31.096Z"
   },
   {
    "duration": 3,
    "start_time": "2024-09-09T14:27:36.758Z"
   },
   {
    "duration": 4,
    "start_time": "2024-09-09T14:27:46.581Z"
   },
   {
    "duration": 3,
    "start_time": "2024-09-09T14:28:03.369Z"
   },
   {
    "duration": 3,
    "start_time": "2024-09-09T14:28:09.274Z"
   },
   {
    "duration": 4,
    "start_time": "2024-09-09T14:28:18.501Z"
   },
   {
    "duration": 4,
    "start_time": "2024-09-09T14:28:27.757Z"
   },
   {
    "duration": 4,
    "start_time": "2024-09-09T14:28:36.657Z"
   },
   {
    "duration": 4,
    "start_time": "2024-09-09T14:28:42.133Z"
   },
   {
    "duration": 4,
    "start_time": "2024-09-09T14:28:46.313Z"
   },
   {
    "duration": 4,
    "start_time": "2024-09-09T14:28:50.424Z"
   },
   {
    "duration": 4,
    "start_time": "2024-09-09T14:28:55.053Z"
   },
   {
    "duration": 4,
    "start_time": "2024-09-09T14:29:02.751Z"
   },
   {
    "duration": 4,
    "start_time": "2024-09-09T14:29:15.952Z"
   },
   {
    "duration": 4,
    "start_time": "2024-09-09T14:29:29.827Z"
   },
   {
    "duration": 4,
    "start_time": "2024-09-09T14:29:51.071Z"
   },
   {
    "duration": 7,
    "start_time": "2024-09-09T14:32:57.534Z"
   },
   {
    "duration": 3,
    "start_time": "2024-09-09T14:33:41.554Z"
   },
   {
    "duration": 780,
    "start_time": "2024-09-09T14:37:41.522Z"
   },
   {
    "duration": 8,
    "start_time": "2024-09-09T14:37:42.304Z"
   },
   {
    "duration": 12,
    "start_time": "2024-09-09T14:37:42.313Z"
   },
   {
    "duration": 33,
    "start_time": "2024-09-09T14:37:42.326Z"
   },
   {
    "duration": 54,
    "start_time": "2024-09-09T14:37:42.360Z"
   },
   {
    "duration": 72,
    "start_time": "2024-09-09T14:37:42.415Z"
   },
   {
    "duration": 17,
    "start_time": "2024-09-09T14:37:42.489Z"
   },
   {
    "duration": 5,
    "start_time": "2024-09-09T14:37:42.524Z"
   },
   {
    "duration": 13,
    "start_time": "2024-09-09T14:37:42.531Z"
   },
   {
    "duration": 5,
    "start_time": "2024-09-09T14:37:42.547Z"
   },
   {
    "duration": 4,
    "start_time": "2024-09-09T14:37:42.553Z"
   },
   {
    "duration": 9,
    "start_time": "2024-09-09T14:37:42.559Z"
   },
   {
    "duration": 55,
    "start_time": "2024-09-09T14:37:42.570Z"
   },
   {
    "duration": 6,
    "start_time": "2024-09-09T14:37:42.627Z"
   },
   {
    "duration": 5,
    "start_time": "2024-09-09T14:37:42.634Z"
   },
   {
    "duration": 21,
    "start_time": "2024-09-09T14:37:42.640Z"
   },
   {
    "duration": 16,
    "start_time": "2024-09-09T14:37:42.662Z"
   },
   {
    "duration": 5,
    "start_time": "2024-09-09T14:37:42.679Z"
   },
   {
    "duration": 42,
    "start_time": "2024-09-09T14:37:42.685Z"
   },
   {
    "duration": 13,
    "start_time": "2024-09-09T14:37:42.729Z"
   },
   {
    "duration": 18,
    "start_time": "2024-09-09T14:37:42.743Z"
   },
   {
    "duration": 6,
    "start_time": "2024-09-09T14:37:42.762Z"
   },
   {
    "duration": 5,
    "start_time": "2024-09-09T14:37:42.769Z"
   },
   {
    "duration": 16,
    "start_time": "2024-09-09T14:37:42.777Z"
   },
   {
    "duration": 40,
    "start_time": "2024-09-09T14:37:42.795Z"
   },
   {
    "duration": 9,
    "start_time": "2024-09-09T14:37:42.837Z"
   },
   {
    "duration": 14,
    "start_time": "2024-09-09T14:37:42.847Z"
   },
   {
    "duration": 12,
    "start_time": "2024-09-09T14:37:42.865Z"
   },
   {
    "duration": 11,
    "start_time": "2024-09-09T14:37:42.879Z"
   },
   {
    "duration": 39,
    "start_time": "2024-09-09T14:37:42.891Z"
   },
   {
    "duration": 16,
    "start_time": "2024-09-09T14:37:42.932Z"
   },
   {
    "duration": 30,
    "start_time": "2024-09-09T14:37:42.949Z"
   },
   {
    "duration": 49,
    "start_time": "2024-09-09T14:37:42.980Z"
   },
   {
    "duration": 278,
    "start_time": "2024-09-09T14:37:43.030Z"
   },
   {
    "duration": 0,
    "start_time": "2024-09-09T14:37:43.310Z"
   },
   {
    "duration": 0,
    "start_time": "2024-09-09T14:37:43.311Z"
   },
   {
    "duration": 0,
    "start_time": "2024-09-09T14:37:43.313Z"
   },
   {
    "duration": 0,
    "start_time": "2024-09-09T14:37:43.314Z"
   },
   {
    "duration": 0,
    "start_time": "2024-09-09T14:37:43.315Z"
   },
   {
    "duration": 0,
    "start_time": "2024-09-09T14:37:43.324Z"
   },
   {
    "duration": 0,
    "start_time": "2024-09-09T14:37:43.325Z"
   },
   {
    "duration": 0,
    "start_time": "2024-09-09T14:37:43.326Z"
   },
   {
    "duration": 0,
    "start_time": "2024-09-09T14:37:43.328Z"
   },
   {
    "duration": 0,
    "start_time": "2024-09-09T14:37:43.328Z"
   },
   {
    "duration": 0,
    "start_time": "2024-09-09T14:37:43.330Z"
   },
   {
    "duration": 0,
    "start_time": "2024-09-09T14:37:43.330Z"
   },
   {
    "duration": 15,
    "start_time": "2024-09-09T14:38:05.400Z"
   },
   {
    "duration": 81763,
    "start_time": "2024-09-09T14:43:35.826Z"
   },
   {
    "duration": 17,
    "start_time": "2024-09-09T14:45:19.866Z"
   },
   {
    "duration": 4,
    "start_time": "2024-09-09T14:45:41.828Z"
   },
   {
    "duration": 13,
    "start_time": "2024-09-09T14:45:52.515Z"
   },
   {
    "duration": 4,
    "start_time": "2024-09-09T14:48:43.740Z"
   },
   {
    "duration": 5,
    "start_time": "2024-09-09T14:48:52.833Z"
   },
   {
    "duration": 14,
    "start_time": "2024-09-09T14:49:01.805Z"
   },
   {
    "duration": 14,
    "start_time": "2024-09-09T14:51:16.912Z"
   },
   {
    "duration": 4,
    "start_time": "2024-09-09T14:52:47.195Z"
   },
   {
    "duration": 5,
    "start_time": "2024-09-09T14:53:34.531Z"
   },
   {
    "duration": 4,
    "start_time": "2024-09-09T14:53:49.563Z"
   },
   {
    "duration": 4,
    "start_time": "2024-09-09T14:54:23.875Z"
   },
   {
    "duration": 3,
    "start_time": "2024-09-09T14:54:30.746Z"
   },
   {
    "duration": 3,
    "start_time": "2024-09-09T14:54:36.501Z"
   },
   {
    "duration": 4,
    "start_time": "2024-09-09T14:54:54.724Z"
   },
   {
    "duration": 4,
    "start_time": "2024-09-09T14:55:05.292Z"
   },
   {
    "duration": 6,
    "start_time": "2024-09-09T14:56:21.792Z"
   },
   {
    "duration": 3,
    "start_time": "2024-09-09T14:56:32.482Z"
   },
   {
    "duration": 4,
    "start_time": "2024-09-09T14:56:41.263Z"
   },
   {
    "duration": 4,
    "start_time": "2024-09-09T14:56:59.938Z"
   },
   {
    "duration": 4,
    "start_time": "2024-09-09T14:57:11.791Z"
   },
   {
    "duration": 4,
    "start_time": "2024-09-09T14:57:25.536Z"
   },
   {
    "duration": 5,
    "start_time": "2024-09-09T14:57:46.331Z"
   },
   {
    "duration": 14,
    "start_time": "2024-09-09T15:11:35.413Z"
   },
   {
    "duration": 119,
    "start_time": "2024-09-09T15:11:46.551Z"
   },
   {
    "duration": 4,
    "start_time": "2024-09-09T15:13:25.394Z"
   },
   {
    "duration": 5,
    "start_time": "2024-09-09T15:13:44.336Z"
   },
   {
    "duration": 140,
    "start_time": "2024-09-09T15:13:52.526Z"
   },
   {
    "duration": 139,
    "start_time": "2024-09-09T15:14:00.663Z"
   },
   {
    "duration": 138,
    "start_time": "2024-09-09T15:14:27.230Z"
   },
   {
    "duration": 139,
    "start_time": "2024-09-09T15:14:37.301Z"
   },
   {
    "duration": 3,
    "start_time": "2024-09-09T15:15:02.752Z"
   },
   {
    "duration": 137,
    "start_time": "2024-09-09T15:15:14.663Z"
   },
   {
    "duration": 143,
    "start_time": "2024-09-09T15:15:44.603Z"
   },
   {
    "duration": 365,
    "start_time": "2024-09-09T15:16:46.016Z"
   },
   {
    "duration": 135,
    "start_time": "2024-09-09T15:17:11.764Z"
   },
   {
    "duration": 4,
    "start_time": "2024-09-09T15:20:33.183Z"
   },
   {
    "duration": 5,
    "start_time": "2024-09-09T15:22:30.744Z"
   },
   {
    "duration": 3,
    "start_time": "2024-09-09T15:22:40.006Z"
   },
   {
    "duration": 4,
    "start_time": "2024-09-09T15:24:17.853Z"
   },
   {
    "duration": 4,
    "start_time": "2024-09-09T15:24:35.579Z"
   },
   {
    "duration": 4,
    "start_time": "2024-09-09T15:24:41.428Z"
   },
   {
    "duration": 5,
    "start_time": "2024-09-09T15:25:20.319Z"
   },
   {
    "duration": 15,
    "start_time": "2024-09-09T15:25:37.666Z"
   },
   {
    "duration": 5,
    "start_time": "2024-09-09T15:25:53.989Z"
   },
   {
    "duration": 6,
    "start_time": "2024-09-09T15:26:04.930Z"
   },
   {
    "duration": 4,
    "start_time": "2024-09-09T15:27:28.786Z"
   },
   {
    "duration": 5,
    "start_time": "2024-09-09T15:27:46.154Z"
   },
   {
    "duration": 18,
    "start_time": "2024-09-09T15:28:27.525Z"
   },
   {
    "duration": 13,
    "start_time": "2024-09-09T15:28:35.147Z"
   },
   {
    "duration": 13,
    "start_time": "2024-09-09T15:28:43.646Z"
   },
   {
    "duration": 6,
    "start_time": "2024-09-09T15:29:03.906Z"
   },
   {
    "duration": 12,
    "start_time": "2024-09-09T15:53:36.705Z"
   },
   {
    "duration": 10,
    "start_time": "2024-09-09T15:55:04.180Z"
   },
   {
    "duration": 19,
    "start_time": "2024-09-09T15:55:30.378Z"
   },
   {
    "duration": 28,
    "start_time": "2024-09-09T15:58:05.527Z"
   },
   {
    "duration": 14,
    "start_time": "2024-09-09T16:00:46.914Z"
   },
   {
    "duration": 13,
    "start_time": "2024-09-09T16:01:33.936Z"
   },
   {
    "duration": 89,
    "start_time": "2024-09-09T16:07:59.164Z"
   },
   {
    "duration": 13,
    "start_time": "2024-09-09T16:08:39.881Z"
   },
   {
    "duration": 12,
    "start_time": "2024-09-09T16:28:00.227Z"
   },
   {
    "duration": 9,
    "start_time": "2024-09-09T16:28:21.871Z"
   },
   {
    "duration": 9,
    "start_time": "2024-09-09T16:28:43.381Z"
   },
   {
    "duration": 10,
    "start_time": "2024-09-09T16:29:03.541Z"
   },
   {
    "duration": 14,
    "start_time": "2024-09-09T16:29:40.911Z"
   },
   {
    "duration": 15,
    "start_time": "2024-09-09T16:29:49.707Z"
   },
   {
    "duration": 13,
    "start_time": "2024-09-09T16:30:25.809Z"
   },
   {
    "duration": 18,
    "start_time": "2024-09-09T16:31:19.357Z"
   },
   {
    "duration": 14,
    "start_time": "2024-09-09T16:31:38.709Z"
   },
   {
    "duration": 18,
    "start_time": "2024-09-09T16:31:58.786Z"
   },
   {
    "duration": 14,
    "start_time": "2024-09-09T16:32:08.909Z"
   },
   {
    "duration": 29,
    "start_time": "2024-09-09T16:32:33.118Z"
   },
   {
    "duration": 4,
    "start_time": "2024-09-09T16:32:54.333Z"
   },
   {
    "duration": 3,
    "start_time": "2024-09-09T16:33:01.987Z"
   },
   {
    "duration": 6,
    "start_time": "2024-09-09T16:33:11.078Z"
   },
   {
    "duration": 14,
    "start_time": "2024-09-09T16:33:34.949Z"
   },
   {
    "duration": 6,
    "start_time": "2024-09-09T16:33:58.095Z"
   },
   {
    "duration": 11,
    "start_time": "2024-09-09T16:34:30.311Z"
   },
   {
    "duration": 7,
    "start_time": "2024-09-09T16:34:39.487Z"
   },
   {
    "duration": 5,
    "start_time": "2024-09-09T16:38:33.016Z"
   },
   {
    "duration": 4,
    "start_time": "2024-09-09T16:38:52.347Z"
   },
   {
    "duration": 18,
    "start_time": "2024-09-09T16:40:20.320Z"
   },
   {
    "duration": 5,
    "start_time": "2024-09-09T16:44:09.726Z"
   },
   {
    "duration": 17,
    "start_time": "2024-09-09T16:44:21.288Z"
   },
   {
    "duration": 5,
    "start_time": "2024-09-09T16:45:14.358Z"
   },
   {
    "duration": 12,
    "start_time": "2024-09-09T16:45:54.691Z"
   },
   {
    "duration": 14,
    "start_time": "2024-09-09T16:46:05.146Z"
   },
   {
    "duration": 822,
    "start_time": "2024-09-09T16:46:22.887Z"
   },
   {
    "duration": 12,
    "start_time": "2024-09-09T16:46:23.712Z"
   },
   {
    "duration": 6,
    "start_time": "2024-09-09T16:46:23.725Z"
   },
   {
    "duration": 35,
    "start_time": "2024-09-09T16:46:23.733Z"
   },
   {
    "duration": 66,
    "start_time": "2024-09-09T16:46:23.770Z"
   },
   {
    "duration": 70,
    "start_time": "2024-09-09T16:46:23.838Z"
   },
   {
    "duration": 21,
    "start_time": "2024-09-09T16:46:23.910Z"
   },
   {
    "duration": 7,
    "start_time": "2024-09-09T16:46:23.932Z"
   },
   {
    "duration": 13,
    "start_time": "2024-09-09T16:46:23.941Z"
   },
   {
    "duration": 6,
    "start_time": "2024-09-09T16:46:23.958Z"
   },
   {
    "duration": 3,
    "start_time": "2024-09-09T16:46:23.966Z"
   },
   {
    "duration": 10,
    "start_time": "2024-09-09T16:46:23.971Z"
   },
   {
    "duration": 57,
    "start_time": "2024-09-09T16:46:23.982Z"
   },
   {
    "duration": 6,
    "start_time": "2024-09-09T16:46:24.041Z"
   },
   {
    "duration": 5,
    "start_time": "2024-09-09T16:46:24.049Z"
   },
   {
    "duration": 22,
    "start_time": "2024-09-09T16:46:24.056Z"
   },
   {
    "duration": 45,
    "start_time": "2024-09-09T16:46:24.080Z"
   },
   {
    "duration": 6,
    "start_time": "2024-09-09T16:46:24.127Z"
   },
   {
    "duration": 11,
    "start_time": "2024-09-09T16:46:24.134Z"
   },
   {
    "duration": 14,
    "start_time": "2024-09-09T16:46:24.147Z"
   },
   {
    "duration": 19,
    "start_time": "2024-09-09T16:46:24.163Z"
   },
   {
    "duration": 6,
    "start_time": "2024-09-09T16:46:24.184Z"
   },
   {
    "duration": 6,
    "start_time": "2024-09-09T16:46:24.225Z"
   },
   {
    "duration": 18,
    "start_time": "2024-09-09T16:46:24.233Z"
   },
   {
    "duration": 15,
    "start_time": "2024-09-09T16:46:24.252Z"
   },
   {
    "duration": 14,
    "start_time": "2024-09-09T16:46:24.268Z"
   },
   {
    "duration": 44,
    "start_time": "2024-09-09T16:46:24.284Z"
   },
   {
    "duration": 17,
    "start_time": "2024-09-09T16:46:24.332Z"
   },
   {
    "duration": 13,
    "start_time": "2024-09-09T16:46:24.350Z"
   },
   {
    "duration": 14,
    "start_time": "2024-09-09T16:46:24.364Z"
   },
   {
    "duration": 14,
    "start_time": "2024-09-09T16:46:24.380Z"
   },
   {
    "duration": 33,
    "start_time": "2024-09-09T16:46:24.424Z"
   },
   {
    "duration": 28,
    "start_time": "2024-09-09T16:46:24.459Z"
   },
   {
    "duration": 38,
    "start_time": "2024-09-09T16:46:24.488Z"
   },
   {
    "duration": 2,
    "start_time": "2024-09-09T16:46:24.528Z"
   },
   {
    "duration": 18,
    "start_time": "2024-09-09T16:46:24.531Z"
   },
   {
    "duration": 78321,
    "start_time": "2024-09-09T16:46:24.551Z"
   },
   {
    "duration": 153,
    "start_time": "2024-09-09T16:47:42.873Z"
   },
   {
    "duration": 6,
    "start_time": "2024-09-09T16:47:43.028Z"
   },
   {
    "duration": 3,
    "start_time": "2024-09-09T16:47:43.035Z"
   },
   {
    "duration": 4,
    "start_time": "2024-09-09T16:47:43.039Z"
   },
   {
    "duration": 5,
    "start_time": "2024-09-09T16:47:43.044Z"
   },
   {
    "duration": 19,
    "start_time": "2024-09-09T16:47:43.051Z"
   },
   {
    "duration": 164,
    "start_time": "2024-09-09T16:47:43.072Z"
   },
   {
    "duration": 0,
    "start_time": "2024-09-09T16:47:43.238Z"
   },
   {
    "duration": 0,
    "start_time": "2024-09-09T16:47:43.239Z"
   },
   {
    "duration": 4,
    "start_time": "2024-09-09T17:01:20.672Z"
   },
   {
    "duration": 7,
    "start_time": "2024-09-09T17:01:25.505Z"
   },
   {
    "duration": 4,
    "start_time": "2024-09-09T17:01:31.187Z"
   },
   {
    "duration": 11,
    "start_time": "2024-09-09T17:01:38.825Z"
   },
   {
    "duration": 12,
    "start_time": "2024-09-09T17:02:22.305Z"
   },
   {
    "duration": 17,
    "start_time": "2024-09-09T17:02:55.467Z"
   },
   {
    "duration": 18,
    "start_time": "2024-09-09T17:03:03.600Z"
   },
   {
    "duration": 3,
    "start_time": "2024-09-09T17:04:28.193Z"
   },
   {
    "duration": 3,
    "start_time": "2024-09-09T17:04:37.822Z"
   },
   {
    "duration": 11,
    "start_time": "2024-09-09T17:04:43.209Z"
   },
   {
    "duration": 7,
    "start_time": "2024-09-09T17:07:33.977Z"
   },
   {
    "duration": 8,
    "start_time": "2024-09-09T17:07:40.460Z"
   },
   {
    "duration": 9,
    "start_time": "2024-09-09T17:07:51.054Z"
   },
   {
    "duration": 8,
    "start_time": "2024-09-09T17:08:05.288Z"
   },
   {
    "duration": 12,
    "start_time": "2024-09-09T17:11:34.022Z"
   },
   {
    "duration": 332,
    "start_time": "2024-09-09T17:11:50.471Z"
   },
   {
    "duration": 11,
    "start_time": "2024-09-09T17:12:15.658Z"
   },
   {
    "duration": 40,
    "start_time": "2024-09-09T17:13:37.135Z"
   },
   {
    "duration": 41,
    "start_time": "2024-09-09T17:14:20.301Z"
   },
   {
    "duration": 4,
    "start_time": "2024-09-09T17:14:59.450Z"
   },
   {
    "duration": 222,
    "start_time": "2024-09-09T17:15:07.141Z"
   },
   {
    "duration": 38,
    "start_time": "2024-09-09T17:15:23.054Z"
   },
   {
    "duration": 5,
    "start_time": "2024-09-09T17:15:39.753Z"
   },
   {
    "duration": 3,
    "start_time": "2024-09-09T17:15:58.225Z"
   },
   {
    "duration": 4,
    "start_time": "2024-09-09T17:16:08.509Z"
   },
   {
    "duration": 4,
    "start_time": "2024-09-09T17:16:20.655Z"
   },
   {
    "duration": 4,
    "start_time": "2024-09-09T17:16:39.582Z"
   },
   {
    "duration": 5,
    "start_time": "2024-09-09T17:16:47.072Z"
   },
   {
    "duration": 5,
    "start_time": "2024-09-09T17:16:59.243Z"
   },
   {
    "duration": 4,
    "start_time": "2024-09-09T17:17:25.705Z"
   },
   {
    "duration": 4,
    "start_time": "2024-09-09T17:17:32.913Z"
   },
   {
    "duration": 37,
    "start_time": "2024-09-09T17:17:44.850Z"
   },
   {
    "duration": 40,
    "start_time": "2024-09-09T17:18:05.394Z"
   },
   {
    "duration": 5,
    "start_time": "2024-09-09T17:18:23.019Z"
   },
   {
    "duration": 5,
    "start_time": "2024-09-09T17:18:32.988Z"
   },
   {
    "duration": 21,
    "start_time": "2024-09-09T17:19:41.103Z"
   },
   {
    "duration": 27,
    "start_time": "2024-09-09T17:20:43.560Z"
   },
   {
    "duration": 20,
    "start_time": "2024-09-09T17:20:59.303Z"
   },
   {
    "duration": 21,
    "start_time": "2024-09-09T17:22:05.790Z"
   },
   {
    "duration": 760,
    "start_time": "2024-09-09T17:22:26.171Z"
   },
   {
    "duration": 8,
    "start_time": "2024-09-09T17:22:26.933Z"
   },
   {
    "duration": 6,
    "start_time": "2024-09-09T17:22:26.942Z"
   },
   {
    "duration": 35,
    "start_time": "2024-09-09T17:22:26.949Z"
   },
   {
    "duration": 66,
    "start_time": "2024-09-09T17:22:26.985Z"
   },
   {
    "duration": 71,
    "start_time": "2024-09-09T17:22:27.053Z"
   },
   {
    "duration": 16,
    "start_time": "2024-09-09T17:22:27.126Z"
   },
   {
    "duration": 7,
    "start_time": "2024-09-09T17:22:27.144Z"
   },
   {
    "duration": 13,
    "start_time": "2024-09-09T17:22:27.153Z"
   },
   {
    "duration": 4,
    "start_time": "2024-09-09T17:22:27.169Z"
   },
   {
    "duration": 4,
    "start_time": "2024-09-09T17:22:27.175Z"
   },
   {
    "duration": 45,
    "start_time": "2024-09-09T17:22:27.180Z"
   },
   {
    "duration": 20,
    "start_time": "2024-09-09T17:22:27.227Z"
   },
   {
    "duration": 7,
    "start_time": "2024-09-09T17:22:27.248Z"
   },
   {
    "duration": 5,
    "start_time": "2024-09-09T17:22:27.256Z"
   },
   {
    "duration": 21,
    "start_time": "2024-09-09T17:22:27.263Z"
   },
   {
    "duration": 45,
    "start_time": "2024-09-09T17:22:27.285Z"
   },
   {
    "duration": 6,
    "start_time": "2024-09-09T17:22:27.332Z"
   },
   {
    "duration": 9,
    "start_time": "2024-09-09T17:22:27.339Z"
   },
   {
    "duration": 13,
    "start_time": "2024-09-09T17:22:27.349Z"
   },
   {
    "duration": 18,
    "start_time": "2024-09-09T17:22:27.363Z"
   },
   {
    "duration": 42,
    "start_time": "2024-09-09T17:22:27.382Z"
   },
   {
    "duration": 5,
    "start_time": "2024-09-09T17:22:27.425Z"
   },
   {
    "duration": 17,
    "start_time": "2024-09-09T17:22:27.431Z"
   },
   {
    "duration": 15,
    "start_time": "2024-09-09T17:22:27.450Z"
   },
   {
    "duration": 11,
    "start_time": "2024-09-09T17:22:27.467Z"
   },
   {
    "duration": 47,
    "start_time": "2024-09-09T17:22:27.480Z"
   },
   {
    "duration": 18,
    "start_time": "2024-09-09T17:22:27.532Z"
   },
   {
    "duration": 11,
    "start_time": "2024-09-09T17:22:27.552Z"
   },
   {
    "duration": 13,
    "start_time": "2024-09-09T17:22:27.565Z"
   },
   {
    "duration": 14,
    "start_time": "2024-09-09T17:22:27.580Z"
   },
   {
    "duration": 33,
    "start_time": "2024-09-09T17:22:27.624Z"
   },
   {
    "duration": 27,
    "start_time": "2024-09-09T17:22:27.658Z"
   },
   {
    "duration": 159,
    "start_time": "2024-09-09T17:22:27.687Z"
   },
   {
    "duration": 0,
    "start_time": "2024-09-09T17:22:27.848Z"
   },
   {
    "duration": 0,
    "start_time": "2024-09-09T17:22:27.849Z"
   },
   {
    "duration": 0,
    "start_time": "2024-09-09T17:22:27.850Z"
   },
   {
    "duration": 0,
    "start_time": "2024-09-09T17:22:27.851Z"
   },
   {
    "duration": 0,
    "start_time": "2024-09-09T17:22:27.852Z"
   },
   {
    "duration": 0,
    "start_time": "2024-09-09T17:22:27.853Z"
   },
   {
    "duration": 0,
    "start_time": "2024-09-09T17:22:27.856Z"
   },
   {
    "duration": 0,
    "start_time": "2024-09-09T17:22:27.857Z"
   },
   {
    "duration": 0,
    "start_time": "2024-09-09T17:22:27.858Z"
   },
   {
    "duration": 0,
    "start_time": "2024-09-09T17:22:27.860Z"
   },
   {
    "duration": 0,
    "start_time": "2024-09-09T17:22:27.861Z"
   },
   {
    "duration": 0,
    "start_time": "2024-09-09T17:22:27.862Z"
   },
   {
    "duration": 19,
    "start_time": "2024-09-09T17:23:47.417Z"
   },
   {
    "duration": 21,
    "start_time": "2024-09-09T17:27:29.864Z"
   },
   {
    "duration": 20,
    "start_time": "2024-09-09T17:27:54.560Z"
   },
   {
    "duration": 19,
    "start_time": "2024-09-09T17:28:42.507Z"
   },
   {
    "duration": 3,
    "start_time": "2024-09-09T17:29:24.989Z"
   },
   {
    "duration": 7,
    "start_time": "2024-09-09T17:30:08.023Z"
   },
   {
    "duration": 4,
    "start_time": "2024-09-09T17:30:19.550Z"
   },
   {
    "duration": 3,
    "start_time": "2024-09-09T17:30:31.187Z"
   },
   {
    "duration": 3,
    "start_time": "2024-09-09T17:30:42.671Z"
   },
   {
    "duration": 3,
    "start_time": "2024-09-09T17:32:16.139Z"
   },
   {
    "duration": 19,
    "start_time": "2024-09-09T17:32:36.044Z"
   },
   {
    "duration": 7,
    "start_time": "2024-09-09T17:33:01.386Z"
   },
   {
    "duration": 14,
    "start_time": "2024-09-09T17:33:13.597Z"
   },
   {
    "duration": 4,
    "start_time": "2024-09-09T17:33:24.777Z"
   },
   {
    "duration": 6,
    "start_time": "2024-09-09T17:33:53.746Z"
   },
   {
    "duration": 3,
    "start_time": "2024-09-09T17:34:12.426Z"
   },
   {
    "duration": 28,
    "start_time": "2024-09-09T17:34:23.191Z"
   },
   {
    "duration": 3,
    "start_time": "2024-09-09T17:34:36.418Z"
   },
   {
    "duration": 5,
    "start_time": "2024-09-09T17:35:59.175Z"
   },
   {
    "duration": 3,
    "start_time": "2024-09-09T17:36:11.534Z"
   },
   {
    "duration": 19,
    "start_time": "2024-09-09T17:37:13.093Z"
   },
   {
    "duration": 6,
    "start_time": "2024-09-09T17:40:33.361Z"
   },
   {
    "duration": 5,
    "start_time": "2024-09-09T17:40:55.803Z"
   },
   {
    "duration": 3,
    "start_time": "2024-09-09T17:44:36.616Z"
   },
   {
    "duration": 835,
    "start_time": "2024-09-09T17:44:47.374Z"
   },
   {
    "duration": 8,
    "start_time": "2024-09-09T17:44:48.211Z"
   },
   {
    "duration": 7,
    "start_time": "2024-09-09T17:44:48.220Z"
   },
   {
    "duration": 33,
    "start_time": "2024-09-09T17:44:48.230Z"
   },
   {
    "duration": 59,
    "start_time": "2024-09-09T17:44:48.267Z"
   },
   {
    "duration": 66,
    "start_time": "2024-09-09T17:44:48.328Z"
   },
   {
    "duration": 28,
    "start_time": "2024-09-09T17:44:48.396Z"
   },
   {
    "duration": 8,
    "start_time": "2024-09-09T17:44:48.425Z"
   },
   {
    "duration": 13,
    "start_time": "2024-09-09T17:44:48.435Z"
   },
   {
    "duration": 5,
    "start_time": "2024-09-09T17:44:48.452Z"
   },
   {
    "duration": 3,
    "start_time": "2024-09-09T17:44:48.458Z"
   },
   {
    "duration": 10,
    "start_time": "2024-09-09T17:44:48.463Z"
   },
   {
    "duration": 58,
    "start_time": "2024-09-09T17:44:48.475Z"
   },
   {
    "duration": 6,
    "start_time": "2024-09-09T17:44:48.534Z"
   },
   {
    "duration": 5,
    "start_time": "2024-09-09T17:44:48.541Z"
   },
   {
    "duration": 21,
    "start_time": "2024-09-09T17:44:48.547Z"
   },
   {
    "duration": 15,
    "start_time": "2024-09-09T17:44:48.571Z"
   },
   {
    "duration": 5,
    "start_time": "2024-09-09T17:44:48.588Z"
   },
   {
    "duration": 10,
    "start_time": "2024-09-09T17:44:48.623Z"
   },
   {
    "duration": 14,
    "start_time": "2024-09-09T17:44:48.635Z"
   },
   {
    "duration": 18,
    "start_time": "2024-09-09T17:44:48.650Z"
   },
   {
    "duration": 6,
    "start_time": "2024-09-09T17:44:48.670Z"
   },
   {
    "duration": 6,
    "start_time": "2024-09-09T17:44:48.677Z"
   },
   {
    "duration": 51,
    "start_time": "2024-09-09T17:44:48.684Z"
   },
   {
    "duration": 15,
    "start_time": "2024-09-09T17:44:48.736Z"
   },
   {
    "duration": 12,
    "start_time": "2024-09-09T17:44:48.753Z"
   },
   {
    "duration": 17,
    "start_time": "2024-09-09T17:44:48.766Z"
   },
   {
    "duration": 41,
    "start_time": "2024-09-09T17:44:48.787Z"
   },
   {
    "duration": 14,
    "start_time": "2024-09-09T17:44:48.829Z"
   },
   {
    "duration": 13,
    "start_time": "2024-09-09T17:44:48.845Z"
   },
   {
    "duration": 14,
    "start_time": "2024-09-09T17:44:48.860Z"
   },
   {
    "duration": 61,
    "start_time": "2024-09-09T17:44:48.875Z"
   },
   {
    "duration": 27,
    "start_time": "2024-09-09T17:44:48.938Z"
   },
   {
    "duration": 3,
    "start_time": "2024-09-09T17:44:48.966Z"
   },
   {
    "duration": 2,
    "start_time": "2024-09-09T17:44:48.971Z"
   },
   {
    "duration": 3,
    "start_time": "2024-09-09T17:44:48.975Z"
   },
   {
    "duration": 17,
    "start_time": "2024-09-09T17:44:48.980Z"
   },
   {
    "duration": 77656,
    "start_time": "2024-09-09T17:44:48.999Z"
   },
   {
    "duration": 232,
    "start_time": "2024-09-09T17:46:06.657Z"
   },
   {
    "duration": 0,
    "start_time": "2024-09-09T17:46:06.890Z"
   },
   {
    "duration": 1,
    "start_time": "2024-09-09T17:46:06.891Z"
   },
   {
    "duration": 0,
    "start_time": "2024-09-09T17:46:06.893Z"
   },
   {
    "duration": 0,
    "start_time": "2024-09-09T17:46:06.894Z"
   },
   {
    "duration": 0,
    "start_time": "2024-09-09T17:46:06.895Z"
   },
   {
    "duration": 0,
    "start_time": "2024-09-09T17:46:06.896Z"
   },
   {
    "duration": 0,
    "start_time": "2024-09-09T17:46:06.897Z"
   },
   {
    "duration": 0,
    "start_time": "2024-09-09T17:46:06.898Z"
   },
   {
    "duration": 137,
    "start_time": "2024-09-09T17:58:45.148Z"
   },
   {
    "duration": 13,
    "start_time": "2024-09-09T17:59:39.551Z"
   },
   {
    "duration": 291,
    "start_time": "2024-09-09T18:00:40.724Z"
   },
   {
    "duration": 6,
    "start_time": "2024-09-09T18:01:23.799Z"
   },
   {
    "duration": 18,
    "start_time": "2024-09-09T18:02:02.988Z"
   },
   {
    "duration": 16,
    "start_time": "2024-09-09T18:04:06.999Z"
   },
   {
    "duration": 17,
    "start_time": "2024-09-09T18:04:37.566Z"
   },
   {
    "duration": 18,
    "start_time": "2024-09-09T18:33:20.422Z"
   },
   {
    "duration": 18,
    "start_time": "2024-09-09T18:33:26.034Z"
   },
   {
    "duration": 9,
    "start_time": "2024-09-09T18:34:28.291Z"
   },
   {
    "duration": 10,
    "start_time": "2024-09-09T18:34:54.054Z"
   },
   {
    "duration": 8,
    "start_time": "2024-09-09T18:35:22.588Z"
   },
   {
    "duration": 12,
    "start_time": "2024-09-09T18:35:38.468Z"
   },
   {
    "duration": 18,
    "start_time": "2024-09-09T18:35:59.049Z"
   },
   {
    "duration": 206,
    "start_time": "2024-09-09T18:36:27.229Z"
   },
   {
    "duration": 40,
    "start_time": "2024-09-09T18:36:49.083Z"
   },
   {
    "duration": 38,
    "start_time": "2024-09-09T18:37:09.319Z"
   },
   {
    "duration": 843,
    "start_time": "2024-09-09T18:37:17.941Z"
   },
   {
    "duration": 6,
    "start_time": "2024-09-09T18:37:18.786Z"
   },
   {
    "duration": 4,
    "start_time": "2024-09-09T18:37:18.795Z"
   },
   {
    "duration": 45,
    "start_time": "2024-09-09T18:37:18.801Z"
   },
   {
    "duration": 54,
    "start_time": "2024-09-09T18:37:18.848Z"
   },
   {
    "duration": 74,
    "start_time": "2024-09-09T18:37:18.903Z"
   },
   {
    "duration": 16,
    "start_time": "2024-09-09T18:37:18.979Z"
   },
   {
    "duration": 8,
    "start_time": "2024-09-09T18:37:18.997Z"
   },
   {
    "duration": 29,
    "start_time": "2024-09-09T18:37:19.006Z"
   },
   {
    "duration": 4,
    "start_time": "2024-09-09T18:37:19.038Z"
   },
   {
    "duration": 3,
    "start_time": "2024-09-09T18:37:19.044Z"
   },
   {
    "duration": 10,
    "start_time": "2024-09-09T18:37:19.049Z"
   },
   {
    "duration": 20,
    "start_time": "2024-09-09T18:37:19.060Z"
   },
   {
    "duration": 42,
    "start_time": "2024-09-09T18:37:19.082Z"
   },
   {
    "duration": 7,
    "start_time": "2024-09-09T18:37:19.125Z"
   },
   {
    "duration": 20,
    "start_time": "2024-09-09T18:37:19.134Z"
   },
   {
    "duration": 15,
    "start_time": "2024-09-09T18:37:19.156Z"
   },
   {
    "duration": 5,
    "start_time": "2024-09-09T18:37:19.173Z"
   },
   {
    "duration": 9,
    "start_time": "2024-09-09T18:37:19.179Z"
   },
   {
    "duration": 46,
    "start_time": "2024-09-09T18:37:19.190Z"
   },
   {
    "duration": 19,
    "start_time": "2024-09-09T18:37:19.237Z"
   },
   {
    "duration": 7,
    "start_time": "2024-09-09T18:37:19.257Z"
   },
   {
    "duration": 6,
    "start_time": "2024-09-09T18:37:19.266Z"
   },
   {
    "duration": 17,
    "start_time": "2024-09-09T18:37:19.274Z"
   },
   {
    "duration": 44,
    "start_time": "2024-09-09T18:37:19.292Z"
   },
   {
    "duration": 15,
    "start_time": "2024-09-09T18:37:19.337Z"
   },
   {
    "duration": 17,
    "start_time": "2024-09-09T18:37:19.354Z"
   },
   {
    "duration": 17,
    "start_time": "2024-09-09T18:37:19.375Z"
   },
   {
    "duration": 43,
    "start_time": "2024-09-09T18:37:19.394Z"
   },
   {
    "duration": 14,
    "start_time": "2024-09-09T18:37:19.439Z"
   },
   {
    "duration": 15,
    "start_time": "2024-09-09T18:37:19.455Z"
   },
   {
    "duration": 54,
    "start_time": "2024-09-09T18:37:19.472Z"
   },
   {
    "duration": 25,
    "start_time": "2024-09-09T18:37:19.528Z"
   },
   {
    "duration": 2,
    "start_time": "2024-09-09T18:37:19.555Z"
   },
   {
    "duration": 3,
    "start_time": "2024-09-09T18:37:19.559Z"
   },
   {
    "duration": 3,
    "start_time": "2024-09-09T18:37:19.563Z"
   },
   {
    "duration": 17,
    "start_time": "2024-09-09T18:37:19.568Z"
   },
   {
    "duration": 78045,
    "start_time": "2024-09-09T18:37:19.587Z"
   },
   {
    "duration": 145,
    "start_time": "2024-09-09T18:38:37.634Z"
   },
   {
    "duration": 6,
    "start_time": "2024-09-09T18:38:37.781Z"
   },
   {
    "duration": 3,
    "start_time": "2024-09-09T18:38:37.788Z"
   },
   {
    "duration": 533,
    "start_time": "2024-09-09T18:38:37.792Z"
   },
   {
    "duration": 0,
    "start_time": "2024-09-09T18:38:38.327Z"
   },
   {
    "duration": 0,
    "start_time": "2024-09-09T18:38:38.328Z"
   },
   {
    "duration": 0,
    "start_time": "2024-09-09T18:38:38.330Z"
   },
   {
    "duration": 0,
    "start_time": "2024-09-09T18:38:38.331Z"
   },
   {
    "duration": 0,
    "start_time": "2024-09-09T18:38:38.333Z"
   },
   {
    "duration": 26,
    "start_time": "2024-09-09T18:41:13.877Z"
   },
   {
    "duration": 142,
    "start_time": "2024-09-09T18:48:26.653Z"
   },
   {
    "duration": 16,
    "start_time": "2024-09-09T18:48:51.346Z"
   },
   {
    "duration": 126,
    "start_time": "2024-09-09T18:49:21.346Z"
   },
   {
    "duration": 13,
    "start_time": "2024-09-09T18:50:11.318Z"
   },
   {
    "duration": 12,
    "start_time": "2024-09-09T18:50:46.101Z"
   },
   {
    "duration": 14,
    "start_time": "2024-09-09T18:51:01.829Z"
   },
   {
    "duration": 4,
    "start_time": "2024-09-09T18:51:57.091Z"
   },
   {
    "duration": 159,
    "start_time": "2024-09-09T18:52:06.340Z"
   },
   {
    "duration": 46,
    "start_time": "2024-09-09T18:52:16.589Z"
   },
   {
    "duration": 15,
    "start_time": "2024-09-09T18:52:31.246Z"
   },
   {
    "duration": 37,
    "start_time": "2024-09-09T18:53:34.520Z"
   },
   {
    "duration": 11,
    "start_time": "2024-09-09T18:54:56.829Z"
   },
   {
    "duration": 8,
    "start_time": "2024-09-09T18:55:37.639Z"
   },
   {
    "duration": 152,
    "start_time": "2024-09-09T19:02:09.273Z"
   },
   {
    "duration": 87,
    "start_time": "2024-09-09T19:11:50.970Z"
   },
   {
    "duration": 270,
    "start_time": "2024-09-09T19:12:05.484Z"
   },
   {
    "duration": 17,
    "start_time": "2024-09-09T19:14:13.088Z"
   },
   {
    "duration": 815,
    "start_time": "2024-09-09T19:22:27.029Z"
   },
   {
    "duration": 7,
    "start_time": "2024-09-09T19:22:27.846Z"
   },
   {
    "duration": 5,
    "start_time": "2024-09-09T19:22:27.854Z"
   },
   {
    "duration": 35,
    "start_time": "2024-09-09T19:22:27.861Z"
   },
   {
    "duration": 68,
    "start_time": "2024-09-09T19:22:27.899Z"
   },
   {
    "duration": 76,
    "start_time": "2024-09-09T19:22:27.969Z"
   },
   {
    "duration": 16,
    "start_time": "2024-09-09T19:22:28.047Z"
   },
   {
    "duration": 6,
    "start_time": "2024-09-09T19:22:28.065Z"
   },
   {
    "duration": 14,
    "start_time": "2024-09-09T19:22:28.073Z"
   },
   {
    "duration": 4,
    "start_time": "2024-09-09T19:22:28.088Z"
   },
   {
    "duration": 32,
    "start_time": "2024-09-09T19:22:28.094Z"
   },
   {
    "duration": 12,
    "start_time": "2024-09-09T19:22:28.127Z"
   },
   {
    "duration": 20,
    "start_time": "2024-09-09T19:22:28.141Z"
   },
   {
    "duration": 7,
    "start_time": "2024-09-09T19:22:28.165Z"
   },
   {
    "duration": 7,
    "start_time": "2024-09-09T19:22:28.174Z"
   },
   {
    "duration": 57,
    "start_time": "2024-09-09T19:22:28.183Z"
   },
   {
    "duration": 19,
    "start_time": "2024-09-09T19:22:28.242Z"
   },
   {
    "duration": 8,
    "start_time": "2024-09-09T19:22:28.263Z"
   },
   {
    "duration": 9,
    "start_time": "2024-09-09T19:22:28.272Z"
   },
   {
    "duration": 13,
    "start_time": "2024-09-09T19:22:28.282Z"
   },
   {
    "duration": 19,
    "start_time": "2024-09-09T19:22:28.325Z"
   },
   {
    "duration": 8,
    "start_time": "2024-09-09T19:22:28.345Z"
   },
   {
    "duration": 7,
    "start_time": "2024-09-09T19:22:28.354Z"
   },
   {
    "duration": 17,
    "start_time": "2024-09-09T19:22:28.362Z"
   },
   {
    "duration": 45,
    "start_time": "2024-09-09T19:22:28.380Z"
   },
   {
    "duration": 11,
    "start_time": "2024-09-09T19:22:28.427Z"
   },
   {
    "duration": 18,
    "start_time": "2024-09-09T19:22:28.440Z"
   },
   {
    "duration": 18,
    "start_time": "2024-09-09T19:22:28.459Z"
   },
   {
    "duration": 15,
    "start_time": "2024-09-09T19:22:28.478Z"
   },
   {
    "duration": 43,
    "start_time": "2024-09-09T19:22:28.495Z"
   },
   {
    "duration": 16,
    "start_time": "2024-09-09T19:22:28.540Z"
   },
   {
    "duration": 36,
    "start_time": "2024-09-09T19:22:28.558Z"
   },
   {
    "duration": 52,
    "start_time": "2024-09-09T19:22:28.596Z"
   },
   {
    "duration": 2,
    "start_time": "2024-09-09T19:22:28.650Z"
   },
   {
    "duration": 3,
    "start_time": "2024-09-09T19:22:28.654Z"
   },
   {
    "duration": 2,
    "start_time": "2024-09-09T19:22:28.659Z"
   },
   {
    "duration": 17,
    "start_time": "2024-09-09T19:22:28.663Z"
   },
   {
    "duration": 77366,
    "start_time": "2024-09-09T19:22:28.682Z"
   },
   {
    "duration": 162,
    "start_time": "2024-09-09T19:23:46.050Z"
   },
   {
    "duration": 10,
    "start_time": "2024-09-09T19:23:46.214Z"
   },
   {
    "duration": 811,
    "start_time": "2024-09-09T19:24:45.088Z"
   },
   {
    "duration": 6,
    "start_time": "2024-09-09T19:24:45.901Z"
   },
   {
    "duration": 4,
    "start_time": "2024-09-09T19:24:45.909Z"
   },
   {
    "duration": 42,
    "start_time": "2024-09-09T19:24:45.915Z"
   },
   {
    "duration": 57,
    "start_time": "2024-09-09T19:24:45.960Z"
   },
   {
    "duration": 67,
    "start_time": "2024-09-09T19:24:46.023Z"
   },
   {
    "duration": 15,
    "start_time": "2024-09-09T19:24:46.092Z"
   },
   {
    "duration": 20,
    "start_time": "2024-09-09T19:24:46.109Z"
   },
   {
    "duration": 13,
    "start_time": "2024-09-09T19:24:46.131Z"
   },
   {
    "duration": 5,
    "start_time": "2024-09-09T19:24:46.146Z"
   },
   {
    "duration": 3,
    "start_time": "2024-09-09T19:24:46.152Z"
   },
   {
    "duration": 10,
    "start_time": "2024-09-09T19:24:46.157Z"
   },
   {
    "duration": 55,
    "start_time": "2024-09-09T19:24:46.168Z"
   },
   {
    "duration": 7,
    "start_time": "2024-09-09T19:24:46.225Z"
   },
   {
    "duration": 7,
    "start_time": "2024-09-09T19:24:46.234Z"
   },
   {
    "duration": 22,
    "start_time": "2024-09-09T19:24:46.243Z"
   },
   {
    "duration": 15,
    "start_time": "2024-09-09T19:24:46.267Z"
   },
   {
    "duration": 5,
    "start_time": "2024-09-09T19:24:46.283Z"
   },
   {
    "duration": 37,
    "start_time": "2024-09-09T19:24:46.290Z"
   },
   {
    "duration": 13,
    "start_time": "2024-09-09T19:24:46.328Z"
   },
   {
    "duration": 19,
    "start_time": "2024-09-09T19:24:46.342Z"
   },
   {
    "duration": 8,
    "start_time": "2024-09-09T19:24:46.362Z"
   },
   {
    "duration": 7,
    "start_time": "2024-09-09T19:24:46.372Z"
   },
   {
    "duration": 53,
    "start_time": "2024-09-09T19:24:46.381Z"
   },
   {
    "duration": 16,
    "start_time": "2024-09-09T19:24:46.436Z"
   },
   {
    "duration": 12,
    "start_time": "2024-09-09T19:24:46.453Z"
   },
   {
    "duration": 17,
    "start_time": "2024-09-09T19:24:46.467Z"
   },
   {
    "duration": 42,
    "start_time": "2024-09-09T19:24:46.488Z"
   },
   {
    "duration": 15,
    "start_time": "2024-09-09T19:24:46.532Z"
   },
   {
    "duration": 15,
    "start_time": "2024-09-09T19:24:46.549Z"
   },
   {
    "duration": 15,
    "start_time": "2024-09-09T19:24:46.565Z"
   },
   {
    "duration": 62,
    "start_time": "2024-09-09T19:24:46.582Z"
   },
   {
    "duration": 26,
    "start_time": "2024-09-09T19:24:46.646Z"
   },
   {
    "duration": 3,
    "start_time": "2024-09-09T19:24:46.674Z"
   },
   {
    "duration": 3,
    "start_time": "2024-09-09T19:24:46.678Z"
   },
   {
    "duration": 3,
    "start_time": "2024-09-09T19:24:46.682Z"
   },
   {
    "duration": 42,
    "start_time": "2024-09-09T19:24:46.686Z"
   },
   {
    "duration": 158,
    "start_time": "2024-09-09T19:26:04.193Z"
   },
   {
    "duration": 6,
    "start_time": "2024-09-09T19:26:04.353Z"
   },
   {
    "duration": 814,
    "start_time": "2024-09-09T19:30:31.690Z"
   },
   {
    "duration": 12,
    "start_time": "2024-09-09T19:30:32.506Z"
   },
   {
    "duration": 8,
    "start_time": "2024-09-09T19:30:32.520Z"
   },
   {
    "duration": 63,
    "start_time": "2024-09-09T19:30:32.530Z"
   },
   {
    "duration": 90,
    "start_time": "2024-09-09T19:30:32.595Z"
   },
   {
    "duration": 95,
    "start_time": "2024-09-09T19:30:32.687Z"
   },
   {
    "duration": 16,
    "start_time": "2024-09-09T19:30:32.784Z"
   },
   {
    "duration": 7,
    "start_time": "2024-09-09T19:30:32.801Z"
   },
   {
    "duration": 25,
    "start_time": "2024-09-09T19:30:32.810Z"
   },
   {
    "duration": 4,
    "start_time": "2024-09-09T19:30:32.837Z"
   },
   {
    "duration": 3,
    "start_time": "2024-09-09T19:30:32.843Z"
   },
   {
    "duration": 9,
    "start_time": "2024-09-09T19:30:32.847Z"
   },
   {
    "duration": 20,
    "start_time": "2024-09-09T19:30:32.857Z"
   },
   {
    "duration": 8,
    "start_time": "2024-09-09T19:30:32.880Z"
   },
   {
    "duration": 8,
    "start_time": "2024-09-09T19:30:32.924Z"
   },
   {
    "duration": 29,
    "start_time": "2024-09-09T19:30:32.933Z"
   },
   {
    "duration": 18,
    "start_time": "2024-09-09T19:30:32.964Z"
   },
   {
    "duration": 5,
    "start_time": "2024-09-09T19:30:32.984Z"
   },
   {
    "duration": 37,
    "start_time": "2024-09-09T19:30:32.991Z"
   },
   {
    "duration": 15,
    "start_time": "2024-09-09T19:30:33.030Z"
   },
   {
    "duration": 19,
    "start_time": "2024-09-09T19:30:33.046Z"
   },
   {
    "duration": 8,
    "start_time": "2024-09-09T19:30:33.066Z"
   },
   {
    "duration": 7,
    "start_time": "2024-09-09T19:30:33.076Z"
   },
   {
    "duration": 46,
    "start_time": "2024-09-09T19:30:33.085Z"
   },
   {
    "duration": 15,
    "start_time": "2024-09-09T19:30:33.133Z"
   },
   {
    "duration": 12,
    "start_time": "2024-09-09T19:30:33.150Z"
   },
   {
    "duration": 18,
    "start_time": "2024-09-09T19:30:33.163Z"
   },
   {
    "duration": 46,
    "start_time": "2024-09-09T19:30:33.183Z"
   },
   {
    "duration": 14,
    "start_time": "2024-09-09T19:30:33.231Z"
   },
   {
    "duration": 14,
    "start_time": "2024-09-09T19:30:33.247Z"
   },
   {
    "duration": 16,
    "start_time": "2024-09-09T19:30:33.262Z"
   },
   {
    "duration": 59,
    "start_time": "2024-09-09T19:30:33.279Z"
   },
   {
    "duration": 24,
    "start_time": "2024-09-09T19:30:33.340Z"
   },
   {
    "duration": 2,
    "start_time": "2024-09-09T19:30:33.366Z"
   },
   {
    "duration": 4,
    "start_time": "2024-09-09T19:30:33.370Z"
   },
   {
    "duration": 3,
    "start_time": "2024-09-09T19:30:33.375Z"
   },
   {
    "duration": 17,
    "start_time": "2024-09-09T19:30:33.379Z"
   },
   {
    "duration": 77719,
    "start_time": "2024-09-09T19:30:33.424Z"
   },
   {
    "duration": 161,
    "start_time": "2024-09-09T19:31:51.145Z"
   },
   {
    "duration": 5,
    "start_time": "2024-09-09T19:31:51.308Z"
   },
   {
    "duration": 5,
    "start_time": "2024-09-09T19:45:47.360Z"
   },
   {
    "duration": 155,
    "start_time": "2024-09-09T19:45:56.305Z"
   },
   {
    "duration": 16,
    "start_time": "2024-09-09T19:48:05.340Z"
   },
   {
    "duration": 12,
    "start_time": "2024-09-09T19:51:02.247Z"
   },
   {
    "duration": 18,
    "start_time": "2024-09-09T19:51:48.109Z"
   },
   {
    "duration": 809,
    "start_time": "2024-09-09T19:55:19.900Z"
   },
   {
    "duration": 10,
    "start_time": "2024-09-09T19:55:20.711Z"
   },
   {
    "duration": 7,
    "start_time": "2024-09-09T19:55:20.723Z"
   },
   {
    "duration": 72,
    "start_time": "2024-09-09T19:55:20.732Z"
   },
   {
    "duration": 109,
    "start_time": "2024-09-09T19:55:20.806Z"
   },
   {
    "duration": 125,
    "start_time": "2024-09-09T19:55:20.917Z"
   },
   {
    "duration": 16,
    "start_time": "2024-09-09T19:55:21.043Z"
   },
   {
    "duration": 7,
    "start_time": "2024-09-09T19:55:21.062Z"
   },
   {
    "duration": 14,
    "start_time": "2024-09-09T19:55:21.071Z"
   },
   {
    "duration": 5,
    "start_time": "2024-09-09T19:55:21.088Z"
   },
   {
    "duration": 28,
    "start_time": "2024-09-09T19:55:21.095Z"
   },
   {
    "duration": 11,
    "start_time": "2024-09-09T19:55:21.125Z"
   },
   {
    "duration": 20,
    "start_time": "2024-09-09T19:55:21.138Z"
   },
   {
    "duration": 7,
    "start_time": "2024-09-09T19:55:21.161Z"
   },
   {
    "duration": 11,
    "start_time": "2024-09-09T19:55:21.170Z"
   },
   {
    "duration": 52,
    "start_time": "2024-09-09T19:55:21.184Z"
   },
   {
    "duration": 17,
    "start_time": "2024-09-09T19:55:21.238Z"
   },
   {
    "duration": 5,
    "start_time": "2024-09-09T19:55:21.257Z"
   },
   {
    "duration": 10,
    "start_time": "2024-09-09T19:55:21.264Z"
   },
   {
    "duration": 13,
    "start_time": "2024-09-09T19:55:21.276Z"
   },
   {
    "duration": 56,
    "start_time": "2024-09-09T19:55:21.290Z"
   },
   {
    "duration": 11,
    "start_time": "2024-09-09T19:55:21.348Z"
   },
   {
    "duration": 9,
    "start_time": "2024-09-09T19:55:21.364Z"
   },
   {
    "duration": 22,
    "start_time": "2024-09-09T19:55:21.375Z"
   },
   {
    "duration": 35,
    "start_time": "2024-09-09T19:55:21.399Z"
   },
   {
    "duration": 17,
    "start_time": "2024-09-09T19:55:21.435Z"
   },
   {
    "duration": 23,
    "start_time": "2024-09-09T19:55:21.453Z"
   },
   {
    "duration": 24,
    "start_time": "2024-09-09T19:55:21.480Z"
   },
   {
    "duration": 31,
    "start_time": "2024-09-09T19:55:21.505Z"
   },
   {
    "duration": 14,
    "start_time": "2024-09-09T19:55:21.538Z"
   },
   {
    "duration": 18,
    "start_time": "2024-09-09T19:55:21.553Z"
   },
   {
    "duration": 62,
    "start_time": "2024-09-09T19:55:21.572Z"
   },
   {
    "duration": 36,
    "start_time": "2024-09-09T19:55:21.636Z"
   },
   {
    "duration": 152,
    "start_time": "2024-09-09T19:55:21.673Z"
   },
   {
    "duration": 0,
    "start_time": "2024-09-09T19:55:21.826Z"
   },
   {
    "duration": 0,
    "start_time": "2024-09-09T19:55:21.828Z"
   },
   {
    "duration": 0,
    "start_time": "2024-09-09T19:55:21.829Z"
   },
   {
    "duration": 0,
    "start_time": "2024-09-09T19:55:21.830Z"
   },
   {
    "duration": 0,
    "start_time": "2024-09-09T19:55:21.832Z"
   },
   {
    "duration": 0,
    "start_time": "2024-09-09T19:55:21.833Z"
   },
   {
    "duration": 0,
    "start_time": "2024-09-09T19:55:21.834Z"
   },
   {
    "duration": 0,
    "start_time": "2024-09-09T19:55:21.835Z"
   },
   {
    "duration": 0,
    "start_time": "2024-09-09T19:55:21.836Z"
   },
   {
    "duration": 0,
    "start_time": "2024-09-09T19:55:21.837Z"
   },
   {
    "duration": 0,
    "start_time": "2024-09-09T19:55:21.837Z"
   },
   {
    "duration": 0,
    "start_time": "2024-09-09T19:55:21.838Z"
   },
   {
    "duration": 0,
    "start_time": "2024-09-09T19:55:21.839Z"
   },
   {
    "duration": 4,
    "start_time": "2024-09-09T19:55:31.131Z"
   },
   {
    "duration": 8,
    "start_time": "2024-09-09T19:55:43.297Z"
   },
   {
    "duration": 6,
    "start_time": "2024-09-09T19:55:44.708Z"
   },
   {
    "duration": 34,
    "start_time": "2024-09-09T19:55:45.512Z"
   },
   {
    "duration": 55,
    "start_time": "2024-09-09T19:55:46.339Z"
   },
   {
    "duration": 84,
    "start_time": "2024-09-09T19:55:47.210Z"
   },
   {
    "duration": 13,
    "start_time": "2024-09-09T19:55:54.798Z"
   },
   {
    "duration": 7,
    "start_time": "2024-09-09T19:56:03.016Z"
   },
   {
    "duration": 16,
    "start_time": "2024-09-09T19:56:11.636Z"
   },
   {
    "duration": 9,
    "start_time": "2024-09-09T19:56:21.134Z"
   },
   {
    "duration": 4,
    "start_time": "2024-09-09T19:56:32.211Z"
   },
   {
    "duration": 10,
    "start_time": "2024-09-09T19:56:35.832Z"
   },
   {
    "duration": 21,
    "start_time": "2024-09-09T19:56:37.622Z"
   },
   {
    "duration": 23,
    "start_time": "2024-09-09T19:56:48.192Z"
   },
   {
    "duration": 16,
    "start_time": "2024-09-09T19:56:50.715Z"
   },
   {
    "duration": 10,
    "start_time": "2024-09-09T19:57:01.169Z"
   },
   {
    "duration": 9,
    "start_time": "2024-09-09T19:57:06.466Z"
   },
   {
    "duration": 14,
    "start_time": "2024-09-09T19:57:09.038Z"
   },
   {
    "duration": 23,
    "start_time": "2024-09-09T19:57:10.953Z"
   },
   {
    "duration": 10,
    "start_time": "2024-09-09T19:57:20.621Z"
   },
   {
    "duration": 8,
    "start_time": "2024-09-09T19:57:26.649Z"
   },
   {
    "duration": 22,
    "start_time": "2024-09-09T19:57:28.280Z"
   },
   {
    "duration": 14,
    "start_time": "2024-09-09T19:57:33.998Z"
   },
   {
    "duration": 13,
    "start_time": "2024-09-09T19:57:36.031Z"
   },
   {
    "duration": 19,
    "start_time": "2024-09-09T19:57:38.375Z"
   },
   {
    "duration": 19,
    "start_time": "2024-09-09T19:57:40.347Z"
   },
   {
    "duration": 31,
    "start_time": "2024-09-09T19:57:44.562Z"
   },
   {
    "duration": 25,
    "start_time": "2024-09-09T19:57:48.236Z"
   },
   {
    "duration": 22,
    "start_time": "2024-09-09T19:57:52.478Z"
   },
   {
    "duration": 561,
    "start_time": "2024-09-09T19:57:54.321Z"
   },
   {
    "duration": 78601,
    "start_time": "2024-09-09T19:57:58.791Z"
   },
   {
    "duration": 22,
    "start_time": "2024-09-09T19:59:17.402Z"
   },
   {
    "duration": 2680,
    "start_time": "2024-09-09T20:56:40.464Z"
   },
   {
    "duration": 11,
    "start_time": "2024-09-09T20:56:43.147Z"
   },
   {
    "duration": 8,
    "start_time": "2024-09-09T20:56:43.160Z"
   },
   {
    "duration": 66,
    "start_time": "2024-09-09T20:56:43.172Z"
   },
   {
    "duration": 94,
    "start_time": "2024-09-09T20:56:43.240Z"
   },
   {
    "duration": 102,
    "start_time": "2024-09-09T20:56:43.336Z"
   },
   {
    "duration": 20,
    "start_time": "2024-09-09T20:56:43.440Z"
   },
   {
    "duration": 10,
    "start_time": "2024-09-09T20:56:43.462Z"
   },
   {
    "duration": 34,
    "start_time": "2024-09-09T20:56:43.475Z"
   },
   {
    "duration": 8,
    "start_time": "2024-09-09T20:56:43.513Z"
   },
   {
    "duration": 5,
    "start_time": "2024-09-09T20:56:43.523Z"
   },
   {
    "duration": 12,
    "start_time": "2024-09-09T20:56:43.530Z"
   },
   {
    "duration": 29,
    "start_time": "2024-09-09T20:56:43.544Z"
   },
   {
    "duration": 44,
    "start_time": "2024-09-09T20:56:43.575Z"
   },
   {
    "duration": 9,
    "start_time": "2024-09-09T20:56:43.621Z"
   },
   {
    "duration": 32,
    "start_time": "2024-09-09T20:56:43.632Z"
   },
   {
    "duration": 44,
    "start_time": "2024-09-09T20:56:43.665Z"
   },
   {
    "duration": 11,
    "start_time": "2024-09-09T20:56:43.711Z"
   },
   {
    "duration": 12,
    "start_time": "2024-09-09T20:56:43.724Z"
   },
   {
    "duration": 15,
    "start_time": "2024-09-09T20:56:43.738Z"
   },
   {
    "duration": 21,
    "start_time": "2024-09-09T20:56:43.755Z"
   },
   {
    "duration": 39,
    "start_time": "2024-09-09T20:56:43.778Z"
   },
   {
    "duration": 9,
    "start_time": "2024-09-09T20:56:43.819Z"
   },
   {
    "duration": 25,
    "start_time": "2024-09-09T20:56:43.829Z"
   },
   {
    "duration": 18,
    "start_time": "2024-09-09T20:56:43.856Z"
   },
   {
    "duration": 46,
    "start_time": "2024-09-09T20:56:43.876Z"
   },
   {
    "duration": 22,
    "start_time": "2024-09-09T20:56:43.924Z"
   },
   {
    "duration": 26,
    "start_time": "2024-09-09T20:56:43.951Z"
   },
   {
    "duration": 38,
    "start_time": "2024-09-09T20:56:43.979Z"
   },
   {
    "duration": 21,
    "start_time": "2024-09-09T20:56:44.019Z"
   },
   {
    "duration": 18,
    "start_time": "2024-09-09T20:56:44.042Z"
   },
   {
    "duration": 82,
    "start_time": "2024-09-09T20:56:44.062Z"
   },
   {
    "duration": 37,
    "start_time": "2024-09-09T20:56:44.145Z"
   },
   {
    "duration": 170,
    "start_time": "2024-09-09T20:56:44.184Z"
   },
   {
    "duration": 0,
    "start_time": "2024-09-09T20:56:44.356Z"
   },
   {
    "duration": 0,
    "start_time": "2024-09-09T20:56:44.357Z"
   },
   {
    "duration": 0,
    "start_time": "2024-09-09T20:56:44.359Z"
   },
   {
    "duration": 0,
    "start_time": "2024-09-09T20:56:44.362Z"
   },
   {
    "duration": 0,
    "start_time": "2024-09-09T20:56:44.363Z"
   },
   {
    "duration": 0,
    "start_time": "2024-09-09T20:56:44.364Z"
   },
   {
    "duration": 0,
    "start_time": "2024-09-09T20:56:44.365Z"
   },
   {
    "duration": 0,
    "start_time": "2024-09-09T20:56:44.367Z"
   },
   {
    "duration": 0,
    "start_time": "2024-09-09T20:56:44.368Z"
   },
   {
    "duration": 0,
    "start_time": "2024-09-09T20:56:44.369Z"
   },
   {
    "duration": 0,
    "start_time": "2024-09-09T20:56:44.371Z"
   },
   {
    "duration": 0,
    "start_time": "2024-09-09T20:56:44.373Z"
   },
   {
    "duration": 0,
    "start_time": "2024-09-09T20:56:44.374Z"
   },
   {
    "duration": 802,
    "start_time": "2024-09-09T21:05:28.395Z"
   },
   {
    "duration": 11,
    "start_time": "2024-09-09T21:05:29.200Z"
   },
   {
    "duration": 6,
    "start_time": "2024-09-09T21:05:29.213Z"
   },
   {
    "duration": 34,
    "start_time": "2024-09-09T21:05:29.222Z"
   },
   {
    "duration": 72,
    "start_time": "2024-09-09T21:05:29.258Z"
   },
   {
    "duration": 68,
    "start_time": "2024-09-09T21:05:29.331Z"
   },
   {
    "duration": 22,
    "start_time": "2024-09-09T21:05:29.400Z"
   },
   {
    "duration": 7,
    "start_time": "2024-09-09T21:05:29.424Z"
   },
   {
    "duration": 14,
    "start_time": "2024-09-09T21:05:29.433Z"
   },
   {
    "duration": 7,
    "start_time": "2024-09-09T21:05:29.451Z"
   },
   {
    "duration": 3,
    "start_time": "2024-09-09T21:05:29.460Z"
   },
   {
    "duration": 46,
    "start_time": "2024-09-09T21:05:29.465Z"
   },
   {
    "duration": 21,
    "start_time": "2024-09-09T21:05:29.512Z"
   },
   {
    "duration": 9,
    "start_time": "2024-09-09T21:05:29.535Z"
   },
   {
    "duration": 7,
    "start_time": "2024-09-09T21:05:29.546Z"
   },
   {
    "duration": 54,
    "start_time": "2024-09-09T21:05:29.555Z"
   },
   {
    "duration": 18,
    "start_time": "2024-09-09T21:05:29.611Z"
   },
   {
    "duration": 9,
    "start_time": "2024-09-09T21:05:29.630Z"
   },
   {
    "duration": 9,
    "start_time": "2024-09-09T21:05:29.640Z"
   },
   {
    "duration": 14,
    "start_time": "2024-09-09T21:05:29.650Z"
   },
   {
    "duration": 54,
    "start_time": "2024-09-09T21:05:29.666Z"
   },
   {
    "duration": 11,
    "start_time": "2024-09-09T21:05:29.724Z"
   },
   {
    "duration": 8,
    "start_time": "2024-09-09T21:05:29.736Z"
   },
   {
    "duration": 21,
    "start_time": "2024-09-09T21:05:29.745Z"
   },
   {
    "duration": 41,
    "start_time": "2024-09-09T21:05:29.768Z"
   },
   {
    "duration": 14,
    "start_time": "2024-09-09T21:05:29.811Z"
   },
   {
    "duration": 18,
    "start_time": "2024-09-09T21:05:29.826Z"
   },
   {
    "duration": 20,
    "start_time": "2024-09-09T21:05:29.848Z"
   },
   {
    "duration": 46,
    "start_time": "2024-09-09T21:05:29.870Z"
   },
   {
    "duration": 16,
    "start_time": "2024-09-09T21:05:29.918Z"
   },
   {
    "duration": 16,
    "start_time": "2024-09-09T21:05:29.935Z"
   },
   {
    "duration": 59,
    "start_time": "2024-09-09T21:05:29.952Z"
   },
   {
    "duration": 28,
    "start_time": "2024-09-09T21:05:30.013Z"
   },
   {
    "duration": 152,
    "start_time": "2024-09-09T21:05:30.043Z"
   },
   {
    "duration": 0,
    "start_time": "2024-09-09T21:05:30.197Z"
   },
   {
    "duration": 0,
    "start_time": "2024-09-09T21:05:30.198Z"
   },
   {
    "duration": 0,
    "start_time": "2024-09-09T21:05:30.199Z"
   },
   {
    "duration": 0,
    "start_time": "2024-09-09T21:05:30.208Z"
   },
   {
    "duration": 0,
    "start_time": "2024-09-09T21:05:30.210Z"
   },
   {
    "duration": 0,
    "start_time": "2024-09-09T21:05:30.211Z"
   },
   {
    "duration": 0,
    "start_time": "2024-09-09T21:05:30.212Z"
   },
   {
    "duration": 0,
    "start_time": "2024-09-09T21:05:30.213Z"
   },
   {
    "duration": 0,
    "start_time": "2024-09-09T21:05:30.214Z"
   },
   {
    "duration": 0,
    "start_time": "2024-09-09T21:05:30.215Z"
   },
   {
    "duration": 0,
    "start_time": "2024-09-09T21:05:30.216Z"
   },
   {
    "duration": 0,
    "start_time": "2024-09-09T21:05:30.217Z"
   },
   {
    "duration": 0,
    "start_time": "2024-09-09T21:05:30.218Z"
   },
   {
    "duration": 19,
    "start_time": "2024-09-09T21:05:59.315Z"
   },
   {
    "duration": 80285,
    "start_time": "2024-09-09T21:07:35.309Z"
   },
   {
    "duration": 156,
    "start_time": "2024-09-09T21:08:55.596Z"
   },
   {
    "duration": 6,
    "start_time": "2024-09-09T21:09:15.189Z"
   },
   {
    "duration": 853,
    "start_time": "2024-09-09T21:10:49.557Z"
   },
   {
    "duration": 9,
    "start_time": "2024-09-09T21:10:50.413Z"
   },
   {
    "duration": 6,
    "start_time": "2024-09-09T21:10:50.424Z"
   },
   {
    "duration": 36,
    "start_time": "2024-09-09T21:10:50.432Z"
   },
   {
    "duration": 79,
    "start_time": "2024-09-09T21:10:50.470Z"
   },
   {
    "duration": 72,
    "start_time": "2024-09-09T21:10:50.551Z"
   },
   {
    "duration": 16,
    "start_time": "2024-09-09T21:10:50.626Z"
   },
   {
    "duration": 8,
    "start_time": "2024-09-09T21:10:50.644Z"
   },
   {
    "duration": 15,
    "start_time": "2024-09-09T21:10:50.654Z"
   },
   {
    "duration": 37,
    "start_time": "2024-09-09T21:10:50.673Z"
   },
   {
    "duration": 3,
    "start_time": "2024-09-09T21:10:50.712Z"
   },
   {
    "duration": 11,
    "start_time": "2024-09-09T21:10:50.717Z"
   },
   {
    "duration": 21,
    "start_time": "2024-09-09T21:10:50.730Z"
   },
   {
    "duration": 9,
    "start_time": "2024-09-09T21:10:50.753Z"
   },
   {
    "duration": 8,
    "start_time": "2024-09-09T21:10:50.764Z"
   },
   {
    "duration": 55,
    "start_time": "2024-09-09T21:10:50.773Z"
   },
   {
    "duration": 17,
    "start_time": "2024-09-09T21:10:50.830Z"
   },
   {
    "duration": 7,
    "start_time": "2024-09-09T21:10:50.849Z"
   },
   {
    "duration": 9,
    "start_time": "2024-09-09T21:10:50.858Z"
   },
   {
    "duration": 46,
    "start_time": "2024-09-09T21:10:50.869Z"
   },
   {
    "duration": 19,
    "start_time": "2024-09-09T21:10:50.917Z"
   },
   {
    "duration": 9,
    "start_time": "2024-09-09T21:10:50.937Z"
   },
   {
    "duration": 8,
    "start_time": "2024-09-09T21:10:50.947Z"
   },
   {
    "duration": 17,
    "start_time": "2024-09-09T21:10:50.956Z"
   },
   {
    "duration": 48,
    "start_time": "2024-09-09T21:10:50.975Z"
   },
   {
    "duration": 13,
    "start_time": "2024-09-09T21:10:51.025Z"
   },
   {
    "duration": 18,
    "start_time": "2024-09-09T21:10:51.040Z"
   },
   {
    "duration": 47,
    "start_time": "2024-09-09T21:10:51.062Z"
   },
   {
    "duration": 17,
    "start_time": "2024-09-09T21:10:51.111Z"
   },
   {
    "duration": 16,
    "start_time": "2024-09-09T21:10:51.130Z"
   },
   {
    "duration": 16,
    "start_time": "2024-09-09T21:10:51.148Z"
   },
   {
    "duration": 65,
    "start_time": "2024-09-09T21:10:51.165Z"
   },
   {
    "duration": 27,
    "start_time": "2024-09-09T21:10:51.232Z"
   },
   {
    "duration": 155,
    "start_time": "2024-09-09T21:10:51.260Z"
   },
   {
    "duration": 0,
    "start_time": "2024-09-09T21:10:51.417Z"
   },
   {
    "duration": 0,
    "start_time": "2024-09-09T21:10:51.418Z"
   },
   {
    "duration": 0,
    "start_time": "2024-09-09T21:10:51.419Z"
   },
   {
    "duration": 0,
    "start_time": "2024-09-09T21:10:51.420Z"
   },
   {
    "duration": 0,
    "start_time": "2024-09-09T21:10:51.421Z"
   },
   {
    "duration": 1,
    "start_time": "2024-09-09T21:10:51.422Z"
   },
   {
    "duration": 0,
    "start_time": "2024-09-09T21:10:51.424Z"
   },
   {
    "duration": 0,
    "start_time": "2024-09-09T21:10:51.424Z"
   },
   {
    "duration": 0,
    "start_time": "2024-09-09T21:10:51.425Z"
   },
   {
    "duration": 0,
    "start_time": "2024-09-09T21:10:51.427Z"
   },
   {
    "duration": 0,
    "start_time": "2024-09-09T21:10:51.428Z"
   },
   {
    "duration": 0,
    "start_time": "2024-09-09T21:10:51.429Z"
   },
   {
    "duration": 0,
    "start_time": "2024-09-09T21:10:51.430Z"
   },
   {
    "duration": 25,
    "start_time": "2024-09-09T21:12:10.827Z"
   },
   {
    "duration": 78272,
    "start_time": "2024-09-09T21:12:17.357Z"
   },
   {
    "duration": 165,
    "start_time": "2024-09-09T21:13:35.631Z"
   },
   {
    "duration": 15,
    "start_time": "2024-09-09T21:13:35.798Z"
   },
   {
    "duration": 13,
    "start_time": "2024-09-09T21:13:35.816Z"
   },
   {
    "duration": 5,
    "start_time": "2024-09-09T21:13:35.831Z"
   },
   {
    "duration": 17,
    "start_time": "2024-09-09T21:13:35.838Z"
   },
   {
    "duration": 15,
    "start_time": "2024-09-09T21:13:35.857Z"
   },
   {
    "duration": 22,
    "start_time": "2024-09-09T21:22:52.357Z"
   },
   {
    "duration": 18,
    "start_time": "2024-09-09T21:34:07.276Z"
   },
   {
    "duration": 15,
    "start_time": "2024-09-09T21:34:13.045Z"
   },
   {
    "duration": 35,
    "start_time": "2024-09-09T21:35:34.091Z"
   },
   {
    "duration": 72,
    "start_time": "2024-09-09T21:37:25.320Z"
   },
   {
    "duration": 37,
    "start_time": "2024-09-09T21:39:28.186Z"
   },
   {
    "duration": 112,
    "start_time": "2024-09-09T21:40:18.276Z"
   },
   {
    "duration": 24,
    "start_time": "2024-09-09T21:40:25.279Z"
   },
   {
    "duration": 15,
    "start_time": "2024-09-09T21:41:25.869Z"
   },
   {
    "duration": 14,
    "start_time": "2024-09-09T21:42:27.939Z"
   },
   {
    "duration": 27,
    "start_time": "2024-09-09T21:42:44.561Z"
   },
   {
    "duration": 34,
    "start_time": "2024-09-09T21:44:07.970Z"
   },
   {
    "duration": 21,
    "start_time": "2024-09-09T21:44:51.645Z"
   },
   {
    "duration": 838,
    "start_time": "2024-09-09T21:45:48.254Z"
   },
   {
    "duration": 15,
    "start_time": "2024-09-09T21:45:49.094Z"
   },
   {
    "duration": 4,
    "start_time": "2024-09-09T21:45:49.111Z"
   },
   {
    "duration": 34,
    "start_time": "2024-09-09T21:45:49.118Z"
   },
   {
    "duration": 67,
    "start_time": "2024-09-09T21:45:49.154Z"
   },
   {
    "duration": 68,
    "start_time": "2024-09-09T21:45:49.223Z"
   },
   {
    "duration": 25,
    "start_time": "2024-09-09T21:45:49.293Z"
   },
   {
    "duration": 9,
    "start_time": "2024-09-09T21:45:49.320Z"
   },
   {
    "duration": 13,
    "start_time": "2024-09-09T21:45:49.330Z"
   },
   {
    "duration": 7,
    "start_time": "2024-09-09T21:45:49.347Z"
   },
   {
    "duration": 3,
    "start_time": "2024-09-09T21:45:49.355Z"
   },
   {
    "duration": 14,
    "start_time": "2024-09-09T21:45:49.360Z"
   },
   {
    "duration": 23,
    "start_time": "2024-09-09T21:45:49.409Z"
   },
   {
    "duration": 9,
    "start_time": "2024-09-09T21:45:49.434Z"
   },
   {
    "duration": 7,
    "start_time": "2024-09-09T21:45:49.445Z"
   },
   {
    "duration": 23,
    "start_time": "2024-09-09T21:45:49.453Z"
   },
   {
    "duration": 46,
    "start_time": "2024-09-09T21:45:49.478Z"
   },
   {
    "duration": 8,
    "start_time": "2024-09-09T21:45:49.525Z"
   },
   {
    "duration": 9,
    "start_time": "2024-09-09T21:45:49.534Z"
   },
   {
    "duration": 13,
    "start_time": "2024-09-09T21:45:49.545Z"
   },
   {
    "duration": 19,
    "start_time": "2024-09-09T21:45:49.560Z"
   },
   {
    "duration": 8,
    "start_time": "2024-09-09T21:45:49.609Z"
   },
   {
    "duration": 7,
    "start_time": "2024-09-09T21:45:49.619Z"
   },
   {
    "duration": 17,
    "start_time": "2024-09-09T21:45:49.628Z"
   },
   {
    "duration": 15,
    "start_time": "2024-09-09T21:45:49.646Z"
   },
   {
    "duration": 12,
    "start_time": "2024-09-09T21:45:49.663Z"
   },
   {
    "duration": 20,
    "start_time": "2024-09-09T21:45:49.709Z"
   },
   {
    "duration": 18,
    "start_time": "2024-09-09T21:45:49.733Z"
   },
   {
    "duration": 19,
    "start_time": "2024-09-09T21:45:49.753Z"
   },
   {
    "duration": 43,
    "start_time": "2024-09-09T21:45:49.774Z"
   },
   {
    "duration": 16,
    "start_time": "2024-09-09T21:45:49.819Z"
   },
   {
    "duration": 25,
    "start_time": "2024-09-09T21:45:49.837Z"
   },
   {
    "duration": 163,
    "start_time": "2024-09-09T21:45:49.864Z"
   },
   {
    "duration": 0,
    "start_time": "2024-09-09T21:45:50.029Z"
   },
   {
    "duration": 0,
    "start_time": "2024-09-09T21:45:50.030Z"
   },
   {
    "duration": 0,
    "start_time": "2024-09-09T21:45:50.031Z"
   },
   {
    "duration": 0,
    "start_time": "2024-09-09T21:45:50.032Z"
   },
   {
    "duration": 0,
    "start_time": "2024-09-09T21:45:50.033Z"
   },
   {
    "duration": 0,
    "start_time": "2024-09-09T21:45:50.035Z"
   },
   {
    "duration": 0,
    "start_time": "2024-09-09T21:45:50.036Z"
   },
   {
    "duration": 0,
    "start_time": "2024-09-09T21:45:50.037Z"
   },
   {
    "duration": 0,
    "start_time": "2024-09-09T21:45:50.038Z"
   },
   {
    "duration": 0,
    "start_time": "2024-09-09T21:45:50.039Z"
   },
   {
    "duration": 0,
    "start_time": "2024-09-09T21:45:50.040Z"
   },
   {
    "duration": 0,
    "start_time": "2024-09-09T21:45:50.042Z"
   },
   {
    "duration": 0,
    "start_time": "2024-09-09T21:45:50.043Z"
   },
   {
    "duration": 24,
    "start_time": "2024-09-09T21:46:14.989Z"
   },
   {
    "duration": 20,
    "start_time": "2024-09-09T21:46:26.082Z"
   },
   {
    "duration": 19,
    "start_time": "2024-09-09T21:47:39.941Z"
   },
   {
    "duration": 1758,
    "start_time": "2024-09-09T21:48:10.721Z"
   },
   {
    "duration": 146,
    "start_time": "2024-09-09T21:48:38.970Z"
   },
   {
    "duration": 6,
    "start_time": "2024-09-09T21:49:10.987Z"
   },
   {
    "duration": 831,
    "start_time": "2024-09-09T21:53:22.759Z"
   },
   {
    "duration": 8,
    "start_time": "2024-09-09T21:53:23.593Z"
   },
   {
    "duration": 8,
    "start_time": "2024-09-09T21:53:23.604Z"
   },
   {
    "duration": 40,
    "start_time": "2024-09-09T21:53:23.614Z"
   },
   {
    "duration": 68,
    "start_time": "2024-09-09T21:53:23.657Z"
   },
   {
    "duration": 68,
    "start_time": "2024-09-09T21:53:23.726Z"
   },
   {
    "duration": 20,
    "start_time": "2024-09-09T21:53:23.796Z"
   },
   {
    "duration": 7,
    "start_time": "2024-09-09T21:53:23.818Z"
   },
   {
    "duration": 13,
    "start_time": "2024-09-09T21:53:23.827Z"
   },
   {
    "duration": 7,
    "start_time": "2024-09-09T21:53:23.842Z"
   },
   {
    "duration": 3,
    "start_time": "2024-09-09T21:53:23.851Z"
   },
   {
    "duration": 10,
    "start_time": "2024-09-09T21:53:23.856Z"
   },
   {
    "duration": 62,
    "start_time": "2024-09-09T21:53:23.867Z"
   },
   {
    "duration": 9,
    "start_time": "2024-09-09T21:53:23.932Z"
   },
   {
    "duration": 7,
    "start_time": "2024-09-09T21:53:23.943Z"
   },
   {
    "duration": 24,
    "start_time": "2024-09-09T21:53:23.951Z"
   },
   {
    "duration": 44,
    "start_time": "2024-09-09T21:53:23.977Z"
   },
   {
    "duration": 7,
    "start_time": "2024-09-09T21:53:24.023Z"
   },
   {
    "duration": 9,
    "start_time": "2024-09-09T21:53:24.032Z"
   },
   {
    "duration": 14,
    "start_time": "2024-09-09T21:53:24.043Z"
   },
   {
    "duration": 50,
    "start_time": "2024-09-09T21:53:24.059Z"
   },
   {
    "duration": 10,
    "start_time": "2024-09-09T21:53:24.111Z"
   },
   {
    "duration": 7,
    "start_time": "2024-09-09T21:53:24.122Z"
   },
   {
    "duration": 18,
    "start_time": "2024-09-09T21:53:24.131Z"
   },
   {
    "duration": 16,
    "start_time": "2024-09-09T21:53:24.150Z"
   },
   {
    "duration": 42,
    "start_time": "2024-09-09T21:53:24.168Z"
   },
   {
    "duration": 19,
    "start_time": "2024-09-09T21:53:24.213Z"
   },
   {
    "duration": 19,
    "start_time": "2024-09-09T21:53:24.234Z"
   },
   {
    "duration": 16,
    "start_time": "2024-09-09T21:53:24.255Z"
   },
   {
    "duration": 41,
    "start_time": "2024-09-09T21:53:24.273Z"
   },
   {
    "duration": 17,
    "start_time": "2024-09-09T21:53:24.316Z"
   },
   {
    "duration": 27,
    "start_time": "2024-09-09T21:53:24.334Z"
   },
   {
    "duration": 162,
    "start_time": "2024-09-09T21:53:24.363Z"
   },
   {
    "duration": 0,
    "start_time": "2024-09-09T21:53:24.527Z"
   },
   {
    "duration": 0,
    "start_time": "2024-09-09T21:53:24.528Z"
   },
   {
    "duration": 0,
    "start_time": "2024-09-09T21:53:24.529Z"
   },
   {
    "duration": 0,
    "start_time": "2024-09-09T21:53:24.531Z"
   },
   {
    "duration": 0,
    "start_time": "2024-09-09T21:53:24.532Z"
   },
   {
    "duration": 0,
    "start_time": "2024-09-09T21:53:24.534Z"
   },
   {
    "duration": 0,
    "start_time": "2024-09-09T21:53:24.535Z"
   },
   {
    "duration": 0,
    "start_time": "2024-09-09T21:53:24.537Z"
   },
   {
    "duration": 0,
    "start_time": "2024-09-09T21:53:24.538Z"
   },
   {
    "duration": 0,
    "start_time": "2024-09-09T21:53:24.540Z"
   },
   {
    "duration": 0,
    "start_time": "2024-09-09T21:53:24.541Z"
   },
   {
    "duration": 0,
    "start_time": "2024-09-09T21:53:24.543Z"
   },
   {
    "duration": 0,
    "start_time": "2024-09-09T21:53:24.545Z"
   },
   {
    "duration": 22,
    "start_time": "2024-09-09T21:54:11.962Z"
   },
   {
    "duration": 18,
    "start_time": "2024-09-09T21:54:23.649Z"
   },
   {
    "duration": 1754,
    "start_time": "2024-09-09T21:54:32.047Z"
   },
   {
    "duration": 145,
    "start_time": "2024-09-09T21:54:41.214Z"
   },
   {
    "duration": 6,
    "start_time": "2024-09-09T21:54:48.628Z"
   },
   {
    "duration": 167,
    "start_time": "2024-09-09T22:20:57.579Z"
   },
   {
    "duration": 816,
    "start_time": "2024-09-09T22:21:06.085Z"
   },
   {
    "duration": 11,
    "start_time": "2024-09-09T22:21:06.903Z"
   },
   {
    "duration": 7,
    "start_time": "2024-09-09T22:21:06.915Z"
   },
   {
    "duration": 70,
    "start_time": "2024-09-09T22:21:06.925Z"
   },
   {
    "duration": 94,
    "start_time": "2024-09-09T22:21:06.998Z"
   },
   {
    "duration": 113,
    "start_time": "2024-09-09T22:21:07.094Z"
   },
   {
    "duration": 18,
    "start_time": "2024-09-09T22:21:07.208Z"
   },
   {
    "duration": 7,
    "start_time": "2024-09-09T22:21:07.228Z"
   },
   {
    "duration": 16,
    "start_time": "2024-09-09T22:21:07.237Z"
   },
   {
    "duration": 7,
    "start_time": "2024-09-09T22:21:07.255Z"
   },
   {
    "duration": 3,
    "start_time": "2024-09-09T22:21:07.263Z"
   },
   {
    "duration": 45,
    "start_time": "2024-09-09T22:21:07.268Z"
   },
   {
    "duration": 23,
    "start_time": "2024-09-09T22:21:07.315Z"
   },
   {
    "duration": 9,
    "start_time": "2024-09-09T22:21:07.342Z"
   },
   {
    "duration": 8,
    "start_time": "2024-09-09T22:21:07.352Z"
   },
   {
    "duration": 55,
    "start_time": "2024-09-09T22:21:07.361Z"
   },
   {
    "duration": 17,
    "start_time": "2024-09-09T22:21:07.418Z"
   },
   {
    "duration": 8,
    "start_time": "2024-09-09T22:21:07.437Z"
   },
   {
    "duration": 10,
    "start_time": "2024-09-09T22:21:07.448Z"
   },
   {
    "duration": 15,
    "start_time": "2024-09-09T22:21:07.459Z"
   },
   {
    "duration": 56,
    "start_time": "2024-09-09T22:21:07.475Z"
   },
   {
    "duration": 9,
    "start_time": "2024-09-09T22:21:07.533Z"
   },
   {
    "duration": 8,
    "start_time": "2024-09-09T22:21:07.544Z"
   },
   {
    "duration": 18,
    "start_time": "2024-09-09T22:21:07.553Z"
   },
   {
    "duration": 44,
    "start_time": "2024-09-09T22:21:07.573Z"
   },
   {
    "duration": 15,
    "start_time": "2024-09-09T22:21:07.620Z"
   },
   {
    "duration": 18,
    "start_time": "2024-09-09T22:21:07.636Z"
   },
   {
    "duration": 19,
    "start_time": "2024-09-09T22:21:07.656Z"
   },
   {
    "duration": 41,
    "start_time": "2024-09-09T22:21:07.677Z"
   },
   {
    "duration": 17,
    "start_time": "2024-09-09T22:21:07.720Z"
   },
   {
    "duration": 24,
    "start_time": "2024-09-09T22:21:07.739Z"
   },
   {
    "duration": 44,
    "start_time": "2024-09-09T22:21:07.766Z"
   },
   {
    "duration": 7,
    "start_time": "2024-09-09T22:21:07.811Z"
   },
   {
    "duration": 0,
    "start_time": "2024-09-09T22:21:07.820Z"
   },
   {
    "duration": 0,
    "start_time": "2024-09-09T22:21:07.821Z"
   },
   {
    "duration": 0,
    "start_time": "2024-09-09T22:21:07.822Z"
   },
   {
    "duration": 0,
    "start_time": "2024-09-09T22:21:07.824Z"
   },
   {
    "duration": 0,
    "start_time": "2024-09-09T22:21:07.824Z"
   },
   {
    "duration": 0,
    "start_time": "2024-09-09T22:21:07.825Z"
   },
   {
    "duration": 0,
    "start_time": "2024-09-09T22:21:07.826Z"
   },
   {
    "duration": 0,
    "start_time": "2024-09-09T22:21:07.827Z"
   },
   {
    "duration": 0,
    "start_time": "2024-09-09T22:21:07.828Z"
   },
   {
    "duration": 0,
    "start_time": "2024-09-09T22:21:07.829Z"
   },
   {
    "duration": 0,
    "start_time": "2024-09-09T22:21:07.830Z"
   },
   {
    "duration": 0,
    "start_time": "2024-09-09T22:21:07.831Z"
   },
   {
    "duration": 0,
    "start_time": "2024-09-09T22:21:07.832Z"
   },
   {
    "duration": 3,
    "start_time": "2024-09-09T22:27:00.684Z"
   },
   {
    "duration": 290,
    "start_time": "2024-09-09T22:27:09.842Z"
   },
   {
    "duration": 184,
    "start_time": "2024-09-09T22:27:28.163Z"
   },
   {
    "duration": 63,
    "start_time": "2024-09-09T22:28:41.328Z"
   },
   {
    "duration": 4,
    "start_time": "2024-09-09T22:30:47.814Z"
   },
   {
    "duration": 64,
    "start_time": "2024-09-09T22:30:56.499Z"
   },
   {
    "duration": 4,
    "start_time": "2024-09-09T22:31:54.436Z"
   },
   {
    "duration": 17,
    "start_time": "2024-09-09T22:32:00.411Z"
   },
   {
    "duration": 416,
    "start_time": "2024-09-09T22:41:16.450Z"
   },
   {
    "duration": 43,
    "start_time": "2024-09-09T22:41:37.858Z"
   },
   {
    "duration": 811,
    "start_time": "2024-09-09T22:46:39.794Z"
   },
   {
    "duration": 8,
    "start_time": "2024-09-09T22:46:40.607Z"
   },
   {
    "duration": 5,
    "start_time": "2024-09-09T22:46:40.616Z"
   },
   {
    "duration": 35,
    "start_time": "2024-09-09T22:46:40.622Z"
   },
   {
    "duration": 66,
    "start_time": "2024-09-09T22:46:40.660Z"
   },
   {
    "duration": 67,
    "start_time": "2024-09-09T22:46:40.728Z"
   },
   {
    "duration": 25,
    "start_time": "2024-09-09T22:46:40.797Z"
   },
   {
    "duration": 7,
    "start_time": "2024-09-09T22:46:40.824Z"
   },
   {
    "duration": 14,
    "start_time": "2024-09-09T22:46:40.833Z"
   },
   {
    "duration": 7,
    "start_time": "2024-09-09T22:46:40.849Z"
   },
   {
    "duration": 4,
    "start_time": "2024-09-09T22:46:40.857Z"
   },
   {
    "duration": 10,
    "start_time": "2024-09-09T22:46:40.862Z"
   },
   {
    "duration": 27,
    "start_time": "2024-09-09T22:46:40.911Z"
   },
   {
    "duration": 9,
    "start_time": "2024-09-09T22:46:40.942Z"
   },
   {
    "duration": 8,
    "start_time": "2024-09-09T22:46:40.952Z"
   },
   {
    "duration": 52,
    "start_time": "2024-09-09T22:46:40.962Z"
   },
   {
    "duration": 17,
    "start_time": "2024-09-09T22:46:41.016Z"
   },
   {
    "duration": 8,
    "start_time": "2024-09-09T22:46:41.035Z"
   },
   {
    "duration": 9,
    "start_time": "2024-09-09T22:46:41.045Z"
   },
   {
    "duration": 14,
    "start_time": "2024-09-09T22:46:41.056Z"
   },
   {
    "duration": 52,
    "start_time": "2024-09-09T22:46:41.072Z"
   },
   {
    "duration": 7,
    "start_time": "2024-09-09T22:46:41.126Z"
   },
   {
    "duration": 7,
    "start_time": "2024-09-09T22:46:41.135Z"
   },
   {
    "duration": 19,
    "start_time": "2024-09-09T22:46:41.143Z"
   },
   {
    "duration": 46,
    "start_time": "2024-09-09T22:46:41.164Z"
   },
   {
    "duration": 13,
    "start_time": "2024-09-09T22:46:41.212Z"
   },
   {
    "duration": 19,
    "start_time": "2024-09-09T22:46:41.226Z"
   },
   {
    "duration": 18,
    "start_time": "2024-09-09T22:46:41.247Z"
   },
   {
    "duration": 44,
    "start_time": "2024-09-09T22:46:41.266Z"
   },
   {
    "duration": 15,
    "start_time": "2024-09-09T22:46:41.311Z"
   },
   {
    "duration": 14,
    "start_time": "2024-09-09T22:46:41.328Z"
   },
   {
    "duration": 27,
    "start_time": "2024-09-09T22:46:41.344Z"
   },
   {
    "duration": 697,
    "start_time": "2024-09-09T22:46:41.373Z"
   },
   {
    "duration": 0,
    "start_time": "2024-09-09T22:46:42.072Z"
   },
   {
    "duration": 0,
    "start_time": "2024-09-09T22:46:42.073Z"
   },
   {
    "duration": 0,
    "start_time": "2024-09-09T22:46:42.074Z"
   },
   {
    "duration": 0,
    "start_time": "2024-09-09T22:46:42.075Z"
   },
   {
    "duration": 0,
    "start_time": "2024-09-09T22:46:42.076Z"
   },
   {
    "duration": 0,
    "start_time": "2024-09-09T22:46:42.077Z"
   },
   {
    "duration": 0,
    "start_time": "2024-09-09T22:46:42.078Z"
   },
   {
    "duration": 0,
    "start_time": "2024-09-09T22:46:42.079Z"
   },
   {
    "duration": 0,
    "start_time": "2024-09-09T22:46:42.081Z"
   },
   {
    "duration": 0,
    "start_time": "2024-09-09T22:46:42.082Z"
   },
   {
    "duration": 0,
    "start_time": "2024-09-09T22:46:42.084Z"
   },
   {
    "duration": 0,
    "start_time": "2024-09-09T22:46:42.085Z"
   },
   {
    "duration": 0,
    "start_time": "2024-09-09T22:46:42.110Z"
   },
   {
    "duration": 30,
    "start_time": "2024-09-09T22:48:02.478Z"
   },
   {
    "duration": 21,
    "start_time": "2024-09-09T22:48:12.440Z"
   },
   {
    "duration": 1720,
    "start_time": "2024-09-09T22:48:50.501Z"
   },
   {
    "duration": 142,
    "start_time": "2024-09-09T22:49:02.437Z"
   },
   {
    "duration": 889,
    "start_time": "2024-09-09T22:54:16.439Z"
   },
   {
    "duration": 10,
    "start_time": "2024-09-09T22:54:17.330Z"
   },
   {
    "duration": 7,
    "start_time": "2024-09-09T22:54:17.341Z"
   },
   {
    "duration": 66,
    "start_time": "2024-09-09T22:54:17.349Z"
   },
   {
    "duration": 93,
    "start_time": "2024-09-09T22:54:17.419Z"
   },
   {
    "duration": 101,
    "start_time": "2024-09-09T22:54:17.513Z"
   },
   {
    "duration": 17,
    "start_time": "2024-09-09T22:54:17.616Z"
   },
   {
    "duration": 7,
    "start_time": "2024-09-09T22:54:17.635Z"
   },
   {
    "duration": 13,
    "start_time": "2024-09-09T22:54:17.644Z"
   },
   {
    "duration": 7,
    "start_time": "2024-09-09T22:54:17.659Z"
   },
   {
    "duration": 3,
    "start_time": "2024-09-09T22:54:17.668Z"
   },
   {
    "duration": 44,
    "start_time": "2024-09-09T22:54:17.673Z"
   },
   {
    "duration": 26,
    "start_time": "2024-09-09T22:54:17.720Z"
   },
   {
    "duration": 10,
    "start_time": "2024-09-09T22:54:17.749Z"
   },
   {
    "duration": 8,
    "start_time": "2024-09-09T22:54:17.760Z"
   },
   {
    "duration": 57,
    "start_time": "2024-09-09T22:54:17.770Z"
   },
   {
    "duration": 16,
    "start_time": "2024-09-09T22:54:17.829Z"
   },
   {
    "duration": 7,
    "start_time": "2024-09-09T22:54:17.847Z"
   },
   {
    "duration": 9,
    "start_time": "2024-09-09T22:54:17.856Z"
   },
   {
    "duration": 43,
    "start_time": "2024-09-09T22:54:17.866Z"
   },
   {
    "duration": 19,
    "start_time": "2024-09-09T22:54:17.912Z"
   },
   {
    "duration": 8,
    "start_time": "2024-09-09T22:54:17.933Z"
   },
   {
    "duration": 7,
    "start_time": "2024-09-09T22:54:17.943Z"
   },
   {
    "duration": 18,
    "start_time": "2024-09-09T22:54:17.952Z"
   },
   {
    "duration": 44,
    "start_time": "2024-09-09T22:54:17.971Z"
   },
   {
    "duration": 12,
    "start_time": "2024-09-09T22:54:18.017Z"
   },
   {
    "duration": 17,
    "start_time": "2024-09-09T22:54:18.031Z"
   },
   {
    "duration": 18,
    "start_time": "2024-09-09T22:54:18.050Z"
   },
   {
    "duration": 44,
    "start_time": "2024-09-09T22:54:18.070Z"
   },
   {
    "duration": 16,
    "start_time": "2024-09-09T22:54:18.116Z"
   },
   {
    "duration": 17,
    "start_time": "2024-09-09T22:54:18.136Z"
   },
   {
    "duration": 27,
    "start_time": "2024-09-09T22:54:18.155Z"
   },
   {
    "duration": 684,
    "start_time": "2024-09-09T22:54:18.208Z"
   },
   {
    "duration": 0,
    "start_time": "2024-09-09T22:54:18.895Z"
   },
   {
    "duration": 0,
    "start_time": "2024-09-09T22:54:18.896Z"
   },
   {
    "duration": 0,
    "start_time": "2024-09-09T22:54:18.908Z"
   },
   {
    "duration": 0,
    "start_time": "2024-09-09T22:54:18.910Z"
   },
   {
    "duration": 0,
    "start_time": "2024-09-09T22:54:18.910Z"
   },
   {
    "duration": 0,
    "start_time": "2024-09-09T22:54:18.912Z"
   },
   {
    "duration": 0,
    "start_time": "2024-09-09T22:54:18.913Z"
   },
   {
    "duration": 0,
    "start_time": "2024-09-09T22:54:18.915Z"
   },
   {
    "duration": 0,
    "start_time": "2024-09-09T22:54:18.916Z"
   },
   {
    "duration": 0,
    "start_time": "2024-09-09T22:54:18.917Z"
   },
   {
    "duration": 0,
    "start_time": "2024-09-09T22:54:18.919Z"
   },
   {
    "duration": 0,
    "start_time": "2024-09-09T22:54:18.921Z"
   },
   {
    "duration": 0,
    "start_time": "2024-09-09T22:54:18.923Z"
   },
   {
    "duration": 20,
    "start_time": "2024-09-09T22:54:55.074Z"
   },
   {
    "duration": 1703,
    "start_time": "2024-09-09T22:55:02.560Z"
   },
   {
    "duration": 154,
    "start_time": "2024-09-09T22:55:04.298Z"
   },
   {
    "duration": 6,
    "start_time": "2024-09-09T22:55:20.547Z"
   },
   {
    "duration": 814,
    "start_time": "2024-09-09T23:00:03.996Z"
   },
   {
    "duration": 8,
    "start_time": "2024-09-09T23:00:04.813Z"
   },
   {
    "duration": 7,
    "start_time": "2024-09-09T23:00:04.822Z"
   },
   {
    "duration": 52,
    "start_time": "2024-09-09T23:00:04.831Z"
   },
   {
    "duration": 98,
    "start_time": "2024-09-09T23:00:04.885Z"
   },
   {
    "duration": 106,
    "start_time": "2024-09-09T23:00:04.985Z"
   },
   {
    "duration": 16,
    "start_time": "2024-09-09T23:00:05.093Z"
   },
   {
    "duration": 8,
    "start_time": "2024-09-09T23:00:05.110Z"
   },
   {
    "duration": 14,
    "start_time": "2024-09-09T23:00:05.120Z"
   },
   {
    "duration": 7,
    "start_time": "2024-09-09T23:00:05.137Z"
   },
   {
    "duration": 2,
    "start_time": "2024-09-09T23:00:05.146Z"
   },
   {
    "duration": 10,
    "start_time": "2024-09-09T23:00:05.150Z"
   },
   {
    "duration": 59,
    "start_time": "2024-09-09T23:00:05.162Z"
   },
   {
    "duration": 9,
    "start_time": "2024-09-09T23:00:05.223Z"
   },
   {
    "duration": 8,
    "start_time": "2024-09-09T23:00:05.233Z"
   },
   {
    "duration": 27,
    "start_time": "2024-09-09T23:00:05.243Z"
   },
   {
    "duration": 45,
    "start_time": "2024-09-09T23:00:05.271Z"
   },
   {
    "duration": 7,
    "start_time": "2024-09-09T23:00:05.318Z"
   },
   {
    "duration": 9,
    "start_time": "2024-09-09T23:00:05.327Z"
   },
   {
    "duration": 16,
    "start_time": "2024-09-09T23:00:05.337Z"
   },
   {
    "duration": 22,
    "start_time": "2024-09-09T23:00:05.355Z"
   },
   {
    "duration": 8,
    "start_time": "2024-09-09T23:00:05.410Z"
   },
   {
    "duration": 7,
    "start_time": "2024-09-09T23:00:05.420Z"
   },
   {
    "duration": 18,
    "start_time": "2024-09-09T23:00:05.429Z"
   },
   {
    "duration": 15,
    "start_time": "2024-09-09T23:00:05.448Z"
   },
   {
    "duration": 13,
    "start_time": "2024-09-09T23:00:05.465Z"
   },
   {
    "duration": 18,
    "start_time": "2024-09-09T23:00:05.509Z"
   },
   {
    "duration": 18,
    "start_time": "2024-09-09T23:00:05.531Z"
   },
   {
    "duration": 14,
    "start_time": "2024-09-09T23:00:05.551Z"
   },
   {
    "duration": 42,
    "start_time": "2024-09-09T23:00:05.568Z"
   },
   {
    "duration": 15,
    "start_time": "2024-09-09T23:00:05.612Z"
   },
   {
    "duration": 28,
    "start_time": "2024-09-09T23:00:05.629Z"
   },
   {
    "duration": 705,
    "start_time": "2024-09-09T23:00:05.659Z"
   },
   {
    "duration": 0,
    "start_time": "2024-09-09T23:00:06.366Z"
   },
   {
    "duration": 0,
    "start_time": "2024-09-09T23:00:06.367Z"
   },
   {
    "duration": 0,
    "start_time": "2024-09-09T23:00:06.368Z"
   },
   {
    "duration": 0,
    "start_time": "2024-09-09T23:00:06.369Z"
   },
   {
    "duration": 0,
    "start_time": "2024-09-09T23:00:06.370Z"
   },
   {
    "duration": 0,
    "start_time": "2024-09-09T23:00:06.372Z"
   },
   {
    "duration": 0,
    "start_time": "2024-09-09T23:00:06.374Z"
   },
   {
    "duration": 0,
    "start_time": "2024-09-09T23:00:06.375Z"
   },
   {
    "duration": 0,
    "start_time": "2024-09-09T23:00:06.377Z"
   },
   {
    "duration": 0,
    "start_time": "2024-09-09T23:00:06.379Z"
   },
   {
    "duration": 0,
    "start_time": "2024-09-09T23:00:06.380Z"
   },
   {
    "duration": 0,
    "start_time": "2024-09-09T23:00:06.381Z"
   },
   {
    "duration": 0,
    "start_time": "2024-09-09T23:00:06.383Z"
   },
   {
    "duration": 848,
    "start_time": "2024-09-09T23:00:16.358Z"
   },
   {
    "duration": 7,
    "start_time": "2024-09-09T23:00:17.212Z"
   },
   {
    "duration": 10,
    "start_time": "2024-09-09T23:00:17.221Z"
   },
   {
    "duration": 47,
    "start_time": "2024-09-09T23:00:17.234Z"
   },
   {
    "duration": 73,
    "start_time": "2024-09-09T23:00:17.283Z"
   },
   {
    "duration": 76,
    "start_time": "2024-09-09T23:00:17.358Z"
   },
   {
    "duration": 15,
    "start_time": "2024-09-09T23:00:17.436Z"
   },
   {
    "duration": 7,
    "start_time": "2024-09-09T23:00:17.453Z"
   },
   {
    "duration": 14,
    "start_time": "2024-09-09T23:00:17.462Z"
   },
   {
    "duration": 32,
    "start_time": "2024-09-09T23:00:17.479Z"
   },
   {
    "duration": 4,
    "start_time": "2024-09-09T23:00:17.513Z"
   },
   {
    "duration": 10,
    "start_time": "2024-09-09T23:00:17.519Z"
   },
   {
    "duration": 21,
    "start_time": "2024-09-09T23:00:17.531Z"
   },
   {
    "duration": 8,
    "start_time": "2024-09-09T23:00:17.553Z"
   },
   {
    "duration": 11,
    "start_time": "2024-09-09T23:00:17.562Z"
   },
   {
    "duration": 62,
    "start_time": "2024-09-09T23:00:17.574Z"
   },
   {
    "duration": 16,
    "start_time": "2024-09-09T23:00:17.638Z"
   },
   {
    "duration": 7,
    "start_time": "2024-09-09T23:00:17.656Z"
   },
   {
    "duration": 11,
    "start_time": "2024-09-09T23:00:17.664Z"
   },
   {
    "duration": 42,
    "start_time": "2024-09-09T23:00:17.676Z"
   },
   {
    "duration": 18,
    "start_time": "2024-09-09T23:00:17.721Z"
   },
   {
    "duration": 9,
    "start_time": "2024-09-09T23:00:17.741Z"
   },
   {
    "duration": 8,
    "start_time": "2024-09-09T23:00:17.752Z"
   },
   {
    "duration": 19,
    "start_time": "2024-09-09T23:00:17.764Z"
   },
   {
    "duration": 36,
    "start_time": "2024-09-09T23:00:17.785Z"
   },
   {
    "duration": 12,
    "start_time": "2024-09-09T23:00:17.825Z"
   },
   {
    "duration": 18,
    "start_time": "2024-09-09T23:00:17.839Z"
   },
   {
    "duration": 21,
    "start_time": "2024-09-09T23:00:17.861Z"
   },
   {
    "duration": 41,
    "start_time": "2024-09-09T23:00:17.884Z"
   },
   {
    "duration": 14,
    "start_time": "2024-09-09T23:00:17.926Z"
   },
   {
    "duration": 15,
    "start_time": "2024-09-09T23:00:17.942Z"
   },
   {
    "duration": 51,
    "start_time": "2024-09-09T23:00:17.959Z"
   },
   {
    "duration": 701,
    "start_time": "2024-09-09T23:00:18.012Z"
   },
   {
    "duration": 0,
    "start_time": "2024-09-09T23:00:18.715Z"
   },
   {
    "duration": 0,
    "start_time": "2024-09-09T23:00:18.716Z"
   },
   {
    "duration": 0,
    "start_time": "2024-09-09T23:00:18.717Z"
   },
   {
    "duration": 0,
    "start_time": "2024-09-09T23:00:18.719Z"
   },
   {
    "duration": 0,
    "start_time": "2024-09-09T23:00:18.721Z"
   },
   {
    "duration": 0,
    "start_time": "2024-09-09T23:00:18.722Z"
   },
   {
    "duration": 0,
    "start_time": "2024-09-09T23:00:18.723Z"
   },
   {
    "duration": 0,
    "start_time": "2024-09-09T23:00:18.724Z"
   },
   {
    "duration": 0,
    "start_time": "2024-09-09T23:00:18.725Z"
   },
   {
    "duration": 0,
    "start_time": "2024-09-09T23:00:18.726Z"
   },
   {
    "duration": 0,
    "start_time": "2024-09-09T23:00:18.727Z"
   },
   {
    "duration": 0,
    "start_time": "2024-09-09T23:00:18.728Z"
   },
   {
    "duration": 0,
    "start_time": "2024-09-09T23:00:18.729Z"
   },
   {
    "duration": 3,
    "start_time": "2024-09-09T23:16:04.470Z"
   },
   {
    "duration": 30,
    "start_time": "2024-09-09T23:16:10.325Z"
   },
   {
    "duration": 3,
    "start_time": "2024-09-09T23:24:38.302Z"
   },
   {
    "duration": 33,
    "start_time": "2024-09-10T00:11:13.727Z"
   },
   {
    "duration": 15,
    "start_time": "2024-09-10T00:12:20.699Z"
   },
   {
    "duration": 27,
    "start_time": "2024-09-10T00:12:29.416Z"
   },
   {
    "duration": 9,
    "start_time": "2024-09-10T00:12:48.181Z"
   },
   {
    "duration": 4,
    "start_time": "2024-09-10T00:13:01.934Z"
   },
   {
    "duration": 33,
    "start_time": "2024-09-10T00:13:11.453Z"
   },
   {
    "duration": 33,
    "start_time": "2024-09-10T00:13:34.372Z"
   },
   {
    "duration": 43,
    "start_time": "2024-09-10T00:14:52.562Z"
   },
   {
    "duration": 34,
    "start_time": "2024-09-10T00:16:30.124Z"
   },
   {
    "duration": 52,
    "start_time": "2024-09-10T00:45:03.460Z"
   },
   {
    "duration": 53,
    "start_time": "2024-09-10T00:45:43.821Z"
   },
   {
    "duration": 56,
    "start_time": "2024-09-10T00:46:45.921Z"
   },
   {
    "duration": 25,
    "start_time": "2024-09-10T00:47:00.006Z"
   },
   {
    "duration": 34,
    "start_time": "2024-09-10T00:47:15.896Z"
   },
   {
    "duration": 2,
    "start_time": "2024-09-10T00:49:29.866Z"
   },
   {
    "duration": 46,
    "start_time": "2024-09-10T00:52:25.480Z"
   },
   {
    "duration": 41,
    "start_time": "2024-09-10T00:52:50.136Z"
   },
   {
    "duration": 40,
    "start_time": "2024-09-10T00:53:14.376Z"
   },
   {
    "duration": 47,
    "start_time": "2024-09-10T00:53:30.146Z"
   },
   {
    "duration": 6,
    "start_time": "2024-09-10T00:58:15.524Z"
   },
   {
    "duration": 5,
    "start_time": "2024-09-10T00:58:54.995Z"
   },
   {
    "duration": 6,
    "start_time": "2024-09-10T00:59:09.105Z"
   },
   {
    "duration": 4,
    "start_time": "2024-09-10T00:59:15.208Z"
   },
   {
    "duration": 3,
    "start_time": "2024-09-10T00:59:29.836Z"
   },
   {
    "duration": 20,
    "start_time": "2024-09-10T01:00:11.459Z"
   },
   {
    "duration": 4,
    "start_time": "2024-09-10T01:01:57.313Z"
   },
   {
    "duration": 133,
    "start_time": "2024-09-10T01:02:16.113Z"
   },
   {
    "duration": 17,
    "start_time": "2024-09-10T01:02:57.509Z"
   },
   {
    "duration": 21,
    "start_time": "2024-09-10T01:03:07.915Z"
   },
   {
    "duration": 20,
    "start_time": "2024-09-10T01:03:35.473Z"
   },
   {
    "duration": 3,
    "start_time": "2024-09-10T01:07:08.808Z"
   },
   {
    "duration": 19,
    "start_time": "2024-09-10T01:07:16.212Z"
   },
   {
    "duration": 3,
    "start_time": "2024-09-10T01:07:27.136Z"
   },
   {
    "duration": 836,
    "start_time": "2024-09-10T01:07:53.975Z"
   },
   {
    "duration": 8,
    "start_time": "2024-09-10T01:07:54.813Z"
   },
   {
    "duration": 6,
    "start_time": "2024-09-10T01:07:54.822Z"
   },
   {
    "duration": 34,
    "start_time": "2024-09-10T01:07:54.831Z"
   },
   {
    "duration": 72,
    "start_time": "2024-09-10T01:07:54.867Z"
   },
   {
    "duration": 75,
    "start_time": "2024-09-10T01:07:54.943Z"
   },
   {
    "duration": 17,
    "start_time": "2024-09-10T01:07:55.020Z"
   },
   {
    "duration": 8,
    "start_time": "2024-09-10T01:07:55.039Z"
   },
   {
    "duration": 15,
    "start_time": "2024-09-10T01:07:55.049Z"
   },
   {
    "duration": 8,
    "start_time": "2024-09-10T01:07:55.067Z"
   },
   {
    "duration": 33,
    "start_time": "2024-09-10T01:07:55.077Z"
   },
   {
    "duration": 11,
    "start_time": "2024-09-10T01:07:55.112Z"
   },
   {
    "duration": 22,
    "start_time": "2024-09-10T01:07:55.124Z"
   },
   {
    "duration": 9,
    "start_time": "2024-09-10T01:07:55.147Z"
   },
   {
    "duration": 7,
    "start_time": "2024-09-10T01:07:55.157Z"
   },
   {
    "duration": 59,
    "start_time": "2024-09-10T01:07:55.166Z"
   },
   {
    "duration": 16,
    "start_time": "2024-09-10T01:07:55.227Z"
   },
   {
    "duration": 8,
    "start_time": "2024-09-10T01:07:55.244Z"
   },
   {
    "duration": 10,
    "start_time": "2024-09-10T01:07:55.254Z"
   },
   {
    "duration": 44,
    "start_time": "2024-09-10T01:07:55.265Z"
   },
   {
    "duration": 20,
    "start_time": "2024-09-10T01:07:55.311Z"
   },
   {
    "duration": 9,
    "start_time": "2024-09-10T01:07:55.332Z"
   },
   {
    "duration": 8,
    "start_time": "2024-09-10T01:07:55.342Z"
   },
   {
    "duration": 24,
    "start_time": "2024-09-10T01:07:55.351Z"
   },
   {
    "duration": 44,
    "start_time": "2024-09-10T01:07:55.378Z"
   },
   {
    "duration": 12,
    "start_time": "2024-09-10T01:07:55.424Z"
   },
   {
    "duration": 19,
    "start_time": "2024-09-10T01:07:55.438Z"
   },
   {
    "duration": 19,
    "start_time": "2024-09-10T01:07:55.462Z"
   },
   {
    "duration": 40,
    "start_time": "2024-09-10T01:07:55.483Z"
   },
   {
    "duration": 28,
    "start_time": "2024-09-10T01:07:55.526Z"
   },
   {
    "duration": 27,
    "start_time": "2024-09-10T01:07:55.557Z"
   },
   {
    "duration": 53,
    "start_time": "2024-09-10T01:07:55.586Z"
   },
   {
    "duration": 34,
    "start_time": "2024-09-10T01:07:55.640Z"
   },
   {
    "duration": 4,
    "start_time": "2024-09-10T01:07:55.676Z"
   },
   {
    "duration": 35,
    "start_time": "2024-09-10T01:07:55.682Z"
   },
   {
    "duration": 1814,
    "start_time": "2024-09-10T01:07:55.718Z"
   },
   {
    "duration": 157,
    "start_time": "2024-09-10T01:07:57.534Z"
   },
   {
    "duration": 5,
    "start_time": "2024-09-10T01:07:57.693Z"
   },
   {
    "duration": 880,
    "start_time": "2024-09-10T01:12:33.724Z"
   },
   {
    "duration": 8,
    "start_time": "2024-09-10T01:12:34.606Z"
   },
   {
    "duration": 6,
    "start_time": "2024-09-10T01:12:34.616Z"
   },
   {
    "duration": 50,
    "start_time": "2024-09-10T01:12:34.623Z"
   },
   {
    "duration": 90,
    "start_time": "2024-09-10T01:12:34.676Z"
   },
   {
    "duration": 108,
    "start_time": "2024-09-10T01:12:34.768Z"
   },
   {
    "duration": 18,
    "start_time": "2024-09-10T01:12:34.877Z"
   },
   {
    "duration": 12,
    "start_time": "2024-09-10T01:12:34.897Z"
   },
   {
    "duration": 14,
    "start_time": "2024-09-10T01:12:34.911Z"
   },
   {
    "duration": 9,
    "start_time": "2024-09-10T01:12:34.926Z"
   },
   {
    "duration": 3,
    "start_time": "2024-09-10T01:12:34.937Z"
   },
   {
    "duration": 11,
    "start_time": "2024-09-10T01:12:34.941Z"
   },
   {
    "duration": 58,
    "start_time": "2024-09-10T01:12:34.953Z"
   },
   {
    "duration": 9,
    "start_time": "2024-09-10T01:12:35.016Z"
   },
   {
    "duration": 9,
    "start_time": "2024-09-10T01:12:35.026Z"
   },
   {
    "duration": 27,
    "start_time": "2024-09-10T01:12:35.036Z"
   },
   {
    "duration": 43,
    "start_time": "2024-09-10T01:12:35.067Z"
   },
   {
    "duration": 8,
    "start_time": "2024-09-10T01:12:35.112Z"
   },
   {
    "duration": 11,
    "start_time": "2024-09-10T01:12:35.122Z"
   },
   {
    "duration": 14,
    "start_time": "2024-09-10T01:12:35.135Z"
   },
   {
    "duration": 23,
    "start_time": "2024-09-10T01:12:35.151Z"
   },
   {
    "duration": 40,
    "start_time": "2024-09-10T01:12:35.176Z"
   },
   {
    "duration": 7,
    "start_time": "2024-09-10T01:12:35.218Z"
   },
   {
    "duration": 17,
    "start_time": "2024-09-10T01:12:35.227Z"
   },
   {
    "duration": 15,
    "start_time": "2024-09-10T01:12:35.246Z"
   },
   {
    "duration": 14,
    "start_time": "2024-09-10T01:12:35.263Z"
   },
   {
    "duration": 20,
    "start_time": "2024-09-10T01:12:35.310Z"
   },
   {
    "duration": 19,
    "start_time": "2024-09-10T01:12:35.332Z"
   },
   {
    "duration": 17,
    "start_time": "2024-09-10T01:12:35.354Z"
   },
   {
    "duration": 45,
    "start_time": "2024-09-10T01:12:35.373Z"
   },
   {
    "duration": 15,
    "start_time": "2024-09-10T01:12:35.420Z"
   },
   {
    "duration": 33,
    "start_time": "2024-09-10T01:12:35.436Z"
   },
   {
    "duration": 59,
    "start_time": "2024-09-10T01:12:35.471Z"
   },
   {
    "duration": 4,
    "start_time": "2024-09-10T01:12:35.531Z"
   },
   {
    "duration": 19,
    "start_time": "2024-09-10T01:12:35.536Z"
   },
   {
    "duration": 1844,
    "start_time": "2024-09-10T01:12:35.556Z"
   },
   {
    "duration": 157,
    "start_time": "2024-09-10T01:12:37.402Z"
   },
   {
    "duration": 5,
    "start_time": "2024-09-10T01:12:37.561Z"
   },
   {
    "duration": 896,
    "start_time": "2024-09-10T01:15:40.014Z"
   },
   {
    "duration": 8,
    "start_time": "2024-09-10T01:15:40.912Z"
   },
   {
    "duration": 7,
    "start_time": "2024-09-10T01:15:40.923Z"
   },
   {
    "duration": 36,
    "start_time": "2024-09-10T01:15:40.932Z"
   },
   {
    "duration": 77,
    "start_time": "2024-09-10T01:15:40.969Z"
   },
   {
    "duration": 74,
    "start_time": "2024-09-10T01:15:41.048Z"
   },
   {
    "duration": 18,
    "start_time": "2024-09-10T01:15:41.123Z"
   },
   {
    "duration": 8,
    "start_time": "2024-09-10T01:15:41.142Z"
   },
   {
    "duration": 13,
    "start_time": "2024-09-10T01:15:41.151Z"
   },
   {
    "duration": 9,
    "start_time": "2024-09-10T01:15:41.165Z"
   },
   {
    "duration": 4,
    "start_time": "2024-09-10T01:15:41.175Z"
   },
   {
    "duration": 10,
    "start_time": "2024-09-10T01:15:41.210Z"
   },
   {
    "duration": 21,
    "start_time": "2024-09-10T01:15:41.225Z"
   },
   {
    "duration": 8,
    "start_time": "2024-09-10T01:15:41.247Z"
   },
   {
    "duration": 8,
    "start_time": "2024-09-10T01:15:41.257Z"
   },
   {
    "duration": 61,
    "start_time": "2024-09-10T01:15:41.267Z"
   },
   {
    "duration": 17,
    "start_time": "2024-09-10T01:15:41.329Z"
   },
   {
    "duration": 7,
    "start_time": "2024-09-10T01:15:41.347Z"
   },
   {
    "duration": 11,
    "start_time": "2024-09-10T01:15:41.356Z"
   },
   {
    "duration": 40,
    "start_time": "2024-09-10T01:15:41.369Z"
   },
   {
    "duration": 19,
    "start_time": "2024-09-10T01:15:41.411Z"
   },
   {
    "duration": 8,
    "start_time": "2024-09-10T01:15:41.432Z"
   },
   {
    "duration": 7,
    "start_time": "2024-09-10T01:15:41.443Z"
   },
   {
    "duration": 17,
    "start_time": "2024-09-10T01:15:41.451Z"
   },
   {
    "duration": 43,
    "start_time": "2024-09-10T01:15:41.470Z"
   },
   {
    "duration": 14,
    "start_time": "2024-09-10T01:15:41.514Z"
   },
   {
    "duration": 18,
    "start_time": "2024-09-10T01:15:41.529Z"
   },
   {
    "duration": 21,
    "start_time": "2024-09-10T01:15:41.549Z"
   },
   {
    "duration": 39,
    "start_time": "2024-09-10T01:15:41.572Z"
   },
   {
    "duration": 16,
    "start_time": "2024-09-10T01:15:41.613Z"
   },
   {
    "duration": 15,
    "start_time": "2024-09-10T01:15:41.630Z"
   },
   {
    "duration": 32,
    "start_time": "2024-09-10T01:15:41.647Z"
   },
   {
    "duration": 37,
    "start_time": "2024-09-10T01:15:41.708Z"
   },
   {
    "duration": 3,
    "start_time": "2024-09-10T01:15:41.747Z"
   },
   {
    "duration": 18,
    "start_time": "2024-09-10T01:15:41.752Z"
   },
   {
    "duration": 1804,
    "start_time": "2024-09-10T01:15:41.772Z"
   },
   {
    "duration": 155,
    "start_time": "2024-09-10T01:15:43.578Z"
   },
   {
    "duration": 6,
    "start_time": "2024-09-10T01:15:43.735Z"
   },
   {
    "duration": 935,
    "start_time": "2024-09-10T01:20:30.765Z"
   },
   {
    "duration": 13,
    "start_time": "2024-09-10T01:20:31.704Z"
   },
   {
    "duration": 7,
    "start_time": "2024-09-10T01:20:31.720Z"
   },
   {
    "duration": 69,
    "start_time": "2024-09-10T01:20:31.730Z"
   },
   {
    "duration": 89,
    "start_time": "2024-09-10T01:20:31.801Z"
   },
   {
    "duration": 117,
    "start_time": "2024-09-10T01:20:31.892Z"
   },
   {
    "duration": 19,
    "start_time": "2024-09-10T01:20:32.011Z"
   },
   {
    "duration": 8,
    "start_time": "2024-09-10T01:20:32.032Z"
   },
   {
    "duration": 15,
    "start_time": "2024-09-10T01:20:32.042Z"
   },
   {
    "duration": 12,
    "start_time": "2024-09-10T01:20:32.061Z"
   },
   {
    "duration": 4,
    "start_time": "2024-09-10T01:20:32.074Z"
   },
   {
    "duration": 11,
    "start_time": "2024-09-10T01:20:32.110Z"
   },
   {
    "duration": 24,
    "start_time": "2024-09-10T01:20:32.123Z"
   },
   {
    "duration": 12,
    "start_time": "2024-09-10T01:20:32.149Z"
   },
   {
    "duration": 9,
    "start_time": "2024-09-10T01:20:32.163Z"
   },
   {
    "duration": 65,
    "start_time": "2024-09-10T01:20:32.174Z"
   },
   {
    "duration": 24,
    "start_time": "2024-09-10T01:20:32.243Z"
   },
   {
    "duration": 10,
    "start_time": "2024-09-10T01:20:32.270Z"
   },
   {
    "duration": 35,
    "start_time": "2024-09-10T01:20:32.282Z"
   },
   {
    "duration": 15,
    "start_time": "2024-09-10T01:20:32.319Z"
   },
   {
    "duration": 25,
    "start_time": "2024-09-10T01:20:32.336Z"
   },
   {
    "duration": 11,
    "start_time": "2024-09-10T01:20:32.363Z"
   },
   {
    "duration": 40,
    "start_time": "2024-09-10T01:20:32.376Z"
   },
   {
    "duration": 25,
    "start_time": "2024-09-10T01:20:32.418Z"
   },
   {
    "duration": 17,
    "start_time": "2024-09-10T01:20:32.444Z"
   },
   {
    "duration": 15,
    "start_time": "2024-09-10T01:20:32.463Z"
   },
   {
    "duration": 45,
    "start_time": "2024-09-10T01:20:32.479Z"
   },
   {
    "duration": 20,
    "start_time": "2024-09-10T01:20:32.528Z"
   },
   {
    "duration": 21,
    "start_time": "2024-09-10T01:20:32.550Z"
   },
   {
    "duration": 47,
    "start_time": "2024-09-10T01:20:32.573Z"
   },
   {
    "duration": 19,
    "start_time": "2024-09-10T01:20:32.622Z"
   },
   {
    "duration": 68,
    "start_time": "2024-09-10T01:20:32.644Z"
   },
   {
    "duration": 56,
    "start_time": "2024-09-10T01:20:32.716Z"
   },
   {
    "duration": 3,
    "start_time": "2024-09-10T01:20:32.774Z"
   },
   {
    "duration": 35,
    "start_time": "2024-09-10T01:20:32.779Z"
   },
   {
    "duration": 1868,
    "start_time": "2024-09-10T01:20:32.816Z"
   },
   {
    "duration": 165,
    "start_time": "2024-09-10T01:20:34.686Z"
   },
   {
    "duration": 8,
    "start_time": "2024-09-10T01:20:34.852Z"
   },
   {
    "duration": 875,
    "start_time": "2024-09-10T01:25:16.758Z"
   },
   {
    "duration": 9,
    "start_time": "2024-09-10T01:25:17.635Z"
   },
   {
    "duration": 7,
    "start_time": "2024-09-10T01:25:17.645Z"
   },
   {
    "duration": 50,
    "start_time": "2024-09-10T01:25:17.654Z"
   },
   {
    "duration": 89,
    "start_time": "2024-09-10T01:25:17.705Z"
   },
   {
    "duration": 111,
    "start_time": "2024-09-10T01:25:17.796Z"
   },
   {
    "duration": 19,
    "start_time": "2024-09-10T01:25:17.908Z"
   },
   {
    "duration": 7,
    "start_time": "2024-09-10T01:25:17.929Z"
   },
   {
    "duration": 14,
    "start_time": "2024-09-10T01:25:17.938Z"
   },
   {
    "duration": 7,
    "start_time": "2024-09-10T01:25:17.956Z"
   },
   {
    "duration": 4,
    "start_time": "2024-09-10T01:25:17.965Z"
   },
   {
    "duration": 46,
    "start_time": "2024-09-10T01:25:17.970Z"
   },
   {
    "duration": 22,
    "start_time": "2024-09-10T01:25:18.017Z"
   },
   {
    "duration": 9,
    "start_time": "2024-09-10T01:25:18.041Z"
   },
   {
    "duration": 7,
    "start_time": "2024-09-10T01:25:18.052Z"
   },
   {
    "duration": 54,
    "start_time": "2024-09-10T01:25:18.061Z"
   },
   {
    "duration": 17,
    "start_time": "2024-09-10T01:25:18.117Z"
   },
   {
    "duration": 8,
    "start_time": "2024-09-10T01:25:18.135Z"
   },
   {
    "duration": 9,
    "start_time": "2024-09-10T01:25:18.145Z"
   },
   {
    "duration": 14,
    "start_time": "2024-09-10T01:25:18.156Z"
   },
   {
    "duration": 53,
    "start_time": "2024-09-10T01:25:18.172Z"
   },
   {
    "duration": 8,
    "start_time": "2024-09-10T01:25:18.227Z"
   },
   {
    "duration": 8,
    "start_time": "2024-09-10T01:25:18.236Z"
   },
   {
    "duration": 17,
    "start_time": "2024-09-10T01:25:18.246Z"
   },
   {
    "duration": 46,
    "start_time": "2024-09-10T01:25:18.264Z"
   },
   {
    "duration": 13,
    "start_time": "2024-09-10T01:25:18.311Z"
   },
   {
    "duration": 19,
    "start_time": "2024-09-10T01:25:18.326Z"
   },
   {
    "duration": 18,
    "start_time": "2024-09-10T01:25:18.349Z"
   },
   {
    "duration": 45,
    "start_time": "2024-09-10T01:25:18.369Z"
   },
   {
    "duration": 16,
    "start_time": "2024-09-10T01:25:18.417Z"
   },
   {
    "duration": 16,
    "start_time": "2024-09-10T01:25:18.434Z"
   },
   {
    "duration": 33,
    "start_time": "2024-09-10T01:25:18.452Z"
   },
   {
    "duration": 35,
    "start_time": "2024-09-10T01:25:18.509Z"
   },
   {
    "duration": 3,
    "start_time": "2024-09-10T01:25:18.546Z"
   },
   {
    "duration": 17,
    "start_time": "2024-09-10T01:25:18.550Z"
   },
   {
    "duration": 1840,
    "start_time": "2024-09-10T01:25:18.571Z"
   },
   {
    "duration": 157,
    "start_time": "2024-09-10T01:25:20.412Z"
   },
   {
    "duration": 5,
    "start_time": "2024-09-10T01:25:20.571Z"
   },
   {
    "duration": 841,
    "start_time": "2024-09-10T01:27:25.770Z"
   },
   {
    "duration": 8,
    "start_time": "2024-09-10T01:27:26.614Z"
   },
   {
    "duration": 5,
    "start_time": "2024-09-10T01:27:26.624Z"
   },
   {
    "duration": 39,
    "start_time": "2024-09-10T01:27:26.630Z"
   },
   {
    "duration": 79,
    "start_time": "2024-09-10T01:27:26.672Z"
   },
   {
    "duration": 77,
    "start_time": "2024-09-10T01:27:26.753Z"
   },
   {
    "duration": 18,
    "start_time": "2024-09-10T01:27:26.832Z"
   },
   {
    "duration": 9,
    "start_time": "2024-09-10T01:27:26.851Z"
   },
   {
    "duration": 15,
    "start_time": "2024-09-10T01:27:26.862Z"
   },
   {
    "duration": 33,
    "start_time": "2024-09-10T01:27:26.878Z"
   },
   {
    "duration": 4,
    "start_time": "2024-09-10T01:27:26.913Z"
   },
   {
    "duration": 11,
    "start_time": "2024-09-10T01:27:26.918Z"
   },
   {
    "duration": 26,
    "start_time": "2024-09-10T01:27:26.931Z"
   },
   {
    "duration": 11,
    "start_time": "2024-09-10T01:27:26.960Z"
   },
   {
    "duration": 43,
    "start_time": "2024-09-10T01:27:26.973Z"
   },
   {
    "duration": 27,
    "start_time": "2024-09-10T01:27:27.018Z"
   },
   {
    "duration": 20,
    "start_time": "2024-09-10T01:27:27.047Z"
   },
   {
    "duration": 9,
    "start_time": "2024-09-10T01:27:27.069Z"
   },
   {
    "duration": 12,
    "start_time": "2024-09-10T01:27:27.109Z"
   },
   {
    "duration": 15,
    "start_time": "2024-09-10T01:27:27.124Z"
   },
   {
    "duration": 26,
    "start_time": "2024-09-10T01:27:27.142Z"
   },
   {
    "duration": 12,
    "start_time": "2024-09-10T01:27:27.171Z"
   },
   {
    "duration": 11,
    "start_time": "2024-09-10T01:27:27.210Z"
   },
   {
    "duration": 25,
    "start_time": "2024-09-10T01:27:27.222Z"
   },
   {
    "duration": 19,
    "start_time": "2024-09-10T01:27:27.250Z"
   },
   {
    "duration": 41,
    "start_time": "2024-09-10T01:27:27.271Z"
   },
   {
    "duration": 33,
    "start_time": "2024-09-10T01:27:27.317Z"
   },
   {
    "duration": 23,
    "start_time": "2024-09-10T01:27:27.352Z"
   },
   {
    "duration": 15,
    "start_time": "2024-09-10T01:27:27.377Z"
   },
   {
    "duration": 19,
    "start_time": "2024-09-10T01:27:27.409Z"
   },
   {
    "duration": 19,
    "start_time": "2024-09-10T01:27:27.430Z"
   },
   {
    "duration": 70,
    "start_time": "2024-09-10T01:27:27.451Z"
   },
   {
    "duration": 35,
    "start_time": "2024-09-10T01:27:27.524Z"
   },
   {
    "duration": 2,
    "start_time": "2024-09-10T01:27:27.562Z"
   },
   {
    "duration": 21,
    "start_time": "2024-09-10T01:27:27.566Z"
   },
   {
    "duration": 1854,
    "start_time": "2024-09-10T01:27:27.613Z"
   },
   {
    "duration": 173,
    "start_time": "2024-09-10T01:27:29.469Z"
   },
   {
    "duration": 6,
    "start_time": "2024-09-10T01:27:29.644Z"
   },
   {
    "duration": 869,
    "start_time": "2024-09-10T01:32:24.062Z"
   },
   {
    "duration": 9,
    "start_time": "2024-09-10T01:32:24.933Z"
   },
   {
    "duration": 6,
    "start_time": "2024-09-10T01:32:24.944Z"
   },
   {
    "duration": 50,
    "start_time": "2024-09-10T01:32:24.953Z"
   },
   {
    "duration": 107,
    "start_time": "2024-09-10T01:32:25.006Z"
   },
   {
    "duration": 110,
    "start_time": "2024-09-10T01:32:25.115Z"
   },
   {
    "duration": 22,
    "start_time": "2024-09-10T01:32:25.226Z"
   },
   {
    "duration": 11,
    "start_time": "2024-09-10T01:32:25.250Z"
   },
   {
    "duration": 19,
    "start_time": "2024-09-10T01:32:25.263Z"
   },
   {
    "duration": 10,
    "start_time": "2024-09-10T01:32:25.308Z"
   },
   {
    "duration": 4,
    "start_time": "2024-09-10T01:32:25.320Z"
   },
   {
    "duration": 15,
    "start_time": "2024-09-10T01:32:25.327Z"
   },
   {
    "duration": 31,
    "start_time": "2024-09-10T01:32:25.344Z"
   },
   {
    "duration": 36,
    "start_time": "2024-09-10T01:32:25.378Z"
   },
   {
    "duration": 9,
    "start_time": "2024-09-10T01:32:25.417Z"
   },
   {
    "duration": 38,
    "start_time": "2024-09-10T01:32:25.428Z"
   },
   {
    "duration": 41,
    "start_time": "2024-09-10T01:32:25.468Z"
   },
   {
    "duration": 7,
    "start_time": "2024-09-10T01:32:25.512Z"
   },
   {
    "duration": 10,
    "start_time": "2024-09-10T01:32:25.521Z"
   },
   {
    "duration": 15,
    "start_time": "2024-09-10T01:32:25.533Z"
   },
   {
    "duration": 21,
    "start_time": "2024-09-10T01:32:25.550Z"
   },
   {
    "duration": 41,
    "start_time": "2024-09-10T01:32:25.574Z"
   },
   {
    "duration": 9,
    "start_time": "2024-09-10T01:32:25.617Z"
   },
   {
    "duration": 26,
    "start_time": "2024-09-10T01:32:25.628Z"
   },
   {
    "duration": 17,
    "start_time": "2024-09-10T01:32:25.656Z"
   },
   {
    "duration": 44,
    "start_time": "2024-09-10T01:32:25.675Z"
   },
   {
    "duration": 21,
    "start_time": "2024-09-10T01:32:25.722Z"
   },
   {
    "duration": 21,
    "start_time": "2024-09-10T01:32:25.748Z"
   },
   {
    "duration": 51,
    "start_time": "2024-09-10T01:32:25.771Z"
   },
   {
    "duration": 17,
    "start_time": "2024-09-10T01:32:25.824Z"
   },
   {
    "duration": 16,
    "start_time": "2024-09-10T01:32:25.843Z"
   },
   {
    "duration": 63,
    "start_time": "2024-09-10T01:32:25.861Z"
   },
   {
    "duration": 51,
    "start_time": "2024-09-10T01:32:25.928Z"
   },
   {
    "duration": 4,
    "start_time": "2024-09-10T01:32:25.981Z"
   },
   {
    "duration": 46,
    "start_time": "2024-09-10T01:32:25.987Z"
   },
   {
    "duration": 2006,
    "start_time": "2024-09-10T01:32:26.035Z"
   },
   {
    "duration": 168,
    "start_time": "2024-09-10T01:32:28.043Z"
   },
   {
    "duration": 6,
    "start_time": "2024-09-10T01:32:28.214Z"
   },
   {
    "duration": 167,
    "start_time": "2024-09-10T01:38:34.661Z"
   },
   {
    "duration": 18,
    "start_time": "2024-09-10T01:38:55.564Z"
   },
   {
    "duration": 17,
    "start_time": "2024-09-10T01:39:07.151Z"
   },
   {
    "duration": 850,
    "start_time": "2024-09-10T01:39:18.766Z"
   },
   {
    "duration": 8,
    "start_time": "2024-09-10T01:39:19.619Z"
   },
   {
    "duration": 7,
    "start_time": "2024-09-10T01:39:19.628Z"
   },
   {
    "duration": 69,
    "start_time": "2024-09-10T01:39:19.637Z"
   },
   {
    "duration": 111,
    "start_time": "2024-09-10T01:39:19.707Z"
   },
   {
    "duration": 128,
    "start_time": "2024-09-10T01:39:19.820Z"
   },
   {
    "duration": 21,
    "start_time": "2024-09-10T01:39:19.949Z"
   },
   {
    "duration": 10,
    "start_time": "2024-09-10T01:39:19.973Z"
   },
   {
    "duration": 35,
    "start_time": "2024-09-10T01:39:19.985Z"
   },
   {
    "duration": 10,
    "start_time": "2024-09-10T01:39:20.025Z"
   },
   {
    "duration": 4,
    "start_time": "2024-09-10T01:39:20.037Z"
   },
   {
    "duration": 16,
    "start_time": "2024-09-10T01:39:20.043Z"
   },
   {
    "duration": 52,
    "start_time": "2024-09-10T01:39:20.060Z"
   },
   {
    "duration": 9,
    "start_time": "2024-09-10T01:39:20.115Z"
   },
   {
    "duration": 7,
    "start_time": "2024-09-10T01:39:20.125Z"
   },
   {
    "duration": 37,
    "start_time": "2024-09-10T01:39:20.134Z"
   },
   {
    "duration": 44,
    "start_time": "2024-09-10T01:39:20.173Z"
   },
   {
    "duration": 8,
    "start_time": "2024-09-10T01:39:20.219Z"
   },
   {
    "duration": 10,
    "start_time": "2024-09-10T01:39:20.229Z"
   },
   {
    "duration": 15,
    "start_time": "2024-09-10T01:39:20.240Z"
   },
   {
    "duration": 22,
    "start_time": "2024-09-10T01:39:20.257Z"
   },
   {
    "duration": 10,
    "start_time": "2024-09-10T01:39:20.310Z"
   },
   {
    "duration": 10,
    "start_time": "2024-09-10T01:39:20.322Z"
   },
   {
    "duration": 25,
    "start_time": "2024-09-10T01:39:20.333Z"
   },
   {
    "duration": 18,
    "start_time": "2024-09-10T01:39:20.360Z"
   },
   {
    "duration": 16,
    "start_time": "2024-09-10T01:39:20.410Z"
   },
   {
    "duration": 24,
    "start_time": "2024-09-10T01:39:20.428Z"
   },
   {
    "duration": 18,
    "start_time": "2024-09-10T01:39:20.456Z"
   },
   {
    "duration": 45,
    "start_time": "2024-09-10T01:39:20.476Z"
   },
   {
    "duration": 18,
    "start_time": "2024-09-10T01:39:20.526Z"
   },
   {
    "duration": 19,
    "start_time": "2024-09-10T01:39:20.546Z"
   },
   {
    "duration": 49,
    "start_time": "2024-09-10T01:39:20.566Z"
   },
   {
    "duration": 41,
    "start_time": "2024-09-10T01:39:20.618Z"
   },
   {
    "duration": 4,
    "start_time": "2024-09-10T01:39:20.661Z"
   },
   {
    "duration": 18,
    "start_time": "2024-09-10T01:39:20.667Z"
   },
   {
    "duration": 1843,
    "start_time": "2024-09-10T01:39:20.687Z"
   },
   {
    "duration": 155,
    "start_time": "2024-09-10T01:39:22.532Z"
   },
   {
    "duration": 5,
    "start_time": "2024-09-10T01:39:22.688Z"
   },
   {
    "duration": 839,
    "start_time": "2024-09-10T01:40:13.780Z"
   },
   {
    "duration": 8,
    "start_time": "2024-09-10T01:40:14.621Z"
   },
   {
    "duration": 6,
    "start_time": "2024-09-10T01:40:14.631Z"
   },
   {
    "duration": 48,
    "start_time": "2024-09-10T01:40:14.639Z"
   },
   {
    "duration": 70,
    "start_time": "2024-09-10T01:40:14.689Z"
   },
   {
    "duration": 93,
    "start_time": "2024-09-10T01:40:14.760Z"
   },
   {
    "duration": 18,
    "start_time": "2024-09-10T01:40:14.857Z"
   },
   {
    "duration": 10,
    "start_time": "2024-09-10T01:40:14.877Z"
   },
   {
    "duration": 29,
    "start_time": "2024-09-10T01:40:14.889Z"
   },
   {
    "duration": 11,
    "start_time": "2024-09-10T01:40:14.921Z"
   },
   {
    "duration": 3,
    "start_time": "2024-09-10T01:40:14.934Z"
   },
   {
    "duration": 13,
    "start_time": "2024-09-10T01:40:14.939Z"
   },
   {
    "duration": 61,
    "start_time": "2024-09-10T01:40:14.954Z"
   },
   {
    "duration": 13,
    "start_time": "2024-09-10T01:40:15.018Z"
   },
   {
    "duration": 9,
    "start_time": "2024-09-10T01:40:15.034Z"
   },
   {
    "duration": 26,
    "start_time": "2024-09-10T01:40:15.046Z"
   },
   {
    "duration": 37,
    "start_time": "2024-09-10T01:40:15.075Z"
   },
   {
    "duration": 8,
    "start_time": "2024-09-10T01:40:15.114Z"
   },
   {
    "duration": 13,
    "start_time": "2024-09-10T01:40:15.124Z"
   },
   {
    "duration": 18,
    "start_time": "2024-09-10T01:40:15.139Z"
   },
   {
    "duration": 53,
    "start_time": "2024-09-10T01:40:15.159Z"
   },
   {
    "duration": 11,
    "start_time": "2024-09-10T01:40:15.215Z"
   },
   {
    "duration": 9,
    "start_time": "2024-09-10T01:40:15.228Z"
   },
   {
    "duration": 25,
    "start_time": "2024-09-10T01:40:15.238Z"
   },
   {
    "duration": 45,
    "start_time": "2024-09-10T01:40:15.265Z"
   },
   {
    "duration": 16,
    "start_time": "2024-09-10T01:40:15.312Z"
   },
   {
    "duration": 23,
    "start_time": "2024-09-10T01:40:15.330Z"
   },
   {
    "duration": 23,
    "start_time": "2024-09-10T01:40:15.358Z"
   },
   {
    "duration": 17,
    "start_time": "2024-09-10T01:40:15.408Z"
   },
   {
    "duration": 15,
    "start_time": "2024-09-10T01:40:15.427Z"
   },
   {
    "duration": 17,
    "start_time": "2024-09-10T01:40:15.444Z"
   },
   {
    "duration": 73,
    "start_time": "2024-09-10T01:40:15.463Z"
   },
   {
    "duration": 46,
    "start_time": "2024-09-10T01:40:15.538Z"
   },
   {
    "duration": 3,
    "start_time": "2024-09-10T01:40:15.586Z"
   },
   {
    "duration": 32,
    "start_time": "2024-09-10T01:40:15.591Z"
   },
   {
    "duration": 2395,
    "start_time": "2024-09-10T01:40:15.625Z"
   },
   {
    "duration": 171,
    "start_time": "2024-09-10T01:40:18.022Z"
   },
   {
    "duration": 15,
    "start_time": "2024-09-10T01:40:18.195Z"
   },
   {
    "duration": 940,
    "start_time": "2024-09-10T01:46:54.073Z"
   },
   {
    "duration": 12,
    "start_time": "2024-09-10T01:46:55.015Z"
   },
   {
    "duration": 8,
    "start_time": "2024-09-10T01:46:55.032Z"
   },
   {
    "duration": 89,
    "start_time": "2024-09-10T01:46:55.043Z"
   },
   {
    "duration": 90,
    "start_time": "2024-09-10T01:46:55.134Z"
   },
   {
    "duration": 107,
    "start_time": "2024-09-10T01:46:55.227Z"
   },
   {
    "duration": 17,
    "start_time": "2024-09-10T01:46:55.336Z"
   },
   {
    "duration": 8,
    "start_time": "2024-09-10T01:46:55.355Z"
   },
   {
    "duration": 16,
    "start_time": "2024-09-10T01:46:55.365Z"
   },
   {
    "duration": 8,
    "start_time": "2024-09-10T01:46:55.408Z"
   },
   {
    "duration": 3,
    "start_time": "2024-09-10T01:46:55.419Z"
   },
   {
    "duration": 12,
    "start_time": "2024-09-10T01:46:55.424Z"
   },
   {
    "duration": 28,
    "start_time": "2024-09-10T01:46:55.439Z"
   },
   {
    "duration": 40,
    "start_time": "2024-09-10T01:46:55.469Z"
   },
   {
    "duration": 9,
    "start_time": "2024-09-10T01:46:55.512Z"
   },
   {
    "duration": 38,
    "start_time": "2024-09-10T01:46:55.522Z"
   },
   {
    "duration": 47,
    "start_time": "2024-09-10T01:46:55.562Z"
   },
   {
    "duration": 10,
    "start_time": "2024-09-10T01:46:55.611Z"
   },
   {
    "duration": 10,
    "start_time": "2024-09-10T01:46:55.623Z"
   },
   {
    "duration": 15,
    "start_time": "2024-09-10T01:46:55.636Z"
   },
   {
    "duration": 23,
    "start_time": "2024-09-10T01:46:55.653Z"
   },
   {
    "duration": 39,
    "start_time": "2024-09-10T01:46:55.678Z"
   },
   {
    "duration": 9,
    "start_time": "2024-09-10T01:46:55.719Z"
   },
   {
    "duration": 17,
    "start_time": "2024-09-10T01:46:55.730Z"
   },
   {
    "duration": 16,
    "start_time": "2024-09-10T01:46:55.749Z"
   },
   {
    "duration": 48,
    "start_time": "2024-09-10T01:46:55.767Z"
   },
   {
    "duration": 20,
    "start_time": "2024-09-10T01:46:55.818Z"
   },
   {
    "duration": 20,
    "start_time": "2024-09-10T01:46:55.842Z"
   },
   {
    "duration": 17,
    "start_time": "2024-09-10T01:46:55.864Z"
   },
   {
    "duration": 54,
    "start_time": "2024-09-10T01:46:55.883Z"
   },
   {
    "duration": 17,
    "start_time": "2024-09-10T01:46:55.938Z"
   },
   {
    "duration": 52,
    "start_time": "2024-09-10T01:46:55.958Z"
   },
   {
    "duration": 51,
    "start_time": "2024-09-10T01:46:56.012Z"
   },
   {
    "duration": 4,
    "start_time": "2024-09-10T01:46:56.066Z"
   },
   {
    "duration": 45,
    "start_time": "2024-09-10T01:46:56.072Z"
   },
   {
    "duration": 1915,
    "start_time": "2024-09-10T01:46:56.119Z"
   },
   {
    "duration": 188,
    "start_time": "2024-09-10T01:46:58.037Z"
   },
   {
    "duration": 5,
    "start_time": "2024-09-10T01:46:58.227Z"
   },
   {
    "duration": 906,
    "start_time": "2024-09-10T01:52:39.297Z"
   },
   {
    "duration": 10,
    "start_time": "2024-09-10T01:52:40.205Z"
   },
   {
    "duration": 6,
    "start_time": "2024-09-10T01:52:40.217Z"
   },
   {
    "duration": 51,
    "start_time": "2024-09-10T01:52:40.226Z"
   },
   {
    "duration": 98,
    "start_time": "2024-09-10T01:52:40.279Z"
   },
   {
    "duration": 110,
    "start_time": "2024-09-10T01:52:40.379Z"
   },
   {
    "duration": 21,
    "start_time": "2024-09-10T01:52:40.491Z"
   },
   {
    "duration": 11,
    "start_time": "2024-09-10T01:52:40.514Z"
   },
   {
    "duration": 21,
    "start_time": "2024-09-10T01:52:40.526Z"
   },
   {
    "duration": 8,
    "start_time": "2024-09-10T01:52:40.550Z"
   },
   {
    "duration": 5,
    "start_time": "2024-09-10T01:52:40.559Z"
   },
   {
    "duration": 13,
    "start_time": "2024-09-10T01:52:40.566Z"
   },
   {
    "duration": 22,
    "start_time": "2024-09-10T01:52:40.609Z"
   },
   {
    "duration": 10,
    "start_time": "2024-09-10T01:52:40.633Z"
   },
   {
    "duration": 10,
    "start_time": "2024-09-10T01:52:40.645Z"
   },
   {
    "duration": 58,
    "start_time": "2024-09-10T01:52:40.657Z"
   },
   {
    "duration": 23,
    "start_time": "2024-09-10T01:52:40.718Z"
   },
   {
    "duration": 7,
    "start_time": "2024-09-10T01:52:40.744Z"
   },
   {
    "duration": 15,
    "start_time": "2024-09-10T01:52:40.755Z"
   },
   {
    "duration": 38,
    "start_time": "2024-09-10T01:52:40.771Z"
   },
   {
    "duration": 21,
    "start_time": "2024-09-10T01:52:40.811Z"
   },
   {
    "duration": 9,
    "start_time": "2024-09-10T01:52:40.834Z"
   },
   {
    "duration": 8,
    "start_time": "2024-09-10T01:52:40.846Z"
   },
   {
    "duration": 18,
    "start_time": "2024-09-10T01:52:40.855Z"
   },
   {
    "duration": 54,
    "start_time": "2024-09-10T01:52:40.874Z"
   },
   {
    "duration": 17,
    "start_time": "2024-09-10T01:52:40.930Z"
   },
   {
    "duration": 22,
    "start_time": "2024-09-10T01:52:40.949Z"
   },
   {
    "duration": 41,
    "start_time": "2024-09-10T01:52:40.976Z"
   },
   {
    "duration": 19,
    "start_time": "2024-09-10T01:52:41.019Z"
   },
   {
    "duration": 22,
    "start_time": "2024-09-10T01:52:41.040Z"
   },
   {
    "duration": 45,
    "start_time": "2024-09-10T01:52:41.064Z"
   },
   {
    "duration": 47,
    "start_time": "2024-09-10T01:52:41.111Z"
   },
   {
    "duration": 55,
    "start_time": "2024-09-10T01:52:41.160Z"
   },
   {
    "duration": 3,
    "start_time": "2024-09-10T01:52:41.217Z"
   },
   {
    "duration": 23,
    "start_time": "2024-09-10T01:52:41.222Z"
   },
   {
    "duration": 1862,
    "start_time": "2024-09-10T01:52:41.247Z"
   },
   {
    "duration": 200,
    "start_time": "2024-09-10T01:52:43.111Z"
   },
   {
    "duration": 6,
    "start_time": "2024-09-10T01:52:43.313Z"
   },
   {
    "duration": 808,
    "start_time": "2024-09-10T01:54:35.897Z"
   },
   {
    "duration": 7,
    "start_time": "2024-09-10T01:54:36.709Z"
   },
   {
    "duration": 5,
    "start_time": "2024-09-10T01:54:36.717Z"
   },
   {
    "duration": 35,
    "start_time": "2024-09-10T01:54:36.725Z"
   },
   {
    "duration": 72,
    "start_time": "2024-09-10T01:54:36.762Z"
   },
   {
    "duration": 67,
    "start_time": "2024-09-10T01:54:36.836Z"
   },
   {
    "duration": 17,
    "start_time": "2024-09-10T01:54:36.905Z"
   },
   {
    "duration": 7,
    "start_time": "2024-09-10T01:54:36.924Z"
   },
   {
    "duration": 14,
    "start_time": "2024-09-10T01:54:36.932Z"
   },
   {
    "duration": 7,
    "start_time": "2024-09-10T01:54:36.949Z"
   },
   {
    "duration": 3,
    "start_time": "2024-09-10T01:54:36.958Z"
   },
   {
    "duration": 52,
    "start_time": "2024-09-10T01:54:36.963Z"
   },
   {
    "duration": 21,
    "start_time": "2024-09-10T01:54:37.017Z"
   },
   {
    "duration": 8,
    "start_time": "2024-09-10T01:54:37.039Z"
   },
   {
    "duration": 8,
    "start_time": "2024-09-10T01:54:37.049Z"
   },
   {
    "duration": 54,
    "start_time": "2024-09-10T01:54:37.059Z"
   },
   {
    "duration": 20,
    "start_time": "2024-09-10T01:54:37.115Z"
   },
   {
    "duration": 8,
    "start_time": "2024-09-10T01:54:37.137Z"
   },
   {
    "duration": 11,
    "start_time": "2024-09-10T01:54:37.148Z"
   },
   {
    "duration": 16,
    "start_time": "2024-09-10T01:54:37.161Z"
   },
   {
    "duration": 52,
    "start_time": "2024-09-10T01:54:37.179Z"
   },
   {
    "duration": 8,
    "start_time": "2024-09-10T01:54:37.233Z"
   },
   {
    "duration": 7,
    "start_time": "2024-09-10T01:54:37.243Z"
   },
   {
    "duration": 17,
    "start_time": "2024-09-10T01:54:37.252Z"
   },
   {
    "duration": 47,
    "start_time": "2024-09-10T01:54:37.271Z"
   },
   {
    "duration": 17,
    "start_time": "2024-09-10T01:54:37.320Z"
   },
   {
    "duration": 18,
    "start_time": "2024-09-10T01:54:37.339Z"
   },
   {
    "duration": 20,
    "start_time": "2024-09-10T01:54:37.361Z"
   },
   {
    "duration": 43,
    "start_time": "2024-09-10T01:54:37.382Z"
   },
   {
    "duration": 15,
    "start_time": "2024-09-10T01:54:37.427Z"
   },
   {
    "duration": 14,
    "start_time": "2024-09-10T01:54:37.444Z"
   },
   {
    "duration": 60,
    "start_time": "2024-09-10T01:54:37.460Z"
   },
   {
    "duration": 36,
    "start_time": "2024-09-10T01:54:37.522Z"
   },
   {
    "duration": 3,
    "start_time": "2024-09-10T01:54:37.559Z"
   },
   {
    "duration": 19,
    "start_time": "2024-09-10T01:54:37.564Z"
   },
   {
    "duration": 1782,
    "start_time": "2024-09-10T01:54:37.608Z"
   },
   {
    "duration": 153,
    "start_time": "2024-09-10T01:54:39.392Z"
   },
   {
    "duration": 6,
    "start_time": "2024-09-10T01:54:39.547Z"
   },
   {
    "duration": 846,
    "start_time": "2024-09-10T02:04:18.565Z"
   },
   {
    "duration": 9,
    "start_time": "2024-09-10T02:04:19.413Z"
   },
   {
    "duration": 7,
    "start_time": "2024-09-10T02:04:19.423Z"
   },
   {
    "duration": 57,
    "start_time": "2024-09-10T02:04:19.432Z"
   },
   {
    "duration": 98,
    "start_time": "2024-09-10T02:04:19.491Z"
   },
   {
    "duration": 100,
    "start_time": "2024-09-10T02:04:19.590Z"
   },
   {
    "duration": 15,
    "start_time": "2024-09-10T02:04:19.692Z"
   },
   {
    "duration": 7,
    "start_time": "2024-09-10T02:04:19.709Z"
   },
   {
    "duration": 15,
    "start_time": "2024-09-10T02:04:19.717Z"
   },
   {
    "duration": 7,
    "start_time": "2024-09-10T02:04:19.734Z"
   },
   {
    "duration": 4,
    "start_time": "2024-09-10T02:04:19.743Z"
   },
   {
    "duration": 12,
    "start_time": "2024-09-10T02:04:19.749Z"
   },
   {
    "duration": 50,
    "start_time": "2024-09-10T02:04:19.774Z"
   },
   {
    "duration": 8,
    "start_time": "2024-09-10T02:04:19.828Z"
   },
   {
    "duration": 6,
    "start_time": "2024-09-10T02:04:19.838Z"
   },
   {
    "duration": 25,
    "start_time": "2024-09-10T02:04:19.846Z"
   },
   {
    "duration": 45,
    "start_time": "2024-09-10T02:04:19.874Z"
   },
   {
    "duration": 8,
    "start_time": "2024-09-10T02:04:19.921Z"
   },
   {
    "duration": 9,
    "start_time": "2024-09-10T02:04:19.931Z"
   },
   {
    "duration": 14,
    "start_time": "2024-09-10T02:04:19.942Z"
   },
   {
    "duration": 18,
    "start_time": "2024-09-10T02:04:19.958Z"
   },
   {
    "duration": 10,
    "start_time": "2024-09-10T02:04:20.009Z"
   },
   {
    "duration": 8,
    "start_time": "2024-09-10T02:04:20.021Z"
   },
   {
    "duration": 18,
    "start_time": "2024-09-10T02:04:20.031Z"
   },
   {
    "duration": 17,
    "start_time": "2024-09-10T02:04:20.051Z"
   },
   {
    "duration": 43,
    "start_time": "2024-09-10T02:04:20.069Z"
   },
   {
    "duration": 19,
    "start_time": "2024-09-10T02:04:20.114Z"
   },
   {
    "duration": 19,
    "start_time": "2024-09-10T02:04:20.135Z"
   },
   {
    "duration": 16,
    "start_time": "2024-09-10T02:04:20.156Z"
   },
   {
    "duration": 45,
    "start_time": "2024-09-10T02:04:20.174Z"
   },
   {
    "duration": 18,
    "start_time": "2024-09-10T02:04:20.221Z"
   },
   {
    "duration": 34,
    "start_time": "2024-09-10T02:04:20.241Z"
   },
   {
    "duration": 61,
    "start_time": "2024-09-10T02:04:20.277Z"
   },
   {
    "duration": 3,
    "start_time": "2024-09-10T02:04:20.340Z"
   },
   {
    "duration": 19,
    "start_time": "2024-09-10T02:04:20.345Z"
   },
   {
    "duration": 1827,
    "start_time": "2024-09-10T02:04:20.366Z"
   },
   {
    "duration": 158,
    "start_time": "2024-09-10T02:04:22.195Z"
   },
   {
    "duration": 6,
    "start_time": "2024-09-10T02:04:22.355Z"
   },
   {
    "duration": 161,
    "start_time": "2024-09-10T02:11:51.166Z"
   },
   {
    "duration": 13,
    "start_time": "2024-09-10T02:12:32.624Z"
   },
   {
    "duration": 944,
    "start_time": "2024-09-10T02:12:43.630Z"
   },
   {
    "duration": 76,
    "start_time": "2024-09-10T02:12:53.561Z"
   },
   {
    "duration": 8,
    "start_time": "2024-09-10T02:15:24.630Z"
   },
   {
    "duration": 17,
    "start_time": "2024-09-10T02:15:32.974Z"
   },
   {
    "duration": 15,
    "start_time": "2024-09-10T02:15:49.499Z"
   },
   {
    "duration": 5,
    "start_time": "2024-09-10T02:16:33.415Z"
   },
   {
    "duration": 4,
    "start_time": "2024-09-10T02:16:55.844Z"
   },
   {
    "duration": 18,
    "start_time": "2024-09-10T02:17:10.620Z"
   },
   {
    "duration": 822,
    "start_time": "2024-09-10T02:17:34.998Z"
   },
   {
    "duration": 11,
    "start_time": "2024-09-10T02:17:35.822Z"
   },
   {
    "duration": 7,
    "start_time": "2024-09-10T02:17:35.835Z"
   },
   {
    "duration": 80,
    "start_time": "2024-09-10T02:17:35.844Z"
   },
   {
    "duration": 101,
    "start_time": "2024-09-10T02:17:35.926Z"
   },
   {
    "duration": 106,
    "start_time": "2024-09-10T02:17:36.028Z"
   },
   {
    "duration": 18,
    "start_time": "2024-09-10T02:17:36.135Z"
   },
   {
    "duration": 7,
    "start_time": "2024-09-10T02:17:36.155Z"
   },
   {
    "duration": 18,
    "start_time": "2024-09-10T02:17:36.164Z"
   },
   {
    "duration": 28,
    "start_time": "2024-09-10T02:17:36.185Z"
   },
   {
    "duration": 6,
    "start_time": "2024-09-10T02:17:36.215Z"
   },
   {
    "duration": 17,
    "start_time": "2024-09-10T02:17:36.223Z"
   },
   {
    "duration": 30,
    "start_time": "2024-09-10T02:17:36.242Z"
   },
   {
    "duration": 10,
    "start_time": "2024-09-10T02:17:36.274Z"
   },
   {
    "duration": 17,
    "start_time": "2024-09-10T02:17:36.298Z"
   },
   {
    "duration": 30,
    "start_time": "2024-09-10T02:17:36.316Z"
   },
   {
    "duration": 17,
    "start_time": "2024-09-10T02:17:36.348Z"
   },
   {
    "duration": 8,
    "start_time": "2024-09-10T02:17:36.367Z"
   },
   {
    "duration": 37,
    "start_time": "2024-09-10T02:17:36.376Z"
   },
   {
    "duration": 18,
    "start_time": "2024-09-10T02:17:36.415Z"
   },
   {
    "duration": 19,
    "start_time": "2024-09-10T02:17:36.435Z"
   },
   {
    "duration": 9,
    "start_time": "2024-09-10T02:17:36.455Z"
   },
   {
    "duration": 9,
    "start_time": "2024-09-10T02:17:36.466Z"
   },
   {
    "duration": 42,
    "start_time": "2024-09-10T02:17:36.476Z"
   },
   {
    "duration": 18,
    "start_time": "2024-09-10T02:17:36.519Z"
   },
   {
    "duration": 14,
    "start_time": "2024-09-10T02:17:36.539Z"
   },
   {
    "duration": 21,
    "start_time": "2024-09-10T02:17:36.554Z"
   },
   {
    "duration": 20,
    "start_time": "2024-09-10T02:17:36.608Z"
   },
   {
    "duration": 16,
    "start_time": "2024-09-10T02:17:36.630Z"
   },
   {
    "duration": 16,
    "start_time": "2024-09-10T02:17:36.648Z"
   },
   {
    "duration": 45,
    "start_time": "2024-09-10T02:17:36.665Z"
   },
   {
    "duration": 33,
    "start_time": "2024-09-10T02:17:36.712Z"
   },
   {
    "duration": 36,
    "start_time": "2024-09-10T02:17:36.747Z"
   },
   {
    "duration": 23,
    "start_time": "2024-09-10T02:17:36.786Z"
   },
   {
    "duration": 19,
    "start_time": "2024-09-10T02:17:36.811Z"
   },
   {
    "duration": 1869,
    "start_time": "2024-09-10T02:17:36.831Z"
   },
   {
    "duration": 156,
    "start_time": "2024-09-10T02:17:38.702Z"
   },
   {
    "duration": 5,
    "start_time": "2024-09-10T02:17:38.861Z"
   },
   {
    "duration": 2603,
    "start_time": "2024-09-10T15:01:54.153Z"
   },
   {
    "duration": 12,
    "start_time": "2024-09-10T15:01:56.759Z"
   },
   {
    "duration": 8,
    "start_time": "2024-09-10T15:01:56.772Z"
   },
   {
    "duration": 64,
    "start_time": "2024-09-10T15:01:56.781Z"
   },
   {
    "duration": 95,
    "start_time": "2024-09-10T15:01:56.847Z"
   },
   {
    "duration": 112,
    "start_time": "2024-09-10T15:01:56.944Z"
   },
   {
    "duration": 16,
    "start_time": "2024-09-10T15:01:57.058Z"
   },
   {
    "duration": 8,
    "start_time": "2024-09-10T15:01:57.076Z"
   },
   {
    "duration": 28,
    "start_time": "2024-09-10T15:01:57.086Z"
   },
   {
    "duration": 7,
    "start_time": "2024-09-10T15:01:57.118Z"
   },
   {
    "duration": 4,
    "start_time": "2024-09-10T15:01:57.127Z"
   },
   {
    "duration": 10,
    "start_time": "2024-09-10T15:01:57.134Z"
   },
   {
    "duration": 23,
    "start_time": "2024-09-10T15:01:57.146Z"
   },
   {
    "duration": 41,
    "start_time": "2024-09-10T15:01:57.171Z"
   },
   {
    "duration": 9,
    "start_time": "2024-09-10T15:01:57.214Z"
   },
   {
    "duration": 26,
    "start_time": "2024-09-10T15:01:57.224Z"
   },
   {
    "duration": 17,
    "start_time": "2024-09-10T15:01:57.252Z"
   },
   {
    "duration": 40,
    "start_time": "2024-09-10T15:01:57.271Z"
   },
   {
    "duration": 11,
    "start_time": "2024-09-10T15:01:57.313Z"
   },
   {
    "duration": 14,
    "start_time": "2024-09-10T15:01:57.326Z"
   },
   {
    "duration": 19,
    "start_time": "2024-09-10T15:01:57.341Z"
   },
   {
    "duration": 9,
    "start_time": "2024-09-10T15:01:57.362Z"
   },
   {
    "duration": 44,
    "start_time": "2024-09-10T15:01:57.373Z"
   },
   {
    "duration": 18,
    "start_time": "2024-09-10T15:01:57.419Z"
   },
   {
    "duration": 16,
    "start_time": "2024-09-10T15:01:57.439Z"
   },
   {
    "duration": 13,
    "start_time": "2024-09-10T15:01:57.457Z"
   },
   {
    "duration": 48,
    "start_time": "2024-09-10T15:01:57.472Z"
   },
   {
    "duration": 18,
    "start_time": "2024-09-10T15:01:57.525Z"
   },
   {
    "duration": 15,
    "start_time": "2024-09-10T15:01:57.545Z"
   },
   {
    "duration": 16,
    "start_time": "2024-09-10T15:01:57.561Z"
   },
   {
    "duration": 45,
    "start_time": "2024-09-10T15:01:57.579Z"
   },
   {
    "duration": 34,
    "start_time": "2024-09-10T15:01:57.625Z"
   },
   {
    "duration": 62,
    "start_time": "2024-09-10T15:01:57.662Z"
   },
   {
    "duration": 3,
    "start_time": "2024-09-10T15:01:57.726Z"
   },
   {
    "duration": 21,
    "start_time": "2024-09-10T15:01:57.731Z"
   },
   {
    "duration": 1768,
    "start_time": "2024-09-10T15:01:57.754Z"
   },
   {
    "duration": 151,
    "start_time": "2024-09-10T15:01:59.524Z"
   },
   {
    "duration": 5,
    "start_time": "2024-09-10T15:01:59.677Z"
   },
   {
    "duration": 815,
    "start_time": "2024-09-10T15:02:11.409Z"
   },
   {
    "duration": 7,
    "start_time": "2024-09-10T15:02:12.227Z"
   },
   {
    "duration": 5,
    "start_time": "2024-09-10T15:02:12.236Z"
   },
   {
    "duration": 35,
    "start_time": "2024-09-10T15:02:12.243Z"
   },
   {
    "duration": 75,
    "start_time": "2024-09-10T15:02:12.281Z"
   },
   {
    "duration": 82,
    "start_time": "2024-09-10T15:02:12.359Z"
   },
   {
    "duration": 17,
    "start_time": "2024-09-10T15:02:12.443Z"
   },
   {
    "duration": 7,
    "start_time": "2024-09-10T15:02:12.462Z"
   },
   {
    "duration": 14,
    "start_time": "2024-09-10T15:02:12.471Z"
   },
   {
    "duration": 7,
    "start_time": "2024-09-10T15:02:12.508Z"
   },
   {
    "duration": 4,
    "start_time": "2024-09-10T15:02:12.517Z"
   },
   {
    "duration": 10,
    "start_time": "2024-09-10T15:02:12.523Z"
   },
   {
    "duration": 22,
    "start_time": "2024-09-10T15:02:12.536Z"
   },
   {
    "duration": 9,
    "start_time": "2024-09-10T15:02:12.562Z"
   },
   {
    "duration": 42,
    "start_time": "2024-09-10T15:02:12.573Z"
   },
   {
    "duration": 26,
    "start_time": "2024-09-10T15:02:12.617Z"
   },
   {
    "duration": 16,
    "start_time": "2024-09-10T15:02:12.645Z"
   },
   {
    "duration": 7,
    "start_time": "2024-09-10T15:02:12.662Z"
   },
   {
    "duration": 39,
    "start_time": "2024-09-10T15:02:12.671Z"
   },
   {
    "duration": 14,
    "start_time": "2024-09-10T15:02:12.712Z"
   },
   {
    "duration": 19,
    "start_time": "2024-09-10T15:02:12.727Z"
   },
   {
    "duration": 10,
    "start_time": "2024-09-10T15:02:12.748Z"
   },
   {
    "duration": 8,
    "start_time": "2024-09-10T15:02:12.760Z"
   },
   {
    "duration": 47,
    "start_time": "2024-09-10T15:02:12.770Z"
   },
   {
    "duration": 16,
    "start_time": "2024-09-10T15:02:12.818Z"
   },
   {
    "duration": 13,
    "start_time": "2024-09-10T15:02:12.835Z"
   },
   {
    "duration": 19,
    "start_time": "2024-09-10T15:02:12.850Z"
   },
   {
    "duration": 52,
    "start_time": "2024-09-10T15:02:12.870Z"
   },
   {
    "duration": 16,
    "start_time": "2024-09-10T15:02:12.924Z"
   },
   {
    "duration": 15,
    "start_time": "2024-09-10T15:02:12.942Z"
   },
   {
    "duration": 16,
    "start_time": "2024-09-10T15:02:12.959Z"
   },
   {
    "duration": 60,
    "start_time": "2024-09-10T15:02:12.976Z"
   },
   {
    "duration": 36,
    "start_time": "2024-09-10T15:02:13.037Z"
   },
   {
    "duration": 4,
    "start_time": "2024-09-10T15:02:13.074Z"
   },
   {
    "duration": 43,
    "start_time": "2024-09-10T15:02:13.080Z"
   },
   {
    "duration": 1792,
    "start_time": "2024-09-10T15:02:13.125Z"
   },
   {
    "duration": 159,
    "start_time": "2024-09-10T15:02:14.919Z"
   },
   {
    "duration": 6,
    "start_time": "2024-09-10T15:02:15.079Z"
   },
   {
    "duration": 848,
    "start_time": "2024-09-10T15:08:45.863Z"
   },
   {
    "duration": 11,
    "start_time": "2024-09-10T15:08:46.713Z"
   },
   {
    "duration": 8,
    "start_time": "2024-09-10T15:08:46.726Z"
   },
   {
    "duration": 73,
    "start_time": "2024-09-10T15:08:46.736Z"
   },
   {
    "duration": 118,
    "start_time": "2024-09-10T15:08:46.811Z"
   },
   {
    "duration": 103,
    "start_time": "2024-09-10T15:08:46.931Z"
   },
   {
    "duration": 17,
    "start_time": "2024-09-10T15:08:47.036Z"
   },
   {
    "duration": 7,
    "start_time": "2024-09-10T15:08:47.054Z"
   },
   {
    "duration": 14,
    "start_time": "2024-09-10T15:08:47.063Z"
   },
   {
    "duration": 30,
    "start_time": "2024-09-10T15:08:47.080Z"
   },
   {
    "duration": 3,
    "start_time": "2024-09-10T15:08:47.112Z"
   },
   {
    "duration": 11,
    "start_time": "2024-09-10T15:08:47.117Z"
   },
   {
    "duration": 20,
    "start_time": "2024-09-10T15:08:47.130Z"
   },
   {
    "duration": 8,
    "start_time": "2024-09-10T15:08:47.152Z"
   },
   {
    "duration": 8,
    "start_time": "2024-09-10T15:08:47.161Z"
   },
   {
    "duration": 72,
    "start_time": "2024-09-10T15:08:47.170Z"
   },
   {
    "duration": 25,
    "start_time": "2024-09-10T15:08:47.244Z"
   },
   {
    "duration": 10,
    "start_time": "2024-09-10T15:08:47.271Z"
   },
   {
    "duration": 30,
    "start_time": "2024-09-10T15:08:47.282Z"
   },
   {
    "duration": 15,
    "start_time": "2024-09-10T15:08:47.315Z"
   },
   {
    "duration": 20,
    "start_time": "2024-09-10T15:08:47.331Z"
   },
   {
    "duration": 8,
    "start_time": "2024-09-10T15:08:47.352Z"
   },
   {
    "duration": 9,
    "start_time": "2024-09-10T15:08:47.362Z"
   },
   {
    "duration": 55,
    "start_time": "2024-09-10T15:08:47.373Z"
   },
   {
    "duration": 16,
    "start_time": "2024-09-10T15:08:47.429Z"
   },
   {
    "duration": 13,
    "start_time": "2024-09-10T15:08:47.447Z"
   },
   {
    "duration": 18,
    "start_time": "2024-09-10T15:08:47.462Z"
   },
   {
    "duration": 23,
    "start_time": "2024-09-10T15:08:47.509Z"
   },
   {
    "duration": 15,
    "start_time": "2024-09-10T15:08:47.534Z"
   },
   {
    "duration": 15,
    "start_time": "2024-09-10T15:08:47.550Z"
   },
   {
    "duration": 42,
    "start_time": "2024-09-10T15:08:47.567Z"
   },
   {
    "duration": 36,
    "start_time": "2024-09-10T15:08:47.611Z"
   },
   {
    "duration": 34,
    "start_time": "2024-09-10T15:08:47.648Z"
   },
   {
    "duration": 4,
    "start_time": "2024-09-10T15:08:47.684Z"
   },
   {
    "duration": 20,
    "start_time": "2024-09-10T15:08:47.709Z"
   },
   {
    "duration": 1800,
    "start_time": "2024-09-10T15:08:47.732Z"
   },
   {
    "duration": 152,
    "start_time": "2024-09-10T15:08:49.534Z"
   },
   {
    "duration": 6,
    "start_time": "2024-09-10T15:08:49.688Z"
   },
   {
    "duration": 851,
    "start_time": "2024-09-10T15:10:04.565Z"
   },
   {
    "duration": 8,
    "start_time": "2024-09-10T15:10:05.418Z"
   },
   {
    "duration": 5,
    "start_time": "2024-09-10T15:10:05.427Z"
   },
   {
    "duration": 34,
    "start_time": "2024-09-10T15:10:05.433Z"
   },
   {
    "duration": 70,
    "start_time": "2024-09-10T15:10:05.470Z"
   },
   {
    "duration": 72,
    "start_time": "2024-09-10T15:10:05.541Z"
   },
   {
    "duration": 16,
    "start_time": "2024-09-10T15:10:05.614Z"
   },
   {
    "duration": 8,
    "start_time": "2024-09-10T15:10:05.632Z"
   },
   {
    "duration": 13,
    "start_time": "2024-09-10T15:10:05.642Z"
   },
   {
    "duration": 7,
    "start_time": "2024-09-10T15:10:05.657Z"
   },
   {
    "duration": 4,
    "start_time": "2024-09-10T15:10:05.666Z"
   },
   {
    "duration": 46,
    "start_time": "2024-09-10T15:10:05.671Z"
   },
   {
    "duration": 20,
    "start_time": "2024-09-10T15:10:05.719Z"
   },
   {
    "duration": 8,
    "start_time": "2024-09-10T15:10:05.743Z"
   },
   {
    "duration": 8,
    "start_time": "2024-09-10T15:10:05.753Z"
   },
   {
    "duration": 60,
    "start_time": "2024-09-10T15:10:05.762Z"
   },
   {
    "duration": 17,
    "start_time": "2024-09-10T15:10:05.823Z"
   },
   {
    "duration": 8,
    "start_time": "2024-09-10T15:10:05.841Z"
   },
   {
    "duration": 9,
    "start_time": "2024-09-10T15:10:05.851Z"
   },
   {
    "duration": 14,
    "start_time": "2024-09-10T15:10:05.861Z"
   },
   {
    "duration": 50,
    "start_time": "2024-09-10T15:10:05.877Z"
   },
   {
    "duration": 10,
    "start_time": "2024-09-10T15:10:05.929Z"
   },
   {
    "duration": 7,
    "start_time": "2024-09-10T15:10:05.940Z"
   },
   {
    "duration": 17,
    "start_time": "2024-09-10T15:10:05.949Z"
   },
   {
    "duration": 45,
    "start_time": "2024-09-10T15:10:05.968Z"
   },
   {
    "duration": 14,
    "start_time": "2024-09-10T15:10:06.015Z"
   },
   {
    "duration": 19,
    "start_time": "2024-09-10T15:10:06.031Z"
   },
   {
    "duration": 19,
    "start_time": "2024-09-10T15:10:06.053Z"
   },
   {
    "duration": 47,
    "start_time": "2024-09-10T15:10:06.074Z"
   },
   {
    "duration": 15,
    "start_time": "2024-09-10T15:10:06.123Z"
   },
   {
    "duration": 16,
    "start_time": "2024-09-10T15:10:06.139Z"
   },
   {
    "duration": 53,
    "start_time": "2024-09-10T15:10:06.157Z"
   },
   {
    "duration": 35,
    "start_time": "2024-09-10T15:10:06.212Z"
   },
   {
    "duration": 3,
    "start_time": "2024-09-10T15:10:06.249Z"
   },
   {
    "duration": 18,
    "start_time": "2024-09-10T15:10:06.254Z"
   },
   {
    "duration": 1820,
    "start_time": "2024-09-10T15:10:06.273Z"
   },
   {
    "duration": 162,
    "start_time": "2024-09-10T15:10:08.096Z"
   },
   {
    "duration": 5,
    "start_time": "2024-09-10T15:10:08.260Z"
   },
   {
    "duration": 879,
    "start_time": "2024-09-10T15:14:44.139Z"
   },
   {
    "duration": 9,
    "start_time": "2024-09-10T15:14:45.021Z"
   },
   {
    "duration": 7,
    "start_time": "2024-09-10T15:14:45.031Z"
   },
   {
    "duration": 50,
    "start_time": "2024-09-10T15:14:45.040Z"
   },
   {
    "duration": 92,
    "start_time": "2024-09-10T15:14:45.091Z"
   },
   {
    "duration": 110,
    "start_time": "2024-09-10T15:14:45.185Z"
   },
   {
    "duration": 17,
    "start_time": "2024-09-10T15:14:45.297Z"
   },
   {
    "duration": 7,
    "start_time": "2024-09-10T15:14:45.316Z"
   },
   {
    "duration": 14,
    "start_time": "2024-09-10T15:14:45.326Z"
   },
   {
    "duration": 7,
    "start_time": "2024-09-10T15:14:45.343Z"
   },
   {
    "duration": 4,
    "start_time": "2024-09-10T15:14:45.353Z"
   },
   {
    "duration": 14,
    "start_time": "2024-09-10T15:14:45.358Z"
   },
   {
    "duration": 56,
    "start_time": "2024-09-10T15:14:45.374Z"
   },
   {
    "duration": 9,
    "start_time": "2024-09-10T15:14:45.432Z"
   },
   {
    "duration": 8,
    "start_time": "2024-09-10T15:14:45.442Z"
   },
   {
    "duration": 27,
    "start_time": "2024-09-10T15:14:45.451Z"
   },
   {
    "duration": 41,
    "start_time": "2024-09-10T15:14:45.480Z"
   },
   {
    "duration": 8,
    "start_time": "2024-09-10T15:14:45.523Z"
   },
   {
    "duration": 9,
    "start_time": "2024-09-10T15:14:45.533Z"
   },
   {
    "duration": 14,
    "start_time": "2024-09-10T15:14:45.543Z"
   },
   {
    "duration": 58,
    "start_time": "2024-09-10T15:14:45.559Z"
   },
   {
    "duration": 9,
    "start_time": "2024-09-10T15:14:45.618Z"
   },
   {
    "duration": 7,
    "start_time": "2024-09-10T15:14:45.628Z"
   },
   {
    "duration": 17,
    "start_time": "2024-09-10T15:14:45.637Z"
   },
   {
    "duration": 15,
    "start_time": "2024-09-10T15:14:45.656Z"
   },
   {
    "duration": 46,
    "start_time": "2024-09-10T15:14:45.673Z"
   },
   {
    "duration": 19,
    "start_time": "2024-09-10T15:14:45.720Z"
   },
   {
    "duration": 18,
    "start_time": "2024-09-10T15:14:45.743Z"
   },
   {
    "duration": 17,
    "start_time": "2024-09-10T15:14:45.763Z"
   },
   {
    "duration": 16,
    "start_time": "2024-09-10T15:14:45.808Z"
   },
   {
    "duration": 16,
    "start_time": "2024-09-10T15:14:45.826Z"
   },
   {
    "duration": 33,
    "start_time": "2024-09-10T15:14:45.844Z"
   },
   {
    "duration": 59,
    "start_time": "2024-09-10T15:14:45.879Z"
   },
   {
    "duration": 4,
    "start_time": "2024-09-10T15:14:45.940Z"
   },
   {
    "duration": 18,
    "start_time": "2024-09-10T15:14:45.946Z"
   },
   {
    "duration": 1860,
    "start_time": "2024-09-10T15:14:45.967Z"
   },
   {
    "duration": 159,
    "start_time": "2024-09-10T15:14:47.829Z"
   },
   {
    "duration": 7,
    "start_time": "2024-09-10T15:14:47.990Z"
   },
   {
    "duration": 862,
    "start_time": "2024-09-10T15:16:24.557Z"
   },
   {
    "duration": 8,
    "start_time": "2024-09-10T15:16:25.421Z"
   },
   {
    "duration": 5,
    "start_time": "2024-09-10T15:16:25.430Z"
   },
   {
    "duration": 36,
    "start_time": "2024-09-10T15:16:25.438Z"
   },
   {
    "duration": 71,
    "start_time": "2024-09-10T15:16:25.476Z"
   },
   {
    "duration": 74,
    "start_time": "2024-09-10T15:16:25.549Z"
   },
   {
    "duration": 16,
    "start_time": "2024-09-10T15:16:25.625Z"
   },
   {
    "duration": 8,
    "start_time": "2024-09-10T15:16:25.643Z"
   },
   {
    "duration": 14,
    "start_time": "2024-09-10T15:16:25.653Z"
   },
   {
    "duration": 7,
    "start_time": "2024-09-10T15:16:25.670Z"
   },
   {
    "duration": 3,
    "start_time": "2024-09-10T15:16:25.709Z"
   },
   {
    "duration": 10,
    "start_time": "2024-09-10T15:16:25.714Z"
   },
   {
    "duration": 22,
    "start_time": "2024-09-10T15:16:25.726Z"
   },
   {
    "duration": 9,
    "start_time": "2024-09-10T15:16:25.750Z"
   },
   {
    "duration": 8,
    "start_time": "2024-09-10T15:16:25.761Z"
   },
   {
    "duration": 64,
    "start_time": "2024-09-10T15:16:25.771Z"
   },
   {
    "duration": 18,
    "start_time": "2024-09-10T15:16:25.836Z"
   },
   {
    "duration": 8,
    "start_time": "2024-09-10T15:16:25.856Z"
   },
   {
    "duration": 10,
    "start_time": "2024-09-10T15:16:25.865Z"
   },
   {
    "duration": 42,
    "start_time": "2024-09-10T15:16:25.877Z"
   },
   {
    "duration": 19,
    "start_time": "2024-09-10T15:16:25.920Z"
   },
   {
    "duration": 8,
    "start_time": "2024-09-10T15:16:25.941Z"
   },
   {
    "duration": 8,
    "start_time": "2024-09-10T15:16:25.951Z"
   },
   {
    "duration": 18,
    "start_time": "2024-09-10T15:16:25.960Z"
   },
   {
    "duration": 16,
    "start_time": "2024-09-10T15:16:26.010Z"
   },
   {
    "duration": 14,
    "start_time": "2024-09-10T15:16:26.028Z"
   },
   {
    "duration": 20,
    "start_time": "2024-09-10T15:16:26.044Z"
   },
   {
    "duration": 48,
    "start_time": "2024-09-10T15:16:26.069Z"
   },
   {
    "duration": 18,
    "start_time": "2024-09-10T15:16:26.118Z"
   },
   {
    "duration": 16,
    "start_time": "2024-09-10T15:16:26.138Z"
   },
   {
    "duration": 17,
    "start_time": "2024-09-10T15:16:26.156Z"
   },
   {
    "duration": 58,
    "start_time": "2024-09-10T15:16:26.174Z"
   },
   {
    "duration": 37,
    "start_time": "2024-09-10T15:16:26.234Z"
   },
   {
    "duration": 3,
    "start_time": "2024-09-10T15:16:26.273Z"
   },
   {
    "duration": 45,
    "start_time": "2024-09-10T15:16:26.278Z"
   },
   {
    "duration": 1824,
    "start_time": "2024-09-10T15:16:26.325Z"
   },
   {
    "duration": 161,
    "start_time": "2024-09-10T15:16:28.151Z"
   },
   {
    "duration": 5,
    "start_time": "2024-09-10T15:16:28.314Z"
   },
   {
    "duration": 809,
    "start_time": "2024-09-10T15:21:00.592Z"
   },
   {
    "duration": 10,
    "start_time": "2024-09-10T15:21:01.404Z"
   },
   {
    "duration": 5,
    "start_time": "2024-09-10T15:21:01.416Z"
   },
   {
    "duration": 52,
    "start_time": "2024-09-10T15:21:01.423Z"
   },
   {
    "duration": 93,
    "start_time": "2024-09-10T15:21:01.477Z"
   },
   {
    "duration": 108,
    "start_time": "2024-09-10T15:21:01.571Z"
   },
   {
    "duration": 17,
    "start_time": "2024-09-10T15:21:01.681Z"
   },
   {
    "duration": 7,
    "start_time": "2024-09-10T15:21:01.700Z"
   },
   {
    "duration": 15,
    "start_time": "2024-09-10T15:21:01.708Z"
   },
   {
    "duration": 8,
    "start_time": "2024-09-10T15:21:01.726Z"
   },
   {
    "duration": 3,
    "start_time": "2024-09-10T15:21:01.736Z"
   },
   {
    "duration": 10,
    "start_time": "2024-09-10T15:21:01.740Z"
   },
   {
    "duration": 22,
    "start_time": "2024-09-10T15:21:01.751Z"
   },
   {
    "duration": 9,
    "start_time": "2024-09-10T15:21:01.810Z"
   },
   {
    "duration": 7,
    "start_time": "2024-09-10T15:21:01.821Z"
   },
   {
    "duration": 25,
    "start_time": "2024-09-10T15:21:01.830Z"
   },
   {
    "duration": 17,
    "start_time": "2024-09-10T15:21:01.857Z"
   },
   {
    "duration": 38,
    "start_time": "2024-09-10T15:21:01.875Z"
   },
   {
    "duration": 9,
    "start_time": "2024-09-10T15:21:01.914Z"
   },
   {
    "duration": 13,
    "start_time": "2024-09-10T15:21:01.925Z"
   },
   {
    "duration": 18,
    "start_time": "2024-09-10T15:21:01.939Z"
   },
   {
    "duration": 10,
    "start_time": "2024-09-10T15:21:01.959Z"
   },
   {
    "duration": 38,
    "start_time": "2024-09-10T15:21:01.972Z"
   },
   {
    "duration": 19,
    "start_time": "2024-09-10T15:21:02.012Z"
   },
   {
    "duration": 20,
    "start_time": "2024-09-10T15:21:02.033Z"
   },
   {
    "duration": 15,
    "start_time": "2024-09-10T15:21:02.055Z"
   },
   {
    "duration": 46,
    "start_time": "2024-09-10T15:21:02.072Z"
   },
   {
    "duration": 18,
    "start_time": "2024-09-10T15:21:02.123Z"
   },
   {
    "duration": 15,
    "start_time": "2024-09-10T15:21:02.143Z"
   },
   {
    "duration": 16,
    "start_time": "2024-09-10T15:21:02.159Z"
   },
   {
    "duration": 41,
    "start_time": "2024-09-10T15:21:02.177Z"
   },
   {
    "duration": 35,
    "start_time": "2024-09-10T15:21:02.219Z"
   },
   {
    "duration": 57,
    "start_time": "2024-09-10T15:21:02.256Z"
   },
   {
    "duration": 3,
    "start_time": "2024-09-10T15:21:02.315Z"
   },
   {
    "duration": 18,
    "start_time": "2024-09-10T15:21:02.320Z"
   },
   {
    "duration": 1819,
    "start_time": "2024-09-10T15:21:02.340Z"
   },
   {
    "duration": 155,
    "start_time": "2024-09-10T15:21:04.162Z"
   },
   {
    "duration": 6,
    "start_time": "2024-09-10T15:21:04.319Z"
   },
   {
    "duration": 166,
    "start_time": "2024-09-10T15:26:24.163Z"
   },
   {
    "duration": 5,
    "start_time": "2024-09-10T15:26:36.984Z"
   },
   {
    "duration": 4,
    "start_time": "2024-09-10T15:26:43.163Z"
   },
   {
    "duration": 13,
    "start_time": "2024-09-10T15:26:49.811Z"
   },
   {
    "duration": 5,
    "start_time": "2024-09-10T15:28:08.139Z"
   },
   {
    "duration": 13,
    "start_time": "2024-09-10T15:28:14.862Z"
   },
   {
    "duration": 843,
    "start_time": "2024-09-10T15:28:29.162Z"
   },
   {
    "duration": 8,
    "start_time": "2024-09-10T15:28:30.007Z"
   },
   {
    "duration": 6,
    "start_time": "2024-09-10T15:28:30.017Z"
   },
   {
    "duration": 49,
    "start_time": "2024-09-10T15:28:30.025Z"
   },
   {
    "duration": 93,
    "start_time": "2024-09-10T15:28:30.075Z"
   },
   {
    "duration": 101,
    "start_time": "2024-09-10T15:28:30.170Z"
   },
   {
    "duration": 19,
    "start_time": "2024-09-10T15:28:30.273Z"
   },
   {
    "duration": 14,
    "start_time": "2024-09-10T15:28:30.295Z"
   },
   {
    "duration": 16,
    "start_time": "2024-09-10T15:28:30.311Z"
   },
   {
    "duration": 9,
    "start_time": "2024-09-10T15:28:30.330Z"
   },
   {
    "duration": 4,
    "start_time": "2024-09-10T15:28:30.340Z"
   },
   {
    "duration": 11,
    "start_time": "2024-09-10T15:28:30.345Z"
   },
   {
    "duration": 59,
    "start_time": "2024-09-10T15:28:30.357Z"
   },
   {
    "duration": 9,
    "start_time": "2024-09-10T15:28:30.418Z"
   },
   {
    "duration": 7,
    "start_time": "2024-09-10T15:28:30.429Z"
   },
   {
    "duration": 25,
    "start_time": "2024-09-10T15:28:30.438Z"
   },
   {
    "duration": 45,
    "start_time": "2024-09-10T15:28:30.465Z"
   },
   {
    "duration": 8,
    "start_time": "2024-09-10T15:28:30.511Z"
   },
   {
    "duration": 9,
    "start_time": "2024-09-10T15:28:30.521Z"
   },
   {
    "duration": 14,
    "start_time": "2024-09-10T15:28:30.532Z"
   },
   {
    "duration": 20,
    "start_time": "2024-09-10T15:28:30.548Z"
   },
   {
    "duration": 42,
    "start_time": "2024-09-10T15:28:30.570Z"
   },
   {
    "duration": 7,
    "start_time": "2024-09-10T15:28:30.614Z"
   },
   {
    "duration": 17,
    "start_time": "2024-09-10T15:28:30.623Z"
   },
   {
    "duration": 16,
    "start_time": "2024-09-10T15:28:30.641Z"
   },
   {
    "duration": 14,
    "start_time": "2024-09-10T15:28:30.658Z"
   },
   {
    "duration": 52,
    "start_time": "2024-09-10T15:28:30.673Z"
   },
   {
    "duration": 20,
    "start_time": "2024-09-10T15:28:30.730Z"
   },
   {
    "duration": 15,
    "start_time": "2024-09-10T15:28:30.752Z"
   },
   {
    "duration": 15,
    "start_time": "2024-09-10T15:28:30.770Z"
   },
   {
    "duration": 17,
    "start_time": "2024-09-10T15:28:30.809Z"
   },
   {
    "duration": 36,
    "start_time": "2024-09-10T15:28:30.827Z"
   },
   {
    "duration": 57,
    "start_time": "2024-09-10T15:28:30.864Z"
   },
   {
    "duration": 3,
    "start_time": "2024-09-10T15:28:30.922Z"
   },
   {
    "duration": 18,
    "start_time": "2024-09-10T15:28:30.928Z"
   },
   {
    "duration": 1826,
    "start_time": "2024-09-10T15:28:30.947Z"
   },
   {
    "duration": 154,
    "start_time": "2024-09-10T15:28:32.775Z"
   },
   {
    "duration": 7,
    "start_time": "2024-09-10T15:28:32.931Z"
   },
   {
    "duration": 816,
    "start_time": "2024-09-10T15:30:08.496Z"
   },
   {
    "duration": 8,
    "start_time": "2024-09-10T15:30:09.314Z"
   },
   {
    "duration": 5,
    "start_time": "2024-09-10T15:30:09.323Z"
   },
   {
    "duration": 35,
    "start_time": "2024-09-10T15:30:09.329Z"
   },
   {
    "duration": 69,
    "start_time": "2024-09-10T15:30:09.367Z"
   },
   {
    "duration": 77,
    "start_time": "2024-09-10T15:30:09.438Z"
   },
   {
    "duration": 17,
    "start_time": "2024-09-10T15:30:09.517Z"
   },
   {
    "duration": 8,
    "start_time": "2024-09-10T15:30:09.536Z"
   },
   {
    "duration": 14,
    "start_time": "2024-09-10T15:30:09.546Z"
   },
   {
    "duration": 9,
    "start_time": "2024-09-10T15:30:09.561Z"
   },
   {
    "duration": 4,
    "start_time": "2024-09-10T15:30:09.571Z"
   },
   {
    "duration": 11,
    "start_time": "2024-09-10T15:30:09.610Z"
   },
   {
    "duration": 23,
    "start_time": "2024-09-10T15:30:09.623Z"
   },
   {
    "duration": 8,
    "start_time": "2024-09-10T15:30:09.649Z"
   },
   {
    "duration": 8,
    "start_time": "2024-09-10T15:30:09.659Z"
   },
   {
    "duration": 59,
    "start_time": "2024-09-10T15:30:09.668Z"
   },
   {
    "duration": 19,
    "start_time": "2024-09-10T15:30:09.729Z"
   },
   {
    "duration": 9,
    "start_time": "2024-09-10T15:30:09.750Z"
   },
   {
    "duration": 14,
    "start_time": "2024-09-10T15:30:09.761Z"
   },
   {
    "duration": 41,
    "start_time": "2024-09-10T15:30:09.779Z"
   },
   {
    "duration": 20,
    "start_time": "2024-09-10T15:30:09.822Z"
   },
   {
    "duration": 9,
    "start_time": "2024-09-10T15:30:09.843Z"
   },
   {
    "duration": 8,
    "start_time": "2024-09-10T15:30:09.853Z"
   },
   {
    "duration": 46,
    "start_time": "2024-09-10T15:30:09.863Z"
   },
   {
    "duration": 20,
    "start_time": "2024-09-10T15:30:09.911Z"
   },
   {
    "duration": 18,
    "start_time": "2024-09-10T15:30:09.933Z"
   },
   {
    "duration": 19,
    "start_time": "2024-09-10T15:30:09.953Z"
   },
   {
    "duration": 44,
    "start_time": "2024-09-10T15:30:09.974Z"
   },
   {
    "duration": 16,
    "start_time": "2024-09-10T15:30:10.020Z"
   },
   {
    "duration": 18,
    "start_time": "2024-09-10T15:30:10.038Z"
   },
   {
    "duration": 17,
    "start_time": "2024-09-10T15:30:10.058Z"
   },
   {
    "duration": 65,
    "start_time": "2024-09-10T15:30:10.077Z"
   },
   {
    "duration": 36,
    "start_time": "2024-09-10T15:30:10.143Z"
   },
   {
    "duration": 3,
    "start_time": "2024-09-10T15:30:10.181Z"
   },
   {
    "duration": 40,
    "start_time": "2024-09-10T15:30:10.185Z"
   },
   {
    "duration": 1803,
    "start_time": "2024-09-10T15:30:10.228Z"
   },
   {
    "duration": 163,
    "start_time": "2024-09-10T15:30:12.033Z"
   },
   {
    "duration": 13,
    "start_time": "2024-09-10T15:30:12.197Z"
   },
   {
    "duration": 860,
    "start_time": "2024-09-10T15:31:16.037Z"
   },
   {
    "duration": 12,
    "start_time": "2024-09-10T15:31:16.899Z"
   },
   {
    "duration": 7,
    "start_time": "2024-09-10T15:31:16.912Z"
   },
   {
    "duration": 35,
    "start_time": "2024-09-10T15:31:16.921Z"
   },
   {
    "duration": 64,
    "start_time": "2024-09-10T15:31:16.958Z"
   },
   {
    "duration": 68,
    "start_time": "2024-09-10T15:31:17.024Z"
   },
   {
    "duration": 25,
    "start_time": "2024-09-10T15:31:17.094Z"
   },
   {
    "duration": 8,
    "start_time": "2024-09-10T15:31:17.121Z"
   },
   {
    "duration": 15,
    "start_time": "2024-09-10T15:31:17.131Z"
   },
   {
    "duration": 9,
    "start_time": "2024-09-10T15:31:17.151Z"
   },
   {
    "duration": 6,
    "start_time": "2024-09-10T15:31:17.162Z"
   },
   {
    "duration": 45,
    "start_time": "2024-09-10T15:31:17.171Z"
   },
   {
    "duration": 30,
    "start_time": "2024-09-10T15:31:17.218Z"
   },
   {
    "duration": 12,
    "start_time": "2024-09-10T15:31:17.250Z"
   },
   {
    "duration": 8,
    "start_time": "2024-09-10T15:31:17.263Z"
   },
   {
    "duration": 58,
    "start_time": "2024-09-10T15:31:17.273Z"
   },
   {
    "duration": 21,
    "start_time": "2024-09-10T15:31:17.333Z"
   },
   {
    "duration": 9,
    "start_time": "2024-09-10T15:31:17.355Z"
   },
   {
    "duration": 11,
    "start_time": "2024-09-10T15:31:17.366Z"
   },
   {
    "duration": 35,
    "start_time": "2024-09-10T15:31:17.378Z"
   },
   {
    "duration": 21,
    "start_time": "2024-09-10T15:31:17.415Z"
   },
   {
    "duration": 8,
    "start_time": "2024-09-10T15:31:17.437Z"
   },
   {
    "duration": 8,
    "start_time": "2024-09-10T15:31:17.447Z"
   },
   {
    "duration": 17,
    "start_time": "2024-09-10T15:31:17.457Z"
   },
   {
    "duration": 48,
    "start_time": "2024-09-10T15:31:17.476Z"
   },
   {
    "duration": 14,
    "start_time": "2024-09-10T15:31:17.525Z"
   },
   {
    "duration": 19,
    "start_time": "2024-09-10T15:31:17.540Z"
   },
   {
    "duration": 46,
    "start_time": "2024-09-10T15:31:17.564Z"
   },
   {
    "duration": 17,
    "start_time": "2024-09-10T15:31:17.613Z"
   },
   {
    "duration": 16,
    "start_time": "2024-09-10T15:31:17.632Z"
   },
   {
    "duration": 16,
    "start_time": "2024-09-10T15:31:17.649Z"
   },
   {
    "duration": 66,
    "start_time": "2024-09-10T15:31:17.667Z"
   },
   {
    "duration": 39,
    "start_time": "2024-09-10T15:31:17.735Z"
   },
   {
    "duration": 4,
    "start_time": "2024-09-10T15:31:17.776Z"
   },
   {
    "duration": 42,
    "start_time": "2024-09-10T15:31:17.782Z"
   },
   {
    "duration": 1840,
    "start_time": "2024-09-10T15:31:17.826Z"
   },
   {
    "duration": 168,
    "start_time": "2024-09-10T15:31:19.668Z"
   },
   {
    "duration": 6,
    "start_time": "2024-09-10T15:31:19.838Z"
   },
   {
    "duration": 860,
    "start_time": "2024-09-10T15:34:40.143Z"
   },
   {
    "duration": 9,
    "start_time": "2024-09-10T15:34:41.005Z"
   },
   {
    "duration": 6,
    "start_time": "2024-09-10T15:34:41.015Z"
   },
   {
    "duration": 35,
    "start_time": "2024-09-10T15:34:41.022Z"
   },
   {
    "duration": 72,
    "start_time": "2024-09-10T15:34:41.060Z"
   },
   {
    "duration": 75,
    "start_time": "2024-09-10T15:34:41.134Z"
   },
   {
    "duration": 17,
    "start_time": "2024-09-10T15:34:41.211Z"
   },
   {
    "duration": 8,
    "start_time": "2024-09-10T15:34:41.229Z"
   },
   {
    "duration": 14,
    "start_time": "2024-09-10T15:34:41.238Z"
   },
   {
    "duration": 8,
    "start_time": "2024-09-10T15:34:41.253Z"
   },
   {
    "duration": 3,
    "start_time": "2024-09-10T15:34:41.263Z"
   },
   {
    "duration": 47,
    "start_time": "2024-09-10T15:34:41.268Z"
   },
   {
    "duration": 21,
    "start_time": "2024-09-10T15:34:41.317Z"
   },
   {
    "duration": 8,
    "start_time": "2024-09-10T15:34:41.341Z"
   },
   {
    "duration": 8,
    "start_time": "2024-09-10T15:34:41.351Z"
   },
   {
    "duration": 56,
    "start_time": "2024-09-10T15:34:41.361Z"
   },
   {
    "duration": 16,
    "start_time": "2024-09-10T15:34:41.419Z"
   },
   {
    "duration": 7,
    "start_time": "2024-09-10T15:34:41.438Z"
   },
   {
    "duration": 9,
    "start_time": "2024-09-10T15:34:41.447Z"
   },
   {
    "duration": 14,
    "start_time": "2024-09-10T15:34:41.457Z"
   },
   {
    "duration": 50,
    "start_time": "2024-09-10T15:34:41.472Z"
   },
   {
    "duration": 10,
    "start_time": "2024-09-10T15:34:41.524Z"
   },
   {
    "duration": 8,
    "start_time": "2024-09-10T15:34:41.536Z"
   },
   {
    "duration": 17,
    "start_time": "2024-09-10T15:34:41.546Z"
   },
   {
    "duration": 45,
    "start_time": "2024-09-10T15:34:41.565Z"
   },
   {
    "duration": 12,
    "start_time": "2024-09-10T15:34:41.612Z"
   },
   {
    "duration": 19,
    "start_time": "2024-09-10T15:34:41.626Z"
   },
   {
    "duration": 19,
    "start_time": "2024-09-10T15:34:41.646Z"
   },
   {
    "duration": 47,
    "start_time": "2024-09-10T15:34:41.667Z"
   },
   {
    "duration": 16,
    "start_time": "2024-09-10T15:34:41.715Z"
   },
   {
    "duration": 16,
    "start_time": "2024-09-10T15:34:41.733Z"
   },
   {
    "duration": 59,
    "start_time": "2024-09-10T15:34:41.750Z"
   },
   {
    "duration": 37,
    "start_time": "2024-09-10T15:34:41.810Z"
   },
   {
    "duration": 6,
    "start_time": "2024-09-10T15:34:41.849Z"
   },
   {
    "duration": 20,
    "start_time": "2024-09-10T15:34:41.856Z"
   },
   {
    "duration": 1849,
    "start_time": "2024-09-10T15:34:41.878Z"
   },
   {
    "duration": 165,
    "start_time": "2024-09-10T15:34:43.729Z"
   },
   {
    "duration": 6,
    "start_time": "2024-09-10T15:34:43.897Z"
   },
   {
    "duration": 165,
    "start_time": "2024-09-10T15:36:12.160Z"
   },
   {
    "duration": 925,
    "start_time": "2024-09-10T15:36:38.138Z"
   },
   {
    "duration": 7,
    "start_time": "2024-09-10T15:36:39.065Z"
   },
   {
    "duration": 6,
    "start_time": "2024-09-10T15:36:39.074Z"
   },
   {
    "duration": 47,
    "start_time": "2024-09-10T15:36:39.081Z"
   },
   {
    "duration": 57,
    "start_time": "2024-09-10T15:36:39.131Z"
   },
   {
    "duration": 82,
    "start_time": "2024-09-10T15:36:39.191Z"
   },
   {
    "duration": 16,
    "start_time": "2024-09-10T15:36:39.275Z"
   },
   {
    "duration": 17,
    "start_time": "2024-09-10T15:36:39.293Z"
   },
   {
    "duration": 14,
    "start_time": "2024-09-10T15:36:39.312Z"
   },
   {
    "duration": 7,
    "start_time": "2024-09-10T15:36:39.328Z"
   },
   {
    "duration": 4,
    "start_time": "2024-09-10T15:36:39.337Z"
   },
   {
    "duration": 11,
    "start_time": "2024-09-10T15:36:39.342Z"
   },
   {
    "duration": 60,
    "start_time": "2024-09-10T15:36:39.355Z"
   },
   {
    "duration": 9,
    "start_time": "2024-09-10T15:36:39.419Z"
   },
   {
    "duration": 7,
    "start_time": "2024-09-10T15:36:39.430Z"
   },
   {
    "duration": 26,
    "start_time": "2024-09-10T15:36:39.438Z"
   },
   {
    "duration": 46,
    "start_time": "2024-09-10T15:36:39.466Z"
   },
   {
    "duration": 8,
    "start_time": "2024-09-10T15:36:39.513Z"
   },
   {
    "duration": 8,
    "start_time": "2024-09-10T15:36:39.523Z"
   },
   {
    "duration": 14,
    "start_time": "2024-09-10T15:36:39.534Z"
   },
   {
    "duration": 19,
    "start_time": "2024-09-10T15:36:39.549Z"
   },
   {
    "duration": 40,
    "start_time": "2024-09-10T15:36:39.570Z"
   },
   {
    "duration": 8,
    "start_time": "2024-09-10T15:36:39.611Z"
   },
   {
    "duration": 18,
    "start_time": "2024-09-10T15:36:39.621Z"
   },
   {
    "duration": 16,
    "start_time": "2024-09-10T15:36:39.641Z"
   },
   {
    "duration": 13,
    "start_time": "2024-09-10T15:36:39.659Z"
   },
   {
    "duration": 51,
    "start_time": "2024-09-10T15:36:39.673Z"
   },
   {
    "duration": 19,
    "start_time": "2024-09-10T15:36:39.728Z"
   },
   {
    "duration": 22,
    "start_time": "2024-09-10T15:36:39.749Z"
   },
   {
    "duration": 38,
    "start_time": "2024-09-10T15:36:39.774Z"
   },
   {
    "duration": 16,
    "start_time": "2024-09-10T15:36:39.814Z"
   },
   {
    "duration": 34,
    "start_time": "2024-09-10T15:36:39.832Z"
   },
   {
    "duration": 58,
    "start_time": "2024-09-10T15:36:39.870Z"
   },
   {
    "duration": 6,
    "start_time": "2024-09-10T15:36:39.930Z"
   },
   {
    "duration": 20,
    "start_time": "2024-09-10T15:36:39.937Z"
   },
   {
    "duration": 1752,
    "start_time": "2024-09-10T15:36:39.959Z"
   },
   {
    "duration": 153,
    "start_time": "2024-09-10T15:36:41.713Z"
   },
   {
    "duration": 6,
    "start_time": "2024-09-10T15:36:41.867Z"
   },
   {
    "duration": 4,
    "start_time": "2024-09-10T15:36:48.652Z"
   },
   {
    "duration": 77,
    "start_time": "2024-09-10T16:09:57.490Z"
   },
   {
    "duration": 23,
    "start_time": "2024-09-10T16:10:06.709Z"
   },
   {
    "duration": 7,
    "start_time": "2024-09-10T16:13:20.146Z"
   },
   {
    "duration": 18,
    "start_time": "2024-09-10T16:13:29.916Z"
   },
   {
    "duration": 12,
    "start_time": "2024-09-10T16:13:56.561Z"
   },
   {
    "duration": 4,
    "start_time": "2024-09-10T16:18:15.968Z"
   },
   {
    "duration": 8,
    "start_time": "2024-09-10T16:18:24.896Z"
   },
   {
    "duration": 9,
    "start_time": "2024-09-10T16:19:36.616Z"
   },
   {
    "duration": 8,
    "start_time": "2024-09-10T16:20:02.992Z"
   },
   {
    "duration": 26,
    "start_time": "2024-09-10T16:23:05.410Z"
   },
   {
    "duration": 18,
    "start_time": "2024-09-10T16:23:36.125Z"
   },
   {
    "duration": 20,
    "start_time": "2024-09-10T16:23:40.445Z"
   },
   {
    "duration": 9,
    "start_time": "2024-09-10T16:23:48.525Z"
   },
   {
    "duration": 12,
    "start_time": "2024-09-10T16:24:20.030Z"
   },
   {
    "duration": 10,
    "start_time": "2024-09-10T16:24:36.408Z"
   },
   {
    "duration": 262,
    "start_time": "2024-09-10T16:28:15.294Z"
   },
   {
    "duration": 46,
    "start_time": "2024-09-10T16:29:39.990Z"
   },
   {
    "duration": 46,
    "start_time": "2024-09-10T16:30:01.895Z"
   },
   {
    "duration": 11,
    "start_time": "2024-09-10T16:42:35.991Z"
   },
   {
    "duration": 15,
    "start_time": "2024-09-10T16:44:06.140Z"
   },
   {
    "duration": 16,
    "start_time": "2024-09-10T16:44:29.724Z"
   },
   {
    "duration": 5,
    "start_time": "2024-09-10T16:44:41.643Z"
   },
   {
    "duration": 25,
    "start_time": "2024-09-10T16:45:08.257Z"
   },
   {
    "duration": 13,
    "start_time": "2024-09-10T16:45:14.676Z"
   },
   {
    "duration": 16,
    "start_time": "2024-09-10T16:45:51.207Z"
   },
   {
    "duration": 14,
    "start_time": "2024-09-10T16:45:56.499Z"
   },
   {
    "duration": 830,
    "start_time": "2024-09-10T16:46:05.772Z"
   },
   {
    "duration": 9,
    "start_time": "2024-09-10T16:46:06.605Z"
   },
   {
    "duration": 4,
    "start_time": "2024-09-10T16:46:06.617Z"
   },
   {
    "duration": 33,
    "start_time": "2024-09-10T16:46:06.624Z"
   },
   {
    "duration": 66,
    "start_time": "2024-09-10T16:46:06.661Z"
   },
   {
    "duration": 67,
    "start_time": "2024-09-10T16:46:06.730Z"
   },
   {
    "duration": 23,
    "start_time": "2024-09-10T16:46:06.799Z"
   },
   {
    "duration": 7,
    "start_time": "2024-09-10T16:46:06.823Z"
   },
   {
    "duration": 13,
    "start_time": "2024-09-10T16:46:06.832Z"
   },
   {
    "duration": 7,
    "start_time": "2024-09-10T16:46:06.848Z"
   },
   {
    "duration": 3,
    "start_time": "2024-09-10T16:46:06.857Z"
   },
   {
    "duration": 47,
    "start_time": "2024-09-10T16:46:06.861Z"
   },
   {
    "duration": 22,
    "start_time": "2024-09-10T16:46:06.911Z"
   },
   {
    "duration": 8,
    "start_time": "2024-09-10T16:46:06.935Z"
   },
   {
    "duration": 8,
    "start_time": "2024-09-10T16:46:06.945Z"
   },
   {
    "duration": 55,
    "start_time": "2024-09-10T16:46:06.954Z"
   },
   {
    "duration": 17,
    "start_time": "2024-09-10T16:46:07.011Z"
   },
   {
    "duration": 7,
    "start_time": "2024-09-10T16:46:07.030Z"
   },
   {
    "duration": 9,
    "start_time": "2024-09-10T16:46:07.039Z"
   },
   {
    "duration": 13,
    "start_time": "2024-09-10T16:46:07.050Z"
   },
   {
    "duration": 52,
    "start_time": "2024-09-10T16:46:07.066Z"
   },
   {
    "duration": 8,
    "start_time": "2024-09-10T16:46:07.120Z"
   },
   {
    "duration": 8,
    "start_time": "2024-09-10T16:46:07.129Z"
   },
   {
    "duration": 18,
    "start_time": "2024-09-10T16:46:07.138Z"
   },
   {
    "duration": 22,
    "start_time": "2024-09-10T16:46:07.157Z"
   },
   {
    "duration": 42,
    "start_time": "2024-09-10T16:46:07.182Z"
   },
   {
    "duration": 21,
    "start_time": "2024-09-10T16:46:07.227Z"
   },
   {
    "duration": 21,
    "start_time": "2024-09-10T16:46:07.253Z"
   },
   {
    "duration": 44,
    "start_time": "2024-09-10T16:46:07.276Z"
   },
   {
    "duration": 16,
    "start_time": "2024-09-10T16:46:07.321Z"
   },
   {
    "duration": 15,
    "start_time": "2024-09-10T16:46:07.339Z"
   },
   {
    "duration": 63,
    "start_time": "2024-09-10T16:46:07.356Z"
   },
   {
    "duration": 34,
    "start_time": "2024-09-10T16:46:07.421Z"
   },
   {
    "duration": 5,
    "start_time": "2024-09-10T16:46:07.456Z"
   },
   {
    "duration": 19,
    "start_time": "2024-09-10T16:46:07.464Z"
   },
   {
    "duration": 1822,
    "start_time": "2024-09-10T16:46:07.484Z"
   },
   {
    "duration": 154,
    "start_time": "2024-09-10T16:46:09.310Z"
   },
   {
    "duration": 6,
    "start_time": "2024-09-10T16:46:09.466Z"
   },
   {
    "duration": 19,
    "start_time": "2024-09-10T16:46:09.473Z"
   },
   {
    "duration": 10,
    "start_time": "2024-09-10T16:46:09.509Z"
   },
   {
    "duration": 3,
    "start_time": "2024-09-10T16:46:09.521Z"
   },
   {
    "duration": 492,
    "start_time": "2024-09-10T16:46:09.526Z"
   },
   {
    "duration": 0,
    "start_time": "2024-09-10T16:46:10.020Z"
   },
   {
    "duration": 0,
    "start_time": "2024-09-10T16:46:10.021Z"
   },
   {
    "duration": 0,
    "start_time": "2024-09-10T16:46:10.023Z"
   },
   {
    "duration": 0,
    "start_time": "2024-09-10T16:46:10.025Z"
   },
   {
    "duration": 0,
    "start_time": "2024-09-10T16:46:10.026Z"
   },
   {
    "duration": 0,
    "start_time": "2024-09-10T16:46:10.028Z"
   },
   {
    "duration": 0,
    "start_time": "2024-09-10T16:46:10.029Z"
   },
   {
    "duration": 0,
    "start_time": "2024-09-10T16:46:10.030Z"
   },
   {
    "duration": 21,
    "start_time": "2024-09-10T16:46:27.194Z"
   },
   {
    "duration": 6,
    "start_time": "2024-09-10T16:46:33.611Z"
   },
   {
    "duration": 19,
    "start_time": "2024-09-10T16:46:54.092Z"
   },
   {
    "duration": 14,
    "start_time": "2024-09-10T16:47:27.969Z"
   },
   {
    "duration": 21,
    "start_time": "2024-09-10T16:48:27.169Z"
   },
   {
    "duration": 990,
    "start_time": "2024-09-10T16:48:34.225Z"
   },
   {
    "duration": 8,
    "start_time": "2024-09-10T16:48:35.217Z"
   },
   {
    "duration": 5,
    "start_time": "2024-09-10T16:48:35.227Z"
   },
   {
    "duration": 37,
    "start_time": "2024-09-10T16:48:35.235Z"
   },
   {
    "duration": 73,
    "start_time": "2024-09-10T16:48:35.274Z"
   },
   {
    "duration": 76,
    "start_time": "2024-09-10T16:48:35.348Z"
   },
   {
    "duration": 17,
    "start_time": "2024-09-10T16:48:35.426Z"
   },
   {
    "duration": 8,
    "start_time": "2024-09-10T16:48:35.445Z"
   },
   {
    "duration": 13,
    "start_time": "2024-09-10T16:48:35.455Z"
   },
   {
    "duration": 38,
    "start_time": "2024-09-10T16:48:35.471Z"
   },
   {
    "duration": 4,
    "start_time": "2024-09-10T16:48:35.510Z"
   },
   {
    "duration": 10,
    "start_time": "2024-09-10T16:48:35.516Z"
   },
   {
    "duration": 23,
    "start_time": "2024-09-10T16:48:35.527Z"
   },
   {
    "duration": 8,
    "start_time": "2024-09-10T16:48:35.551Z"
   },
   {
    "duration": 8,
    "start_time": "2024-09-10T16:48:35.561Z"
   },
   {
    "duration": 58,
    "start_time": "2024-09-10T16:48:35.571Z"
   },
   {
    "duration": 16,
    "start_time": "2024-09-10T16:48:35.631Z"
   },
   {
    "duration": 8,
    "start_time": "2024-09-10T16:48:35.651Z"
   },
   {
    "duration": 10,
    "start_time": "2024-09-10T16:48:35.661Z"
   },
   {
    "duration": 38,
    "start_time": "2024-09-10T16:48:35.675Z"
   },
   {
    "duration": 23,
    "start_time": "2024-09-10T16:48:35.715Z"
   },
   {
    "duration": 10,
    "start_time": "2024-09-10T16:48:35.739Z"
   },
   {
    "duration": 9,
    "start_time": "2024-09-10T16:48:35.750Z"
   },
   {
    "duration": 52,
    "start_time": "2024-09-10T16:48:35.761Z"
   },
   {
    "duration": 16,
    "start_time": "2024-09-10T16:48:35.815Z"
   },
   {
    "duration": 13,
    "start_time": "2024-09-10T16:48:35.833Z"
   },
   {
    "duration": 19,
    "start_time": "2024-09-10T16:48:35.847Z"
   },
   {
    "duration": 49,
    "start_time": "2024-09-10T16:48:35.871Z"
   },
   {
    "duration": 14,
    "start_time": "2024-09-10T16:48:35.922Z"
   },
   {
    "duration": 15,
    "start_time": "2024-09-10T16:48:35.938Z"
   },
   {
    "duration": 17,
    "start_time": "2024-09-10T16:48:35.955Z"
   },
   {
    "duration": 64,
    "start_time": "2024-09-10T16:48:35.975Z"
   },
   {
    "duration": 35,
    "start_time": "2024-09-10T16:48:36.042Z"
   },
   {
    "duration": 5,
    "start_time": "2024-09-10T16:48:36.079Z"
   },
   {
    "duration": 41,
    "start_time": "2024-09-10T16:48:36.086Z"
   },
   {
    "duration": 1863,
    "start_time": "2024-09-10T16:48:36.130Z"
   },
   {
    "duration": 156,
    "start_time": "2024-09-10T16:48:37.995Z"
   },
   {
    "duration": 6,
    "start_time": "2024-09-10T16:48:38.153Z"
   },
   {
    "duration": 17,
    "start_time": "2024-09-10T16:48:38.161Z"
   },
   {
    "duration": 32,
    "start_time": "2024-09-10T16:48:38.180Z"
   },
   {
    "duration": 4,
    "start_time": "2024-09-10T16:48:38.214Z"
   },
   {
    "duration": 470,
    "start_time": "2024-09-10T16:48:38.220Z"
   },
   {
    "duration": 0,
    "start_time": "2024-09-10T16:48:38.692Z"
   },
   {
    "duration": 0,
    "start_time": "2024-09-10T16:48:38.693Z"
   },
   {
    "duration": 0,
    "start_time": "2024-09-10T16:48:38.694Z"
   },
   {
    "duration": 0,
    "start_time": "2024-09-10T16:48:38.695Z"
   },
   {
    "duration": 0,
    "start_time": "2024-09-10T16:48:38.696Z"
   },
   {
    "duration": 0,
    "start_time": "2024-09-10T16:48:38.697Z"
   },
   {
    "duration": 0,
    "start_time": "2024-09-10T16:48:38.709Z"
   },
   {
    "duration": 0,
    "start_time": "2024-09-10T16:48:38.710Z"
   },
   {
    "duration": 16,
    "start_time": "2024-09-10T16:49:59.727Z"
   },
   {
    "duration": 15,
    "start_time": "2024-09-10T16:51:33.202Z"
   },
   {
    "duration": 14,
    "start_time": "2024-09-10T16:52:54.695Z"
   },
   {
    "duration": 17,
    "start_time": "2024-09-10T16:53:12.629Z"
   },
   {
    "duration": 20,
    "start_time": "2024-09-10T17:02:33.463Z"
   },
   {
    "duration": 12,
    "start_time": "2024-09-10T17:02:56.237Z"
   },
   {
    "duration": 14,
    "start_time": "2024-09-10T17:03:40.202Z"
   },
   {
    "duration": 8,
    "start_time": "2024-09-10T17:03:43.994Z"
   },
   {
    "duration": 9,
    "start_time": "2024-09-10T17:04:13.297Z"
   },
   {
    "duration": 19,
    "start_time": "2024-09-10T17:04:42.417Z"
   },
   {
    "duration": 16,
    "start_time": "2024-09-10T17:05:34.921Z"
   },
   {
    "duration": 230,
    "start_time": "2024-09-10T17:05:55.094Z"
   },
   {
    "duration": 5,
    "start_time": "2024-09-10T17:09:12.062Z"
   },
   {
    "duration": 5,
    "start_time": "2024-09-10T17:13:08.249Z"
   },
   {
    "duration": 5,
    "start_time": "2024-09-10T17:13:13.596Z"
   },
   {
    "duration": 8,
    "start_time": "2024-09-10T17:13:27.089Z"
   },
   {
    "duration": 16,
    "start_time": "2024-09-10T17:16:59.501Z"
   },
   {
    "duration": 9,
    "start_time": "2024-09-10T17:17:16.420Z"
   },
   {
    "duration": 55,
    "start_time": "2024-09-10T17:17:50.035Z"
   },
   {
    "duration": 156,
    "start_time": "2024-09-10T19:44:58.330Z"
   },
   {
    "duration": 2446,
    "start_time": "2024-09-10T19:45:08.000Z"
   },
   {
    "duration": 8,
    "start_time": "2024-09-10T19:45:10.448Z"
   },
   {
    "duration": 6,
    "start_time": "2024-09-10T19:45:10.457Z"
   },
   {
    "duration": 48,
    "start_time": "2024-09-10T19:45:10.466Z"
   },
   {
    "duration": 90,
    "start_time": "2024-09-10T19:45:10.515Z"
   },
   {
    "duration": 99,
    "start_time": "2024-09-10T19:45:10.607Z"
   },
   {
    "duration": 16,
    "start_time": "2024-09-10T19:45:10.707Z"
   },
   {
    "duration": 7,
    "start_time": "2024-09-10T19:45:10.724Z"
   },
   {
    "duration": 13,
    "start_time": "2024-09-10T19:45:10.733Z"
   },
   {
    "duration": 6,
    "start_time": "2024-09-10T19:45:10.749Z"
   },
   {
    "duration": 4,
    "start_time": "2024-09-10T19:45:10.757Z"
   },
   {
    "duration": 9,
    "start_time": "2024-09-10T19:45:10.763Z"
   },
   {
    "duration": 57,
    "start_time": "2024-09-10T19:45:10.774Z"
   },
   {
    "duration": 9,
    "start_time": "2024-09-10T19:45:10.833Z"
   },
   {
    "duration": 7,
    "start_time": "2024-09-10T19:45:10.844Z"
   },
   {
    "duration": 26,
    "start_time": "2024-09-10T19:45:10.855Z"
   },
   {
    "duration": 42,
    "start_time": "2024-09-10T19:45:10.883Z"
   },
   {
    "duration": 7,
    "start_time": "2024-09-10T19:45:10.926Z"
   },
   {
    "duration": 9,
    "start_time": "2024-09-10T19:45:10.934Z"
   },
   {
    "duration": 14,
    "start_time": "2024-09-10T19:45:10.945Z"
   },
   {
    "duration": 19,
    "start_time": "2024-09-10T19:45:10.960Z"
   },
   {
    "duration": 44,
    "start_time": "2024-09-10T19:45:10.981Z"
   },
   {
    "duration": 8,
    "start_time": "2024-09-10T19:45:11.027Z"
   },
   {
    "duration": 17,
    "start_time": "2024-09-10T19:45:11.036Z"
   },
   {
    "duration": 15,
    "start_time": "2024-09-10T19:45:11.055Z"
   },
   {
    "duration": 11,
    "start_time": "2024-09-10T19:45:11.071Z"
   },
   {
    "duration": 46,
    "start_time": "2024-09-10T19:45:11.085Z"
   },
   {
    "duration": 17,
    "start_time": "2024-09-10T19:45:11.136Z"
   },
   {
    "duration": 13,
    "start_time": "2024-09-10T19:45:11.155Z"
   },
   {
    "duration": 17,
    "start_time": "2024-09-10T19:45:11.170Z"
   },
   {
    "duration": 43,
    "start_time": "2024-09-10T19:45:11.188Z"
   },
   {
    "duration": 31,
    "start_time": "2024-09-10T19:45:11.232Z"
   },
   {
    "duration": 35,
    "start_time": "2024-09-10T19:45:11.265Z"
   },
   {
    "duration": 26,
    "start_time": "2024-09-10T19:45:11.301Z"
   },
   {
    "duration": 16,
    "start_time": "2024-09-10T19:45:11.329Z"
   },
   {
    "duration": 1714,
    "start_time": "2024-09-10T19:45:11.347Z"
   },
   {
    "duration": 199,
    "start_time": "2024-09-10T19:45:13.063Z"
   },
   {
    "duration": 5,
    "start_time": "2024-09-10T19:45:13.264Z"
   },
   {
    "duration": 16,
    "start_time": "2024-09-10T19:45:13.271Z"
   },
   {
    "duration": 11,
    "start_time": "2024-09-10T19:45:13.288Z"
   },
   {
    "duration": 25,
    "start_time": "2024-09-10T19:45:13.301Z"
   },
   {
    "duration": 370,
    "start_time": "2024-09-10T19:45:13.327Z"
   },
   {
    "duration": 1,
    "start_time": "2024-09-10T19:45:13.698Z"
   },
   {
    "duration": 0,
    "start_time": "2024-09-10T19:45:13.700Z"
   },
   {
    "duration": 0,
    "start_time": "2024-09-10T19:45:13.701Z"
   },
   {
    "duration": 0,
    "start_time": "2024-09-10T19:45:13.703Z"
   },
   {
    "duration": 0,
    "start_time": "2024-09-10T19:45:13.704Z"
   },
   {
    "duration": 0,
    "start_time": "2024-09-10T19:45:13.705Z"
   },
   {
    "duration": 0,
    "start_time": "2024-09-10T19:45:13.723Z"
   },
   {
    "duration": 0,
    "start_time": "2024-09-10T19:45:13.724Z"
   },
   {
    "duration": 0,
    "start_time": "2024-09-10T19:45:13.726Z"
   },
   {
    "duration": 0,
    "start_time": "2024-09-10T19:45:13.727Z"
   },
   {
    "duration": 0,
    "start_time": "2024-09-10T19:45:13.728Z"
   },
   {
    "duration": 814,
    "start_time": "2024-09-10T19:45:27.587Z"
   },
   {
    "duration": 6,
    "start_time": "2024-09-10T19:45:28.403Z"
   },
   {
    "duration": 4,
    "start_time": "2024-09-10T19:45:28.411Z"
   },
   {
    "duration": 34,
    "start_time": "2024-09-10T19:45:28.424Z"
   },
   {
    "duration": 52,
    "start_time": "2024-09-10T19:45:28.459Z"
   },
   {
    "duration": 71,
    "start_time": "2024-09-10T19:45:28.513Z"
   },
   {
    "duration": 16,
    "start_time": "2024-09-10T19:45:28.586Z"
   },
   {
    "duration": 26,
    "start_time": "2024-09-10T19:45:28.603Z"
   },
   {
    "duration": 13,
    "start_time": "2024-09-10T19:45:28.631Z"
   },
   {
    "duration": 7,
    "start_time": "2024-09-10T19:45:28.646Z"
   },
   {
    "duration": 3,
    "start_time": "2024-09-10T19:45:28.655Z"
   },
   {
    "duration": 10,
    "start_time": "2024-09-10T19:45:28.660Z"
   },
   {
    "duration": 53,
    "start_time": "2024-09-10T19:45:28.671Z"
   },
   {
    "duration": 8,
    "start_time": "2024-09-10T19:45:28.725Z"
   },
   {
    "duration": 7,
    "start_time": "2024-09-10T19:45:28.734Z"
   },
   {
    "duration": 25,
    "start_time": "2024-09-10T19:45:28.742Z"
   },
   {
    "duration": 16,
    "start_time": "2024-09-10T19:45:28.768Z"
   },
   {
    "duration": 39,
    "start_time": "2024-09-10T19:45:28.785Z"
   },
   {
    "duration": 9,
    "start_time": "2024-09-10T19:45:28.826Z"
   },
   {
    "duration": 15,
    "start_time": "2024-09-10T19:45:28.836Z"
   },
   {
    "duration": 19,
    "start_time": "2024-09-10T19:45:28.853Z"
   },
   {
    "duration": 8,
    "start_time": "2024-09-10T19:45:28.874Z"
   },
   {
    "duration": 40,
    "start_time": "2024-09-10T19:45:28.884Z"
   },
   {
    "duration": 16,
    "start_time": "2024-09-10T19:45:28.925Z"
   },
   {
    "duration": 14,
    "start_time": "2024-09-10T19:45:28.943Z"
   },
   {
    "duration": 12,
    "start_time": "2024-09-10T19:45:28.959Z"
   },
   {
    "duration": 17,
    "start_time": "2024-09-10T19:45:28.973Z"
   },
   {
    "duration": 18,
    "start_time": "2024-09-10T19:45:29.023Z"
   },
   {
    "duration": 15,
    "start_time": "2024-09-10T19:45:29.043Z"
   },
   {
    "duration": 14,
    "start_time": "2024-09-10T19:45:29.059Z"
   },
   {
    "duration": 15,
    "start_time": "2024-09-10T19:45:29.075Z"
   },
   {
    "duration": 61,
    "start_time": "2024-09-10T19:45:29.091Z"
   },
   {
    "duration": 33,
    "start_time": "2024-09-10T19:45:29.153Z"
   },
   {
    "duration": 4,
    "start_time": "2024-09-10T19:45:29.188Z"
   },
   {
    "duration": 38,
    "start_time": "2024-09-10T19:45:29.194Z"
   },
   {
    "duration": 1731,
    "start_time": "2024-09-10T19:45:29.235Z"
   },
   {
    "duration": 153,
    "start_time": "2024-09-10T19:45:30.969Z"
   },
   {
    "duration": 6,
    "start_time": "2024-09-10T19:45:31.124Z"
   },
   {
    "duration": 15,
    "start_time": "2024-09-10T19:45:31.132Z"
   },
   {
    "duration": 9,
    "start_time": "2024-09-10T19:45:31.149Z"
   },
   {
    "duration": 3,
    "start_time": "2024-09-10T19:45:31.159Z"
   },
   {
    "duration": 462,
    "start_time": "2024-09-10T19:45:31.164Z"
   },
   {
    "duration": 0,
    "start_time": "2024-09-10T19:45:31.628Z"
   },
   {
    "duration": 0,
    "start_time": "2024-09-10T19:45:31.630Z"
   },
   {
    "duration": 0,
    "start_time": "2024-09-10T19:45:31.631Z"
   },
   {
    "duration": 0,
    "start_time": "2024-09-10T19:45:31.632Z"
   },
   {
    "duration": 0,
    "start_time": "2024-09-10T19:45:31.634Z"
   },
   {
    "duration": 0,
    "start_time": "2024-09-10T19:45:31.635Z"
   },
   {
    "duration": 0,
    "start_time": "2024-09-10T19:45:31.637Z"
   },
   {
    "duration": 0,
    "start_time": "2024-09-10T19:45:31.638Z"
   },
   {
    "duration": 0,
    "start_time": "2024-09-10T19:45:31.640Z"
   },
   {
    "duration": 0,
    "start_time": "2024-09-10T19:45:31.641Z"
   },
   {
    "duration": 0,
    "start_time": "2024-09-10T19:45:31.642Z"
   },
   {
    "duration": 14,
    "start_time": "2024-09-10T19:46:05.960Z"
   },
   {
    "duration": 11,
    "start_time": "2024-09-10T19:46:12.736Z"
   },
   {
    "duration": 8,
    "start_time": "2024-09-10T19:46:16.060Z"
   },
   {
    "duration": 7,
    "start_time": "2024-09-10T19:46:23.548Z"
   },
   {
    "duration": 18,
    "start_time": "2024-09-10T19:46:27.900Z"
   },
   {
    "duration": 7,
    "start_time": "2024-09-10T19:46:35.761Z"
   },
   {
    "duration": 16,
    "start_time": "2024-09-10T19:46:39.345Z"
   },
   {
    "duration": 14,
    "start_time": "2024-09-10T19:47:30.227Z"
   },
   {
    "duration": 14,
    "start_time": "2024-09-10T19:50:20.070Z"
   },
   {
    "duration": 39,
    "start_time": "2024-09-10T19:52:14.530Z"
   },
   {
    "duration": 33,
    "start_time": "2024-09-10T19:52:27.220Z"
   },
   {
    "duration": 24,
    "start_time": "2024-09-10T19:53:06.552Z"
   },
   {
    "duration": 13,
    "start_time": "2024-09-10T19:54:16.948Z"
   },
   {
    "duration": 132,
    "start_time": "2024-09-10T19:57:05.879Z"
   },
   {
    "duration": 35,
    "start_time": "2024-09-10T19:57:45.787Z"
   },
   {
    "duration": 7,
    "start_time": "2024-09-10T19:58:05.867Z"
   },
   {
    "duration": 12,
    "start_time": "2024-09-10T19:59:37.914Z"
   },
   {
    "duration": 54,
    "start_time": "2024-09-10T20:07:00.322Z"
   },
   {
    "duration": 33,
    "start_time": "2024-09-10T20:13:46.256Z"
   },
   {
    "duration": 800,
    "start_time": "2024-09-10T20:14:03.403Z"
   },
   {
    "duration": 7,
    "start_time": "2024-09-10T20:14:04.205Z"
   },
   {
    "duration": 10,
    "start_time": "2024-09-10T20:14:04.214Z"
   },
   {
    "duration": 34,
    "start_time": "2024-09-10T20:14:04.226Z"
   },
   {
    "duration": 53,
    "start_time": "2024-09-10T20:14:04.261Z"
   },
   {
    "duration": 72,
    "start_time": "2024-09-10T20:14:04.316Z"
   },
   {
    "duration": 15,
    "start_time": "2024-09-10T20:14:04.389Z"
   },
   {
    "duration": 23,
    "start_time": "2024-09-10T20:14:04.406Z"
   },
   {
    "duration": 13,
    "start_time": "2024-09-10T20:14:04.430Z"
   },
   {
    "duration": 7,
    "start_time": "2024-09-10T20:14:04.446Z"
   },
   {
    "duration": 5,
    "start_time": "2024-09-10T20:14:04.454Z"
   },
   {
    "duration": 9,
    "start_time": "2024-09-10T20:14:04.460Z"
   },
   {
    "duration": 20,
    "start_time": "2024-09-10T20:14:04.470Z"
   },
   {
    "duration": 39,
    "start_time": "2024-09-10T20:14:04.492Z"
   },
   {
    "duration": 7,
    "start_time": "2024-09-10T20:14:04.532Z"
   },
   {
    "duration": 24,
    "start_time": "2024-09-10T20:14:04.541Z"
   },
   {
    "duration": 15,
    "start_time": "2024-09-10T20:14:04.566Z"
   },
   {
    "duration": 42,
    "start_time": "2024-09-10T20:14:04.582Z"
   },
   {
    "duration": 10,
    "start_time": "2024-09-10T20:14:04.625Z"
   },
   {
    "duration": 14,
    "start_time": "2024-09-10T20:14:04.636Z"
   },
   {
    "duration": 20,
    "start_time": "2024-09-10T20:14:04.651Z"
   },
   {
    "duration": 7,
    "start_time": "2024-09-10T20:14:04.674Z"
   },
   {
    "duration": 8,
    "start_time": "2024-09-10T20:14:04.683Z"
   },
   {
    "duration": 46,
    "start_time": "2024-09-10T20:14:04.693Z"
   },
   {
    "duration": 16,
    "start_time": "2024-09-10T20:14:04.740Z"
   },
   {
    "duration": 14,
    "start_time": "2024-09-10T20:14:04.757Z"
   },
   {
    "duration": 20,
    "start_time": "2024-09-10T20:14:04.772Z"
   },
   {
    "duration": 39,
    "start_time": "2024-09-10T20:14:04.796Z"
   },
   {
    "duration": 16,
    "start_time": "2024-09-10T20:14:04.836Z"
   },
   {
    "duration": 14,
    "start_time": "2024-09-10T20:14:04.854Z"
   },
   {
    "duration": 15,
    "start_time": "2024-09-10T20:14:04.869Z"
   },
   {
    "duration": 60,
    "start_time": "2024-09-10T20:14:04.885Z"
   },
   {
    "duration": 35,
    "start_time": "2024-09-10T20:14:04.946Z"
   },
   {
    "duration": 4,
    "start_time": "2024-09-10T20:14:04.983Z"
   },
   {
    "duration": 38,
    "start_time": "2024-09-10T20:14:04.989Z"
   },
   {
    "duration": 1781,
    "start_time": "2024-09-10T20:14:05.029Z"
   },
   {
    "duration": 165,
    "start_time": "2024-09-10T20:14:06.813Z"
   },
   {
    "duration": 6,
    "start_time": "2024-09-10T20:14:06.980Z"
   },
   {
    "duration": 22,
    "start_time": "2024-09-10T20:14:06.988Z"
   },
   {
    "duration": 11,
    "start_time": "2024-09-10T20:14:07.024Z"
   },
   {
    "duration": 6,
    "start_time": "2024-09-10T20:14:07.037Z"
   },
   {
    "duration": 510,
    "start_time": "2024-09-10T20:14:07.045Z"
   },
   {
    "duration": 0,
    "start_time": "2024-09-10T20:14:07.557Z"
   },
   {
    "duration": 0,
    "start_time": "2024-09-10T20:14:07.558Z"
   },
   {
    "duration": 0,
    "start_time": "2024-09-10T20:14:07.559Z"
   },
   {
    "duration": 0,
    "start_time": "2024-09-10T20:14:07.560Z"
   },
   {
    "duration": 0,
    "start_time": "2024-09-10T20:14:07.561Z"
   },
   {
    "duration": 0,
    "start_time": "2024-09-10T20:14:07.562Z"
   },
   {
    "duration": 0,
    "start_time": "2024-09-10T20:14:07.563Z"
   },
   {
    "duration": 0,
    "start_time": "2024-09-10T20:14:07.564Z"
   },
   {
    "duration": 0,
    "start_time": "2024-09-10T20:14:07.565Z"
   },
   {
    "duration": 0,
    "start_time": "2024-09-10T20:14:07.566Z"
   },
   {
    "duration": 0,
    "start_time": "2024-09-10T20:14:07.567Z"
   },
   {
    "duration": 13,
    "start_time": "2024-09-10T20:14:34.065Z"
   },
   {
    "duration": 12,
    "start_time": "2024-09-10T20:14:41.061Z"
   },
   {
    "duration": 7,
    "start_time": "2024-09-10T20:14:42.357Z"
   },
   {
    "duration": 9,
    "start_time": "2024-09-10T20:14:47.622Z"
   },
   {
    "duration": 18,
    "start_time": "2024-09-10T20:14:48.582Z"
   },
   {
    "duration": 7,
    "start_time": "2024-09-10T20:14:49.558Z"
   },
   {
    "duration": 16,
    "start_time": "2024-09-10T20:14:50.361Z"
   },
   {
    "duration": 13,
    "start_time": "2024-09-10T20:14:55.035Z"
   },
   {
    "duration": 8,
    "start_time": "2024-09-10T20:14:56.109Z"
   },
   {
    "duration": 2,
    "start_time": "2024-09-10T20:15:00.907Z"
   },
   {
    "duration": 2,
    "start_time": "2024-09-10T20:15:01.518Z"
   },
   {
    "duration": 14,
    "start_time": "2024-09-10T20:15:41.994Z"
   },
   {
    "duration": 161,
    "start_time": "2024-09-10T20:56:37.878Z"
   },
   {
    "duration": 2486,
    "start_time": "2024-09-10T20:56:46.502Z"
   },
   {
    "duration": 8,
    "start_time": "2024-09-10T20:56:48.991Z"
   },
   {
    "duration": 6,
    "start_time": "2024-09-10T20:56:49.000Z"
   },
   {
    "duration": 47,
    "start_time": "2024-09-10T20:56:49.009Z"
   },
   {
    "duration": 86,
    "start_time": "2024-09-10T20:56:49.057Z"
   },
   {
    "duration": 111,
    "start_time": "2024-09-10T20:56:49.145Z"
   },
   {
    "duration": 17,
    "start_time": "2024-09-10T20:56:49.257Z"
   },
   {
    "duration": 7,
    "start_time": "2024-09-10T20:56:49.275Z"
   },
   {
    "duration": 13,
    "start_time": "2024-09-10T20:56:49.283Z"
   },
   {
    "duration": 25,
    "start_time": "2024-09-10T20:56:49.300Z"
   },
   {
    "duration": 4,
    "start_time": "2024-09-10T20:56:49.326Z"
   },
   {
    "duration": 10,
    "start_time": "2024-09-10T20:56:49.331Z"
   },
   {
    "duration": 21,
    "start_time": "2024-09-10T20:56:49.342Z"
   },
   {
    "duration": 8,
    "start_time": "2024-09-10T20:56:49.364Z"
   },
   {
    "duration": 8,
    "start_time": "2024-09-10T20:56:49.373Z"
   },
   {
    "duration": 62,
    "start_time": "2024-09-10T20:56:49.383Z"
   },
   {
    "duration": 16,
    "start_time": "2024-09-10T20:56:49.447Z"
   },
   {
    "duration": 6,
    "start_time": "2024-09-10T20:56:49.464Z"
   },
   {
    "duration": 9,
    "start_time": "2024-09-10T20:56:49.472Z"
   },
   {
    "duration": 42,
    "start_time": "2024-09-10T20:56:49.482Z"
   },
   {
    "duration": 17,
    "start_time": "2024-09-10T20:56:49.526Z"
   },
   {
    "duration": 7,
    "start_time": "2024-09-10T20:56:49.545Z"
   },
   {
    "duration": 6,
    "start_time": "2024-09-10T20:56:49.554Z"
   },
   {
    "duration": 17,
    "start_time": "2024-09-10T20:56:49.562Z"
   },
   {
    "duration": 45,
    "start_time": "2024-09-10T20:56:49.580Z"
   },
   {
    "duration": 13,
    "start_time": "2024-09-10T20:56:49.626Z"
   },
   {
    "duration": 17,
    "start_time": "2024-09-10T20:56:49.640Z"
   },
   {
    "duration": 18,
    "start_time": "2024-09-10T20:56:49.662Z"
   },
   {
    "duration": 15,
    "start_time": "2024-09-10T20:56:49.681Z"
   },
   {
    "duration": 40,
    "start_time": "2024-09-10T20:56:49.697Z"
   },
   {
    "duration": 18,
    "start_time": "2024-09-10T20:56:49.739Z"
   },
   {
    "duration": 32,
    "start_time": "2024-09-10T20:56:49.759Z"
   },
   {
    "duration": 62,
    "start_time": "2024-09-10T20:56:49.793Z"
   },
   {
    "duration": 4,
    "start_time": "2024-09-10T20:56:49.857Z"
   },
   {
    "duration": 17,
    "start_time": "2024-09-10T20:56:49.863Z"
   },
   {
    "duration": 1709,
    "start_time": "2024-09-10T20:56:49.882Z"
   },
   {
    "duration": 158,
    "start_time": "2024-09-10T20:56:51.594Z"
   },
   {
    "duration": 5,
    "start_time": "2024-09-10T20:56:51.754Z"
   },
   {
    "duration": 16,
    "start_time": "2024-09-10T20:56:51.761Z"
   },
   {
    "duration": 10,
    "start_time": "2024-09-10T20:56:51.779Z"
   },
   {
    "duration": 3,
    "start_time": "2024-09-10T20:56:51.791Z"
   },
   {
    "duration": 477,
    "start_time": "2024-09-10T20:56:51.823Z"
   },
   {
    "duration": 0,
    "start_time": "2024-09-10T20:56:52.302Z"
   },
   {
    "duration": 0,
    "start_time": "2024-09-10T20:56:52.304Z"
   },
   {
    "duration": 0,
    "start_time": "2024-09-10T20:56:52.305Z"
   },
   {
    "duration": 0,
    "start_time": "2024-09-10T20:56:52.307Z"
   },
   {
    "duration": 0,
    "start_time": "2024-09-10T20:56:52.308Z"
   },
   {
    "duration": 0,
    "start_time": "2024-09-10T20:56:52.309Z"
   },
   {
    "duration": 0,
    "start_time": "2024-09-10T20:56:52.310Z"
   },
   {
    "duration": 0,
    "start_time": "2024-09-10T20:56:52.324Z"
   },
   {
    "duration": 0,
    "start_time": "2024-09-10T20:56:52.325Z"
   },
   {
    "duration": 0,
    "start_time": "2024-09-10T20:56:52.327Z"
   },
   {
    "duration": 0,
    "start_time": "2024-09-10T20:56:52.328Z"
   },
   {
    "duration": 9,
    "start_time": "2024-09-10T20:58:03.004Z"
   },
   {
    "duration": 839,
    "start_time": "2024-09-10T20:58:19.847Z"
   },
   {
    "duration": 7,
    "start_time": "2024-09-10T20:58:20.689Z"
   },
   {
    "duration": 5,
    "start_time": "2024-09-10T20:58:20.698Z"
   },
   {
    "duration": 45,
    "start_time": "2024-09-10T20:58:20.704Z"
   },
   {
    "duration": 52,
    "start_time": "2024-09-10T20:58:20.752Z"
   },
   {
    "duration": 76,
    "start_time": "2024-09-10T20:58:20.806Z"
   },
   {
    "duration": 16,
    "start_time": "2024-09-10T20:58:20.884Z"
   },
   {
    "duration": 22,
    "start_time": "2024-09-10T20:58:20.902Z"
   },
   {
    "duration": 14,
    "start_time": "2024-09-10T20:58:20.926Z"
   },
   {
    "duration": 7,
    "start_time": "2024-09-10T20:58:20.941Z"
   },
   {
    "duration": 3,
    "start_time": "2024-09-10T20:58:20.950Z"
   },
   {
    "duration": 10,
    "start_time": "2024-09-10T20:58:20.954Z"
   },
   {
    "duration": 21,
    "start_time": "2024-09-10T20:58:20.965Z"
   },
   {
    "duration": 8,
    "start_time": "2024-09-10T20:58:21.023Z"
   },
   {
    "duration": 8,
    "start_time": "2024-09-10T20:58:21.032Z"
   },
   {
    "duration": 24,
    "start_time": "2024-09-10T20:58:21.043Z"
   },
   {
    "duration": 16,
    "start_time": "2024-09-10T20:58:21.068Z"
   },
   {
    "duration": 7,
    "start_time": "2024-09-10T20:58:21.086Z"
   },
   {
    "duration": 38,
    "start_time": "2024-09-10T20:58:21.094Z"
   },
   {
    "duration": 13,
    "start_time": "2024-09-10T20:58:21.133Z"
   },
   {
    "duration": 17,
    "start_time": "2024-09-10T20:58:21.148Z"
   },
   {
    "duration": 7,
    "start_time": "2024-09-10T20:58:21.168Z"
   },
   {
    "duration": 13,
    "start_time": "2024-09-10T20:58:21.177Z"
   },
   {
    "duration": 42,
    "start_time": "2024-09-10T20:58:21.193Z"
   },
   {
    "duration": 14,
    "start_time": "2024-09-10T20:58:21.236Z"
   },
   {
    "duration": 12,
    "start_time": "2024-09-10T20:58:21.252Z"
   },
   {
    "duration": 17,
    "start_time": "2024-09-10T20:58:21.266Z"
   },
   {
    "duration": 43,
    "start_time": "2024-09-10T20:58:21.285Z"
   },
   {
    "duration": 19,
    "start_time": "2024-09-10T20:58:21.330Z"
   },
   {
    "duration": 19,
    "start_time": "2024-09-10T20:58:21.351Z"
   },
   {
    "duration": 18,
    "start_time": "2024-09-10T20:58:21.371Z"
   },
   {
    "duration": 56,
    "start_time": "2024-09-10T20:58:21.390Z"
   },
   {
    "duration": 33,
    "start_time": "2024-09-10T20:58:21.448Z"
   },
   {
    "duration": 4,
    "start_time": "2024-09-10T20:58:21.483Z"
   },
   {
    "duration": 37,
    "start_time": "2024-09-10T20:58:21.489Z"
   },
   {
    "duration": 1782,
    "start_time": "2024-09-10T20:58:21.527Z"
   },
   {
    "duration": 152,
    "start_time": "2024-09-10T20:58:23.311Z"
   },
   {
    "duration": 6,
    "start_time": "2024-09-10T20:58:23.465Z"
   },
   {
    "duration": 18,
    "start_time": "2024-09-10T20:58:23.472Z"
   },
   {
    "duration": 10,
    "start_time": "2024-09-10T20:58:23.493Z"
   },
   {
    "duration": 4,
    "start_time": "2024-09-10T20:58:23.524Z"
   },
   {
    "duration": 451,
    "start_time": "2024-09-10T20:58:23.530Z"
   },
   {
    "duration": 0,
    "start_time": "2024-09-10T20:58:23.983Z"
   },
   {
    "duration": 0,
    "start_time": "2024-09-10T20:58:23.987Z"
   },
   {
    "duration": 0,
    "start_time": "2024-09-10T20:58:23.988Z"
   },
   {
    "duration": 0,
    "start_time": "2024-09-10T20:58:23.989Z"
   },
   {
    "duration": 0,
    "start_time": "2024-09-10T20:58:23.990Z"
   },
   {
    "duration": 0,
    "start_time": "2024-09-10T20:58:23.991Z"
   },
   {
    "duration": 0,
    "start_time": "2024-09-10T20:58:23.992Z"
   },
   {
    "duration": 0,
    "start_time": "2024-09-10T20:58:23.993Z"
   },
   {
    "duration": 0,
    "start_time": "2024-09-10T20:58:23.994Z"
   },
   {
    "duration": 0,
    "start_time": "2024-09-10T20:58:23.995Z"
   },
   {
    "duration": 0,
    "start_time": "2024-09-10T20:58:23.996Z"
   },
   {
    "duration": 8,
    "start_time": "2024-09-10T20:59:21.077Z"
   },
   {
    "duration": 8,
    "start_time": "2024-09-10T21:01:32.279Z"
   },
   {
    "duration": 9,
    "start_time": "2024-09-10T21:02:05.184Z"
   },
   {
    "duration": 13,
    "start_time": "2024-09-10T21:02:54.046Z"
   },
   {
    "duration": 13,
    "start_time": "2024-09-10T21:02:55.645Z"
   },
   {
    "duration": 7,
    "start_time": "2024-09-10T21:02:56.698Z"
   },
   {
    "duration": 7,
    "start_time": "2024-09-10T21:03:00.552Z"
   },
   {
    "duration": 23,
    "start_time": "2024-09-10T21:03:01.163Z"
   },
   {
    "duration": 7,
    "start_time": "2024-09-10T21:03:01.892Z"
   },
   {
    "duration": 14,
    "start_time": "2024-09-10T21:03:02.700Z"
   },
   {
    "duration": 13,
    "start_time": "2024-09-10T21:03:06.547Z"
   },
   {
    "duration": 7,
    "start_time": "2024-09-10T21:03:07.265Z"
   },
   {
    "duration": 2,
    "start_time": "2024-09-10T21:03:11.059Z"
   },
   {
    "duration": 13,
    "start_time": "2024-09-10T21:05:54.685Z"
   },
   {
    "duration": 798,
    "start_time": "2024-09-10T21:06:06.006Z"
   },
   {
    "duration": 8,
    "start_time": "2024-09-10T21:06:06.807Z"
   },
   {
    "duration": 10,
    "start_time": "2024-09-10T21:06:06.816Z"
   },
   {
    "duration": 33,
    "start_time": "2024-09-10T21:06:06.830Z"
   },
   {
    "duration": 60,
    "start_time": "2024-09-10T21:06:06.864Z"
   },
   {
    "duration": 66,
    "start_time": "2024-09-10T21:06:06.926Z"
   },
   {
    "duration": 16,
    "start_time": "2024-09-10T21:06:06.993Z"
   },
   {
    "duration": 18,
    "start_time": "2024-09-10T21:06:07.011Z"
   },
   {
    "duration": 13,
    "start_time": "2024-09-10T21:06:07.030Z"
   },
   {
    "duration": 7,
    "start_time": "2024-09-10T21:06:07.047Z"
   },
   {
    "duration": 3,
    "start_time": "2024-09-10T21:06:07.055Z"
   },
   {
    "duration": 10,
    "start_time": "2024-09-10T21:06:07.060Z"
   },
   {
    "duration": 53,
    "start_time": "2024-09-10T21:06:07.071Z"
   },
   {
    "duration": 8,
    "start_time": "2024-09-10T21:06:07.126Z"
   },
   {
    "duration": 8,
    "start_time": "2024-09-10T21:06:07.135Z"
   },
   {
    "duration": 25,
    "start_time": "2024-09-10T21:06:07.144Z"
   },
   {
    "duration": 16,
    "start_time": "2024-09-10T21:06:07.171Z"
   },
   {
    "duration": 40,
    "start_time": "2024-09-10T21:06:07.188Z"
   },
   {
    "duration": 9,
    "start_time": "2024-09-10T21:06:07.230Z"
   },
   {
    "duration": 13,
    "start_time": "2024-09-10T21:06:07.240Z"
   },
   {
    "duration": 19,
    "start_time": "2024-09-10T21:06:07.254Z"
   },
   {
    "duration": 7,
    "start_time": "2024-09-10T21:06:07.274Z"
   },
   {
    "duration": 7,
    "start_time": "2024-09-10T21:06:07.283Z"
   },
   {
    "duration": 17,
    "start_time": "2024-09-10T21:06:07.324Z"
   },
   {
    "duration": 14,
    "start_time": "2024-09-10T21:06:07.343Z"
   },
   {
    "duration": 12,
    "start_time": "2024-09-10T21:06:07.359Z"
   },
   {
    "duration": 17,
    "start_time": "2024-09-10T21:06:07.372Z"
   },
   {
    "duration": 42,
    "start_time": "2024-09-10T21:06:07.393Z"
   },
   {
    "duration": 15,
    "start_time": "2024-09-10T21:06:07.436Z"
   },
   {
    "duration": 14,
    "start_time": "2024-09-10T21:06:07.452Z"
   },
   {
    "duration": 15,
    "start_time": "2024-09-10T21:06:07.467Z"
   },
   {
    "duration": 63,
    "start_time": "2024-09-10T21:06:07.483Z"
   },
   {
    "duration": 33,
    "start_time": "2024-09-10T21:06:07.548Z"
   },
   {
    "duration": 7,
    "start_time": "2024-09-10T21:06:07.582Z"
   },
   {
    "duration": 41,
    "start_time": "2024-09-10T21:06:07.590Z"
   },
   {
    "duration": 1778,
    "start_time": "2024-09-10T21:06:07.633Z"
   },
   {
    "duration": 149,
    "start_time": "2024-09-10T21:06:09.413Z"
   },
   {
    "duration": 5,
    "start_time": "2024-09-10T21:06:09.564Z"
   },
   {
    "duration": 17,
    "start_time": "2024-09-10T21:06:09.570Z"
   },
   {
    "duration": 10,
    "start_time": "2024-09-10T21:06:09.592Z"
   },
   {
    "duration": 22,
    "start_time": "2024-09-10T21:06:09.603Z"
   },
   {
    "duration": 440,
    "start_time": "2024-09-10T21:06:09.626Z"
   },
   {
    "duration": 1,
    "start_time": "2024-09-10T21:06:10.067Z"
   },
   {
    "duration": 0,
    "start_time": "2024-09-10T21:06:10.069Z"
   },
   {
    "duration": 0,
    "start_time": "2024-09-10T21:06:10.070Z"
   },
   {
    "duration": 0,
    "start_time": "2024-09-10T21:06:10.071Z"
   },
   {
    "duration": 0,
    "start_time": "2024-09-10T21:06:10.072Z"
   },
   {
    "duration": 0,
    "start_time": "2024-09-10T21:06:10.072Z"
   },
   {
    "duration": 0,
    "start_time": "2024-09-10T21:06:10.074Z"
   },
   {
    "duration": 0,
    "start_time": "2024-09-10T21:06:10.074Z"
   },
   {
    "duration": 0,
    "start_time": "2024-09-10T21:06:10.075Z"
   },
   {
    "duration": 0,
    "start_time": "2024-09-10T21:06:10.077Z"
   },
   {
    "duration": 0,
    "start_time": "2024-09-10T21:06:10.078Z"
   },
   {
    "duration": 14,
    "start_time": "2024-09-10T21:06:57.258Z"
   },
   {
    "duration": 13,
    "start_time": "2024-09-10T21:07:04.928Z"
   },
   {
    "duration": 7,
    "start_time": "2024-09-10T21:07:13.277Z"
   },
   {
    "duration": 11,
    "start_time": "2024-09-10T21:07:21.889Z"
   },
   {
    "duration": 7,
    "start_time": "2024-09-10T21:07:34.920Z"
   },
   {
    "duration": 19,
    "start_time": "2024-09-10T21:07:43.483Z"
   },
   {
    "duration": 7,
    "start_time": "2024-09-10T21:07:52.037Z"
   },
   {
    "duration": 15,
    "start_time": "2024-09-10T21:07:55.989Z"
   },
   {
    "duration": 31,
    "start_time": "2024-09-10T21:08:15.262Z"
   },
   {
    "duration": 18,
    "start_time": "2024-09-10T21:08:26.137Z"
   },
   {
    "duration": 125,
    "start_time": "2024-09-10T21:08:38.871Z"
   },
   {
    "duration": 35,
    "start_time": "2024-09-10T21:08:39.138Z"
   },
   {
    "duration": 35,
    "start_time": "2024-09-10T21:09:02.510Z"
   },
   {
    "duration": 13,
    "start_time": "2024-09-10T21:09:17.898Z"
   },
   {
    "duration": 10,
    "start_time": "2024-09-10T21:09:27.511Z"
   },
   {
    "duration": 16,
    "start_time": "2024-09-10T21:11:48.906Z"
   },
   {
    "duration": 12,
    "start_time": "2024-09-10T21:11:55.320Z"
   },
   {
    "duration": 12,
    "start_time": "2024-09-10T21:12:25.906Z"
   },
   {
    "duration": 12,
    "start_time": "2024-09-10T21:12:58.324Z"
   },
   {
    "duration": 10,
    "start_time": "2024-09-10T21:13:07.853Z"
   },
   {
    "duration": 12,
    "start_time": "2024-09-10T21:13:43.187Z"
   },
   {
    "duration": 13,
    "start_time": "2024-09-10T21:15:26.949Z"
   },
   {
    "duration": 7,
    "start_time": "2024-09-10T21:15:34.774Z"
   },
   {
    "duration": 13,
    "start_time": "2024-09-10T21:15:46.913Z"
   },
   {
    "duration": 13,
    "start_time": "2024-09-10T21:16:00.244Z"
   },
   {
    "duration": 12,
    "start_time": "2024-09-10T21:17:22.620Z"
   },
   {
    "duration": 5,
    "start_time": "2024-09-10T21:36:08.643Z"
   },
   {
    "duration": 16,
    "start_time": "2024-09-10T21:36:27.069Z"
   },
   {
    "duration": 3,
    "start_time": "2024-09-10T21:37:09.468Z"
   },
   {
    "duration": 15,
    "start_time": "2024-09-10T21:37:20.637Z"
   },
   {
    "duration": 26,
    "start_time": "2024-09-10T21:37:33.935Z"
   },
   {
    "duration": 15,
    "start_time": "2024-09-10T21:38:31.530Z"
   },
   {
    "duration": 810,
    "start_time": "2024-09-10T21:38:43.114Z"
   },
   {
    "duration": 8,
    "start_time": "2024-09-10T21:38:43.926Z"
   },
   {
    "duration": 5,
    "start_time": "2024-09-10T21:38:43.935Z"
   },
   {
    "duration": 33,
    "start_time": "2024-09-10T21:38:43.942Z"
   },
   {
    "duration": 67,
    "start_time": "2024-09-10T21:38:43.978Z"
   },
   {
    "duration": 67,
    "start_time": "2024-09-10T21:38:44.047Z"
   },
   {
    "duration": 21,
    "start_time": "2024-09-10T21:38:44.116Z"
   },
   {
    "duration": 8,
    "start_time": "2024-09-10T21:38:44.139Z"
   },
   {
    "duration": 13,
    "start_time": "2024-09-10T21:38:44.149Z"
   },
   {
    "duration": 8,
    "start_time": "2024-09-10T21:38:44.163Z"
   },
   {
    "duration": 4,
    "start_time": "2024-09-10T21:38:44.172Z"
   },
   {
    "duration": 47,
    "start_time": "2024-09-10T21:38:44.178Z"
   },
   {
    "duration": 19,
    "start_time": "2024-09-10T21:38:44.227Z"
   },
   {
    "duration": 9,
    "start_time": "2024-09-10T21:38:44.249Z"
   },
   {
    "duration": 8,
    "start_time": "2024-09-10T21:38:44.259Z"
   },
   {
    "duration": 25,
    "start_time": "2024-09-10T21:38:44.269Z"
   },
   {
    "duration": 42,
    "start_time": "2024-09-10T21:38:44.296Z"
   },
   {
    "duration": 7,
    "start_time": "2024-09-10T21:38:44.339Z"
   },
   {
    "duration": 8,
    "start_time": "2024-09-10T21:38:44.348Z"
   },
   {
    "duration": 13,
    "start_time": "2024-09-10T21:38:44.357Z"
   },
   {
    "duration": 19,
    "start_time": "2024-09-10T21:38:44.371Z"
   },
   {
    "duration": 8,
    "start_time": "2024-09-10T21:38:44.425Z"
   },
   {
    "duration": 7,
    "start_time": "2024-09-10T21:38:44.434Z"
   },
   {
    "duration": 19,
    "start_time": "2024-09-10T21:38:44.442Z"
   },
   {
    "duration": 15,
    "start_time": "2024-09-10T21:38:44.462Z"
   },
   {
    "duration": 13,
    "start_time": "2024-09-10T21:38:44.478Z"
   },
   {
    "duration": 18,
    "start_time": "2024-09-10T21:38:44.525Z"
   },
   {
    "duration": 18,
    "start_time": "2024-09-10T21:38:44.544Z"
   },
   {
    "duration": 14,
    "start_time": "2024-09-10T21:38:44.564Z"
   },
   {
    "duration": 14,
    "start_time": "2024-09-10T21:38:44.580Z"
   },
   {
    "duration": 42,
    "start_time": "2024-09-10T21:38:44.595Z"
   },
   {
    "duration": 30,
    "start_time": "2024-09-10T21:38:44.639Z"
   },
   {
    "duration": 34,
    "start_time": "2024-09-10T21:38:44.671Z"
   },
   {
    "duration": 5,
    "start_time": "2024-09-10T21:38:44.723Z"
   },
   {
    "duration": 16,
    "start_time": "2024-09-10T21:38:44.729Z"
   },
   {
    "duration": 1795,
    "start_time": "2024-09-10T21:38:44.747Z"
   },
   {
    "duration": 148,
    "start_time": "2024-09-10T21:38:46.544Z"
   },
   {
    "duration": 5,
    "start_time": "2024-09-10T21:38:46.694Z"
   },
   {
    "duration": 24,
    "start_time": "2024-09-10T21:38:46.701Z"
   },
   {
    "duration": 9,
    "start_time": "2024-09-10T21:38:46.727Z"
   },
   {
    "duration": 3,
    "start_time": "2024-09-10T21:38:46.741Z"
   },
   {
    "duration": 465,
    "start_time": "2024-09-10T21:38:46.746Z"
   },
   {
    "duration": 0,
    "start_time": "2024-09-10T21:38:47.213Z"
   },
   {
    "duration": 0,
    "start_time": "2024-09-10T21:38:47.214Z"
   },
   {
    "duration": 1,
    "start_time": "2024-09-10T21:38:47.215Z"
   },
   {
    "duration": 0,
    "start_time": "2024-09-10T21:38:47.225Z"
   },
   {
    "duration": 0,
    "start_time": "2024-09-10T21:38:47.226Z"
   },
   {
    "duration": 0,
    "start_time": "2024-09-10T21:38:47.228Z"
   },
   {
    "duration": 0,
    "start_time": "2024-09-10T21:38:47.229Z"
   },
   {
    "duration": 0,
    "start_time": "2024-09-10T21:38:47.230Z"
   },
   {
    "duration": 0,
    "start_time": "2024-09-10T21:38:47.231Z"
   },
   {
    "duration": 0,
    "start_time": "2024-09-10T21:38:47.233Z"
   },
   {
    "duration": 0,
    "start_time": "2024-09-10T21:38:47.234Z"
   },
   {
    "duration": 0,
    "start_time": "2024-09-10T21:38:47.235Z"
   },
   {
    "duration": 16,
    "start_time": "2024-09-10T21:39:16.585Z"
   },
   {
    "duration": 16,
    "start_time": "2024-09-10T21:39:36.262Z"
   },
   {
    "duration": 788,
    "start_time": "2024-09-10T21:40:01.666Z"
   },
   {
    "duration": 7,
    "start_time": "2024-09-10T21:40:02.456Z"
   },
   {
    "duration": 5,
    "start_time": "2024-09-10T21:40:02.464Z"
   },
   {
    "duration": 34,
    "start_time": "2024-09-10T21:40:02.471Z"
   },
   {
    "duration": 65,
    "start_time": "2024-09-10T21:40:02.506Z"
   },
   {
    "duration": 71,
    "start_time": "2024-09-10T21:40:02.572Z"
   },
   {
    "duration": 16,
    "start_time": "2024-09-10T21:40:02.644Z"
   },
   {
    "duration": 7,
    "start_time": "2024-09-10T21:40:02.662Z"
   },
   {
    "duration": 14,
    "start_time": "2024-09-10T21:40:02.670Z"
   },
   {
    "duration": 7,
    "start_time": "2024-09-10T21:40:02.688Z"
   },
   {
    "duration": 4,
    "start_time": "2024-09-10T21:40:02.724Z"
   },
   {
    "duration": 10,
    "start_time": "2024-09-10T21:40:02.729Z"
   },
   {
    "duration": 19,
    "start_time": "2024-09-10T21:40:02.740Z"
   },
   {
    "duration": 8,
    "start_time": "2024-09-10T21:40:02.761Z"
   },
   {
    "duration": 6,
    "start_time": "2024-09-10T21:40:02.771Z"
   },
   {
    "duration": 63,
    "start_time": "2024-09-10T21:40:02.778Z"
   },
   {
    "duration": 15,
    "start_time": "2024-09-10T21:40:02.843Z"
   },
   {
    "duration": 7,
    "start_time": "2024-09-10T21:40:02.859Z"
   },
   {
    "duration": 9,
    "start_time": "2024-09-10T21:40:02.867Z"
   },
   {
    "duration": 14,
    "start_time": "2024-09-10T21:40:02.877Z"
   },
   {
    "duration": 45,
    "start_time": "2024-09-10T21:40:02.892Z"
   },
   {
    "duration": 8,
    "start_time": "2024-09-10T21:40:02.939Z"
   },
   {
    "duration": 7,
    "start_time": "2024-09-10T21:40:02.948Z"
   },
   {
    "duration": 17,
    "start_time": "2024-09-10T21:40:02.958Z"
   },
   {
    "duration": 16,
    "start_time": "2024-09-10T21:40:02.976Z"
   },
   {
    "duration": 41,
    "start_time": "2024-09-10T21:40:02.993Z"
   },
   {
    "duration": 17,
    "start_time": "2024-09-10T21:40:03.036Z"
   },
   {
    "duration": 18,
    "start_time": "2024-09-10T21:40:03.057Z"
   },
   {
    "duration": 14,
    "start_time": "2024-09-10T21:40:03.076Z"
   },
   {
    "duration": 43,
    "start_time": "2024-09-10T21:40:03.092Z"
   },
   {
    "duration": 14,
    "start_time": "2024-09-10T21:40:03.137Z"
   },
   {
    "duration": 36,
    "start_time": "2024-09-10T21:40:03.152Z"
   },
   {
    "duration": 59,
    "start_time": "2024-09-10T21:40:03.190Z"
   },
   {
    "duration": 5,
    "start_time": "2024-09-10T21:40:03.251Z"
   },
   {
    "duration": 16,
    "start_time": "2024-09-10T21:40:03.257Z"
   },
   {
    "duration": 1882,
    "start_time": "2024-09-10T21:40:03.275Z"
   },
   {
    "duration": 154,
    "start_time": "2024-09-10T21:40:05.159Z"
   },
   {
    "duration": 5,
    "start_time": "2024-09-10T21:40:05.314Z"
   },
   {
    "duration": 16,
    "start_time": "2024-09-10T21:40:05.325Z"
   },
   {
    "duration": 10,
    "start_time": "2024-09-10T21:40:05.342Z"
   },
   {
    "duration": 3,
    "start_time": "2024-09-10T21:40:05.354Z"
   },
   {
    "duration": 451,
    "start_time": "2024-09-10T21:40:05.359Z"
   },
   {
    "duration": 0,
    "start_time": "2024-09-10T21:40:05.812Z"
   },
   {
    "duration": 0,
    "start_time": "2024-09-10T21:40:05.813Z"
   },
   {
    "duration": 0,
    "start_time": "2024-09-10T21:40:05.824Z"
   },
   {
    "duration": 0,
    "start_time": "2024-09-10T21:40:05.825Z"
   },
   {
    "duration": 0,
    "start_time": "2024-09-10T21:40:05.826Z"
   },
   {
    "duration": 0,
    "start_time": "2024-09-10T21:40:05.828Z"
   },
   {
    "duration": 0,
    "start_time": "2024-09-10T21:40:05.830Z"
   },
   {
    "duration": 0,
    "start_time": "2024-09-10T21:40:05.831Z"
   },
   {
    "duration": 0,
    "start_time": "2024-09-10T21:40:05.832Z"
   },
   {
    "duration": 0,
    "start_time": "2024-09-10T21:40:05.834Z"
   },
   {
    "duration": 0,
    "start_time": "2024-09-10T21:40:05.836Z"
   },
   {
    "duration": 0,
    "start_time": "2024-09-10T21:40:05.837Z"
   },
   {
    "duration": 16,
    "start_time": "2024-09-10T21:41:06.589Z"
   },
   {
    "duration": 13,
    "start_time": "2024-09-10T21:46:28.876Z"
   },
   {
    "duration": 4,
    "start_time": "2024-09-10T21:46:39.328Z"
   },
   {
    "duration": 154,
    "start_time": "2024-09-10T23:03:40.342Z"
   },
   {
    "duration": 2468,
    "start_time": "2024-09-10T23:03:58.973Z"
   },
   {
    "duration": 10,
    "start_time": "2024-09-10T23:04:01.444Z"
   },
   {
    "duration": 6,
    "start_time": "2024-09-10T23:04:01.455Z"
   },
   {
    "duration": 71,
    "start_time": "2024-09-10T23:04:01.463Z"
   },
   {
    "duration": 83,
    "start_time": "2024-09-10T23:04:01.535Z"
   },
   {
    "duration": 99,
    "start_time": "2024-09-10T23:04:01.620Z"
   },
   {
    "duration": 17,
    "start_time": "2024-09-10T23:04:01.721Z"
   },
   {
    "duration": 9,
    "start_time": "2024-09-10T23:04:01.739Z"
   },
   {
    "duration": 14,
    "start_time": "2024-09-10T23:04:01.750Z"
   },
   {
    "duration": 7,
    "start_time": "2024-09-10T23:04:01.767Z"
   },
   {
    "duration": 9,
    "start_time": "2024-09-10T23:04:01.806Z"
   },
   {
    "duration": 11,
    "start_time": "2024-09-10T23:04:01.817Z"
   },
   {
    "duration": 20,
    "start_time": "2024-09-10T23:04:01.829Z"
   },
   {
    "duration": 8,
    "start_time": "2024-09-10T23:04:01.850Z"
   },
   {
    "duration": 6,
    "start_time": "2024-09-10T23:04:01.860Z"
   },
   {
    "duration": 54,
    "start_time": "2024-09-10T23:04:01.867Z"
   },
   {
    "duration": 16,
    "start_time": "2024-09-10T23:04:01.923Z"
   },
   {
    "duration": 6,
    "start_time": "2024-09-10T23:04:01.941Z"
   },
   {
    "duration": 9,
    "start_time": "2024-09-10T23:04:01.949Z"
   },
   {
    "duration": 46,
    "start_time": "2024-09-10T23:04:01.959Z"
   },
   {
    "duration": 19,
    "start_time": "2024-09-10T23:04:02.007Z"
   },
   {
    "duration": 8,
    "start_time": "2024-09-10T23:04:02.027Z"
   },
   {
    "duration": 6,
    "start_time": "2024-09-10T23:04:02.037Z"
   },
   {
    "duration": 17,
    "start_time": "2024-09-10T23:04:02.045Z"
   },
   {
    "duration": 44,
    "start_time": "2024-09-10T23:04:02.065Z"
   },
   {
    "duration": 12,
    "start_time": "2024-09-10T23:04:02.111Z"
   },
   {
    "duration": 17,
    "start_time": "2024-09-10T23:04:02.125Z"
   },
   {
    "duration": 18,
    "start_time": "2024-09-10T23:04:02.146Z"
   },
   {
    "duration": 41,
    "start_time": "2024-09-10T23:04:02.165Z"
   },
   {
    "duration": 15,
    "start_time": "2024-09-10T23:04:02.208Z"
   },
   {
    "duration": 15,
    "start_time": "2024-09-10T23:04:02.225Z"
   },
   {
    "duration": 31,
    "start_time": "2024-09-10T23:04:02.241Z"
   },
   {
    "duration": 60,
    "start_time": "2024-09-10T23:04:02.274Z"
   },
   {
    "duration": 5,
    "start_time": "2024-09-10T23:04:02.335Z"
   },
   {
    "duration": 17,
    "start_time": "2024-09-10T23:04:02.341Z"
   },
   {
    "duration": 1842,
    "start_time": "2024-09-10T23:04:02.359Z"
   },
   {
    "duration": 161,
    "start_time": "2024-09-10T23:04:04.202Z"
   },
   {
    "duration": 5,
    "start_time": "2024-09-10T23:04:04.365Z"
   },
   {
    "duration": 18,
    "start_time": "2024-09-10T23:04:04.372Z"
   },
   {
    "duration": 23,
    "start_time": "2024-09-10T23:04:04.391Z"
   },
   {
    "duration": 3,
    "start_time": "2024-09-10T23:04:04.416Z"
   },
   {
    "duration": 379,
    "start_time": "2024-09-10T23:04:04.421Z"
   },
   {
    "duration": 0,
    "start_time": "2024-09-10T23:04:04.805Z"
   },
   {
    "duration": 0,
    "start_time": "2024-09-10T23:04:04.809Z"
   },
   {
    "duration": 0,
    "start_time": "2024-09-10T23:04:04.810Z"
   },
   {
    "duration": 0,
    "start_time": "2024-09-10T23:04:04.811Z"
   },
   {
    "duration": 0,
    "start_time": "2024-09-10T23:04:04.813Z"
   },
   {
    "duration": 0,
    "start_time": "2024-09-10T23:04:04.814Z"
   },
   {
    "duration": 0,
    "start_time": "2024-09-10T23:04:04.816Z"
   },
   {
    "duration": 0,
    "start_time": "2024-09-10T23:04:04.817Z"
   },
   {
    "duration": 0,
    "start_time": "2024-09-10T23:04:04.819Z"
   },
   {
    "duration": 0,
    "start_time": "2024-09-10T23:04:04.820Z"
   },
   {
    "duration": 0,
    "start_time": "2024-09-10T23:04:04.822Z"
   },
   {
    "duration": 997,
    "start_time": "2024-09-10T23:07:47.062Z"
   },
   {
    "duration": 110,
    "start_time": "2024-09-10T23:08:14.554Z"
   },
   {
    "duration": 101,
    "start_time": "2024-09-10T23:08:53.912Z"
   },
   {
    "duration": 178,
    "start_time": "2024-09-10T23:09:10.865Z"
   },
   {
    "duration": 104,
    "start_time": "2024-09-10T23:09:52.430Z"
   },
   {
    "duration": 17,
    "start_time": "2024-09-10T23:10:41.562Z"
   },
   {
    "duration": 12,
    "start_time": "2024-09-10T23:10:48.297Z"
   },
   {
    "duration": 8,
    "start_time": "2024-09-10T23:10:54.252Z"
   },
   {
    "duration": 7,
    "start_time": "2024-09-10T23:11:00.236Z"
   },
   {
    "duration": 19,
    "start_time": "2024-09-10T23:11:12.907Z"
   },
   {
    "duration": 7,
    "start_time": "2024-09-10T23:12:15.450Z"
   },
   {
    "duration": 15,
    "start_time": "2024-09-10T23:12:18.870Z"
   },
   {
    "duration": 33,
    "start_time": "2024-09-10T23:12:34.675Z"
   },
   {
    "duration": 12,
    "start_time": "2024-09-10T23:12:44.654Z"
   },
   {
    "duration": 801,
    "start_time": "2024-09-10T23:12:58.184Z"
   },
   {
    "duration": 6,
    "start_time": "2024-09-10T23:12:58.987Z"
   },
   {
    "duration": 9,
    "start_time": "2024-09-10T23:12:58.996Z"
   },
   {
    "duration": 33,
    "start_time": "2024-09-10T23:12:59.007Z"
   },
   {
    "duration": 63,
    "start_time": "2024-09-10T23:12:59.043Z"
   },
   {
    "duration": 67,
    "start_time": "2024-09-10T23:12:59.107Z"
   },
   {
    "duration": 29,
    "start_time": "2024-09-10T23:12:59.176Z"
   },
   {
    "duration": 7,
    "start_time": "2024-09-10T23:12:59.207Z"
   },
   {
    "duration": 13,
    "start_time": "2024-09-10T23:12:59.216Z"
   },
   {
    "duration": 7,
    "start_time": "2024-09-10T23:12:59.231Z"
   },
   {
    "duration": 3,
    "start_time": "2024-09-10T23:12:59.240Z"
   },
   {
    "duration": 10,
    "start_time": "2024-09-10T23:12:59.245Z"
   },
   {
    "duration": 56,
    "start_time": "2024-09-10T23:12:59.257Z"
   },
   {
    "duration": 7,
    "start_time": "2024-09-10T23:12:59.317Z"
   },
   {
    "duration": 7,
    "start_time": "2024-09-10T23:12:59.326Z"
   },
   {
    "duration": 24,
    "start_time": "2024-09-10T23:12:59.335Z"
   },
   {
    "duration": 45,
    "start_time": "2024-09-10T23:12:59.361Z"
   },
   {
    "duration": 7,
    "start_time": "2024-09-10T23:12:59.407Z"
   },
   {
    "duration": 9,
    "start_time": "2024-09-10T23:12:59.416Z"
   },
   {
    "duration": 14,
    "start_time": "2024-09-10T23:12:59.427Z"
   },
   {
    "duration": 18,
    "start_time": "2024-09-10T23:12:59.442Z"
   },
   {
    "duration": 8,
    "start_time": "2024-09-10T23:12:59.461Z"
   },
   {
    "duration": 8,
    "start_time": "2024-09-10T23:12:59.504Z"
   },
   {
    "duration": 19,
    "start_time": "2024-09-10T23:12:59.514Z"
   },
   {
    "duration": 17,
    "start_time": "2024-09-10T23:12:59.534Z"
   },
   {
    "duration": 12,
    "start_time": "2024-09-10T23:12:59.553Z"
   },
   {
    "duration": 41,
    "start_time": "2024-09-10T23:12:59.567Z"
   },
   {
    "duration": 18,
    "start_time": "2024-09-10T23:12:59.610Z"
   },
   {
    "duration": 14,
    "start_time": "2024-09-10T23:12:59.629Z"
   },
   {
    "duration": 14,
    "start_time": "2024-09-10T23:12:59.645Z"
   },
   {
    "duration": 45,
    "start_time": "2024-09-10T23:12:59.661Z"
   },
   {
    "duration": 33,
    "start_time": "2024-09-10T23:12:59.707Z"
   },
   {
    "duration": 33,
    "start_time": "2024-09-10T23:12:59.742Z"
   },
   {
    "duration": 5,
    "start_time": "2024-09-10T23:12:59.777Z"
   },
   {
    "duration": 38,
    "start_time": "2024-09-10T23:12:59.783Z"
   },
   {
    "duration": 1739,
    "start_time": "2024-09-10T23:12:59.823Z"
   },
   {
    "duration": 154,
    "start_time": "2024-09-10T23:13:01.564Z"
   },
   {
    "duration": 5,
    "start_time": "2024-09-10T23:13:01.720Z"
   },
   {
    "duration": 17,
    "start_time": "2024-09-10T23:13:01.727Z"
   },
   {
    "duration": 10,
    "start_time": "2024-09-10T23:13:01.746Z"
   },
   {
    "duration": 3,
    "start_time": "2024-09-10T23:13:01.760Z"
   },
   {
    "duration": 130,
    "start_time": "2024-09-10T23:13:01.765Z"
   },
   {
    "duration": 20,
    "start_time": "2024-09-10T23:13:01.896Z"
   },
   {
    "duration": 11,
    "start_time": "2024-09-10T23:13:01.919Z"
   },
   {
    "duration": 6,
    "start_time": "2024-09-10T23:13:01.931Z"
   },
   {
    "duration": 6,
    "start_time": "2024-09-10T23:13:01.939Z"
   },
   {
    "duration": 17,
    "start_time": "2024-09-10T23:13:01.947Z"
   },
   {
    "duration": 39,
    "start_time": "2024-09-10T23:13:01.966Z"
   },
   {
    "duration": 134,
    "start_time": "2024-09-10T23:13:02.007Z"
   },
   {
    "duration": 0,
    "start_time": "2024-09-10T23:13:02.143Z"
   },
   {
    "duration": 0,
    "start_time": "2024-09-10T23:13:02.144Z"
   },
   {
    "duration": 0,
    "start_time": "2024-09-10T23:13:02.145Z"
   },
   {
    "duration": 0,
    "start_time": "2024-09-10T23:13:02.146Z"
   },
   {
    "duration": 12,
    "start_time": "2024-09-10T23:13:11.043Z"
   },
   {
    "duration": 7,
    "start_time": "2024-09-10T23:14:11.352Z"
   },
   {
    "duration": 13,
    "start_time": "2024-09-10T23:14:15.479Z"
   },
   {
    "duration": 12,
    "start_time": "2024-09-10T23:15:10.319Z"
   },
   {
    "duration": 7,
    "start_time": "2024-09-10T23:15:29.029Z"
   },
   {
    "duration": 11,
    "start_time": "2024-09-10T23:15:37.727Z"
   },
   {
    "duration": 11,
    "start_time": "2024-09-10T23:16:40.605Z"
   },
   {
    "duration": 787,
    "start_time": "2024-09-10T23:17:36.296Z"
   },
   {
    "duration": 7,
    "start_time": "2024-09-10T23:17:37.087Z"
   },
   {
    "duration": 4,
    "start_time": "2024-09-10T23:17:37.097Z"
   },
   {
    "duration": 33,
    "start_time": "2024-09-10T23:17:37.102Z"
   },
   {
    "duration": 53,
    "start_time": "2024-09-10T23:17:37.137Z"
   },
   {
    "duration": 75,
    "start_time": "2024-09-10T23:17:37.191Z"
   },
   {
    "duration": 18,
    "start_time": "2024-09-10T23:17:37.268Z"
   },
   {
    "duration": 20,
    "start_time": "2024-09-10T23:17:37.287Z"
   },
   {
    "duration": 13,
    "start_time": "2024-09-10T23:17:37.309Z"
   },
   {
    "duration": 6,
    "start_time": "2024-09-10T23:17:37.324Z"
   },
   {
    "duration": 3,
    "start_time": "2024-09-10T23:17:37.332Z"
   },
   {
    "duration": 10,
    "start_time": "2024-09-10T23:17:37.336Z"
   },
   {
    "duration": 61,
    "start_time": "2024-09-10T23:17:37.347Z"
   },
   {
    "duration": 11,
    "start_time": "2024-09-10T23:17:37.412Z"
   },
   {
    "duration": 7,
    "start_time": "2024-09-10T23:17:37.426Z"
   },
   {
    "duration": 24,
    "start_time": "2024-09-10T23:17:37.434Z"
   },
   {
    "duration": 18,
    "start_time": "2024-09-10T23:17:37.460Z"
   },
   {
    "duration": 27,
    "start_time": "2024-09-10T23:17:37.480Z"
   },
   {
    "duration": 10,
    "start_time": "2024-09-10T23:17:37.509Z"
   },
   {
    "duration": 15,
    "start_time": "2024-09-10T23:17:37.520Z"
   },
   {
    "duration": 19,
    "start_time": "2024-09-10T23:17:37.536Z"
   },
   {
    "duration": 9,
    "start_time": "2024-09-10T23:17:37.556Z"
   },
   {
    "duration": 44,
    "start_time": "2024-09-10T23:17:37.566Z"
   },
   {
    "duration": 18,
    "start_time": "2024-09-10T23:17:37.611Z"
   },
   {
    "duration": 17,
    "start_time": "2024-09-10T23:17:37.631Z"
   },
   {
    "duration": 13,
    "start_time": "2024-09-10T23:17:37.649Z"
   },
   {
    "duration": 42,
    "start_time": "2024-09-10T23:17:37.664Z"
   },
   {
    "duration": 17,
    "start_time": "2024-09-10T23:17:37.708Z"
   },
   {
    "duration": 14,
    "start_time": "2024-09-10T23:17:37.727Z"
   },
   {
    "duration": 14,
    "start_time": "2024-09-10T23:17:37.743Z"
   },
   {
    "duration": 15,
    "start_time": "2024-09-10T23:17:37.758Z"
   },
   {
    "duration": 59,
    "start_time": "2024-09-10T23:17:37.775Z"
   },
   {
    "duration": 33,
    "start_time": "2024-09-10T23:17:37.836Z"
   },
   {
    "duration": 5,
    "start_time": "2024-09-10T23:17:37.871Z"
   },
   {
    "duration": 39,
    "start_time": "2024-09-10T23:17:37.877Z"
   },
   {
    "duration": 1769,
    "start_time": "2024-09-10T23:17:37.918Z"
   },
   {
    "duration": 150,
    "start_time": "2024-09-10T23:17:39.689Z"
   },
   {
    "duration": 7,
    "start_time": "2024-09-10T23:17:39.840Z"
   },
   {
    "duration": 16,
    "start_time": "2024-09-10T23:17:39.849Z"
   },
   {
    "duration": 10,
    "start_time": "2024-09-10T23:17:39.867Z"
   },
   {
    "duration": 3,
    "start_time": "2024-09-10T23:17:39.907Z"
   },
   {
    "duration": 102,
    "start_time": "2024-09-10T23:17:39.911Z"
   },
   {
    "duration": 14,
    "start_time": "2024-09-10T23:17:40.015Z"
   },
   {
    "duration": 12,
    "start_time": "2024-09-10T23:17:40.030Z"
   },
   {
    "duration": 6,
    "start_time": "2024-09-10T23:17:40.044Z"
   },
   {
    "duration": 6,
    "start_time": "2024-09-10T23:17:40.052Z"
   },
   {
    "duration": 48,
    "start_time": "2024-09-10T23:17:40.061Z"
   },
   {
    "duration": 7,
    "start_time": "2024-09-10T23:17:40.111Z"
   },
   {
    "duration": 18,
    "start_time": "2024-09-10T23:17:40.119Z"
   },
   {
    "duration": 10,
    "start_time": "2024-09-10T23:17:40.139Z"
   },
   {
    "duration": 12,
    "start_time": "2024-09-10T23:17:40.151Z"
   },
   {
    "duration": 7,
    "start_time": "2024-09-10T23:17:40.164Z"
   },
   {
    "duration": 35,
    "start_time": "2024-09-10T23:17:40.172Z"
   },
   {
    "duration": 6,
    "start_time": "2024-09-10T23:25:34.557Z"
   },
   {
    "duration": 6,
    "start_time": "2024-09-10T23:27:14.565Z"
   },
   {
    "duration": 5,
    "start_time": "2024-09-10T23:39:16.820Z"
   },
   {
    "duration": 4,
    "start_time": "2024-09-10T23:39:24.446Z"
   },
   {
    "duration": 605,
    "start_time": "2024-09-10T23:39:30.479Z"
   },
   {
    "duration": 6,
    "start_time": "2024-09-10T23:41:27.022Z"
   },
   {
    "duration": 16,
    "start_time": "2024-09-10T23:43:12.376Z"
   },
   {
    "duration": 16,
    "start_time": "2024-09-10T23:44:08.151Z"
   },
   {
    "duration": 811,
    "start_time": "2024-09-10T23:44:16.061Z"
   },
   {
    "duration": 7,
    "start_time": "2024-09-10T23:44:16.874Z"
   },
   {
    "duration": 4,
    "start_time": "2024-09-10T23:44:16.883Z"
   },
   {
    "duration": 44,
    "start_time": "2024-09-10T23:44:16.889Z"
   },
   {
    "duration": 53,
    "start_time": "2024-09-10T23:44:16.935Z"
   },
   {
    "duration": 76,
    "start_time": "2024-09-10T23:44:16.990Z"
   },
   {
    "duration": 16,
    "start_time": "2024-09-10T23:44:17.067Z"
   },
   {
    "duration": 21,
    "start_time": "2024-09-10T23:44:17.085Z"
   },
   {
    "duration": 13,
    "start_time": "2024-09-10T23:44:17.107Z"
   },
   {
    "duration": 6,
    "start_time": "2024-09-10T23:44:17.124Z"
   },
   {
    "duration": 4,
    "start_time": "2024-09-10T23:44:17.132Z"
   },
   {
    "duration": 10,
    "start_time": "2024-09-10T23:44:17.137Z"
   },
   {
    "duration": 20,
    "start_time": "2024-09-10T23:44:17.148Z"
   },
   {
    "duration": 40,
    "start_time": "2024-09-10T23:44:17.169Z"
   },
   {
    "duration": 6,
    "start_time": "2024-09-10T23:44:17.211Z"
   },
   {
    "duration": 25,
    "start_time": "2024-09-10T23:44:17.219Z"
   },
   {
    "duration": 16,
    "start_time": "2024-09-10T23:44:17.245Z"
   },
   {
    "duration": 6,
    "start_time": "2024-09-10T23:44:17.262Z"
   },
   {
    "duration": 41,
    "start_time": "2024-09-10T23:44:17.270Z"
   },
   {
    "duration": 13,
    "start_time": "2024-09-10T23:44:17.313Z"
   },
   {
    "duration": 19,
    "start_time": "2024-09-10T23:44:17.327Z"
   },
   {
    "duration": 7,
    "start_time": "2024-09-10T23:44:17.347Z"
   },
   {
    "duration": 7,
    "start_time": "2024-09-10T23:44:17.356Z"
   },
   {
    "duration": 49,
    "start_time": "2024-09-10T23:44:17.365Z"
   },
   {
    "duration": 16,
    "start_time": "2024-09-10T23:44:17.416Z"
   },
   {
    "duration": 12,
    "start_time": "2024-09-10T23:44:17.433Z"
   },
   {
    "duration": 17,
    "start_time": "2024-09-10T23:44:17.447Z"
   },
   {
    "duration": 46,
    "start_time": "2024-09-10T23:44:17.469Z"
   },
   {
    "duration": 14,
    "start_time": "2024-09-10T23:44:17.517Z"
   },
   {
    "duration": 14,
    "start_time": "2024-09-10T23:44:17.532Z"
   },
   {
    "duration": 15,
    "start_time": "2024-09-10T23:44:17.547Z"
   },
   {
    "duration": 61,
    "start_time": "2024-09-10T23:44:17.563Z"
   },
   {
    "duration": 34,
    "start_time": "2024-09-10T23:44:17.626Z"
   },
   {
    "duration": 5,
    "start_time": "2024-09-10T23:44:17.662Z"
   },
   {
    "duration": 38,
    "start_time": "2024-09-10T23:44:17.668Z"
   },
   {
    "duration": 1768,
    "start_time": "2024-09-10T23:44:17.707Z"
   },
   {
    "duration": 152,
    "start_time": "2024-09-10T23:44:19.478Z"
   },
   {
    "duration": 5,
    "start_time": "2024-09-10T23:44:19.631Z"
   },
   {
    "duration": 17,
    "start_time": "2024-09-10T23:44:19.638Z"
   },
   {
    "duration": 10,
    "start_time": "2024-09-10T23:44:19.656Z"
   },
   {
    "duration": 5,
    "start_time": "2024-09-10T23:44:19.667Z"
   },
   {
    "duration": 118,
    "start_time": "2024-09-10T23:44:19.674Z"
   },
   {
    "duration": 21,
    "start_time": "2024-09-10T23:44:19.794Z"
   },
   {
    "duration": 12,
    "start_time": "2024-09-10T23:44:19.817Z"
   },
   {
    "duration": 6,
    "start_time": "2024-09-10T23:44:19.831Z"
   },
   {
    "duration": 6,
    "start_time": "2024-09-10T23:44:19.839Z"
   },
   {
    "duration": 16,
    "start_time": "2024-09-10T23:44:19.847Z"
   },
   {
    "duration": 42,
    "start_time": "2024-09-10T23:44:19.864Z"
   },
   {
    "duration": 18,
    "start_time": "2024-09-10T23:44:19.908Z"
   },
   {
    "duration": 11,
    "start_time": "2024-09-10T23:44:19.928Z"
   },
   {
    "duration": 11,
    "start_time": "2024-09-10T23:44:19.940Z"
   },
   {
    "duration": 7,
    "start_time": "2024-09-10T23:44:19.953Z"
   },
   {
    "duration": 43,
    "start_time": "2024-09-10T23:44:19.962Z"
   },
   {
    "duration": 221,
    "start_time": "2024-09-10T23:44:20.006Z"
   },
   {
    "duration": 6,
    "start_time": "2024-09-10T23:54:43.527Z"
   },
   {
    "duration": 6,
    "start_time": "2024-09-10T23:56:12.553Z"
   },
   {
    "duration": 7,
    "start_time": "2024-09-10T23:57:30.720Z"
   },
   {
    "duration": 8,
    "start_time": "2024-09-11T00:00:33.559Z"
   },
   {
    "duration": 9,
    "start_time": "2024-09-11T00:01:02.533Z"
   },
   {
    "duration": 795,
    "start_time": "2024-09-11T00:02:39.090Z"
   },
   {
    "duration": 7,
    "start_time": "2024-09-11T00:02:39.887Z"
   },
   {
    "duration": 9,
    "start_time": "2024-09-11T00:02:39.896Z"
   },
   {
    "duration": 34,
    "start_time": "2024-09-11T00:02:39.908Z"
   },
   {
    "duration": 53,
    "start_time": "2024-09-11T00:02:39.943Z"
   },
   {
    "duration": 67,
    "start_time": "2024-09-11T00:02:40.006Z"
   },
   {
    "duration": 16,
    "start_time": "2024-09-11T00:02:40.075Z"
   },
   {
    "duration": 7,
    "start_time": "2024-09-11T00:02:40.105Z"
   },
   {
    "duration": 13,
    "start_time": "2024-09-11T00:02:40.113Z"
   },
   {
    "duration": 7,
    "start_time": "2024-09-11T00:02:40.129Z"
   },
   {
    "duration": 3,
    "start_time": "2024-09-11T00:02:40.138Z"
   },
   {
    "duration": 10,
    "start_time": "2024-09-11T00:02:40.142Z"
   },
   {
    "duration": 57,
    "start_time": "2024-09-11T00:02:40.153Z"
   },
   {
    "duration": 8,
    "start_time": "2024-09-11T00:02:40.211Z"
   },
   {
    "duration": 8,
    "start_time": "2024-09-11T00:02:40.220Z"
   },
   {
    "duration": 25,
    "start_time": "2024-09-11T00:02:40.229Z"
   },
   {
    "duration": 16,
    "start_time": "2024-09-11T00:02:40.255Z"
   },
   {
    "duration": 35,
    "start_time": "2024-09-11T00:02:40.272Z"
   },
   {
    "duration": 10,
    "start_time": "2024-09-11T00:02:40.309Z"
   },
   {
    "duration": 13,
    "start_time": "2024-09-11T00:02:40.321Z"
   },
   {
    "duration": 18,
    "start_time": "2024-09-11T00:02:40.336Z"
   },
   {
    "duration": 8,
    "start_time": "2024-09-11T00:02:40.355Z"
   },
   {
    "duration": 6,
    "start_time": "2024-09-11T00:02:40.364Z"
   },
   {
    "duration": 45,
    "start_time": "2024-09-11T00:02:40.372Z"
   },
   {
    "duration": 15,
    "start_time": "2024-09-11T00:02:40.419Z"
   },
   {
    "duration": 13,
    "start_time": "2024-09-11T00:02:40.435Z"
   },
   {
    "duration": 17,
    "start_time": "2024-09-11T00:02:40.450Z"
   },
   {
    "duration": 19,
    "start_time": "2024-09-11T00:02:40.505Z"
   },
   {
    "duration": 17,
    "start_time": "2024-09-11T00:02:40.526Z"
   },
   {
    "duration": 14,
    "start_time": "2024-09-11T00:02:40.544Z"
   },
   {
    "duration": 14,
    "start_time": "2024-09-11T00:02:40.559Z"
   },
   {
    "duration": 57,
    "start_time": "2024-09-11T00:02:40.575Z"
   },
   {
    "duration": 32,
    "start_time": "2024-09-11T00:02:40.633Z"
   },
   {
    "duration": 4,
    "start_time": "2024-09-11T00:02:40.667Z"
   },
   {
    "duration": 37,
    "start_time": "2024-09-11T00:02:40.673Z"
   },
   {
    "duration": 1777,
    "start_time": "2024-09-11T00:02:40.711Z"
   },
   {
    "duration": 176,
    "start_time": "2024-09-11T00:02:42.490Z"
   },
   {
    "duration": 6,
    "start_time": "2024-09-11T00:02:42.668Z"
   },
   {
    "duration": 32,
    "start_time": "2024-09-11T00:02:42.675Z"
   },
   {
    "duration": 11,
    "start_time": "2024-09-11T00:02:42.709Z"
   },
   {
    "duration": 3,
    "start_time": "2024-09-11T00:02:42.722Z"
   },
   {
    "duration": 112,
    "start_time": "2024-09-11T00:02:42.727Z"
   },
   {
    "duration": 13,
    "start_time": "2024-09-11T00:02:42.841Z"
   },
   {
    "duration": 12,
    "start_time": "2024-09-11T00:02:42.856Z"
   },
   {
    "duration": 6,
    "start_time": "2024-09-11T00:02:42.869Z"
   },
   {
    "duration": 32,
    "start_time": "2024-09-11T00:02:42.877Z"
   },
   {
    "duration": 18,
    "start_time": "2024-09-11T00:02:42.911Z"
   },
   {
    "duration": 6,
    "start_time": "2024-09-11T00:02:42.930Z"
   },
   {
    "duration": 17,
    "start_time": "2024-09-11T00:02:42.938Z"
   },
   {
    "duration": 11,
    "start_time": "2024-09-11T00:02:42.957Z"
   },
   {
    "duration": 44,
    "start_time": "2024-09-11T00:02:42.970Z"
   },
   {
    "duration": 8,
    "start_time": "2024-09-11T00:02:43.015Z"
   },
   {
    "duration": 5,
    "start_time": "2024-09-11T00:02:43.025Z"
   },
   {
    "duration": 5,
    "start_time": "2024-09-11T00:02:43.032Z"
   },
   {
    "duration": 2,
    "start_time": "2024-09-11T00:02:43.039Z"
   },
   {
    "duration": 30,
    "start_time": "2024-09-11T00:03:23.017Z"
   },
   {
    "duration": 24,
    "start_time": "2024-09-11T00:06:46.277Z"
   },
   {
    "duration": 33,
    "start_time": "2024-09-11T00:10:08.957Z"
   },
   {
    "duration": 18,
    "start_time": "2024-09-11T00:15:28.169Z"
   },
   {
    "duration": 25,
    "start_time": "2024-09-11T00:16:40.796Z"
   },
   {
    "duration": 26,
    "start_time": "2024-09-11T00:19:12.393Z"
   },
   {
    "duration": 14,
    "start_time": "2024-09-11T00:19:40.882Z"
   },
   {
    "duration": 847,
    "start_time": "2024-09-11T00:22:50.545Z"
   },
   {
    "duration": 12,
    "start_time": "2024-09-11T00:22:51.394Z"
   },
   {
    "duration": 5,
    "start_time": "2024-09-11T00:22:51.408Z"
   },
   {
    "duration": 35,
    "start_time": "2024-09-11T00:22:51.417Z"
   },
   {
    "duration": 66,
    "start_time": "2024-09-11T00:22:51.453Z"
   },
   {
    "duration": 67,
    "start_time": "2024-09-11T00:22:51.521Z"
   },
   {
    "duration": 25,
    "start_time": "2024-09-11T00:22:51.591Z"
   },
   {
    "duration": 8,
    "start_time": "2024-09-11T00:22:51.617Z"
   },
   {
    "duration": 12,
    "start_time": "2024-09-11T00:22:51.627Z"
   },
   {
    "duration": 7,
    "start_time": "2024-09-11T00:22:51.643Z"
   },
   {
    "duration": 3,
    "start_time": "2024-09-11T00:22:51.652Z"
   },
   {
    "duration": 10,
    "start_time": "2024-09-11T00:22:51.656Z"
   },
   {
    "duration": 58,
    "start_time": "2024-09-11T00:22:51.667Z"
   },
   {
    "duration": 7,
    "start_time": "2024-09-11T00:22:51.727Z"
   },
   {
    "duration": 7,
    "start_time": "2024-09-11T00:22:51.736Z"
   },
   {
    "duration": 26,
    "start_time": "2024-09-11T00:22:51.744Z"
   },
   {
    "duration": 46,
    "start_time": "2024-09-11T00:22:51.771Z"
   },
   {
    "duration": 7,
    "start_time": "2024-09-11T00:22:51.819Z"
   },
   {
    "duration": 9,
    "start_time": "2024-09-11T00:22:51.828Z"
   },
   {
    "duration": 13,
    "start_time": "2024-09-11T00:22:51.838Z"
   },
   {
    "duration": 18,
    "start_time": "2024-09-11T00:22:51.852Z"
   },
   {
    "duration": 40,
    "start_time": "2024-09-11T00:22:51.872Z"
   },
   {
    "duration": 7,
    "start_time": "2024-09-11T00:22:51.913Z"
   },
   {
    "duration": 17,
    "start_time": "2024-09-11T00:22:51.922Z"
   },
   {
    "duration": 15,
    "start_time": "2024-09-11T00:22:51.940Z"
   },
   {
    "duration": 12,
    "start_time": "2024-09-11T00:22:51.956Z"
   },
   {
    "duration": 49,
    "start_time": "2024-09-11T00:22:51.971Z"
   },
   {
    "duration": 17,
    "start_time": "2024-09-11T00:22:52.025Z"
   },
   {
    "duration": 16,
    "start_time": "2024-09-11T00:22:52.044Z"
   },
   {
    "duration": 18,
    "start_time": "2024-09-11T00:22:52.062Z"
   },
   {
    "duration": 16,
    "start_time": "2024-09-11T00:22:52.105Z"
   },
   {
    "duration": 24,
    "start_time": "2024-09-11T00:22:52.122Z"
   },
   {
    "duration": 32,
    "start_time": "2024-09-11T00:22:52.148Z"
   },
   {
    "duration": 27,
    "start_time": "2024-09-11T00:22:52.182Z"
   },
   {
    "duration": 18,
    "start_time": "2024-09-11T00:22:52.211Z"
   },
   {
    "duration": 1820,
    "start_time": "2024-09-11T00:22:52.230Z"
   },
   {
    "duration": 168,
    "start_time": "2024-09-11T00:22:54.052Z"
   },
   {
    "duration": 5,
    "start_time": "2024-09-11T00:22:54.222Z"
   },
   {
    "duration": 17,
    "start_time": "2024-09-11T00:22:54.229Z"
   },
   {
    "duration": 10,
    "start_time": "2024-09-11T00:22:54.247Z"
   },
   {
    "duration": 3,
    "start_time": "2024-09-11T00:22:54.259Z"
   },
   {
    "duration": 128,
    "start_time": "2024-09-11T00:22:54.264Z"
   },
   {
    "duration": 19,
    "start_time": "2024-09-11T00:22:54.394Z"
   },
   {
    "duration": 12,
    "start_time": "2024-09-11T00:22:54.415Z"
   },
   {
    "duration": 6,
    "start_time": "2024-09-11T00:22:54.429Z"
   },
   {
    "duration": 7,
    "start_time": "2024-09-11T00:22:54.436Z"
   },
   {
    "duration": 18,
    "start_time": "2024-09-11T00:22:54.444Z"
   },
   {
    "duration": 6,
    "start_time": "2024-09-11T00:22:54.464Z"
   },
   {
    "duration": 52,
    "start_time": "2024-09-11T00:22:54.471Z"
   },
   {
    "duration": 11,
    "start_time": "2024-09-11T00:22:54.525Z"
   },
   {
    "duration": 10,
    "start_time": "2024-09-11T00:22:54.538Z"
   },
   {
    "duration": 6,
    "start_time": "2024-09-11T00:22:54.550Z"
   },
   {
    "duration": 63,
    "start_time": "2024-09-11T00:22:54.558Z"
   },
   {
    "duration": 7,
    "start_time": "2024-09-11T00:22:54.623Z"
   },
   {
    "duration": 11,
    "start_time": "2024-09-11T00:22:54.632Z"
   },
   {
    "duration": 3,
    "start_time": "2024-09-11T00:22:54.645Z"
   },
   {
    "duration": 19,
    "start_time": "2024-09-11T00:26:07.665Z"
   },
   {
    "duration": 836,
    "start_time": "2024-09-11T00:26:35.852Z"
   },
   {
    "duration": 7,
    "start_time": "2024-09-11T00:26:36.691Z"
   },
   {
    "duration": 5,
    "start_time": "2024-09-11T00:26:36.704Z"
   },
   {
    "duration": 35,
    "start_time": "2024-09-11T00:26:36.711Z"
   },
   {
    "duration": 67,
    "start_time": "2024-09-11T00:26:36.748Z"
   },
   {
    "duration": 67,
    "start_time": "2024-09-11T00:26:36.816Z"
   },
   {
    "duration": 24,
    "start_time": "2024-09-11T00:26:36.885Z"
   },
   {
    "duration": 7,
    "start_time": "2024-09-11T00:26:36.911Z"
   },
   {
    "duration": 13,
    "start_time": "2024-09-11T00:26:36.920Z"
   },
   {
    "duration": 8,
    "start_time": "2024-09-11T00:26:36.935Z"
   },
   {
    "duration": 3,
    "start_time": "2024-09-11T00:26:36.945Z"
   },
   {
    "duration": 10,
    "start_time": "2024-09-11T00:26:36.949Z"
   },
   {
    "duration": 62,
    "start_time": "2024-09-11T00:26:36.960Z"
   },
   {
    "duration": 8,
    "start_time": "2024-09-11T00:26:37.025Z"
   },
   {
    "duration": 6,
    "start_time": "2024-09-11T00:26:37.035Z"
   },
   {
    "duration": 25,
    "start_time": "2024-09-11T00:26:37.043Z"
   },
   {
    "duration": 41,
    "start_time": "2024-09-11T00:26:37.070Z"
   },
   {
    "duration": 7,
    "start_time": "2024-09-11T00:26:37.113Z"
   },
   {
    "duration": 9,
    "start_time": "2024-09-11T00:26:37.121Z"
   },
   {
    "duration": 14,
    "start_time": "2024-09-11T00:26:37.132Z"
   },
   {
    "duration": 18,
    "start_time": "2024-09-11T00:26:37.147Z"
   },
   {
    "duration": 43,
    "start_time": "2024-09-11T00:26:37.167Z"
   },
   {
    "duration": 7,
    "start_time": "2024-09-11T00:26:37.211Z"
   },
   {
    "duration": 17,
    "start_time": "2024-09-11T00:26:37.219Z"
   },
   {
    "duration": 14,
    "start_time": "2024-09-11T00:26:37.238Z"
   },
   {
    "duration": 12,
    "start_time": "2024-09-11T00:26:37.254Z"
   },
   {
    "duration": 52,
    "start_time": "2024-09-11T00:26:37.268Z"
   },
   {
    "duration": 16,
    "start_time": "2024-09-11T00:26:37.322Z"
   },
   {
    "duration": 14,
    "start_time": "2024-09-11T00:26:37.340Z"
   },
   {
    "duration": 14,
    "start_time": "2024-09-11T00:26:37.356Z"
   },
   {
    "duration": 52,
    "start_time": "2024-09-11T00:26:37.372Z"
   },
   {
    "duration": 32,
    "start_time": "2024-09-11T00:26:37.426Z"
   },
   {
    "duration": 4,
    "start_time": "2024-09-11T00:26:37.460Z"
   },
   {
    "duration": 41,
    "start_time": "2024-09-11T00:26:37.466Z"
   },
   {
    "duration": 1727,
    "start_time": "2024-09-11T00:26:37.509Z"
   },
   {
    "duration": 164,
    "start_time": "2024-09-11T00:26:39.238Z"
   },
   {
    "duration": 6,
    "start_time": "2024-09-11T00:26:39.405Z"
   },
   {
    "duration": 17,
    "start_time": "2024-09-11T00:26:39.412Z"
   },
   {
    "duration": 10,
    "start_time": "2024-09-11T00:26:39.431Z"
   },
   {
    "duration": 3,
    "start_time": "2024-09-11T00:26:39.443Z"
   },
   {
    "duration": 123,
    "start_time": "2024-09-11T00:26:39.451Z"
   },
   {
    "duration": 13,
    "start_time": "2024-09-11T00:26:39.576Z"
   },
   {
    "duration": 24,
    "start_time": "2024-09-11T00:26:39.591Z"
   },
   {
    "duration": 6,
    "start_time": "2024-09-11T00:26:39.617Z"
   },
   {
    "duration": 7,
    "start_time": "2024-09-11T00:26:39.625Z"
   },
   {
    "duration": 17,
    "start_time": "2024-09-11T00:26:39.634Z"
   },
   {
    "duration": 6,
    "start_time": "2024-09-11T00:26:39.653Z"
   },
   {
    "duration": 50,
    "start_time": "2024-09-11T00:26:39.661Z"
   },
   {
    "duration": 11,
    "start_time": "2024-09-11T00:26:39.713Z"
   },
   {
    "duration": 13,
    "start_time": "2024-09-11T00:26:39.726Z"
   },
   {
    "duration": 6,
    "start_time": "2024-09-11T00:26:39.741Z"
   },
   {
    "duration": 25,
    "start_time": "2024-09-11T00:26:39.748Z"
   },
   {
    "duration": 34,
    "start_time": "2024-09-11T00:26:39.775Z"
   },
   {
    "duration": 7,
    "start_time": "2024-09-11T00:26:39.810Z"
   },
   {
    "duration": 2,
    "start_time": "2024-09-11T00:26:39.819Z"
   },
   {
    "duration": 794,
    "start_time": "2024-09-11T00:27:58.997Z"
   },
   {
    "duration": 12,
    "start_time": "2024-09-11T00:27:59.793Z"
   },
   {
    "duration": 5,
    "start_time": "2024-09-11T00:27:59.807Z"
   },
   {
    "duration": 35,
    "start_time": "2024-09-11T00:27:59.814Z"
   },
   {
    "duration": 66,
    "start_time": "2024-09-11T00:27:59.850Z"
   },
   {
    "duration": 74,
    "start_time": "2024-09-11T00:27:59.918Z"
   },
   {
    "duration": 21,
    "start_time": "2024-09-11T00:27:59.994Z"
   },
   {
    "duration": 7,
    "start_time": "2024-09-11T00:28:00.017Z"
   },
   {
    "duration": 13,
    "start_time": "2024-09-11T00:28:00.026Z"
   },
   {
    "duration": 7,
    "start_time": "2024-09-11T00:28:00.043Z"
   },
   {
    "duration": 3,
    "start_time": "2024-09-11T00:28:00.052Z"
   },
   {
    "duration": 51,
    "start_time": "2024-09-11T00:28:00.056Z"
   },
   {
    "duration": 21,
    "start_time": "2024-09-11T00:28:00.109Z"
   },
   {
    "duration": 10,
    "start_time": "2024-09-11T00:28:00.131Z"
   },
   {
    "duration": 7,
    "start_time": "2024-09-11T00:28:00.143Z"
   },
   {
    "duration": 54,
    "start_time": "2024-09-11T00:28:00.152Z"
   },
   {
    "duration": 20,
    "start_time": "2024-09-11T00:28:00.208Z"
   },
   {
    "duration": 8,
    "start_time": "2024-09-11T00:28:00.230Z"
   },
   {
    "duration": 9,
    "start_time": "2024-09-11T00:28:00.240Z"
   },
   {
    "duration": 13,
    "start_time": "2024-09-11T00:28:00.251Z"
   },
   {
    "duration": 44,
    "start_time": "2024-09-11T00:28:00.265Z"
   },
   {
    "duration": 9,
    "start_time": "2024-09-11T00:28:00.310Z"
   },
   {
    "duration": 6,
    "start_time": "2024-09-11T00:28:00.321Z"
   },
   {
    "duration": 18,
    "start_time": "2024-09-11T00:28:00.329Z"
   },
   {
    "duration": 15,
    "start_time": "2024-09-11T00:28:00.348Z"
   },
   {
    "duration": 42,
    "start_time": "2024-09-11T00:28:00.364Z"
   },
   {
    "duration": 20,
    "start_time": "2024-09-11T00:28:00.408Z"
   },
   {
    "duration": 15,
    "start_time": "2024-09-11T00:28:00.433Z"
   },
   {
    "duration": 14,
    "start_time": "2024-09-11T00:28:00.449Z"
   },
   {
    "duration": 47,
    "start_time": "2024-09-11T00:28:00.464Z"
   },
   {
    "duration": 27,
    "start_time": "2024-09-11T00:28:00.513Z"
   },
   {
    "duration": 32,
    "start_time": "2024-09-11T00:28:00.541Z"
   },
   {
    "duration": 6,
    "start_time": "2024-09-11T00:28:00.574Z"
   },
   {
    "duration": 18,
    "start_time": "2024-09-11T00:28:00.606Z"
   },
   {
    "duration": 1794,
    "start_time": "2024-09-11T00:28:00.626Z"
   },
   {
    "duration": 174,
    "start_time": "2024-09-11T00:28:02.422Z"
   },
   {
    "duration": 9,
    "start_time": "2024-09-11T00:28:02.598Z"
   },
   {
    "duration": 18,
    "start_time": "2024-09-11T00:28:02.610Z"
   },
   {
    "duration": 13,
    "start_time": "2024-09-11T00:28:02.630Z"
   },
   {
    "duration": 3,
    "start_time": "2024-09-11T00:28:02.645Z"
   },
   {
    "duration": 129,
    "start_time": "2024-09-11T00:28:02.650Z"
   },
   {
    "duration": 12,
    "start_time": "2024-09-11T00:28:02.781Z"
   },
   {
    "duration": 26,
    "start_time": "2024-09-11T00:28:02.795Z"
   },
   {
    "duration": 10,
    "start_time": "2024-09-11T00:28:02.823Z"
   },
   {
    "duration": 7,
    "start_time": "2024-09-11T00:28:02.835Z"
   },
   {
    "duration": 18,
    "start_time": "2024-09-11T00:28:02.844Z"
   },
   {
    "duration": 6,
    "start_time": "2024-09-11T00:28:02.863Z"
   },
   {
    "duration": 52,
    "start_time": "2024-09-11T00:28:02.871Z"
   },
   {
    "duration": 12,
    "start_time": "2024-09-11T00:28:02.925Z"
   },
   {
    "duration": 11,
    "start_time": "2024-09-11T00:28:02.939Z"
   },
   {
    "duration": 7,
    "start_time": "2024-09-11T00:28:02.952Z"
   },
   {
    "duration": 55,
    "start_time": "2024-09-11T00:28:02.960Z"
   },
   {
    "duration": 6,
    "start_time": "2024-09-11T00:28:03.017Z"
   },
   {
    "duration": 7,
    "start_time": "2024-09-11T00:28:03.025Z"
   },
   {
    "duration": 2,
    "start_time": "2024-09-11T00:28:03.034Z"
   },
   {
    "duration": 27,
    "start_time": "2024-09-11T00:29:08.695Z"
   },
   {
    "duration": 805,
    "start_time": "2024-09-11T00:29:20.082Z"
   },
   {
    "duration": 8,
    "start_time": "2024-09-11T00:29:20.889Z"
   },
   {
    "duration": 10,
    "start_time": "2024-09-11T00:29:20.898Z"
   },
   {
    "duration": 33,
    "start_time": "2024-09-11T00:29:20.910Z"
   },
   {
    "duration": 63,
    "start_time": "2024-09-11T00:29:20.944Z"
   },
   {
    "duration": 67,
    "start_time": "2024-09-11T00:29:21.008Z"
   },
   {
    "duration": 29,
    "start_time": "2024-09-11T00:29:21.076Z"
   },
   {
    "duration": 8,
    "start_time": "2024-09-11T00:29:21.107Z"
   },
   {
    "duration": 13,
    "start_time": "2024-09-11T00:29:21.117Z"
   },
   {
    "duration": 7,
    "start_time": "2024-09-11T00:29:21.133Z"
   },
   {
    "duration": 3,
    "start_time": "2024-09-11T00:29:21.142Z"
   },
   {
    "duration": 9,
    "start_time": "2024-09-11T00:29:21.147Z"
   },
   {
    "duration": 56,
    "start_time": "2024-09-11T00:29:21.157Z"
   },
   {
    "duration": 8,
    "start_time": "2024-09-11T00:29:21.215Z"
   },
   {
    "duration": 7,
    "start_time": "2024-09-11T00:29:21.224Z"
   },
   {
    "duration": 24,
    "start_time": "2024-09-11T00:29:21.232Z"
   },
   {
    "duration": 15,
    "start_time": "2024-09-11T00:29:21.258Z"
   },
   {
    "duration": 34,
    "start_time": "2024-09-11T00:29:21.275Z"
   },
   {
    "duration": 10,
    "start_time": "2024-09-11T00:29:21.311Z"
   },
   {
    "duration": 13,
    "start_time": "2024-09-11T00:29:21.323Z"
   },
   {
    "duration": 18,
    "start_time": "2024-09-11T00:29:21.338Z"
   },
   {
    "duration": 7,
    "start_time": "2024-09-11T00:29:21.357Z"
   },
   {
    "duration": 40,
    "start_time": "2024-09-11T00:29:21.366Z"
   },
   {
    "duration": 18,
    "start_time": "2024-09-11T00:29:21.407Z"
   },
   {
    "duration": 15,
    "start_time": "2024-09-11T00:29:21.426Z"
   },
   {
    "duration": 12,
    "start_time": "2024-09-11T00:29:21.443Z"
   },
   {
    "duration": 306,
    "start_time": "2024-09-11T00:29:21.457Z"
   },
   {
    "duration": 0,
    "start_time": "2024-09-11T00:29:21.766Z"
   },
   {
    "duration": 0,
    "start_time": "2024-09-11T00:29:21.767Z"
   },
   {
    "duration": 0,
    "start_time": "2024-09-11T00:29:21.769Z"
   },
   {
    "duration": 0,
    "start_time": "2024-09-11T00:29:21.771Z"
   },
   {
    "duration": 0,
    "start_time": "2024-09-11T00:29:21.772Z"
   },
   {
    "duration": 0,
    "start_time": "2024-09-11T00:29:21.773Z"
   },
   {
    "duration": 0,
    "start_time": "2024-09-11T00:29:21.775Z"
   },
   {
    "duration": 0,
    "start_time": "2024-09-11T00:29:21.777Z"
   },
   {
    "duration": 0,
    "start_time": "2024-09-11T00:29:21.778Z"
   },
   {
    "duration": 0,
    "start_time": "2024-09-11T00:29:21.780Z"
   },
   {
    "duration": 0,
    "start_time": "2024-09-11T00:29:21.805Z"
   },
   {
    "duration": 0,
    "start_time": "2024-09-11T00:29:21.805Z"
   },
   {
    "duration": 0,
    "start_time": "2024-09-11T00:29:21.807Z"
   },
   {
    "duration": 0,
    "start_time": "2024-09-11T00:29:21.808Z"
   },
   {
    "duration": 0,
    "start_time": "2024-09-11T00:29:21.809Z"
   },
   {
    "duration": 0,
    "start_time": "2024-09-11T00:29:21.810Z"
   },
   {
    "duration": 0,
    "start_time": "2024-09-11T00:29:21.811Z"
   },
   {
    "duration": 0,
    "start_time": "2024-09-11T00:29:21.812Z"
   },
   {
    "duration": 0,
    "start_time": "2024-09-11T00:29:21.813Z"
   },
   {
    "duration": 0,
    "start_time": "2024-09-11T00:29:21.814Z"
   },
   {
    "duration": 0,
    "start_time": "2024-09-11T00:29:21.815Z"
   },
   {
    "duration": 0,
    "start_time": "2024-09-11T00:29:21.816Z"
   },
   {
    "duration": 0,
    "start_time": "2024-09-11T00:29:21.819Z"
   },
   {
    "duration": 0,
    "start_time": "2024-09-11T00:29:21.820Z"
   },
   {
    "duration": 0,
    "start_time": "2024-09-11T00:29:21.821Z"
   },
   {
    "duration": 0,
    "start_time": "2024-09-11T00:29:21.822Z"
   },
   {
    "duration": 0,
    "start_time": "2024-09-11T00:29:21.824Z"
   },
   {
    "duration": 0,
    "start_time": "2024-09-11T00:29:21.825Z"
   },
   {
    "duration": 471,
    "start_time": "2024-09-11T00:30:47.202Z"
   },
   {
    "duration": 25,
    "start_time": "2024-09-11T00:31:40.716Z"
   },
   {
    "duration": 6,
    "start_time": "2024-09-11T00:34:10.392Z"
   },
   {
    "duration": 22,
    "start_time": "2024-09-11T00:34:25.556Z"
   },
   {
    "duration": 20,
    "start_time": "2024-09-11T00:37:19.097Z"
   },
   {
    "duration": 16,
    "start_time": "2024-09-11T00:38:42.384Z"
   },
   {
    "duration": 842,
    "start_time": "2024-09-11T00:39:04.137Z"
   },
   {
    "duration": 7,
    "start_time": "2024-09-11T00:39:04.981Z"
   },
   {
    "duration": 4,
    "start_time": "2024-09-11T00:39:04.989Z"
   },
   {
    "duration": 41,
    "start_time": "2024-09-11T00:39:04.995Z"
   },
   {
    "duration": 54,
    "start_time": "2024-09-11T00:39:05.038Z"
   },
   {
    "duration": 75,
    "start_time": "2024-09-11T00:39:05.094Z"
   },
   {
    "duration": 16,
    "start_time": "2024-09-11T00:39:05.171Z"
   },
   {
    "duration": 20,
    "start_time": "2024-09-11T00:39:05.188Z"
   },
   {
    "duration": 12,
    "start_time": "2024-09-11T00:39:05.210Z"
   },
   {
    "duration": 7,
    "start_time": "2024-09-11T00:39:05.224Z"
   },
   {
    "duration": 3,
    "start_time": "2024-09-11T00:39:05.233Z"
   },
   {
    "duration": 9,
    "start_time": "2024-09-11T00:39:05.238Z"
   },
   {
    "duration": 61,
    "start_time": "2024-09-11T00:39:05.248Z"
   },
   {
    "duration": 8,
    "start_time": "2024-09-11T00:39:05.314Z"
   },
   {
    "duration": 7,
    "start_time": "2024-09-11T00:39:05.325Z"
   },
   {
    "duration": 25,
    "start_time": "2024-09-11T00:39:05.334Z"
   },
   {
    "duration": 44,
    "start_time": "2024-09-11T00:39:05.361Z"
   },
   {
    "duration": 7,
    "start_time": "2024-09-11T00:39:05.407Z"
   },
   {
    "duration": 10,
    "start_time": "2024-09-11T00:39:05.415Z"
   },
   {
    "duration": 13,
    "start_time": "2024-09-11T00:39:05.426Z"
   },
   {
    "duration": 18,
    "start_time": "2024-09-11T00:39:05.441Z"
   },
   {
    "duration": 8,
    "start_time": "2024-09-11T00:39:05.460Z"
   },
   {
    "duration": 7,
    "start_time": "2024-09-11T00:39:05.505Z"
   },
   {
    "duration": 17,
    "start_time": "2024-09-11T00:39:05.513Z"
   },
   {
    "duration": 16,
    "start_time": "2024-09-11T00:39:05.532Z"
   },
   {
    "duration": 12,
    "start_time": "2024-09-11T00:39:05.550Z"
   },
   {
    "duration": 47,
    "start_time": "2024-09-11T00:39:05.563Z"
   },
   {
    "duration": 17,
    "start_time": "2024-09-11T00:39:05.612Z"
   },
   {
    "duration": 14,
    "start_time": "2024-09-11T00:39:05.630Z"
   },
   {
    "duration": 15,
    "start_time": "2024-09-11T00:39:05.645Z"
   },
   {
    "duration": 56,
    "start_time": "2024-09-11T00:39:05.662Z"
   },
   {
    "duration": 676,
    "start_time": "2024-09-11T00:39:05.720Z"
   },
   {
    "duration": 0,
    "start_time": "2024-09-11T00:39:06.405Z"
   },
   {
    "duration": 0,
    "start_time": "2024-09-11T00:39:06.406Z"
   },
   {
    "duration": 0,
    "start_time": "2024-09-11T00:39:06.407Z"
   },
   {
    "duration": 0,
    "start_time": "2024-09-11T00:39:06.408Z"
   },
   {
    "duration": 0,
    "start_time": "2024-09-11T00:39:06.409Z"
   },
   {
    "duration": 0,
    "start_time": "2024-09-11T00:39:06.410Z"
   },
   {
    "duration": 0,
    "start_time": "2024-09-11T00:39:06.411Z"
   },
   {
    "duration": 0,
    "start_time": "2024-09-11T00:39:06.412Z"
   },
   {
    "duration": 0,
    "start_time": "2024-09-11T00:39:06.413Z"
   },
   {
    "duration": 0,
    "start_time": "2024-09-11T00:39:06.414Z"
   },
   {
    "duration": 0,
    "start_time": "2024-09-11T00:39:06.415Z"
   },
   {
    "duration": 0,
    "start_time": "2024-09-11T00:39:06.415Z"
   },
   {
    "duration": 0,
    "start_time": "2024-09-11T00:39:06.416Z"
   },
   {
    "duration": 0,
    "start_time": "2024-09-11T00:39:06.417Z"
   },
   {
    "duration": 0,
    "start_time": "2024-09-11T00:39:06.420Z"
   },
   {
    "duration": 0,
    "start_time": "2024-09-11T00:39:06.421Z"
   },
   {
    "duration": 0,
    "start_time": "2024-09-11T00:39:06.422Z"
   },
   {
    "duration": 0,
    "start_time": "2024-09-11T00:39:06.423Z"
   },
   {
    "duration": 0,
    "start_time": "2024-09-11T00:39:06.425Z"
   },
   {
    "duration": 0,
    "start_time": "2024-09-11T00:39:06.426Z"
   },
   {
    "duration": 0,
    "start_time": "2024-09-11T00:39:06.427Z"
   },
   {
    "duration": 0,
    "start_time": "2024-09-11T00:39:06.428Z"
   },
   {
    "duration": 0,
    "start_time": "2024-09-11T00:39:06.429Z"
   },
   {
    "duration": 32,
    "start_time": "2024-09-11T00:45:13.928Z"
   },
   {
    "duration": 25,
    "start_time": "2024-09-11T00:45:34.203Z"
   },
   {
    "duration": 39,
    "start_time": "2024-09-11T00:46:26.366Z"
   },
   {
    "duration": 48,
    "start_time": "2024-09-11T00:47:19.206Z"
   },
   {
    "duration": 40,
    "start_time": "2024-09-11T00:47:44.959Z"
   },
   {
    "duration": 6,
    "start_time": "2024-09-11T00:47:56.346Z"
   },
   {
    "duration": 970,
    "start_time": "2024-09-11T00:48:03.373Z"
   },
   {
    "duration": 8,
    "start_time": "2024-09-11T00:48:04.345Z"
   },
   {
    "duration": 5,
    "start_time": "2024-09-11T00:48:04.354Z"
   },
   {
    "duration": 54,
    "start_time": "2024-09-11T00:48:04.362Z"
   },
   {
    "duration": 55,
    "start_time": "2024-09-11T00:48:04.420Z"
   },
   {
    "duration": 84,
    "start_time": "2024-09-11T00:48:04.477Z"
   },
   {
    "duration": 22,
    "start_time": "2024-09-11T00:48:04.564Z"
   },
   {
    "duration": 20,
    "start_time": "2024-09-11T00:48:04.588Z"
   },
   {
    "duration": 17,
    "start_time": "2024-09-11T00:48:04.612Z"
   },
   {
    "duration": 8,
    "start_time": "2024-09-11T00:48:04.634Z"
   },
   {
    "duration": 4,
    "start_time": "2024-09-11T00:48:04.645Z"
   },
   {
    "duration": 13,
    "start_time": "2024-09-11T00:48:04.651Z"
   },
   {
    "duration": 68,
    "start_time": "2024-09-11T00:48:04.666Z"
   },
   {
    "duration": 12,
    "start_time": "2024-09-11T00:48:04.736Z"
   },
   {
    "duration": 9,
    "start_time": "2024-09-11T00:48:04.750Z"
   },
   {
    "duration": 59,
    "start_time": "2024-09-11T00:48:04.760Z"
   },
   {
    "duration": 21,
    "start_time": "2024-09-11T00:48:04.821Z"
   },
   {
    "duration": 9,
    "start_time": "2024-09-11T00:48:04.845Z"
   },
   {
    "duration": 11,
    "start_time": "2024-09-11T00:48:04.856Z"
   },
   {
    "duration": 43,
    "start_time": "2024-09-11T00:48:04.869Z"
   },
   {
    "duration": 25,
    "start_time": "2024-09-11T00:48:04.914Z"
   },
   {
    "duration": 11,
    "start_time": "2024-09-11T00:48:04.942Z"
   },
   {
    "duration": 9,
    "start_time": "2024-09-11T00:48:04.955Z"
   },
   {
    "duration": 51,
    "start_time": "2024-09-11T00:48:04.967Z"
   },
   {
    "duration": 17,
    "start_time": "2024-09-11T00:48:05.021Z"
   },
   {
    "duration": 15,
    "start_time": "2024-09-11T00:48:05.039Z"
   },
   {
    "duration": 53,
    "start_time": "2024-09-11T00:48:05.056Z"
   },
   {
    "duration": 21,
    "start_time": "2024-09-11T00:48:05.115Z"
   },
   {
    "duration": 21,
    "start_time": "2024-09-11T00:48:05.138Z"
   },
   {
    "duration": 47,
    "start_time": "2024-09-11T00:48:05.161Z"
   },
   {
    "duration": 55,
    "start_time": "2024-09-11T00:48:05.210Z"
   },
   {
    "duration": 58,
    "start_time": "2024-09-11T00:48:05.267Z"
   },
   {
    "duration": 8,
    "start_time": "2024-09-11T00:48:05.327Z"
   },
   {
    "duration": 19,
    "start_time": "2024-09-11T00:48:05.337Z"
   },
   {
    "duration": 22551,
    "start_time": "2024-09-11T00:48:05.359Z"
   },
   {
    "duration": 175,
    "start_time": "2024-09-11T00:48:27.913Z"
   },
   {
    "duration": 6,
    "start_time": "2024-09-11T00:48:28.090Z"
   },
   {
    "duration": 21,
    "start_time": "2024-09-11T00:48:28.106Z"
   },
   {
    "duration": 13,
    "start_time": "2024-09-11T00:48:28.129Z"
   },
   {
    "duration": 3,
    "start_time": "2024-09-11T00:48:28.144Z"
   },
   {
    "duration": 141,
    "start_time": "2024-09-11T00:48:28.149Z"
   },
   {
    "duration": 24,
    "start_time": "2024-09-11T00:48:28.293Z"
   },
   {
    "duration": 15,
    "start_time": "2024-09-11T00:48:28.319Z"
   },
   {
    "duration": 8,
    "start_time": "2024-09-11T00:48:28.337Z"
   },
   {
    "duration": 7,
    "start_time": "2024-09-11T00:48:28.347Z"
   },
   {
    "duration": 275,
    "start_time": "2024-09-11T00:48:28.356Z"
   },
   {
    "duration": 0,
    "start_time": "2024-09-11T00:48:28.633Z"
   },
   {
    "duration": 0,
    "start_time": "2024-09-11T00:48:28.634Z"
   },
   {
    "duration": 0,
    "start_time": "2024-09-11T00:48:28.635Z"
   },
   {
    "duration": 0,
    "start_time": "2024-09-11T00:48:28.637Z"
   },
   {
    "duration": 0,
    "start_time": "2024-09-11T00:48:28.638Z"
   },
   {
    "duration": 0,
    "start_time": "2024-09-11T00:48:28.639Z"
   },
   {
    "duration": 0,
    "start_time": "2024-09-11T00:48:28.641Z"
   },
   {
    "duration": 0,
    "start_time": "2024-09-11T00:48:28.641Z"
   },
   {
    "duration": 0,
    "start_time": "2024-09-11T00:48:28.642Z"
   },
   {
    "duration": 14,
    "start_time": "2024-09-11T00:49:02.362Z"
   },
   {
    "duration": 9,
    "start_time": "2024-09-11T00:49:23.434Z"
   },
   {
    "duration": 17,
    "start_time": "2024-09-11T00:49:27.181Z"
   },
   {
    "duration": 3,
    "start_time": "2024-09-11T00:49:38.113Z"
   },
   {
    "duration": 22,
    "start_time": "2024-09-11T00:53:52.475Z"
   },
   {
    "duration": 23,
    "start_time": "2024-09-11T00:54:06.519Z"
   },
   {
    "duration": 19,
    "start_time": "2024-09-11T00:55:08.959Z"
   },
   {
    "duration": 13,
    "start_time": "2024-09-11T00:55:30.570Z"
   },
   {
    "duration": 13,
    "start_time": "2024-09-11T00:55:32.314Z"
   },
   {
    "duration": 9,
    "start_time": "2024-09-11T00:55:33.085Z"
   },
   {
    "duration": 27,
    "start_time": "2024-09-11T00:55:40.631Z"
   },
   {
    "duration": 7,
    "start_time": "2024-09-11T00:55:41.605Z"
   },
   {
    "duration": 10,
    "start_time": "2024-09-11T00:55:43.803Z"
   },
   {
    "duration": 7,
    "start_time": "2024-09-11T01:08:18.181Z"
   },
   {
    "duration": 31,
    "start_time": "2024-09-11T01:08:32.697Z"
   },
   {
    "duration": 7,
    "start_time": "2024-09-11T01:08:43.263Z"
   },
   {
    "duration": 8,
    "start_time": "2024-09-11T01:08:56.814Z"
   },
   {
    "duration": 812,
    "start_time": "2024-09-11T01:09:04.875Z"
   },
   {
    "duration": 27,
    "start_time": "2024-09-11T01:09:05.689Z"
   },
   {
    "duration": 5,
    "start_time": "2024-09-11T01:09:05.717Z"
   },
   {
    "duration": 34,
    "start_time": "2024-09-11T01:09:05.724Z"
   },
   {
    "duration": 54,
    "start_time": "2024-09-11T01:09:05.759Z"
   },
   {
    "duration": 68,
    "start_time": "2024-09-11T01:09:05.814Z"
   },
   {
    "duration": 30,
    "start_time": "2024-09-11T01:09:05.883Z"
   },
   {
    "duration": 7,
    "start_time": "2024-09-11T01:09:05.915Z"
   },
   {
    "duration": 12,
    "start_time": "2024-09-11T01:09:05.924Z"
   },
   {
    "duration": 7,
    "start_time": "2024-09-11T01:09:05.940Z"
   },
   {
    "duration": 3,
    "start_time": "2024-09-11T01:09:05.949Z"
   },
   {
    "duration": 10,
    "start_time": "2024-09-11T01:09:05.953Z"
   },
   {
    "duration": 57,
    "start_time": "2024-09-11T01:09:05.965Z"
   },
   {
    "duration": 8,
    "start_time": "2024-09-11T01:09:06.024Z"
   },
   {
    "duration": 6,
    "start_time": "2024-09-11T01:09:06.034Z"
   },
   {
    "duration": 24,
    "start_time": "2024-09-11T01:09:06.042Z"
   },
   {
    "duration": 42,
    "start_time": "2024-09-11T01:09:06.068Z"
   },
   {
    "duration": 7,
    "start_time": "2024-09-11T01:09:06.112Z"
   },
   {
    "duration": 9,
    "start_time": "2024-09-11T01:09:06.121Z"
   },
   {
    "duration": 13,
    "start_time": "2024-09-11T01:09:06.131Z"
   },
   {
    "duration": 18,
    "start_time": "2024-09-11T01:09:06.146Z"
   },
   {
    "duration": 7,
    "start_time": "2024-09-11T01:09:06.165Z"
   },
   {
    "duration": 6,
    "start_time": "2024-09-11T01:09:06.206Z"
   },
   {
    "duration": 17,
    "start_time": "2024-09-11T01:09:06.214Z"
   },
   {
    "duration": 14,
    "start_time": "2024-09-11T01:09:06.232Z"
   },
   {
    "duration": 11,
    "start_time": "2024-09-11T01:09:06.248Z"
   },
   {
    "duration": 48,
    "start_time": "2024-09-11T01:09:06.261Z"
   },
   {
    "duration": 15,
    "start_time": "2024-09-11T01:09:06.314Z"
   },
   {
    "duration": 15,
    "start_time": "2024-09-11T01:09:06.332Z"
   },
   {
    "duration": 17,
    "start_time": "2024-09-11T01:09:06.349Z"
   },
   {
    "duration": 68,
    "start_time": "2024-09-11T01:09:06.368Z"
   },
   {
    "duration": 35,
    "start_time": "2024-09-11T01:09:06.437Z"
   },
   {
    "duration": 5,
    "start_time": "2024-09-11T01:09:06.473Z"
   },
   {
    "duration": 39,
    "start_time": "2024-09-11T01:09:06.479Z"
   },
   {
    "duration": 21107,
    "start_time": "2024-09-11T01:09:06.520Z"
   },
   {
    "duration": 155,
    "start_time": "2024-09-11T01:09:27.630Z"
   },
   {
    "duration": 5,
    "start_time": "2024-09-11T01:09:27.787Z"
   },
   {
    "duration": 18,
    "start_time": "2024-09-11T01:09:27.806Z"
   },
   {
    "duration": 10,
    "start_time": "2024-09-11T01:09:27.825Z"
   },
   {
    "duration": 3,
    "start_time": "2024-09-11T01:09:27.837Z"
   },
   {
    "duration": 124,
    "start_time": "2024-09-11T01:09:27.841Z"
   },
   {
    "duration": 12,
    "start_time": "2024-09-11T01:09:27.967Z"
   },
   {
    "duration": 25,
    "start_time": "2024-09-11T01:09:27.981Z"
   },
   {
    "duration": 6,
    "start_time": "2024-09-11T01:09:28.008Z"
   },
   {
    "duration": 7,
    "start_time": "2024-09-11T01:09:28.016Z"
   },
   {
    "duration": 16,
    "start_time": "2024-09-11T01:09:28.025Z"
   },
   {
    "duration": 6,
    "start_time": "2024-09-11T01:09:28.043Z"
   },
   {
    "duration": 18,
    "start_time": "2024-09-11T01:09:28.050Z"
   },
   {
    "duration": 11,
    "start_time": "2024-09-11T01:09:28.106Z"
   },
   {
    "duration": 11,
    "start_time": "2024-09-11T01:09:28.119Z"
   },
   {
    "duration": 7,
    "start_time": "2024-09-11T01:09:28.132Z"
   },
   {
    "duration": 25,
    "start_time": "2024-09-11T01:09:28.140Z"
   },
   {
    "duration": 6,
    "start_time": "2024-09-11T01:09:28.167Z"
   },
   {
    "duration": 35,
    "start_time": "2024-09-11T01:09:28.175Z"
   },
   {
    "duration": 3,
    "start_time": "2024-09-11T01:09:28.211Z"
   },
   {
    "duration": 8,
    "start_time": "2024-09-11T01:10:05.318Z"
   },
   {
    "duration": 7,
    "start_time": "2024-09-11T01:10:09.421Z"
   },
   {
    "duration": 158,
    "start_time": "2024-09-11T01:12:21.451Z"
   },
   {
    "duration": 822,
    "start_time": "2024-09-11T01:14:03.768Z"
   },
   {
    "duration": 16,
    "start_time": "2024-09-11T01:14:04.592Z"
   },
   {
    "duration": 4,
    "start_time": "2024-09-11T01:14:04.610Z"
   },
   {
    "duration": 32,
    "start_time": "2024-09-11T01:14:04.617Z"
   },
   {
    "duration": 62,
    "start_time": "2024-09-11T01:14:04.651Z"
   },
   {
    "duration": 68,
    "start_time": "2024-09-11T01:14:04.715Z"
   },
   {
    "duration": 28,
    "start_time": "2024-09-11T01:14:04.784Z"
   },
   {
    "duration": 8,
    "start_time": "2024-09-11T01:14:04.813Z"
   },
   {
    "duration": 13,
    "start_time": "2024-09-11T01:14:04.822Z"
   },
   {
    "duration": 7,
    "start_time": "2024-09-11T01:14:04.838Z"
   },
   {
    "duration": 3,
    "start_time": "2024-09-11T01:14:04.847Z"
   },
   {
    "duration": 10,
    "start_time": "2024-09-11T01:14:04.852Z"
   },
   {
    "duration": 61,
    "start_time": "2024-09-11T01:14:04.864Z"
   },
   {
    "duration": 8,
    "start_time": "2024-09-11T01:14:04.927Z"
   },
   {
    "duration": 7,
    "start_time": "2024-09-11T01:14:04.936Z"
   },
   {
    "duration": 26,
    "start_time": "2024-09-11T01:14:04.945Z"
   },
   {
    "duration": 41,
    "start_time": "2024-09-11T01:14:04.972Z"
   },
   {
    "duration": 8,
    "start_time": "2024-09-11T01:14:05.015Z"
   },
   {
    "duration": 10,
    "start_time": "2024-09-11T01:14:05.025Z"
   },
   {
    "duration": 14,
    "start_time": "2024-09-11T01:14:05.037Z"
   },
   {
    "duration": 18,
    "start_time": "2024-09-11T01:14:05.052Z"
   },
   {
    "duration": 8,
    "start_time": "2024-09-11T01:14:05.105Z"
   },
   {
    "duration": 7,
    "start_time": "2024-09-11T01:14:05.115Z"
   },
   {
    "duration": 17,
    "start_time": "2024-09-11T01:14:05.123Z"
   },
   {
    "duration": 16,
    "start_time": "2024-09-11T01:14:05.142Z"
   },
   {
    "duration": 14,
    "start_time": "2024-09-11T01:14:05.159Z"
   },
   {
    "duration": 20,
    "start_time": "2024-09-11T01:14:05.205Z"
   },
   {
    "duration": 15,
    "start_time": "2024-09-11T01:14:05.230Z"
   },
   {
    "duration": 14,
    "start_time": "2024-09-11T01:14:05.246Z"
   },
   {
    "duration": 13,
    "start_time": "2024-09-11T01:14:05.262Z"
   },
   {
    "duration": 62,
    "start_time": "2024-09-11T01:14:05.277Z"
   },
   {
    "duration": 35,
    "start_time": "2024-09-11T01:14:05.341Z"
   },
   {
    "duration": 5,
    "start_time": "2024-09-11T01:14:05.378Z"
   },
   {
    "duration": 17,
    "start_time": "2024-09-11T01:14:05.405Z"
   },
   {
    "duration": 21122,
    "start_time": "2024-09-11T01:14:05.424Z"
   },
   {
    "duration": 157,
    "start_time": "2024-09-11T01:14:26.548Z"
   },
   {
    "duration": 5,
    "start_time": "2024-09-11T01:14:26.707Z"
   },
   {
    "duration": 18,
    "start_time": "2024-09-11T01:14:26.714Z"
   },
   {
    "duration": 10,
    "start_time": "2024-09-11T01:14:26.733Z"
   },
   {
    "duration": 5,
    "start_time": "2024-09-11T01:14:26.744Z"
   },
   {
    "duration": 133,
    "start_time": "2024-09-11T01:14:26.751Z"
   },
   {
    "duration": 23,
    "start_time": "2024-09-11T01:14:26.886Z"
   },
   {
    "duration": 12,
    "start_time": "2024-09-11T01:14:26.910Z"
   },
   {
    "duration": 6,
    "start_time": "2024-09-11T01:14:26.924Z"
   },
   {
    "duration": 7,
    "start_time": "2024-09-11T01:14:26.932Z"
   },
   {
    "duration": 16,
    "start_time": "2024-09-11T01:14:26.940Z"
   },
   {
    "duration": 6,
    "start_time": "2024-09-11T01:14:26.957Z"
   },
   {
    "duration": 49,
    "start_time": "2024-09-11T01:14:26.965Z"
   },
   {
    "duration": 12,
    "start_time": "2024-09-11T01:14:27.015Z"
   },
   {
    "duration": 12,
    "start_time": "2024-09-11T01:14:27.028Z"
   },
   {
    "duration": 7,
    "start_time": "2024-09-11T01:14:27.041Z"
   },
   {
    "duration": 24,
    "start_time": "2024-09-11T01:14:27.050Z"
   },
   {
    "duration": 33,
    "start_time": "2024-09-11T01:14:27.075Z"
   },
   {
    "duration": 8,
    "start_time": "2024-09-11T01:14:27.110Z"
   },
   {
    "duration": 3,
    "start_time": "2024-09-11T01:14:27.119Z"
   },
   {
    "duration": 819,
    "start_time": "2024-09-11T01:36:16.273Z"
   },
   {
    "duration": 11,
    "start_time": "2024-09-11T01:36:17.094Z"
   },
   {
    "duration": 4,
    "start_time": "2024-09-11T01:36:17.107Z"
   },
   {
    "duration": 34,
    "start_time": "2024-09-11T01:36:17.113Z"
   },
   {
    "duration": 74,
    "start_time": "2024-09-11T01:36:17.149Z"
   },
   {
    "duration": 69,
    "start_time": "2024-09-11T01:36:17.225Z"
   },
   {
    "duration": 23,
    "start_time": "2024-09-11T01:36:17.296Z"
   },
   {
    "duration": 8,
    "start_time": "2024-09-11T01:36:17.321Z"
   },
   {
    "duration": 15,
    "start_time": "2024-09-11T01:36:17.330Z"
   },
   {
    "duration": 7,
    "start_time": "2024-09-11T01:36:17.347Z"
   },
   {
    "duration": 3,
    "start_time": "2024-09-11T01:36:17.356Z"
   },
   {
    "duration": 43,
    "start_time": "2024-09-11T01:36:17.362Z"
   },
   {
    "duration": 22,
    "start_time": "2024-09-11T01:36:17.407Z"
   },
   {
    "duration": 8,
    "start_time": "2024-09-11T01:36:17.433Z"
   },
   {
    "duration": 8,
    "start_time": "2024-09-11T01:36:17.442Z"
   },
   {
    "duration": 55,
    "start_time": "2024-09-11T01:36:17.451Z"
   },
   {
    "duration": 17,
    "start_time": "2024-09-11T01:36:17.508Z"
   },
   {
    "duration": 7,
    "start_time": "2024-09-11T01:36:17.527Z"
   },
   {
    "duration": 9,
    "start_time": "2024-09-11T01:36:17.536Z"
   },
   {
    "duration": 14,
    "start_time": "2024-09-11T01:36:17.546Z"
   },
   {
    "duration": 50,
    "start_time": "2024-09-11T01:36:17.562Z"
   },
   {
    "duration": 8,
    "start_time": "2024-09-11T01:36:17.614Z"
   },
   {
    "duration": 7,
    "start_time": "2024-09-11T01:36:17.624Z"
   },
   {
    "duration": 17,
    "start_time": "2024-09-11T01:36:17.632Z"
   },
   {
    "duration": 15,
    "start_time": "2024-09-11T01:36:17.650Z"
   },
   {
    "duration": 45,
    "start_time": "2024-09-11T01:36:17.667Z"
   },
   {
    "duration": 20,
    "start_time": "2024-09-11T01:36:17.714Z"
   },
   {
    "duration": 16,
    "start_time": "2024-09-11T01:36:17.736Z"
   },
   {
    "duration": 14,
    "start_time": "2024-09-11T01:36:17.754Z"
   },
   {
    "duration": 40,
    "start_time": "2024-09-11T01:36:17.770Z"
   },
   {
    "duration": 38,
    "start_time": "2024-09-11T01:36:17.812Z"
   },
   {
    "duration": 54,
    "start_time": "2024-09-11T01:36:17.851Z"
   },
   {
    "duration": 5,
    "start_time": "2024-09-11T01:36:17.907Z"
   },
   {
    "duration": 18,
    "start_time": "2024-09-11T01:36:17.913Z"
   },
   {
    "duration": 21839,
    "start_time": "2024-09-11T01:36:17.933Z"
   },
   {
    "duration": 158,
    "start_time": "2024-09-11T01:36:39.775Z"
   },
   {
    "duration": 6,
    "start_time": "2024-09-11T01:36:39.935Z"
   },
   {
    "duration": 17,
    "start_time": "2024-09-11T01:36:39.942Z"
   },
   {
    "duration": 10,
    "start_time": "2024-09-11T01:36:39.961Z"
   },
   {
    "duration": 3,
    "start_time": "2024-09-11T01:36:39.973Z"
   },
   {
    "duration": 116,
    "start_time": "2024-09-11T01:36:40.010Z"
   },
   {
    "duration": 17,
    "start_time": "2024-09-11T01:36:40.129Z"
   },
   {
    "duration": 12,
    "start_time": "2024-09-11T01:36:40.148Z"
   },
   {
    "duration": 7,
    "start_time": "2024-09-11T01:36:40.161Z"
   },
   {
    "duration": 6,
    "start_time": "2024-09-11T01:36:40.170Z"
   },
   {
    "duration": 44,
    "start_time": "2024-09-11T01:36:40.177Z"
   },
   {
    "duration": 6,
    "start_time": "2024-09-11T01:36:40.222Z"
   },
   {
    "duration": 18,
    "start_time": "2024-09-11T01:36:40.230Z"
   },
   {
    "duration": 12,
    "start_time": "2024-09-11T01:36:40.250Z"
   },
   {
    "duration": 47,
    "start_time": "2024-09-11T01:36:40.263Z"
   },
   {
    "duration": 7,
    "start_time": "2024-09-11T01:36:40.312Z"
   },
   {
    "duration": 27,
    "start_time": "2024-09-11T01:36:40.321Z"
   },
   {
    "duration": 9,
    "start_time": "2024-09-11T01:36:40.349Z"
   },
   {
    "duration": 7,
    "start_time": "2024-09-11T01:36:40.360Z"
   },
   {
    "duration": 2,
    "start_time": "2024-09-11T01:36:40.369Z"
   },
   {
    "duration": 33,
    "start_time": "2024-09-11T01:43:54.632Z"
   },
   {
    "duration": 815,
    "start_time": "2024-09-11T01:44:05.180Z"
   },
   {
    "duration": 12,
    "start_time": "2024-09-11T01:44:05.998Z"
   },
   {
    "duration": 5,
    "start_time": "2024-09-11T01:44:06.012Z"
   },
   {
    "duration": 35,
    "start_time": "2024-09-11T01:44:06.019Z"
   },
   {
    "duration": 66,
    "start_time": "2024-09-11T01:44:06.056Z"
   },
   {
    "duration": 67,
    "start_time": "2024-09-11T01:44:06.124Z"
   },
   {
    "duration": 25,
    "start_time": "2024-09-11T01:44:06.193Z"
   },
   {
    "duration": 8,
    "start_time": "2024-09-11T01:44:06.220Z"
   },
   {
    "duration": 14,
    "start_time": "2024-09-11T01:44:06.230Z"
   },
   {
    "duration": 7,
    "start_time": "2024-09-11T01:44:06.247Z"
   },
   {
    "duration": 3,
    "start_time": "2024-09-11T01:44:06.255Z"
   },
   {
    "duration": 10,
    "start_time": "2024-09-11T01:44:06.259Z"
   },
   {
    "duration": 21,
    "start_time": "2024-09-11T01:44:06.305Z"
   },
   {
    "duration": 7,
    "start_time": "2024-09-11T01:44:06.328Z"
   },
   {
    "duration": 8,
    "start_time": "2024-09-11T01:44:06.337Z"
   },
   {
    "duration": 25,
    "start_time": "2024-09-11T01:44:06.347Z"
   },
   {
    "duration": 50,
    "start_time": "2024-09-11T01:44:06.374Z"
   },
   {
    "duration": 7,
    "start_time": "2024-09-11T01:44:06.425Z"
   },
   {
    "duration": 9,
    "start_time": "2024-09-11T01:44:06.434Z"
   },
   {
    "duration": 14,
    "start_time": "2024-09-11T01:44:06.445Z"
   },
   {
    "duration": 54,
    "start_time": "2024-09-11T01:44:06.460Z"
   },
   {
    "duration": 10,
    "start_time": "2024-09-11T01:44:06.515Z"
   },
   {
    "duration": 9,
    "start_time": "2024-09-11T01:44:06.527Z"
   },
   {
    "duration": 21,
    "start_time": "2024-09-11T01:44:06.538Z"
   },
   {
    "duration": 15,
    "start_time": "2024-09-11T01:44:06.560Z"
   },
   {
    "duration": 33,
    "start_time": "2024-09-11T01:44:06.577Z"
   },
   {
    "duration": 21,
    "start_time": "2024-09-11T01:44:06.612Z"
   },
   {
    "duration": 15,
    "start_time": "2024-09-11T01:44:06.637Z"
   },
   {
    "duration": 15,
    "start_time": "2024-09-11T01:44:06.654Z"
   },
   {
    "duration": 39,
    "start_time": "2024-09-11T01:44:06.671Z"
   },
   {
    "duration": 53,
    "start_time": "2024-09-11T01:44:06.712Z"
   },
   {
    "duration": 62,
    "start_time": "2024-09-11T01:44:06.767Z"
   },
   {
    "duration": 5,
    "start_time": "2024-09-11T01:44:06.831Z"
   },
   {
    "duration": 16,
    "start_time": "2024-09-11T01:44:06.838Z"
   },
   {
    "duration": 794,
    "start_time": "2024-09-11T01:44:39.194Z"
   },
   {
    "duration": 7,
    "start_time": "2024-09-11T01:44:39.990Z"
   },
   {
    "duration": 10,
    "start_time": "2024-09-11T01:44:39.998Z"
   },
   {
    "duration": 34,
    "start_time": "2024-09-11T01:44:40.009Z"
   },
   {
    "duration": 68,
    "start_time": "2024-09-11T01:44:40.047Z"
   },
   {
    "duration": 69,
    "start_time": "2024-09-11T01:44:40.117Z"
   },
   {
    "duration": 25,
    "start_time": "2024-09-11T01:44:40.187Z"
   },
   {
    "duration": 7,
    "start_time": "2024-09-11T01:44:40.214Z"
   },
   {
    "duration": 13,
    "start_time": "2024-09-11T01:44:40.222Z"
   },
   {
    "duration": 7,
    "start_time": "2024-09-11T01:44:40.237Z"
   },
   {
    "duration": 3,
    "start_time": "2024-09-11T01:44:40.245Z"
   },
   {
    "duration": 10,
    "start_time": "2024-09-11T01:44:40.250Z"
   },
   {
    "duration": 60,
    "start_time": "2024-09-11T01:44:40.262Z"
   },
   {
    "duration": 10,
    "start_time": "2024-09-11T01:44:40.326Z"
   },
   {
    "duration": 8,
    "start_time": "2024-09-11T01:44:40.339Z"
   },
   {
    "duration": 27,
    "start_time": "2024-09-11T01:44:40.349Z"
   },
   {
    "duration": 38,
    "start_time": "2024-09-11T01:44:40.378Z"
   },
   {
    "duration": 8,
    "start_time": "2024-09-11T01:44:40.418Z"
   },
   {
    "duration": 9,
    "start_time": "2024-09-11T01:44:40.428Z"
   },
   {
    "duration": 14,
    "start_time": "2024-09-11T01:44:40.438Z"
   },
   {
    "duration": 19,
    "start_time": "2024-09-11T01:44:40.453Z"
   },
   {
    "duration": 39,
    "start_time": "2024-09-11T01:44:40.473Z"
   },
   {
    "duration": 7,
    "start_time": "2024-09-11T01:44:40.514Z"
   },
   {
    "duration": 17,
    "start_time": "2024-09-11T01:44:40.522Z"
   },
   {
    "duration": 15,
    "start_time": "2024-09-11T01:44:40.541Z"
   },
   {
    "duration": 12,
    "start_time": "2024-09-11T01:44:40.558Z"
   },
   {
    "duration": 50,
    "start_time": "2024-09-11T01:44:40.572Z"
   },
   {
    "duration": 15,
    "start_time": "2024-09-11T01:44:40.624Z"
   },
   {
    "duration": 14,
    "start_time": "2024-09-11T01:44:40.641Z"
   },
   {
    "duration": 15,
    "start_time": "2024-09-11T01:44:40.656Z"
   },
   {
    "duration": 65,
    "start_time": "2024-09-11T01:44:40.673Z"
   },
   {
    "duration": 36,
    "start_time": "2024-09-11T01:44:51.128Z"
   },
   {
    "duration": 50,
    "start_time": "2024-09-11T01:46:11.398Z"
   },
   {
    "duration": 42,
    "start_time": "2024-09-11T01:47:40.818Z"
   },
   {
    "duration": 115,
    "start_time": "2024-09-11T01:49:54.201Z"
   },
   {
    "duration": 41,
    "start_time": "2024-09-11T01:50:16.240Z"
   },
   {
    "duration": 58,
    "start_time": "2024-09-11T01:50:18.741Z"
   },
   {
    "duration": 974,
    "start_time": "2024-09-11T01:50:31.440Z"
   },
   {
    "duration": 23,
    "start_time": "2024-09-11T01:50:32.416Z"
   },
   {
    "duration": 11,
    "start_time": "2024-09-11T01:50:32.442Z"
   },
   {
    "duration": 54,
    "start_time": "2024-09-11T01:50:32.456Z"
   },
   {
    "duration": 61,
    "start_time": "2024-09-11T01:50:32.513Z"
   },
   {
    "duration": 107,
    "start_time": "2024-09-11T01:50:32.575Z"
   },
   {
    "duration": 23,
    "start_time": "2024-09-11T01:50:32.684Z"
   },
   {
    "duration": 11,
    "start_time": "2024-09-11T01:50:32.712Z"
   },
   {
    "duration": 18,
    "start_time": "2024-09-11T01:50:32.726Z"
   },
   {
    "duration": 9,
    "start_time": "2024-09-11T01:50:32.746Z"
   },
   {
    "duration": 4,
    "start_time": "2024-09-11T01:50:32.757Z"
   },
   {
    "duration": 44,
    "start_time": "2024-09-11T01:50:32.763Z"
   },
   {
    "duration": 29,
    "start_time": "2024-09-11T01:50:32.809Z"
   },
   {
    "duration": 13,
    "start_time": "2024-09-11T01:50:32.841Z"
   },
   {
    "duration": 10,
    "start_time": "2024-09-11T01:50:32.856Z"
   },
   {
    "duration": 55,
    "start_time": "2024-09-11T01:50:32.868Z"
   },
   {
    "duration": 24,
    "start_time": "2024-09-11T01:50:32.925Z"
   },
   {
    "duration": 10,
    "start_time": "2024-09-11T01:50:32.951Z"
   },
   {
    "duration": 46,
    "start_time": "2024-09-11T01:50:32.963Z"
   },
   {
    "duration": 21,
    "start_time": "2024-09-11T01:50:33.011Z"
   },
   {
    "duration": 24,
    "start_time": "2024-09-11T01:50:33.034Z"
   },
   {
    "duration": 8,
    "start_time": "2024-09-11T01:50:33.060Z"
   },
   {
    "duration": 42,
    "start_time": "2024-09-11T01:50:33.071Z"
   },
   {
    "duration": 23,
    "start_time": "2024-09-11T01:50:33.115Z"
   },
   {
    "duration": 19,
    "start_time": "2024-09-11T01:50:33.140Z"
   },
   {
    "duration": 47,
    "start_time": "2024-09-11T01:50:33.161Z"
   },
   {
    "duration": 29,
    "start_time": "2024-09-11T01:50:33.210Z"
   },
   {
    "duration": 22,
    "start_time": "2024-09-11T01:50:33.241Z"
   },
   {
    "duration": 20,
    "start_time": "2024-09-11T01:50:33.265Z"
   },
   {
    "duration": 41,
    "start_time": "2024-09-11T01:50:33.304Z"
   },
   {
    "duration": 69,
    "start_time": "2024-09-11T01:50:33.347Z"
   },
   {
    "duration": 42,
    "start_time": "2024-09-11T01:50:33.418Z"
   },
   {
    "duration": 6,
    "start_time": "2024-09-11T01:50:33.462Z"
   },
   {
    "duration": 43,
    "start_time": "2024-09-11T01:50:33.470Z"
   },
   {
    "duration": 22815,
    "start_time": "2024-09-11T01:50:33.515Z"
   },
   {
    "duration": 231,
    "start_time": "2024-09-11T01:50:56.332Z"
   },
   {
    "duration": 6,
    "start_time": "2024-09-11T01:50:56.566Z"
   },
   {
    "duration": 33,
    "start_time": "2024-09-11T01:50:56.574Z"
   },
   {
    "duration": 14,
    "start_time": "2024-09-11T01:50:56.609Z"
   },
   {
    "duration": 5,
    "start_time": "2024-09-11T01:50:56.626Z"
   },
   {
    "duration": 150,
    "start_time": "2024-09-11T01:50:56.636Z"
   },
   {
    "duration": 29,
    "start_time": "2024-09-11T01:50:56.788Z"
   },
   {
    "duration": 15,
    "start_time": "2024-09-11T01:50:56.818Z"
   },
   {
    "duration": 8,
    "start_time": "2024-09-11T01:50:56.836Z"
   },
   {
    "duration": 9,
    "start_time": "2024-09-11T01:50:56.847Z"
   },
   {
    "duration": 53,
    "start_time": "2024-09-11T01:50:56.858Z"
   },
   {
    "duration": 8,
    "start_time": "2024-09-11T01:50:56.913Z"
   },
   {
    "duration": 21,
    "start_time": "2024-09-11T01:50:56.923Z"
   },
   {
    "duration": 13,
    "start_time": "2024-09-11T01:50:56.946Z"
   },
   {
    "duration": 47,
    "start_time": "2024-09-11T01:50:56.961Z"
   },
   {
    "duration": 10,
    "start_time": "2024-09-11T01:50:57.011Z"
   },
   {
    "duration": 29,
    "start_time": "2024-09-11T01:50:57.023Z"
   },
   {
    "duration": 8,
    "start_time": "2024-09-11T01:50:57.055Z"
   },
   {
    "duration": 9,
    "start_time": "2024-09-11T01:50:57.065Z"
   },
   {
    "duration": 3,
    "start_time": "2024-09-11T01:50:57.107Z"
   },
   {
    "duration": 2504,
    "start_time": "2024-09-11T13:54:10.436Z"
   },
   {
    "duration": 11,
    "start_time": "2024-09-11T13:54:12.942Z"
   },
   {
    "duration": 8,
    "start_time": "2024-09-11T13:54:12.954Z"
   },
   {
    "duration": 89,
    "start_time": "2024-09-11T13:54:12.964Z"
   },
   {
    "duration": 84,
    "start_time": "2024-09-11T13:54:13.055Z"
   },
   {
    "duration": 103,
    "start_time": "2024-09-11T13:54:13.141Z"
   },
   {
    "duration": 16,
    "start_time": "2024-09-11T13:54:13.246Z"
   },
   {
    "duration": 7,
    "start_time": "2024-09-11T13:54:13.264Z"
   },
   {
    "duration": 21,
    "start_time": "2024-09-11T13:54:13.273Z"
   },
   {
    "duration": 28,
    "start_time": "2024-09-11T13:54:13.296Z"
   },
   {
    "duration": 2,
    "start_time": "2024-09-11T13:54:13.326Z"
   },
   {
    "duration": 10,
    "start_time": "2024-09-11T13:54:13.330Z"
   },
   {
    "duration": 20,
    "start_time": "2024-09-11T13:54:13.341Z"
   },
   {
    "duration": 7,
    "start_time": "2024-09-11T13:54:13.365Z"
   },
   {
    "duration": 7,
    "start_time": "2024-09-11T13:54:13.374Z"
   },
   {
    "duration": 64,
    "start_time": "2024-09-11T13:54:13.383Z"
   },
   {
    "duration": 16,
    "start_time": "2024-09-11T13:54:13.448Z"
   },
   {
    "duration": 7,
    "start_time": "2024-09-11T13:54:13.465Z"
   },
   {
    "duration": 9,
    "start_time": "2024-09-11T13:54:13.474Z"
   },
   {
    "duration": 12,
    "start_time": "2024-09-11T13:54:13.484Z"
   },
   {
    "duration": 42,
    "start_time": "2024-09-11T13:54:13.498Z"
   },
   {
    "duration": 8,
    "start_time": "2024-09-11T13:54:13.542Z"
   },
   {
    "duration": 7,
    "start_time": "2024-09-11T13:54:13.552Z"
   },
   {
    "duration": 16,
    "start_time": "2024-09-11T13:54:13.561Z"
   },
   {
    "duration": 48,
    "start_time": "2024-09-11T13:54:13.579Z"
   },
   {
    "duration": 12,
    "start_time": "2024-09-11T13:54:13.629Z"
   },
   {
    "duration": 18,
    "start_time": "2024-09-11T13:54:13.642Z"
   },
   {
    "duration": 16,
    "start_time": "2024-09-11T13:54:13.661Z"
   },
   {
    "duration": 14,
    "start_time": "2024-09-11T13:54:13.678Z"
   },
   {
    "duration": 55,
    "start_time": "2024-09-11T13:54:13.693Z"
   },
   {
    "duration": 37,
    "start_time": "2024-09-11T13:54:13.750Z"
   },
   {
    "duration": 60,
    "start_time": "2024-09-11T13:54:13.788Z"
   },
   {
    "duration": 7,
    "start_time": "2024-09-11T13:54:13.849Z"
   },
   {
    "duration": 20,
    "start_time": "2024-09-11T13:54:13.858Z"
   },
   {
    "duration": 20901,
    "start_time": "2024-09-11T13:54:13.880Z"
   },
   {
    "duration": 466,
    "start_time": "2024-09-11T13:54:34.783Z"
   },
   {
    "duration": 5,
    "start_time": "2024-09-11T13:54:35.252Z"
   },
   {
    "duration": 16,
    "start_time": "2024-09-11T13:54:35.258Z"
   },
   {
    "duration": 9,
    "start_time": "2024-09-11T13:54:35.276Z"
   },
   {
    "duration": 5,
    "start_time": "2024-09-11T13:54:35.287Z"
   },
   {
    "duration": 112,
    "start_time": "2024-09-11T13:54:35.324Z"
   },
   {
    "duration": 13,
    "start_time": "2024-09-11T13:54:35.438Z"
   },
   {
    "duration": 11,
    "start_time": "2024-09-11T13:54:35.453Z"
   },
   {
    "duration": 7,
    "start_time": "2024-09-11T13:54:35.465Z"
   },
   {
    "duration": 6,
    "start_time": "2024-09-11T13:54:35.473Z"
   },
   {
    "duration": 44,
    "start_time": "2024-09-11T13:54:35.481Z"
   },
   {
    "duration": 7,
    "start_time": "2024-09-11T13:54:35.527Z"
   },
   {
    "duration": 16,
    "start_time": "2024-09-11T13:54:35.536Z"
   },
   {
    "duration": 12,
    "start_time": "2024-09-11T13:54:35.554Z"
   },
   {
    "duration": 12,
    "start_time": "2024-09-11T13:54:35.567Z"
   },
   {
    "duration": 7,
    "start_time": "2024-09-11T13:54:35.580Z"
   },
   {
    "duration": 26,
    "start_time": "2024-09-11T13:54:35.624Z"
   },
   {
    "duration": 6,
    "start_time": "2024-09-11T13:54:35.651Z"
   },
   {
    "duration": 7,
    "start_time": "2024-09-11T13:54:35.658Z"
   },
   {
    "duration": 2,
    "start_time": "2024-09-11T13:54:35.667Z"
   },
   {
    "duration": 5,
    "start_time": "2024-09-11T14:20:27.979Z"
   },
   {
    "duration": 12,
    "start_time": "2024-09-11T14:47:14.281Z"
   },
   {
    "duration": 9,
    "start_time": "2024-09-11T14:47:21.362Z"
   },
   {
    "duration": 7,
    "start_time": "2024-09-11T14:54:36.962Z"
   },
   {
    "duration": 3,
    "start_time": "2024-09-11T14:54:59.300Z"
   },
   {
    "duration": 3,
    "start_time": "2024-09-11T14:55:21.309Z"
   },
   {
    "duration": 4,
    "start_time": "2024-09-11T14:55:28.913Z"
   },
   {
    "duration": 3,
    "start_time": "2024-09-11T14:55:42.754Z"
   },
   {
    "duration": 3,
    "start_time": "2024-09-11T14:55:56.270Z"
   },
   {
    "duration": 4,
    "start_time": "2024-09-11T14:56:31.191Z"
   },
   {
    "duration": 228,
    "start_time": "2024-09-11T14:56:53.061Z"
   },
   {
    "duration": 12,
    "start_time": "2024-09-11T14:57:03.105Z"
   },
   {
    "duration": 352,
    "start_time": "2024-09-11T14:59:26.506Z"
   },
   {
    "duration": 4,
    "start_time": "2024-09-11T15:02:47.053Z"
   },
   {
    "duration": 211,
    "start_time": "2024-09-11T15:03:07.494Z"
   },
   {
    "duration": 5,
    "start_time": "2024-09-11T15:04:35.927Z"
   },
   {
    "duration": 4,
    "start_time": "2024-09-11T15:04:40.324Z"
   },
   {
    "duration": 6,
    "start_time": "2024-09-11T15:04:51.561Z"
   },
   {
    "duration": 10,
    "start_time": "2024-09-11T15:20:27.713Z"
   },
   {
    "duration": 7,
    "start_time": "2024-09-11T15:24:50.115Z"
   },
   {
    "duration": 7,
    "start_time": "2024-09-11T15:25:04.532Z"
   },
   {
    "duration": 874,
    "start_time": "2024-09-11T15:42:36.736Z"
   },
   {
    "duration": 8,
    "start_time": "2024-09-11T15:42:37.612Z"
   },
   {
    "duration": 7,
    "start_time": "2024-09-11T15:42:37.621Z"
   },
   {
    "duration": 36,
    "start_time": "2024-09-11T15:42:37.629Z"
   },
   {
    "duration": 62,
    "start_time": "2024-09-11T15:42:37.667Z"
   },
   {
    "duration": 68,
    "start_time": "2024-09-11T15:42:37.731Z"
   },
   {
    "duration": 24,
    "start_time": "2024-09-11T15:42:37.801Z"
   },
   {
    "duration": 8,
    "start_time": "2024-09-11T15:42:37.827Z"
   },
   {
    "duration": 5,
    "start_time": "2024-09-11T15:42:37.836Z"
   },
   {
    "duration": 13,
    "start_time": "2024-09-11T15:42:37.842Z"
   },
   {
    "duration": 7,
    "start_time": "2024-09-11T15:42:37.857Z"
   },
   {
    "duration": 4,
    "start_time": "2024-09-11T15:42:37.865Z"
   },
   {
    "duration": 9,
    "start_time": "2024-09-11T15:42:37.871Z"
   },
   {
    "duration": 26,
    "start_time": "2024-09-11T15:42:37.924Z"
   },
   {
    "duration": 8,
    "start_time": "2024-09-11T15:42:37.952Z"
   },
   {
    "duration": 7,
    "start_time": "2024-09-11T15:42:37.961Z"
   },
   {
    "duration": 24,
    "start_time": "2024-09-11T15:42:37.970Z"
   },
   {
    "duration": 43,
    "start_time": "2024-09-11T15:42:37.996Z"
   },
   {
    "duration": 8,
    "start_time": "2024-09-11T15:42:38.041Z"
   },
   {
    "duration": 10,
    "start_time": "2024-09-11T15:42:38.051Z"
   },
   {
    "duration": 14,
    "start_time": "2024-09-11T15:42:38.063Z"
   },
   {
    "duration": 48,
    "start_time": "2024-09-11T15:42:38.079Z"
   },
   {
    "duration": 9,
    "start_time": "2024-09-11T15:42:38.128Z"
   },
   {
    "duration": 10,
    "start_time": "2024-09-11T15:42:38.139Z"
   },
   {
    "duration": 16,
    "start_time": "2024-09-11T15:42:38.151Z"
   },
   {
    "duration": 14,
    "start_time": "2024-09-11T15:42:38.168Z"
   },
   {
    "duration": 43,
    "start_time": "2024-09-11T15:42:38.184Z"
   },
   {
    "duration": 21,
    "start_time": "2024-09-11T15:42:38.228Z"
   },
   {
    "duration": 14,
    "start_time": "2024-09-11T15:42:38.251Z"
   },
   {
    "duration": 13,
    "start_time": "2024-09-11T15:42:38.267Z"
   },
   {
    "duration": 61,
    "start_time": "2024-09-11T15:42:38.281Z"
   },
   {
    "duration": 39,
    "start_time": "2024-09-11T15:42:38.343Z"
   },
   {
    "duration": 50,
    "start_time": "2024-09-11T15:42:38.384Z"
   },
   {
    "duration": 5,
    "start_time": "2024-09-11T15:42:38.436Z"
   },
   {
    "duration": 16,
    "start_time": "2024-09-11T15:42:38.442Z"
   },
   {
    "duration": 20840,
    "start_time": "2024-09-11T15:42:38.460Z"
   },
   {
    "duration": 154,
    "start_time": "2024-09-11T15:42:59.302Z"
   },
   {
    "duration": 6,
    "start_time": "2024-09-11T15:42:59.458Z"
   },
   {
    "duration": 15,
    "start_time": "2024-09-11T15:42:59.466Z"
   },
   {
    "duration": 11,
    "start_time": "2024-09-11T15:42:59.483Z"
   },
   {
    "duration": 129,
    "start_time": "2024-09-11T15:42:59.499Z"
   },
   {
    "duration": 12,
    "start_time": "2024-09-11T15:42:59.630Z"
   },
   {
    "duration": 11,
    "start_time": "2024-09-11T15:42:59.643Z"
   },
   {
    "duration": 6,
    "start_time": "2024-09-11T15:42:59.656Z"
   },
   {
    "duration": 7,
    "start_time": "2024-09-11T15:42:59.664Z"
   },
   {
    "duration": 17,
    "start_time": "2024-09-11T15:42:59.672Z"
   },
   {
    "duration": 39,
    "start_time": "2024-09-11T15:42:59.690Z"
   },
   {
    "duration": 17,
    "start_time": "2024-09-11T15:42:59.730Z"
   },
   {
    "duration": 12,
    "start_time": "2024-09-11T15:42:59.749Z"
   },
   {
    "duration": 11,
    "start_time": "2024-09-11T15:42:59.763Z"
   },
   {
    "duration": 7,
    "start_time": "2024-09-11T15:42:59.775Z"
   },
   {
    "duration": 53,
    "start_time": "2024-09-11T15:42:59.784Z"
   },
   {
    "duration": 5,
    "start_time": "2024-09-11T15:42:59.839Z"
   },
   {
    "duration": 7,
    "start_time": "2024-09-11T15:42:59.846Z"
   },
   {
    "duration": 3,
    "start_time": "2024-09-11T15:42:59.854Z"
   },
   {
    "duration": 5,
    "start_time": "2024-09-11T15:42:59.858Z"
   },
   {
    "duration": 0,
    "start_time": "2024-09-11T15:42:59.864Z"
   },
   {
    "duration": 809,
    "start_time": "2024-09-11T15:43:15.002Z"
   },
   {
    "duration": 10,
    "start_time": "2024-09-11T15:43:15.814Z"
   },
   {
    "duration": 4,
    "start_time": "2024-09-11T15:43:15.825Z"
   },
   {
    "duration": 33,
    "start_time": "2024-09-11T15:43:15.832Z"
   },
   {
    "duration": 60,
    "start_time": "2024-09-11T15:43:15.866Z"
   },
   {
    "duration": 66,
    "start_time": "2024-09-11T15:43:15.928Z"
   },
   {
    "duration": 15,
    "start_time": "2024-09-11T15:43:15.996Z"
   },
   {
    "duration": 7,
    "start_time": "2024-09-11T15:43:16.024Z"
   },
   {
    "duration": 4,
    "start_time": "2024-09-11T15:43:16.033Z"
   },
   {
    "duration": 12,
    "start_time": "2024-09-11T15:43:16.041Z"
   },
   {
    "duration": 7,
    "start_time": "2024-09-11T15:43:16.055Z"
   },
   {
    "duration": 4,
    "start_time": "2024-09-11T15:43:16.064Z"
   },
   {
    "duration": 9,
    "start_time": "2024-09-11T15:43:16.069Z"
   },
   {
    "duration": 63,
    "start_time": "2024-09-11T15:43:16.079Z"
   },
   {
    "duration": 8,
    "start_time": "2024-09-11T15:43:16.143Z"
   },
   {
    "duration": 7,
    "start_time": "2024-09-11T15:43:16.153Z"
   },
   {
    "duration": 25,
    "start_time": "2024-09-11T15:43:16.162Z"
   },
   {
    "duration": 45,
    "start_time": "2024-09-11T15:43:16.189Z"
   },
   {
    "duration": 6,
    "start_time": "2024-09-11T15:43:16.237Z"
   },
   {
    "duration": 8,
    "start_time": "2024-09-11T15:43:16.245Z"
   },
   {
    "duration": 13,
    "start_time": "2024-09-11T15:43:16.255Z"
   },
   {
    "duration": 18,
    "start_time": "2024-09-11T15:43:16.270Z"
   },
   {
    "duration": 36,
    "start_time": "2024-09-11T15:43:16.289Z"
   },
   {
    "duration": 11,
    "start_time": "2024-09-11T15:43:16.326Z"
   },
   {
    "duration": 16,
    "start_time": "2024-09-11T15:43:16.339Z"
   },
   {
    "duration": 15,
    "start_time": "2024-09-11T15:43:16.356Z"
   },
   {
    "duration": 12,
    "start_time": "2024-09-11T15:43:16.373Z"
   },
   {
    "duration": 47,
    "start_time": "2024-09-11T15:43:16.390Z"
   },
   {
    "duration": 14,
    "start_time": "2024-09-11T15:43:16.439Z"
   },
   {
    "duration": 13,
    "start_time": "2024-09-11T15:43:16.455Z"
   },
   {
    "duration": 56,
    "start_time": "2024-09-11T15:43:16.469Z"
   },
   {
    "duration": 37,
    "start_time": "2024-09-11T15:43:16.526Z"
   },
   {
    "duration": 34,
    "start_time": "2024-09-11T15:43:16.565Z"
   },
   {
    "duration": 23,
    "start_time": "2024-09-11T15:43:16.600Z"
   },
   {
    "duration": 16,
    "start_time": "2024-09-11T15:43:16.625Z"
   },
   {
    "duration": 21213,
    "start_time": "2024-09-11T15:43:16.643Z"
   },
   {
    "duration": 162,
    "start_time": "2024-09-11T15:43:37.859Z"
   },
   {
    "duration": 8,
    "start_time": "2024-09-11T15:43:38.024Z"
   },
   {
    "duration": 18,
    "start_time": "2024-09-11T15:43:38.033Z"
   },
   {
    "duration": 10,
    "start_time": "2024-09-11T15:43:38.052Z"
   },
   {
    "duration": 138,
    "start_time": "2024-09-11T15:43:38.064Z"
   },
   {
    "duration": 20,
    "start_time": "2024-09-11T15:43:38.205Z"
   },
   {
    "duration": 12,
    "start_time": "2024-09-11T15:43:38.226Z"
   },
   {
    "duration": 6,
    "start_time": "2024-09-11T15:43:38.240Z"
   },
   {
    "duration": 6,
    "start_time": "2024-09-11T15:43:38.248Z"
   },
   {
    "duration": 17,
    "start_time": "2024-09-11T15:43:38.255Z"
   },
   {
    "duration": 6,
    "start_time": "2024-09-11T15:43:38.274Z"
   },
   {
    "duration": 50,
    "start_time": "2024-09-11T15:43:38.281Z"
   },
   {
    "duration": 11,
    "start_time": "2024-09-11T15:43:38.332Z"
   },
   {
    "duration": 10,
    "start_time": "2024-09-11T15:43:38.345Z"
   },
   {
    "duration": 7,
    "start_time": "2024-09-11T15:43:38.357Z"
   },
   {
    "duration": 26,
    "start_time": "2024-09-11T15:43:38.365Z"
   },
   {
    "duration": 36,
    "start_time": "2024-09-11T15:43:38.392Z"
   },
   {
    "duration": 7,
    "start_time": "2024-09-11T15:43:38.429Z"
   },
   {
    "duration": 2,
    "start_time": "2024-09-11T15:43:38.438Z"
   },
   {
    "duration": 4,
    "start_time": "2024-09-11T15:43:38.441Z"
   },
   {
    "duration": 0,
    "start_time": "2024-09-11T15:43:38.447Z"
   },
   {
    "duration": 39,
    "start_time": "2024-09-11T16:48:43.861Z"
   },
   {
    "duration": 15,
    "start_time": "2024-09-11T17:38:09.695Z"
   },
   {
    "duration": 14,
    "start_time": "2024-09-11T17:38:49.536Z"
   },
   {
    "duration": 14,
    "start_time": "2024-09-11T17:39:35.637Z"
   },
   {
    "duration": 8,
    "start_time": "2024-09-11T17:39:37.143Z"
   },
   {
    "duration": 9,
    "start_time": "2024-09-11T17:39:59.806Z"
   },
   {
    "duration": 13,
    "start_time": "2024-09-11T17:40:08.657Z"
   },
   {
    "duration": 843,
    "start_time": "2024-09-11T17:48:17.130Z"
   },
   {
    "duration": 8,
    "start_time": "2024-09-11T17:48:17.975Z"
   },
   {
    "duration": 5,
    "start_time": "2024-09-11T17:48:17.985Z"
   },
   {
    "duration": 45,
    "start_time": "2024-09-11T17:48:17.993Z"
   },
   {
    "duration": 53,
    "start_time": "2024-09-11T17:48:18.041Z"
   },
   {
    "duration": 70,
    "start_time": "2024-09-11T17:48:18.098Z"
   },
   {
    "duration": 16,
    "start_time": "2024-09-11T17:48:18.170Z"
   },
   {
    "duration": 7,
    "start_time": "2024-09-11T17:48:18.187Z"
   },
   {
    "duration": 5,
    "start_time": "2024-09-11T17:48:18.196Z"
   },
   {
    "duration": 35,
    "start_time": "2024-09-11T17:48:18.203Z"
   },
   {
    "duration": 9,
    "start_time": "2024-09-11T17:48:18.239Z"
   },
   {
    "duration": 2,
    "start_time": "2024-09-11T17:48:18.250Z"
   },
   {
    "duration": 9,
    "start_time": "2024-09-11T17:48:18.254Z"
   },
   {
    "duration": 14,
    "start_time": "2024-09-11T17:48:18.265Z"
   },
   {
    "duration": 42,
    "start_time": "2024-09-11T17:48:18.281Z"
   },
   {
    "duration": 6,
    "start_time": "2024-09-11T17:48:18.325Z"
   },
   {
    "duration": 25,
    "start_time": "2024-09-11T17:48:18.333Z"
   },
   {
    "duration": 15,
    "start_time": "2024-09-11T17:48:18.360Z"
   },
   {
    "duration": 7,
    "start_time": "2024-09-11T17:48:18.376Z"
   },
   {
    "duration": 41,
    "start_time": "2024-09-11T17:48:18.384Z"
   },
   {
    "duration": 12,
    "start_time": "2024-09-11T17:48:18.427Z"
   },
   {
    "duration": 7,
    "start_time": "2024-09-11T17:48:18.441Z"
   },
   {
    "duration": 10,
    "start_time": "2024-09-11T17:48:18.450Z"
   },
   {
    "duration": 17,
    "start_time": "2024-09-11T17:48:18.462Z"
   },
   {
    "duration": 14,
    "start_time": "2024-09-11T17:48:18.481Z"
   },
   {
    "duration": 13,
    "start_time": "2024-09-11T17:48:18.523Z"
   },
   {
    "duration": 20,
    "start_time": "2024-09-11T17:48:18.538Z"
   },
   {
    "duration": 16,
    "start_time": "2024-09-11T17:48:18.563Z"
   },
   {
    "duration": 42,
    "start_time": "2024-09-11T17:48:18.582Z"
   },
   {
    "duration": 42,
    "start_time": "2024-09-11T17:48:18.626Z"
   },
   {
    "duration": 54,
    "start_time": "2024-09-11T17:48:18.670Z"
   },
   {
    "duration": 35,
    "start_time": "2024-09-11T17:48:18.725Z"
   },
   {
    "duration": 4,
    "start_time": "2024-09-11T17:48:18.761Z"
   },
   {
    "duration": 16,
    "start_time": "2024-09-11T17:48:18.767Z"
   },
   {
    "duration": 20907,
    "start_time": "2024-09-11T17:48:18.785Z"
   },
   {
    "duration": 156,
    "start_time": "2024-09-11T17:48:39.694Z"
   },
   {
    "duration": 5,
    "start_time": "2024-09-11T17:48:39.852Z"
   },
   {
    "duration": 17,
    "start_time": "2024-09-11T17:48:39.858Z"
   },
   {
    "duration": 9,
    "start_time": "2024-09-11T17:48:39.877Z"
   },
   {
    "duration": 126,
    "start_time": "2024-09-11T17:48:39.887Z"
   },
   {
    "duration": 18,
    "start_time": "2024-09-11T17:48:40.015Z"
   },
   {
    "duration": 12,
    "start_time": "2024-09-11T17:48:40.034Z"
   },
   {
    "duration": 9,
    "start_time": "2024-09-11T17:48:40.047Z"
   },
   {
    "duration": 6,
    "start_time": "2024-09-11T17:48:40.058Z"
   },
   {
    "duration": 16,
    "start_time": "2024-09-11T17:48:40.066Z"
   },
   {
    "duration": 6,
    "start_time": "2024-09-11T17:48:40.084Z"
   },
   {
    "duration": 18,
    "start_time": "2024-09-11T17:48:40.124Z"
   },
   {
    "duration": 11,
    "start_time": "2024-09-11T17:48:40.144Z"
   },
   {
    "duration": 10,
    "start_time": "2024-09-11T17:48:40.157Z"
   },
   {
    "duration": 7,
    "start_time": "2024-09-11T17:48:40.168Z"
   },
   {
    "duration": 53,
    "start_time": "2024-09-11T17:48:40.177Z"
   },
   {
    "duration": 6,
    "start_time": "2024-09-11T17:48:40.232Z"
   },
   {
    "duration": 7,
    "start_time": "2024-09-11T17:48:40.240Z"
   },
   {
    "duration": 784,
    "start_time": "2024-09-11T18:00:29.419Z"
   },
   {
    "duration": 8,
    "start_time": "2024-09-11T18:00:30.205Z"
   },
   {
    "duration": 14,
    "start_time": "2024-09-11T18:00:30.214Z"
   },
   {
    "duration": 41,
    "start_time": "2024-09-11T18:00:30.230Z"
   },
   {
    "duration": 53,
    "start_time": "2024-09-11T18:00:30.273Z"
   },
   {
    "duration": 67,
    "start_time": "2024-09-11T18:00:30.328Z"
   },
   {
    "duration": 17,
    "start_time": "2024-09-11T18:00:30.396Z"
   },
   {
    "duration": 7,
    "start_time": "2024-09-11T18:00:30.424Z"
   },
   {
    "duration": 5,
    "start_time": "2024-09-11T18:00:30.432Z"
   },
   {
    "duration": 13,
    "start_time": "2024-09-11T18:00:30.441Z"
   },
   {
    "duration": 6,
    "start_time": "2024-09-11T18:00:30.456Z"
   },
   {
    "duration": 4,
    "start_time": "2024-09-11T18:00:30.464Z"
   },
   {
    "duration": 9,
    "start_time": "2024-09-11T18:00:30.470Z"
   },
   {
    "duration": 57,
    "start_time": "2024-09-11T18:00:30.481Z"
   },
   {
    "duration": 10,
    "start_time": "2024-09-11T18:00:30.540Z"
   },
   {
    "duration": 8,
    "start_time": "2024-09-11T18:00:30.552Z"
   },
   {
    "duration": 25,
    "start_time": "2024-09-11T18:00:30.561Z"
   },
   {
    "duration": 40,
    "start_time": "2024-09-11T18:00:30.587Z"
   },
   {
    "duration": 7,
    "start_time": "2024-09-11T18:00:30.629Z"
   },
   {
    "duration": 9,
    "start_time": "2024-09-11T18:00:30.637Z"
   },
   {
    "duration": 12,
    "start_time": "2024-09-11T18:00:30.648Z"
   },
   {
    "duration": 7,
    "start_time": "2024-09-11T18:00:30.662Z"
   },
   {
    "duration": 9,
    "start_time": "2024-09-11T18:00:30.671Z"
   },
   {
    "duration": 49,
    "start_time": "2024-09-11T18:00:30.682Z"
   },
   {
    "duration": 15,
    "start_time": "2024-09-11T18:00:30.732Z"
   },
   {
    "duration": 11,
    "start_time": "2024-09-11T18:00:30.749Z"
   },
   {
    "duration": 20,
    "start_time": "2024-09-11T18:00:30.762Z"
   },
   {
    "duration": 45,
    "start_time": "2024-09-11T18:00:30.786Z"
   },
   {
    "duration": 14,
    "start_time": "2024-09-11T18:00:30.832Z"
   },
   {
    "duration": 35,
    "start_time": "2024-09-11T18:00:30.847Z"
   },
   {
    "duration": 65,
    "start_time": "2024-09-11T18:00:30.883Z"
   },
   {
    "duration": 35,
    "start_time": "2024-09-11T18:00:30.950Z"
   },
   {
    "duration": 5,
    "start_time": "2024-09-11T18:00:30.986Z"
   },
   {
    "duration": 33,
    "start_time": "2024-09-11T18:00:30.992Z"
   },
   {
    "duration": 20835,
    "start_time": "2024-09-11T18:00:31.026Z"
   },
   {
    "duration": 169,
    "start_time": "2024-09-11T18:00:51.863Z"
   },
   {
    "duration": 5,
    "start_time": "2024-09-11T18:00:52.034Z"
   },
   {
    "duration": 16,
    "start_time": "2024-09-11T18:00:52.041Z"
   },
   {
    "duration": 10,
    "start_time": "2024-09-11T18:00:52.058Z"
   },
   {
    "duration": 129,
    "start_time": "2024-09-11T18:00:52.070Z"
   },
   {
    "duration": 14,
    "start_time": "2024-09-11T18:00:52.201Z"
   },
   {
    "duration": 11,
    "start_time": "2024-09-11T18:00:52.224Z"
   },
   {
    "duration": 8,
    "start_time": "2024-09-11T18:00:52.237Z"
   },
   {
    "duration": 8,
    "start_time": "2024-09-11T18:00:52.247Z"
   },
   {
    "duration": 25,
    "start_time": "2024-09-11T18:00:52.257Z"
   },
   {
    "duration": 7,
    "start_time": "2024-09-11T18:00:52.283Z"
   },
   {
    "duration": 45,
    "start_time": "2024-09-11T18:00:52.292Z"
   },
   {
    "duration": 11,
    "start_time": "2024-09-11T18:00:52.339Z"
   },
   {
    "duration": 11,
    "start_time": "2024-09-11T18:00:52.352Z"
   },
   {
    "duration": 8,
    "start_time": "2024-09-11T18:00:52.364Z"
   },
   {
    "duration": 51,
    "start_time": "2024-09-11T18:00:52.374Z"
   },
   {
    "duration": 6,
    "start_time": "2024-09-11T18:00:52.427Z"
   },
   {
    "duration": 7,
    "start_time": "2024-09-11T18:00:52.434Z"
   },
   {
    "duration": 918,
    "start_time": "2024-09-11T18:01:27.145Z"
   },
   {
    "duration": 7,
    "start_time": "2024-09-11T18:01:28.065Z"
   },
   {
    "duration": 4,
    "start_time": "2024-09-11T18:01:28.074Z"
   },
   {
    "duration": 45,
    "start_time": "2024-09-11T18:01:28.081Z"
   },
   {
    "duration": 61,
    "start_time": "2024-09-11T18:01:28.132Z"
   },
   {
    "duration": 88,
    "start_time": "2024-09-11T18:01:28.195Z"
   },
   {
    "duration": 20,
    "start_time": "2024-09-11T18:01:28.286Z"
   },
   {
    "duration": 16,
    "start_time": "2024-09-11T18:01:28.309Z"
   },
   {
    "duration": 6,
    "start_time": "2024-09-11T18:01:28.328Z"
   },
   {
    "duration": 13,
    "start_time": "2024-09-11T18:01:28.336Z"
   },
   {
    "duration": 7,
    "start_time": "2024-09-11T18:01:28.351Z"
   },
   {
    "duration": 3,
    "start_time": "2024-09-11T18:01:28.360Z"
   },
   {
    "duration": 10,
    "start_time": "2024-09-11T18:01:28.364Z"
   },
   {
    "duration": 47,
    "start_time": "2024-09-11T18:01:28.378Z"
   },
   {
    "duration": 8,
    "start_time": "2024-09-11T18:01:28.426Z"
   },
   {
    "duration": 8,
    "start_time": "2024-09-11T18:01:28.436Z"
   },
   {
    "duration": 24,
    "start_time": "2024-09-11T18:01:28.445Z"
   },
   {
    "duration": 15,
    "start_time": "2024-09-11T18:01:28.471Z"
   },
   {
    "duration": 39,
    "start_time": "2024-09-11T18:01:28.487Z"
   },
   {
    "duration": 9,
    "start_time": "2024-09-11T18:01:28.529Z"
   },
   {
    "duration": 15,
    "start_time": "2024-09-11T18:01:28.541Z"
   },
   {
    "duration": 9,
    "start_time": "2024-09-11T18:01:28.558Z"
   },
   {
    "duration": 11,
    "start_time": "2024-09-11T18:01:28.568Z"
   },
   {
    "duration": 45,
    "start_time": "2024-09-11T18:01:28.581Z"
   },
   {
    "duration": 15,
    "start_time": "2024-09-11T18:01:28.628Z"
   },
   {
    "duration": 11,
    "start_time": "2024-09-11T18:01:28.645Z"
   },
   {
    "duration": 19,
    "start_time": "2024-09-11T18:01:28.658Z"
   },
   {
    "duration": 13,
    "start_time": "2024-09-11T18:01:28.679Z"
   },
   {
    "duration": 41,
    "start_time": "2024-09-11T18:01:28.694Z"
   },
   {
    "duration": 36,
    "start_time": "2024-09-11T18:01:28.736Z"
   },
   {
    "duration": 62,
    "start_time": "2024-09-11T18:01:28.773Z"
   },
   {
    "duration": 35,
    "start_time": "2024-09-11T18:01:28.837Z"
   },
   {
    "duration": 4,
    "start_time": "2024-09-11T18:01:28.873Z"
   },
   {
    "duration": 16,
    "start_time": "2024-09-11T18:01:28.878Z"
   },
   {
    "duration": 20800,
    "start_time": "2024-09-11T18:01:28.896Z"
   },
   {
    "duration": 159,
    "start_time": "2024-09-11T18:01:49.697Z"
   },
   {
    "duration": 5,
    "start_time": "2024-09-11T18:01:49.858Z"
   },
   {
    "duration": 17,
    "start_time": "2024-09-11T18:01:49.865Z"
   },
   {
    "duration": 11,
    "start_time": "2024-09-11T18:01:49.883Z"
   },
   {
    "duration": 130,
    "start_time": "2024-09-11T18:01:49.895Z"
   },
   {
    "duration": 12,
    "start_time": "2024-09-11T18:01:50.030Z"
   },
   {
    "duration": 11,
    "start_time": "2024-09-11T18:01:50.043Z"
   },
   {
    "duration": 7,
    "start_time": "2024-09-11T18:01:50.057Z"
   },
   {
    "duration": 7,
    "start_time": "2024-09-11T18:01:50.065Z"
   },
   {
    "duration": 16,
    "start_time": "2024-09-11T18:01:50.073Z"
   },
   {
    "duration": 39,
    "start_time": "2024-09-11T18:01:50.090Z"
   },
   {
    "duration": 18,
    "start_time": "2024-09-11T18:01:50.130Z"
   },
   {
    "duration": 11,
    "start_time": "2024-09-11T18:01:50.149Z"
   },
   {
    "duration": 10,
    "start_time": "2024-09-11T18:01:50.162Z"
   },
   {
    "duration": 7,
    "start_time": "2024-09-11T18:01:50.173Z"
   },
   {
    "duration": 58,
    "start_time": "2024-09-11T18:01:50.182Z"
   },
   {
    "duration": 7,
    "start_time": "2024-09-11T18:01:50.241Z"
   },
   {
    "duration": 7,
    "start_time": "2024-09-11T18:01:50.250Z"
   },
   {
    "duration": 2852,
    "start_time": "2024-09-11T20:10:54.237Z"
   },
   {
    "duration": 9,
    "start_time": "2024-09-11T20:10:57.092Z"
   },
   {
    "duration": 7,
    "start_time": "2024-09-11T20:10:57.103Z"
   },
   {
    "duration": 73,
    "start_time": "2024-09-11T20:10:57.113Z"
   },
   {
    "duration": 94,
    "start_time": "2024-09-11T20:10:57.189Z"
   },
   {
    "duration": 111,
    "start_time": "2024-09-11T20:10:57.285Z"
   },
   {
    "duration": 19,
    "start_time": "2024-09-11T20:10:57.398Z"
   },
   {
    "duration": 7,
    "start_time": "2024-09-11T20:10:57.419Z"
   },
   {
    "duration": 5,
    "start_time": "2024-09-11T20:10:57.428Z"
   },
   {
    "duration": 14,
    "start_time": "2024-09-11T20:10:57.436Z"
   },
   {
    "duration": 34,
    "start_time": "2024-09-11T20:10:57.453Z"
   },
   {
    "duration": 4,
    "start_time": "2024-09-11T20:10:57.488Z"
   },
   {
    "duration": 18,
    "start_time": "2024-09-11T20:10:57.493Z"
   },
   {
    "duration": 20,
    "start_time": "2024-09-11T20:10:57.516Z"
   },
   {
    "duration": 8,
    "start_time": "2024-09-11T20:10:57.537Z"
   },
   {
    "duration": 6,
    "start_time": "2024-09-11T20:10:57.547Z"
   },
   {
    "duration": 57,
    "start_time": "2024-09-11T20:10:57.555Z"
   },
   {
    "duration": 21,
    "start_time": "2024-09-11T20:10:57.614Z"
   },
   {
    "duration": 10,
    "start_time": "2024-09-11T20:10:57.637Z"
   },
   {
    "duration": 9,
    "start_time": "2024-09-11T20:10:57.649Z"
   },
   {
    "duration": 36,
    "start_time": "2024-09-11T20:10:57.660Z"
   },
   {
    "duration": 11,
    "start_time": "2024-09-11T20:10:57.697Z"
   },
   {
    "duration": 14,
    "start_time": "2024-09-11T20:10:57.710Z"
   },
   {
    "duration": 23,
    "start_time": "2024-09-11T20:10:57.725Z"
   },
   {
    "duration": 14,
    "start_time": "2024-09-11T20:10:57.750Z"
   },
   {
    "duration": 19,
    "start_time": "2024-09-11T20:10:57.787Z"
   },
   {
    "duration": 25,
    "start_time": "2024-09-11T20:10:57.808Z"
   },
   {
    "duration": 15,
    "start_time": "2024-09-11T20:10:57.835Z"
   },
   {
    "duration": 39,
    "start_time": "2024-09-11T20:10:57.852Z"
   },
   {
    "duration": 46,
    "start_time": "2024-09-11T20:10:57.893Z"
   },
   {
    "duration": 65,
    "start_time": "2024-09-11T20:10:57.941Z"
   },
   {
    "duration": 43,
    "start_time": "2024-09-11T20:10:58.008Z"
   },
   {
    "duration": 5,
    "start_time": "2024-09-11T20:10:58.053Z"
   },
   {
    "duration": 37,
    "start_time": "2024-09-11T20:10:58.060Z"
   },
   {
    "duration": 23339,
    "start_time": "2024-09-11T20:10:58.099Z"
   },
   {
    "duration": 413,
    "start_time": "2024-09-11T20:11:21.440Z"
   },
   {
    "duration": 6,
    "start_time": "2024-09-11T20:11:21.856Z"
   },
   {
    "duration": 33,
    "start_time": "2024-09-11T20:11:21.864Z"
   },
   {
    "duration": 10,
    "start_time": "2024-09-11T20:11:21.898Z"
   },
   {
    "duration": 116,
    "start_time": "2024-09-11T20:11:21.910Z"
   },
   {
    "duration": 13,
    "start_time": "2024-09-11T20:11:22.032Z"
   },
   {
    "duration": 11,
    "start_time": "2024-09-11T20:11:22.046Z"
   },
   {
    "duration": 6,
    "start_time": "2024-09-11T20:11:22.061Z"
   },
   {
    "duration": 9,
    "start_time": "2024-09-11T20:11:22.086Z"
   },
   {
    "duration": 32,
    "start_time": "2024-09-11T20:11:22.096Z"
   },
   {
    "duration": 10,
    "start_time": "2024-09-11T20:11:22.131Z"
   },
   {
    "duration": 18,
    "start_time": "2024-09-11T20:11:22.143Z"
   },
   {
    "duration": 30,
    "start_time": "2024-09-11T20:11:22.162Z"
   },
   {
    "duration": 12,
    "start_time": "2024-09-11T20:11:22.195Z"
   },
   {
    "duration": 8,
    "start_time": "2024-09-11T20:11:22.209Z"
   },
   {
    "duration": 29,
    "start_time": "2024-09-11T20:11:22.219Z"
   },
   {
    "duration": 6,
    "start_time": "2024-09-11T20:11:22.249Z"
   },
   {
    "duration": 35,
    "start_time": "2024-09-11T20:11:22.257Z"
   },
   {
    "duration": 197,
    "start_time": "2024-09-12T16:36:23.062Z"
   },
   {
    "duration": 3016,
    "start_time": "2024-09-12T16:36:35.447Z"
   },
   {
    "duration": 11,
    "start_time": "2024-09-12T16:36:38.465Z"
   },
   {
    "duration": 8,
    "start_time": "2024-09-12T16:36:38.478Z"
   },
   {
    "duration": 88,
    "start_time": "2024-09-12T16:36:38.489Z"
   },
   {
    "duration": 102,
    "start_time": "2024-09-12T16:36:38.579Z"
   },
   {
    "duration": 115,
    "start_time": "2024-09-12T16:36:38.683Z"
   },
   {
    "duration": 17,
    "start_time": "2024-09-12T16:36:38.800Z"
   },
   {
    "duration": 21,
    "start_time": "2024-09-12T16:36:38.819Z"
   },
   {
    "duration": 7,
    "start_time": "2024-09-12T16:36:38.842Z"
   },
   {
    "duration": 19,
    "start_time": "2024-09-12T16:36:38.856Z"
   },
   {
    "duration": 7,
    "start_time": "2024-09-12T16:36:38.877Z"
   },
   {
    "duration": 3,
    "start_time": "2024-09-12T16:36:38.886Z"
   },
   {
    "duration": 9,
    "start_time": "2024-09-12T16:36:38.891Z"
   },
   {
    "duration": 35,
    "start_time": "2024-09-12T16:36:38.931Z"
   },
   {
    "duration": 143,
    "start_time": "2024-09-12T16:36:38.969Z"
   },
   {
    "duration": 0,
    "start_time": "2024-09-12T16:36:39.116Z"
   },
   {
    "duration": 0,
    "start_time": "2024-09-12T16:36:39.117Z"
   },
   {
    "duration": 1,
    "start_time": "2024-09-12T16:36:39.118Z"
   },
   {
    "duration": 0,
    "start_time": "2024-09-12T16:36:39.120Z"
   },
   {
    "duration": 0,
    "start_time": "2024-09-12T16:36:39.121Z"
   },
   {
    "duration": 0,
    "start_time": "2024-09-12T16:36:39.122Z"
   },
   {
    "duration": 0,
    "start_time": "2024-09-12T16:36:39.135Z"
   },
   {
    "duration": 0,
    "start_time": "2024-09-12T16:36:39.136Z"
   },
   {
    "duration": 0,
    "start_time": "2024-09-12T16:36:39.137Z"
   },
   {
    "duration": 0,
    "start_time": "2024-09-12T16:36:39.140Z"
   },
   {
    "duration": 0,
    "start_time": "2024-09-12T16:36:39.145Z"
   },
   {
    "duration": 0,
    "start_time": "2024-09-12T16:36:39.146Z"
   },
   {
    "duration": 0,
    "start_time": "2024-09-12T16:36:39.146Z"
   },
   {
    "duration": 0,
    "start_time": "2024-09-12T16:36:39.147Z"
   },
   {
    "duration": 0,
    "start_time": "2024-09-12T16:36:39.148Z"
   },
   {
    "duration": 0,
    "start_time": "2024-09-12T16:36:39.149Z"
   },
   {
    "duration": 0,
    "start_time": "2024-09-12T16:36:39.149Z"
   },
   {
    "duration": 0,
    "start_time": "2024-09-12T16:36:39.150Z"
   },
   {
    "duration": 0,
    "start_time": "2024-09-12T16:36:39.151Z"
   },
   {
    "duration": 0,
    "start_time": "2024-09-12T16:36:39.152Z"
   },
   {
    "duration": 0,
    "start_time": "2024-09-12T16:36:39.152Z"
   },
   {
    "duration": 0,
    "start_time": "2024-09-12T16:36:39.153Z"
   },
   {
    "duration": 0,
    "start_time": "2024-09-12T16:36:39.154Z"
   },
   {
    "duration": 0,
    "start_time": "2024-09-12T16:36:39.155Z"
   },
   {
    "duration": 0,
    "start_time": "2024-09-12T16:36:39.156Z"
   },
   {
    "duration": 0,
    "start_time": "2024-09-12T16:36:39.156Z"
   },
   {
    "duration": 0,
    "start_time": "2024-09-12T16:36:39.157Z"
   },
   {
    "duration": 0,
    "start_time": "2024-09-12T16:36:39.158Z"
   },
   {
    "duration": 0,
    "start_time": "2024-09-12T16:36:39.159Z"
   },
   {
    "duration": 0,
    "start_time": "2024-09-12T16:36:39.160Z"
   },
   {
    "duration": 0,
    "start_time": "2024-09-12T16:36:39.160Z"
   },
   {
    "duration": 0,
    "start_time": "2024-09-12T16:36:39.161Z"
   },
   {
    "duration": 0,
    "start_time": "2024-09-12T16:36:39.162Z"
   },
   {
    "duration": 0,
    "start_time": "2024-09-12T16:36:39.162Z"
   },
   {
    "duration": 0,
    "start_time": "2024-09-12T16:36:39.163Z"
   },
   {
    "duration": 0,
    "start_time": "2024-09-12T16:36:39.164Z"
   },
   {
    "duration": 0,
    "start_time": "2024-09-12T16:36:39.165Z"
   },
   {
    "duration": 0,
    "start_time": "2024-09-12T16:36:39.165Z"
   },
   {
    "duration": 13,
    "start_time": "2024-09-12T16:37:09.397Z"
   },
   {
    "duration": 42,
    "start_time": "2024-09-12T16:37:16.912Z"
   },
   {
    "duration": 55,
    "start_time": "2024-09-12T16:37:27.420Z"
   },
   {
    "duration": 48,
    "start_time": "2024-09-12T16:37:56.822Z"
   },
   {
    "duration": 14,
    "start_time": "2024-09-12T16:38:01.329Z"
   },
   {
    "duration": 6,
    "start_time": "2024-09-12T16:38:39.788Z"
   },
   {
    "duration": 6,
    "start_time": "2024-09-12T16:39:07.799Z"
   },
   {
    "duration": 33,
    "start_time": "2024-09-12T16:50:43.432Z"
   },
   {
    "duration": 50,
    "start_time": "2024-09-12T16:51:30.827Z"
   },
   {
    "duration": 594,
    "start_time": "2024-09-12T16:55:13.517Z"
   },
   {
    "duration": 46,
    "start_time": "2024-09-12T16:55:25.951Z"
   },
   {
    "duration": 58,
    "start_time": "2024-09-12T16:55:35.029Z"
   },
   {
    "duration": 7,
    "start_time": "2024-09-12T16:56:05.687Z"
   },
   {
    "duration": 13,
    "start_time": "2024-09-12T16:56:12.314Z"
   },
   {
    "duration": 3,
    "start_time": "2024-09-12T16:56:20.914Z"
   },
   {
    "duration": 9,
    "start_time": "2024-09-12T16:57:18.172Z"
   },
   {
    "duration": 879,
    "start_time": "2024-09-12T16:59:20.359Z"
   },
   {
    "duration": 23,
    "start_time": "2024-09-12T16:59:21.241Z"
   },
   {
    "duration": 6,
    "start_time": "2024-09-12T16:59:21.266Z"
   },
   {
    "duration": 33,
    "start_time": "2024-09-12T16:59:21.273Z"
   },
   {
    "duration": 70,
    "start_time": "2024-09-12T16:59:21.308Z"
   },
   {
    "duration": 82,
    "start_time": "2024-09-12T16:59:21.380Z"
   },
   {
    "duration": 16,
    "start_time": "2024-09-12T16:59:21.463Z"
   },
   {
    "duration": 8,
    "start_time": "2024-09-12T16:59:21.481Z"
   },
   {
    "duration": 5,
    "start_time": "2024-09-12T16:59:21.490Z"
   },
   {
    "duration": 4,
    "start_time": "2024-09-12T16:59:21.497Z"
   },
   {
    "duration": 56,
    "start_time": "2024-09-12T16:59:21.502Z"
   },
   {
    "duration": 8,
    "start_time": "2024-09-12T16:59:21.561Z"
   },
   {
    "duration": 6,
    "start_time": "2024-09-12T16:59:21.571Z"
   },
   {
    "duration": 2,
    "start_time": "2024-09-12T16:59:21.581Z"
   },
   {
    "duration": 10,
    "start_time": "2024-09-12T16:59:21.585Z"
   },
   {
    "duration": 14,
    "start_time": "2024-09-12T16:59:21.597Z"
   },
   {
    "duration": 33,
    "start_time": "2024-09-12T16:59:21.613Z"
   },
   {
    "duration": 42,
    "start_time": "2024-09-12T16:59:21.648Z"
   },
   {
    "duration": 7,
    "start_time": "2024-09-12T16:59:21.691Z"
   },
   {
    "duration": 38,
    "start_time": "2024-09-12T16:59:21.700Z"
   },
   {
    "duration": 26,
    "start_time": "2024-09-12T16:59:21.740Z"
   },
   {
    "duration": 8,
    "start_time": "2024-09-12T16:59:21.768Z"
   },
   {
    "duration": 16,
    "start_time": "2024-09-12T16:59:21.778Z"
   },
   {
    "duration": 8,
    "start_time": "2024-09-12T16:59:21.796Z"
   },
   {
    "duration": 55,
    "start_time": "2024-09-12T16:59:21.806Z"
   },
   {
    "duration": 8,
    "start_time": "2024-09-12T16:59:21.862Z"
   },
   {
    "duration": 9,
    "start_time": "2024-09-12T16:59:21.872Z"
   },
   {
    "duration": 37,
    "start_time": "2024-09-12T16:59:21.883Z"
   },
   {
    "duration": 30,
    "start_time": "2024-09-12T16:59:21.931Z"
   },
   {
    "duration": 28,
    "start_time": "2024-09-12T16:59:21.963Z"
   },
   {
    "duration": 14,
    "start_time": "2024-09-12T16:59:21.993Z"
   },
   {
    "duration": 49,
    "start_time": "2024-09-12T16:59:22.009Z"
   },
   {
    "duration": 20,
    "start_time": "2024-09-12T16:59:22.060Z"
   },
   {
    "duration": 14,
    "start_time": "2024-09-12T16:59:22.085Z"
   },
   {
    "duration": 69,
    "start_time": "2024-09-12T16:59:22.101Z"
   },
   {
    "duration": 46,
    "start_time": "2024-09-12T16:59:22.172Z"
   },
   {
    "duration": 53,
    "start_time": "2024-09-12T16:59:22.220Z"
   },
   {
    "duration": 6,
    "start_time": "2024-09-12T16:59:22.275Z"
   },
   {
    "duration": 16,
    "start_time": "2024-09-12T16:59:22.282Z"
   },
   {
    "duration": 24245,
    "start_time": "2024-09-12T16:59:22.300Z"
   },
   {
    "duration": 173,
    "start_time": "2024-09-12T16:59:46.552Z"
   },
   {
    "duration": 28,
    "start_time": "2024-09-12T16:59:46.727Z"
   },
   {
    "duration": 18,
    "start_time": "2024-09-12T16:59:46.760Z"
   },
   {
    "duration": 10,
    "start_time": "2024-09-12T16:59:46.780Z"
   },
   {
    "duration": 133,
    "start_time": "2024-09-12T16:59:46.792Z"
   },
   {
    "duration": 33,
    "start_time": "2024-09-12T16:59:46.927Z"
   },
   {
    "duration": 12,
    "start_time": "2024-09-12T16:59:46.963Z"
   },
   {
    "duration": 8,
    "start_time": "2024-09-12T16:59:46.976Z"
   },
   {
    "duration": 6,
    "start_time": "2024-09-12T16:59:46.985Z"
   },
   {
    "duration": 16,
    "start_time": "2024-09-12T16:59:46.993Z"
   },
   {
    "duration": 29,
    "start_time": "2024-09-12T16:59:47.011Z"
   },
   {
    "duration": 25,
    "start_time": "2024-09-12T16:59:47.042Z"
   },
   {
    "duration": 13,
    "start_time": "2024-09-12T16:59:47.069Z"
   },
   {
    "duration": 11,
    "start_time": "2024-09-12T16:59:47.084Z"
   },
   {
    "duration": 7,
    "start_time": "2024-09-12T16:59:47.096Z"
   },
   {
    "duration": 60,
    "start_time": "2024-09-12T16:59:47.105Z"
   },
   {
    "duration": 7,
    "start_time": "2024-09-12T16:59:47.167Z"
   },
   {
    "duration": 10,
    "start_time": "2024-09-12T16:59:47.175Z"
   },
   {
    "duration": 2527,
    "start_time": "2024-09-12T17:56:39.319Z"
   },
   {
    "duration": 15,
    "start_time": "2024-09-12T17:56:41.849Z"
   },
   {
    "duration": 9,
    "start_time": "2024-09-12T17:56:41.866Z"
   },
   {
    "duration": 73,
    "start_time": "2024-09-12T17:56:41.877Z"
   },
   {
    "duration": 80,
    "start_time": "2024-09-12T17:56:41.952Z"
   },
   {
    "duration": 113,
    "start_time": "2024-09-12T17:56:42.034Z"
   },
   {
    "duration": 16,
    "start_time": "2024-09-12T17:56:42.148Z"
   },
   {
    "duration": 8,
    "start_time": "2024-09-12T17:56:42.166Z"
   },
   {
    "duration": 5,
    "start_time": "2024-09-12T17:56:42.175Z"
   },
   {
    "duration": 29,
    "start_time": "2024-09-12T17:56:42.183Z"
   },
   {
    "duration": 13,
    "start_time": "2024-09-12T17:56:42.214Z"
   },
   {
    "duration": 7,
    "start_time": "2024-09-12T17:56:42.229Z"
   },
   {
    "duration": 5,
    "start_time": "2024-09-12T17:56:42.238Z"
   },
   {
    "duration": 3,
    "start_time": "2024-09-12T17:56:42.244Z"
   },
   {
    "duration": 10,
    "start_time": "2024-09-12T17:56:42.249Z"
   },
   {
    "duration": 52,
    "start_time": "2024-09-12T17:56:42.260Z"
   },
   {
    "duration": 9,
    "start_time": "2024-09-12T17:56:42.314Z"
   },
   {
    "duration": 31,
    "start_time": "2024-09-12T17:56:42.324Z"
   },
   {
    "duration": 7,
    "start_time": "2024-09-12T17:56:42.357Z"
   },
   {
    "duration": 49,
    "start_time": "2024-09-12T17:56:42.366Z"
   },
   {
    "duration": 16,
    "start_time": "2024-09-12T17:56:42.417Z"
   },
   {
    "duration": 7,
    "start_time": "2024-09-12T17:56:42.434Z"
   },
   {
    "duration": 16,
    "start_time": "2024-09-12T17:56:42.443Z"
   },
   {
    "duration": 8,
    "start_time": "2024-09-12T17:56:42.462Z"
   },
   {
    "duration": 46,
    "start_time": "2024-09-12T17:56:42.471Z"
   },
   {
    "duration": 8,
    "start_time": "2024-09-12T17:56:42.519Z"
   },
   {
    "duration": 10,
    "start_time": "2024-09-12T17:56:42.528Z"
   },
   {
    "duration": 37,
    "start_time": "2024-09-12T17:56:42.542Z"
   },
   {
    "duration": 38,
    "start_time": "2024-09-12T17:56:42.581Z"
   },
   {
    "duration": 15,
    "start_time": "2024-09-12T17:56:42.621Z"
   },
   {
    "duration": 13,
    "start_time": "2024-09-12T17:56:42.637Z"
   },
   {
    "duration": 19,
    "start_time": "2024-09-12T17:56:42.652Z"
   },
   {
    "duration": 43,
    "start_time": "2024-09-12T17:56:42.672Z"
   },
   {
    "duration": 13,
    "start_time": "2024-09-12T17:56:42.716Z"
   },
   {
    "duration": 36,
    "start_time": "2024-09-12T17:56:42.731Z"
   },
   {
    "duration": 66,
    "start_time": "2024-09-12T17:56:42.768Z"
   },
   {
    "duration": 34,
    "start_time": "2024-09-12T17:56:42.836Z"
   },
   {
    "duration": 6,
    "start_time": "2024-09-12T17:56:42.872Z"
   },
   {
    "duration": 37,
    "start_time": "2024-09-12T17:56:42.879Z"
   },
   {
    "duration": 21032,
    "start_time": "2024-09-12T17:56:42.917Z"
   },
   {
    "duration": 6,
    "start_time": "2024-09-12T17:57:03.951Z"
   },
   {
    "duration": 0,
    "start_time": "2024-09-12T17:57:03.958Z"
   },
   {
    "duration": 0,
    "start_time": "2024-09-12T17:57:03.961Z"
   },
   {
    "duration": 0,
    "start_time": "2024-09-12T17:57:03.962Z"
   },
   {
    "duration": 0,
    "start_time": "2024-09-12T17:57:03.963Z"
   },
   {
    "duration": 0,
    "start_time": "2024-09-12T17:57:03.964Z"
   },
   {
    "duration": 0,
    "start_time": "2024-09-12T17:57:03.966Z"
   },
   {
    "duration": 0,
    "start_time": "2024-09-12T17:57:03.967Z"
   },
   {
    "duration": 0,
    "start_time": "2024-09-12T17:57:03.968Z"
   },
   {
    "duration": 0,
    "start_time": "2024-09-12T17:57:03.969Z"
   },
   {
    "duration": 0,
    "start_time": "2024-09-12T17:57:03.970Z"
   },
   {
    "duration": 0,
    "start_time": "2024-09-12T17:57:03.971Z"
   },
   {
    "duration": 0,
    "start_time": "2024-09-12T17:57:03.972Z"
   },
   {
    "duration": 0,
    "start_time": "2024-09-12T17:57:03.975Z"
   },
   {
    "duration": 0,
    "start_time": "2024-09-12T17:57:03.976Z"
   },
   {
    "duration": 0,
    "start_time": "2024-09-12T17:57:03.978Z"
   },
   {
    "duration": 0,
    "start_time": "2024-09-12T17:57:04.011Z"
   },
   {
    "duration": 0,
    "start_time": "2024-09-12T17:57:04.013Z"
   },
   {
    "duration": 5,
    "start_time": "2024-09-12T17:57:37.534Z"
   },
   {
    "duration": 5,
    "start_time": "2024-09-12T17:57:46.201Z"
   },
   {
    "duration": 227,
    "start_time": "2024-09-12T17:58:02.751Z"
   },
   {
    "duration": 18,
    "start_time": "2024-09-12T17:58:24.950Z"
   },
   {
    "duration": 329,
    "start_time": "2024-09-12T17:58:49.897Z"
   },
   {
    "duration": 5,
    "start_time": "2024-09-12T17:59:16.168Z"
   },
   {
    "duration": 203,
    "start_time": "2024-09-12T17:59:23.369Z"
   },
   {
    "duration": 188,
    "start_time": "2024-09-12T18:00:31.587Z"
   },
   {
    "duration": 194,
    "start_time": "2024-09-12T18:00:57.198Z"
   },
   {
    "duration": 195,
    "start_time": "2024-09-12T18:01:09.788Z"
   },
   {
    "duration": 538,
    "start_time": "2024-09-12T18:02:22.878Z"
   },
   {
    "duration": 1945,
    "start_time": "2024-09-12T18:04:53.927Z"
   },
   {
    "duration": 178,
    "start_time": "2024-09-12T18:05:30.265Z"
   },
   {
    "duration": 5,
    "start_time": "2024-09-12T18:06:49.125Z"
   },
   {
    "duration": 322,
    "start_time": "2024-09-12T18:07:00.969Z"
   },
   {
    "duration": 189,
    "start_time": "2024-09-12T18:08:19.046Z"
   },
   {
    "duration": 203,
    "start_time": "2024-09-12T18:08:47.938Z"
   },
   {
    "duration": 872,
    "start_time": "2024-09-12T18:11:45.334Z"
   },
   {
    "duration": 9,
    "start_time": "2024-09-12T18:11:46.208Z"
   },
   {
    "duration": 6,
    "start_time": "2024-09-12T18:11:46.218Z"
   },
   {
    "duration": 34,
    "start_time": "2024-09-12T18:11:46.226Z"
   },
   {
    "duration": 63,
    "start_time": "2024-09-12T18:11:46.262Z"
   },
   {
    "duration": 68,
    "start_time": "2024-09-12T18:11:46.326Z"
   },
   {
    "duration": 29,
    "start_time": "2024-09-12T18:11:46.395Z"
   },
   {
    "duration": 7,
    "start_time": "2024-09-12T18:11:46.426Z"
   },
   {
    "duration": 4,
    "start_time": "2024-09-12T18:11:46.435Z"
   },
   {
    "duration": 5,
    "start_time": "2024-09-12T18:11:46.443Z"
   },
   {
    "duration": 13,
    "start_time": "2024-09-12T18:11:46.449Z"
   },
   {
    "duration": 7,
    "start_time": "2024-09-12T18:11:46.464Z"
   },
   {
    "duration": 43,
    "start_time": "2024-09-12T18:11:46.473Z"
   },
   {
    "duration": 3,
    "start_time": "2024-09-12T18:11:46.518Z"
   },
   {
    "duration": 10,
    "start_time": "2024-09-12T18:11:46.523Z"
   },
   {
    "duration": 15,
    "start_time": "2024-09-12T18:11:46.534Z"
   },
   {
    "duration": 9,
    "start_time": "2024-09-12T18:11:46.550Z"
   },
   {
    "duration": 63,
    "start_time": "2024-09-12T18:11:46.560Z"
   },
   {
    "duration": 7,
    "start_time": "2024-09-12T18:11:46.625Z"
   },
   {
    "duration": 25,
    "start_time": "2024-09-12T18:11:46.634Z"
   },
   {
    "duration": 16,
    "start_time": "2024-09-12T18:11:46.660Z"
   },
   {
    "duration": 7,
    "start_time": "2024-09-12T18:11:46.677Z"
   },
   {
    "duration": 17,
    "start_time": "2024-09-12T18:11:46.711Z"
   },
   {
    "duration": 9,
    "start_time": "2024-09-12T18:11:46.729Z"
   },
   {
    "duration": 13,
    "start_time": "2024-09-12T18:11:46.740Z"
   },
   {
    "duration": 9,
    "start_time": "2024-09-12T18:11:46.754Z"
   },
   {
    "duration": 11,
    "start_time": "2024-09-12T18:11:46.764Z"
   },
   {
    "duration": 64,
    "start_time": "2024-09-12T18:11:46.780Z"
   },
   {
    "duration": 18,
    "start_time": "2024-09-12T18:11:46.845Z"
   },
   {
    "duration": 15,
    "start_time": "2024-09-12T18:11:46.864Z"
   },
   {
    "duration": 31,
    "start_time": "2024-09-12T18:11:46.881Z"
   },
   {
    "duration": 20,
    "start_time": "2024-09-12T18:11:46.913Z"
   },
   {
    "duration": 16,
    "start_time": "2024-09-12T18:11:46.934Z"
   },
   {
    "duration": 13,
    "start_time": "2024-09-12T18:11:46.952Z"
   },
   {
    "duration": 66,
    "start_time": "2024-09-12T18:11:46.967Z"
   },
   {
    "duration": 37,
    "start_time": "2024-09-12T18:11:47.034Z"
   },
   {
    "duration": 68,
    "start_time": "2024-09-12T18:11:47.073Z"
   },
   {
    "duration": 6,
    "start_time": "2024-09-12T18:11:47.143Z"
   },
   {
    "duration": 17,
    "start_time": "2024-09-12T18:11:47.150Z"
   },
   {
    "duration": 83970,
    "start_time": "2024-09-12T18:11:47.168Z"
   },
   {
    "duration": 201,
    "start_time": "2024-09-12T18:13:11.140Z"
   },
   {
    "duration": 5,
    "start_time": "2024-09-12T18:13:11.343Z"
   },
   {
    "duration": 17,
    "start_time": "2024-09-12T18:13:11.350Z"
   },
   {
    "duration": 10,
    "start_time": "2024-09-12T18:13:11.369Z"
   },
   {
    "duration": 138,
    "start_time": "2024-09-12T18:13:11.380Z"
   },
   {
    "duration": 13,
    "start_time": "2024-09-12T18:13:11.520Z"
   },
   {
    "duration": 11,
    "start_time": "2024-09-12T18:13:11.535Z"
   },
   {
    "duration": 6,
    "start_time": "2024-09-12T18:13:11.548Z"
   },
   {
    "duration": 7,
    "start_time": "2024-09-12T18:13:11.556Z"
   },
   {
    "duration": 46,
    "start_time": "2024-09-12T18:13:11.566Z"
   },
   {
    "duration": 8,
    "start_time": "2024-09-12T18:13:11.614Z"
   },
   {
    "duration": 18,
    "start_time": "2024-09-12T18:13:11.623Z"
   },
   {
    "duration": 11,
    "start_time": "2024-09-12T18:13:11.644Z"
   },
   {
    "duration": 11,
    "start_time": "2024-09-12T18:13:11.656Z"
   },
   {
    "duration": 7,
    "start_time": "2024-09-12T18:13:11.669Z"
   },
   {
    "duration": 56,
    "start_time": "2024-09-12T18:13:11.678Z"
   },
   {
    "duration": 6,
    "start_time": "2024-09-12T18:13:11.735Z"
   },
   {
    "duration": 7,
    "start_time": "2024-09-12T18:13:11.743Z"
   },
   {
    "duration": 623,
    "start_time": "2024-09-12T18:14:56.415Z"
   },
   {
    "duration": 790,
    "start_time": "2024-09-12T18:15:20.414Z"
   },
   {
    "duration": 7,
    "start_time": "2024-09-12T18:15:21.211Z"
   },
   {
    "duration": 5,
    "start_time": "2024-09-12T18:15:21.220Z"
   },
   {
    "duration": 33,
    "start_time": "2024-09-12T18:15:21.227Z"
   },
   {
    "duration": 72,
    "start_time": "2024-09-12T18:15:21.262Z"
   },
   {
    "duration": 66,
    "start_time": "2024-09-12T18:15:21.335Z"
   },
   {
    "duration": 20,
    "start_time": "2024-09-12T18:15:21.403Z"
   },
   {
    "duration": 7,
    "start_time": "2024-09-12T18:15:21.425Z"
   },
   {
    "duration": 5,
    "start_time": "2024-09-12T18:15:21.434Z"
   },
   {
    "duration": 6,
    "start_time": "2024-09-12T18:15:21.440Z"
   },
   {
    "duration": 13,
    "start_time": "2024-09-12T18:15:21.447Z"
   },
   {
    "duration": 8,
    "start_time": "2024-09-12T18:15:21.461Z"
   },
   {
    "duration": 41,
    "start_time": "2024-09-12T18:15:21.473Z"
   },
   {
    "duration": 3,
    "start_time": "2024-09-12T18:15:21.516Z"
   },
   {
    "duration": 10,
    "start_time": "2024-09-12T18:15:21.521Z"
   },
   {
    "duration": 14,
    "start_time": "2024-09-12T18:15:21.532Z"
   },
   {
    "duration": 8,
    "start_time": "2024-09-12T18:15:21.548Z"
   },
   {
    "duration": 60,
    "start_time": "2024-09-12T18:15:21.558Z"
   },
   {
    "duration": 8,
    "start_time": "2024-09-12T18:15:21.620Z"
   },
   {
    "duration": 24,
    "start_time": "2024-09-12T18:15:21.630Z"
   },
   {
    "duration": 15,
    "start_time": "2024-09-12T18:15:21.656Z"
   },
   {
    "duration": 7,
    "start_time": "2024-09-12T18:15:21.672Z"
   },
   {
    "duration": 16,
    "start_time": "2024-09-12T18:15:21.711Z"
   },
   {
    "duration": 8,
    "start_time": "2024-09-12T18:15:21.729Z"
   },
   {
    "duration": 12,
    "start_time": "2024-09-12T18:15:21.739Z"
   },
   {
    "duration": 8,
    "start_time": "2024-09-12T18:15:21.753Z"
   },
   {
    "duration": 11,
    "start_time": "2024-09-12T18:15:21.762Z"
   },
   {
    "duration": 66,
    "start_time": "2024-09-12T18:15:21.775Z"
   },
   {
    "duration": 17,
    "start_time": "2024-09-12T18:15:21.843Z"
   },
   {
    "duration": 16,
    "start_time": "2024-09-12T18:15:21.862Z"
   },
   {
    "duration": 32,
    "start_time": "2024-09-12T18:15:21.880Z"
   },
   {
    "duration": 19,
    "start_time": "2024-09-12T18:15:21.913Z"
   },
   {
    "duration": 15,
    "start_time": "2024-09-12T18:15:21.934Z"
   },
   {
    "duration": 13,
    "start_time": "2024-09-12T18:15:21.951Z"
   },
   {
    "duration": 65,
    "start_time": "2024-09-12T18:15:21.966Z"
   },
   {
    "duration": 37,
    "start_time": "2024-09-12T18:15:22.033Z"
   },
   {
    "duration": 56,
    "start_time": "2024-09-12T18:15:22.071Z"
   },
   {
    "duration": 5,
    "start_time": "2024-09-12T18:15:22.129Z"
   },
   {
    "duration": 17,
    "start_time": "2024-09-12T18:15:22.136Z"
   },
   {
    "duration": 702,
    "start_time": "2024-09-12T18:15:22.157Z"
   },
   {
    "duration": 0,
    "start_time": "2024-09-12T18:15:22.861Z"
   },
   {
    "duration": 0,
    "start_time": "2024-09-12T18:15:22.862Z"
   },
   {
    "duration": 0,
    "start_time": "2024-09-12T18:15:22.863Z"
   },
   {
    "duration": 0,
    "start_time": "2024-09-12T18:15:22.865Z"
   },
   {
    "duration": 0,
    "start_time": "2024-09-12T18:15:22.867Z"
   },
   {
    "duration": 0,
    "start_time": "2024-09-12T18:15:22.869Z"
   },
   {
    "duration": 0,
    "start_time": "2024-09-12T18:15:22.870Z"
   },
   {
    "duration": 0,
    "start_time": "2024-09-12T18:15:22.871Z"
   },
   {
    "duration": 0,
    "start_time": "2024-09-12T18:15:22.872Z"
   },
   {
    "duration": 0,
    "start_time": "2024-09-12T18:15:22.873Z"
   },
   {
    "duration": 0,
    "start_time": "2024-09-12T18:15:22.875Z"
   },
   {
    "duration": 0,
    "start_time": "2024-09-12T18:15:22.876Z"
   },
   {
    "duration": 0,
    "start_time": "2024-09-12T18:15:22.877Z"
   },
   {
    "duration": 0,
    "start_time": "2024-09-12T18:15:22.878Z"
   },
   {
    "duration": 0,
    "start_time": "2024-09-12T18:15:22.879Z"
   },
   {
    "duration": 0,
    "start_time": "2024-09-12T18:15:22.913Z"
   },
   {
    "duration": 0,
    "start_time": "2024-09-12T18:15:22.914Z"
   },
   {
    "duration": 0,
    "start_time": "2024-09-12T18:15:22.916Z"
   },
   {
    "duration": 51,
    "start_time": "2024-09-12T18:15:54.431Z"
   },
   {
    "duration": 33,
    "start_time": "2024-09-12T18:16:15.795Z"
   },
   {
    "duration": 37,
    "start_time": "2024-09-12T18:16:22.845Z"
   },
   {
    "duration": 49,
    "start_time": "2024-09-12T18:16:37.793Z"
   },
   {
    "duration": 0,
    "start_time": "2024-09-12T18:20:14.556Z"
   },
   {
    "duration": 0,
    "start_time": "2024-09-12T18:20:14.557Z"
   },
   {
    "duration": 0,
    "start_time": "2024-09-12T18:20:14.558Z"
   },
   {
    "duration": 0,
    "start_time": "2024-09-12T18:20:14.559Z"
   },
   {
    "duration": 0,
    "start_time": "2024-09-12T18:20:14.560Z"
   },
   {
    "duration": 193,
    "start_time": "2024-09-12T18:29:44.556Z"
   },
   {
    "duration": 17,
    "start_time": "2024-09-12T18:29:50.321Z"
   },
   {
    "duration": 63682,
    "start_time": "2024-09-12T18:30:57.213Z"
   },
   {
    "duration": 205,
    "start_time": "2024-09-12T18:32:00.897Z"
   },
   {
    "duration": 10,
    "start_time": "2024-09-12T18:32:01.105Z"
   },
   {
    "duration": 17,
    "start_time": "2024-09-12T18:32:01.116Z"
   },
   {
    "duration": 10,
    "start_time": "2024-09-12T18:32:01.135Z"
   },
   {
    "duration": 113,
    "start_time": "2024-09-12T18:32:01.282Z"
   },
   {
    "duration": 73769,
    "start_time": "2024-09-12T18:45:33.675Z"
   },
   {
    "duration": 11,
    "start_time": "2024-09-12T18:50:54.502Z"
   },
   {
    "duration": 2820,
    "start_time": "2024-09-12T18:54:48.876Z"
   },
   {
    "duration": 2885,
    "start_time": "2024-09-12T18:55:47.959Z"
   },
   {
    "duration": 2806,
    "start_time": "2024-09-12T18:56:36.940Z"
   },
   {
    "duration": 2752,
    "start_time": "2024-09-12T18:57:31.609Z"
   },
   {
    "duration": 818,
    "start_time": "2024-09-12T18:58:04.781Z"
   },
   {
    "duration": 10,
    "start_time": "2024-09-12T18:58:05.601Z"
   },
   {
    "duration": 5,
    "start_time": "2024-09-12T18:58:05.613Z"
   },
   {
    "duration": 34,
    "start_time": "2024-09-12T18:58:05.621Z"
   },
   {
    "duration": 59,
    "start_time": "2024-09-12T18:58:05.657Z"
   },
   {
    "duration": 76,
    "start_time": "2024-09-12T18:58:05.718Z"
   },
   {
    "duration": 27,
    "start_time": "2024-09-12T18:58:05.795Z"
   },
   {
    "duration": 7,
    "start_time": "2024-09-12T18:58:05.823Z"
   },
   {
    "duration": 4,
    "start_time": "2024-09-12T18:58:05.832Z"
   },
   {
    "duration": 5,
    "start_time": "2024-09-12T18:58:05.840Z"
   },
   {
    "duration": 13,
    "start_time": "2024-09-12T18:58:05.846Z"
   },
   {
    "duration": 7,
    "start_time": "2024-09-12T18:58:05.860Z"
   },
   {
    "duration": 43,
    "start_time": "2024-09-12T18:58:05.869Z"
   },
   {
    "duration": 3,
    "start_time": "2024-09-12T18:58:05.914Z"
   },
   {
    "duration": 10,
    "start_time": "2024-09-12T18:58:05.919Z"
   },
   {
    "duration": 16,
    "start_time": "2024-09-12T18:58:05.930Z"
   },
   {
    "duration": 8,
    "start_time": "2024-09-12T18:58:05.947Z"
   },
   {
    "duration": 61,
    "start_time": "2024-09-12T18:58:05.957Z"
   },
   {
    "duration": 7,
    "start_time": "2024-09-12T18:58:06.020Z"
   },
   {
    "duration": 26,
    "start_time": "2024-09-12T18:58:06.028Z"
   },
   {
    "duration": 15,
    "start_time": "2024-09-12T18:58:06.055Z"
   },
   {
    "duration": 7,
    "start_time": "2024-09-12T18:58:06.072Z"
   },
   {
    "duration": 46,
    "start_time": "2024-09-12T18:58:06.080Z"
   },
   {
    "duration": 9,
    "start_time": "2024-09-12T18:58:06.128Z"
   },
   {
    "duration": 12,
    "start_time": "2024-09-12T18:58:06.138Z"
   },
   {
    "duration": 8,
    "start_time": "2024-09-12T18:58:06.152Z"
   },
   {
    "duration": 11,
    "start_time": "2024-09-12T18:58:06.162Z"
   },
   {
    "duration": 68,
    "start_time": "2024-09-12T18:58:06.177Z"
   },
   {
    "duration": 19,
    "start_time": "2024-09-12T18:58:06.247Z"
   },
   {
    "duration": 14,
    "start_time": "2024-09-12T18:58:06.267Z"
   },
   {
    "duration": 30,
    "start_time": "2024-09-12T18:58:06.283Z"
   },
   {
    "duration": 21,
    "start_time": "2024-09-12T18:58:06.315Z"
   },
   {
    "duration": 14,
    "start_time": "2024-09-12T18:58:06.338Z"
   },
   {
    "duration": 14,
    "start_time": "2024-09-12T18:58:06.354Z"
   },
   {
    "duration": 66,
    "start_time": "2024-09-12T18:58:06.370Z"
   },
   {
    "duration": 38,
    "start_time": "2024-09-12T18:58:06.439Z"
   },
   {
    "duration": 53,
    "start_time": "2024-09-12T18:58:06.478Z"
   },
   {
    "duration": 6,
    "start_time": "2024-09-12T18:58:06.533Z"
   },
   {
    "duration": 16,
    "start_time": "2024-09-12T18:58:06.540Z"
   },
   {
    "duration": 4,
    "start_time": "2024-09-12T18:58:06.558Z"
   },
   {
    "duration": 0,
    "start_time": "2024-09-12T18:58:06.563Z"
   },
   {
    "duration": 0,
    "start_time": "2024-09-12T18:58:06.565Z"
   },
   {
    "duration": 0,
    "start_time": "2024-09-12T18:58:06.566Z"
   },
   {
    "duration": 0,
    "start_time": "2024-09-12T18:58:06.567Z"
   },
   {
    "duration": 0,
    "start_time": "2024-09-12T18:58:06.568Z"
   },
   {
    "duration": 0,
    "start_time": "2024-09-12T18:58:06.569Z"
   },
   {
    "duration": 0,
    "start_time": "2024-09-12T18:58:06.570Z"
   },
   {
    "duration": 0,
    "start_time": "2024-09-12T18:58:06.570Z"
   },
   {
    "duration": 0,
    "start_time": "2024-09-12T18:58:06.571Z"
   },
   {
    "duration": 0,
    "start_time": "2024-09-12T18:58:06.572Z"
   },
   {
    "duration": 0,
    "start_time": "2024-09-12T18:58:06.573Z"
   },
   {
    "duration": 0,
    "start_time": "2024-09-12T18:58:06.574Z"
   },
   {
    "duration": 0,
    "start_time": "2024-09-12T18:58:06.611Z"
   },
   {
    "duration": 0,
    "start_time": "2024-09-12T18:58:06.612Z"
   },
   {
    "duration": 0,
    "start_time": "2024-09-12T18:58:06.613Z"
   },
   {
    "duration": 0,
    "start_time": "2024-09-12T18:58:06.615Z"
   },
   {
    "duration": 0,
    "start_time": "2024-09-12T18:58:06.616Z"
   },
   {
    "duration": 0,
    "start_time": "2024-09-12T18:58:06.616Z"
   },
   {
    "duration": 0,
    "start_time": "2024-09-12T18:58:06.617Z"
   },
   {
    "duration": 261,
    "start_time": "2024-09-12T18:58:57.556Z"
   },
   {
    "duration": 16,
    "start_time": "2024-09-12T18:59:43.401Z"
   },
   {
    "duration": 2820,
    "start_time": "2024-09-12T18:59:47.836Z"
   },
   {
    "duration": 2844,
    "start_time": "2024-09-12T19:00:08.907Z"
   },
   {
    "duration": 807,
    "start_time": "2024-09-12T19:00:14.005Z"
   },
   {
    "duration": 10,
    "start_time": "2024-09-12T19:00:14.815Z"
   },
   {
    "duration": 5,
    "start_time": "2024-09-12T19:00:14.827Z"
   },
   {
    "duration": 35,
    "start_time": "2024-09-12T19:00:14.833Z"
   },
   {
    "duration": 68,
    "start_time": "2024-09-12T19:00:14.869Z"
   },
   {
    "duration": 67,
    "start_time": "2024-09-12T19:00:14.938Z"
   },
   {
    "duration": 18,
    "start_time": "2024-09-12T19:00:15.012Z"
   },
   {
    "duration": 7,
    "start_time": "2024-09-12T19:00:15.032Z"
   },
   {
    "duration": 5,
    "start_time": "2024-09-12T19:00:15.040Z"
   },
   {
    "duration": 4,
    "start_time": "2024-09-12T19:00:15.048Z"
   },
   {
    "duration": 13,
    "start_time": "2024-09-12T19:00:15.054Z"
   },
   {
    "duration": 7,
    "start_time": "2024-09-12T19:00:15.069Z"
   },
   {
    "duration": 9,
    "start_time": "2024-09-12T19:00:15.112Z"
   },
   {
    "duration": 4,
    "start_time": "2024-09-12T19:00:15.123Z"
   },
   {
    "duration": 12,
    "start_time": "2024-09-12T19:00:15.129Z"
   },
   {
    "duration": 16,
    "start_time": "2024-09-12T19:00:15.143Z"
   },
   {
    "duration": 8,
    "start_time": "2024-09-12T19:00:15.161Z"
   },
   {
    "duration": 69,
    "start_time": "2024-09-12T19:00:15.171Z"
   },
   {
    "duration": 8,
    "start_time": "2024-09-12T19:00:15.242Z"
   },
   {
    "duration": 26,
    "start_time": "2024-09-12T19:00:15.252Z"
   },
   {
    "duration": 45,
    "start_time": "2024-09-12T19:00:15.280Z"
   },
   {
    "duration": 7,
    "start_time": "2024-09-12T19:00:15.327Z"
   },
   {
    "duration": 16,
    "start_time": "2024-09-12T19:00:15.336Z"
   },
   {
    "duration": 8,
    "start_time": "2024-09-12T19:00:15.354Z"
   },
   {
    "duration": 14,
    "start_time": "2024-09-12T19:00:15.364Z"
   },
   {
    "duration": 37,
    "start_time": "2024-09-12T19:00:15.379Z"
   },
   {
    "duration": 11,
    "start_time": "2024-09-12T19:00:15.418Z"
   },
   {
    "duration": 38,
    "start_time": "2024-09-12T19:00:15.434Z"
   },
   {
    "duration": 38,
    "start_time": "2024-09-12T19:00:15.474Z"
   },
   {
    "duration": 16,
    "start_time": "2024-09-12T19:00:15.514Z"
   },
   {
    "duration": 12,
    "start_time": "2024-09-12T19:00:15.531Z"
   },
   {
    "duration": 20,
    "start_time": "2024-09-12T19:00:15.544Z"
   },
   {
    "duration": 15,
    "start_time": "2024-09-12T19:00:15.565Z"
   },
   {
    "duration": 41,
    "start_time": "2024-09-12T19:00:15.582Z"
   },
   {
    "duration": 35,
    "start_time": "2024-09-12T19:00:15.624Z"
   },
   {
    "duration": 61,
    "start_time": "2024-09-12T19:00:15.661Z"
   },
   {
    "duration": 35,
    "start_time": "2024-09-12T19:00:15.724Z"
   },
   {
    "duration": 6,
    "start_time": "2024-09-12T19:00:15.760Z"
   },
   {
    "duration": 17,
    "start_time": "2024-09-12T19:00:15.767Z"
   },
   {
    "duration": 36,
    "start_time": "2024-09-12T19:00:15.785Z"
   },
   {
    "duration": 2878,
    "start_time": "2024-09-12T19:00:15.822Z"
   },
   {
    "duration": 195,
    "start_time": "2024-09-12T19:00:18.702Z"
   },
   {
    "duration": 13,
    "start_time": "2024-09-12T19:00:18.898Z"
   },
   {
    "duration": 17,
    "start_time": "2024-09-12T19:00:18.914Z"
   },
   {
    "duration": 11,
    "start_time": "2024-09-12T19:00:18.932Z"
   },
   {
    "duration": 124,
    "start_time": "2024-09-12T19:00:18.945Z"
   },
   {
    "duration": 13,
    "start_time": "2024-09-12T19:00:19.071Z"
   },
   {
    "duration": 27,
    "start_time": "2024-09-12T19:00:19.085Z"
   },
   {
    "duration": 7,
    "start_time": "2024-09-12T19:00:19.113Z"
   },
   {
    "duration": 7,
    "start_time": "2024-09-12T19:00:19.122Z"
   },
   {
    "duration": 17,
    "start_time": "2024-09-12T19:00:19.130Z"
   },
   {
    "duration": 7,
    "start_time": "2024-09-12T19:00:19.148Z"
   },
   {
    "duration": 17,
    "start_time": "2024-09-12T19:00:19.157Z"
   },
   {
    "duration": 46,
    "start_time": "2024-09-12T19:00:19.175Z"
   },
   {
    "duration": 11,
    "start_time": "2024-09-12T19:00:19.223Z"
   },
   {
    "duration": 7,
    "start_time": "2024-09-12T19:00:19.235Z"
   },
   {
    "duration": 25,
    "start_time": "2024-09-12T19:00:19.243Z"
   },
   {
    "duration": 7,
    "start_time": "2024-09-12T19:00:19.270Z"
   },
   {
    "duration": 39,
    "start_time": "2024-09-12T19:00:19.279Z"
   },
   {
    "duration": 2891,
    "start_time": "2024-09-12T19:01:03.709Z"
   },
   {
    "duration": 712,
    "start_time": "2024-09-12T19:05:38.285Z"
   },
   {
    "duration": 834,
    "start_time": "2024-09-12T19:05:48.569Z"
   },
   {
    "duration": 8,
    "start_time": "2024-09-12T19:05:49.405Z"
   },
   {
    "duration": 6,
    "start_time": "2024-09-12T19:05:49.414Z"
   },
   {
    "duration": 35,
    "start_time": "2024-09-12T19:05:49.422Z"
   },
   {
    "duration": 67,
    "start_time": "2024-09-12T19:05:49.459Z"
   },
   {
    "duration": 67,
    "start_time": "2024-09-12T19:05:49.528Z"
   },
   {
    "duration": 24,
    "start_time": "2024-09-12T19:05:49.597Z"
   },
   {
    "duration": 8,
    "start_time": "2024-09-12T19:05:49.623Z"
   },
   {
    "duration": 5,
    "start_time": "2024-09-12T19:05:49.633Z"
   },
   {
    "duration": 5,
    "start_time": "2024-09-12T19:05:49.642Z"
   },
   {
    "duration": 14,
    "start_time": "2024-09-12T19:05:49.648Z"
   },
   {
    "duration": 9,
    "start_time": "2024-09-12T19:05:49.663Z"
   },
   {
    "duration": 43,
    "start_time": "2024-09-12T19:05:49.673Z"
   },
   {
    "duration": 3,
    "start_time": "2024-09-12T19:05:49.718Z"
   },
   {
    "duration": 10,
    "start_time": "2024-09-12T19:05:49.722Z"
   },
   {
    "duration": 15,
    "start_time": "2024-09-12T19:05:49.734Z"
   },
   {
    "duration": 10,
    "start_time": "2024-09-12T19:05:49.750Z"
   },
   {
    "duration": 65,
    "start_time": "2024-09-12T19:05:49.761Z"
   },
   {
    "duration": 7,
    "start_time": "2024-09-12T19:05:49.828Z"
   },
   {
    "duration": 25,
    "start_time": "2024-09-12T19:05:49.837Z"
   },
   {
    "duration": 17,
    "start_time": "2024-09-12T19:05:49.864Z"
   },
   {
    "duration": 34,
    "start_time": "2024-09-12T19:05:49.883Z"
   },
   {
    "duration": 17,
    "start_time": "2024-09-12T19:05:49.918Z"
   },
   {
    "duration": 10,
    "start_time": "2024-09-12T19:05:49.937Z"
   },
   {
    "duration": 16,
    "start_time": "2024-09-12T19:05:49.949Z"
   },
   {
    "duration": 8,
    "start_time": "2024-09-12T19:05:49.967Z"
   },
   {
    "duration": 35,
    "start_time": "2024-09-12T19:05:49.977Z"
   },
   {
    "duration": 39,
    "start_time": "2024-09-12T19:05:50.018Z"
   },
   {
    "duration": 18,
    "start_time": "2024-09-12T19:05:50.059Z"
   },
   {
    "duration": 42,
    "start_time": "2024-09-12T19:05:50.079Z"
   },
   {
    "duration": 12,
    "start_time": "2024-09-12T19:05:50.123Z"
   },
   {
    "duration": 20,
    "start_time": "2024-09-12T19:05:50.137Z"
   },
   {
    "duration": 16,
    "start_time": "2024-09-12T19:05:50.159Z"
   },
   {
    "duration": 43,
    "start_time": "2024-09-12T19:05:50.177Z"
   },
   {
    "duration": 36,
    "start_time": "2024-09-12T19:05:50.223Z"
   },
   {
    "duration": 55,
    "start_time": "2024-09-12T19:05:50.261Z"
   },
   {
    "duration": 40,
    "start_time": "2024-09-12T19:05:50.317Z"
   },
   {
    "duration": 6,
    "start_time": "2024-09-12T19:05:50.359Z"
   },
   {
    "duration": 18,
    "start_time": "2024-09-12T19:05:50.367Z"
   },
   {
    "duration": 15,
    "start_time": "2024-09-12T19:05:50.412Z"
   },
   {
    "duration": 752,
    "start_time": "2024-09-12T19:05:50.428Z"
   },
   {
    "duration": 0,
    "start_time": "2024-09-12T19:05:51.182Z"
   },
   {
    "duration": 0,
    "start_time": "2024-09-12T19:05:51.183Z"
   },
   {
    "duration": 0,
    "start_time": "2024-09-12T19:05:51.184Z"
   },
   {
    "duration": 0,
    "start_time": "2024-09-12T19:05:51.185Z"
   },
   {
    "duration": 0,
    "start_time": "2024-09-12T19:05:51.186Z"
   },
   {
    "duration": 0,
    "start_time": "2024-09-12T19:05:51.187Z"
   },
   {
    "duration": 0,
    "start_time": "2024-09-12T19:05:51.188Z"
   },
   {
    "duration": 0,
    "start_time": "2024-09-12T19:05:51.189Z"
   },
   {
    "duration": 0,
    "start_time": "2024-09-12T19:05:51.190Z"
   },
   {
    "duration": 0,
    "start_time": "2024-09-12T19:05:51.191Z"
   },
   {
    "duration": 0,
    "start_time": "2024-09-12T19:05:51.192Z"
   },
   {
    "duration": 0,
    "start_time": "2024-09-12T19:05:51.193Z"
   },
   {
    "duration": 0,
    "start_time": "2024-09-12T19:05:51.212Z"
   },
   {
    "duration": 0,
    "start_time": "2024-09-12T19:05:51.213Z"
   },
   {
    "duration": 0,
    "start_time": "2024-09-12T19:05:51.215Z"
   },
   {
    "duration": 0,
    "start_time": "2024-09-12T19:05:51.216Z"
   },
   {
    "duration": 0,
    "start_time": "2024-09-12T19:05:51.217Z"
   },
   {
    "duration": 0,
    "start_time": "2024-09-12T19:05:51.219Z"
   },
   {
    "duration": 0,
    "start_time": "2024-09-12T19:05:51.221Z"
   },
   {
    "duration": 15,
    "start_time": "2024-09-12T19:06:19.846Z"
   },
   {
    "duration": 206,
    "start_time": "2024-09-12T19:08:06.775Z"
   },
   {
    "duration": 65,
    "start_time": "2024-09-12T19:08:38.753Z"
   },
   {
    "duration": 64,
    "start_time": "2024-09-12T19:09:48.299Z"
   },
   {
    "duration": 65,
    "start_time": "2024-09-12T19:10:36.705Z"
   },
   {
    "duration": 792,
    "start_time": "2024-09-12T19:10:48.811Z"
   },
   {
    "duration": 7,
    "start_time": "2024-09-12T19:10:49.605Z"
   },
   {
    "duration": 5,
    "start_time": "2024-09-12T19:10:49.615Z"
   },
   {
    "duration": 34,
    "start_time": "2024-09-12T19:10:49.623Z"
   },
   {
    "duration": 71,
    "start_time": "2024-09-12T19:10:49.659Z"
   },
   {
    "duration": 73,
    "start_time": "2024-09-12T19:10:49.731Z"
   },
   {
    "duration": 19,
    "start_time": "2024-09-12T19:10:49.805Z"
   },
   {
    "duration": 8,
    "start_time": "2024-09-12T19:10:49.826Z"
   },
   {
    "duration": 5,
    "start_time": "2024-09-12T19:10:49.835Z"
   },
   {
    "duration": 5,
    "start_time": "2024-09-12T19:10:49.842Z"
   },
   {
    "duration": 13,
    "start_time": "2024-09-12T19:10:49.849Z"
   },
   {
    "duration": 9,
    "start_time": "2024-09-12T19:10:49.863Z"
   },
   {
    "duration": 6,
    "start_time": "2024-09-12T19:10:49.911Z"
   },
   {
    "duration": 4,
    "start_time": "2024-09-12T19:10:49.918Z"
   },
   {
    "duration": 9,
    "start_time": "2024-09-12T19:10:49.923Z"
   },
   {
    "duration": 15,
    "start_time": "2024-09-12T19:10:49.934Z"
   },
   {
    "duration": 12,
    "start_time": "2024-09-12T19:10:49.951Z"
   },
   {
    "duration": 60,
    "start_time": "2024-09-12T19:10:49.966Z"
   },
   {
    "duration": 8,
    "start_time": "2024-09-12T19:10:50.028Z"
   },
   {
    "duration": 26,
    "start_time": "2024-09-12T19:10:50.037Z"
   },
   {
    "duration": 16,
    "start_time": "2024-09-12T19:10:50.064Z"
   },
   {
    "duration": 34,
    "start_time": "2024-09-12T19:10:50.082Z"
   },
   {
    "duration": 17,
    "start_time": "2024-09-12T19:10:50.119Z"
   },
   {
    "duration": 9,
    "start_time": "2024-09-12T19:10:50.137Z"
   },
   {
    "duration": 13,
    "start_time": "2024-09-12T19:10:50.147Z"
   },
   {
    "duration": 7,
    "start_time": "2024-09-12T19:10:50.162Z"
   },
   {
    "duration": 41,
    "start_time": "2024-09-12T19:10:50.171Z"
   },
   {
    "duration": 39,
    "start_time": "2024-09-12T19:10:50.217Z"
   },
   {
    "duration": 18,
    "start_time": "2024-09-12T19:10:50.257Z"
   },
   {
    "duration": 14,
    "start_time": "2024-09-12T19:10:50.276Z"
   },
   {
    "duration": 12,
    "start_time": "2024-09-12T19:10:50.312Z"
   },
   {
    "duration": 19,
    "start_time": "2024-09-12T19:10:50.325Z"
   },
   {
    "duration": 14,
    "start_time": "2024-09-12T19:10:50.346Z"
   },
   {
    "duration": 13,
    "start_time": "2024-09-12T19:10:50.362Z"
   },
   {
    "duration": 62,
    "start_time": "2024-09-12T19:10:50.377Z"
   },
   {
    "duration": 37,
    "start_time": "2024-09-12T19:10:50.441Z"
   },
   {
    "duration": 59,
    "start_time": "2024-09-12T19:10:50.480Z"
   },
   {
    "duration": 6,
    "start_time": "2024-09-12T19:10:50.541Z"
   },
   {
    "duration": 17,
    "start_time": "2024-09-12T19:10:50.549Z"
   },
   {
    "duration": 13,
    "start_time": "2024-09-12T19:10:50.567Z"
   },
   {
    "duration": 786,
    "start_time": "2024-09-12T19:10:50.582Z"
   },
   {
    "duration": 0,
    "start_time": "2024-09-12T19:10:51.370Z"
   },
   {
    "duration": 0,
    "start_time": "2024-09-12T19:10:51.371Z"
   },
   {
    "duration": 0,
    "start_time": "2024-09-12T19:10:51.372Z"
   },
   {
    "duration": 0,
    "start_time": "2024-09-12T19:10:51.374Z"
   },
   {
    "duration": 0,
    "start_time": "2024-09-12T19:10:51.375Z"
   },
   {
    "duration": 0,
    "start_time": "2024-09-12T19:10:51.377Z"
   },
   {
    "duration": 0,
    "start_time": "2024-09-12T19:10:51.379Z"
   },
   {
    "duration": 0,
    "start_time": "2024-09-12T19:10:51.380Z"
   },
   {
    "duration": 0,
    "start_time": "2024-09-12T19:10:51.381Z"
   },
   {
    "duration": 0,
    "start_time": "2024-09-12T19:10:51.383Z"
   },
   {
    "duration": 0,
    "start_time": "2024-09-12T19:10:51.385Z"
   },
   {
    "duration": 0,
    "start_time": "2024-09-12T19:10:51.386Z"
   },
   {
    "duration": 0,
    "start_time": "2024-09-12T19:10:51.387Z"
   },
   {
    "duration": 0,
    "start_time": "2024-09-12T19:10:51.412Z"
   },
   {
    "duration": 0,
    "start_time": "2024-09-12T19:10:51.413Z"
   },
   {
    "duration": 0,
    "start_time": "2024-09-12T19:10:51.414Z"
   },
   {
    "duration": 0,
    "start_time": "2024-09-12T19:10:51.416Z"
   },
   {
    "duration": 0,
    "start_time": "2024-09-12T19:10:51.417Z"
   },
   {
    "duration": 0,
    "start_time": "2024-09-12T19:10:51.418Z"
   },
   {
    "duration": 2814,
    "start_time": "2024-09-12T19:11:31.247Z"
   },
   {
    "duration": 291,
    "start_time": "2024-09-12T19:11:35.363Z"
   },
   {
    "duration": 8,
    "start_time": "2024-09-12T19:15:19.954Z"
   },
   {
    "duration": 815,
    "start_time": "2024-09-12T19:15:30.984Z"
   },
   {
    "duration": 12,
    "start_time": "2024-09-12T19:15:31.801Z"
   },
   {
    "duration": 5,
    "start_time": "2024-09-12T19:15:31.814Z"
   },
   {
    "duration": 34,
    "start_time": "2024-09-12T19:15:31.821Z"
   },
   {
    "duration": 63,
    "start_time": "2024-09-12T19:15:31.856Z"
   },
   {
    "duration": 68,
    "start_time": "2024-09-12T19:15:31.920Z"
   },
   {
    "duration": 24,
    "start_time": "2024-09-12T19:15:31.990Z"
   },
   {
    "duration": 7,
    "start_time": "2024-09-12T19:15:32.016Z"
   },
   {
    "duration": 5,
    "start_time": "2024-09-12T19:15:32.025Z"
   },
   {
    "duration": 5,
    "start_time": "2024-09-12T19:15:32.033Z"
   },
   {
    "duration": 13,
    "start_time": "2024-09-12T19:15:32.039Z"
   },
   {
    "duration": 7,
    "start_time": "2024-09-12T19:15:32.054Z"
   },
   {
    "duration": 6,
    "start_time": "2024-09-12T19:15:32.063Z"
   },
   {
    "duration": 42,
    "start_time": "2024-09-12T19:15:32.070Z"
   },
   {
    "duration": 10,
    "start_time": "2024-09-12T19:15:32.114Z"
   },
   {
    "duration": 14,
    "start_time": "2024-09-12T19:15:32.127Z"
   },
   {
    "duration": 9,
    "start_time": "2024-09-12T19:15:32.143Z"
   },
   {
    "duration": 60,
    "start_time": "2024-09-12T19:15:32.153Z"
   },
   {
    "duration": 7,
    "start_time": "2024-09-12T19:15:32.217Z"
   },
   {
    "duration": 25,
    "start_time": "2024-09-12T19:15:32.226Z"
   },
   {
    "duration": 16,
    "start_time": "2024-09-12T19:15:32.252Z"
   },
   {
    "duration": 8,
    "start_time": "2024-09-12T19:15:32.269Z"
   },
   {
    "duration": 45,
    "start_time": "2024-09-12T19:15:32.278Z"
   },
   {
    "duration": 9,
    "start_time": "2024-09-12T19:15:32.324Z"
   },
   {
    "duration": 13,
    "start_time": "2024-09-12T19:15:32.335Z"
   },
   {
    "duration": 7,
    "start_time": "2024-09-12T19:15:32.350Z"
   },
   {
    "duration": 10,
    "start_time": "2024-09-12T19:15:32.359Z"
   },
   {
    "duration": 66,
    "start_time": "2024-09-12T19:15:32.374Z"
   },
   {
    "duration": 17,
    "start_time": "2024-09-12T19:15:32.442Z"
   },
   {
    "duration": 14,
    "start_time": "2024-09-12T19:15:32.460Z"
   },
   {
    "duration": 12,
    "start_time": "2024-09-12T19:15:32.476Z"
   },
   {
    "duration": 41,
    "start_time": "2024-09-12T19:15:32.489Z"
   },
   {
    "duration": 14,
    "start_time": "2024-09-12T19:15:32.532Z"
   },
   {
    "duration": 13,
    "start_time": "2024-09-12T19:15:32.547Z"
   },
   {
    "duration": 66,
    "start_time": "2024-09-12T19:15:32.562Z"
   },
   {
    "duration": 37,
    "start_time": "2024-09-12T19:15:32.630Z"
   },
   {
    "duration": 51,
    "start_time": "2024-09-12T19:15:32.668Z"
   },
   {
    "duration": 5,
    "start_time": "2024-09-12T19:15:32.721Z"
   },
   {
    "duration": 17,
    "start_time": "2024-09-12T19:15:32.728Z"
   },
   {
    "duration": 14,
    "start_time": "2024-09-12T19:15:32.746Z"
   },
   {
    "duration": 767,
    "start_time": "2024-09-12T19:15:32.763Z"
   },
   {
    "duration": 0,
    "start_time": "2024-09-12T19:15:33.532Z"
   },
   {
    "duration": 0,
    "start_time": "2024-09-12T19:15:33.533Z"
   },
   {
    "duration": 0,
    "start_time": "2024-09-12T19:15:33.535Z"
   },
   {
    "duration": 0,
    "start_time": "2024-09-12T19:15:33.536Z"
   },
   {
    "duration": 0,
    "start_time": "2024-09-12T19:15:33.538Z"
   },
   {
    "duration": 0,
    "start_time": "2024-09-12T19:15:33.539Z"
   },
   {
    "duration": 0,
    "start_time": "2024-09-12T19:15:33.541Z"
   },
   {
    "duration": 0,
    "start_time": "2024-09-12T19:15:33.542Z"
   },
   {
    "duration": 0,
    "start_time": "2024-09-12T19:15:33.542Z"
   },
   {
    "duration": 0,
    "start_time": "2024-09-12T19:15:33.543Z"
   },
   {
    "duration": 0,
    "start_time": "2024-09-12T19:15:33.544Z"
   },
   {
    "duration": 0,
    "start_time": "2024-09-12T19:15:33.545Z"
   },
   {
    "duration": 0,
    "start_time": "2024-09-12T19:15:33.545Z"
   },
   {
    "duration": 0,
    "start_time": "2024-09-12T19:15:33.546Z"
   },
   {
    "duration": 0,
    "start_time": "2024-09-12T19:15:33.548Z"
   },
   {
    "duration": 0,
    "start_time": "2024-09-12T19:15:33.550Z"
   },
   {
    "duration": 0,
    "start_time": "2024-09-12T19:15:33.551Z"
   },
   {
    "duration": 0,
    "start_time": "2024-09-12T19:15:33.552Z"
   },
   {
    "duration": 0,
    "start_time": "2024-09-12T19:15:33.553Z"
   },
   {
    "duration": 73,
    "start_time": "2024-09-12T19:17:45.052Z"
   },
   {
    "duration": 2808,
    "start_time": "2024-09-12T19:17:49.344Z"
   },
   {
    "duration": 122,
    "start_time": "2024-09-12T19:21:27.659Z"
   },
   {
    "duration": 12,
    "start_time": "2024-09-12T19:22:01.423Z"
   },
   {
    "duration": 14,
    "start_time": "2024-09-12T19:22:08.810Z"
   },
   {
    "duration": 15,
    "start_time": "2024-09-12T19:24:59.471Z"
   },
   {
    "duration": 69,
    "start_time": "2024-09-12T19:27:27.584Z"
   },
   {
    "duration": 19,
    "start_time": "2024-09-12T19:42:25.137Z"
   },
   {
    "duration": 13,
    "start_time": "2024-09-12T19:46:35.038Z"
   },
   {
    "duration": 217,
    "start_time": "2024-09-12T19:46:44.601Z"
   },
   {
    "duration": 11,
    "start_time": "2024-09-12T19:46:57.903Z"
   },
   {
    "duration": 112,
    "start_time": "2024-09-12T19:47:04.593Z"
   },
   {
    "duration": 15,
    "start_time": "2024-09-12T19:47:11.873Z"
   },
   {
    "duration": 13,
    "start_time": "2024-09-12T19:47:14.926Z"
   },
   {
    "duration": 7,
    "start_time": "2024-09-12T19:47:19.085Z"
   },
   {
    "duration": 159,
    "start_time": "2024-09-12T21:10:13.426Z"
   },
   {
    "duration": 15,
    "start_time": "2024-09-12T21:11:33.259Z"
   },
   {
    "duration": 13,
    "start_time": "2024-09-12T21:11:46.596Z"
   },
   {
    "duration": 2503,
    "start_time": "2024-09-12T21:12:02.553Z"
   },
   {
    "duration": 10,
    "start_time": "2024-09-12T21:12:05.057Z"
   },
   {
    "duration": 6,
    "start_time": "2024-09-12T21:12:05.068Z"
   },
   {
    "duration": 52,
    "start_time": "2024-09-12T21:12:05.076Z"
   },
   {
    "duration": 81,
    "start_time": "2024-09-12T21:12:05.130Z"
   },
   {
    "duration": 133,
    "start_time": "2024-09-12T21:12:05.213Z"
   },
   {
    "duration": 15,
    "start_time": "2024-09-12T21:12:05.348Z"
   },
   {
    "duration": 7,
    "start_time": "2024-09-12T21:12:05.364Z"
   },
   {
    "duration": 4,
    "start_time": "2024-09-12T21:12:05.373Z"
   },
   {
    "duration": 5,
    "start_time": "2024-09-12T21:12:05.378Z"
   },
   {
    "duration": 29,
    "start_time": "2024-09-12T21:12:05.384Z"
   },
   {
    "duration": 10,
    "start_time": "2024-09-12T21:12:05.415Z"
   },
   {
    "duration": 5,
    "start_time": "2024-09-12T21:12:05.427Z"
   },
   {
    "duration": 2,
    "start_time": "2024-09-12T21:12:05.436Z"
   },
   {
    "duration": 9,
    "start_time": "2024-09-12T21:12:05.440Z"
   },
   {
    "duration": 68,
    "start_time": "2024-09-12T21:12:05.450Z"
   },
   {
    "duration": 9,
    "start_time": "2024-09-12T21:12:05.520Z"
   },
   {
    "duration": 92,
    "start_time": "2024-09-12T21:12:05.530Z"
   },
   {
    "duration": 6,
    "start_time": "2024-09-12T21:12:05.624Z"
   },
   {
    "duration": 24,
    "start_time": "2024-09-12T21:12:05.632Z"
   },
   {
    "duration": 17,
    "start_time": "2024-09-12T21:12:05.658Z"
   },
   {
    "duration": 7,
    "start_time": "2024-09-12T21:12:05.712Z"
   },
   {
    "duration": 16,
    "start_time": "2024-09-12T21:12:05.721Z"
   },
   {
    "duration": 9,
    "start_time": "2024-09-12T21:12:05.739Z"
   },
   {
    "duration": 64,
    "start_time": "2024-09-12T21:12:05.750Z"
   },
   {
    "duration": 11,
    "start_time": "2024-09-12T21:12:05.815Z"
   },
   {
    "duration": 15,
    "start_time": "2024-09-12T21:12:05.828Z"
   },
   {
    "duration": 95,
    "start_time": "2024-09-12T21:12:05.845Z"
   },
   {
    "duration": 17,
    "start_time": "2024-09-12T21:12:05.942Z"
   },
   {
    "duration": 14,
    "start_time": "2024-09-12T21:12:05.961Z"
   },
   {
    "duration": 35,
    "start_time": "2024-09-12T21:12:05.977Z"
   },
   {
    "duration": 25,
    "start_time": "2024-09-12T21:12:06.014Z"
   },
   {
    "duration": 20,
    "start_time": "2024-09-12T21:12:06.041Z"
   },
   {
    "duration": 14,
    "start_time": "2024-09-12T21:12:06.062Z"
   },
   {
    "duration": 61,
    "start_time": "2024-09-12T21:12:06.077Z"
   },
   {
    "duration": 36,
    "start_time": "2024-09-12T21:12:06.140Z"
   },
   {
    "duration": 60,
    "start_time": "2024-09-12T21:12:06.178Z"
   },
   {
    "duration": 7,
    "start_time": "2024-09-12T21:12:06.239Z"
   },
   {
    "duration": 16,
    "start_time": "2024-09-12T21:12:06.247Z"
   },
   {
    "duration": 12,
    "start_time": "2024-09-12T21:12:06.265Z"
   },
   {
    "duration": 719,
    "start_time": "2024-09-12T21:12:06.281Z"
   },
   {
    "duration": 0,
    "start_time": "2024-09-12T21:12:07.002Z"
   },
   {
    "duration": 0,
    "start_time": "2024-09-12T21:12:07.003Z"
   },
   {
    "duration": 0,
    "start_time": "2024-09-12T21:12:07.005Z"
   },
   {
    "duration": 0,
    "start_time": "2024-09-12T21:12:07.006Z"
   },
   {
    "duration": 0,
    "start_time": "2024-09-12T21:12:07.012Z"
   },
   {
    "duration": 0,
    "start_time": "2024-09-12T21:12:07.013Z"
   },
   {
    "duration": 0,
    "start_time": "2024-09-12T21:12:07.014Z"
   },
   {
    "duration": 0,
    "start_time": "2024-09-12T21:12:07.016Z"
   },
   {
    "duration": 0,
    "start_time": "2024-09-12T21:12:07.017Z"
   },
   {
    "duration": 0,
    "start_time": "2024-09-12T21:12:07.019Z"
   },
   {
    "duration": 0,
    "start_time": "2024-09-12T21:12:07.020Z"
   },
   {
    "duration": 0,
    "start_time": "2024-09-12T21:12:07.022Z"
   },
   {
    "duration": 1,
    "start_time": "2024-09-12T21:12:07.023Z"
   },
   {
    "duration": 0,
    "start_time": "2024-09-12T21:12:07.025Z"
   },
   {
    "duration": 0,
    "start_time": "2024-09-12T21:12:07.026Z"
   },
   {
    "duration": 0,
    "start_time": "2024-09-12T21:12:07.028Z"
   },
   {
    "duration": 1,
    "start_time": "2024-09-12T21:12:07.029Z"
   },
   {
    "duration": 0,
    "start_time": "2024-09-12T21:12:07.031Z"
   },
   {
    "duration": 0,
    "start_time": "2024-09-12T21:12:07.032Z"
   },
   {
    "duration": 2976,
    "start_time": "2024-09-12T22:34:34.924Z"
   },
   {
    "duration": 11,
    "start_time": "2024-09-12T22:34:37.902Z"
   },
   {
    "duration": 9,
    "start_time": "2024-09-12T22:34:37.915Z"
   },
   {
    "duration": 81,
    "start_time": "2024-09-12T22:34:37.926Z"
   },
   {
    "duration": 103,
    "start_time": "2024-09-12T22:34:38.009Z"
   },
   {
    "duration": 142,
    "start_time": "2024-09-12T22:34:38.114Z"
   },
   {
    "duration": 20,
    "start_time": "2024-09-12T22:34:38.261Z"
   },
   {
    "duration": 7,
    "start_time": "2024-09-12T22:34:38.283Z"
   },
   {
    "duration": 6,
    "start_time": "2024-09-12T22:34:38.292Z"
   },
   {
    "duration": 4,
    "start_time": "2024-09-12T22:34:38.301Z"
   },
   {
    "duration": 27,
    "start_time": "2024-09-12T22:34:38.307Z"
   },
   {
    "duration": 9,
    "start_time": "2024-09-12T22:34:38.336Z"
   },
   {
    "duration": 12,
    "start_time": "2024-09-12T22:34:38.346Z"
   },
   {
    "duration": 13,
    "start_time": "2024-09-12T22:34:38.361Z"
   },
   {
    "duration": 10,
    "start_time": "2024-09-12T22:34:38.377Z"
   },
   {
    "duration": 15,
    "start_time": "2024-09-12T22:34:38.389Z"
   },
   {
    "duration": 57,
    "start_time": "2024-09-12T22:34:38.406Z"
   },
   {
    "duration": 32,
    "start_time": "2024-09-12T22:34:38.465Z"
   },
   {
    "duration": 8,
    "start_time": "2024-09-12T22:34:38.498Z"
   },
   {
    "duration": 48,
    "start_time": "2024-09-12T22:34:38.507Z"
   },
   {
    "duration": 17,
    "start_time": "2024-09-12T22:34:38.557Z"
   },
   {
    "duration": 7,
    "start_time": "2024-09-12T22:34:38.576Z"
   },
   {
    "duration": 15,
    "start_time": "2024-09-12T22:34:38.585Z"
   },
   {
    "duration": 9,
    "start_time": "2024-09-12T22:34:38.602Z"
   },
   {
    "duration": 38,
    "start_time": "2024-09-12T22:34:38.612Z"
   },
   {
    "duration": 11,
    "start_time": "2024-09-12T22:34:38.655Z"
   },
   {
    "duration": 10,
    "start_time": "2024-09-12T22:34:38.668Z"
   },
   {
    "duration": 37,
    "start_time": "2024-09-12T22:34:38.682Z"
   },
   {
    "duration": 42,
    "start_time": "2024-09-12T22:34:38.720Z"
   },
   {
    "duration": 15,
    "start_time": "2024-09-12T22:34:38.764Z"
   },
   {
    "duration": 12,
    "start_time": "2024-09-12T22:34:38.781Z"
   },
   {
    "duration": 20,
    "start_time": "2024-09-12T22:34:38.795Z"
   },
   {
    "duration": 47,
    "start_time": "2024-09-12T22:34:38.818Z"
   },
   {
    "duration": 14,
    "start_time": "2024-09-12T22:34:38.867Z"
   },
   {
    "duration": 36,
    "start_time": "2024-09-12T22:34:38.883Z"
   },
   {
    "duration": 51,
    "start_time": "2024-09-12T22:34:38.933Z"
   },
   {
    "duration": 65,
    "start_time": "2024-09-12T22:34:38.986Z"
   },
   {
    "duration": 9,
    "start_time": "2024-09-12T22:34:39.056Z"
   },
   {
    "duration": 18,
    "start_time": "2024-09-12T22:34:39.067Z"
   },
   {
    "duration": 15,
    "start_time": "2024-09-12T22:34:39.087Z"
   },
   {
    "duration": 901,
    "start_time": "2024-09-12T22:34:39.104Z"
   },
   {
    "duration": 0,
    "start_time": "2024-09-12T22:34:40.007Z"
   },
   {
    "duration": 0,
    "start_time": "2024-09-12T22:34:40.008Z"
   },
   {
    "duration": 0,
    "start_time": "2024-09-12T22:34:40.010Z"
   },
   {
    "duration": 0,
    "start_time": "2024-09-12T22:34:40.012Z"
   },
   {
    "duration": 0,
    "start_time": "2024-09-12T22:34:40.013Z"
   },
   {
    "duration": 0,
    "start_time": "2024-09-12T22:34:40.014Z"
   },
   {
    "duration": 0,
    "start_time": "2024-09-12T22:34:40.016Z"
   },
   {
    "duration": 0,
    "start_time": "2024-09-12T22:34:40.030Z"
   },
   {
    "duration": 0,
    "start_time": "2024-09-12T22:34:40.032Z"
   },
   {
    "duration": 0,
    "start_time": "2024-09-12T22:34:40.033Z"
   },
   {
    "duration": 0,
    "start_time": "2024-09-12T22:34:40.035Z"
   },
   {
    "duration": 0,
    "start_time": "2024-09-12T22:34:40.037Z"
   },
   {
    "duration": 0,
    "start_time": "2024-09-12T22:34:40.039Z"
   },
   {
    "duration": 0,
    "start_time": "2024-09-12T22:34:40.040Z"
   },
   {
    "duration": 0,
    "start_time": "2024-09-12T22:34:40.042Z"
   },
   {
    "duration": 0,
    "start_time": "2024-09-12T22:34:40.044Z"
   },
   {
    "duration": 0,
    "start_time": "2024-09-12T22:34:40.045Z"
   },
   {
    "duration": 0,
    "start_time": "2024-09-12T22:34:40.047Z"
   },
   {
    "duration": 0,
    "start_time": "2024-09-12T22:34:40.049Z"
   },
   {
    "duration": 3304,
    "start_time": "2024-09-12T22:34:48.411Z"
   },
   {
    "duration": 246,
    "start_time": "2024-09-12T22:34:51.718Z"
   },
   {
    "duration": 6,
    "start_time": "2024-09-12T22:34:58.313Z"
   },
   {
    "duration": 17,
    "start_time": "2024-09-12T22:35:02.560Z"
   },
   {
    "duration": 13,
    "start_time": "2024-09-12T22:35:06.030Z"
   },
   {
    "duration": 235,
    "start_time": "2024-09-12T22:35:09.193Z"
   },
   {
    "duration": 14,
    "start_time": "2024-09-12T22:35:20.779Z"
   },
   {
    "duration": 12,
    "start_time": "2024-09-12T22:35:23.819Z"
   },
   {
    "duration": 21,
    "start_time": "2024-09-12T22:35:27.738Z"
   },
   {
    "duration": 13,
    "start_time": "2024-09-12T22:35:34.742Z"
   },
   {
    "duration": 20,
    "start_time": "2024-09-12T22:35:37.721Z"
   },
   {
    "duration": 8,
    "start_time": "2024-09-12T22:35:41.460Z"
   },
   {
    "duration": 20,
    "start_time": "2024-09-12T22:35:44.082Z"
   },
   {
    "duration": 13,
    "start_time": "2024-09-12T22:35:46.762Z"
   },
   {
    "duration": 15,
    "start_time": "2024-09-12T22:35:49.447Z"
   },
   {
    "duration": 8,
    "start_time": "2024-09-12T22:35:52.702Z"
   },
   {
    "duration": 8,
    "start_time": "2024-09-12T22:41:28.257Z"
   },
   {
    "duration": 7,
    "start_time": "2024-09-12T22:41:37.362Z"
   },
   {
    "duration": 230,
    "start_time": "2024-09-12T22:42:51.679Z"
   },
   {
    "duration": 7,
    "start_time": "2024-09-12T22:43:42.588Z"
   },
   {
    "duration": 233,
    "start_time": "2024-09-12T22:43:49.043Z"
   },
   {
    "duration": 300,
    "start_time": "2024-09-12T22:44:49.488Z"
   },
   {
    "duration": 924,
    "start_time": "2024-09-12T22:45:25.341Z"
   },
   {
    "duration": 8,
    "start_time": "2024-09-12T22:45:26.268Z"
   },
   {
    "duration": 4,
    "start_time": "2024-09-12T22:45:26.278Z"
   },
   {
    "duration": 32,
    "start_time": "2024-09-12T22:45:26.285Z"
   },
   {
    "duration": 80,
    "start_time": "2024-09-12T22:45:26.319Z"
   },
   {
    "duration": 86,
    "start_time": "2024-09-12T22:45:26.401Z"
   },
   {
    "duration": 17,
    "start_time": "2024-09-12T22:45:26.488Z"
   },
   {
    "duration": 6,
    "start_time": "2024-09-12T22:45:26.507Z"
   },
   {
    "duration": 27,
    "start_time": "2024-09-12T22:45:26.515Z"
   },
   {
    "duration": 17,
    "start_time": "2024-09-12T22:45:26.546Z"
   },
   {
    "duration": 16,
    "start_time": "2024-09-12T22:45:26.564Z"
   },
   {
    "duration": 8,
    "start_time": "2024-09-12T22:45:26.582Z"
   },
   {
    "duration": 5,
    "start_time": "2024-09-12T22:45:26.592Z"
   },
   {
    "duration": 3,
    "start_time": "2024-09-12T22:45:26.598Z"
   },
   {
    "duration": 47,
    "start_time": "2024-09-12T22:45:26.603Z"
   },
   {
    "duration": 18,
    "start_time": "2024-09-12T22:45:26.652Z"
   },
   {
    "duration": 9,
    "start_time": "2024-09-12T22:45:26.671Z"
   },
   {
    "duration": 30,
    "start_time": "2024-09-12T22:45:26.681Z"
   },
   {
    "duration": 23,
    "start_time": "2024-09-12T22:45:26.713Z"
   },
   {
    "duration": 37,
    "start_time": "2024-09-12T22:45:26.739Z"
   },
   {
    "duration": 16,
    "start_time": "2024-09-12T22:45:26.779Z"
   },
   {
    "duration": 7,
    "start_time": "2024-09-12T22:45:26.796Z"
   },
   {
    "duration": 50,
    "start_time": "2024-09-12T22:45:26.804Z"
   },
   {
    "duration": 10,
    "start_time": "2024-09-12T22:45:26.857Z"
   },
   {
    "duration": 14,
    "start_time": "2024-09-12T22:45:26.868Z"
   },
   {
    "duration": 8,
    "start_time": "2024-09-12T22:45:26.883Z"
   },
   {
    "duration": 9,
    "start_time": "2024-09-12T22:45:26.893Z"
   },
   {
    "duration": 69,
    "start_time": "2024-09-12T22:45:26.907Z"
   },
   {
    "duration": 17,
    "start_time": "2024-09-12T22:45:26.979Z"
   },
   {
    "duration": 16,
    "start_time": "2024-09-12T22:45:26.998Z"
   },
   {
    "duration": 37,
    "start_time": "2024-09-12T22:45:27.015Z"
   },
   {
    "duration": 23,
    "start_time": "2024-09-12T22:45:27.054Z"
   },
   {
    "duration": 14,
    "start_time": "2024-09-12T22:45:27.080Z"
   },
   {
    "duration": 13,
    "start_time": "2024-09-12T22:45:27.095Z"
   },
   {
    "duration": 75,
    "start_time": "2024-09-12T22:45:27.109Z"
   },
   {
    "duration": 60,
    "start_time": "2024-09-12T22:45:27.186Z"
   },
   {
    "duration": 44,
    "start_time": "2024-09-12T22:45:27.249Z"
   },
   {
    "duration": 6,
    "start_time": "2024-09-12T22:45:27.295Z"
   },
   {
    "duration": 17,
    "start_time": "2024-09-12T22:45:27.302Z"
   },
   {
    "duration": 902,
    "start_time": "2024-09-12T22:45:27.320Z"
   },
   {
    "duration": 0,
    "start_time": "2024-09-12T22:45:28.236Z"
   },
   {
    "duration": 0,
    "start_time": "2024-09-12T22:45:28.238Z"
   },
   {
    "duration": 0,
    "start_time": "2024-09-12T22:45:28.250Z"
   },
   {
    "duration": 0,
    "start_time": "2024-09-12T22:45:28.252Z"
   },
   {
    "duration": 0,
    "start_time": "2024-09-12T22:45:28.253Z"
   },
   {
    "duration": 0,
    "start_time": "2024-09-12T22:45:28.255Z"
   },
   {
    "duration": 0,
    "start_time": "2024-09-12T22:45:28.256Z"
   },
   {
    "duration": 0,
    "start_time": "2024-09-12T22:45:28.257Z"
   },
   {
    "duration": 0,
    "start_time": "2024-09-12T22:45:28.259Z"
   },
   {
    "duration": 0,
    "start_time": "2024-09-12T22:45:28.260Z"
   },
   {
    "duration": 0,
    "start_time": "2024-09-12T22:45:28.261Z"
   },
   {
    "duration": 0,
    "start_time": "2024-09-12T22:45:28.262Z"
   },
   {
    "duration": 0,
    "start_time": "2024-09-12T22:45:28.264Z"
   },
   {
    "duration": 0,
    "start_time": "2024-09-12T22:45:28.265Z"
   },
   {
    "duration": 0,
    "start_time": "2024-09-12T22:45:28.266Z"
   },
   {
    "duration": 0,
    "start_time": "2024-09-12T22:45:28.268Z"
   },
   {
    "duration": 0,
    "start_time": "2024-09-12T22:45:28.269Z"
   },
   {
    "duration": 0,
    "start_time": "2024-09-12T22:45:28.270Z"
   },
   {
    "duration": 63,
    "start_time": "2024-09-12T22:46:58.517Z"
   },
   {
    "duration": 18,
    "start_time": "2024-09-12T22:55:43.955Z"
   },
   {
    "duration": 81,
    "start_time": "2024-09-12T22:55:49.825Z"
   },
   {
    "duration": 17,
    "start_time": "2024-09-12T22:55:59.763Z"
   },
   {
    "duration": 88,
    "start_time": "2024-09-12T22:56:02.999Z"
   },
   {
    "duration": 18,
    "start_time": "2024-09-12T22:56:07.706Z"
   },
   {
    "duration": 25,
    "start_time": "2024-09-12T22:56:20.341Z"
   },
   {
    "duration": 22,
    "start_time": "2024-09-12T22:56:34.764Z"
   },
   {
    "duration": 55,
    "start_time": "2024-09-12T22:56:49.583Z"
   },
   {
    "duration": 43,
    "start_time": "2024-09-12T22:57:18.625Z"
   },
   {
    "duration": 18,
    "start_time": "2024-09-12T22:58:24.513Z"
   },
   {
    "duration": 41,
    "start_time": "2024-09-12T22:58:28.027Z"
   },
   {
    "duration": 72,
    "start_time": "2024-09-12T22:58:31.529Z"
   },
   {
    "duration": 901,
    "start_time": "2024-09-12T22:59:03.765Z"
   },
   {
    "duration": 10,
    "start_time": "2024-09-12T22:59:04.668Z"
   },
   {
    "duration": 6,
    "start_time": "2024-09-12T22:59:04.679Z"
   },
   {
    "duration": 34,
    "start_time": "2024-09-12T22:59:04.687Z"
   },
   {
    "duration": 70,
    "start_time": "2024-09-12T22:59:04.731Z"
   },
   {
    "duration": 89,
    "start_time": "2024-09-12T22:59:04.803Z"
   },
   {
    "duration": 17,
    "start_time": "2024-09-12T22:59:04.893Z"
   },
   {
    "duration": 20,
    "start_time": "2024-09-12T22:59:04.911Z"
   },
   {
    "duration": 5,
    "start_time": "2024-09-12T22:59:04.933Z"
   },
   {
    "duration": 6,
    "start_time": "2024-09-12T22:59:04.943Z"
   },
   {
    "duration": 23,
    "start_time": "2024-09-12T22:59:04.950Z"
   },
   {
    "duration": 8,
    "start_time": "2024-09-12T22:59:04.975Z"
   },
   {
    "duration": 7,
    "start_time": "2024-09-12T22:59:04.985Z"
   },
   {
    "duration": 3,
    "start_time": "2024-09-12T22:59:04.993Z"
   },
   {
    "duration": 44,
    "start_time": "2024-09-12T22:59:04.998Z"
   },
   {
    "duration": 26,
    "start_time": "2024-09-12T22:59:05.044Z"
   },
   {
    "duration": 8,
    "start_time": "2024-09-12T22:59:05.071Z"
   },
   {
    "duration": 30,
    "start_time": "2024-09-12T22:59:05.081Z"
   },
   {
    "duration": 10,
    "start_time": "2024-09-12T22:59:05.131Z"
   },
   {
    "duration": 36,
    "start_time": "2024-09-12T22:59:05.143Z"
   },
   {
    "duration": 16,
    "start_time": "2024-09-12T22:59:05.181Z"
   },
   {
    "duration": 7,
    "start_time": "2024-09-12T22:59:05.198Z"
   },
   {
    "duration": 29,
    "start_time": "2024-09-12T22:59:05.236Z"
   },
   {
    "duration": 11,
    "start_time": "2024-09-12T22:59:05.267Z"
   },
   {
    "duration": 13,
    "start_time": "2024-09-12T22:59:05.279Z"
   },
   {
    "duration": 8,
    "start_time": "2024-09-12T22:59:05.293Z"
   },
   {
    "duration": 52,
    "start_time": "2024-09-12T22:59:05.302Z"
   },
   {
    "duration": 36,
    "start_time": "2024-09-12T22:59:05.361Z"
   },
   {
    "duration": 17,
    "start_time": "2024-09-12T22:59:05.399Z"
   },
   {
    "duration": 24,
    "start_time": "2024-09-12T22:59:05.418Z"
   },
   {
    "duration": 17,
    "start_time": "2024-09-12T22:59:05.444Z"
   },
   {
    "duration": 20,
    "start_time": "2024-09-12T22:59:05.464Z"
   },
   {
    "duration": 16,
    "start_time": "2024-09-12T22:59:05.486Z"
   },
   {
    "duration": 33,
    "start_time": "2024-09-12T22:59:05.504Z"
   },
   {
    "duration": 48,
    "start_time": "2024-09-12T22:59:05.540Z"
   },
   {
    "duration": 59,
    "start_time": "2024-09-12T22:59:05.589Z"
   },
   {
    "duration": 56,
    "start_time": "2024-09-12T22:59:05.650Z"
   },
   {
    "duration": 6,
    "start_time": "2024-09-12T22:59:05.708Z"
   },
   {
    "duration": 24,
    "start_time": "2024-09-12T22:59:05.715Z"
   },
   {
    "duration": 36,
    "start_time": "2024-09-12T22:59:05.741Z"
   },
   {
    "duration": 27,
    "start_time": "2024-09-12T22:59:05.779Z"
   },
   {
    "duration": 842,
    "start_time": "2024-09-12T22:59:05.808Z"
   },
   {
    "duration": 0,
    "start_time": "2024-09-12T22:59:06.655Z"
   },
   {
    "duration": 0,
    "start_time": "2024-09-12T22:59:06.656Z"
   },
   {
    "duration": 0,
    "start_time": "2024-09-12T22:59:06.657Z"
   },
   {
    "duration": 0,
    "start_time": "2024-09-12T22:59:06.658Z"
   },
   {
    "duration": 0,
    "start_time": "2024-09-12T22:59:06.662Z"
   },
   {
    "duration": 0,
    "start_time": "2024-09-12T22:59:06.665Z"
   },
   {
    "duration": 0,
    "start_time": "2024-09-12T22:59:06.666Z"
   },
   {
    "duration": 0,
    "start_time": "2024-09-12T22:59:06.667Z"
   },
   {
    "duration": 0,
    "start_time": "2024-09-12T22:59:06.668Z"
   },
   {
    "duration": 0,
    "start_time": "2024-09-12T22:59:06.669Z"
   },
   {
    "duration": 0,
    "start_time": "2024-09-12T22:59:06.670Z"
   },
   {
    "duration": 0,
    "start_time": "2024-09-12T22:59:06.671Z"
   },
   {
    "duration": 0,
    "start_time": "2024-09-12T22:59:06.673Z"
   },
   {
    "duration": 0,
    "start_time": "2024-09-12T22:59:06.674Z"
   },
   {
    "duration": 0,
    "start_time": "2024-09-12T22:59:06.675Z"
   },
   {
    "duration": 0,
    "start_time": "2024-09-12T22:59:06.677Z"
   },
   {
    "duration": 0,
    "start_time": "2024-09-12T22:59:06.678Z"
   },
   {
    "duration": 0,
    "start_time": "2024-09-12T22:59:06.679Z"
   },
   {
    "duration": 228,
    "start_time": "2024-09-12T23:00:16.874Z"
   },
   {
    "duration": 227,
    "start_time": "2024-09-12T23:00:36.674Z"
   },
   {
    "duration": 77,
    "start_time": "2024-09-12T23:06:25.002Z"
   },
   {
    "duration": 462,
    "start_time": "2024-09-12T23:08:00.756Z"
   },
   {
    "duration": 51,
    "start_time": "2024-09-12T23:08:09.924Z"
   },
   {
    "duration": 48,
    "start_time": "2024-09-12T23:11:52.775Z"
   },
   {
    "duration": 38,
    "start_time": "2024-09-12T23:13:32.756Z"
   },
   {
    "duration": 36,
    "start_time": "2024-09-12T23:16:20.984Z"
   },
   {
    "duration": 35,
    "start_time": "2024-09-12T23:17:16.184Z"
   },
   {
    "duration": 36,
    "start_time": "2024-09-12T23:17:32.856Z"
   },
   {
    "duration": 40,
    "start_time": "2024-09-12T23:17:40.098Z"
   },
   {
    "duration": 8,
    "start_time": "2024-09-12T23:18:59.940Z"
   },
   {
    "duration": 35,
    "start_time": "2024-09-12T23:19:22.091Z"
   },
   {
    "duration": 57,
    "start_time": "2024-09-12T23:19:39.326Z"
   },
   {
    "duration": 78,
    "start_time": "2024-09-12T23:19:47.810Z"
   },
   {
    "duration": 2,
    "start_time": "2024-09-12T23:21:06.126Z"
   },
   {
    "duration": 864,
    "start_time": "2024-09-12T23:21:26.482Z"
   },
   {
    "duration": 8,
    "start_time": "2024-09-12T23:21:27.360Z"
   },
   {
    "duration": 5,
    "start_time": "2024-09-12T23:21:27.370Z"
   },
   {
    "duration": 35,
    "start_time": "2024-09-12T23:21:27.378Z"
   },
   {
    "duration": 72,
    "start_time": "2024-09-12T23:21:27.416Z"
   },
   {
    "duration": 94,
    "start_time": "2024-09-12T23:21:27.489Z"
   },
   {
    "duration": 16,
    "start_time": "2024-09-12T23:21:27.585Z"
   },
   {
    "duration": 8,
    "start_time": "2024-09-12T23:21:27.602Z"
   },
   {
    "duration": 5,
    "start_time": "2024-09-12T23:21:27.611Z"
   },
   {
    "duration": 10,
    "start_time": "2024-09-12T23:21:27.631Z"
   },
   {
    "duration": 33,
    "start_time": "2024-09-12T23:21:27.644Z"
   },
   {
    "duration": 10,
    "start_time": "2024-09-12T23:21:27.679Z"
   },
   {
    "duration": 6,
    "start_time": "2024-09-12T23:21:27.691Z"
   },
   {
    "duration": 3,
    "start_time": "2024-09-12T23:21:27.701Z"
   },
   {
    "duration": 33,
    "start_time": "2024-09-12T23:21:27.705Z"
   },
   {
    "duration": 30,
    "start_time": "2024-09-12T23:21:27.740Z"
   },
   {
    "duration": 11,
    "start_time": "2024-09-12T23:21:27.773Z"
   },
   {
    "duration": 31,
    "start_time": "2024-09-12T23:21:27.785Z"
   },
   {
    "duration": 31,
    "start_time": "2024-09-12T23:21:27.818Z"
   },
   {
    "duration": 31,
    "start_time": "2024-09-12T23:21:27.855Z"
   },
   {
    "duration": 16,
    "start_time": "2024-09-12T23:21:27.887Z"
   },
   {
    "duration": 7,
    "start_time": "2024-09-12T23:21:27.905Z"
   },
   {
    "duration": 34,
    "start_time": "2024-09-12T23:21:27.913Z"
   },
   {
    "duration": 15,
    "start_time": "2024-09-12T23:21:27.949Z"
   },
   {
    "duration": 18,
    "start_time": "2024-09-12T23:21:27.966Z"
   },
   {
    "duration": 8,
    "start_time": "2024-09-12T23:21:27.985Z"
   },
   {
    "duration": 10,
    "start_time": "2024-09-12T23:21:27.995Z"
   },
   {
    "duration": 85,
    "start_time": "2024-09-12T23:21:28.006Z"
   },
   {
    "duration": 22,
    "start_time": "2024-09-12T23:21:28.093Z"
   },
   {
    "duration": 36,
    "start_time": "2024-09-12T23:21:28.117Z"
   },
   {
    "duration": 18,
    "start_time": "2024-09-12T23:21:28.155Z"
   },
   {
    "duration": 24,
    "start_time": "2024-09-12T23:21:28.175Z"
   },
   {
    "duration": 40,
    "start_time": "2024-09-12T23:21:28.201Z"
   },
   {
    "duration": 24,
    "start_time": "2024-09-12T23:21:28.243Z"
   },
   {
    "duration": 45,
    "start_time": "2024-09-12T23:21:28.269Z"
   },
   {
    "duration": 356,
    "start_time": "2024-09-12T23:21:28.315Z"
   },
   {
    "duration": 0,
    "start_time": "2024-09-12T23:21:28.674Z"
   },
   {
    "duration": 0,
    "start_time": "2024-09-12T23:21:28.675Z"
   },
   {
    "duration": 0,
    "start_time": "2024-09-12T23:21:28.676Z"
   },
   {
    "duration": 0,
    "start_time": "2024-09-12T23:21:28.677Z"
   },
   {
    "duration": 0,
    "start_time": "2024-09-12T23:21:28.678Z"
   },
   {
    "duration": 0,
    "start_time": "2024-09-12T23:21:28.680Z"
   },
   {
    "duration": 0,
    "start_time": "2024-09-12T23:21:28.680Z"
   },
   {
    "duration": 0,
    "start_time": "2024-09-12T23:21:28.681Z"
   },
   {
    "duration": 0,
    "start_time": "2024-09-12T23:21:28.682Z"
   },
   {
    "duration": 0,
    "start_time": "2024-09-12T23:21:28.683Z"
   },
   {
    "duration": 0,
    "start_time": "2024-09-12T23:21:28.684Z"
   },
   {
    "duration": 0,
    "start_time": "2024-09-12T23:21:28.685Z"
   },
   {
    "duration": 0,
    "start_time": "2024-09-12T23:21:28.686Z"
   },
   {
    "duration": 0,
    "start_time": "2024-09-12T23:21:28.687Z"
   },
   {
    "duration": 0,
    "start_time": "2024-09-12T23:21:28.689Z"
   },
   {
    "duration": 0,
    "start_time": "2024-09-12T23:21:28.689Z"
   },
   {
    "duration": 0,
    "start_time": "2024-09-12T23:21:28.690Z"
   },
   {
    "duration": 0,
    "start_time": "2024-09-12T23:21:28.691Z"
   },
   {
    "duration": 0,
    "start_time": "2024-09-12T23:21:28.692Z"
   },
   {
    "duration": 0,
    "start_time": "2024-09-12T23:21:28.693Z"
   },
   {
    "duration": 0,
    "start_time": "2024-09-12T23:21:28.694Z"
   },
   {
    "duration": 0,
    "start_time": "2024-09-12T23:21:28.695Z"
   },
   {
    "duration": 0,
    "start_time": "2024-09-12T23:21:28.696Z"
   },
   {
    "duration": 0,
    "start_time": "2024-09-12T23:21:28.733Z"
   },
   {
    "duration": 21,
    "start_time": "2024-09-12T23:22:53.918Z"
   },
   {
    "duration": 57,
    "start_time": "2024-09-12T23:23:41.808Z"
   },
   {
    "duration": 539,
    "start_time": "2024-09-12T23:25:53.785Z"
   },
   {
    "duration": 25,
    "start_time": "2024-09-12T23:26:27.579Z"
   },
   {
    "duration": 59,
    "start_time": "2024-09-12T23:31:14.331Z"
   },
   {
    "duration": 6,
    "start_time": "2024-09-12T23:31:43.102Z"
   },
   {
    "duration": 17,
    "start_time": "2024-09-12T23:31:51.686Z"
   },
   {
    "duration": 18,
    "start_time": "2024-09-12T23:31:56.098Z"
   },
   {
    "duration": 28,
    "start_time": "2024-09-12T23:32:04.055Z"
   },
   {
    "duration": 75,
    "start_time": "2024-09-12T23:32:10.029Z"
   },
   {
    "duration": 185,
    "start_time": "2024-09-12T23:33:36.218Z"
   },
   {
    "duration": 193,
    "start_time": "2024-09-12T23:34:16.320Z"
   },
   {
    "duration": 37,
    "start_time": "2024-09-12T23:35:06.342Z"
   },
   {
    "duration": 881,
    "start_time": "2024-09-12T23:35:14.196Z"
   },
   {
    "duration": 8,
    "start_time": "2024-09-12T23:35:15.079Z"
   },
   {
    "duration": 6,
    "start_time": "2024-09-12T23:35:15.090Z"
   },
   {
    "duration": 62,
    "start_time": "2024-09-12T23:35:15.098Z"
   },
   {
    "duration": 58,
    "start_time": "2024-09-12T23:35:15.162Z"
   },
   {
    "duration": 88,
    "start_time": "2024-09-12T23:35:15.222Z"
   },
   {
    "duration": 16,
    "start_time": "2024-09-12T23:35:15.312Z"
   },
   {
    "duration": 14,
    "start_time": "2024-09-12T23:35:15.335Z"
   },
   {
    "duration": 7,
    "start_time": "2024-09-12T23:35:15.351Z"
   },
   {
    "duration": 14,
    "start_time": "2024-09-12T23:35:15.362Z"
   },
   {
    "duration": 13,
    "start_time": "2024-09-12T23:35:15.378Z"
   },
   {
    "duration": 7,
    "start_time": "2024-09-12T23:35:15.394Z"
   },
   {
    "duration": 6,
    "start_time": "2024-09-12T23:35:15.402Z"
   },
   {
    "duration": 35,
    "start_time": "2024-09-12T23:35:15.410Z"
   },
   {
    "duration": 18,
    "start_time": "2024-09-12T23:35:15.447Z"
   },
   {
    "duration": 15,
    "start_time": "2024-09-12T23:35:15.467Z"
   },
   {
    "duration": 9,
    "start_time": "2024-09-12T23:35:15.484Z"
   },
   {
    "duration": 64,
    "start_time": "2024-09-12T23:35:15.495Z"
   },
   {
    "duration": 9,
    "start_time": "2024-09-12T23:35:15.561Z"
   },
   {
    "duration": 26,
    "start_time": "2024-09-12T23:35:15.572Z"
   },
   {
    "duration": 15,
    "start_time": "2024-09-12T23:35:15.600Z"
   },
   {
    "duration": 17,
    "start_time": "2024-09-12T23:35:15.617Z"
   },
   {
    "duration": 27,
    "start_time": "2024-09-12T23:35:15.639Z"
   },
   {
    "duration": 9,
    "start_time": "2024-09-12T23:35:15.670Z"
   },
   {
    "duration": 13,
    "start_time": "2024-09-12T23:35:15.680Z"
   },
   {
    "duration": 8,
    "start_time": "2024-09-12T23:35:15.695Z"
   },
   {
    "duration": 37,
    "start_time": "2024-09-12T23:35:15.704Z"
   },
   {
    "duration": 49,
    "start_time": "2024-09-12T23:35:15.747Z"
   },
   {
    "duration": 17,
    "start_time": "2024-09-12T23:35:15.798Z"
   },
   {
    "duration": 45,
    "start_time": "2024-09-12T23:35:15.816Z"
   },
   {
    "duration": 14,
    "start_time": "2024-09-12T23:35:15.863Z"
   },
   {
    "duration": 19,
    "start_time": "2024-09-12T23:35:15.878Z"
   },
   {
    "duration": 14,
    "start_time": "2024-09-12T23:35:15.899Z"
   },
   {
    "duration": 46,
    "start_time": "2024-09-12T23:35:15.914Z"
   },
   {
    "duration": 38,
    "start_time": "2024-09-12T23:35:15.962Z"
   },
   {
    "duration": 65,
    "start_time": "2024-09-12T23:35:16.002Z"
   },
   {
    "duration": 33,
    "start_time": "2024-09-12T23:35:16.069Z"
   },
   {
    "duration": 6,
    "start_time": "2024-09-12T23:35:16.104Z"
   },
   {
    "duration": 36,
    "start_time": "2024-09-12T23:35:16.111Z"
   },
   {
    "duration": 33,
    "start_time": "2024-09-12T23:35:16.149Z"
   },
   {
    "duration": 26,
    "start_time": "2024-09-12T23:35:16.184Z"
   },
   {
    "duration": 269,
    "start_time": "2024-09-12T23:35:16.211Z"
   },
   {
    "duration": 219,
    "start_time": "2024-09-12T23:35:16.482Z"
   },
   {
    "duration": 5,
    "start_time": "2024-09-12T23:35:16.702Z"
   },
   {
    "duration": 27,
    "start_time": "2024-09-12T23:35:16.709Z"
   },
   {
    "duration": 22,
    "start_time": "2024-09-12T23:35:16.743Z"
   },
   {
    "duration": 115,
    "start_time": "2024-09-12T23:35:16.766Z"
   },
   {
    "duration": 13,
    "start_time": "2024-09-12T23:35:16.883Z"
   },
   {
    "duration": 11,
    "start_time": "2024-09-12T23:35:16.898Z"
   },
   {
    "duration": 7,
    "start_time": "2024-09-12T23:35:16.910Z"
   },
   {
    "duration": 30,
    "start_time": "2024-09-12T23:35:16.918Z"
   },
   {
    "duration": 20,
    "start_time": "2024-09-12T23:35:16.950Z"
   },
   {
    "duration": 8,
    "start_time": "2024-09-12T23:35:16.972Z"
   },
   {
    "duration": 18,
    "start_time": "2024-09-12T23:35:16.982Z"
   },
   {
    "duration": 59,
    "start_time": "2024-09-12T23:35:17.001Z"
   },
   {
    "duration": 11,
    "start_time": "2024-09-12T23:35:17.062Z"
   },
   {
    "duration": 7,
    "start_time": "2024-09-12T23:35:17.076Z"
   },
   {
    "duration": 24,
    "start_time": "2024-09-12T23:35:17.085Z"
   },
   {
    "duration": 5,
    "start_time": "2024-09-12T23:35:17.111Z"
   },
   {
    "duration": 19,
    "start_time": "2024-09-12T23:35:17.117Z"
   },
   {
    "duration": 5,
    "start_time": "2024-09-12T23:38:01.947Z"
   },
   {
    "duration": 936,
    "start_time": "2024-09-12T23:38:09.329Z"
   },
   {
    "duration": 8,
    "start_time": "2024-09-12T23:38:10.268Z"
   },
   {
    "duration": 6,
    "start_time": "2024-09-12T23:38:10.278Z"
   },
   {
    "duration": 33,
    "start_time": "2024-09-12T23:38:10.286Z"
   },
   {
    "duration": 71,
    "start_time": "2024-09-12T23:38:10.332Z"
   },
   {
    "duration": 94,
    "start_time": "2024-09-12T23:38:10.405Z"
   },
   {
    "duration": 17,
    "start_time": "2024-09-12T23:38:10.500Z"
   },
   {
    "duration": 19,
    "start_time": "2024-09-12T23:38:10.542Z"
   },
   {
    "duration": 6,
    "start_time": "2024-09-12T23:38:10.563Z"
   },
   {
    "duration": 6,
    "start_time": "2024-09-12T23:38:10.572Z"
   },
   {
    "duration": 14,
    "start_time": "2024-09-12T23:38:10.579Z"
   },
   {
    "duration": 7,
    "start_time": "2024-09-12T23:38:10.594Z"
   },
   {
    "duration": 5,
    "start_time": "2024-09-12T23:38:10.603Z"
   },
   {
    "duration": 3,
    "start_time": "2024-09-12T23:38:10.610Z"
   },
   {
    "duration": 47,
    "start_time": "2024-09-12T23:38:10.614Z"
   },
   {
    "duration": 16,
    "start_time": "2024-09-12T23:38:10.663Z"
   },
   {
    "duration": 7,
    "start_time": "2024-09-12T23:38:10.681Z"
   },
   {
    "duration": 47,
    "start_time": "2024-09-12T23:38:10.690Z"
   },
   {
    "duration": 17,
    "start_time": "2024-09-12T23:38:10.741Z"
   },
   {
    "duration": 27,
    "start_time": "2024-09-12T23:38:10.763Z"
   },
   {
    "duration": 16,
    "start_time": "2024-09-12T23:38:10.791Z"
   },
   {
    "duration": 7,
    "start_time": "2024-09-12T23:38:10.809Z"
   },
   {
    "duration": 41,
    "start_time": "2024-09-12T23:38:10.817Z"
   },
   {
    "duration": 13,
    "start_time": "2024-09-12T23:38:10.860Z"
   },
   {
    "duration": 15,
    "start_time": "2024-09-12T23:38:10.875Z"
   },
   {
    "duration": 8,
    "start_time": "2024-09-12T23:38:10.891Z"
   },
   {
    "duration": 55,
    "start_time": "2024-09-12T23:38:10.901Z"
   },
   {
    "duration": 42,
    "start_time": "2024-09-12T23:38:10.960Z"
   },
   {
    "duration": 17,
    "start_time": "2024-09-12T23:38:11.004Z"
   },
   {
    "duration": 29,
    "start_time": "2024-09-12T23:38:11.023Z"
   },
   {
    "duration": 18,
    "start_time": "2024-09-12T23:38:11.054Z"
   },
   {
    "duration": 21,
    "start_time": "2024-09-12T23:38:11.074Z"
   },
   {
    "duration": 15,
    "start_time": "2024-09-12T23:38:11.097Z"
   },
   {
    "duration": 39,
    "start_time": "2024-09-12T23:38:11.114Z"
   },
   {
    "duration": 48,
    "start_time": "2024-09-12T23:38:11.156Z"
   },
   {
    "duration": 77,
    "start_time": "2024-09-12T23:38:11.206Z"
   },
   {
    "duration": 32,
    "start_time": "2024-09-12T23:38:11.285Z"
   },
   {
    "duration": 5,
    "start_time": "2024-09-12T23:38:11.318Z"
   },
   {
    "duration": 43,
    "start_time": "2024-09-12T23:38:11.325Z"
   },
   {
    "duration": 3,
    "start_time": "2024-09-12T23:38:11.370Z"
   },
   {
    "duration": 27,
    "start_time": "2024-09-12T23:38:11.374Z"
   },
   {
    "duration": 275,
    "start_time": "2024-09-12T23:38:11.403Z"
   },
   {
    "duration": 214,
    "start_time": "2024-09-12T23:38:11.679Z"
   },
   {
    "duration": 263,
    "start_time": "2024-09-12T23:38:11.894Z"
   },
   {
    "duration": 0,
    "start_time": "2024-09-12T23:38:12.159Z"
   },
   {
    "duration": 0,
    "start_time": "2024-09-12T23:38:12.160Z"
   },
   {
    "duration": 0,
    "start_time": "2024-09-12T23:38:12.161Z"
   },
   {
    "duration": 0,
    "start_time": "2024-09-12T23:38:12.162Z"
   },
   {
    "duration": 1,
    "start_time": "2024-09-12T23:38:12.163Z"
   },
   {
    "duration": 0,
    "start_time": "2024-09-12T23:38:12.164Z"
   },
   {
    "duration": 0,
    "start_time": "2024-09-12T23:38:12.170Z"
   },
   {
    "duration": 0,
    "start_time": "2024-09-12T23:38:12.171Z"
   },
   {
    "duration": 0,
    "start_time": "2024-09-12T23:38:12.172Z"
   },
   {
    "duration": 0,
    "start_time": "2024-09-12T23:38:12.173Z"
   },
   {
    "duration": 0,
    "start_time": "2024-09-12T23:38:12.174Z"
   },
   {
    "duration": 0,
    "start_time": "2024-09-12T23:38:12.175Z"
   },
   {
    "duration": 0,
    "start_time": "2024-09-12T23:38:12.177Z"
   },
   {
    "duration": 0,
    "start_time": "2024-09-12T23:38:12.178Z"
   },
   {
    "duration": 0,
    "start_time": "2024-09-12T23:38:12.179Z"
   },
   {
    "duration": 0,
    "start_time": "2024-09-12T23:38:12.180Z"
   },
   {
    "duration": 21,
    "start_time": "2024-09-12T23:42:24.184Z"
   },
   {
    "duration": 31,
    "start_time": "2024-09-12T23:43:03.236Z"
   },
   {
    "duration": 503,
    "start_time": "2024-09-12T23:43:09.316Z"
   },
   {
    "duration": 29,
    "start_time": "2024-09-12T23:43:38.945Z"
   },
   {
    "duration": 364,
    "start_time": "2024-09-12T23:44:38.759Z"
   },
   {
    "duration": 70,
    "start_time": "2024-09-12T23:45:04.956Z"
   },
   {
    "duration": 899,
    "start_time": "2024-09-12T23:45:17.651Z"
   },
   {
    "duration": 18,
    "start_time": "2024-09-12T23:45:18.552Z"
   },
   {
    "duration": 5,
    "start_time": "2024-09-12T23:45:18.572Z"
   },
   {
    "duration": 34,
    "start_time": "2024-09-12T23:45:18.580Z"
   },
   {
    "duration": 77,
    "start_time": "2024-09-12T23:45:18.616Z"
   },
   {
    "duration": 86,
    "start_time": "2024-09-12T23:45:18.694Z"
   },
   {
    "duration": 16,
    "start_time": "2024-09-12T23:45:18.782Z"
   },
   {
    "duration": 7,
    "start_time": "2024-09-12T23:45:18.800Z"
   },
   {
    "duration": 5,
    "start_time": "2024-09-12T23:45:18.808Z"
   },
   {
    "duration": 5,
    "start_time": "2024-09-12T23:45:18.816Z"
   },
   {
    "duration": 32,
    "start_time": "2024-09-12T23:45:18.832Z"
   },
   {
    "duration": 10,
    "start_time": "2024-09-12T23:45:18.868Z"
   },
   {
    "duration": 6,
    "start_time": "2024-09-12T23:45:18.880Z"
   },
   {
    "duration": 3,
    "start_time": "2024-09-12T23:45:18.888Z"
   },
   {
    "duration": 9,
    "start_time": "2024-09-12T23:45:18.893Z"
   },
   {
    "duration": 47,
    "start_time": "2024-09-12T23:45:18.903Z"
   },
   {
    "duration": 19,
    "start_time": "2024-09-12T23:45:18.952Z"
   },
   {
    "duration": 37,
    "start_time": "2024-09-12T23:45:18.973Z"
   },
   {
    "duration": 7,
    "start_time": "2024-09-12T23:45:19.012Z"
   },
   {
    "duration": 41,
    "start_time": "2024-09-12T23:45:19.030Z"
   },
   {
    "duration": 16,
    "start_time": "2024-09-12T23:45:19.073Z"
   },
   {
    "duration": 6,
    "start_time": "2024-09-12T23:45:19.092Z"
   },
   {
    "duration": 50,
    "start_time": "2024-09-12T23:45:19.099Z"
   },
   {
    "duration": 14,
    "start_time": "2024-09-12T23:45:19.151Z"
   },
   {
    "duration": 13,
    "start_time": "2024-09-12T23:45:19.167Z"
   },
   {
    "duration": 8,
    "start_time": "2024-09-12T23:45:19.182Z"
   },
   {
    "duration": 10,
    "start_time": "2024-09-12T23:45:19.191Z"
   },
   {
    "duration": 78,
    "start_time": "2024-09-12T23:45:19.206Z"
   },
   {
    "duration": 18,
    "start_time": "2024-09-12T23:45:19.285Z"
   },
   {
    "duration": 13,
    "start_time": "2024-09-12T23:45:19.305Z"
   },
   {
    "duration": 39,
    "start_time": "2024-09-12T23:45:19.320Z"
   },
   {
    "duration": 21,
    "start_time": "2024-09-12T23:45:19.360Z"
   },
   {
    "duration": 14,
    "start_time": "2024-09-12T23:45:19.382Z"
   },
   {
    "duration": 13,
    "start_time": "2024-09-12T23:45:19.397Z"
   },
   {
    "duration": 70,
    "start_time": "2024-09-12T23:45:19.411Z"
   },
   {
    "duration": 30,
    "start_time": "2024-09-12T23:45:19.483Z"
   },
   {
    "duration": 59,
    "start_time": "2024-09-12T23:45:19.515Z"
   },
   {
    "duration": 8,
    "start_time": "2024-09-12T23:45:19.576Z"
   },
   {
    "duration": 17,
    "start_time": "2024-09-12T23:45:19.585Z"
   },
   {
    "duration": 3,
    "start_time": "2024-09-12T23:45:19.603Z"
   },
   {
    "duration": 50,
    "start_time": "2024-09-12T23:45:19.607Z"
   },
   {
    "duration": 270,
    "start_time": "2024-09-12T23:45:19.659Z"
   },
   {
    "duration": 237,
    "start_time": "2024-09-12T23:45:19.931Z"
   },
   {
    "duration": 255,
    "start_time": "2024-09-12T23:45:20.170Z"
   },
   {
    "duration": 0,
    "start_time": "2024-09-12T23:45:20.427Z"
   },
   {
    "duration": 0,
    "start_time": "2024-09-12T23:45:20.431Z"
   },
   {
    "duration": 0,
    "start_time": "2024-09-12T23:45:20.432Z"
   },
   {
    "duration": 0,
    "start_time": "2024-09-12T23:45:20.433Z"
   },
   {
    "duration": 0,
    "start_time": "2024-09-12T23:45:20.434Z"
   },
   {
    "duration": 0,
    "start_time": "2024-09-12T23:45:20.435Z"
   },
   {
    "duration": 0,
    "start_time": "2024-09-12T23:45:20.436Z"
   },
   {
    "duration": 0,
    "start_time": "2024-09-12T23:45:20.437Z"
   },
   {
    "duration": 0,
    "start_time": "2024-09-12T23:45:20.438Z"
   },
   {
    "duration": 0,
    "start_time": "2024-09-12T23:45:20.439Z"
   },
   {
    "duration": 0,
    "start_time": "2024-09-12T23:45:20.439Z"
   },
   {
    "duration": 0,
    "start_time": "2024-09-12T23:45:20.440Z"
   },
   {
    "duration": 0,
    "start_time": "2024-09-12T23:45:20.441Z"
   },
   {
    "duration": 0,
    "start_time": "2024-09-12T23:45:20.442Z"
   },
   {
    "duration": 0,
    "start_time": "2024-09-12T23:45:20.442Z"
   },
   {
    "duration": 0,
    "start_time": "2024-09-12T23:45:20.443Z"
   },
   {
    "duration": 512,
    "start_time": "2024-09-12T23:47:43.555Z"
   },
   {
    "duration": 898,
    "start_time": "2024-09-12T23:48:11.944Z"
   },
   {
    "duration": 17,
    "start_time": "2024-09-12T23:48:12.850Z"
   },
   {
    "duration": 4,
    "start_time": "2024-09-12T23:48:12.869Z"
   },
   {
    "duration": 33,
    "start_time": "2024-09-12T23:48:12.876Z"
   },
   {
    "duration": 73,
    "start_time": "2024-09-12T23:48:12.911Z"
   },
   {
    "duration": 85,
    "start_time": "2024-09-12T23:48:12.986Z"
   },
   {
    "duration": 17,
    "start_time": "2024-09-12T23:48:13.072Z"
   },
   {
    "duration": 8,
    "start_time": "2024-09-12T23:48:13.091Z"
   },
   {
    "duration": 5,
    "start_time": "2024-09-12T23:48:13.100Z"
   },
   {
    "duration": 4,
    "start_time": "2024-09-12T23:48:13.108Z"
   },
   {
    "duration": 32,
    "start_time": "2024-09-12T23:48:13.133Z"
   },
   {
    "duration": 8,
    "start_time": "2024-09-12T23:48:13.167Z"
   },
   {
    "duration": 8,
    "start_time": "2024-09-12T23:48:13.176Z"
   },
   {
    "duration": 3,
    "start_time": "2024-09-12T23:48:13.185Z"
   },
   {
    "duration": 13,
    "start_time": "2024-09-12T23:48:13.190Z"
   },
   {
    "duration": 44,
    "start_time": "2024-09-12T23:48:13.206Z"
   },
   {
    "duration": 13,
    "start_time": "2024-09-12T23:48:13.252Z"
   },
   {
    "duration": 50,
    "start_time": "2024-09-12T23:48:13.267Z"
   },
   {
    "duration": 7,
    "start_time": "2024-09-12T23:48:13.318Z"
   },
   {
    "duration": 39,
    "start_time": "2024-09-12T23:48:13.327Z"
   },
   {
    "duration": 17,
    "start_time": "2024-09-12T23:48:13.368Z"
   },
   {
    "duration": 7,
    "start_time": "2024-09-12T23:48:13.387Z"
   },
   {
    "duration": 42,
    "start_time": "2024-09-12T23:48:13.396Z"
   },
   {
    "duration": 17,
    "start_time": "2024-09-12T23:48:13.440Z"
   },
   {
    "duration": 15,
    "start_time": "2024-09-12T23:48:13.460Z"
   },
   {
    "duration": 8,
    "start_time": "2024-09-12T23:48:13.477Z"
   },
   {
    "duration": 10,
    "start_time": "2024-09-12T23:48:13.487Z"
   },
   {
    "duration": 75,
    "start_time": "2024-09-12T23:48:13.501Z"
   },
   {
    "duration": 17,
    "start_time": "2024-09-12T23:48:13.577Z"
   },
   {
    "duration": 14,
    "start_time": "2024-09-12T23:48:13.596Z"
   },
   {
    "duration": 34,
    "start_time": "2024-09-12T23:48:13.612Z"
   },
   {
    "duration": 30,
    "start_time": "2024-09-12T23:48:13.652Z"
   },
   {
    "duration": 14,
    "start_time": "2024-09-12T23:48:13.684Z"
   },
   {
    "duration": 14,
    "start_time": "2024-09-12T23:48:13.700Z"
   },
   {
    "duration": 54,
    "start_time": "2024-09-12T23:48:13.716Z"
   },
   {
    "duration": 813,
    "start_time": "2024-09-12T23:48:20.560Z"
   },
   {
    "duration": 68,
    "start_time": "2024-09-12T23:49:04.992Z"
   },
   {
    "duration": 70,
    "start_time": "2024-09-12T23:49:19.009Z"
   },
   {
    "duration": 833,
    "start_time": "2024-09-12T23:49:28.517Z"
   },
   {
    "duration": 13,
    "start_time": "2024-09-12T23:49:29.353Z"
   },
   {
    "duration": 5,
    "start_time": "2024-09-12T23:49:29.368Z"
   },
   {
    "duration": 33,
    "start_time": "2024-09-12T23:49:29.375Z"
   },
   {
    "duration": 73,
    "start_time": "2024-09-12T23:49:29.409Z"
   },
   {
    "duration": 90,
    "start_time": "2024-09-12T23:49:29.483Z"
   },
   {
    "duration": 18,
    "start_time": "2024-09-12T23:49:29.574Z"
   },
   {
    "duration": 7,
    "start_time": "2024-09-12T23:49:29.594Z"
   },
   {
    "duration": 5,
    "start_time": "2024-09-12T23:49:29.602Z"
   },
   {
    "duration": 4,
    "start_time": "2024-09-12T23:49:29.610Z"
   },
   {
    "duration": 19,
    "start_time": "2024-09-12T23:49:29.631Z"
   },
   {
    "duration": 10,
    "start_time": "2024-09-12T23:49:29.652Z"
   },
   {
    "duration": 7,
    "start_time": "2024-09-12T23:49:29.663Z"
   },
   {
    "duration": 3,
    "start_time": "2024-09-12T23:49:29.671Z"
   },
   {
    "duration": 11,
    "start_time": "2024-09-12T23:49:29.676Z"
   },
   {
    "duration": 53,
    "start_time": "2024-09-12T23:49:29.688Z"
   },
   {
    "duration": 29,
    "start_time": "2024-09-12T23:49:29.743Z"
   },
   {
    "duration": 34,
    "start_time": "2024-09-12T23:49:29.774Z"
   },
   {
    "duration": 8,
    "start_time": "2024-09-12T23:49:29.809Z"
   },
   {
    "duration": 46,
    "start_time": "2024-09-12T23:49:29.818Z"
   },
   {
    "duration": 17,
    "start_time": "2024-09-12T23:49:29.866Z"
   },
   {
    "duration": 6,
    "start_time": "2024-09-12T23:49:29.885Z"
   },
   {
    "duration": 15,
    "start_time": "2024-09-12T23:49:29.893Z"
   },
   {
    "duration": 50,
    "start_time": "2024-09-12T23:49:29.910Z"
   },
   {
    "duration": 14,
    "start_time": "2024-09-12T23:49:29.961Z"
   },
   {
    "duration": 10,
    "start_time": "2024-09-12T23:49:29.977Z"
   },
   {
    "duration": 10,
    "start_time": "2024-09-12T23:49:29.989Z"
   },
   {
    "duration": 48,
    "start_time": "2024-09-12T23:49:30.004Z"
   },
   {
    "duration": 23,
    "start_time": "2024-09-12T23:49:30.054Z"
   },
   {
    "duration": 16,
    "start_time": "2024-09-12T23:49:30.079Z"
   },
   {
    "duration": 12,
    "start_time": "2024-09-12T23:49:30.097Z"
   },
   {
    "duration": 30,
    "start_time": "2024-09-12T23:49:30.137Z"
   },
   {
    "duration": 17,
    "start_time": "2024-09-12T23:49:30.168Z"
   },
   {
    "duration": 19,
    "start_time": "2024-09-12T23:49:30.186Z"
   },
   {
    "duration": 74,
    "start_time": "2024-09-12T23:49:30.207Z"
   },
   {
    "duration": 803,
    "start_time": "2024-09-12T23:49:30.283Z"
   },
   {
    "duration": 0,
    "start_time": "2024-09-12T23:49:31.088Z"
   },
   {
    "duration": 0,
    "start_time": "2024-09-12T23:49:31.090Z"
   },
   {
    "duration": 0,
    "start_time": "2024-09-12T23:49:31.091Z"
   },
   {
    "duration": 0,
    "start_time": "2024-09-12T23:49:31.092Z"
   },
   {
    "duration": 0,
    "start_time": "2024-09-12T23:49:31.093Z"
   },
   {
    "duration": 0,
    "start_time": "2024-09-12T23:49:31.095Z"
   },
   {
    "duration": 0,
    "start_time": "2024-09-12T23:49:31.096Z"
   },
   {
    "duration": 0,
    "start_time": "2024-09-12T23:49:31.097Z"
   },
   {
    "duration": 0,
    "start_time": "2024-09-12T23:49:31.099Z"
   },
   {
    "duration": 0,
    "start_time": "2024-09-12T23:49:31.100Z"
   },
   {
    "duration": 1,
    "start_time": "2024-09-12T23:49:31.102Z"
   },
   {
    "duration": 0,
    "start_time": "2024-09-12T23:49:31.104Z"
   },
   {
    "duration": 0,
    "start_time": "2024-09-12T23:49:31.105Z"
   },
   {
    "duration": 0,
    "start_time": "2024-09-12T23:49:31.135Z"
   },
   {
    "duration": 0,
    "start_time": "2024-09-12T23:49:31.136Z"
   },
   {
    "duration": 0,
    "start_time": "2024-09-12T23:49:31.137Z"
   },
   {
    "duration": 0,
    "start_time": "2024-09-12T23:49:31.138Z"
   },
   {
    "duration": 0,
    "start_time": "2024-09-12T23:49:31.139Z"
   },
   {
    "duration": 0,
    "start_time": "2024-09-12T23:49:31.141Z"
   },
   {
    "duration": 0,
    "start_time": "2024-09-12T23:49:31.142Z"
   },
   {
    "duration": 0,
    "start_time": "2024-09-12T23:49:31.143Z"
   },
   {
    "duration": 0,
    "start_time": "2024-09-12T23:49:31.144Z"
   },
   {
    "duration": 0,
    "start_time": "2024-09-12T23:49:31.145Z"
   },
   {
    "duration": 0,
    "start_time": "2024-09-12T23:49:31.146Z"
   },
   {
    "duration": 30,
    "start_time": "2024-09-12T23:50:15.487Z"
   },
   {
    "duration": 37,
    "start_time": "2024-09-12T23:50:40.054Z"
   },
   {
    "duration": 6,
    "start_time": "2024-09-12T23:50:48.860Z"
   },
   {
    "duration": 882,
    "start_time": "2024-09-12T23:50:53.129Z"
   },
   {
    "duration": 7,
    "start_time": "2024-09-12T23:50:54.015Z"
   },
   {
    "duration": 4,
    "start_time": "2024-09-12T23:50:54.025Z"
   },
   {
    "duration": 51,
    "start_time": "2024-09-12T23:50:54.032Z"
   },
   {
    "duration": 73,
    "start_time": "2024-09-12T23:50:54.085Z"
   },
   {
    "duration": 69,
    "start_time": "2024-09-12T23:50:54.160Z"
   },
   {
    "duration": 30,
    "start_time": "2024-09-12T23:50:54.234Z"
   },
   {
    "duration": 9,
    "start_time": "2024-09-12T23:50:54.266Z"
   },
   {
    "duration": 5,
    "start_time": "2024-09-12T23:50:54.277Z"
   },
   {
    "duration": 5,
    "start_time": "2024-09-12T23:50:54.285Z"
   },
   {
    "duration": 14,
    "start_time": "2024-09-12T23:50:54.291Z"
   },
   {
    "duration": 48,
    "start_time": "2024-09-12T23:50:54.306Z"
   },
   {
    "duration": 7,
    "start_time": "2024-09-12T23:50:54.356Z"
   },
   {
    "duration": 4,
    "start_time": "2024-09-12T23:50:54.365Z"
   },
   {
    "duration": 11,
    "start_time": "2024-09-12T23:50:54.370Z"
   },
   {
    "duration": 14,
    "start_time": "2024-09-12T23:50:54.383Z"
   },
   {
    "duration": 8,
    "start_time": "2024-09-12T23:50:54.398Z"
   },
   {
    "duration": 68,
    "start_time": "2024-09-12T23:50:54.407Z"
   },
   {
    "duration": 8,
    "start_time": "2024-09-12T23:50:54.477Z"
   },
   {
    "duration": 26,
    "start_time": "2024-09-12T23:50:54.486Z"
   },
   {
    "duration": 31,
    "start_time": "2024-09-12T23:50:54.513Z"
   },
   {
    "duration": 24,
    "start_time": "2024-09-12T23:50:54.546Z"
   },
   {
    "duration": 18,
    "start_time": "2024-09-12T23:50:54.573Z"
   },
   {
    "duration": 9,
    "start_time": "2024-09-12T23:50:54.592Z"
   },
   {
    "duration": 12,
    "start_time": "2024-09-12T23:50:54.603Z"
   },
   {
    "duration": 26,
    "start_time": "2024-09-12T23:50:54.634Z"
   },
   {
    "duration": 11,
    "start_time": "2024-09-12T23:50:54.661Z"
   },
   {
    "duration": 35,
    "start_time": "2024-09-12T23:50:54.677Z"
   },
   {
    "duration": 34,
    "start_time": "2024-09-12T23:50:54.714Z"
   },
   {
    "duration": 19,
    "start_time": "2024-09-12T23:50:54.750Z"
   },
   {
    "duration": 13,
    "start_time": "2024-09-12T23:50:54.771Z"
   },
   {
    "duration": 18,
    "start_time": "2024-09-12T23:50:54.786Z"
   },
   {
    "duration": 40,
    "start_time": "2024-09-12T23:50:54.806Z"
   },
   {
    "duration": 26,
    "start_time": "2024-09-12T23:50:54.850Z"
   },
   {
    "duration": 36,
    "start_time": "2024-09-12T23:50:54.877Z"
   },
   {
    "duration": 59,
    "start_time": "2024-09-12T23:50:54.914Z"
   },
   {
    "duration": 37,
    "start_time": "2024-09-12T23:50:54.975Z"
   },
   {
    "duration": 25,
    "start_time": "2024-09-12T23:50:55.013Z"
   },
   {
    "duration": 40,
    "start_time": "2024-09-12T23:50:55.039Z"
   },
   {
    "duration": 2,
    "start_time": "2024-09-12T23:50:55.080Z"
   },
   {
    "duration": 26,
    "start_time": "2024-09-12T23:50:55.084Z"
   },
   {
    "duration": 264,
    "start_time": "2024-09-12T23:50:55.112Z"
   },
   {
    "duration": 221,
    "start_time": "2024-09-12T23:50:55.378Z"
   },
   {
    "duration": 269,
    "start_time": "2024-09-12T23:50:55.601Z"
   },
   {
    "duration": 0,
    "start_time": "2024-09-12T23:50:55.872Z"
   },
   {
    "duration": 0,
    "start_time": "2024-09-12T23:50:55.873Z"
   },
   {
    "duration": 0,
    "start_time": "2024-09-12T23:50:55.874Z"
   },
   {
    "duration": 0,
    "start_time": "2024-09-12T23:50:55.876Z"
   },
   {
    "duration": 0,
    "start_time": "2024-09-12T23:50:55.877Z"
   },
   {
    "duration": 0,
    "start_time": "2024-09-12T23:50:55.878Z"
   },
   {
    "duration": 0,
    "start_time": "2024-09-12T23:50:55.879Z"
   },
   {
    "duration": 0,
    "start_time": "2024-09-12T23:50:55.880Z"
   },
   {
    "duration": 0,
    "start_time": "2024-09-12T23:50:55.881Z"
   },
   {
    "duration": 0,
    "start_time": "2024-09-12T23:50:55.882Z"
   },
   {
    "duration": 0,
    "start_time": "2024-09-12T23:50:55.883Z"
   },
   {
    "duration": 0,
    "start_time": "2024-09-12T23:50:55.884Z"
   },
   {
    "duration": 0,
    "start_time": "2024-09-12T23:50:55.885Z"
   },
   {
    "duration": 0,
    "start_time": "2024-09-12T23:50:55.886Z"
   },
   {
    "duration": 0,
    "start_time": "2024-09-12T23:50:55.887Z"
   },
   {
    "duration": 0,
    "start_time": "2024-09-12T23:50:55.888Z"
   },
   {
    "duration": 15,
    "start_time": "2024-09-12T23:56:32.510Z"
   },
   {
    "duration": 7,
    "start_time": "2024-09-13T00:00:01.695Z"
   },
   {
    "duration": 8,
    "start_time": "2024-09-13T00:01:58.987Z"
   },
   {
    "duration": 8,
    "start_time": "2024-09-13T00:02:06.993Z"
   },
   {
    "duration": 8,
    "start_time": "2024-09-13T00:02:15.615Z"
   },
   {
    "duration": 8,
    "start_time": "2024-09-13T00:03:16.758Z"
   },
   {
    "duration": 9,
    "start_time": "2024-09-13T00:04:49.999Z"
   },
   {
    "duration": 17,
    "start_time": "2024-09-13T00:05:44.501Z"
   },
   {
    "duration": 124,
    "start_time": "2024-09-13T00:05:51.751Z"
   },
   {
    "duration": 14,
    "start_time": "2024-09-13T00:05:58.916Z"
   },
   {
    "duration": 18,
    "start_time": "2024-09-13T00:05:59.541Z"
   },
   {
    "duration": 9,
    "start_time": "2024-09-13T00:06:00.160Z"
   },
   {
    "duration": 7,
    "start_time": "2024-09-13T00:06:02.885Z"
   },
   {
    "duration": 17,
    "start_time": "2024-09-13T00:06:03.464Z"
   },
   {
    "duration": 7,
    "start_time": "2024-09-13T00:06:04.581Z"
   },
   {
    "duration": 20,
    "start_time": "2024-09-13T00:06:05.054Z"
   },
   {
    "duration": 13,
    "start_time": "2024-09-13T00:06:06.114Z"
   },
   {
    "duration": 12,
    "start_time": "2024-09-13T00:06:06.668Z"
   },
   {
    "duration": 8,
    "start_time": "2024-09-13T00:06:07.112Z"
   },
   {
    "duration": 216,
    "start_time": "2024-09-13T00:16:52.675Z"
   },
   {
    "duration": 895,
    "start_time": "2024-09-13T00:21:46.572Z"
   },
   {
    "duration": 7,
    "start_time": "2024-09-13T00:21:47.469Z"
   },
   {
    "duration": 5,
    "start_time": "2024-09-13T00:21:47.477Z"
   },
   {
    "duration": 33,
    "start_time": "2024-09-13T00:21:47.484Z"
   },
   {
    "duration": 69,
    "start_time": "2024-09-13T00:21:47.536Z"
   },
   {
    "duration": 95,
    "start_time": "2024-09-13T00:21:47.606Z"
   },
   {
    "duration": 16,
    "start_time": "2024-09-13T00:21:47.702Z"
   },
   {
    "duration": 7,
    "start_time": "2024-09-13T00:21:47.720Z"
   },
   {
    "duration": 16,
    "start_time": "2024-09-13T00:21:47.729Z"
   },
   {
    "duration": 17,
    "start_time": "2024-09-13T00:21:47.748Z"
   },
   {
    "duration": 18,
    "start_time": "2024-09-13T00:21:47.766Z"
   },
   {
    "duration": 7,
    "start_time": "2024-09-13T00:21:47.786Z"
   },
   {
    "duration": 5,
    "start_time": "2024-09-13T00:21:47.796Z"
   },
   {
    "duration": 3,
    "start_time": "2024-09-13T00:21:47.804Z"
   },
   {
    "duration": 10,
    "start_time": "2024-09-13T00:21:47.809Z"
   },
   {
    "duration": 26,
    "start_time": "2024-09-13T00:21:47.832Z"
   },
   {
    "duration": 12,
    "start_time": "2024-09-13T00:21:47.860Z"
   },
   {
    "duration": 34,
    "start_time": "2024-09-13T00:21:47.875Z"
   },
   {
    "duration": 32,
    "start_time": "2024-09-13T00:21:47.910Z"
   },
   {
    "duration": 44,
    "start_time": "2024-09-13T00:21:47.944Z"
   },
   {
    "duration": 16,
    "start_time": "2024-09-13T00:21:47.990Z"
   },
   {
    "duration": 8,
    "start_time": "2024-09-13T00:21:48.007Z"
   },
   {
    "duration": 34,
    "start_time": "2024-09-13T00:21:48.016Z"
   },
   {
    "duration": 16,
    "start_time": "2024-09-13T00:21:48.054Z"
   },
   {
    "duration": 14,
    "start_time": "2024-09-13T00:21:48.072Z"
   },
   {
    "duration": 7,
    "start_time": "2024-09-13T00:21:48.088Z"
   },
   {
    "duration": 10,
    "start_time": "2024-09-13T00:21:48.097Z"
   },
   {
    "duration": 85,
    "start_time": "2024-09-13T00:21:48.109Z"
   },
   {
    "duration": 17,
    "start_time": "2024-09-13T00:21:48.196Z"
   },
   {
    "duration": 15,
    "start_time": "2024-09-13T00:21:48.214Z"
   },
   {
    "duration": 20,
    "start_time": "2024-09-13T00:21:48.234Z"
   },
   {
    "duration": 25,
    "start_time": "2024-09-13T00:21:48.258Z"
   },
   {
    "duration": 15,
    "start_time": "2024-09-13T00:21:48.285Z"
   },
   {
    "duration": 14,
    "start_time": "2024-09-13T00:21:48.301Z"
   },
   {
    "duration": 57,
    "start_time": "2024-09-13T00:21:48.334Z"
   },
   {
    "duration": 60,
    "start_time": "2024-09-13T00:21:48.393Z"
   },
   {
    "duration": 40,
    "start_time": "2024-09-13T00:21:48.456Z"
   },
   {
    "duration": 7,
    "start_time": "2024-09-13T00:21:48.498Z"
   },
   {
    "duration": 17,
    "start_time": "2024-09-13T00:21:48.507Z"
   },
   {
    "duration": 18,
    "start_time": "2024-09-13T00:21:48.526Z"
   },
   {
    "duration": 40,
    "start_time": "2024-09-13T00:21:48.553Z"
   },
   {
    "duration": 243,
    "start_time": "2024-09-13T00:21:48.595Z"
   },
   {
    "duration": 239,
    "start_time": "2024-09-13T00:21:48.840Z"
   },
   {
    "duration": 8,
    "start_time": "2024-09-13T00:21:49.080Z"
   },
   {
    "duration": 18,
    "start_time": "2024-09-13T00:21:49.089Z"
   },
   {
    "duration": 28,
    "start_time": "2024-09-13T00:21:49.108Z"
   },
   {
    "duration": 135,
    "start_time": "2024-09-13T00:21:49.137Z"
   },
   {
    "duration": 13,
    "start_time": "2024-09-13T00:21:49.274Z"
   },
   {
    "duration": 11,
    "start_time": "2024-09-13T00:21:49.289Z"
   },
   {
    "duration": 7,
    "start_time": "2024-09-13T00:21:49.301Z"
   },
   {
    "duration": 50,
    "start_time": "2024-09-13T00:21:49.309Z"
   },
   {
    "duration": 18,
    "start_time": "2024-09-13T00:21:49.361Z"
   },
   {
    "duration": 7,
    "start_time": "2024-09-13T00:21:49.380Z"
   },
   {
    "duration": 21,
    "start_time": "2024-09-13T00:21:49.388Z"
   },
   {
    "duration": 23,
    "start_time": "2024-09-13T00:21:49.411Z"
   },
   {
    "duration": 15,
    "start_time": "2024-09-13T00:21:49.444Z"
   },
   {
    "duration": 9,
    "start_time": "2024-09-13T00:21:49.461Z"
   },
   {
    "duration": 237,
    "start_time": "2024-09-13T00:21:49.473Z"
   },
   {
    "duration": 47,
    "start_time": "2024-09-13T00:21:49.712Z"
   },
   {
    "duration": 7,
    "start_time": "2024-09-13T00:21:49.762Z"
   },
   {
    "duration": 11,
    "start_time": "2024-09-13T00:21:49.771Z"
   },
   {
    "duration": 8,
    "start_time": "2024-09-13T00:38:36.219Z"
   },
   {
    "duration": 5,
    "start_time": "2024-09-13T00:40:14.797Z"
   },
   {
    "duration": 9,
    "start_time": "2024-09-13T00:40:23.097Z"
   },
   {
    "duration": 8,
    "start_time": "2024-09-13T00:41:35.491Z"
   },
   {
    "duration": 8,
    "start_time": "2024-09-13T00:42:36.803Z"
   },
   {
    "duration": 4,
    "start_time": "2024-09-13T00:44:44.383Z"
   },
   {
    "duration": 10,
    "start_time": "2024-09-13T00:44:51.451Z"
   },
   {
    "duration": 190,
    "start_time": "2024-09-13T00:46:17.839Z"
   },
   {
    "duration": 890,
    "start_time": "2024-09-13T00:52:03.276Z"
   },
   {
    "duration": 7,
    "start_time": "2024-09-13T00:52:04.169Z"
   },
   {
    "duration": 5,
    "start_time": "2024-09-13T00:52:04.178Z"
   },
   {
    "duration": 32,
    "start_time": "2024-09-13T00:52:04.185Z"
   },
   {
    "duration": 67,
    "start_time": "2024-09-13T00:52:04.232Z"
   },
   {
    "duration": 99,
    "start_time": "2024-09-13T00:52:04.301Z"
   },
   {
    "duration": 17,
    "start_time": "2024-09-13T00:52:04.402Z"
   },
   {
    "duration": 22,
    "start_time": "2024-09-13T00:52:04.420Z"
   },
   {
    "duration": 6,
    "start_time": "2024-09-13T00:52:04.456Z"
   },
   {
    "duration": 6,
    "start_time": "2024-09-13T00:52:04.463Z"
   },
   {
    "duration": 14,
    "start_time": "2024-09-13T00:52:04.470Z"
   },
   {
    "duration": 10,
    "start_time": "2024-09-13T00:52:04.485Z"
   },
   {
    "duration": 6,
    "start_time": "2024-09-13T00:52:04.497Z"
   },
   {
    "duration": 26,
    "start_time": "2024-09-13T00:52:04.507Z"
   },
   {
    "duration": 29,
    "start_time": "2024-09-13T00:52:04.535Z"
   },
   {
    "duration": 18,
    "start_time": "2024-09-13T00:52:04.565Z"
   },
   {
    "duration": 8,
    "start_time": "2024-09-13T00:52:04.585Z"
   },
   {
    "duration": 53,
    "start_time": "2024-09-13T00:52:04.595Z"
   },
   {
    "duration": 17,
    "start_time": "2024-09-13T00:52:04.650Z"
   },
   {
    "duration": 27,
    "start_time": "2024-09-13T00:52:04.669Z"
   },
   {
    "duration": 16,
    "start_time": "2024-09-13T00:52:04.697Z"
   },
   {
    "duration": 41,
    "start_time": "2024-09-13T00:52:04.715Z"
   },
   {
    "duration": 17,
    "start_time": "2024-09-13T00:52:04.758Z"
   },
   {
    "duration": 10,
    "start_time": "2024-09-13T00:52:04.777Z"
   },
   {
    "duration": 13,
    "start_time": "2024-09-13T00:52:04.789Z"
   },
   {
    "duration": 7,
    "start_time": "2024-09-13T00:52:04.804Z"
   },
   {
    "duration": 41,
    "start_time": "2024-09-13T00:52:04.813Z"
   },
   {
    "duration": 41,
    "start_time": "2024-09-13T00:52:04.856Z"
   },
   {
    "duration": 18,
    "start_time": "2024-09-13T00:52:04.899Z"
   },
   {
    "duration": 28,
    "start_time": "2024-09-13T00:52:04.919Z"
   },
   {
    "duration": 21,
    "start_time": "2024-09-13T00:52:04.952Z"
   },
   {
    "duration": 23,
    "start_time": "2024-09-13T00:52:04.975Z"
   },
   {
    "duration": 16,
    "start_time": "2024-09-13T00:52:04.999Z"
   },
   {
    "duration": 33,
    "start_time": "2024-09-13T00:52:05.016Z"
   },
   {
    "duration": 43,
    "start_time": "2024-09-13T00:52:05.051Z"
   },
   {
    "duration": 63,
    "start_time": "2024-09-13T00:52:05.095Z"
   },
   {
    "duration": 39,
    "start_time": "2024-09-13T00:52:05.161Z"
   },
   {
    "duration": 7,
    "start_time": "2024-09-13T00:52:05.201Z"
   },
   {
    "duration": 52,
    "start_time": "2024-09-13T00:52:05.210Z"
   },
   {
    "duration": 3,
    "start_time": "2024-09-13T00:52:05.263Z"
   },
   {
    "duration": 26,
    "start_time": "2024-09-13T00:52:05.271Z"
   },
   {
    "duration": 284,
    "start_time": "2024-09-13T00:52:05.299Z"
   },
   {
    "duration": 236,
    "start_time": "2024-09-13T00:52:05.585Z"
   },
   {
    "duration": 15,
    "start_time": "2024-09-13T00:52:05.824Z"
   },
   {
    "duration": 31,
    "start_time": "2024-09-13T00:52:05.841Z"
   },
   {
    "duration": 11,
    "start_time": "2024-09-13T00:52:05.873Z"
   },
   {
    "duration": 161,
    "start_time": "2024-09-13T00:52:05.886Z"
   },
   {
    "duration": 20,
    "start_time": "2024-09-13T00:52:06.050Z"
   },
   {
    "duration": 8,
    "start_time": "2024-09-13T00:52:06.072Z"
   },
   {
    "duration": 4,
    "start_time": "2024-09-13T00:52:06.081Z"
   },
   {
    "duration": 277,
    "start_time": "2024-09-13T00:52:06.086Z"
   },
   {
    "duration": 0,
    "start_time": "2024-09-13T00:52:06.366Z"
   },
   {
    "duration": 0,
    "start_time": "2024-09-13T00:52:06.367Z"
   },
   {
    "duration": 0,
    "start_time": "2024-09-13T00:52:06.368Z"
   },
   {
    "duration": 0,
    "start_time": "2024-09-13T00:52:06.369Z"
   },
   {
    "duration": 0,
    "start_time": "2024-09-13T00:52:06.370Z"
   },
   {
    "duration": 0,
    "start_time": "2024-09-13T00:52:06.371Z"
   },
   {
    "duration": 0,
    "start_time": "2024-09-13T00:52:06.372Z"
   },
   {
    "duration": 0,
    "start_time": "2024-09-13T00:52:06.373Z"
   },
   {
    "duration": 0,
    "start_time": "2024-09-13T00:52:06.375Z"
   },
   {
    "duration": 0,
    "start_time": "2024-09-13T00:52:06.380Z"
   },
   {
    "duration": 174,
    "start_time": "2024-09-13T01:01:02.070Z"
   },
   {
    "duration": 178,
    "start_time": "2024-09-13T01:01:59.822Z"
   },
   {
    "duration": 246,
    "start_time": "2024-09-13T01:04:06.174Z"
   },
   {
    "duration": 200,
    "start_time": "2024-09-13T01:04:51.865Z"
   },
   {
    "duration": 187,
    "start_time": "2024-09-13T01:06:43.575Z"
   },
   {
    "duration": 234,
    "start_time": "2024-09-13T01:07:22.339Z"
   },
   {
    "duration": 8,
    "start_time": "2024-09-13T01:10:20.065Z"
   },
   {
    "duration": 8,
    "start_time": "2024-09-13T01:10:23.885Z"
   },
   {
    "duration": 8,
    "start_time": "2024-09-13T01:11:23.815Z"
   },
   {
    "duration": 861,
    "start_time": "2024-09-13T01:12:52.521Z"
   },
   {
    "duration": 8,
    "start_time": "2024-09-13T01:12:53.384Z"
   },
   {
    "duration": 5,
    "start_time": "2024-09-13T01:12:53.393Z"
   },
   {
    "duration": 63,
    "start_time": "2024-09-13T01:12:53.400Z"
   },
   {
    "duration": 60,
    "start_time": "2024-09-13T01:12:53.465Z"
   },
   {
    "duration": 86,
    "start_time": "2024-09-13T01:12:53.527Z"
   },
   {
    "duration": 22,
    "start_time": "2024-09-13T01:12:53.615Z"
   },
   {
    "duration": 24,
    "start_time": "2024-09-13T01:12:53.641Z"
   },
   {
    "duration": 6,
    "start_time": "2024-09-13T01:12:53.667Z"
   },
   {
    "duration": 5,
    "start_time": "2024-09-13T01:12:53.676Z"
   },
   {
    "duration": 13,
    "start_time": "2024-09-13T01:12:53.683Z"
   },
   {
    "duration": 7,
    "start_time": "2024-09-13T01:12:53.698Z"
   },
   {
    "duration": 31,
    "start_time": "2024-09-13T01:12:53.707Z"
   },
   {
    "duration": 11,
    "start_time": "2024-09-13T01:12:53.740Z"
   },
   {
    "duration": 24,
    "start_time": "2024-09-13T01:12:53.754Z"
   },
   {
    "duration": 15,
    "start_time": "2024-09-13T01:12:53.780Z"
   },
   {
    "duration": 9,
    "start_time": "2024-09-13T01:12:53.796Z"
   },
   {
    "duration": 58,
    "start_time": "2024-09-13T01:12:53.806Z"
   },
   {
    "duration": 7,
    "start_time": "2024-09-13T01:12:53.866Z"
   },
   {
    "duration": 25,
    "start_time": "2024-09-13T01:12:53.875Z"
   },
   {
    "duration": 37,
    "start_time": "2024-09-13T01:12:53.901Z"
   },
   {
    "duration": 12,
    "start_time": "2024-09-13T01:12:53.940Z"
   },
   {
    "duration": 23,
    "start_time": "2024-09-13T01:12:53.954Z"
   },
   {
    "duration": 8,
    "start_time": "2024-09-13T01:12:53.979Z"
   },
   {
    "duration": 14,
    "start_time": "2024-09-13T01:12:53.988Z"
   },
   {
    "duration": 36,
    "start_time": "2024-09-13T01:12:54.004Z"
   },
   {
    "duration": 14,
    "start_time": "2024-09-13T01:12:54.053Z"
   },
   {
    "duration": 38,
    "start_time": "2024-09-13T01:12:54.071Z"
   },
   {
    "duration": 26,
    "start_time": "2024-09-13T01:12:54.111Z"
   },
   {
    "duration": 30,
    "start_time": "2024-09-13T01:12:54.141Z"
   },
   {
    "duration": 14,
    "start_time": "2024-09-13T01:12:54.174Z"
   },
   {
    "duration": 19,
    "start_time": "2024-09-13T01:12:54.189Z"
   },
   {
    "duration": 46,
    "start_time": "2024-09-13T01:12:54.210Z"
   },
   {
    "duration": 15,
    "start_time": "2024-09-13T01:12:54.258Z"
   },
   {
    "duration": 36,
    "start_time": "2024-09-13T01:12:54.275Z"
   },
   {
    "duration": 69,
    "start_time": "2024-09-13T01:12:54.312Z"
   },
   {
    "duration": 35,
    "start_time": "2024-09-13T01:12:54.383Z"
   },
   {
    "duration": 5,
    "start_time": "2024-09-13T01:12:54.420Z"
   },
   {
    "duration": 25,
    "start_time": "2024-09-13T01:12:54.427Z"
   },
   {
    "duration": 33,
    "start_time": "2024-09-13T01:12:54.457Z"
   },
   {
    "duration": 273,
    "start_time": "2024-09-13T01:12:54.492Z"
   },
   {
    "duration": 264,
    "start_time": "2024-09-13T01:12:54.767Z"
   },
   {
    "duration": 29,
    "start_time": "2024-09-13T01:12:55.044Z"
   },
   {
    "duration": 20,
    "start_time": "2024-09-13T01:12:55.075Z"
   },
   {
    "duration": 11,
    "start_time": "2024-09-13T01:12:55.097Z"
   },
   {
    "duration": 168,
    "start_time": "2024-09-13T01:12:55.110Z"
   },
   {
    "duration": 205,
    "start_time": "2024-09-13T01:12:55.280Z"
   },
   {
    "duration": 12,
    "start_time": "2024-09-13T01:12:55.489Z"
   },
   {
    "duration": 204,
    "start_time": "2024-09-13T01:12:55.503Z"
   },
   {
    "duration": 360,
    "start_time": "2024-09-13T01:12:55.709Z"
   },
   {
    "duration": 0,
    "start_time": "2024-09-13T01:12:56.071Z"
   },
   {
    "duration": 0,
    "start_time": "2024-09-13T01:12:56.073Z"
   },
   {
    "duration": 0,
    "start_time": "2024-09-13T01:12:56.074Z"
   },
   {
    "duration": 0,
    "start_time": "2024-09-13T01:12:56.075Z"
   },
   {
    "duration": 0,
    "start_time": "2024-09-13T01:12:56.076Z"
   },
   {
    "duration": 0,
    "start_time": "2024-09-13T01:12:56.078Z"
   },
   {
    "duration": 257,
    "start_time": "2024-09-13T01:14:22.682Z"
   },
   {
    "duration": 9,
    "start_time": "2024-09-13T01:14:31.356Z"
   },
   {
    "duration": 11,
    "start_time": "2024-09-13T01:14:42.438Z"
   },
   {
    "duration": 239,
    "start_time": "2024-09-13T01:14:46.068Z"
   },
   {
    "duration": 7,
    "start_time": "2024-09-13T01:14:54.964Z"
   },
   {
    "duration": 10,
    "start_time": "2024-09-13T01:14:58.947Z"
   },
   {
    "duration": 13,
    "start_time": "2024-09-13T01:21:08.372Z"
   },
   {
    "duration": 875,
    "start_time": "2024-09-13T01:24:45.087Z"
   },
   {
    "duration": 11,
    "start_time": "2024-09-13T01:24:45.965Z"
   },
   {
    "duration": 6,
    "start_time": "2024-09-13T01:24:45.979Z"
   },
   {
    "duration": 33,
    "start_time": "2024-09-13T01:24:45.987Z"
   },
   {
    "duration": 68,
    "start_time": "2024-09-13T01:24:46.022Z"
   },
   {
    "duration": 99,
    "start_time": "2024-09-13T01:24:46.092Z"
   },
   {
    "duration": 17,
    "start_time": "2024-09-13T01:24:46.193Z"
   },
   {
    "duration": 8,
    "start_time": "2024-09-13T01:24:46.211Z"
   },
   {
    "duration": 12,
    "start_time": "2024-09-13T01:24:46.221Z"
   },
   {
    "duration": 13,
    "start_time": "2024-09-13T01:24:46.237Z"
   },
   {
    "duration": 19,
    "start_time": "2024-09-13T01:24:46.252Z"
   },
   {
    "duration": 7,
    "start_time": "2024-09-13T01:24:46.273Z"
   },
   {
    "duration": 6,
    "start_time": "2024-09-13T01:24:46.282Z"
   },
   {
    "duration": 4,
    "start_time": "2024-09-13T01:24:46.289Z"
   },
   {
    "duration": 62,
    "start_time": "2024-09-13T01:24:46.295Z"
   },
   {
    "duration": 16,
    "start_time": "2024-09-13T01:24:46.358Z"
   },
   {
    "duration": 9,
    "start_time": "2024-09-13T01:24:46.378Z"
   },
   {
    "duration": 31,
    "start_time": "2024-09-13T01:24:46.389Z"
   },
   {
    "duration": 19,
    "start_time": "2024-09-13T01:24:46.421Z"
   },
   {
    "duration": 38,
    "start_time": "2024-09-13T01:24:46.444Z"
   },
   {
    "duration": 15,
    "start_time": "2024-09-13T01:24:46.484Z"
   },
   {
    "duration": 7,
    "start_time": "2024-09-13T01:24:46.501Z"
   },
   {
    "duration": 49,
    "start_time": "2024-09-13T01:24:46.509Z"
   },
   {
    "duration": 10,
    "start_time": "2024-09-13T01:24:46.561Z"
   },
   {
    "duration": 14,
    "start_time": "2024-09-13T01:24:46.573Z"
   },
   {
    "duration": 8,
    "start_time": "2024-09-13T01:24:46.588Z"
   },
   {
    "duration": 10,
    "start_time": "2024-09-13T01:24:46.598Z"
   },
   {
    "duration": 57,
    "start_time": "2024-09-13T01:24:46.638Z"
   },
   {
    "duration": 18,
    "start_time": "2024-09-13T01:24:46.697Z"
   },
   {
    "duration": 37,
    "start_time": "2024-09-13T01:24:46.717Z"
   },
   {
    "duration": 16,
    "start_time": "2024-09-13T01:24:46.764Z"
   },
   {
    "duration": 21,
    "start_time": "2024-09-13T01:24:46.783Z"
   },
   {
    "duration": 17,
    "start_time": "2024-09-13T01:24:46.805Z"
   },
   {
    "duration": 27,
    "start_time": "2024-09-13T01:24:46.836Z"
   },
   {
    "duration": 37,
    "start_time": "2024-09-13T01:24:46.865Z"
   },
   {
    "duration": 60,
    "start_time": "2024-09-13T01:24:46.904Z"
   },
   {
    "duration": 38,
    "start_time": "2024-09-13T01:24:46.968Z"
   },
   {
    "duration": 7,
    "start_time": "2024-09-13T01:24:47.007Z"
   },
   {
    "duration": 42,
    "start_time": "2024-09-13T01:24:47.016Z"
   },
   {
    "duration": 26,
    "start_time": "2024-09-13T01:24:47.060Z"
   },
   {
    "duration": 271,
    "start_time": "2024-09-13T01:24:47.088Z"
   },
   {
    "duration": 224,
    "start_time": "2024-09-13T01:24:47.362Z"
   },
   {
    "duration": 8,
    "start_time": "2024-09-13T01:24:47.588Z"
   },
   {
    "duration": 17,
    "start_time": "2024-09-13T01:24:47.597Z"
   },
   {
    "duration": 38,
    "start_time": "2024-09-13T01:24:47.616Z"
   },
   {
    "duration": 135,
    "start_time": "2024-09-13T01:24:47.660Z"
   },
   {
    "duration": 205,
    "start_time": "2024-09-13T01:24:47.797Z"
   },
   {
    "duration": 8,
    "start_time": "2024-09-13T01:24:48.004Z"
   },
   {
    "duration": 41,
    "start_time": "2024-09-13T01:24:48.013Z"
   },
   {
    "duration": 189,
    "start_time": "2024-09-13T01:24:48.056Z"
   },
   {
    "duration": 14,
    "start_time": "2024-09-13T01:24:48.247Z"
   },
   {
    "duration": 9,
    "start_time": "2024-09-13T01:24:48.265Z"
   },
   {
    "duration": 230,
    "start_time": "2024-09-13T01:24:48.276Z"
   },
   {
    "duration": 7,
    "start_time": "2024-09-13T01:24:48.508Z"
   },
   {
    "duration": 39,
    "start_time": "2024-09-13T01:24:48.516Z"
   },
   {
    "duration": 15,
    "start_time": "2024-09-13T01:42:12.943Z"
   },
   {
    "duration": 181,
    "start_time": "2024-09-13T02:01:50.110Z"
   },
   {
    "duration": 178,
    "start_time": "2024-09-13T02:04:54.169Z"
   },
   {
    "duration": 310,
    "start_time": "2024-09-13T02:05:20.236Z"
   },
   {
    "duration": 206,
    "start_time": "2024-09-13T02:05:45.119Z"
   },
   {
    "duration": 946,
    "start_time": "2024-09-13T02:19:04.259Z"
   },
   {
    "duration": 7,
    "start_time": "2024-09-13T02:19:05.208Z"
   },
   {
    "duration": 5,
    "start_time": "2024-09-13T02:19:05.217Z"
   },
   {
    "duration": 55,
    "start_time": "2024-09-13T02:19:05.231Z"
   },
   {
    "duration": 71,
    "start_time": "2024-09-13T02:19:05.290Z"
   },
   {
    "duration": 79,
    "start_time": "2024-09-13T02:19:05.363Z"
   },
   {
    "duration": 26,
    "start_time": "2024-09-13T02:19:05.445Z"
   },
   {
    "duration": 8,
    "start_time": "2024-09-13T02:19:05.473Z"
   },
   {
    "duration": 5,
    "start_time": "2024-09-13T02:19:05.483Z"
   },
   {
    "duration": 6,
    "start_time": "2024-09-13T02:19:05.490Z"
   },
   {
    "duration": 14,
    "start_time": "2024-09-13T02:19:05.498Z"
   },
   {
    "duration": 17,
    "start_time": "2024-09-13T02:19:05.533Z"
   },
   {
    "duration": 14,
    "start_time": "2024-09-13T02:19:05.552Z"
   },
   {
    "duration": 4,
    "start_time": "2024-09-13T02:19:05.570Z"
   },
   {
    "duration": 11,
    "start_time": "2024-09-13T02:19:05.575Z"
   },
   {
    "duration": 15,
    "start_time": "2024-09-13T02:19:05.588Z"
   },
   {
    "duration": 48,
    "start_time": "2024-09-13T02:19:05.606Z"
   },
   {
    "duration": 33,
    "start_time": "2024-09-13T02:19:05.656Z"
   },
   {
    "duration": 7,
    "start_time": "2024-09-13T02:19:05.691Z"
   },
   {
    "duration": 25,
    "start_time": "2024-09-13T02:19:05.699Z"
   },
   {
    "duration": 44,
    "start_time": "2024-09-13T02:19:05.726Z"
   },
   {
    "duration": 9,
    "start_time": "2024-09-13T02:19:05.772Z"
   },
   {
    "duration": 17,
    "start_time": "2024-09-13T02:19:05.783Z"
   },
   {
    "duration": 10,
    "start_time": "2024-09-13T02:19:05.802Z"
   },
   {
    "duration": 28,
    "start_time": "2024-09-13T02:19:05.814Z"
   },
   {
    "duration": 10,
    "start_time": "2024-09-13T02:19:05.857Z"
   },
   {
    "duration": 10,
    "start_time": "2024-09-13T02:19:05.870Z"
   },
   {
    "duration": 64,
    "start_time": "2024-09-13T02:19:05.882Z"
   },
   {
    "duration": 23,
    "start_time": "2024-09-13T02:19:05.952Z"
   },
   {
    "duration": 15,
    "start_time": "2024-09-13T02:19:05.977Z"
   },
   {
    "duration": 13,
    "start_time": "2024-09-13T02:19:05.994Z"
   },
   {
    "duration": 33,
    "start_time": "2024-09-13T02:19:06.009Z"
   },
   {
    "duration": 25,
    "start_time": "2024-09-13T02:19:06.051Z"
   },
   {
    "duration": 14,
    "start_time": "2024-09-13T02:19:06.078Z"
   },
   {
    "duration": 66,
    "start_time": "2024-09-13T02:19:06.094Z"
   },
   {
    "duration": 45,
    "start_time": "2024-09-13T02:19:06.162Z"
   },
   {
    "duration": 54,
    "start_time": "2024-09-13T02:19:06.209Z"
   },
   {
    "duration": 6,
    "start_time": "2024-09-13T02:19:06.265Z"
   },
   {
    "duration": 16,
    "start_time": "2024-09-13T02:19:06.273Z"
   },
   {
    "duration": 55,
    "start_time": "2024-09-13T02:19:06.291Z"
   },
   {
    "duration": 246,
    "start_time": "2024-09-13T02:19:06.352Z"
   },
   {
    "duration": 3,
    "start_time": "2024-09-13T02:19:06.600Z"
   },
   {
    "duration": 204,
    "start_time": "2024-09-13T02:19:06.605Z"
   },
   {
    "duration": 8,
    "start_time": "2024-09-13T02:19:06.811Z"
   },
   {
    "duration": 32,
    "start_time": "2024-09-13T02:19:06.835Z"
   },
   {
    "duration": 10,
    "start_time": "2024-09-13T02:19:06.869Z"
   },
   {
    "duration": 133,
    "start_time": "2024-09-13T02:19:06.881Z"
   },
   {
    "duration": 181,
    "start_time": "2024-09-13T02:19:07.016Z"
   },
   {
    "duration": 8,
    "start_time": "2024-09-13T02:19:07.199Z"
   },
   {
    "duration": 45,
    "start_time": "2024-09-13T02:19:07.209Z"
   },
   {
    "duration": 201,
    "start_time": "2024-09-13T02:19:07.257Z"
   },
   {
    "duration": 10,
    "start_time": "2024-09-13T02:19:07.460Z"
   },
   {
    "duration": 8,
    "start_time": "2024-09-13T02:19:07.472Z"
   },
   {
    "duration": 223,
    "start_time": "2024-09-13T02:19:07.483Z"
   },
   {
    "duration": 6,
    "start_time": "2024-09-13T02:19:07.708Z"
   },
   {
    "duration": 7,
    "start_time": "2024-09-13T02:19:07.716Z"
   },
   {
    "duration": 862,
    "start_time": "2024-09-13T02:25:55.689Z"
   },
   {
    "duration": 10,
    "start_time": "2024-09-13T02:25:56.553Z"
   },
   {
    "duration": 9,
    "start_time": "2024-09-13T02:25:56.565Z"
   },
   {
    "duration": 46,
    "start_time": "2024-09-13T02:25:56.576Z"
   },
   {
    "duration": 83,
    "start_time": "2024-09-13T02:25:56.624Z"
   },
   {
    "duration": 87,
    "start_time": "2024-09-13T02:25:56.710Z"
   },
   {
    "duration": 17,
    "start_time": "2024-09-13T02:25:56.799Z"
   },
   {
    "duration": 41,
    "start_time": "2024-09-13T02:25:56.818Z"
   },
   {
    "duration": 5,
    "start_time": "2024-09-13T02:25:56.861Z"
   },
   {
    "duration": 5,
    "start_time": "2024-09-13T02:25:56.870Z"
   },
   {
    "duration": 17,
    "start_time": "2024-09-13T02:25:56.876Z"
   },
   {
    "duration": 9,
    "start_time": "2024-09-13T02:25:56.894Z"
   },
   {
    "duration": 5,
    "start_time": "2024-09-13T02:25:56.904Z"
   },
   {
    "duration": 4,
    "start_time": "2024-09-13T02:25:56.911Z"
   },
   {
    "duration": 25,
    "start_time": "2024-09-13T02:25:56.932Z"
   },
   {
    "duration": 15,
    "start_time": "2024-09-13T02:25:56.960Z"
   },
   {
    "duration": 9,
    "start_time": "2024-09-13T02:25:56.978Z"
   },
   {
    "duration": 33,
    "start_time": "2024-09-13T02:25:56.989Z"
   },
   {
    "duration": 9,
    "start_time": "2024-09-13T02:25:57.042Z"
   },
   {
    "duration": 30,
    "start_time": "2024-09-13T02:25:57.054Z"
   },
   {
    "duration": 16,
    "start_time": "2024-09-13T02:25:57.086Z"
   },
   {
    "duration": 7,
    "start_time": "2024-09-13T02:25:57.103Z"
   },
   {
    "duration": 42,
    "start_time": "2024-09-13T02:25:57.112Z"
   },
   {
    "duration": 12,
    "start_time": "2024-09-13T02:25:57.163Z"
   },
   {
    "duration": 13,
    "start_time": "2024-09-13T02:25:57.177Z"
   },
   {
    "duration": 8,
    "start_time": "2024-09-13T02:25:57.192Z"
   },
   {
    "duration": 57,
    "start_time": "2024-09-13T02:25:57.201Z"
   },
   {
    "duration": 36,
    "start_time": "2024-09-13T02:25:57.262Z"
   },
   {
    "duration": 17,
    "start_time": "2024-09-13T02:25:57.300Z"
   },
   {
    "duration": 37,
    "start_time": "2024-09-13T02:25:57.318Z"
   },
   {
    "duration": 13,
    "start_time": "2024-09-13T02:25:57.358Z"
   },
   {
    "duration": 20,
    "start_time": "2024-09-13T02:25:57.372Z"
   },
   {
    "duration": 15,
    "start_time": "2024-09-13T02:25:57.393Z"
   },
   {
    "duration": 13,
    "start_time": "2024-09-13T02:25:57.410Z"
   },
   {
    "duration": 63,
    "start_time": "2024-09-13T02:25:57.425Z"
   },
   {
    "duration": 46,
    "start_time": "2024-09-13T02:25:57.489Z"
   },
   {
    "duration": 46,
    "start_time": "2024-09-13T02:25:57.551Z"
   },
   {
    "duration": 7,
    "start_time": "2024-09-13T02:25:57.601Z"
   },
   {
    "duration": 44,
    "start_time": "2024-09-13T02:25:57.610Z"
   },
   {
    "duration": 41,
    "start_time": "2024-09-13T02:25:57.666Z"
   },
   {
    "duration": 260,
    "start_time": "2024-09-13T02:25:57.710Z"
   },
   {
    "duration": 5,
    "start_time": "2024-09-13T02:25:57.971Z"
   },
   {
    "duration": 213,
    "start_time": "2024-09-13T02:25:57.978Z"
   },
   {
    "duration": 8,
    "start_time": "2024-09-13T02:25:58.192Z"
   },
   {
    "duration": 18,
    "start_time": "2024-09-13T02:25:58.202Z"
   },
   {
    "duration": 10,
    "start_time": "2024-09-13T02:25:58.232Z"
   },
   {
    "duration": 138,
    "start_time": "2024-09-13T02:25:58.244Z"
   },
   {
    "duration": 188,
    "start_time": "2024-09-13T02:25:58.384Z"
   },
   {
    "duration": 8,
    "start_time": "2024-09-13T02:25:58.574Z"
   },
   {
    "duration": 12,
    "start_time": "2024-09-13T02:25:58.584Z"
   },
   {
    "duration": 213,
    "start_time": "2024-09-13T02:25:58.597Z"
   },
   {
    "duration": 10,
    "start_time": "2024-09-13T02:25:58.812Z"
   },
   {
    "duration": 11,
    "start_time": "2024-09-13T02:25:58.824Z"
   },
   {
    "duration": 226,
    "start_time": "2024-09-13T02:25:58.837Z"
   },
   {
    "duration": 6,
    "start_time": "2024-09-13T02:25:59.065Z"
   },
   {
    "duration": 8,
    "start_time": "2024-09-13T02:25:59.074Z"
   },
   {
    "duration": 2598,
    "start_time": "2024-09-13T09:06:55.853Z"
   },
   {
    "duration": 10,
    "start_time": "2024-09-13T09:06:58.453Z"
   },
   {
    "duration": 6,
    "start_time": "2024-09-13T09:06:58.465Z"
   },
   {
    "duration": 51,
    "start_time": "2024-09-13T09:06:58.473Z"
   },
   {
    "duration": 91,
    "start_time": "2024-09-13T09:06:58.525Z"
   },
   {
    "duration": 97,
    "start_time": "2024-09-13T09:06:58.617Z"
   },
   {
    "duration": 18,
    "start_time": "2024-09-13T09:06:58.717Z"
   },
   {
    "duration": 7,
    "start_time": "2024-09-13T09:06:58.737Z"
   },
   {
    "duration": 5,
    "start_time": "2024-09-13T09:06:58.746Z"
   },
   {
    "duration": 4,
    "start_time": "2024-09-13T09:06:58.755Z"
   },
   {
    "duration": 13,
    "start_time": "2024-09-13T09:06:58.761Z"
   },
   {
    "duration": 8,
    "start_time": "2024-09-13T09:06:58.776Z"
   },
   {
    "duration": 6,
    "start_time": "2024-09-13T09:06:58.786Z"
   },
   {
    "duration": 39,
    "start_time": "2024-09-13T09:06:58.793Z"
   },
   {
    "duration": 10,
    "start_time": "2024-09-13T09:06:58.834Z"
   },
   {
    "duration": 14,
    "start_time": "2024-09-13T09:06:58.846Z"
   },
   {
    "duration": 9,
    "start_time": "2024-09-13T09:06:58.861Z"
   },
   {
    "duration": 31,
    "start_time": "2024-09-13T09:06:58.871Z"
   },
   {
    "duration": 7,
    "start_time": "2024-09-13T09:06:58.932Z"
   },
   {
    "duration": 25,
    "start_time": "2024-09-13T09:06:58.941Z"
   },
   {
    "duration": 17,
    "start_time": "2024-09-13T09:06:58.967Z"
   },
   {
    "duration": 6,
    "start_time": "2024-09-13T09:06:58.987Z"
   },
   {
    "duration": 47,
    "start_time": "2024-09-13T09:06:58.994Z"
   },
   {
    "duration": 9,
    "start_time": "2024-09-13T09:06:59.042Z"
   },
   {
    "duration": 14,
    "start_time": "2024-09-13T09:06:59.053Z"
   },
   {
    "duration": 9,
    "start_time": "2024-09-13T09:06:59.069Z"
   },
   {
    "duration": 13,
    "start_time": "2024-09-13T09:06:59.080Z"
   },
   {
    "duration": 74,
    "start_time": "2024-09-13T09:06:59.097Z"
   },
   {
    "duration": 18,
    "start_time": "2024-09-13T09:06:59.172Z"
   },
   {
    "duration": 14,
    "start_time": "2024-09-13T09:06:59.192Z"
   },
   {
    "duration": 29,
    "start_time": "2024-09-13T09:06:59.208Z"
   },
   {
    "duration": 20,
    "start_time": "2024-09-13T09:06:59.239Z"
   },
   {
    "duration": 16,
    "start_time": "2024-09-13T09:06:59.261Z"
   },
   {
    "duration": 13,
    "start_time": "2024-09-13T09:06:59.278Z"
   },
   {
    "duration": 66,
    "start_time": "2024-09-13T09:06:59.293Z"
   },
   {
    "duration": 37,
    "start_time": "2024-09-13T09:06:59.361Z"
   },
   {
    "duration": 60,
    "start_time": "2024-09-13T09:06:59.400Z"
   },
   {
    "duration": 6,
    "start_time": "2024-09-13T09:06:59.462Z"
   },
   {
    "duration": 17,
    "start_time": "2024-09-13T09:06:59.469Z"
   },
   {
    "duration": 46,
    "start_time": "2024-09-13T09:06:59.488Z"
   },
   {
    "duration": 169,
    "start_time": "2024-09-13T09:06:59.536Z"
   },
   {
    "duration": 3,
    "start_time": "2024-09-13T09:06:59.706Z"
   },
   {
    "duration": 184,
    "start_time": "2024-09-13T09:06:59.711Z"
   },
   {
    "duration": 9,
    "start_time": "2024-09-13T09:06:59.897Z"
   },
   {
    "duration": 30,
    "start_time": "2024-09-13T09:06:59.907Z"
   },
   {
    "duration": 10,
    "start_time": "2024-09-13T09:06:59.939Z"
   },
   {
    "duration": 121,
    "start_time": "2024-09-13T09:06:59.951Z"
   },
   {
    "duration": 161,
    "start_time": "2024-09-13T09:07:00.074Z"
   },
   {
    "duration": 8,
    "start_time": "2024-09-13T09:07:00.237Z"
   },
   {
    "duration": 12,
    "start_time": "2024-09-13T09:07:00.247Z"
   },
   {
    "duration": 251,
    "start_time": "2024-09-13T09:07:00.260Z"
   },
   {
    "duration": 8,
    "start_time": "2024-09-13T09:07:00.513Z"
   },
   {
    "duration": 14,
    "start_time": "2024-09-13T09:07:00.522Z"
   },
   {
    "duration": 185,
    "start_time": "2024-09-13T09:07:00.537Z"
   },
   {
    "duration": 11,
    "start_time": "2024-09-13T09:07:00.724Z"
   },
   {
    "duration": 8,
    "start_time": "2024-09-13T09:07:00.736Z"
   }
  ],
  "kernelspec": {
   "display_name": "base",
   "language": "python",
   "name": "python3"
  },
  "language_info": {
   "codemirror_mode": {
    "name": "ipython",
    "version": 3
   },
   "file_extension": ".py",
   "mimetype": "text/x-python",
   "name": "python",
   "nbconvert_exporter": "python",
   "pygments_lexer": "ipython3",
   "version": "3.12.4"
  },
  "toc": {
   "base_numbering": 1,
   "nav_menu": {},
   "number_sections": true,
   "sideBar": true,
   "skip_h1_title": false,
   "title_cell": "Table of Contents",
   "title_sidebar": "Contents",
   "toc_cell": false,
   "toc_position": {},
   "toc_section_display": true,
   "toc_window_display": true
  }
 },
 "nbformat": 4,
 "nbformat_minor": 2
}
